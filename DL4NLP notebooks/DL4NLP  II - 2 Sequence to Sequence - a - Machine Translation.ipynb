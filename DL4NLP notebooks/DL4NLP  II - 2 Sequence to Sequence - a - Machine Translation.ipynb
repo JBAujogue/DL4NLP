{
 "cells": [
  {
   "cell_type": "markdown",
   "metadata": {},
   "source": [
    "<div style=\"font-variant: small-caps; \n",
    "      font-weight: normal; \n",
    "      font-size: 30px; \n",
    "      text-align: center; \n",
    "      padding: 15px; \n",
    "      margin: 10px;\">\n",
    "  Deep Learning for NLP\n",
    "  </div> \n",
    "  \n",
    "<div style=\"font-variant: small-caps; \n",
    "      font-weight: normal; \n",
    "      font-size: 30px; \n",
    "      text-align: center; \n",
    "      padding: 15px; \n",
    "      margin: 10px;\">\n",
    "    <font color=orange>II - 2 </font>\n",
    "  Sequence to Sequence\n",
    "  </div> \n",
    "\n",
    "  <div style=\"\n",
    "      font-weight: normal; \n",
    "      font-size: 20px; \n",
    "      text-align: center; \n",
    "      padding: 15px;\">\n",
    "    a. Machine Translation\n",
    "  </div> \n",
    "\n",
    "  <div style=\" float:right; \n",
    "      font-size: 12px; \n",
    "      line-height: 12px; \n",
    "  padding: 10px 15px 8px;\">\n",
    "  Jean-baptiste AUJOGUE\n",
    "  </div> "
   ]
  },
  {
   "cell_type": "markdown",
   "metadata": {},
   "source": [
    "### Part I\n",
    "\n",
    "1. Word Embedding\n",
    "\n",
    "2. Sentence Classification\n",
    "\n",
    "3. Language Modeling\n",
    "\n",
    "4. Sequence Labelling\n",
    "\n",
    "\n",
    "### Part II\n",
    "\n",
    "1. Text Classification\n",
    "\n",
    "2. <font color=orange>**Sequence to sequence**</font>\n",
    "\n",
    "\n",
    "### Part III\n",
    "\n",
    "8. Abstractive Summarization\n",
    "\n",
    "9. Question Answering\n",
    "\n",
    "10. Chatbot\n",
    "\n",
    "\n",
    "</div>\n",
    "\n",
    "***"
   ]
  },
  {
   "cell_type": "markdown",
   "metadata": {},
   "source": [
    "<a id=\"plan\"></a>"
   ]
  },
  {
   "cell_type": "markdown",
   "metadata": {},
   "source": [
    "| | | | |\n",
    "|------|------|------|------|\n",
    "| **Content** | [Corpus](#corpus) | [Modules](#modules) | [Model](#model) | \n",
    "\n",
    "We consider here Machine Translation between English and French. Many corpuses can be found at :\n",
    "\n",
    "- http://www.statmt.org/\n",
    "- https://www.statmt.org/wmt15/translation-task.html\n",
    "- http://casmacat.eu/corpus/global-voices.html\n",
    "- http://www.statmt.org/europarl/\n",
    "\n",
    "Highly optimized repos towards Seq2Seq tasks :\n",
    "- [openNMT](https://github.com/OpenNMT/OpenNMT-py)\n",
    "- [fairseq](https://github.com/pytorch/fairseq)\n",
    "- [this repo](https://github.com/sgrvinod/a-PyTorch-Tutorial-to-Machine-Translation/blob/master/model.py)"
   ]
  },
  {
   "cell_type": "markdown",
   "metadata": {},
   "source": [
    "# Packages"
   ]
  },
  {
   "cell_type": "code",
   "execution_count": 1,
   "metadata": {},
   "outputs": [
    {
     "name": "stderr",
     "output_type": "stream",
     "text": [
      "C:\\ProgramData\\Anaconda3\\lib\\site-packages\\gensim\\utils.py:1197: UserWarning: detected Windows; aliasing chunkize to chunkize_serial\n",
      "  warnings.warn(\"detected Windows; aliasing chunkize to chunkize_serial\")\n"
     ]
    },
    {
     "name": "stdout",
     "output_type": "stream",
     "text": [
      "python version : 3.6.5 |Anaconda, Inc.| (default, Mar 29 2018, 13:32:41) [MSC v.1900 64 bit (AMD64)]\n",
      "pytorch version : 1.5.0\n",
      "DL device : cuda\n"
     ]
    }
   ],
   "source": [
    "from __future__ import unicode_literals, print_function, division\n",
    "\n",
    "import sys\n",
    "import warnings\n",
    "import os\n",
    "from io import open\n",
    "import unicodedata\n",
    "import string\n",
    "import json\n",
    "import time\n",
    "import math\n",
    "import re\n",
    "import random\n",
    "import pickle\n",
    "import copy\n",
    "from unidecode import unidecode\n",
    "import itertools\n",
    "import matplotlib\n",
    "import matplotlib.pyplot as plt\n",
    "\n",
    "\n",
    "# for special math operation\n",
    "from sklearn.preprocessing import normalize\n",
    "\n",
    "\n",
    "# for manipulating data \n",
    "import numpy as np\n",
    "#np.set_printoptions(threshold=np.nan)\n",
    "import pandas as pd\n",
    "import bcolz # see https://bcolz.readthedocs.io/en/latest/intro.html\n",
    "import pickle\n",
    "\n",
    "\n",
    "# for text processing\n",
    "import gensim\n",
    "from gensim.models import KeyedVectors\n",
    "#import spacy\n",
    "import nltk\n",
    "#nltk.download()\n",
    "from nltk.tokenize import sent_tokenize, word_tokenize, RegexpTokenizer\n",
    "from nltk.stem.porter import PorterStemmer\n",
    "\n",
    "\n",
    "# for deep learning\n",
    "import torch\n",
    "import torch.nn as nn\n",
    "from torch.autograd import Variable\n",
    "from torch import optim\n",
    "import torch.nn.functional as F\n",
    "from torch.utils.data import DataLoader\n",
    "device = torch.device(\"cuda\" if torch.cuda.is_available() else \"cpu\")\n",
    "#device = torch.device(\"cpu\")\n",
    "\n",
    "warnings.filterwarnings(\"ignore\")\n",
    "print('python version :', sys.version)\n",
    "print('pytorch version :', torch.__version__)\n",
    "print('DL device :', device)"
   ]
  },
  {
   "cell_type": "code",
   "execution_count": 2,
   "metadata": {},
   "outputs": [],
   "source": [
    "path_to_DL4NLP = os.path.dirname(os.getcwd())\n",
    "path_to_data   = 'D:\\\\data'"
   ]
  },
  {
   "cell_type": "code",
   "execution_count": 3,
   "metadata": {},
   "outputs": [],
   "source": [
    "sys.path.append(path_to_DL4NLP + '\\\\lib')"
   ]
  },
  {
   "cell_type": "markdown",
   "metadata": {},
   "source": [
    "<a id=\"corpus\"></a>"
   ]
  },
  {
   "cell_type": "markdown",
   "metadata": {},
   "source": [
    "# Corpus\n",
    "\n",
    "[Back to top](#plan)\n",
    "\n",
    "Le texte est importé et mis sous forme de liste, où chaque élément représente un texte présenté sous forme d'une liste de mots."
   ]
  },
  {
   "cell_type": "code",
   "execution_count": 4,
   "metadata": {},
   "outputs": [],
   "source": [
    "# data 1\n",
    "with open(path_to_data + '\\\\english-french translation\\\\kaggle1\\\\small_vocab_en.csv', encoding = 'utf8') as f : corpus1_en = f.readlines()\n",
    "with open(path_to_data + '\\\\english-french translation\\\\kaggle1\\\\small_vocab_fr.csv', encoding = 'utf8') as f : corpus1_fr = f.readlines()"
   ]
  },
  {
   "cell_type": "code",
   "execution_count": 5,
   "metadata": {},
   "outputs": [],
   "source": [
    "# data 2\n",
    "# plusieurs versions fr correspondant à une seule phrase en.\n",
    "# donc plus approprié pour fr -> en\n",
    "with open(path_to_data + '\\\\english-french translation\\\\ankiweb\\\\fr_en.txt', encoding = 'utf8') as f : corpus2 = f.readlines()\n",
    "    \n",
    "corpus2 = [s.split('\\t') for\n",
    "           s in corpus2]\n",
    "corpus2_en = [s[0] for s in corpus2]\n",
    "corpus2_fr = [s[1] for s in corpus2]"
   ]
  },
  {
   "cell_type": "code",
   "execution_count": 6,
   "metadata": {},
   "outputs": [],
   "source": [
    "# data 3\n",
    "df = np.load(path_to_data + '\\\\english-french translation\\\\kaggle3\\\\data.npz')\n",
    "with open(path_to_data + '\\\\english-french translation\\\\kaggle3\\\\inp_lang.json')  as json_file: lang0 = json.load(json_file)\n",
    "with open(path_to_data + '\\\\english-french translation\\\\kaggle3\\\\targ_lang.json') as json_file: lang1 = json.load(json_file)"
   ]
  },
  {
   "cell_type": "code",
   "execution_count": 7,
   "metadata": {},
   "outputs": [],
   "source": [
    "infos_en = json.loads(lang0)\n",
    "infos_fr = json.loads(lang1)\n",
    "\n",
    "index2word_en = json.loads(infos_en['config']['index_word'])\n",
    "index2word_fr = json.loads(infos_fr['config']['index_word'])\n",
    "\n",
    "index2word_en['1'] = 'UNK'\n",
    "index2word_en['2'] = 'SOS'\n",
    "index2word_en['3'] = 'EOS'\n",
    "\n",
    "index2word_fr['1'] = 'SOS'\n",
    "index2word_fr['2'] = 'EOS'\n",
    "#word2index_en = json.loads(infos_en['config']['word_index'])\n",
    "#word2index_fr = json.loads(infos_fr['config']['word_index'])"
   ]
  },
  {
   "cell_type": "code",
   "execution_count": 97,
   "metadata": {},
   "outputs": [
    {
     "name": "stdout",
     "output_type": "stream",
     "text": [
      "[('1', 'UNK'), ('2', 'SOS'), ('3', 'EOS'), ('4', 'i'), ('5', 'the')]\n",
      "[('1', 'SOS'), ('2', 'EOS'), ('3', 'je'), ('4', 'de'), ('5', 'pas')]\n"
     ]
    }
   ],
   "source": [
    "print(list(index2word_en.items())[:5])\n",
    "print(list(index2word_fr.items())[:5])"
   ]
  },
  {
   "cell_type": "code",
   "execution_count": 9,
   "metadata": {},
   "outputs": [],
   "source": [
    "data = [df[f] for f in df.files]"
   ]
  },
  {
   "cell_type": "code",
   "execution_count": 10,
   "metadata": {},
   "outputs": [],
   "source": [
    "corpus3_en = [' '.join([index2word_en[str(i)] for i in s if i > 3]) for s in data[0]]\n",
    "corpus3_fr = [' '.join([index2word_fr[str(i)] for i in s if i > 2]) for s in data[1]]"
   ]
  },
  {
   "cell_type": "code",
   "execution_count": 11,
   "metadata": {},
   "outputs": [
    {
     "name": "stdout",
     "output_type": "stream",
     "text": [
      "i lost \n",
      " j'ai perdu\n"
     ]
    }
   ],
   "source": [
    "print(corpus3_en[10], '\\n', corpus3_fr[10])"
   ]
  },
  {
   "cell_type": "code",
   "execution_count": 12,
   "metadata": {},
   "outputs": [
    {
     "name": "stdout",
     "output_type": "stream",
     "text": [
      "121935 121935\n"
     ]
    }
   ],
   "source": [
    "print(len(corpus3_en), len(corpus3_fr))"
   ]
  },
  {
   "cell_type": "code",
   "execution_count": 13,
   "metadata": {},
   "outputs": [],
   "source": [
    "# not implemented\n",
    "# plusieurs versions fr correspondant à une seule phrase en.\n",
    "# donc plus approprié pour fr -> en\n",
    "#df = pd.read_excel(path_to_data + '\\\\english-french translation\\\\kaggle2\\\\eng-french.xlsx', header = 0, encoding = 'unicode')"
   ]
  },
  {
   "cell_type": "code",
   "execution_count": 14,
   "metadata": {},
   "outputs": [],
   "source": [
    "corpus_en = corpus1_en + corpus2_en + corpus3_en\n",
    "corpus_fr = corpus1_fr + corpus2_fr + corpus3_fr"
   ]
  },
  {
   "cell_type": "code",
   "execution_count": 15,
   "metadata": {},
   "outputs": [
    {
     "name": "stdout",
     "output_type": "stream",
     "text": [
      "405232 405232\n"
     ]
    }
   ],
   "source": [
    "print(len(corpus_en), len(corpus_fr))"
   ]
  },
  {
   "cell_type": "code",
   "execution_count": 16,
   "metadata": {
    "scrolled": true
   },
   "outputs": [
    {
     "name": "stdout",
     "output_type": "stream",
     "text": [
      "he saw a old yellow truck .\n",
      " \n",
      " il a vu un vieux camion jaune .\n",
      "\n"
     ]
    }
   ],
   "source": [
    "print(corpus_en[11],'\\n', corpus_fr[11])"
   ]
  },
  {
   "cell_type": "code",
   "execution_count": 17,
   "metadata": {},
   "outputs": [
    {
     "name": "stdout",
     "output_type": "stream",
     "text": [
      "What kind of music did you listen to when you were a teenager? \n",
      " Quelle sorte de musique écoutais-tu lorsque tu étais adolescent ?\n",
      "\n"
     ]
    }
   ],
   "source": [
    "print(corpus_en[280000], '\\n',corpus_fr[280000])"
   ]
  },
  {
   "cell_type": "code",
   "execution_count": 18,
   "metadata": {},
   "outputs": [
    {
     "name": "stdout",
     "output_type": "stream",
     "text": [
      "if someone who does not know your background says that you sound like a native speaker it means they probably noticed something about your speaking that made them realize you were not a native speaker in other words you do not really sound like a native speaker \n",
      " si quelqu'un qui ne connaît pas vos antécédents dit que vous parlez comme un locuteur natif cela veut dire qu'il a probablement remarqué quelque chose à propos de votre élocution qui lui a fait prendre conscience que vous ngêtes pas un locuteur natif en d'autres termes vous ne parlez pas vraiment comme un locuteur natif\n"
     ]
    }
   ],
   "source": [
    "print(corpus_en[-1],'\\n', corpus_fr[-1])"
   ]
  },
  {
   "cell_type": "code",
   "execution_count": 19,
   "metadata": {},
   "outputs": [],
   "source": [
    "def tokenize(s) :\n",
    "    words = word_tokenize(s)\n",
    "    words = [w.lower() for w in words]\n",
    "    return words"
   ]
  },
  {
   "cell_type": "markdown",
   "metadata": {},
   "source": [
    "Avoid long sentences (more than 150 characters or 25 words) with more than 1 ovelapping word between english and french"
   ]
  },
  {
   "cell_type": "code",
   "execution_count": 20,
   "metadata": {},
   "outputs": [],
   "source": [
    "en_fr = [[tokenize(en), tokenize(fr)] for en, fr in zip(corpus_en, corpus_fr)]\n",
    "en_fr = [[en, fr] for en, fr in en_fr if (len(en) > 0 and len(fr) > 0)]"
   ]
  },
  {
   "cell_type": "code",
   "execution_count": 21,
   "metadata": {},
   "outputs": [],
   "source": [
    "fr_en = [[p[1], p[0]] for p in en_fr]"
   ]
  },
  {
   "cell_type": "code",
   "execution_count": 22,
   "metadata": {},
   "outputs": [
    {
     "data": {
      "text/plain": [
       "405232"
      ]
     },
     "execution_count": 22,
     "metadata": {},
     "output_type": "execute_result"
    }
   ],
   "source": [
    "len(en_fr)"
   ]
  },
  {
   "cell_type": "code",
   "execution_count": 23,
   "metadata": {},
   "outputs": [],
   "source": [
    "copies = [w for s in en_fr for w in s[0] if w in s[1]]\n",
    "copies = np.unique(copies)"
   ]
  },
  {
   "cell_type": "code",
   "execution_count": 24,
   "metadata": {},
   "outputs": [
    {
     "data": {
      "text/plain": [
       "1942"
      ]
     },
     "execution_count": 24,
     "metadata": {},
     "output_type": "execute_result"
    }
   ],
   "source": [
    "len(copies)"
   ]
  },
  {
   "cell_type": "markdown",
   "metadata": {},
   "source": [
    "<a id=\"modules\"></a>"
   ]
  },
  {
   "cell_type": "markdown",
   "metadata": {},
   "source": [
    "# 1 Modules\n",
    "\n",
    "### 1.1 Word Embedding module\n",
    "\n",
    "[Back to top](#plan)\n",
    "\n",
    "All details on Word Embedding modules and their pre-training are found in **Part I - 1**. We consider here a FastText model trained following the Skip-Gram training objective."
   ]
  },
  {
   "cell_type": "code",
   "execution_count": 25,
   "metadata": {},
   "outputs": [],
   "source": [
    "from libDL4NLP.models.Word_Embedding import Word2Vec as myWord2Vec\n",
    "from libDL4NLP.models.Word_Embedding import Word2VecConnector\n",
    "from libDL4NLP.utils.Lang import Lang"
   ]
  },
  {
   "cell_type": "code",
   "execution_count": 26,
   "metadata": {},
   "outputs": [],
   "source": [
    "from gensim.models import Word2Vec\n",
    "from gensim.models.fasttext import FastText\n",
    "from gensim.test.utils import datapath, get_tmpfile"
   ]
  },
  {
   "cell_type": "markdown",
   "metadata": {},
   "source": [
    "**Option 1** : Load pretrained"
   ]
  },
  {
   "cell_type": "code",
   "execution_count": 27,
   "metadata": {},
   "outputs": [],
   "source": [
    "# load\n",
    "word2vec_en = FastText.load(get_tmpfile(path_to_DL4NLP + \"\\\\saves\\\\DL4NLP_II2a_w2v_en.model\"))\n",
    "word2vec_fr = FastText.load(get_tmpfile(path_to_DL4NLP + \"\\\\saves\\\\DL4NLP_II2a_w2v_fr.model\"))"
   ]
  },
  {
   "cell_type": "markdown",
   "metadata": {},
   "source": [
    "**Option 2** : Train new model"
   ]
  },
  {
   "cell_type": "code",
   "execution_count": 148,
   "metadata": {},
   "outputs": [],
   "source": [
    "corpus_in  = [['SOS'] + s[0] + ['EOS'] for s in fr_en]\n",
    "corpus_out = [['SOS'] + s[1] + ['EOS'] for s in fr_en]"
   ]
  },
  {
   "cell_type": "code",
   "execution_count": 161,
   "metadata": {},
   "outputs": [],
   "source": [
    "word2vec_fr = FastText(\n",
    "    size = 150, \n",
    "    window = 5, \n",
    "    min_count = 2, \n",
    "    negative = 15,\n",
    "    sg = 1)"
   ]
  },
  {
   "cell_type": "code",
   "execution_count": 162,
   "metadata": {},
   "outputs": [
    {
     "name": "stdout",
     "output_type": "stream",
     "text": [
      "25774\n"
     ]
    }
   ],
   "source": [
    "word2vec_fr.build_vocab(corpus_in)\n",
    "print(len(word2vec_fr.wv.vocab))"
   ]
  },
  {
   "cell_type": "code",
   "execution_count": 163,
   "metadata": {
    "scrolled": true
   },
   "outputs": [],
   "source": [
    "word2vec_fr.train(sentences = corpus_in, \n",
    "                  epochs = 25,\n",
    "                  total_examples = word2vec_fr.corpus_count)"
   ]
  },
  {
   "cell_type": "code",
   "execution_count": 155,
   "metadata": {},
   "outputs": [],
   "source": [
    "word2vec_en = FastText(size = 150, \n",
    "                        window = 5, \n",
    "                        min_count = 1, \n",
    "                        negative = 15,\n",
    "                        sg = 1)"
   ]
  },
  {
   "cell_type": "code",
   "execution_count": 156,
   "metadata": {},
   "outputs": [
    {
     "name": "stdout",
     "output_type": "stream",
     "text": [
      "15074\n"
     ]
    }
   ],
   "source": [
    "word2vec_en.build_vocab(corpus_out)\n",
    "print(len(word2vec_en.wv.vocab))"
   ]
  },
  {
   "cell_type": "code",
   "execution_count": 164,
   "metadata": {},
   "outputs": [],
   "source": [
    "word2vec_en.train(sentences = corpus_out, \n",
    "                   epochs = 25,\n",
    "                   total_examples = word2vec_en.corpus_count)"
   ]
  },
  {
   "cell_type": "code",
   "execution_count": 165,
   "metadata": {},
   "outputs": [],
   "source": [
    "# save\n",
    "#word2vec_en.save(get_tmpfile(path_to_DL4NLP + \"\\\\saves\\\\DL4NLP_II2a_w2v_en.model\"))\n",
    "#word2vec_fr.save(get_tmpfile(path_to_DL4NLP + \"\\\\saves\\\\DL4NLP_II2a_w2v_fr.model\"))"
   ]
  },
  {
   "cell_type": "markdown",
   "metadata": {},
   "source": [
    "### 1.2 Contextualization module\n",
    "\n",
    "[Back to top](#plan)\n",
    "\n",
    "This module consists of a bi-directional _Gated Recurrent Unit_ (GRU) that supports packed sentences :"
   ]
  },
  {
   "cell_type": "code",
   "execution_count": 28,
   "metadata": {},
   "outputs": [],
   "source": [
    "from libDL4NLP.modules import RecurrentEncoder"
   ]
  },
  {
   "cell_type": "markdown",
   "metadata": {},
   "source": [
    "### 1.3 Attention module\n",
    "\n",
    "[Back to top](#plan)\n",
    "\n",
    "<a id=\"attention\"></a>\n",
    "\n",
    "We use here a classical Attention Module :"
   ]
  },
  {
   "cell_type": "code",
   "execution_count": 29,
   "metadata": {},
   "outputs": [],
   "source": [
    "from libDL4NLP.modules import Attention"
   ]
  },
  {
   "cell_type": "markdown",
   "metadata": {},
   "source": [
    "### 1.4 Decoder module\n",
    "\n",
    "[Back to top](#plan)\n",
    "\n",
    "<a id=\"decoder\"></a>\n",
    "\n",
    "#### 1.4.1 Classical Decoder"
   ]
  },
  {
   "cell_type": "code",
   "execution_count": 17,
   "metadata": {},
   "outputs": [],
   "source": [
    "#from libDL4NLP.modules import Decoder"
   ]
  },
  {
   "cell_type": "code",
   "execution_count": 30,
   "metadata": {},
   "outputs": [],
   "source": [
    "class Decoder(nn.Module):\n",
    "    '''Transforms a vector into a sequence of words'''\n",
    "    def __init__(self, word2vec, hidden_dim, \n",
    "                 n_layers = 1,\n",
    "                 dropout = 0.1,\n",
    "                 bound = 25\n",
    "                ):\n",
    "        super(Decoder, self).__init__()\n",
    "        # relevant quantities\n",
    "        self.hidden_dim = hidden_dim\n",
    "        self.n_layers = n_layers\n",
    "        self.bound = bound\n",
    "        # modules\n",
    "        self.word2vec = word2vec\n",
    "        \n",
    "        self.gru = nn.GRU(\n",
    "            word2vec.output_dim,\n",
    "            hidden_dim, \n",
    "            n_layers, \n",
    "            dropout = dropout, \n",
    "            batch_first = True)\n",
    "        \n",
    "        self.out = nn.Linear(\n",
    "            hidden_dim, \n",
    "            word2vec.lang.n_words)\n",
    "        \n",
    "        self.dropout = nn.Dropout(dropout)\n",
    "    \n",
    "    def initWordTensor(self, index_list, device = None) :\n",
    "        word = torch.LongTensor(index_list).view(-1, 1)     # size (batch_size, 1)\n",
    "        word = Variable(word)                               # size (batch_size, 1)\n",
    "        if device is not None : word = word.to(device)      # size (batch_size, 1)\n",
    "        return word\n",
    "        \n",
    "    def generateWord(self, hidden, word):\n",
    "        '''word is a LongTensor with size (batch_size, 1)'''\n",
    "        embedding = self.word2vec.embedding(word)       # size (batch_size, 1, embedding_dim)\n",
    "        embedding = self.dropout(embedding)             # size (batch_size, 1, embedding_dim)\n",
    "        _, hidden = self.gru(embedding, hidden)         # size (n_layers, batch_size, embedding_dim)\n",
    "        vect      = self.out(hidden[-1])                # size (batch_size, lang_size)\n",
    "        return vect, hidden\n",
    "    \n",
    "    def forward(self, hidden, device = None) :\n",
    "        answer = []\n",
    "        EOS_token = self.word2vec.lang.getIndex('EOS')\n",
    "        SOS_token = self.word2vec.lang.getIndex('SOS')\n",
    "        word      = self.initWordTensor([SOS_token], device = device)\n",
    "        hidden    = hidden[-self.n_layers:]             # size (n_layers, 1, hidden_dim)\n",
    "        # word generation\n",
    "        for t in range(self.bound) :\n",
    "            # compute next word proba\n",
    "            vect, hidden = self.generateWord(hidden, word)\n",
    "            # compute next word index\n",
    "            word_index = vect.topk(1, dim = 1)[1].item()\n",
    "            # stopping criterion\n",
    "            if word_index == EOS_token : break\n",
    "            else : \n",
    "                answer.append(word_index)\n",
    "                word = vect.topk(1, dim = 1)[1].view(1, 1)\n",
    "        return answer"
   ]
  },
  {
   "cell_type": "markdown",
   "metadata": {},
   "source": [
    "#### 1.4.2 Attention Decoder"
   ]
  },
  {
   "cell_type": "code",
   "execution_count": 19,
   "metadata": {},
   "outputs": [],
   "source": [
    "#from libDL4NLP.modules import AttnDecoder"
   ]
  },
  {
   "cell_type": "code",
   "execution_count": 31,
   "metadata": {},
   "outputs": [],
   "source": [
    "class AttnDecoder(nn.Module):\n",
    "    '''Transforms a vector into a sequence of words'''\n",
    "    def __init__(self, word2vec, attention_dim, hidden_dim,\n",
    "                 n_layers = 1,\n",
    "                 dropout = 0.1,\n",
    "                 bound = 25\n",
    "                ):\n",
    "        super(AttnDecoder, self).__init__()\n",
    "        # relevant quantities\n",
    "        self.hidden_dim = hidden_dim\n",
    "        self.n_layers = n_layers\n",
    "        self.bound = bound\n",
    "        # modules\n",
    "        self.word2vec = word2vec\n",
    "        \n",
    "        self.gru = nn.GRU(\n",
    "            word2vec.output_dim,\n",
    "            hidden_dim, \n",
    "            n_layers, \n",
    "            dropout = dropout,\n",
    "            batch_first = True)\n",
    "        \n",
    "        self.attn = Attention(\n",
    "            attention_dim, \n",
    "            hidden_dim, \n",
    "            dropout = dropout)\n",
    "        \n",
    "        self.out  = nn.Linear(\n",
    "            attention_dim + hidden_dim, \n",
    "            word2vec.lang.n_words)\n",
    "        \n",
    "        self.dropout = nn.Dropout(dropout)\n",
    "    \n",
    "    def initWordTensor(self, index_list, device = None) :\n",
    "        word = torch.LongTensor(index_list).view(-1, 1)     # size (batch_size, 1)\n",
    "        word = Variable(word)                               # size (batch_size, 1)\n",
    "        if device is not None : word = word.to(device)      # size (batch_size, 1)\n",
    "        return word\n",
    "        \n",
    "    def generateWord(self, hidden, embeddings, word):\n",
    "        '''word is a LongTensor with size (batch_size, 1)'''\n",
    "        # update hidden state\n",
    "        embedding = self.word2vec.embedding(word)       # size (batch_size, 1, embedding_dim)\n",
    "        embedding = self.dropout(embedding)             # size (batch_size, 1, embedding_dim)\n",
    "        _, hidden = self.gru(embedding, hidden)         # size (n_layers, batch_size, embedding_dim)\n",
    "        # merge with attention\n",
    "        query = hidden[-1].unsqueeze(1)                 # size (batch_size, 1, embedding_dim)\n",
    "        query = query.expand(query.size(0), \n",
    "                             embeddings.size(1), \n",
    "                             query.size(2))             # size (batch_size, sequence_length, embedding_dim)\n",
    "        attn, weights = self.attn(embeddings, query)    # size (batch_size, 1, embedding_dim)\n",
    "        merge = torch.cat([hidden[-1], attn.squeeze(1)], dim = 1) \n",
    "        merge = self.dropout(merge)                     # size (batch_size, embedding_dim + hidden_dim)\n",
    "        # generate next word\n",
    "        vect = self.out(merge)                          # size (batch_size, lang_size)\n",
    "        return vect, hidden, weights\n",
    "    \n",
    "    def forward(self, hidden, embeddings, device = None) :\n",
    "        answer  = []\n",
    "        EOS_token = self.word2vec.lang.getIndex('EOS')\n",
    "        SOS_token = self.word2vec.lang.getIndex('SOS')\n",
    "        word      = self.initWordTensor([SOS_token], device = device)\n",
    "        hidden    = hidden[-self.n_layers:]             # size (n_layers, 1, hidden_dim)\n",
    "        # word generation\n",
    "        for t in range(self.bound) :\n",
    "            # compute next word proba\n",
    "            vect, hidden, attn = self.generateWord(hidden, embeddings, word)\n",
    "            # compute next word index\n",
    "            word_index = vect.topk(1, dim = 1)[1].item()\n",
    "            # stopping criterion\n",
    "            if word_index == EOS_token : break\n",
    "            else : \n",
    "                answer.append(word_index)\n",
    "                word = vect.topk(1, dim = 1)[1].view(1, 1)\n",
    "            # cumulate attention weights\n",
    "            if t == 0 : weights = attn\n",
    "            else      : weights = torch.cat((weights, attn), dim = 1) # size(1, output_length, input_length)\n",
    "        return answer, weights"
   ]
  },
  {
   "cell_type": "markdown",
   "metadata": {},
   "source": [
    "#### 1.4.3 Smooth Attention Decoder\n",
    "\n",
    "An Attention Decoder being a smooth function of the encode-to-decode hidden vector.\n",
    "\n",
    "Usefulness of this idea was shown in [Differentiable Scheduled Sampling for Credit Assignment (2017)](https://arxiv.org/pdf/1704.06970.pdf)"
   ]
  },
  {
   "cell_type": "code",
   "execution_count": null,
   "metadata": {},
   "outputs": [],
   "source": [
    "#from libDL4NLP.modules import SmoothAttnDecoder"
   ]
  },
  {
   "cell_type": "code",
   "execution_count": 32,
   "metadata": {},
   "outputs": [],
   "source": [
    "class SmoothAttnDecoder(nn.Module):\n",
    "    '''Transforms a vector into a sequence of words'''\n",
    "    def __init__(self, word2vec, attention_dim, hidden_dim,\n",
    "                 n_layers = 1,\n",
    "                 dropout = 0.1,\n",
    "                 bound = 25\n",
    "                ):\n",
    "        super(SmoothAttnDecoder, self).__init__()\n",
    "        T = word2vec.embedding.weight.cpu().detach().numpy()\n",
    "        # relevant quantities\n",
    "        self.lang_size   = T.shape[0]\n",
    "        self.embedd_dim  = T.shape[1]\n",
    "        self.hidden_dim  = hidden_dim\n",
    "        self.n_layers    = n_layers\n",
    "        self.bound       = bound\n",
    "        self.temperature = 10\n",
    "        # embedding module\n",
    "        self.embedding = nn.Linear(self.lang_size, self.embedd_dim, bias = False)\n",
    "        self.embedding.weight = nn.Parameter(torch.FloatTensor(T.transpose()))\n",
    "        for param in self.embedding.parameters() : param.requires_grad = False\n",
    "        # other modules\n",
    "        self.word2vec = word2vec\n",
    "        self.gru = nn.GRU(self.embedd_dim, \n",
    "                          hidden_dim, \n",
    "                          n_layers, \n",
    "                          dropout = dropout, \n",
    "                          batch_first = True)\n",
    "        self.attn = Attention(attention_dim, hidden_dim, dropout = dropout)\n",
    "        self.out = nn.Linear(attention_dim + hidden_dim, self.lang_size)\n",
    "        self.act = F.log_softmax\n",
    "        self.dropout = nn.Dropout(dropout)\n",
    "\n",
    "    def initWordTensor(self, index_list, device = None) :\n",
    "        word = torch.zeros((len(index_list), self.lang_size), dtype = torch.float)\n",
    "        for i, index in enumerate(index_list) : word[i, index] = 1.\n",
    "        word = Variable(word)                               # size (batch_size, lang_size)\n",
    "        if device is not None : word = word.to(device)      # size (batch_size, lang_size)\n",
    "        return word\n",
    "        \n",
    "    def generateWord(self, hidden, embeddings, word):\n",
    "        '''word is a FloatTensor with size (batch_size, lang_size)'''\n",
    "        # update hidden state\n",
    "        embedding = self.embedding(word.unsqueeze(1))       # size (batch_size, 1, embedding_dim)\n",
    "        embedding = self.dropout(embedding)                 # size (batch_size, 1, embedding_dim)\n",
    "        _, hidden  = self.gru(embedding, hidden)            # size (n_layers, batch_size, embedding_dim)\n",
    "        # merge with attention\n",
    "        query = hidden[-1].unsqueeze(1)                     # size (batch_size, 1, embedding_dim)\n",
    "        query = query.expand(query.size(0), \n",
    "                             embeddings.size(1), \n",
    "                             query.size(2))                 # size (batch_size, sequence_length, embedding_dim)\n",
    "        attn, weights = self.attn(embeddings, query)        # size (batch_size, 1, embedding_dim)\n",
    "        merge = torch.cat([hidden[-1], attn.squeeze(1)], dim = 1) \n",
    "        merge = self.dropout(merge)                         # size (batch_size, embedding_dim + hidden_dim)\n",
    "        # generate next word\n",
    "        vect = self.out(merge) * self.temperature           # size (batch_size, lang_size)\n",
    "        return vect, hidden, weights\n",
    "    \n",
    "    def forward(self, hidden, embeddings, device = None) :\n",
    "        answer  = []\n",
    "        EOS_token = self.word2vec.lang.getIndex('EOS')\n",
    "        SOS_token = self.word2vec.lang.getIndex('SOS')\n",
    "        word      = self.initWordTensor([SOS_token], device = device) \n",
    "        hidden    = hidden[-self.n_layers:]                 # size (n_layers, 1, hidden_dim)\n",
    "        # word generation\n",
    "        for t in range(self.bound) :\n",
    "            # compute next word proba\n",
    "            vect, hidden, attn = self.generateWord(hidden, embeddings, word)\n",
    "            # compute next word index\n",
    "            word_index = vect.topk(1, dim = 1)[1].item()\n",
    "            # stopping criterion\n",
    "            if word_index == EOS_token : break\n",
    "            else : \n",
    "                answer.append(word_index)\n",
    "                word = F.softmax(vect, dim = 1)             # size (1, lang_size)\n",
    "            # cumulate attention weights\n",
    "            if t == 0 : weights = attn\n",
    "            else      : weights = torch.cat((weights, attn), dim = 1) # size(1, output_length, input_length)\n",
    "        return answer, weights"
   ]
  },
  {
   "cell_type": "markdown",
   "metadata": {},
   "source": [
    "#### Visualisation of attention\n",
    "\n",
    "Taken from [this page](https://matplotlib.org/3.1.1/gallery/images_contours_and_fields/image_annotated_heatmap.html#sphx-glr-gallery-images-contours-and-fields-image-annotated-heatmap-py)"
   ]
  },
  {
   "cell_type": "code",
   "execution_count": 33,
   "metadata": {},
   "outputs": [],
   "source": [
    "from libDL4NLP.utils import AttentionViewer, AttentionViewerOnWords"
   ]
  },
  {
   "cell_type": "markdown",
   "metadata": {},
   "source": [
    "<a id=\"model\"></a>"
   ]
  },
  {
   "cell_type": "markdown",
   "metadata": {},
   "source": [
    "# 2 Encoder-Decoder Model\n",
    "\n",
    "[Back to top](#plan)\n"
   ]
  },
  {
   "cell_type": "code",
   "execution_count": null,
   "metadata": {},
   "outputs": [],
   "source": [
    "#from libDL4NLP.models import EncoderDecoder"
   ]
  },
  {
   "cell_type": "code",
   "execution_count": 34,
   "metadata": {},
   "outputs": [],
   "source": [
    "class EncoderDecoder(nn.Module) :\n",
    "    def __init__(self, device, tokenizer, word2vec_in, word2vec_out, \n",
    "                 hidden_dim_in = 50,\n",
    "                 hidden_dim_out = 50,\n",
    "                 n_layers_in = 1,\n",
    "                 n_layers_out = 1,\n",
    "                 bound = 25,\n",
    "                 dropout = 0,\n",
    "                 decoder_warm_start = True,\n",
    "                 decoder_type = None,\n",
    "                 optimizer = optim.SGD\n",
    "                 ):\n",
    "        super(EncoderDecoder, self).__init__()\n",
    "        #relevant quantities\n",
    "        self.decoder_warm_start = decoder_warm_start\n",
    "        self.decoder_type = decoder_type\n",
    "        # modules\n",
    "        self.tokenizer    = tokenizer\n",
    "        self.word2vec_in  = word2vec_in\n",
    "        self.word2vec_out = word2vec_out\n",
    "        \n",
    "        self.context      = RecurrentEncoder(\n",
    "            embedding_dim = word2vec_in.output_dim,\n",
    "            hidden_dim    = hidden_dim_in,\n",
    "            n_layers      = n_layers_in,\n",
    "            dropout       = dropout, \n",
    "            bidirectional = True)\n",
    "\n",
    "        if self.decoder_type == 'smooth' : \n",
    "            self.decoder      = SmoothAttnDecoder(\n",
    "                word2vec      = word2vec_out, \n",
    "                attention_dim = hidden_dim_in, \n",
    "                hidden_dim    = hidden_dim_out, \n",
    "                n_layers      = n_layers_out, \n",
    "                dropout       = dropout, \n",
    "                bound         = bound)\n",
    "            \n",
    "        elif self.decoder_type == 'attention' : \n",
    "            self.decoder = AttnDecoder(\n",
    "                word2vec      = word2vec_out, \n",
    "                attention_dim = hidden_dim_in, \n",
    "                hidden_dim    = hidden_dim_out, \n",
    "                n_layers      = n_layers_out, \n",
    "                dropout       = dropout, \n",
    "                bound         = bound)\n",
    "            \n",
    "        else : \n",
    "            self.decoder = Decoder(\n",
    "                word2vec    = word2vec_out,  \n",
    "                hidden_dim  = hidden_dim_out, \n",
    "                n_layers    = n_layers_out, \n",
    "                dropout     = dropout, \n",
    "                bound       = bound)\n",
    "        \n",
    "        # optimizer\n",
    "        self.ignore_index_in  = self.word2vec_in.lang.getIndex('PADDING_WORD')\n",
    "        self.ignore_index_out = self.word2vec_out.lang.getIndex('PADDING_WORD')\n",
    "        self.criterion = nn.NLLLoss(size_average = False, ignore_index = self.ignore_index_out)\n",
    "        self.optimizer = optimizer\n",
    "        \n",
    "        # load to device\n",
    "        self.device = device\n",
    "        self.to(device)\n",
    "        \n",
    "    def nbParametres(self) :\n",
    "        return sum([p.data.nelement() for p in self.parameters() if p.requires_grad == True])\n",
    "    \n",
    "    # main method\n",
    "    def forward(self, sentence, attention_method = None):\n",
    "        # encode sentence\n",
    "        words = self.tokenizer(sentence)\n",
    "        words = [w for w in words if self.word2vec_in.lang.getIndex(w) is not None]\n",
    "        indices = [self.word2vec_in.lang.getIndex(w) for w in words]\n",
    "        embeddings = Variable(torch.LongTensor([indices])).to(self.device)\n",
    "        embeddings = self.word2vec_in.embedding(embeddings)\n",
    "        #embeddings = self.word2vec_in(words, self.device)\n",
    "        embeddings, hidden  = self.context(embeddings)\n",
    "        # prepare for decoding\n",
    "        if self.decoder_warm_start :\n",
    "            if self.context.bidirectional :\n",
    "                hidden = hidden.view(self.context.n_layers, 2, -1, self.context.hidden_dim)\n",
    "                hidden = torch.sum(hidden, dim = 1) # size (n_layers, batch_size, hidden_dim)\n",
    "            hidden = hidden[-self.decoder.n_layers:]\n",
    "        else : hidden = None    \n",
    "        # compute answer\n",
    "        if self.decoder_type in ['smooth', 'attention'] : \n",
    "            indices, attn = self.decoder(hidden, embeddings, self.device)\n",
    "            words_out = [self.word2vec_out.lang.index2word[i] for i in indices]\n",
    "            # display attention\n",
    "            if attention_method is not None : \n",
    "                attn = np.array(attn[0].data.cpu().numpy()) # size (input_length, output_length)\n",
    "                attention_method(attn, words_out, words)\n",
    "        else :\n",
    "            indices   = self.decoder(hidden, self.device)\n",
    "            words_out = [self.word2vec_out.lang.index2word[i] for i in indices]\n",
    "        # convert answer to string\n",
    "        answer = ' '.join(words_out)\n",
    "        return answer\n",
    "\n",
    "    # load data\n",
    "    def generatePackedSentences(self, sentences, batch_size = 32) : \n",
    "        '''forms minibatches of sentences, where input sentences must be pre-tokenized'''\n",
    "        sentences.sort(key = lambda s: len(s[1]), reverse = True)\n",
    "        packed_data = []\n",
    "        for i in range(0, len(sentences), batch_size) :\n",
    "            # prepare input and target pack\n",
    "            pack = sentences[i:i + batch_size]\n",
    "            pack.sort(key = lambda s: len(s[0]), reverse = True)\n",
    "            pack0 = [[self.word2vec_in.lang.getIndex(w) for w in qa[0]] for qa in pack]\n",
    "            pack0 = [[w for w in words if w is not None] for words in pack0]\n",
    "            pack1 = [[self.word2vec_out.lang.getIndex(w) for w in qa[1] + ['EOS']] for qa in pack]\n",
    "            pack1 = [[w for w in words if w is not None] for words in pack1]\n",
    "            lengths0 = torch.tensor([len(p) for p in pack0])           # size (batch_size) \n",
    "            lengths1 = torch.tensor([len(p) for p in pack1])           # size (batch_size) \n",
    "            # padd packs\n",
    "            pack0 = list(itertools.zip_longest(*pack0, fillvalue = self.ignore_index_in))\n",
    "            pack0 = Variable(torch.LongTensor(pack0).transpose(0, 1)) # size (batch_size, max_length0) \n",
    "            pack1 = list(itertools.zip_longest(*pack1, fillvalue = self.ignore_index_out))\n",
    "            pack1 = Variable(torch.LongTensor(pack1))       # WARNING : size (max_length1, batch_size) \n",
    "            packed_data.append([pack0, lengths0, pack1, lengths1])\n",
    "        return packed_data\n",
    "    \n",
    "    # compute model perf\n",
    "    def compute_accuracy(self, sentences, batch_size = 32) :\n",
    "        def compute_batch_accuracy(batch) :\n",
    "            torch.cuda.empty_cache()\n",
    "            input, input_l, target, target_l = batch\n",
    "            target = target.to(self.device)\n",
    "            # encode sentences\n",
    "            embeddings = self.word2vec_in.embedding(input.to(self.device))\n",
    "            embeddings, hidden = self.context(embeddings, lengths = input_l.to(self.device)) # size (n_layers * num_directions, batch_size, hidden_dim)\n",
    "            # prepare for decoding\n",
    "            if self.decoder_warm_start :\n",
    "                if self.context.bidirectional :\n",
    "                    hidden = hidden.view(self.context.n_layers, 2, -1, self.context.hidden_dim)\n",
    "                    hidden = torch.sum(hidden, dim = 1) # size (n_layers, batch_size, hidden_dim)\n",
    "                hidden = hidden[-self.decoder.n_layers:]\n",
    "            else : hidden = None  \n",
    "            # compute answers\n",
    "            answers   = torch.zeros(target.size(), dtype = torch.long)\n",
    "            SOS_token = self.word2vec_out.lang.getIndex('SOS')\n",
    "            word      = self.decoder.initWordTensor([SOS_token]*target.size(1), device = self.device) \n",
    "            # word generation\n",
    "            for t in range(target.size(0)) :\n",
    "                # compute word probs\n",
    "                if self.decoder_type == 'smooth' :\n",
    "                    vect, hidden, attn = self.decoder.generateWord(hidden, embeddings, word)\n",
    "                    word = F.softmax(vect, dim = 1)   # size (batch_size, lang_size)\n",
    "                    best = vect.topk(1, dim = 1)[1]   # size (batch_size, 1)\n",
    "                elif self.decoder_type == 'attention' :\n",
    "                    vect, hidden, attn = self.decoder.generateWord(hidden, embeddings, word)\n",
    "                    word = vect.topk(1, dim = 1)[1]   # size (batch_size, 1)\n",
    "                    best = word                       # size (batch_size, 1)\n",
    "                else :\n",
    "                    vect, hidden = self.decoder.generateWord(hidden, word)\n",
    "                    word = vect.topk(1, dim = 1)[1]   # size (batch_size, 1)\n",
    "                    best = word                       # size (batch_size, 1)\n",
    "                answers[t] = best.view(-1)\n",
    "            # compute score\n",
    "            score = sum([sum(answers[:l, i].data.cpu() == target[:l, i].data.cpu()) == l \n",
    "                          for i, l in enumerate(target_l.data.cpu().tolist())]).item()\n",
    "            return score\n",
    "        \n",
    "        # -- main --\n",
    "        batches = self.generatePackedSentences(sentences, batch_size)\n",
    "        score = 0\n",
    "        for batch in batches : score += compute_batch_accuracy(batch)\n",
    "        return score * 100 / len(sentences)\n",
    "    \n",
    "    # fit model\n",
    "    def fit(self, batches, iters = None, epochs = None, tf_ratio = 0, lr = 0.025, random_state = 42,\n",
    "              print_every = 10, compute_accuracy = True):\n",
    "        \"\"\"Performs training over a given dataset and along a specified amount of loops\"\"\"\n",
    "        def asMinutes(s):\n",
    "            m = math.floor(s / 60)\n",
    "            s -= m * 60\n",
    "            return '%dm %ds' % (m, s)\n",
    "\n",
    "        def timeSince(since, percent):\n",
    "            now = time.time()\n",
    "            s = now - since\n",
    "            rs = s/percent - s\n",
    "            return '%s (- %s)' % (asMinutes(s), asMinutes(rs))\n",
    "        \n",
    "        def computeSuccess(log_prob, targets) :\n",
    "            success = sum([self.ignore_index_out != targets[i].item() == log_prob[i].topk(1)[1].item() \\\n",
    "                           for i in range(targets.size(0))])\n",
    "            return success\n",
    "        \n",
    "        def computeLogProbs(batch, tf_ratio = 0, compute_accuracy = True) :\n",
    "            torch.cuda.empty_cache()\n",
    "            loss = 0\n",
    "            success = 0\n",
    "            forcing = (random.random() < tf_ratio)\n",
    "            input, input_l, target, target_l = batch\n",
    "            target = target.to(self.device)\n",
    "            # encode sentences\n",
    "            embeddings = self.word2vec_in.embedding(input.to(self.device))\n",
    "            embeddings, hidden  = self.context(embeddings, lengths = input_l.to(self.device)) # size (n_layers * num_directions, batch_size, hidden_dim)\n",
    "            # prepare for decoding\n",
    "            if self.decoder_warm_start :\n",
    "                if self.context.bidirectional :\n",
    "                    hidden = hidden.view(self.context.n_layers, 2, -1, self.context.hidden_dim)\n",
    "                    hidden = torch.sum(hidden, dim = 1) # size (n_layers, batch_size, hidden_dim)\n",
    "                hidden = hidden[-self.decoder.n_layers:]\n",
    "            else : hidden = None  \n",
    "            # compute answers\n",
    "            SOS_token = self.word2vec_out.lang.getIndex('SOS')\n",
    "            word      = self.decoder.initWordTensor([SOS_token]*target.size(1), device = self.device) \n",
    "            for t in range(target.size(0)) :\n",
    "                if self.decoder_type == 'smooth' :\n",
    "                    vect, hidden, attn = self.decoder.generateWord(hidden, embeddings, word)\n",
    "                    # apply teacher forcing\n",
    "                    if forcing : word = self.decoder.initWordTensor(target[t].data.tolist(), device = self.device) # size (batch_size, 1) \n",
    "                    else       : word = F.softmax(vect, dim = 1) # size (batch_size, lang_size)\n",
    "                    \n",
    "                elif self.decoder_type == 'attention' :\n",
    "                    vect, hidden, attn = self.decoder.generateWord(hidden, embeddings, word)\n",
    "                    # apply teacher forcing\n",
    "                    if forcing : word = target[t].view(-1, 1)    # size (batch_size, 1) \n",
    "                    else       : word = vect.topk(1, dim = 1)[1] # size (batch_size, 1)\n",
    "                        \n",
    "                else :\n",
    "                    vect, hidden = self.decoder.generateWord(hidden, word)\n",
    "                    # apply teacher forcing\n",
    "                    if forcing : word = target[t].view(-1, 1)    # size (batch_size, 1) \n",
    "                    else       : word = vect.topk(1, dim = 1)[1] # size (batch_size, 1)\n",
    "                \n",
    "                # compute loss\n",
    "                log_prob = F.log_softmax(vect, dim = 1)\n",
    "                loss    += self.criterion(log_prob, target[t])\n",
    "                if compute_accuracy : success += computeSuccess(log_prob, target[t])\n",
    "            return loss, success\n",
    "\n",
    "        def printScores(start, iter, iters, tot_loss, tot_loss_words, print_every, compute_accuracy) :\n",
    "            avg_loss = tot_loss / print_every\n",
    "            avg_loss_words = tot_loss_words / print_every\n",
    "            if compute_accuracy : print(timeSince(start, iter / iters) + ' ({} {}%) loss : {:.3f}  accuracy : {:.1f} %'.format(iter, int(iter / iters * 100), avg_loss, avg_loss_words))\n",
    "            else                : print(timeSince(start, iter / iters) + ' ({} {}%) loss : {:.3f}                     '.format(iter, int(iter / iters * 100), avg_loss))\n",
    "            return 0, 0\n",
    "\n",
    "        def trainLoop(batch, optimizer, tf_ratio = 0, compute_accuracy = True):\n",
    "            \"\"\"Performs a training loop, with forward pass, backward pass and weight update\"\"\"\n",
    "            optimizer.zero_grad()\n",
    "            self.zero_grad()\n",
    "            total = torch.sum(batch[-1]).item()\n",
    "            loss, success = computeLogProbs(batch, tf_ratio, compute_accuracy)\n",
    "            loss.backward()\n",
    "            optimizer.step()\n",
    "            return float(loss.item() / total), float(success * 100 / total)\n",
    "        \n",
    "        # --- main ---\n",
    "        self.train()\n",
    "        np.random.seed(random_state)\n",
    "        start = time.time()\n",
    "        optimizer = self.optimizer([param for param in self.parameters() if param.requires_grad == True], lr = lr)\n",
    "        tot_loss = 0  \n",
    "        tot_acc  = 0\n",
    "        if epochs is None :\n",
    "            for iter in range(1, iters + 1):\n",
    "                batch = random.choice(batches)\n",
    "                loss, acc = trainLoop(batch, optimizer, tf_ratio, compute_accuracy)\n",
    "                tot_loss += loss\n",
    "                tot_acc += acc      \n",
    "                if iter % print_every == 0 : \n",
    "                    tot_loss, tot_acc = printScores(start, iter, iters, tot_loss, tot_acc, print_every, compute_accuracy)\n",
    "        else :\n",
    "            iter = 0\n",
    "            iters = len(batches) * epochs\n",
    "            for epoch in range(1, epochs + 1):\n",
    "                print('epoch ' + str(epoch))\n",
    "                np.random.shuffle(batches)\n",
    "                for batch in batches :\n",
    "                    loss, acc = trainLoop(batch, optimizer, tf_ratio, compute_accuracy)\n",
    "                    tot_loss += loss\n",
    "                    tot_acc += acc \n",
    "                    iter += 1\n",
    "                    if iter % print_every == 0 : \n",
    "                        tot_loss, tot_acc = printScores(start, iter, iters, tot_loss, tot_acc, print_every, compute_accuracy)\n",
    "        return"
   ]
  },
  {
   "cell_type": "markdown",
   "metadata": {},
   "source": [
    "#### Training"
   ]
  },
  {
   "cell_type": "code",
   "execution_count": 35,
   "metadata": {
    "scrolled": true
   },
   "outputs": [
    {
     "data": {
      "text/plain": [
       "13167976"
      ]
     },
     "execution_count": 35,
     "metadata": {},
     "output_type": "execute_result"
    }
   ],
   "source": [
    "translator_fr_en = EncoderDecoder(\n",
    "    device = torch.device(\"cpu\"),                   \n",
    "    tokenizer = tokenize,\n",
    "    word2vec_in = Word2VecConnector(word2vec_fr),\n",
    "    word2vec_out = Word2VecConnector(word2vec_en),\n",
    "    hidden_dim_in = 300,\n",
    "    hidden_dim_out = 300,\n",
    "    n_layers_in = 2,\n",
    "    n_layers_out = 2,\n",
    "    bound = 25,\n",
    "    dropout = 0.1,\n",
    "    decoder_warm_start = True,\n",
    "    decoder_type = 'attention',\n",
    "    optimizer = optim.AdamW)\n",
    "\n",
    "translator_fr_en.nbParametres()"
   ]
  },
  {
   "cell_type": "code",
   "execution_count": 36,
   "metadata": {},
   "outputs": [
    {
     "data": {
      "text/plain": [
       "<All keys matched successfully>"
      ]
     },
     "execution_count": 36,
     "metadata": {},
     "output_type": "execute_result"
    }
   ],
   "source": [
    "# load\n",
    "translator_fr_en.load_state_dict(torch.load(path_to_DL4NLP + '\\\\saves\\\\DL4NLP_II2a_encoder_attndecoder_fr_en.pth'))"
   ]
  },
  {
   "cell_type": "code",
   "execution_count": 37,
   "metadata": {},
   "outputs": [
    {
     "data": {
      "text/plain": [
       "12664"
      ]
     },
     "execution_count": 37,
     "metadata": {},
     "output_type": "execute_result"
    }
   ],
   "source": [
    "batches = translator_fr_en.generatePackedSentences(fr_en, batch_size = 32)\n",
    "len(batches)"
   ]
  },
  {
   "cell_type": "code",
   "execution_count": null,
   "metadata": {
    "scrolled": true
   },
   "outputs": [],
   "source": [
    "translator_fr_en.fit(batches, epochs = 1, lr = 0.001, tf_ratio = 0.75, print_every = 25, random_state = 42)\n",
    "translator_fr_en.fit(batches, epochs = 1, lr = 0.0001, tf_ratio = 0.75, print_every = 25, random_state = 421)"
   ]
  },
  {
   "cell_type": "code",
   "execution_count": 39,
   "metadata": {
    "scrolled": true
   },
   "outputs": [
    {
     "name": "stdout",
     "output_type": "stream",
     "text": [
      "epoch 1\n",
      "0m 31s (- 264m 48s) (25 0%) loss : 0.685  accuracy : 85.0 %\n",
      "1m 5s (- 274m 22s) (50 0%) loss : 0.810  accuracy : 82.7 %\n",
      "1m 35s (- 267m 26s) (75 0%) loss : 0.863  accuracy : 81.7 %\n",
      "2m 7s (- 267m 11s) (100 0%) loss : 0.980  accuracy : 79.6 %\n",
      "2m 38s (- 265m 33s) (125 0%) loss : 1.015  accuracy : 79.4 %\n",
      "3m 11s (- 266m 14s) (150 1%) loss : 0.946  accuracy : 80.5 %\n",
      "3m 45s (- 267m 48s) (175 1%) loss : 0.757  accuracy : 83.3 %\n",
      "4m 21s (- 271m 29s) (200 1%) loss : 0.851  accuracy : 81.8 %\n",
      "4m 52s (- 269m 35s) (225 1%) loss : 0.836  accuracy : 83.7 %\n",
      "5m 30s (- 273m 24s) (250 1%) loss : 0.533  accuracy : 88.3 %\n",
      "6m 2s (- 271m 50s) (275 2%) loss : 0.662  accuracy : 85.4 %\n",
      "6m 38s (- 273m 40s) (300 2%) loss : 0.528  accuracy : 87.4 %\n",
      "7m 13s (- 274m 36s) (325 2%) loss : 0.716  accuracy : 84.5 %\n",
      "7m 44s (- 272m 36s) (350 2%) loss : 0.918  accuracy : 80.9 %\n",
      "8m 20s (- 273m 27s) (375 2%) loss : 0.952  accuracy : 79.6 %\n",
      "8m 59s (- 275m 43s) (400 3%) loss : 0.832  accuracy : 83.1 %\n",
      "9m 35s (- 276m 15s) (425 3%) loss : 0.771  accuracy : 84.1 %\n",
      "10m 9s (- 275m 34s) (450 3%) loss : 1.008  accuracy : 79.8 %\n",
      "10m 50s (- 278m 20s) (475 3%) loss : 0.703  accuracy : 84.5 %\n",
      "11m 22s (- 276m 46s) (500 3%) loss : 0.733  accuracy : 83.9 %\n",
      "11m 54s (- 275m 30s) (525 4%) loss : 0.759  accuracy : 83.8 %\n",
      "12m 29s (- 275m 6s) (550 4%) loss : 1.067  accuracy : 79.1 %\n",
      "13m 5s (- 275m 8s) (575 4%) loss : 0.696  accuracy : 85.3 %\n",
      "13m 39s (- 274m 33s) (600 4%) loss : 0.850  accuracy : 81.9 %\n",
      "14m 11s (- 273m 30s) (625 4%) loss : 0.578  accuracy : 87.2 %\n",
      "14m 46s (- 273m 5s) (650 5%) loss : 0.702  accuracy : 84.7 %\n",
      "15m 23s (- 273m 23s) (675 5%) loss : 0.621  accuracy : 86.0 %\n",
      "15m 54s (- 271m 55s) (700 5%) loss : 0.983  accuracy : 79.3 %\n",
      "16m 28s (- 271m 24s) (725 5%) loss : 0.629  accuracy : 85.7 %\n",
      "17m 7s (- 272m 0s) (750 5%) loss : 0.425  accuracy : 90.0 %\n",
      "17m 43s (- 271m 49s) (775 6%) loss : 0.535  accuracy : 88.1 %\n",
      "18m 15s (- 270m 39s) (800 6%) loss : 0.701  accuracy : 84.7 %\n",
      "18m 50s (- 270m 21s) (825 6%) loss : 0.534  accuracy : 88.3 %\n",
      "19m 22s (- 269m 16s) (850 6%) loss : 0.894  accuracy : 81.3 %\n",
      "20m 1s (- 269m 46s) (875 6%) loss : 0.547  accuracy : 87.9 %\n",
      "20m 33s (- 268m 48s) (900 7%) loss : 0.843  accuracy : 82.1 %\n",
      "21m 7s (- 268m 4s) (925 7%) loss : 0.584  accuracy : 87.0 %\n",
      "21m 39s (- 267m 3s) (950 7%) loss : 0.888  accuracy : 81.5 %\n",
      "22m 14s (- 266m 41s) (975 7%) loss : 0.758  accuracy : 83.3 %\n",
      "22m 51s (- 266m 37s) (1000 7%) loss : 0.764  accuracy : 84.2 %\n",
      "23m 22s (- 265m 25s) (1025 8%) loss : 0.899  accuracy : 81.1 %\n",
      "23m 56s (- 264m 52s) (1050 8%) loss : 0.726  accuracy : 84.1 %\n",
      "24m 29s (- 264m 4s) (1075 8%) loss : 0.877  accuracy : 80.6 %\n",
      "25m 0s (- 262m 56s) (1100 8%) loss : 0.871  accuracy : 81.5 %\n",
      "25m 33s (- 262m 5s) (1125 8%) loss : 0.885  accuracy : 81.8 %\n",
      "26m 3s (- 260m 52s) (1150 9%) loss : 1.017  accuracy : 79.9 %\n",
      "26m 38s (- 260m 33s) (1175 9%) loss : 0.554  accuracy : 87.6 %\n",
      "27m 15s (- 260m 24s) (1200 9%) loss : 0.776  accuracy : 83.8 %\n",
      "27m 47s (- 259m 33s) (1225 9%) loss : 0.808  accuracy : 82.5 %\n",
      "28m 25s (- 259m 33s) (1250 9%) loss : 0.635  accuracy : 86.0 %\n",
      "29m 0s (- 259m 5s) (1275 10%) loss : 0.818  accuracy : 83.4 %\n",
      "29m 34s (- 258m 31s) (1300 10%) loss : 0.598  accuracy : 87.1 %\n",
      "30m 8s (- 257m 53s) (1325 10%) loss : 0.745  accuracy : 83.7 %\n",
      "30m 39s (- 256m 53s) (1350 10%) loss : 0.771  accuracy : 83.4 %\n",
      "31m 13s (- 256m 25s) (1375 10%) loss : 1.000  accuracy : 79.4 %\n",
      "31m 49s (- 256m 2s) (1400 11%) loss : 0.663  accuracy : 85.5 %\n",
      "32m 26s (- 255m 50s) (1425 11%) loss : 0.687  accuracy : 85.6 %\n",
      "32m 58s (- 255m 4s) (1450 11%) loss : 1.009  accuracy : 80.0 %\n",
      "33m 30s (- 254m 11s) (1475 11%) loss : 0.813  accuracy : 83.1 %\n",
      "34m 0s (- 253m 3s) (1500 11%) loss : 1.011  accuracy : 79.8 %\n",
      "34m 34s (- 252m 32s) (1525 12%) loss : 0.638  accuracy : 86.2 %\n",
      "35m 7s (- 251m 49s) (1550 12%) loss : 1.008  accuracy : 79.0 %\n",
      "35m 41s (- 251m 14s) (1575 12%) loss : 1.000  accuracy : 79.6 %\n",
      "36m 14s (- 250m 37s) (1600 12%) loss : 0.773  accuracy : 83.9 %\n",
      "36m 46s (- 249m 51s) (1625 12%) loss : 0.990  accuracy : 79.9 %\n",
      "37m 21s (- 249m 25s) (1650 13%) loss : 0.695  accuracy : 84.4 %\n",
      "37m 51s (- 248m 22s) (1675 13%) loss : 0.949  accuracy : 80.1 %\n",
      "38m 28s (- 248m 11s) (1700 13%) loss : 0.554  accuracy : 88.2 %\n",
      "39m 3s (- 247m 38s) (1725 13%) loss : 0.808  accuracy : 83.0 %\n",
      "39m 36s (- 246m 59s) (1750 13%) loss : 0.777  accuracy : 83.1 %\n",
      "40m 12s (- 246m 42s) (1775 14%) loss : 0.750  accuracy : 83.8 %\n",
      "40m 50s (- 246m 32s) (1800 14%) loss : 0.539  accuracy : 87.4 %\n",
      "41m 29s (- 246m 22s) (1825 14%) loss : 0.728  accuracy : 84.8 %\n",
      "42m 6s (- 246m 8s) (1850 14%) loss : 0.990  accuracy : 79.4 %\n",
      "42m 40s (- 245m 32s) (1875 14%) loss : 0.841  accuracy : 82.8 %\n",
      "43m 14s (- 244m 56s) (1900 15%) loss : 0.683  accuracy : 84.6 %\n",
      "43m 46s (- 244m 11s) (1925 15%) loss : 0.901  accuracy : 81.9 %\n",
      "44m 29s (- 244m 24s) (1950 15%) loss : 0.706  accuracy : 85.7 %\n",
      "45m 5s (- 244m 0s) (1975 15%) loss : 0.586  accuracy : 87.8 %\n",
      "45m 37s (- 243m 16s) (2000 15%) loss : 0.862  accuracy : 81.4 %\n",
      "46m 11s (- 242m 39s) (2025 15%) loss : 0.733  accuracy : 83.6 %\n",
      "46m 43s (- 241m 54s) (2050 16%) loss : 0.953  accuracy : 79.2 %\n",
      "47m 19s (- 241m 29s) (2075 16%) loss : 0.954  accuracy : 79.7 %\n",
      "47m 57s (- 241m 13s) (2100 16%) loss : 0.420  accuracy : 89.8 %\n",
      "48m 26s (- 240m 17s) (2125 16%) loss : 0.891  accuracy : 81.1 %\n",
      "48m 58s (- 239m 29s) (2150 16%) loss : 0.786  accuracy : 84.3 %\n",
      "49m 31s (- 238m 49s) (2175 17%) loss : 0.576  accuracy : 87.6 %\n",
      "50m 6s (- 238m 18s) (2200 17%) loss : 0.812  accuracy : 84.1 %\n",
      "50m 39s (- 237m 40s) (2225 17%) loss : 0.902  accuracy : 81.0 %\n",
      "51m 9s (- 236m 48s) (2250 17%) loss : 1.236  accuracy : 75.7 %\n",
      "51m 43s (- 236m 11s) (2275 17%) loss : 0.856  accuracy : 81.5 %\n",
      "52m 16s (- 235m 33s) (2300 18%) loss : 0.811  accuracy : 82.6 %\n",
      "52m 47s (- 234m 45s) (2325 18%) loss : 0.724  accuracy : 84.5 %\n",
      "53m 22s (- 234m 15s) (2350 18%) loss : 0.470  accuracy : 89.5 %\n",
      "53m 56s (- 233m 39s) (2375 18%) loss : 0.943  accuracy : 80.2 %\n",
      "54m 33s (- 233m 19s) (2400 18%) loss : 0.548  accuracy : 88.0 %\n",
      "55m 8s (- 232m 51s) (2425 19%) loss : 0.767  accuracy : 83.1 %\n",
      "55m 38s (- 231m 58s) (2450 19%) loss : 0.860  accuracy : 81.4 %\n",
      "56m 15s (- 231m 35s) (2475 19%) loss : 0.720  accuracy : 84.9 %\n",
      "56m 54s (- 231m 20s) (2500 19%) loss : 0.546  accuracy : 87.6 %\n",
      "57m 29s (- 230m 53s) (2525 19%) loss : 0.872  accuracy : 81.7 %\n",
      "58m 3s (- 230m 16s) (2550 20%) loss : 0.721  accuracy : 83.8 %\n",
      "58m 43s (- 230m 4s) (2575 20%) loss : 0.830  accuracy : 82.6 %\n",
      "59m 18s (- 229m 32s) (2600 20%) loss : 0.646  accuracy : 85.6 %\n",
      "59m 51s (- 228m 54s) (2625 20%) loss : 0.872  accuracy : 81.9 %\n",
      "60m 29s (- 228m 33s) (2650 20%) loss : 0.713  accuracy : 84.7 %\n",
      "61m 4s (- 228m 5s) (2675 21%) loss : 0.811  accuracy : 82.2 %\n",
      "61m 41s (- 227m 39s) (2700 21%) loss : 0.717  accuracy : 84.3 %\n",
      "62m 13s (- 226m 56s) (2725 21%) loss : 0.728  accuracy : 84.4 %\n",
      "62m 50s (- 226m 31s) (2750 21%) loss : 0.610  accuracy : 86.7 %\n",
      "63m 27s (- 226m 9s) (2775 21%) loss : 0.773  accuracy : 82.8 %\n",
      "64m 4s (- 225m 43s) (2800 22%) loss : 0.662  accuracy : 85.4 %\n",
      "64m 36s (- 225m 1s) (2825 22%) loss : 0.740  accuracy : 84.2 %\n",
      "65m 12s (- 224m 31s) (2850 22%) loss : 0.694  accuracy : 85.3 %\n",
      "65m 55s (- 224m 28s) (2875 22%) loss : 1.041  accuracy : 79.7 %\n",
      "66m 26s (- 223m 40s) (2900 22%) loss : 0.924  accuracy : 80.3 %\n",
      "66m 55s (- 222m 50s) (2925 23%) loss : 0.850  accuracy : 81.1 %\n",
      "67m 27s (- 222m 7s) (2950 23%) loss : 0.842  accuracy : 82.3 %\n",
      "68m 4s (- 221m 41s) (2975 23%) loss : 0.896  accuracy : 81.3 %\n",
      "68m 42s (- 221m 20s) (3000 23%) loss : 0.778  accuracy : 83.4 %\n",
      "69m 16s (- 220m 44s) (3025 23%) loss : 0.933  accuracy : 80.9 %\n",
      "69m 51s (- 220m 12s) (3050 24%) loss : 0.650  accuracy : 85.1 %\n",
      "70m 23s (- 219m 29s) (3075 24%) loss : 0.775  accuracy : 83.9 %\n",
      "70m 50s (- 218m 34s) (3100 24%) loss : 0.877  accuracy : 82.2 %\n",
      "71m 26s (- 218m 5s) (3125 24%) loss : 0.699  accuracy : 84.7 %\n",
      "72m 0s (- 217m 29s) (3150 24%) loss : 0.783  accuracy : 84.1 %\n",
      "72m 34s (- 216m 54s) (3175 25%) loss : 0.918  accuracy : 80.4 %\n",
      "73m 10s (- 216m 24s) (3200 25%) loss : 0.657  accuracy : 86.4 %\n",
      "73m 38s (- 215m 31s) (3225 25%) loss : 0.912  accuracy : 80.9 %\n",
      "74m 12s (- 214m 56s) (3250 25%) loss : 0.899  accuracy : 81.3 %\n",
      "74m 51s (- 214m 36s) (3275 25%) loss : 0.642  accuracy : 86.3 %\n"
     ]
    },
    {
     "name": "stdout",
     "output_type": "stream",
     "text": [
      "75m 24s (- 213m 58s) (3300 26%) loss : 0.830  accuracy : 81.9 %\n",
      "75m 56s (- 213m 17s) (3325 26%) loss : 0.674  accuracy : 85.6 %\n",
      "76m 26s (- 212m 31s) (3350 26%) loss : 0.632  accuracy : 86.1 %\n",
      "77m 1s (- 211m 59s) (3375 26%) loss : 0.813  accuracy : 82.2 %\n",
      "77m 29s (- 211m 8s) (3400 26%) loss : 0.850  accuracy : 82.3 %\n",
      "78m 2s (- 210m 31s) (3425 27%) loss : 0.939  accuracy : 81.0 %\n",
      "78m 40s (- 210m 8s) (3450 27%) loss : 0.530  accuracy : 89.0 %\n",
      "79m 17s (- 209m 39s) (3475 27%) loss : 0.742  accuracy : 85.1 %\n",
      "79m 53s (- 209m 10s) (3500 27%) loss : 0.767  accuracy : 83.7 %\n",
      "80m 30s (- 208m 44s) (3525 27%) loss : 0.691  accuracy : 85.4 %\n",
      "81m 0s (- 207m 57s) (3550 28%) loss : 0.974  accuracy : 80.4 %\n",
      "81m 32s (- 207m 19s) (3575 28%) loss : 0.856  accuracy : 82.3 %\n",
      "82m 12s (- 206m 58s) (3600 28%) loss : 0.569  accuracy : 86.4 %\n",
      "82m 42s (- 206m 15s) (3625 28%) loss : 0.653  accuracy : 85.6 %\n",
      "83m 16s (- 205m 39s) (3650 28%) loss : 0.724  accuracy : 84.7 %\n",
      "83m 57s (- 205m 21s) (3675 29%) loss : 0.622  accuracy : 87.2 %\n",
      "84m 30s (- 204m 44s) (3700 29%) loss : 0.828  accuracy : 83.1 %\n",
      "85m 4s (- 204m 9s) (3725 29%) loss : 0.723  accuracy : 85.2 %\n",
      "85m 38s (- 203m 33s) (3750 29%) loss : 0.752  accuracy : 83.9 %\n",
      "86m 11s (- 202m 57s) (3775 29%) loss : 0.912  accuracy : 80.7 %\n",
      "86m 47s (- 202m 27s) (3800 30%) loss : 0.765  accuracy : 85.0 %\n",
      "87m 20s (- 201m 49s) (3825 30%) loss : 0.721  accuracy : 83.9 %\n",
      "88m 0s (- 201m 28s) (3850 30%) loss : 0.656  accuracy : 86.0 %\n",
      "88m 34s (- 200m 53s) (3875 30%) loss : 0.787  accuracy : 83.7 %\n",
      "89m 1s (- 200m 4s) (3900 30%) loss : 0.826  accuracy : 82.2 %\n",
      "89m 33s (- 199m 24s) (3925 30%) loss : 0.762  accuracy : 83.4 %\n",
      "90m 6s (- 198m 46s) (3950 31%) loss : 0.718  accuracy : 85.2 %\n",
      "90m 40s (- 198m 12s) (3975 31%) loss : 0.941  accuracy : 81.0 %\n",
      "91m 10s (- 197m 29s) (4000 31%) loss : 0.879  accuracy : 81.6 %\n",
      "91m 40s (- 196m 45s) (4025 31%) loss : 0.783  accuracy : 84.1 %\n",
      "92m 8s (- 195m 59s) (4050 31%) loss : 0.807  accuracy : 83.1 %\n",
      "92m 39s (- 195m 18s) (4075 32%) loss : 0.912  accuracy : 80.9 %\n",
      "93m 17s (- 194m 51s) (4100 32%) loss : 0.689  accuracy : 85.1 %\n",
      "93m 53s (- 194m 21s) (4125 32%) loss : 0.672  accuracy : 85.1 %\n",
      "94m 29s (- 193m 50s) (4150 32%) loss : 0.998  accuracy : 78.9 %\n",
      "95m 2s (- 193m 15s) (4175 32%) loss : 0.943  accuracy : 80.9 %\n",
      "95m 38s (- 192m 44s) (4200 33%) loss : 0.701  accuracy : 84.9 %\n",
      "96m 8s (- 192m 1s) (4225 33%) loss : 0.869  accuracy : 81.5 %\n",
      "96m 41s (- 191m 24s) (4250 33%) loss : 0.849  accuracy : 82.5 %\n",
      "97m 18s (- 190m 57s) (4275 33%) loss : 0.661  accuracy : 85.8 %\n",
      "97m 52s (- 190m 22s) (4300 33%) loss : 0.725  accuracy : 85.0 %\n",
      "98m 28s (- 189m 52s) (4325 34%) loss : 0.508  accuracy : 89.3 %\n",
      "99m 1s (- 189m 16s) (4350 34%) loss : 0.673  accuracy : 85.4 %\n",
      "99m 31s (- 188m 34s) (4375 34%) loss : 0.959  accuracy : 81.4 %\n",
      "100m 3s (- 187m 54s) (4400 34%) loss : 0.818  accuracy : 83.3 %\n",
      "100m 37s (- 187m 22s) (4425 34%) loss : 0.736  accuracy : 83.9 %\n",
      "101m 12s (- 186m 48s) (4450 35%) loss : 0.685  accuracy : 84.9 %\n",
      "101m 46s (- 186m 14s) (4475 35%) loss : 0.959  accuracy : 80.5 %\n",
      "102m 24s (- 185m 46s) (4500 35%) loss : 0.883  accuracy : 82.1 %\n",
      "103m 1s (- 185m 17s) (4525 35%) loss : 0.784  accuracy : 84.2 %\n",
      "103m 30s (- 184m 34s) (4550 35%) loss : 0.870  accuracy : 80.6 %\n",
      "103m 59s (- 183m 52s) (4575 36%) loss : 0.785  accuracy : 83.3 %\n",
      "104m 35s (- 183m 21s) (4600 36%) loss : 0.602  accuracy : 86.4 %\n",
      "105m 10s (- 182m 49s) (4625 36%) loss : 0.669  accuracy : 85.6 %\n",
      "105m 38s (- 182m 3s) (4650 36%) loss : 0.950  accuracy : 80.0 %\n",
      "106m 11s (- 181m 27s) (4675 36%) loss : 0.775  accuracy : 84.3 %\n",
      "106m 42s (- 180m 49s) (4700 37%) loss : 0.870  accuracy : 81.0 %\n",
      "107m 14s (- 180m 10s) (4725 37%) loss : 0.807  accuracy : 83.1 %\n",
      "107m 43s (- 179m 29s) (4750 37%) loss : 0.736  accuracy : 84.9 %\n",
      "108m 18s (- 178m 56s) (4775 37%) loss : 0.954  accuracy : 80.2 %\n",
      "108m 53s (- 178m 24s) (4800 37%) loss : 0.631  accuracy : 85.9 %\n",
      "109m 27s (- 177m 49s) (4825 38%) loss : 0.903  accuracy : 81.1 %\n",
      "109m 57s (- 177m 8s) (4850 38%) loss : 0.935  accuracy : 79.9 %\n",
      "110m 28s (- 176m 30s) (4875 38%) loss : 0.634  accuracy : 86.1 %\n",
      "110m 58s (- 175m 50s) (4900 38%) loss : 0.566  accuracy : 87.6 %\n",
      "111m 37s (- 175m 23s) (4925 38%) loss : 0.505  accuracy : 88.4 %\n",
      "112m 14s (- 174m 54s) (4950 39%) loss : 0.948  accuracy : 81.5 %\n",
      "112m 50s (- 174m 24s) (4975 39%) loss : 0.481  accuracy : 89.5 %\n",
      "113m 23s (- 173m 47s) (5000 39%) loss : 0.812  accuracy : 82.5 %\n",
      "113m 57s (- 173m 14s) (5025 39%) loss : 0.812  accuracy : 83.7 %\n",
      "114m 32s (- 172m 41s) (5050 39%) loss : 0.610  accuracy : 86.9 %\n",
      "115m 3s (- 172m 2s) (5075 40%) loss : 0.788  accuracy : 83.4 %\n",
      "115m 48s (- 171m 46s) (5100 40%) loss : 0.524  accuracy : 88.4 %\n",
      "116m 18s (- 171m 6s) (5125 40%) loss : 1.117  accuracy : 78.1 %\n",
      "116m 59s (- 170m 41s) (5150 40%) loss : 0.513  accuracy : 88.8 %\n",
      "117m 35s (- 170m 10s) (5175 40%) loss : 0.496  accuracy : 88.7 %\n",
      "118m 9s (- 169m 35s) (5200 41%) loss : 0.863  accuracy : 82.6 %\n",
      "118m 41s (- 168m 59s) (5225 41%) loss : 0.583  accuracy : 87.3 %\n",
      "119m 11s (- 168m 19s) (5250 41%) loss : 0.878  accuracy : 81.3 %\n",
      "119m 46s (- 167m 46s) (5275 41%) loss : 0.864  accuracy : 82.1 %\n",
      "120m 21s (- 167m 13s) (5300 41%) loss : 0.621  accuracy : 86.8 %\n",
      "120m 58s (- 166m 44s) (5325 42%) loss : 0.443  accuracy : 89.2 %\n",
      "121m 32s (- 166m 9s) (5350 42%) loss : 0.823  accuracy : 81.9 %\n",
      "122m 5s (- 165m 33s) (5375 42%) loss : 0.867  accuracy : 82.0 %\n",
      "122m 39s (- 165m 0s) (5400 42%) loss : 0.721  accuracy : 84.8 %\n",
      "123m 18s (- 164m 32s) (5425 42%) loss : 0.490  accuracy : 89.3 %\n",
      "123m 52s (- 163m 58s) (5450 43%) loss : 0.850  accuracy : 82.1 %\n",
      "124m 20s (- 163m 16s) (5475 43%) loss : 0.825  accuracy : 82.1 %\n",
      "124m 54s (- 162m 41s) (5500 43%) loss : 0.846  accuracy : 83.6 %\n",
      "125m 28s (- 162m 7s) (5525 43%) loss : 1.021  accuracy : 79.7 %\n",
      "126m 3s (- 161m 34s) (5550 43%) loss : 0.744  accuracy : 83.9 %\n",
      "126m 34s (- 160m 57s) (5575 44%) loss : 1.108  accuracy : 78.2 %\n",
      "127m 5s (- 160m 19s) (5600 44%) loss : 0.893  accuracy : 80.9 %\n",
      "127m 42s (- 159m 49s) (5625 44%) loss : 0.773  accuracy : 84.3 %\n",
      "128m 22s (- 159m 22s) (5650 44%) loss : 0.681  accuracy : 85.5 %\n",
      "128m 56s (- 158m 48s) (5675 44%) loss : 0.730  accuracy : 83.9 %\n",
      "129m 29s (- 158m 12s) (5700 45%) loss : 0.766  accuracy : 83.8 %\n",
      "130m 3s (- 157m 38s) (5725 45%) loss : 0.773  accuracy : 83.4 %\n",
      "130m 32s (- 156m 58s) (5750 45%) loss : 0.814  accuracy : 82.4 %\n",
      "131m 5s (- 156m 23s) (5775 45%) loss : 0.910  accuracy : 80.5 %\n",
      "131m 39s (- 155m 48s) (5800 45%) loss : 0.905  accuracy : 81.7 %\n",
      "132m 17s (- 155m 18s) (5825 45%) loss : 0.647  accuracy : 86.2 %\n",
      "132m 51s (- 154m 45s) (5850 46%) loss : 0.570  accuracy : 87.3 %\n",
      "133m 26s (- 154m 11s) (5875 46%) loss : 0.701  accuracy : 84.9 %\n",
      "133m 56s (- 153m 33s) (5900 46%) loss : 0.691  accuracy : 84.1 %\n",
      "134m 27s (- 152m 56s) (5925 46%) loss : 1.045  accuracy : 79.0 %\n",
      "135m 0s (- 152m 20s) (5950 46%) loss : 0.575  accuracy : 87.2 %\n",
      "135m 31s (- 151m 43s) (5975 47%) loss : 0.890  accuracy : 81.7 %\n",
      "136m 3s (- 151m 7s) (6000 47%) loss : 0.737  accuracy : 84.3 %\n",
      "136m 35s (- 150m 31s) (6025 47%) loss : 1.096  accuracy : 78.6 %\n",
      "137m 11s (- 149m 58s) (6050 47%) loss : 0.829  accuracy : 83.0 %\n",
      "137m 43s (- 149m 22s) (6075 47%) loss : 0.848  accuracy : 81.7 %\n",
      "138m 22s (- 148m 53s) (6100 48%) loss : 0.735  accuracy : 85.2 %\n",
      "138m 54s (- 148m 17s) (6125 48%) loss : 0.690  accuracy : 85.4 %\n",
      "139m 28s (- 147m 43s) (6150 48%) loss : 0.730  accuracy : 84.8 %\n",
      "139m 55s (- 147m 2s) (6175 48%) loss : 1.026  accuracy : 79.6 %\n",
      "140m 32s (- 146m 31s) (6200 48%) loss : 0.808  accuracy : 83.5 %\n",
      "141m 5s (- 145m 56s) (6225 49%) loss : 0.804  accuracy : 83.2 %\n",
      "141m 36s (- 145m 19s) (6250 49%) loss : 0.794  accuracy : 83.8 %\n",
      "142m 6s (- 144m 41s) (6275 49%) loss : 1.052  accuracy : 79.5 %\n",
      "142m 37s (- 144m 4s) (6300 49%) loss : 1.041  accuracy : 79.1 %\n",
      "143m 12s (- 143m 31s) (6325 49%) loss : 0.800  accuracy : 83.3 %\n",
      "143m 45s (- 142m 56s) (6350 50%) loss : 0.600  accuracy : 86.4 %\n",
      "144m 15s (- 142m 18s) (6375 50%) loss : 0.846  accuracy : 82.0 %\n",
      "144m 49s (- 141m 45s) (6400 50%) loss : 0.907  accuracy : 80.8 %\n",
      "145m 20s (- 141m 8s) (6425 50%) loss : 0.668  accuracy : 85.2 %\n",
      "145m 54s (- 140m 33s) (6450 50%) loss : 0.885  accuracy : 81.4 %\n",
      "146m 29s (- 140m 1s) (6475 51%) loss : 0.889  accuracy : 81.8 %\n"
     ]
    },
    {
     "name": "stdout",
     "output_type": "stream",
     "text": [
      "147m 4s (- 139m 28s) (6500 51%) loss : 1.073  accuracy : 78.4 %\n",
      "147m 36s (- 138m 52s) (6525 51%) loss : 0.771  accuracy : 83.5 %\n",
      "148m 9s (- 138m 17s) (6550 51%) loss : 0.676  accuracy : 85.6 %\n",
      "148m 44s (- 137m 44s) (6575 51%) loss : 0.663  accuracy : 85.5 %\n",
      "149m 21s (- 137m 13s) (6600 52%) loss : 1.029  accuracy : 79.3 %\n",
      "149m 58s (- 136m 42s) (6625 52%) loss : 0.986  accuracy : 79.5 %\n",
      "150m 36s (- 136m 11s) (6650 52%) loss : 0.855  accuracy : 82.2 %\n",
      "151m 12s (- 135m 39s) (6675 52%) loss : 0.555  accuracy : 87.7 %\n",
      "151m 44s (- 135m 4s) (6700 52%) loss : 0.736  accuracy : 84.1 %\n",
      "152m 11s (- 134m 24s) (6725 53%) loss : 0.859  accuracy : 82.2 %\n",
      "152m 44s (- 133m 49s) (6750 53%) loss : 1.098  accuracy : 77.2 %\n",
      "153m 15s (- 133m 13s) (6775 53%) loss : 0.991  accuracy : 79.5 %\n",
      "153m 55s (- 132m 43s) (6800 53%) loss : 0.913  accuracy : 81.6 %\n",
      "154m 33s (- 132m 13s) (6825 53%) loss : 0.858  accuracy : 81.9 %\n",
      "155m 6s (- 131m 38s) (6850 54%) loss : 0.933  accuracy : 80.8 %\n",
      "155m 35s (- 131m 1s) (6875 54%) loss : 0.894  accuracy : 81.2 %\n",
      "156m 7s (- 130m 25s) (6900 54%) loss : 1.044  accuracy : 79.1 %\n",
      "156m 42s (- 129m 52s) (6925 54%) loss : 0.617  accuracy : 86.5 %\n",
      "157m 13s (- 129m 15s) (6950 54%) loss : 0.655  accuracy : 86.0 %\n",
      "157m 49s (- 128m 43s) (6975 55%) loss : 0.703  accuracy : 85.1 %\n",
      "158m 21s (- 128m 8s) (7000 55%) loss : 0.731  accuracy : 83.9 %\n",
      "159m 3s (- 127m 40s) (7025 55%) loss : 1.052  accuracy : 79.2 %\n",
      "159m 39s (- 127m 7s) (7050 55%) loss : 0.539  accuracy : 87.7 %\n",
      "160m 18s (- 126m 38s) (7075 55%) loss : 0.554  accuracy : 87.9 %\n",
      "160m 53s (- 126m 5s) (7100 56%) loss : 0.758  accuracy : 83.8 %\n",
      "161m 28s (- 125m 31s) (7125 56%) loss : 0.636  accuracy : 86.5 %\n",
      "162m 6s (- 125m 1s) (7150 56%) loss : 0.777  accuracy : 82.8 %\n",
      "162m 40s (- 124m 26s) (7175 56%) loss : 0.696  accuracy : 85.8 %\n",
      "163m 11s (- 123m 50s) (7200 56%) loss : 0.773  accuracy : 83.3 %\n",
      "163m 43s (- 123m 14s) (7225 57%) loss : 0.812  accuracy : 82.1 %\n",
      "164m 19s (- 122m 42s) (7250 57%) loss : 0.636  accuracy : 86.1 %\n",
      "164m 49s (- 122m 6s) (7275 57%) loss : 0.861  accuracy : 82.5 %\n",
      "165m 23s (- 121m 31s) (7300 57%) loss : 0.600  accuracy : 87.2 %\n",
      "165m 56s (- 120m 56s) (7325 57%) loss : 0.757  accuracy : 83.2 %\n",
      "166m 34s (- 120m 25s) (7350 58%) loss : 0.538  accuracy : 88.3 %\n",
      "167m 6s (- 119m 50s) (7375 58%) loss : 0.944  accuracy : 81.3 %\n",
      "167m 38s (- 119m 15s) (7400 58%) loss : 0.835  accuracy : 82.9 %\n",
      "168m 13s (- 118m 41s) (7425 58%) loss : 0.794  accuracy : 82.6 %\n",
      "168m 44s (- 118m 5s) (7450 58%) loss : 0.917  accuracy : 81.6 %\n",
      "169m 16s (- 117m 30s) (7475 59%) loss : 0.868  accuracy : 81.3 %\n",
      "169m 49s (- 116m 55s) (7500 59%) loss : 0.806  accuracy : 83.0 %\n",
      "170m 22s (- 116m 21s) (7525 59%) loss : 0.796  accuracy : 83.3 %\n",
      "171m 0s (- 115m 49s) (7550 59%) loss : 0.673  accuracy : 86.1 %\n",
      "171m 29s (- 115m 12s) (7575 59%) loss : 1.247  accuracy : 75.3 %\n",
      "172m 4s (- 114m 39s) (7600 60%) loss : 0.963  accuracy : 80.7 %\n",
      "172m 42s (- 114m 8s) (7625 60%) loss : 0.576  accuracy : 86.9 %\n",
      "173m 21s (- 113m 37s) (7650 60%) loss : 1.113  accuracy : 77.1 %\n",
      "173m 56s (- 113m 4s) (7675 60%) loss : 0.748  accuracy : 83.9 %\n",
      "174m 32s (- 112m 31s) (7700 60%) loss : 0.578  accuracy : 87.8 %\n",
      "175m 4s (- 111m 56s) (7725 60%) loss : 0.774  accuracy : 83.5 %\n",
      "175m 42s (- 111m 24s) (7750 61%) loss : 0.470  accuracy : 88.9 %\n",
      "176m 19s (- 110m 52s) (7775 61%) loss : 0.597  accuracy : 86.9 %\n",
      "176m 50s (- 110m 16s) (7800 61%) loss : 0.755  accuracy : 83.1 %\n",
      "177m 22s (- 109m 41s) (7825 61%) loss : 0.815  accuracy : 83.4 %\n",
      "177m 56s (- 109m 7s) (7850 61%) loss : 0.756  accuracy : 84.4 %\n",
      "178m 31s (- 108m 33s) (7875 62%) loss : 0.613  accuracy : 87.8 %\n",
      "179m 1s (- 107m 57s) (7900 62%) loss : 0.936  accuracy : 81.2 %\n",
      "179m 33s (- 107m 22s) (7925 62%) loss : 0.692  accuracy : 84.8 %\n",
      "180m 12s (- 106m 51s) (7950 62%) loss : 0.640  accuracy : 86.4 %\n",
      "180m 48s (- 106m 18s) (7975 62%) loss : 0.781  accuracy : 83.5 %\n",
      "181m 22s (- 105m 44s) (8000 63%) loss : 0.734  accuracy : 83.7 %\n",
      "181m 58s (- 105m 11s) (8025 63%) loss : 0.581  accuracy : 86.8 %\n",
      "182m 34s (- 104m 39s) (8050 63%) loss : 0.979  accuracy : 79.8 %\n",
      "183m 7s (- 104m 4s) (8075 63%) loss : 0.893  accuracy : 80.3 %\n",
      "183m 44s (- 103m 31s) (8100 63%) loss : 0.811  accuracy : 83.7 %\n",
      "184m 11s (- 102m 53s) (8125 64%) loss : 0.847  accuracy : 82.0 %\n",
      "184m 44s (- 102m 19s) (8150 64%) loss : 0.803  accuracy : 82.6 %\n",
      "185m 19s (- 101m 45s) (8175 64%) loss : 0.844  accuracy : 82.1 %\n",
      "185m 53s (- 101m 11s) (8200 64%) loss : 0.767  accuracy : 83.5 %\n",
      "186m 27s (- 100m 37s) (8225 64%) loss : 0.718  accuracy : 84.8 %\n",
      "187m 4s (- 100m 5s) (8250 65%) loss : 0.573  accuracy : 87.5 %\n",
      "187m 40s (- 99m 32s) (8275 65%) loss : 0.710  accuracy : 85.0 %\n",
      "188m 12s (- 98m 57s) (8300 65%) loss : 0.640  accuracy : 86.5 %\n",
      "188m 44s (- 98m 22s) (8325 65%) loss : 0.846  accuracy : 82.8 %\n",
      "189m 17s (- 97m 47s) (8350 65%) loss : 0.881  accuracy : 81.6 %\n",
      "189m 51s (- 97m 13s) (8375 66%) loss : 0.828  accuracy : 82.9 %\n",
      "190m 26s (- 96m 40s) (8400 66%) loss : 0.730  accuracy : 84.0 %\n",
      "191m 2s (- 96m 7s) (8425 66%) loss : 0.601  accuracy : 87.1 %\n",
      "191m 35s (- 95m 32s) (8450 66%) loss : 0.739  accuracy : 83.7 %\n",
      "192m 10s (- 94m 59s) (8475 66%) loss : 0.707  accuracy : 84.1 %\n",
      "192m 38s (- 94m 22s) (8500 67%) loss : 0.932  accuracy : 79.0 %\n",
      "193m 17s (- 93m 50s) (8525 67%) loss : 0.823  accuracy : 82.8 %\n",
      "193m 49s (- 93m 15s) (8550 67%) loss : 0.823  accuracy : 82.7 %\n",
      "194m 25s (- 92m 42s) (8575 67%) loss : 0.739  accuracy : 83.9 %\n",
      "194m 56s (- 92m 7s) (8600 67%) loss : 0.763  accuracy : 83.8 %\n",
      "195m 30s (- 91m 33s) (8625 68%) loss : 0.689  accuracy : 84.3 %\n",
      "196m 2s (- 90m 58s) (8650 68%) loss : 0.778  accuracy : 83.9 %\n",
      "196m 39s (- 90m 25s) (8675 68%) loss : 0.822  accuracy : 82.7 %\n",
      "197m 13s (- 89m 51s) (8700 68%) loss : 0.633  accuracy : 87.0 %\n",
      "197m 47s (- 89m 17s) (8725 68%) loss : 0.917  accuracy : 80.9 %\n",
      "198m 22s (- 88m 44s) (8750 69%) loss : 0.718  accuracy : 84.2 %\n",
      "198m 55s (- 88m 9s) (8775 69%) loss : 0.862  accuracy : 82.5 %\n",
      "199m 32s (- 87m 36s) (8800 69%) loss : 1.086  accuracy : 77.1 %\n",
      "200m 8s (- 87m 4s) (8825 69%) loss : 0.828  accuracy : 82.8 %\n",
      "200m 43s (- 86m 30s) (8850 69%) loss : 0.908  accuracy : 81.0 %\n",
      "201m 15s (- 85m 55s) (8875 70%) loss : 0.859  accuracy : 82.2 %\n",
      "201m 46s (- 85m 19s) (8900 70%) loss : 1.144  accuracy : 76.5 %\n",
      "202m 15s (- 84m 44s) (8925 70%) loss : 0.977  accuracy : 79.8 %\n",
      "202m 44s (- 84m 8s) (8950 70%) loss : 0.783  accuracy : 83.4 %\n",
      "203m 21s (- 83m 35s) (8975 70%) loss : 0.922  accuracy : 81.0 %\n",
      "203m 52s (- 83m 0s) (9000 71%) loss : 0.951  accuracy : 80.1 %\n",
      "204m 23s (- 82m 24s) (9025 71%) loss : 1.142  accuracy : 77.1 %\n",
      "204m 59s (- 81m 51s) (9050 71%) loss : 0.864  accuracy : 81.9 %\n",
      "205m 33s (- 81m 17s) (9075 71%) loss : 0.668  accuracy : 85.7 %\n",
      "206m 5s (- 80m 42s) (9100 71%) loss : 0.729  accuracy : 84.7 %\n",
      "206m 42s (- 80m 10s) (9125 72%) loss : 0.678  accuracy : 85.2 %\n",
      "207m 14s (- 79m 35s) (9150 72%) loss : 0.641  accuracy : 86.2 %\n",
      "207m 46s (- 79m 0s) (9175 72%) loss : 0.886  accuracy : 80.7 %\n",
      "208m 13s (- 78m 24s) (9200 72%) loss : 0.868  accuracy : 82.0 %\n",
      "208m 44s (- 77m 48s) (9225 72%) loss : 0.949  accuracy : 79.7 %\n",
      "209m 19s (- 77m 15s) (9250 73%) loss : 0.768  accuracy : 84.3 %\n",
      "209m 53s (- 76m 41s) (9275 73%) loss : 0.820  accuracy : 82.6 %\n",
      "210m 26s (- 76m 7s) (9300 73%) loss : 0.942  accuracy : 80.8 %\n",
      "211m 10s (- 75m 36s) (9325 73%) loss : 0.555  accuracy : 87.3 %\n",
      "211m 48s (- 75m 4s) (9350 73%) loss : 0.759  accuracy : 84.6 %\n",
      "212m 24s (- 74m 31s) (9375 74%) loss : 0.744  accuracy : 83.8 %\n",
      "213m 2s (- 73m 58s) (9400 74%) loss : 0.796  accuracy : 82.6 %\n",
      "213m 36s (- 73m 24s) (9425 74%) loss : 0.759  accuracy : 84.2 %\n",
      "214m 8s (- 72m 49s) (9450 74%) loss : 0.970  accuracy : 79.3 %\n",
      "214m 45s (- 72m 16s) (9475 74%) loss : 0.825  accuracy : 81.4 %\n",
      "215m 19s (- 71m 42s) (9500 75%) loss : 0.799  accuracy : 83.6 %\n",
      "215m 54s (- 71m 9s) (9525 75%) loss : 0.576  accuracy : 86.9 %\n",
      "216m 30s (- 70m 35s) (9550 75%) loss : 0.670  accuracy : 85.1 %\n",
      "217m 6s (- 70m 2s) (9575 75%) loss : 0.931  accuracy : 80.2 %\n",
      "217m 39s (- 69m 28s) (9600 75%) loss : 0.833  accuracy : 83.8 %\n",
      "218m 17s (- 68m 55s) (9625 76%) loss : 0.606  accuracy : 87.4 %\n",
      "218m 48s (- 68m 20s) (9650 76%) loss : 0.816  accuracy : 83.2 %\n",
      "219m 25s (- 67m 47s) (9675 76%) loss : 0.735  accuracy : 84.1 %\n"
     ]
    },
    {
     "name": "stdout",
     "output_type": "stream",
     "text": [
      "219m 58s (- 67m 13s) (9700 76%) loss : 0.899  accuracy : 81.6 %\n",
      "220m 32s (- 66m 39s) (9725 76%) loss : 0.830  accuracy : 82.5 %\n",
      "221m 11s (- 66m 6s) (9750 76%) loss : 0.719  accuracy : 84.2 %\n",
      "221m 37s (- 65m 30s) (9775 77%) loss : 1.016  accuracy : 78.3 %\n",
      "222m 10s (- 64m 55s) (9800 77%) loss : 0.915  accuracy : 81.1 %\n",
      "222m 41s (- 64m 20s) (9825 77%) loss : 1.193  accuracy : 75.8 %\n",
      "223m 16s (- 63m 47s) (9850 77%) loss : 0.791  accuracy : 83.4 %\n",
      "223m 50s (- 63m 13s) (9875 77%) loss : 0.783  accuracy : 83.2 %\n",
      "224m 29s (- 62m 40s) (9900 78%) loss : 0.289  accuracy : 92.8 %\n",
      "225m 0s (- 62m 5s) (9925 78%) loss : 0.702  accuracy : 84.3 %\n",
      "225m 34s (- 61m 31s) (9950 78%) loss : 0.699  accuracy : 85.3 %\n",
      "226m 13s (- 60m 58s) (9975 78%) loss : 0.515  accuracy : 88.4 %\n",
      "226m 44s (- 60m 24s) (10000 78%) loss : 0.923  accuracy : 81.1 %\n",
      "227m 15s (- 59m 49s) (10025 79%) loss : 0.818  accuracy : 83.6 %\n",
      "227m 51s (- 59m 15s) (10050 79%) loss : 0.622  accuracy : 87.2 %\n",
      "228m 28s (- 58m 42s) (10075 79%) loss : 0.899  accuracy : 81.2 %\n",
      "229m 7s (- 58m 9s) (10100 79%) loss : 0.759  accuracy : 84.8 %\n",
      "229m 44s (- 57m 36s) (10125 79%) loss : 0.583  accuracy : 87.6 %\n",
      "230m 17s (- 57m 2s) (10150 80%) loss : 0.841  accuracy : 82.3 %\n",
      "230m 56s (- 56m 29s) (10175 80%) loss : 0.595  accuracy : 87.3 %\n",
      "231m 28s (- 55m 55s) (10200 80%) loss : 0.866  accuracy : 82.5 %\n",
      "232m 0s (- 55m 20s) (10225 80%) loss : 0.921  accuracy : 81.1 %\n",
      "232m 36s (- 54m 47s) (10250 80%) loss : 0.521  accuracy : 87.7 %\n",
      "233m 5s (- 54m 11s) (10275 81%) loss : 0.834  accuracy : 83.4 %\n",
      "233m 36s (- 53m 36s) (10300 81%) loss : 0.845  accuracy : 83.8 %\n",
      "234m 6s (- 53m 1s) (10325 81%) loss : 0.694  accuracy : 84.7 %\n",
      "234m 38s (- 52m 27s) (10350 81%) loss : 0.729  accuracy : 84.7 %\n",
      "235m 11s (- 51m 53s) (10375 81%) loss : 1.078  accuracy : 77.5 %\n",
      "235m 44s (- 51m 19s) (10400 82%) loss : 0.718  accuracy : 84.5 %\n",
      "236m 18s (- 50m 45s) (10425 82%) loss : 0.720  accuracy : 84.5 %\n",
      "236m 51s (- 50m 10s) (10450 82%) loss : 0.832  accuracy : 83.2 %\n",
      "237m 23s (- 49m 36s) (10475 82%) loss : 0.779  accuracy : 83.8 %\n",
      "237m 59s (- 49m 2s) (10500 82%) loss : 0.861  accuracy : 82.0 %\n",
      "238m 28s (- 48m 27s) (10525 83%) loss : 1.006  accuracy : 78.7 %\n",
      "239m 2s (- 47m 54s) (10550 83%) loss : 0.702  accuracy : 85.3 %\n",
      "239m 32s (- 47m 19s) (10575 83%) loss : 0.814  accuracy : 83.4 %\n",
      "240m 11s (- 46m 46s) (10600 83%) loss : 0.739  accuracy : 85.2 %\n",
      "240m 42s (- 46m 11s) (10625 83%) loss : 0.633  accuracy : 86.3 %\n",
      "241m 15s (- 45m 37s) (10650 84%) loss : 0.759  accuracy : 83.9 %\n",
      "241m 50s (- 45m 3s) (10675 84%) loss : 0.808  accuracy : 83.5 %\n",
      "242m 23s (- 44m 29s) (10700 84%) loss : 0.646  accuracy : 85.8 %\n",
      "242m 51s (- 43m 54s) (10725 84%) loss : 0.978  accuracy : 79.2 %\n",
      "243m 25s (- 43m 20s) (10750 84%) loss : 0.896  accuracy : 81.9 %\n",
      "243m 56s (- 42m 45s) (10775 85%) loss : 1.010  accuracy : 79.2 %\n",
      "244m 27s (- 42m 11s) (10800 85%) loss : 0.792  accuracy : 83.2 %\n",
      "244m 56s (- 41m 36s) (10825 85%) loss : 0.741  accuracy : 84.3 %\n",
      "245m 30s (- 41m 2s) (10850 85%) loss : 0.535  accuracy : 87.2 %\n",
      "246m 1s (- 40m 28s) (10875 85%) loss : 0.915  accuracy : 80.8 %\n",
      "246m 34s (- 39m 54s) (10900 86%) loss : 0.640  accuracy : 86.6 %\n",
      "247m 10s (- 39m 20s) (10925 86%) loss : 1.048  accuracy : 79.5 %\n",
      "247m 43s (- 38m 46s) (10950 86%) loss : 0.981  accuracy : 79.8 %\n",
      "248m 14s (- 38m 12s) (10975 86%) loss : 0.975  accuracy : 79.0 %\n",
      "248m 48s (- 37m 38s) (11000 86%) loss : 0.792  accuracy : 82.5 %\n",
      "249m 24s (- 37m 4s) (11025 87%) loss : 0.769  accuracy : 83.5 %\n",
      "249m 52s (- 36m 29s) (11050 87%) loss : 0.832  accuracy : 83.0 %\n",
      "250m 23s (- 35m 55s) (11075 87%) loss : 0.595  accuracy : 87.2 %\n",
      "250m 56s (- 35m 21s) (11100 87%) loss : 0.714  accuracy : 84.6 %\n",
      "251m 29s (- 34m 47s) (11125 87%) loss : 0.860  accuracy : 82.2 %\n",
      "252m 1s (- 34m 13s) (11150 88%) loss : 0.753  accuracy : 83.3 %\n",
      "252m 37s (- 33m 39s) (11175 88%) loss : 0.589  accuracy : 86.8 %\n",
      "253m 13s (- 33m 5s) (11200 88%) loss : 0.752  accuracy : 84.1 %\n",
      "253m 45s (- 32m 31s) (11225 88%) loss : 0.880  accuracy : 81.1 %\n",
      "254m 21s (- 31m 58s) (11250 88%) loss : 0.804  accuracy : 82.9 %\n",
      "254m 50s (- 31m 23s) (11275 89%) loss : 1.133  accuracy : 76.6 %\n",
      "255m 24s (- 30m 49s) (11300 89%) loss : 0.783  accuracy : 84.1 %\n",
      "255m 57s (- 30m 15s) (11325 89%) loss : 0.683  accuracy : 85.7 %\n",
      "256m 30s (- 29m 41s) (11350 89%) loss : 0.649  accuracy : 86.2 %\n",
      "257m 0s (- 29m 7s) (11375 89%) loss : 0.798  accuracy : 83.5 %\n",
      "257m 33s (- 28m 33s) (11400 90%) loss : 0.898  accuracy : 81.2 %\n",
      "258m 4s (- 27m 59s) (11425 90%) loss : 0.834  accuracy : 83.0 %\n",
      "258m 36s (- 27m 25s) (11450 90%) loss : 0.787  accuracy : 83.1 %\n",
      "259m 9s (- 26m 51s) (11475 90%) loss : 0.694  accuracy : 85.4 %\n",
      "259m 41s (- 26m 17s) (11500 90%) loss : 0.554  accuracy : 87.4 %\n",
      "260m 14s (- 25m 43s) (11525 91%) loss : 0.761  accuracy : 83.6 %\n",
      "260m 45s (- 25m 8s) (11550 91%) loss : 0.734  accuracy : 84.4 %\n",
      "261m 16s (- 24m 34s) (11575 91%) loss : 0.644  accuracy : 85.6 %\n",
      "261m 45s (- 24m 0s) (11600 91%) loss : 0.746  accuracy : 84.6 %\n",
      "262m 21s (- 23m 26s) (11625 91%) loss : 0.829  accuracy : 82.4 %\n",
      "262m 52s (- 22m 52s) (11650 91%) loss : 0.771  accuracy : 83.8 %\n",
      "263m 26s (- 22m 18s) (11675 92%) loss : 0.768  accuracy : 84.1 %\n",
      "264m 1s (- 21m 45s) (11700 92%) loss : 0.705  accuracy : 85.0 %\n",
      "264m 34s (- 21m 11s) (11725 92%) loss : 1.043  accuracy : 78.1 %\n",
      "265m 7s (- 20m 37s) (11750 92%) loss : 0.833  accuracy : 83.1 %\n",
      "265m 41s (- 20m 3s) (11775 92%) loss : 0.900  accuracy : 81.7 %\n",
      "266m 13s (- 19m 29s) (11800 93%) loss : 0.816  accuracy : 82.8 %\n",
      "266m 48s (- 18m 55s) (11825 93%) loss : 0.618  accuracy : 86.3 %\n",
      "267m 18s (- 18m 21s) (11850 93%) loss : 0.566  accuracy : 87.5 %\n",
      "267m 56s (- 17m 48s) (11875 93%) loss : 0.797  accuracy : 82.5 %\n",
      "268m 28s (- 17m 14s) (11900 93%) loss : 0.650  accuracy : 86.1 %\n",
      "269m 2s (- 16m 40s) (11925 94%) loss : 0.936  accuracy : 79.9 %\n",
      "269m 31s (- 16m 6s) (11950 94%) loss : 0.890  accuracy : 81.0 %\n",
      "270m 0s (- 15m 32s) (11975 94%) loss : 0.938  accuracy : 80.7 %\n",
      "270m 32s (- 14m 58s) (12000 94%) loss : 0.877  accuracy : 81.6 %\n",
      "271m 4s (- 14m 24s) (12025 94%) loss : 0.818  accuracy : 83.0 %\n",
      "271m 39s (- 13m 50s) (12050 95%) loss : 0.973  accuracy : 80.0 %\n",
      "272m 11s (- 13m 16s) (12075 95%) loss : 0.715  accuracy : 84.9 %\n",
      "272m 43s (- 12m 42s) (12100 95%) loss : 0.774  accuracy : 83.1 %\n",
      "273m 17s (- 12m 8s) (12125 95%) loss : 0.898  accuracy : 81.2 %\n",
      "273m 44s (- 11m 34s) (12150 95%) loss : 0.823  accuracy : 83.0 %\n",
      "274m 20s (- 11m 1s) (12175 96%) loss : 0.615  accuracy : 85.9 %\n",
      "274m 54s (- 10m 27s) (12200 96%) loss : 0.608  accuracy : 85.9 %\n",
      "275m 22s (- 9m 53s) (12225 96%) loss : 0.787  accuracy : 82.9 %\n",
      "275m 54s (- 9m 19s) (12250 96%) loss : 0.771  accuracy : 82.9 %\n",
      "276m 26s (- 8m 45s) (12275 96%) loss : 0.777  accuracy : 84.0 %\n",
      "276m 58s (- 8m 11s) (12300 97%) loss : 0.858  accuracy : 82.0 %\n",
      "277m 34s (- 7m 38s) (12325 97%) loss : 0.737  accuracy : 84.4 %\n",
      "278m 8s (- 7m 4s) (12350 97%) loss : 0.936  accuracy : 81.0 %\n",
      "278m 37s (- 6m 30s) (12375 97%) loss : 1.005  accuracy : 79.4 %\n",
      "279m 13s (- 5m 56s) (12400 97%) loss : 0.776  accuracy : 84.0 %\n",
      "279m 43s (- 5m 22s) (12425 98%) loss : 0.724  accuracy : 84.0 %\n",
      "280m 14s (- 4m 49s) (12450 98%) loss : 0.592  accuracy : 87.4 %\n",
      "280m 47s (- 4m 15s) (12475 98%) loss : 0.724  accuracy : 84.0 %\n",
      "281m 19s (- 3m 41s) (12500 98%) loss : 0.783  accuracy : 83.5 %\n",
      "281m 48s (- 3m 7s) (12525 98%) loss : 0.976  accuracy : 80.4 %\n",
      "282m 18s (- 2m 33s) (12550 99%) loss : 0.687  accuracy : 84.8 %\n",
      "282m 53s (- 2m 0s) (12575 99%) loss : 0.971  accuracy : 79.9 %\n",
      "283m 26s (- 1m 26s) (12600 99%) loss : 0.523  accuracy : 88.1 %\n",
      "284m 3s (- 0m 52s) (12625 99%) loss : 0.800  accuracy : 83.0 %\n",
      "284m 33s (- 0m 18s) (12650 99%) loss : 0.952  accuracy : 80.8 %\n"
     ]
    }
   ],
   "source": [
    "translator_fr_en.fit(batches, epochs = 1, lr = 0.0001, tf_ratio = 0.75, print_every = 25, random_state = 4214)"
   ]
  },
  {
   "cell_type": "code",
   "execution_count": 40,
   "metadata": {},
   "outputs": [],
   "source": [
    "# save\n",
    "#torch.save(translator_fr_en.state_dict(), path_to_DL4NLP + '\\\\saves\\\\DL4NLP_II2a_encoder_attndecoder_fr_en.pth')\n",
    "\n",
    "# load\n",
    "#translator_fr_en.load_state_dict(torch.load(path_to_DL4NLP + '\\\\saves\\\\DL4NLP_II2a_encoder_attndecoder_fr_en.pth'))"
   ]
  },
  {
   "cell_type": "code",
   "execution_count": 41,
   "metadata": {},
   "outputs": [
    {
     "name": "stdout",
     "output_type": "stream",
     "text": [
      "epoch 1\n",
      "0m 34s (- 291m 21s) (25 0%) loss : 0.567  accuracy : 87.7 %\n",
      "1m 10s (- 298m 24s) (50 0%) loss : 0.699  accuracy : 84.4 %\n",
      "1m 48s (- 303m 58s) (75 0%) loss : 0.716  accuracy : 84.6 %\n",
      "2m 21s (- 296m 49s) (100 0%) loss : 0.541  accuracy : 87.7 %\n",
      "2m 58s (- 298m 27s) (125 0%) loss : 0.727  accuracy : 83.1 %\n",
      "3m 35s (- 299m 11s) (150 1%) loss : 0.927  accuracy : 80.6 %\n",
      "4m 6s (- 292m 46s) (175 1%) loss : 0.739  accuracy : 83.4 %\n",
      "4m 38s (- 289m 13s) (200 1%) loss : 0.763  accuracy : 84.0 %\n",
      "5m 11s (- 287m 4s) (225 1%) loss : 0.704  accuracy : 84.6 %\n",
      "5m 43s (- 284m 19s) (250 1%) loss : 0.623  accuracy : 86.5 %\n",
      "6m 12s (- 280m 3s) (275 2%) loss : 0.942  accuracy : 79.5 %\n",
      "6m 54s (- 284m 26s) (300 2%) loss : 0.578  accuracy : 86.6 %\n",
      "7m 25s (- 281m 41s) (325 2%) loss : 0.837  accuracy : 81.5 %\n",
      "7m 57s (- 280m 5s) (350 2%) loss : 0.814  accuracy : 82.3 %\n",
      "8m 35s (- 281m 27s) (375 2%) loss : 0.899  accuracy : 81.3 %\n",
      "9m 6s (- 279m 0s) (400 3%) loss : 0.890  accuracy : 81.0 %\n",
      "9m 41s (- 279m 0s) (425 3%) loss : 0.572  accuracy : 86.9 %\n",
      "10m 18s (- 279m 34s) (450 3%) loss : 0.524  accuracy : 88.3 %\n",
      "10m 53s (- 279m 36s) (475 3%) loss : 0.399  accuracy : 90.7 %\n",
      "11m 24s (- 277m 44s) (500 3%) loss : 0.750  accuracy : 83.6 %\n",
      "11m 54s (- 275m 15s) (525 4%) loss : 0.682  accuracy : 85.0 %\n",
      "12m 25s (- 273m 44s) (550 4%) loss : 0.652  accuracy : 86.0 %\n",
      "12m 57s (- 272m 25s) (575 4%) loss : 0.825  accuracy : 82.8 %\n",
      "13m 33s (- 272m 29s) (600 4%) loss : 0.942  accuracy : 79.6 %\n",
      "14m 2s (- 270m 22s) (625 4%) loss : 0.843  accuracy : 82.2 %\n",
      "14m 32s (- 268m 41s) (650 5%) loss : 0.963  accuracy : 79.5 %\n",
      "15m 7s (- 268m 41s) (675 5%) loss : 0.778  accuracy : 83.2 %\n",
      "15m 40s (- 267m 59s) (700 5%) loss : 0.842  accuracy : 82.2 %\n",
      "16m 17s (- 268m 19s) (725 5%) loss : 0.735  accuracy : 84.9 %\n",
      "16m 52s (- 268m 4s) (750 5%) loss : 0.646  accuracy : 85.9 %\n",
      "17m 25s (- 267m 21s) (775 6%) loss : 0.793  accuracy : 82.7 %\n",
      "17m 57s (- 266m 13s) (800 6%) loss : 0.819  accuracy : 82.5 %\n",
      "18m 31s (- 265m 53s) (825 6%) loss : 0.702  accuracy : 84.6 %\n",
      "19m 0s (- 264m 12s) (850 6%) loss : 0.652  accuracy : 85.8 %\n",
      "19m 34s (- 263m 39s) (875 6%) loss : 0.602  accuracy : 86.6 %\n",
      "20m 7s (- 262m 57s) (900 7%) loss : 0.569  accuracy : 87.6 %\n",
      "20m 42s (- 262m 44s) (925 7%) loss : 0.971  accuracy : 79.9 %\n",
      "21m 19s (- 263m 2s) (950 7%) loss : 0.488  accuracy : 88.8 %\n",
      "21m 53s (- 262m 27s) (975 7%) loss : 0.546  accuracy : 88.0 %\n",
      "22m 24s (- 261m 17s) (1000 7%) loss : 0.881  accuracy : 81.5 %\n",
      "22m 56s (- 260m 32s) (1025 8%) loss : 0.845  accuracy : 82.8 %\n",
      "23m 28s (- 259m 38s) (1050 8%) loss : 0.608  accuracy : 87.0 %\n",
      "24m 3s (- 259m 18s) (1075 8%) loss : 0.709  accuracy : 84.3 %\n",
      "24m 36s (- 258m 37s) (1100 8%) loss : 1.014  accuracy : 79.2 %\n",
      "25m 14s (- 258m 54s) (1125 8%) loss : 0.709  accuracy : 84.2 %\n",
      "25m 47s (- 258m 11s) (1150 9%) loss : 0.825  accuracy : 81.8 %\n",
      "26m 15s (- 256m 47s) (1175 9%) loss : 0.711  accuracy : 84.3 %\n",
      "26m 47s (- 255m 58s) (1200 9%) loss : 0.865  accuracy : 82.2 %\n",
      "27m 24s (- 255m 57s) (1225 9%) loss : 0.754  accuracy : 84.2 %\n",
      "27m 58s (- 255m 28s) (1250 9%) loss : 0.406  accuracy : 90.7 %\n",
      "28m 32s (- 254m 59s) (1275 10%) loss : 0.839  accuracy : 82.0 %\n",
      "29m 4s (- 254m 7s) (1300 10%) loss : 0.845  accuracy : 82.7 %\n",
      "29m 34s (- 253m 9s) (1325 10%) loss : 0.915  accuracy : 81.0 %\n",
      "30m 9s (- 252m 47s) (1350 10%) loss : 0.573  accuracy : 87.0 %\n",
      "30m 40s (- 251m 47s) (1375 10%) loss : 0.818  accuracy : 82.6 %\n",
      "31m 12s (- 251m 1s) (1400 11%) loss : 0.762  accuracy : 83.6 %\n",
      "31m 44s (- 250m 20s) (1425 11%) loss : 0.848  accuracy : 81.5 %\n",
      "32m 19s (- 250m 2s) (1450 11%) loss : 0.647  accuracy : 86.6 %\n",
      "32m 55s (- 249m 46s) (1475 11%) loss : 0.449  accuracy : 89.8 %\n",
      "33m 35s (- 250m 2s) (1500 11%) loss : 0.712  accuracy : 83.9 %\n",
      "34m 11s (- 249m 44s) (1525 12%) loss : 0.797  accuracy : 83.3 %\n",
      "34m 45s (- 249m 11s) (1550 12%) loss : 0.809  accuracy : 82.5 %\n",
      "35m 16s (- 248m 19s) (1575 12%) loss : 0.613  accuracy : 87.0 %\n",
      "35m 46s (- 247m 21s) (1600 12%) loss : 0.799  accuracy : 82.5 %\n",
      "36m 14s (- 246m 12s) (1625 12%) loss : 0.759  accuracy : 84.3 %\n",
      "36m 49s (- 245m 46s) (1650 13%) loss : 0.650  accuracy : 85.8 %\n",
      "37m 21s (- 245m 8s) (1675 13%) loss : 0.769  accuracy : 84.3 %\n",
      "37m 49s (- 243m 58s) (1700 13%) loss : 0.866  accuracy : 80.7 %\n",
      "38m 22s (- 243m 19s) (1725 13%) loss : 0.748  accuracy : 84.5 %\n",
      "38m 54s (- 242m 42s) (1750 13%) loss : 0.734  accuracy : 83.7 %\n",
      "39m 30s (- 242m 24s) (1775 14%) loss : 0.588  accuracy : 87.3 %\n",
      "40m 3s (- 241m 47s) (1800 14%) loss : 0.602  accuracy : 86.3 %\n",
      "40m 40s (- 241m 32s) (1825 14%) loss : 0.785  accuracy : 83.4 %\n",
      "41m 10s (- 240m 41s) (1850 14%) loss : 0.631  accuracy : 86.8 %\n",
      "41m 37s (- 239m 29s) (1875 14%) loss : 0.949  accuracy : 80.6 %\n",
      "42m 10s (- 238m 54s) (1900 15%) loss : 0.910  accuracy : 81.0 %\n",
      "42m 41s (- 238m 8s) (1925 15%) loss : 0.709  accuracy : 83.8 %\n",
      "43m 10s (- 237m 12s) (1950 15%) loss : 0.883  accuracy : 81.0 %\n",
      "43m 51s (- 237m 23s) (1975 15%) loss : 0.515  accuracy : 88.7 %\n",
      "44m 24s (- 236m 47s) (2000 15%) loss : 0.630  accuracy : 86.0 %\n",
      "44m 59s (- 236m 20s) (2025 15%) loss : 0.782  accuracy : 84.2 %\n",
      "45m 35s (- 236m 3s) (2050 16%) loss : 0.642  accuracy : 86.1 %\n",
      "46m 5s (- 235m 13s) (2075 16%) loss : 0.738  accuracy : 83.9 %\n",
      "46m 43s (- 235m 3s) (2100 16%) loss : 0.555  accuracy : 86.9 %\n",
      "47m 10s (- 233m 57s) (2125 16%) loss : 0.847  accuracy : 82.3 %\n",
      "47m 40s (- 233m 9s) (2150 16%) loss : 1.068  accuracy : 77.3 %\n",
      "48m 17s (- 232m 53s) (2175 17%) loss : 0.539  accuracy : 88.1 %\n",
      "48m 47s (- 232m 5s) (2200 17%) loss : 0.853  accuracy : 81.7 %\n",
      "49m 23s (- 231m 42s) (2225 17%) loss : 0.606  accuracy : 86.7 %\n",
      "50m 4s (- 231m 44s) (2250 17%) loss : 0.473  accuracy : 89.5 %\n",
      "50m 41s (- 231m 28s) (2275 17%) loss : 0.577  accuracy : 87.5 %\n",
      "51m 15s (- 230m 57s) (2300 18%) loss : 0.939  accuracy : 81.1 %\n",
      "51m 47s (- 230m 17s) (2325 18%) loss : 0.596  accuracy : 87.7 %\n",
      "52m 18s (- 229m 34s) (2350 18%) loss : 0.769  accuracy : 83.5 %\n",
      "52m 47s (- 228m 43s) (2375 18%) loss : 0.964  accuracy : 80.7 %\n",
      "53m 19s (- 228m 1s) (2400 18%) loss : 0.590  accuracy : 87.2 %\n",
      "53m 54s (- 227m 35s) (2425 19%) loss : 0.545  accuracy : 88.0 %\n",
      "54m 27s (- 227m 0s) (2450 19%) loss : 0.626  accuracy : 85.9 %\n",
      "55m 2s (- 226m 37s) (2475 19%) loss : 0.810  accuracy : 82.7 %\n",
      "55m 31s (- 225m 45s) (2500 19%) loss : 0.654  accuracy : 85.3 %\n",
      "56m 5s (- 225m 12s) (2525 19%) loss : 0.973  accuracy : 80.3 %\n",
      "56m 34s (- 224m 22s) (2550 20%) loss : 0.636  accuracy : 86.4 %\n",
      "57m 8s (- 223m 54s) (2575 20%) loss : 0.662  accuracy : 85.2 %\n",
      "57m 42s (- 223m 21s) (2600 20%) loss : 0.703  accuracy : 84.5 %\n",
      "58m 11s (- 222m 32s) (2625 20%) loss : 0.954  accuracy : 80.5 %\n",
      "58m 44s (- 221m 56s) (2650 20%) loss : 0.687  accuracy : 84.8 %\n",
      "59m 9s (- 220m 54s) (2675 21%) loss : 0.777  accuracy : 84.1 %\n",
      "59m 43s (- 220m 25s) (2700 21%) loss : 0.805  accuracy : 83.2 %\n",
      "60m 18s (- 219m 58s) (2725 21%) loss : 0.446  accuracy : 89.5 %\n",
      "60m 49s (- 219m 17s) (2750 21%) loss : 0.742  accuracy : 84.2 %\n",
      "61m 19s (- 218m 33s) (2775 21%) loss : 0.756  accuracy : 83.1 %\n",
      "61m 54s (- 218m 6s) (2800 22%) loss : 0.609  accuracy : 86.7 %\n",
      "62m 21s (- 217m 11s) (2825 22%) loss : 0.714  accuracy : 84.6 %\n",
      "62m 57s (- 216m 46s) (2850 22%) loss : 0.956  accuracy : 81.2 %\n",
      "63m 28s (- 216m 6s) (2875 22%) loss : 0.798  accuracy : 84.2 %\n",
      "64m 0s (- 215m 29s) (2900 22%) loss : 0.572  accuracy : 87.2 %\n",
      "64m 31s (- 214m 51s) (2925 23%) loss : 0.647  accuracy : 85.8 %\n",
      "65m 1s (- 214m 6s) (2950 23%) loss : 0.796  accuracy : 83.6 %\n",
      "65m 32s (- 213m 27s) (2975 23%) loss : 0.618  accuracy : 86.4 %\n",
      "66m 9s (- 213m 8s) (3000 23%) loss : 0.688  accuracy : 85.8 %\n",
      "66m 43s (- 212m 36s) (3025 23%) loss : 0.839  accuracy : 82.6 %\n",
      "67m 19s (- 212m 14s) (3050 24%) loss : 0.602  accuracy : 86.9 %\n",
      "67m 55s (- 211m 50s) (3075 24%) loss : 0.554  accuracy : 87.8 %\n",
      "68m 27s (- 211m 12s) (3100 24%) loss : 0.612  accuracy : 87.1 %\n",
      "68m 57s (- 210m 29s) (3125 24%) loss : 0.956  accuracy : 79.4 %\n",
      "69m 32s (- 210m 1s) (3150 24%) loss : 0.492  accuracy : 88.6 %\n",
      "70m 5s (- 209m 27s) (3175 25%) loss : 0.748  accuracy : 83.9 %\n",
      "70m 37s (- 208m 52s) (3200 25%) loss : 0.652  accuracy : 85.1 %\n",
      "71m 9s (- 208m 16s) (3225 25%) loss : 0.729  accuracy : 84.1 %\n",
      "71m 37s (- 207m 27s) (3250 25%) loss : 0.872  accuracy : 82.3 %\n",
      "72m 10s (- 206m 55s) (3275 25%) loss : 0.911  accuracy : 81.2 %\n"
     ]
    },
    {
     "name": "stdout",
     "output_type": "stream",
     "text": [
      "72m 44s (- 206m 25s) (3300 26%) loss : 0.832  accuracy : 82.7 %\n",
      "73m 16s (- 205m 49s) (3325 26%) loss : 0.628  accuracy : 85.9 %\n",
      "73m 54s (- 205m 29s) (3350 26%) loss : 0.907  accuracy : 80.7 %\n",
      "74m 28s (- 204m 59s) (3375 26%) loss : 0.554  accuracy : 87.3 %\n",
      "75m 1s (- 204m 24s) (3400 26%) loss : 0.530  accuracy : 88.2 %\n",
      "75m 36s (- 203m 57s) (3425 27%) loss : 0.577  accuracy : 87.7 %\n",
      "76m 8s (- 203m 20s) (3450 27%) loss : 0.604  accuracy : 86.6 %\n",
      "76m 39s (- 202m 42s) (3475 27%) loss : 0.908  accuracy : 81.8 %\n",
      "77m 8s (- 201m 58s) (3500 27%) loss : 0.623  accuracy : 86.0 %\n",
      "77m 39s (- 201m 21s) (3525 27%) loss : 0.629  accuracy : 85.8 %\n",
      "78m 13s (- 200m 50s) (3550 28%) loss : 0.770  accuracy : 83.9 %\n",
      "78m 45s (- 200m 14s) (3575 28%) loss : 0.716  accuracy : 84.1 %\n",
      "79m 18s (- 199m 41s) (3600 28%) loss : 0.657  accuracy : 86.0 %\n",
      "79m 55s (- 199m 17s) (3625 28%) loss : 0.593  accuracy : 86.7 %\n",
      "80m 32s (- 198m 54s) (3650 28%) loss : 0.494  accuracy : 88.8 %\n",
      "81m 11s (- 198m 36s) (3675 29%) loss : 0.480  accuracy : 89.7 %\n",
      "81m 47s (- 198m 9s) (3700 29%) loss : 0.683  accuracy : 84.5 %\n",
      "82m 14s (- 197m 20s) (3725 29%) loss : 0.782  accuracy : 83.4 %\n",
      "82m 46s (- 196m 44s) (3750 29%) loss : 0.746  accuracy : 84.5 %\n",
      "83m 18s (- 196m 9s) (3775 29%) loss : 0.588  accuracy : 87.4 %\n",
      "83m 45s (- 195m 23s) (3800 30%) loss : 0.813  accuracy : 83.3 %\n",
      "84m 23s (- 195m 1s) (3825 30%) loss : 0.894  accuracy : 81.6 %\n",
      "84m 59s (- 194m 34s) (3850 30%) loss : 0.502  accuracy : 88.4 %\n",
      "85m 32s (- 194m 0s) (3875 30%) loss : 0.558  accuracy : 87.2 %\n",
      "86m 1s (- 193m 19s) (3900 30%) loss : 0.609  accuracy : 86.2 %\n",
      "86m 38s (- 192m 53s) (3925 30%) loss : 0.874  accuracy : 82.1 %\n",
      "87m 14s (- 192m 26s) (3950 31%) loss : 0.606  accuracy : 86.7 %\n",
      "87m 44s (- 191m 46s) (3975 31%) loss : 0.714  accuracy : 84.1 %\n",
      "88m 13s (- 191m 6s) (4000 31%) loss : 0.841  accuracy : 82.2 %\n",
      "88m 47s (- 190m 35s) (4025 31%) loss : 0.717  accuracy : 84.2 %\n",
      "89m 21s (- 190m 2s) (4050 31%) loss : 0.662  accuracy : 85.4 %\n",
      "89m 51s (- 189m 23s) (4075 32%) loss : 0.700  accuracy : 85.1 %\n",
      "90m 21s (- 188m 43s) (4100 32%) loss : 0.834  accuracy : 82.3 %\n",
      "90m 53s (- 188m 9s) (4125 32%) loss : 0.693  accuracy : 85.3 %\n",
      "91m 28s (- 187m 39s) (4150 32%) loss : 0.670  accuracy : 85.0 %\n",
      "92m 1s (- 187m 6s) (4175 32%) loss : 0.903  accuracy : 81.5 %\n",
      "92m 32s (- 186m 29s) (4200 33%) loss : 0.929  accuracy : 81.1 %\n",
      "93m 2s (- 185m 51s) (4225 33%) loss : 0.651  accuracy : 85.9 %\n",
      "93m 38s (- 185m 22s) (4250 33%) loss : 0.645  accuracy : 85.3 %\n",
      "94m 13s (- 184m 53s) (4275 33%) loss : 0.653  accuracy : 85.8 %\n",
      "94m 46s (- 184m 21s) (4300 33%) loss : 0.936  accuracy : 80.8 %\n",
      "95m 18s (- 183m 46s) (4325 34%) loss : 0.703  accuracy : 85.1 %\n",
      "95m 54s (- 183m 17s) (4350 34%) loss : 0.845  accuracy : 83.7 %\n",
      "96m 23s (- 182m 38s) (4375 34%) loss : 0.796  accuracy : 83.1 %\n",
      "96m 52s (- 181m 57s) (4400 34%) loss : 0.746  accuracy : 84.2 %\n",
      "97m 29s (- 181m 31s) (4425 34%) loss : 0.660  accuracy : 85.6 %\n",
      "98m 0s (- 180m 54s) (4450 35%) loss : 0.633  accuracy : 85.7 %\n",
      "98m 31s (- 180m 17s) (4475 35%) loss : 0.642  accuracy : 86.6 %\n",
      "99m 5s (- 179m 46s) (4500 35%) loss : 0.770  accuracy : 83.3 %\n",
      "99m 37s (- 179m 12s) (4525 35%) loss : 0.802  accuracy : 83.0 %\n",
      "100m 13s (- 178m 44s) (4550 35%) loss : 0.621  accuracy : 87.0 %\n",
      "100m 46s (- 178m 10s) (4575 36%) loss : 0.595  accuracy : 86.9 %\n",
      "101m 13s (- 177m 27s) (4600 36%) loss : 0.960  accuracy : 79.8 %\n",
      "101m 48s (- 176m 57s) (4625 36%) loss : 0.793  accuracy : 83.5 %\n",
      "102m 22s (- 176m 25s) (4650 36%) loss : 0.797  accuracy : 83.5 %\n",
      "102m 57s (- 175m 57s) (4675 36%) loss : 0.570  accuracy : 87.4 %\n",
      "103m 34s (- 175m 29s) (4700 37%) loss : 0.581  accuracy : 87.2 %\n",
      "104m 6s (- 174m 55s) (4725 37%) loss : 0.748  accuracy : 84.2 %\n",
      "104m 40s (- 174m 23s) (4750 37%) loss : 0.827  accuracy : 82.8 %\n",
      "105m 14s (- 173m 52s) (4775 37%) loss : 0.748  accuracy : 84.3 %\n",
      "105m 46s (- 173m 17s) (4800 37%) loss : 0.652  accuracy : 85.0 %\n",
      "106m 18s (- 172m 42s) (4825 38%) loss : 0.664  accuracy : 85.7 %\n",
      "106m 48s (- 172m 4s) (4850 38%) loss : 0.745  accuracy : 83.6 %\n",
      "107m 25s (- 171m 38s) (4875 38%) loss : 0.795  accuracy : 83.4 %\n",
      "107m 58s (- 171m 5s) (4900 38%) loss : 0.649  accuracy : 85.9 %\n",
      "108m 30s (- 170m 30s) (4925 38%) loss : 0.692  accuracy : 84.9 %\n",
      "109m 2s (- 169m 55s) (4950 39%) loss : 0.936  accuracy : 80.2 %\n",
      "109m 33s (- 169m 19s) (4975 39%) loss : 0.892  accuracy : 81.9 %\n",
      "110m 3s (- 168m 41s) (5000 39%) loss : 0.911  accuracy : 80.5 %\n",
      "110m 34s (- 168m 6s) (5025 39%) loss : 0.629  accuracy : 85.8 %\n",
      "111m 5s (- 167m 29s) (5050 39%) loss : 1.087  accuracy : 77.4 %\n",
      "111m 37s (- 166m 55s) (5075 40%) loss : 0.608  accuracy : 86.6 %\n",
      "112m 6s (- 166m 15s) (5100 40%) loss : 0.829  accuracy : 81.5 %\n",
      "112m 38s (- 165m 41s) (5125 40%) loss : 0.615  accuracy : 86.0 %\n",
      "113m 11s (- 165m 9s) (5150 40%) loss : 0.671  accuracy : 85.6 %\n",
      "113m 42s (- 164m 33s) (5175 40%) loss : 0.844  accuracy : 81.6 %\n",
      "114m 13s (- 163m 56s) (5200 41%) loss : 0.718  accuracy : 84.7 %\n",
      "114m 40s (- 163m 16s) (5225 41%) loss : 0.927  accuracy : 80.0 %\n",
      "115m 11s (- 162m 40s) (5250 41%) loss : 0.714  accuracy : 84.9 %\n",
      "115m 40s (- 162m 2s) (5275 41%) loss : 0.722  accuracy : 84.4 %\n",
      "116m 15s (- 161m 31s) (5300 41%) loss : 0.784  accuracy : 82.7 %\n",
      "116m 46s (- 160m 56s) (5325 42%) loss : 0.619  accuracy : 86.4 %\n",
      "117m 16s (- 160m 19s) (5350 42%) loss : 0.799  accuracy : 83.4 %\n",
      "117m 46s (- 159m 42s) (5375 42%) loss : 0.688  accuracy : 85.8 %\n",
      "118m 19s (- 159m 9s) (5400 42%) loss : 1.091  accuracy : 78.2 %\n",
      "118m 48s (- 158m 32s) (5425 42%) loss : 0.985  accuracy : 80.6 %\n",
      "119m 21s (- 157m 59s) (5450 43%) loss : 0.973  accuracy : 80.5 %\n",
      "119m 53s (- 157m 25s) (5475 43%) loss : 0.626  accuracy : 86.3 %\n",
      "120m 26s (- 156m 52s) (5500 43%) loss : 0.734  accuracy : 84.2 %\n",
      "120m 56s (- 156m 16s) (5525 43%) loss : 0.887  accuracy : 81.4 %\n",
      "121m 27s (- 155m 41s) (5550 43%) loss : 0.916  accuracy : 80.0 %\n",
      "122m 0s (- 155m 9s) (5575 44%) loss : 0.784  accuracy : 83.6 %\n",
      "122m 37s (- 154m 41s) (5600 44%) loss : 0.722  accuracy : 84.5 %\n",
      "123m 8s (- 154m 5s) (5625 44%) loss : 0.591  accuracy : 86.6 %\n",
      "123m 35s (- 153m 26s) (5650 44%) loss : 0.786  accuracy : 83.1 %\n",
      "124m 6s (- 152m 50s) (5675 44%) loss : 0.833  accuracy : 82.3 %\n",
      "124m 41s (- 152m 20s) (5700 45%) loss : 0.724  accuracy : 84.3 %\n",
      "125m 19s (- 151m 53s) (5725 45%) loss : 0.616  accuracy : 86.5 %\n",
      "125m 55s (- 151m 24s) (5750 45%) loss : 0.716  accuracy : 84.6 %\n",
      "126m 27s (- 150m 51s) (5775 45%) loss : 0.634  accuracy : 86.6 %\n",
      "126m 57s (- 150m 14s) (5800 45%) loss : 0.672  accuracy : 85.5 %\n",
      "127m 32s (- 149m 44s) (5825 45%) loss : 0.944  accuracy : 80.3 %\n",
      "128m 2s (- 149m 8s) (5850 46%) loss : 0.737  accuracy : 83.7 %\n",
      "128m 36s (- 148m 36s) (5875 46%) loss : 0.827  accuracy : 82.8 %\n",
      "129m 10s (- 148m 5s) (5900 46%) loss : 0.931  accuracy : 80.2 %\n",
      "129m 43s (- 147m 32s) (5925 46%) loss : 0.993  accuracy : 80.0 %\n",
      "130m 13s (- 146m 56s) (5950 46%) loss : 0.899  accuracy : 80.9 %\n",
      "130m 50s (- 146m 28s) (5975 47%) loss : 0.711  accuracy : 84.1 %\n",
      "131m 23s (- 145m 55s) (6000 47%) loss : 0.773  accuracy : 82.4 %\n",
      "131m 56s (- 145m 22s) (6025 47%) loss : 0.647  accuracy : 86.2 %\n",
      "132m 27s (- 144m 48s) (6050 47%) loss : 0.830  accuracy : 83.0 %\n",
      "132m 58s (- 144m 13s) (6075 47%) loss : 0.956  accuracy : 79.4 %\n",
      "133m 36s (- 143m 46s) (6100 48%) loss : 0.410  accuracy : 90.1 %\n",
      "134m 16s (- 143m 21s) (6125 48%) loss : 0.297  accuracy : 92.7 %\n",
      "134m 46s (- 142m 44s) (6150 48%) loss : 0.773  accuracy : 83.5 %\n",
      "135m 21s (- 142m 14s) (6175 48%) loss : 0.549  accuracy : 87.5 %\n",
      "135m 52s (- 141m 40s) (6200 48%) loss : 0.735  accuracy : 84.0 %\n",
      "136m 21s (- 141m 3s) (6225 49%) loss : 1.001  accuracy : 79.4 %\n",
      "136m 57s (- 140m 33s) (6250 49%) loss : 0.702  accuracy : 85.5 %\n",
      "137m 23s (- 139m 53s) (6275 49%) loss : 0.792  accuracy : 83.3 %\n",
      "137m 54s (- 139m 18s) (6300 49%) loss : 0.838  accuracy : 82.2 %\n",
      "138m 33s (- 138m 52s) (6325 49%) loss : 0.633  accuracy : 85.4 %\n",
      "139m 9s (- 138m 21s) (6350 50%) loss : 0.691  accuracy : 85.0 %\n",
      "139m 42s (- 137m 49s) (6375 50%) loss : 0.726  accuracy : 84.9 %\n",
      "140m 13s (- 137m 14s) (6400 50%) loss : 0.699  accuracy : 85.4 %\n",
      "140m 45s (- 136m 40s) (6425 50%) loss : 0.831  accuracy : 81.8 %\n",
      "141m 23s (- 136m 12s) (6450 50%) loss : 0.616  accuracy : 86.3 %\n",
      "141m 55s (- 135m 39s) (6475 51%) loss : 0.722  accuracy : 84.5 %\n"
     ]
    },
    {
     "name": "stdout",
     "output_type": "stream",
     "text": [
      "142m 29s (- 135m 7s) (6500 51%) loss : 0.735  accuracy : 85.2 %\n",
      "143m 1s (- 134m 34s) (6525 51%) loss : 0.839  accuracy : 81.9 %\n",
      "143m 35s (- 134m 2s) (6550 51%) loss : 0.587  accuracy : 87.3 %\n",
      "144m 10s (- 133m 30s) (6575 51%) loss : 0.705  accuracy : 85.2 %\n",
      "144m 40s (- 132m 55s) (6600 52%) loss : 0.889  accuracy : 81.3 %\n",
      "145m 11s (- 132m 21s) (6625 52%) loss : 0.757  accuracy : 83.5 %\n",
      "145m 42s (- 131m 46s) (6650 52%) loss : 0.961  accuracy : 80.1 %\n",
      "146m 15s (- 131m 13s) (6675 52%) loss : 0.590  accuracy : 86.3 %\n",
      "146m 48s (- 130m 41s) (6700 52%) loss : 0.581  accuracy : 87.8 %\n",
      "147m 22s (- 130m 8s) (6725 53%) loss : 0.658  accuracy : 86.2 %\n",
      "147m 55s (- 129m 36s) (6750 53%) loss : 0.886  accuracy : 81.1 %\n",
      "148m 27s (- 129m 2s) (6775 53%) loss : 0.670  accuracy : 85.2 %\n",
      "149m 0s (- 128m 30s) (6800 53%) loss : 0.779  accuracy : 83.4 %\n",
      "149m 31s (- 127m 55s) (6825 53%) loss : 1.019  accuracy : 80.0 %\n",
      "150m 6s (- 127m 24s) (6850 54%) loss : 0.906  accuracy : 81.4 %\n",
      "150m 40s (- 126m 52s) (6875 54%) loss : 0.760  accuracy : 83.4 %\n",
      "151m 17s (- 126m 22s) (6900 54%) loss : 0.616  accuracy : 86.4 %\n",
      "151m 52s (- 125m 52s) (6925 54%) loss : 0.771  accuracy : 82.8 %\n",
      "152m 20s (- 125m 14s) (6950 54%) loss : 0.733  accuracy : 84.0 %\n",
      "152m 50s (- 124m 39s) (6975 55%) loss : 0.734  accuracy : 84.4 %\n",
      "153m 23s (- 124m 6s) (7000 55%) loss : 0.799  accuracy : 83.1 %\n",
      "153m 55s (- 123m 33s) (7025 55%) loss : 0.513  accuracy : 88.8 %\n",
      "154m 27s (- 122m 59s) (7050 55%) loss : 0.954  accuracy : 81.4 %\n",
      "154m 58s (- 122m 25s) (7075 55%) loss : 0.632  accuracy : 86.4 %\n",
      "155m 33s (- 121m 54s) (7100 56%) loss : 0.551  accuracy : 87.2 %\n",
      "156m 11s (- 121m 25s) (7125 56%) loss : 0.648  accuracy : 86.3 %\n",
      "156m 44s (- 120m 52s) (7150 56%) loss : 0.890  accuracy : 81.3 %\n",
      "157m 14s (- 120m 17s) (7175 56%) loss : 0.837  accuracy : 81.3 %\n",
      "157m 51s (- 119m 48s) (7200 56%) loss : 0.931  accuracy : 80.2 %\n",
      "158m 24s (- 119m 15s) (7225 57%) loss : 0.937  accuracy : 80.0 %\n",
      "158m 57s (- 118m 42s) (7250 57%) loss : 0.511  accuracy : 88.6 %\n",
      "159m 29s (- 118m 8s) (7275 57%) loss : 0.990  accuracy : 79.0 %\n",
      "160m 1s (- 117m 35s) (7300 57%) loss : 0.821  accuracy : 82.5 %\n",
      "160m 36s (- 117m 4s) (7325 57%) loss : 0.727  accuracy : 84.2 %\n",
      "161m 14s (- 116m 34s) (7350 58%) loss : 0.900  accuracy : 81.1 %\n",
      "161m 47s (- 116m 1s) (7375 58%) loss : 0.822  accuracy : 83.1 %\n",
      "162m 17s (- 115m 26s) (7400 58%) loss : 0.647  accuracy : 86.0 %\n",
      "162m 51s (- 114m 54s) (7425 58%) loss : 0.443  accuracy : 90.0 %\n",
      "163m 24s (- 114m 21s) (7450 58%) loss : 0.725  accuracy : 84.6 %\n",
      "163m 55s (- 113m 47s) (7475 59%) loss : 0.846  accuracy : 82.9 %\n",
      "164m 27s (- 113m 13s) (7500 59%) loss : 0.810  accuracy : 82.3 %\n",
      "165m 0s (- 112m 41s) (7525 59%) loss : 0.851  accuracy : 81.9 %\n",
      "165m 31s (- 112m 6s) (7550 59%) loss : 0.759  accuracy : 84.4 %\n",
      "166m 9s (- 111m 37s) (7575 59%) loss : 0.416  accuracy : 90.7 %\n",
      "166m 40s (- 111m 3s) (7600 60%) loss : 0.988  accuracy : 80.0 %\n",
      "167m 16s (- 110m 32s) (7625 60%) loss : 0.766  accuracy : 83.8 %\n",
      "167m 49s (- 109m 59s) (7650 60%) loss : 0.798  accuracy : 83.6 %\n",
      "168m 22s (- 109m 27s) (7675 60%) loss : 0.788  accuracy : 82.7 %\n",
      "168m 58s (- 108m 56s) (7700 60%) loss : 0.760  accuracy : 83.4 %\n",
      "169m 31s (- 108m 23s) (7725 60%) loss : 0.535  accuracy : 87.8 %\n",
      "170m 2s (- 107m 49s) (7750 61%) loss : 0.780  accuracy : 83.0 %\n",
      "170m 34s (- 107m 15s) (7775 61%) loss : 0.996  accuracy : 78.7 %\n",
      "171m 7s (- 106m 42s) (7800 61%) loss : 0.981  accuracy : 80.0 %\n",
      "171m 45s (- 106m 12s) (7825 61%) loss : 1.012  accuracy : 80.3 %\n",
      "172m 20s (- 105m 41s) (7850 61%) loss : 0.759  accuracy : 83.6 %\n",
      "172m 55s (- 105m 9s) (7875 62%) loss : 0.772  accuracy : 83.9 %\n",
      "173m 24s (- 104m 34s) (7900 62%) loss : 0.925  accuracy : 80.8 %\n",
      "173m 54s (- 103m 59s) (7925 62%) loss : 0.794  accuracy : 83.5 %\n",
      "174m 29s (- 103m 27s) (7950 62%) loss : 0.830  accuracy : 82.3 %\n",
      "175m 0s (- 102m 53s) (7975 62%) loss : 0.698  accuracy : 85.0 %\n",
      "175m 30s (- 102m 19s) (8000 63%) loss : 0.837  accuracy : 82.6 %\n",
      "176m 3s (- 101m 46s) (8025 63%) loss : 0.763  accuracy : 83.7 %\n",
      "176m 37s (- 101m 14s) (8050 63%) loss : 0.491  accuracy : 89.2 %\n",
      "177m 7s (- 100m 39s) (8075 63%) loss : 0.672  accuracy : 85.2 %\n",
      "177m 34s (- 100m 3s) (8100 63%) loss : 0.798  accuracy : 83.2 %\n",
      "178m 3s (- 99m 28s) (8125 64%) loss : 0.574  accuracy : 87.3 %\n",
      "178m 36s (- 98m 55s) (8150 64%) loss : 0.613  accuracy : 86.3 %\n",
      "179m 11s (- 98m 23s) (8175 64%) loss : 0.638  accuracy : 86.3 %\n",
      "179m 43s (- 97m 50s) (8200 64%) loss : 0.917  accuracy : 79.8 %\n",
      "180m 12s (- 97m 15s) (8225 64%) loss : 0.930  accuracy : 80.5 %\n",
      "180m 41s (- 96m 40s) (8250 65%) loss : 0.882  accuracy : 81.5 %\n",
      "181m 13s (- 96m 7s) (8275 65%) loss : 0.649  accuracy : 86.6 %\n",
      "181m 45s (- 95m 34s) (8300 65%) loss : 0.600  accuracy : 86.5 %\n",
      "182m 15s (- 94m 59s) (8325 65%) loss : 0.931  accuracy : 80.7 %\n",
      "182m 49s (- 94m 27s) (8350 65%) loss : 0.692  accuracy : 84.2 %\n",
      "183m 21s (- 93m 54s) (8375 66%) loss : 0.699  accuracy : 84.8 %\n",
      "183m 52s (- 93m 20s) (8400 66%) loss : 0.960  accuracy : 79.8 %\n",
      "184m 25s (- 92m 47s) (8425 66%) loss : 0.856  accuracy : 81.9 %\n",
      "184m 59s (- 92m 15s) (8450 66%) loss : 0.678  accuracy : 85.4 %\n",
      "185m 31s (- 91m 42s) (8475 66%) loss : 0.942  accuracy : 81.2 %\n",
      "186m 1s (- 91m 7s) (8500 67%) loss : 1.263  accuracy : 74.4 %\n",
      "186m 30s (- 90m 32s) (8525 67%) loss : 0.676  accuracy : 84.9 %\n",
      "187m 4s (- 90m 0s) (8550 67%) loss : 0.813  accuracy : 83.1 %\n",
      "187m 39s (- 89m 28s) (8575 67%) loss : 0.424  accuracy : 90.4 %\n",
      "188m 9s (- 88m 55s) (8600 67%) loss : 0.725  accuracy : 85.0 %\n",
      "188m 44s (- 88m 23s) (8625 68%) loss : 0.723  accuracy : 84.4 %\n",
      "189m 20s (- 87m 51s) (8650 68%) loss : 0.630  accuracy : 86.3 %\n",
      "189m 54s (- 87m 19s) (8675 68%) loss : 0.609  accuracy : 87.3 %\n",
      "190m 23s (- 86m 44s) (8700 68%) loss : 0.897  accuracy : 80.5 %\n",
      "190m 52s (- 86m 10s) (8725 68%) loss : 0.748  accuracy : 83.3 %\n",
      "191m 33s (- 85m 41s) (8750 69%) loss : 0.493  accuracy : 89.1 %\n",
      "192m 3s (- 85m 7s) (8775 69%) loss : 0.794  accuracy : 82.8 %\n",
      "192m 36s (- 84m 34s) (8800 69%) loss : 0.758  accuracy : 84.3 %\n",
      "193m 7s (- 84m 0s) (8825 69%) loss : 0.728  accuracy : 84.6 %\n",
      "193m 38s (- 83m 26s) (8850 69%) loss : 0.747  accuracy : 83.7 %\n",
      "194m 8s (- 82m 52s) (8875 70%) loss : 0.819  accuracy : 82.4 %\n",
      "194m 44s (- 82m 21s) (8900 70%) loss : 0.539  accuracy : 87.5 %\n",
      "195m 12s (- 81m 46s) (8925 70%) loss : 0.767  accuracy : 83.2 %\n",
      "195m 54s (- 81m 17s) (8950 70%) loss : 0.665  accuracy : 85.7 %\n",
      "196m 22s (- 80m 42s) (8975 70%) loss : 0.982  accuracy : 79.4 %\n",
      "196m 58s (- 80m 11s) (9000 71%) loss : 0.539  accuracy : 87.1 %\n",
      "197m 26s (- 79m 36s) (9025 71%) loss : 0.896  accuracy : 81.0 %\n",
      "197m 59s (- 79m 4s) (9050 71%) loss : 0.538  accuracy : 86.9 %\n",
      "198m 34s (- 78m 32s) (9075 71%) loss : 1.021  accuracy : 78.0 %\n",
      "199m 8s (- 77m 59s) (9100 71%) loss : 0.611  accuracy : 86.1 %\n",
      "199m 43s (- 77m 27s) (9125 72%) loss : 0.644  accuracy : 86.2 %\n",
      "200m 18s (- 76m 55s) (9150 72%) loss : 0.658  accuracy : 85.1 %\n",
      "200m 52s (- 76m 23s) (9175 72%) loss : 0.523  accuracy : 88.3 %\n",
      "201m 24s (- 75m 50s) (9200 72%) loss : 0.681  accuracy : 84.4 %\n",
      "201m 56s (- 75m 16s) (9225 72%) loss : 0.852  accuracy : 82.1 %\n",
      "202m 28s (- 74m 43s) (9250 73%) loss : 0.683  accuracy : 84.8 %\n",
      "203m 2s (- 74m 11s) (9275 73%) loss : 0.718  accuracy : 84.3 %\n",
      "203m 32s (- 73m 37s) (9300 73%) loss : 0.780  accuracy : 83.0 %\n",
      "204m 2s (- 73m 3s) (9325 73%) loss : 0.821  accuracy : 82.5 %\n",
      "204m 35s (- 72m 31s) (9350 73%) loss : 0.490  accuracy : 89.5 %\n",
      "205m 8s (- 71m 58s) (9375 74%) loss : 0.519  accuracy : 88.7 %\n",
      "205m 43s (- 71m 25s) (9400 74%) loss : 0.640  accuracy : 86.3 %\n",
      "206m 14s (- 70m 52s) (9425 74%) loss : 0.678  accuracy : 85.6 %\n",
      "206m 47s (- 70m 19s) (9450 74%) loss : 0.567  accuracy : 87.2 %\n",
      "207m 23s (- 69m 48s) (9475 74%) loss : 0.709  accuracy : 84.2 %\n",
      "208m 0s (- 69m 16s) (9500 75%) loss : 0.527  accuracy : 88.5 %\n",
      "208m 33s (- 68m 43s) (9525 75%) loss : 0.666  accuracy : 85.2 %\n",
      "209m 8s (- 68m 11s) (9550 75%) loss : 0.929  accuracy : 80.5 %\n",
      "209m 42s (- 67m 39s) (9575 75%) loss : 0.898  accuracy : 81.6 %\n",
      "210m 16s (- 67m 6s) (9600 75%) loss : 0.947  accuracy : 80.2 %\n",
      "210m 45s (- 66m 32s) (9625 76%) loss : 0.670  accuracy : 85.4 %\n",
      "211m 22s (- 66m 1s) (9650 76%) loss : 0.747  accuracy : 83.7 %\n",
      "211m 53s (- 65m 27s) (9675 76%) loss : 1.038  accuracy : 78.7 %\n"
     ]
    },
    {
     "name": "stdout",
     "output_type": "stream",
     "text": [
      "212m 25s (- 64m 54s) (9700 76%) loss : 0.654  accuracy : 85.6 %\n",
      "212m 58s (- 64m 21s) (9725 76%) loss : 0.649  accuracy : 86.2 %\n",
      "213m 32s (- 63m 49s) (9750 76%) loss : 0.628  accuracy : 86.2 %\n",
      "214m 5s (- 63m 16s) (9775 77%) loss : 0.889  accuracy : 81.9 %\n",
      "214m 43s (- 62m 44s) (9800 77%) loss : 0.372  accuracy : 92.1 %\n",
      "215m 15s (- 62m 11s) (9825 77%) loss : 0.689  accuracy : 84.6 %\n",
      "215m 45s (- 61m 38s) (9850 77%) loss : 0.876  accuracy : 82.0 %\n",
      "216m 19s (- 61m 5s) (9875 77%) loss : 0.926  accuracy : 81.1 %\n",
      "216m 52s (- 60m 32s) (9900 78%) loss : 0.672  accuracy : 85.6 %\n",
      "217m 25s (- 60m 0s) (9925 78%) loss : 0.959  accuracy : 79.3 %\n",
      "218m 1s (- 59m 28s) (9950 78%) loss : 0.791  accuracy : 82.9 %\n",
      "218m 33s (- 58m 55s) (9975 78%) loss : 0.598  accuracy : 87.0 %\n",
      "219m 8s (- 58m 22s) (10000 78%) loss : 0.669  accuracy : 85.7 %\n",
      "219m 42s (- 57m 50s) (10025 79%) loss : 0.654  accuracy : 85.8 %\n",
      "220m 17s (- 57m 17s) (10050 79%) loss : 0.738  accuracy : 84.0 %\n",
      "220m 47s (- 56m 44s) (10075 79%) loss : 0.615  accuracy : 85.7 %\n",
      "221m 19s (- 56m 11s) (10100 79%) loss : 0.817  accuracy : 82.2 %\n",
      "221m 50s (- 55m 37s) (10125 79%) loss : 0.864  accuracy : 82.5 %\n",
      "222m 21s (- 55m 4s) (10150 80%) loss : 0.931  accuracy : 80.3 %\n",
      "222m 56s (- 54m 32s) (10175 80%) loss : 0.982  accuracy : 80.7 %\n",
      "223m 29s (- 53m 59s) (10200 80%) loss : 0.793  accuracy : 83.9 %\n",
      "224m 5s (- 53m 27s) (10225 80%) loss : 0.508  accuracy : 88.3 %\n",
      "224m 42s (- 52m 55s) (10250 80%) loss : 0.604  accuracy : 86.2 %\n",
      "225m 13s (- 52m 22s) (10275 81%) loss : 0.705  accuracy : 84.8 %\n",
      "225m 51s (- 51m 50s) (10300 81%) loss : 0.821  accuracy : 82.7 %\n",
      "226m 24s (- 51m 17s) (10325 81%) loss : 0.641  accuracy : 85.4 %\n",
      "226m 57s (- 50m 44s) (10350 81%) loss : 0.555  accuracy : 87.6 %\n",
      "227m 29s (- 50m 11s) (10375 81%) loss : 0.693  accuracy : 84.9 %\n",
      "228m 4s (- 49m 38s) (10400 82%) loss : 0.758  accuracy : 84.0 %\n",
      "228m 35s (- 49m 5s) (10425 82%) loss : 0.653  accuracy : 85.6 %\n",
      "229m 12s (- 48m 33s) (10450 82%) loss : 0.521  accuracy : 88.1 %\n",
      "229m 42s (- 48m 0s) (10475 82%) loss : 0.901  accuracy : 80.9 %\n",
      "230m 14s (- 47m 27s) (10500 82%) loss : 0.714  accuracy : 84.0 %\n",
      "230m 42s (- 46m 53s) (10525 83%) loss : 0.794  accuracy : 83.2 %\n",
      "231m 18s (- 46m 20s) (10550 83%) loss : 0.839  accuracy : 83.0 %\n",
      "231m 50s (- 45m 47s) (10575 83%) loss : 0.667  accuracy : 85.5 %\n",
      "232m 23s (- 45m 14s) (10600 83%) loss : 0.646  accuracy : 85.8 %\n",
      "232m 59s (- 44m 42s) (10625 83%) loss : 0.565  accuracy : 87.1 %\n",
      "233m 38s (- 44m 10s) (10650 84%) loss : 0.503  accuracy : 88.9 %\n",
      "234m 11s (- 43m 38s) (10675 84%) loss : 0.702  accuracy : 84.1 %\n",
      "234m 46s (- 43m 5s) (10700 84%) loss : 0.816  accuracy : 82.8 %\n",
      "235m 19s (- 42m 32s) (10725 84%) loss : 0.995  accuracy : 80.2 %\n",
      "235m 55s (- 42m 0s) (10750 84%) loss : 0.587  accuracy : 87.5 %\n",
      "236m 31s (- 41m 27s) (10775 85%) loss : 0.846  accuracy : 82.9 %\n",
      "237m 7s (- 40m 55s) (10800 85%) loss : 0.848  accuracy : 82.1 %\n",
      "237m 42s (- 40m 22s) (10825 85%) loss : 0.724  accuracy : 84.9 %\n",
      "238m 15s (- 39m 50s) (10850 85%) loss : 0.614  accuracy : 86.2 %\n",
      "238m 44s (- 39m 16s) (10875 85%) loss : 0.759  accuracy : 83.8 %\n",
      "239m 15s (- 38m 43s) (10900 86%) loss : 0.787  accuracy : 82.8 %\n",
      "239m 48s (- 38m 10s) (10925 86%) loss : 0.526  accuracy : 87.7 %\n",
      "240m 23s (- 37m 37s) (10950 86%) loss : 0.881  accuracy : 81.5 %\n",
      "240m 53s (- 37m 4s) (10975 86%) loss : 0.767  accuracy : 83.7 %\n",
      "241m 29s (- 36m 31s) (11000 86%) loss : 0.796  accuracy : 83.7 %\n",
      "242m 2s (- 35m 58s) (11025 87%) loss : 0.765  accuracy : 83.7 %\n",
      "242m 39s (- 35m 26s) (11050 87%) loss : 0.556  accuracy : 87.8 %\n",
      "243m 11s (- 34m 53s) (11075 87%) loss : 0.943  accuracy : 79.5 %\n",
      "243m 40s (- 34m 20s) (11100 87%) loss : 0.834  accuracy : 82.3 %\n",
      "244m 14s (- 33m 47s) (11125 87%) loss : 0.819  accuracy : 82.8 %\n",
      "244m 50s (- 33m 14s) (11150 88%) loss : 0.473  accuracy : 89.2 %\n",
      "245m 22s (- 32m 41s) (11175 88%) loss : 0.795  accuracy : 84.0 %\n",
      "245m 55s (- 32m 8s) (11200 88%) loss : 0.576  accuracy : 86.9 %\n",
      "246m 31s (- 31m 36s) (11225 88%) loss : 0.913  accuracy : 81.8 %\n",
      "246m 58s (- 31m 2s) (11250 88%) loss : 0.884  accuracy : 81.7 %\n",
      "247m 29s (- 30m 29s) (11275 89%) loss : 0.838  accuracy : 82.9 %\n",
      "248m 3s (- 29m 56s) (11300 89%) loss : 0.809  accuracy : 83.8 %\n",
      "248m 33s (- 29m 23s) (11325 89%) loss : 0.658  accuracy : 85.3 %\n",
      "249m 6s (- 28m 50s) (11350 89%) loss : 0.720  accuracy : 84.0 %\n",
      "249m 42s (- 28m 17s) (11375 89%) loss : 0.499  accuracy : 88.2 %\n",
      "250m 13s (- 27m 44s) (11400 90%) loss : 0.832  accuracy : 82.8 %\n",
      "250m 43s (- 27m 11s) (11425 90%) loss : 0.886  accuracy : 80.7 %\n",
      "251m 14s (- 26m 38s) (11450 90%) loss : 0.700  accuracy : 85.6 %\n",
      "251m 45s (- 26m 5s) (11475 90%) loss : 0.632  accuracy : 85.2 %\n",
      "252m 17s (- 25m 32s) (11500 90%) loss : 0.856  accuracy : 82.3 %\n",
      "252m 43s (- 24m 58s) (11525 91%) loss : 0.769  accuracy : 82.1 %\n",
      "253m 22s (- 24m 26s) (11550 91%) loss : 0.897  accuracy : 81.8 %\n",
      "253m 57s (- 23m 53s) (11575 91%) loss : 0.683  accuracy : 85.1 %\n",
      "254m 28s (- 23m 20s) (11600 91%) loss : 0.656  accuracy : 85.7 %\n",
      "254m 59s (- 22m 47s) (11625 91%) loss : 0.779  accuracy : 83.8 %\n",
      "255m 38s (- 22m 15s) (11650 91%) loss : 0.508  accuracy : 88.8 %\n",
      "256m 11s (- 21m 42s) (11675 92%) loss : 0.860  accuracy : 82.0 %\n",
      "256m 47s (- 21m 9s) (11700 92%) loss : 0.711  accuracy : 85.3 %\n",
      "257m 17s (- 20m 36s) (11725 92%) loss : 0.781  accuracy : 83.5 %\n",
      "257m 53s (- 20m 3s) (11750 92%) loss : 0.720  accuracy : 85.1 %\n",
      "258m 29s (- 19m 30s) (11775 92%) loss : 0.552  accuracy : 87.8 %\n",
      "259m 2s (- 18m 58s) (11800 93%) loss : 0.636  accuracy : 86.3 %\n",
      "259m 37s (- 18m 25s) (11825 93%) loss : 0.434  accuracy : 89.9 %\n",
      "260m 7s (- 17m 52s) (11850 93%) loss : 0.803  accuracy : 83.5 %\n",
      "260m 40s (- 17m 19s) (11875 93%) loss : 0.797  accuracy : 83.5 %\n",
      "261m 14s (- 16m 46s) (11900 93%) loss : 0.628  accuracy : 86.4 %\n",
      "261m 44s (- 16m 13s) (11925 94%) loss : 0.810  accuracy : 83.0 %\n",
      "262m 19s (- 15m 40s) (11950 94%) loss : 0.665  accuracy : 85.3 %\n",
      "262m 54s (- 15m 7s) (11975 94%) loss : 0.598  accuracy : 86.8 %\n",
      "263m 29s (- 14m 34s) (12000 94%) loss : 0.915  accuracy : 81.8 %\n",
      "264m 5s (- 14m 2s) (12025 94%) loss : 0.651  accuracy : 86.1 %\n",
      "264m 39s (- 13m 29s) (12050 95%) loss : 0.682  accuracy : 85.6 %\n",
      "265m 10s (- 12m 56s) (12075 95%) loss : 0.923  accuracy : 80.7 %\n",
      "265m 41s (- 12m 23s) (12100 95%) loss : 0.914  accuracy : 81.3 %\n",
      "266m 13s (- 11m 50s) (12125 95%) loss : 0.855  accuracy : 83.2 %\n",
      "266m 49s (- 11m 17s) (12150 95%) loss : 0.810  accuracy : 83.2 %\n",
      "267m 20s (- 10m 44s) (12175 96%) loss : 0.679  accuracy : 84.3 %\n",
      "267m 58s (- 10m 11s) (12200 96%) loss : 0.625  accuracy : 86.3 %\n",
      "268m 29s (- 9m 38s) (12225 96%) loss : 0.702  accuracy : 85.1 %\n",
      "269m 1s (- 9m 5s) (12250 96%) loss : 0.859  accuracy : 81.9 %\n",
      "269m 30s (- 8m 32s) (12275 96%) loss : 0.607  accuracy : 86.1 %\n",
      "270m 4s (- 7m 59s) (12300 97%) loss : 0.651  accuracy : 85.5 %\n",
      "270m 42s (- 7m 26s) (12325 97%) loss : 0.690  accuracy : 85.6 %\n",
      "271m 10s (- 6m 53s) (12350 97%) loss : 0.711  accuracy : 84.4 %\n",
      "271m 46s (- 6m 20s) (12375 97%) loss : 0.770  accuracy : 82.8 %\n",
      "272m 19s (- 5m 47s) (12400 97%) loss : 0.826  accuracy : 81.7 %\n",
      "272m 52s (- 5m 14s) (12425 98%) loss : 0.750  accuracy : 84.1 %\n",
      "273m 27s (- 4m 42s) (12450 98%) loss : 0.628  accuracy : 86.1 %\n",
      "274m 2s (- 4m 9s) (12475 98%) loss : 0.791  accuracy : 83.5 %\n",
      "274m 35s (- 3m 36s) (12500 98%) loss : 0.614  accuracy : 86.6 %\n",
      "275m 3s (- 3m 3s) (12525 98%) loss : 0.897  accuracy : 81.6 %\n",
      "275m 35s (- 2m 30s) (12550 99%) loss : 0.708  accuracy : 84.9 %\n",
      "276m 7s (- 1m 57s) (12575 99%) loss : 0.627  accuracy : 86.3 %\n",
      "276m 42s (- 1m 24s) (12600 99%) loss : 0.623  accuracy : 87.0 %\n",
      "277m 14s (- 0m 51s) (12625 99%) loss : 0.679  accuracy : 85.1 %\n",
      "277m 46s (- 0m 18s) (12650 99%) loss : 0.638  accuracy : 85.7 %\n"
     ]
    }
   ],
   "source": [
    "translator_fr_en.fit(batches, epochs = 1, lr = 0.000025, tf_ratio = 0.75, print_every = 25, random_state = 42142)"
   ]
  },
  {
   "cell_type": "code",
   "execution_count": 42,
   "metadata": {},
   "outputs": [],
   "source": [
    "# save\n",
    "#torch.save(translator_fr_en.state_dict(), path_to_DL4NLP + '\\\\saves\\\\DL4NLP_II2a_encoder_attndecoder_fr_en.pth')\n",
    "\n",
    "# load\n",
    "#translator_fr_en.load_state_dict(torch.load(path_to_DL4NLP + '\\\\saves\\\\DL4NLP_II2a_encoder_attndecoder_fr_en.pth'))"
   ]
  },
  {
   "cell_type": "markdown",
   "metadata": {},
   "source": [
    "#### Evaluation"
   ]
  },
  {
   "cell_type": "code",
   "execution_count": 136,
   "metadata": {},
   "outputs": [
    {
     "data": {
      "image/png": "[encoded data removed]",
      "text/plain": [
       "<Figure size 432x288 with 1 Axes>"
      ]
     },
     "metadata": {
      "needs_background": "light"
     },
     "output_type": "display_data"
    },
    {
     "name": "stdout",
     "output_type": "stream",
     "text": [
      "\u001b[48;2;242;68;50mj'ai\u001b[0m \u001b[48;2;256;245;240mmis\u001b[0m \u001b[48;2;256;245;240mmon\u001b[0m \u001b[48;2;256;245;240mdoigt\u001b[0m \u001b[48;2;256;245;240mdans\u001b[0m \u001b[48;2;256;245;240mun\u001b[0m \u001b[48;2;256;245;240mchien\u001b[0m \u001b[48;2;256;245;240met\u001b[0m \u001b[48;2;256;245;240mça\u001b[0m \u001b[48;2;256;245;240mfait\u001b[0m \u001b[48;2;256;245;240mmal\u001b[0m  - i\n",
      "\u001b[48;2;256;245;240mj'ai\u001b[0m \u001b[48;2;217;37;34mmis\u001b[0m \u001b[48;2;256;245;240mmon\u001b[0m \u001b[48;2;256;245;240mdoigt\u001b[0m \u001b[48;2;256;245;240mdans\u001b[0m \u001b[48;2;256;245;240mun\u001b[0m \u001b[48;2;256;245;240mchien\u001b[0m \u001b[48;2;256;245;240met\u001b[0m \u001b[48;2;256;245;240mça\u001b[0m \u001b[48;2;256;245;240mfait\u001b[0m \u001b[48;2;256;245;240mmal\u001b[0m  - put\n",
      "\u001b[48;2;256;245;240mj'ai\u001b[0m \u001b[48;2;256;245;240mmis\u001b[0m \u001b[48;2;252;138;106mmon\u001b[0m \u001b[48;2;253;202;181mdoigt\u001b[0m \u001b[48;2;256;245;240mdans\u001b[0m \u001b[48;2;256;245;240mun\u001b[0m \u001b[48;2;256;245;240mchien\u001b[0m \u001b[48;2;256;245;240met\u001b[0m \u001b[48;2;256;245;240mça\u001b[0m \u001b[48;2;256;245;240mfait\u001b[0m \u001b[48;2;256;245;240mmal\u001b[0m  - my\n",
      "\u001b[48;2;256;245;240mj'ai\u001b[0m \u001b[48;2;256;245;240mmis\u001b[0m \u001b[48;2;256;245;240mmon\u001b[0m \u001b[48;2;217;37;34mdoigt\u001b[0m \u001b[48;2;256;245;240mdans\u001b[0m \u001b[48;2;256;245;240mun\u001b[0m \u001b[48;2;256;245;240mchien\u001b[0m \u001b[48;2;256;245;240met\u001b[0m \u001b[48;2;256;245;240mça\u001b[0m \u001b[48;2;256;245;240mfait\u001b[0m \u001b[48;2;256;245;240mmal\u001b[0m  - finger\n",
      "\u001b[48;2;256;245;240mj'ai\u001b[0m \u001b[48;2;256;245;240mmis\u001b[0m \u001b[48;2;256;245;240mmon\u001b[0m \u001b[48;2;255;229;217mdoigt\u001b[0m \u001b[48;2;251;105;73mdans\u001b[0m \u001b[48;2;256;245;240mun\u001b[0m \u001b[48;2;256;245;240mchien\u001b[0m \u001b[48;2;256;245;240met\u001b[0m \u001b[48;2;256;245;240mça\u001b[0m \u001b[48;2;256;245;240mfait\u001b[0m \u001b[48;2;256;245;240mmal\u001b[0m  - in\n",
      "\u001b[48;2;256;245;240mj'ai\u001b[0m \u001b[48;2;256;245;240mmis\u001b[0m \u001b[48;2;256;245;240mmon\u001b[0m \u001b[48;2;256;245;240mdoigt\u001b[0m \u001b[48;2;256;245;240mdans\u001b[0m \u001b[48;2;251;105;73mun\u001b[0m \u001b[48;2;255;229;217mchien\u001b[0m \u001b[48;2;256;245;240met\u001b[0m \u001b[48;2;256;245;240mça\u001b[0m \u001b[48;2;256;245;240mfait\u001b[0m \u001b[48;2;256;245;240mmal\u001b[0m  - a\n",
      "\u001b[48;2;256;245;240mj'ai\u001b[0m \u001b[48;2;256;245;240mmis\u001b[0m \u001b[48;2;256;245;240mmon\u001b[0m \u001b[48;2;255;229;217mdoigt\u001b[0m \u001b[48;2;256;245;240mdans\u001b[0m \u001b[48;2;256;245;240mun\u001b[0m \u001b[48;2;252;171;143mchien\u001b[0m \u001b[48;2;255;229;217met\u001b[0m \u001b[48;2;256;245;240mça\u001b[0m \u001b[48;2;256;245;240mfait\u001b[0m \u001b[48;2;256;245;240mmal\u001b[0m  - dog\n",
      "\u001b[48;2;256;245;240mj'ai\u001b[0m \u001b[48;2;256;245;240mmis\u001b[0m \u001b[48;2;256;245;240mmon\u001b[0m \u001b[48;2;256;245;240mdoigt\u001b[0m \u001b[48;2;256;245;240mdans\u001b[0m \u001b[48;2;256;245;240mun\u001b[0m \u001b[48;2;256;245;240mchien\u001b[0m \u001b[48;2;242;68;50met\u001b[0m \u001b[48;2;256;245;240mça\u001b[0m \u001b[48;2;256;245;240mfait\u001b[0m \u001b[48;2;256;245;240mmal\u001b[0m  - and\n",
      "\u001b[48;2;256;245;240mj'ai\u001b[0m \u001b[48;2;256;245;240mmis\u001b[0m \u001b[48;2;256;245;240mmon\u001b[0m \u001b[48;2;256;245;240mdoigt\u001b[0m \u001b[48;2;256;245;240mdans\u001b[0m \u001b[48;2;256;245;240mun\u001b[0m \u001b[48;2;256;245;240mchien\u001b[0m \u001b[48;2;256;245;240met\u001b[0m \u001b[48;2;252;138;106mça\u001b[0m \u001b[48;2;253;202;181mfait\u001b[0m \u001b[48;2;256;245;240mmal\u001b[0m  - it\n",
      "\u001b[48;2;256;245;240mj'ai\u001b[0m \u001b[48;2;256;245;240mmis\u001b[0m \u001b[48;2;256;245;240mmon\u001b[0m \u001b[48;2;256;245;240mdoigt\u001b[0m \u001b[48;2;256;245;240mdans\u001b[0m \u001b[48;2;256;245;240mun\u001b[0m \u001b[48;2;256;245;240mchien\u001b[0m \u001b[48;2;256;245;240met\u001b[0m \u001b[48;2;255;229;217mça\u001b[0m \u001b[48;2;252;138;106mfait\u001b[0m \u001b[48;2;255;229;217mmal\u001b[0m  - hurts\n",
      "\n"
     ]
    },
    {
     "data": {
      "text/plain": [
       "'i put my finger in a dog and it hurts'"
      ]
     },
     "execution_count": 136,
     "metadata": {},
     "output_type": "execute_result"
    }
   ],
   "source": [
    "translator_fr_en.eval()\n",
    "#s = \"j'ai le choix dans la date\"\n",
    "#s = \"j'ai le doigt dans la chatte, et ça fait mal\"\n",
    "s = \"j'ai mis mon doigt dans un chien et ça fait mal\"\n",
    "translator_fr_en(s, attention_method = AttentionViewer)\n",
    "translator_fr_en(s, attention_method = AttentionViewerOnWords)"
   ]
  },
  {
   "cell_type": "code",
   "execution_count": 148,
   "metadata": {},
   "outputs": [
    {
     "data": {
      "image/png": "[encoded data removed]",
      "text/plain": [
       "<Figure size 432x288 with 1 Axes>"
      ]
     },
     "metadata": {
      "needs_background": "light"
     },
     "output_type": "display_data"
    },
    {
     "name": "stdout",
     "output_type": "stream",
     "text": [
      "\u001b[48;2;251;105;73mje\u001b[0m \u001b[48;2;256;245;240mne\u001b[0m \u001b[48;2;256;245;240msuis\u001b[0m \u001b[48;2;256;245;240mpas\u001b[0m \u001b[48;2;256;245;240msûr\u001b[0m \u001b[48;2;256;245;240mde\u001b[0m \u001b[48;2;256;245;240mcomprendre\u001b[0m  - i\n",
      "\u001b[48;2;256;245;240mje\u001b[0m \u001b[48;2;256;245;240mne\u001b[0m \u001b[48;2;251;105;73msuis\u001b[0m \u001b[48;2;256;245;240mpas\u001b[0m \u001b[48;2;256;245;240msûr\u001b[0m \u001b[48;2;256;245;240mde\u001b[0m \u001b[48;2;256;245;240mcomprendre\u001b[0m  - am\n",
      "\u001b[48;2;256;245;240mje\u001b[0m \u001b[48;2;256;245;240mne\u001b[0m \u001b[48;2;256;245;240msuis\u001b[0m \u001b[48;2;242;68;50mpas\u001b[0m \u001b[48;2;256;245;240msûr\u001b[0m \u001b[48;2;256;245;240mde\u001b[0m \u001b[48;2;256;245;240mcomprendre\u001b[0m  - not\n",
      "\u001b[48;2;256;245;240mje\u001b[0m \u001b[48;2;256;245;240mne\u001b[0m \u001b[48;2;256;245;240msuis\u001b[0m \u001b[48;2;256;245;240mpas\u001b[0m \u001b[48;2;242;68;50msûr\u001b[0m \u001b[48;2;256;245;240mde\u001b[0m \u001b[48;2;256;245;240mcomprendre\u001b[0m  - sure\n",
      "\u001b[48;2;256;245;240mje\u001b[0m \u001b[48;2;256;245;240mne\u001b[0m \u001b[48;2;256;245;240msuis\u001b[0m \u001b[48;2;256;245;240mpas\u001b[0m \u001b[48;2;255;229;217msûr\u001b[0m \u001b[48;2;252;171;143mde\u001b[0m \u001b[48;2;255;229;217mcomprendre\u001b[0m  - i\n",
      "\u001b[48;2;256;245;240mje\u001b[0m \u001b[48;2;256;245;240mne\u001b[0m \u001b[48;2;256;245;240msuis\u001b[0m \u001b[48;2;256;245;240mpas\u001b[0m \u001b[48;2;256;245;240msûr\u001b[0m \u001b[48;2;256;245;240mde\u001b[0m \u001b[48;2;242;68;50mcomprendre\u001b[0m  - understand\n",
      "\n"
     ]
    },
    {
     "data": {
      "text/plain": [
       "'i am not sure i understand'"
      ]
     },
     "execution_count": 148,
     "metadata": {},
     "output_type": "execute_result"
    }
   ],
   "source": [
    "s = \"je ne suis pas sûr de comprendre\"\n",
    "translator_fr_en(s, attention_method = AttentionViewer)\n",
    "translator_fr_en(s, attention_method = AttentionViewerOnWords)"
   ]
  },
  {
   "cell_type": "code",
   "execution_count": 158,
   "metadata": {},
   "outputs": [
    {
     "data": {
      "image/png": "[encoded data removed]",
      "text/plain": [
       "<Figure size 432x288 with 1 Axes>"
      ]
     },
     "metadata": {
      "needs_background": "light"
     },
     "output_type": "display_data"
    },
    {
     "name": "stdout",
     "output_type": "stream",
     "text": [
      "\u001b[48;2;217;37;34msalut\u001b[0m \u001b[48;2;256;245;240mmon\u001b[0m \u001b[48;2;256;245;240mnom\u001b[0m \u001b[48;2;256;245;240mest\u001b[0m \u001b[48;2;256;245;240mjb\u001b[0m \u001b[48;2;256;245;240m,\u001b[0m \u001b[48;2;256;245;240met\u001b[0m \u001b[48;2;256;245;240mje\u001b[0m \u001b[48;2;256;245;240msuis\u001b[0m \u001b[48;2;256;245;240men\u001b[0m \u001b[48;2;256;245;240mtrain\u001b[0m \u001b[48;2;256;245;240mde\u001b[0m \u001b[48;2;256;245;240mjouer\u001b[0m \u001b[48;2;256;245;240mà\u001b[0m \u001b[48;2;256;245;240mun\u001b[0m \u001b[48;2;256;245;240mjeu\u001b[0m  - hi\n",
      "\u001b[48;2;255;229;217msalut\u001b[0m \u001b[48;2;251;105;73mmon\u001b[0m \u001b[48;2;256;245;240mnom\u001b[0m \u001b[48;2;256;245;240mest\u001b[0m \u001b[48;2;256;245;240mjb\u001b[0m \u001b[48;2;256;245;240m,\u001b[0m \u001b[48;2;256;245;240met\u001b[0m \u001b[48;2;256;245;240mje\u001b[0m \u001b[48;2;256;245;240msuis\u001b[0m \u001b[48;2;256;245;240men\u001b[0m \u001b[48;2;256;245;240mtrain\u001b[0m \u001b[48;2;256;245;240mde\u001b[0m \u001b[48;2;256;245;240mjouer\u001b[0m \u001b[48;2;256;245;240mà\u001b[0m \u001b[48;2;256;245;240mun\u001b[0m \u001b[48;2;256;245;240mjeu\u001b[0m  - my\n",
      "\u001b[48;2;256;245;240msalut\u001b[0m \u001b[48;2;256;245;240mmon\u001b[0m \u001b[48;2;217;37;34mnom\u001b[0m \u001b[48;2;256;245;240mest\u001b[0m \u001b[48;2;256;245;240mjb\u001b[0m \u001b[48;2;256;245;240m,\u001b[0m \u001b[48;2;256;245;240met\u001b[0m \u001b[48;2;256;245;240mje\u001b[0m \u001b[48;2;256;245;240msuis\u001b[0m \u001b[48;2;256;245;240men\u001b[0m \u001b[48;2;256;245;240mtrain\u001b[0m \u001b[48;2;256;245;240mde\u001b[0m \u001b[48;2;256;245;240mjouer\u001b[0m \u001b[48;2;256;245;240mà\u001b[0m \u001b[48;2;256;245;240mun\u001b[0m \u001b[48;2;256;245;240mjeu\u001b[0m  - name\n",
      "\u001b[48;2;256;245;240msalut\u001b[0m \u001b[48;2;256;245;240mmon\u001b[0m \u001b[48;2;256;245;240mnom\u001b[0m \u001b[48;2;251;105;73mest\u001b[0m \u001b[48;2;256;245;240mjb\u001b[0m \u001b[48;2;256;245;240m,\u001b[0m \u001b[48;2;256;245;240met\u001b[0m \u001b[48;2;256;245;240mje\u001b[0m \u001b[48;2;256;245;240msuis\u001b[0m \u001b[48;2;256;245;240men\u001b[0m \u001b[48;2;256;245;240mtrain\u001b[0m \u001b[48;2;256;245;240mde\u001b[0m \u001b[48;2;256;245;240mjouer\u001b[0m \u001b[48;2;256;245;240mà\u001b[0m \u001b[48;2;256;245;240mun\u001b[0m \u001b[48;2;256;245;240mjeu\u001b[0m  - is\n",
      "\u001b[48;2;256;245;240msalut\u001b[0m \u001b[48;2;256;245;240mmon\u001b[0m \u001b[48;2;256;245;240mnom\u001b[0m \u001b[48;2;256;245;240mest\u001b[0m \u001b[48;2;251;105;73mjb\u001b[0m \u001b[48;2;255;229;217m,\u001b[0m \u001b[48;2;256;245;240met\u001b[0m \u001b[48;2;256;245;240mje\u001b[0m \u001b[48;2;256;245;240msuis\u001b[0m \u001b[48;2;256;245;240men\u001b[0m \u001b[48;2;256;245;240mtrain\u001b[0m \u001b[48;2;256;245;240mde\u001b[0m \u001b[48;2;256;245;240mjouer\u001b[0m \u001b[48;2;256;245;240mà\u001b[0m \u001b[48;2;256;245;240mun\u001b[0m \u001b[48;2;256;245;240mjeu\u001b[0m  - a\n",
      "\u001b[48;2;256;245;240msalut\u001b[0m \u001b[48;2;256;245;240mmon\u001b[0m \u001b[48;2;256;245;240mnom\u001b[0m \u001b[48;2;256;245;240mest\u001b[0m \u001b[48;2;255;229;217mjb\u001b[0m \u001b[48;2;255;229;217m,\u001b[0m \u001b[48;2;256;245;240met\u001b[0m \u001b[48;2;256;245;240mje\u001b[0m \u001b[48;2;256;245;240msuis\u001b[0m \u001b[48;2;256;245;240men\u001b[0m \u001b[48;2;256;245;240mtrain\u001b[0m \u001b[48;2;256;245;240mde\u001b[0m \u001b[48;2;255;229;217mjouer\u001b[0m \u001b[48;2;256;245;240mà\u001b[0m \u001b[48;2;256;245;240mun\u001b[0m \u001b[48;2;256;245;240mjeu\u001b[0m  - ,\n",
      "\u001b[48;2;256;245;240msalut\u001b[0m \u001b[48;2;256;245;240mmon\u001b[0m \u001b[48;2;256;245;240mnom\u001b[0m \u001b[48;2;256;245;240mest\u001b[0m \u001b[48;2;256;245;240mjb\u001b[0m \u001b[48;2;256;245;240m,\u001b[0m \u001b[48;2;252;138;106met\u001b[0m \u001b[48;2;256;245;240mje\u001b[0m \u001b[48;2;256;245;240msuis\u001b[0m \u001b[48;2;256;245;240men\u001b[0m \u001b[48;2;256;245;240mtrain\u001b[0m \u001b[48;2;256;245;240mde\u001b[0m \u001b[48;2;256;245;240mjouer\u001b[0m \u001b[48;2;256;245;240mà\u001b[0m \u001b[48;2;256;245;240mun\u001b[0m \u001b[48;2;256;245;240mjeu\u001b[0m  - and\n",
      "\u001b[48;2;256;245;240msalut\u001b[0m \u001b[48;2;256;245;240mmon\u001b[0m \u001b[48;2;256;245;240mnom\u001b[0m \u001b[48;2;256;245;240mest\u001b[0m \u001b[48;2;256;245;240mjb\u001b[0m \u001b[48;2;256;245;240m,\u001b[0m \u001b[48;2;255;229;217met\u001b[0m \u001b[48;2;253;202;181mje\u001b[0m \u001b[48;2;255;229;217msuis\u001b[0m \u001b[48;2;256;245;240men\u001b[0m \u001b[48;2;256;245;240mtrain\u001b[0m \u001b[48;2;256;245;240mde\u001b[0m \u001b[48;2;255;229;217mjouer\u001b[0m \u001b[48;2;256;245;240mà\u001b[0m \u001b[48;2;256;245;240mun\u001b[0m \u001b[48;2;256;245;240mjeu\u001b[0m  - i\n",
      "\u001b[48;2;256;245;240msalut\u001b[0m \u001b[48;2;256;245;240mmon\u001b[0m \u001b[48;2;256;245;240mnom\u001b[0m \u001b[48;2;256;245;240mest\u001b[0m \u001b[48;2;256;245;240mjb\u001b[0m \u001b[48;2;256;245;240m,\u001b[0m \u001b[48;2;256;245;240met\u001b[0m \u001b[48;2;256;245;240mje\u001b[0m \u001b[48;2;253;202;181msuis\u001b[0m \u001b[48;2;256;245;240men\u001b[0m \u001b[48;2;256;245;240mtrain\u001b[0m \u001b[48;2;256;245;240mde\u001b[0m \u001b[48;2;253;202;181mjouer\u001b[0m \u001b[48;2;256;245;240mà\u001b[0m \u001b[48;2;256;245;240mun\u001b[0m \u001b[48;2;256;245;240mjeu\u001b[0m  - am\n",
      "\u001b[48;2;256;245;240msalut\u001b[0m \u001b[48;2;256;245;240mmon\u001b[0m \u001b[48;2;256;245;240mnom\u001b[0m \u001b[48;2;256;245;240mest\u001b[0m \u001b[48;2;256;245;240mjb\u001b[0m \u001b[48;2;256;245;240m,\u001b[0m \u001b[48;2;256;245;240met\u001b[0m \u001b[48;2;256;245;240mje\u001b[0m \u001b[48;2;256;245;240msuis\u001b[0m \u001b[48;2;256;245;240men\u001b[0m \u001b[48;2;256;245;240mtrain\u001b[0m \u001b[48;2;256;245;240mde\u001b[0m \u001b[48;2;252;138;106mjouer\u001b[0m \u001b[48;2;256;245;240mà\u001b[0m \u001b[48;2;256;245;240mun\u001b[0m \u001b[48;2;256;245;240mjeu\u001b[0m  - playing\n",
      "\u001b[48;2;256;245;240msalut\u001b[0m \u001b[48;2;256;245;240mmon\u001b[0m \u001b[48;2;256;245;240mnom\u001b[0m \u001b[48;2;256;245;240mest\u001b[0m \u001b[48;2;256;245;240mjb\u001b[0m \u001b[48;2;256;245;240m,\u001b[0m \u001b[48;2;256;245;240met\u001b[0m \u001b[48;2;256;245;240mje\u001b[0m \u001b[48;2;256;245;240msuis\u001b[0m \u001b[48;2;256;245;240men\u001b[0m \u001b[48;2;256;245;240mtrain\u001b[0m \u001b[48;2;256;245;240mde\u001b[0m \u001b[48;2;255;229;217mjouer\u001b[0m \u001b[48;2;253;202;181mà\u001b[0m \u001b[48;2;253;202;181mun\u001b[0m \u001b[48;2;255;229;217mjeu\u001b[0m  - a\n",
      "\u001b[48;2;256;245;240msalut\u001b[0m \u001b[48;2;256;245;240mmon\u001b[0m \u001b[48;2;256;245;240mnom\u001b[0m \u001b[48;2;256;245;240mest\u001b[0m \u001b[48;2;256;245;240mjb\u001b[0m \u001b[48;2;256;245;240m,\u001b[0m \u001b[48;2;256;245;240met\u001b[0m \u001b[48;2;256;245;240mje\u001b[0m \u001b[48;2;256;245;240msuis\u001b[0m \u001b[48;2;256;245;240men\u001b[0m \u001b[48;2;256;245;240mtrain\u001b[0m \u001b[48;2;256;245;240mde\u001b[0m \u001b[48;2;256;245;240mjouer\u001b[0m \u001b[48;2;256;245;240mà\u001b[0m \u001b[48;2;256;245;240mun\u001b[0m \u001b[48;2;251;105;73mjeu\u001b[0m  - game\n",
      "\n"
     ]
    },
    {
     "data": {
      "text/plain": [
       "'hi my name is a , and i am playing a game'"
      ]
     },
     "execution_count": 158,
     "metadata": {},
     "output_type": "execute_result"
    }
   ],
   "source": [
    "translator_fr_en.eval()\n",
    "s = \"salut mon nom est jb, et je suis en train de jouer à un jeu\"\n",
    "translator_fr_en(s, attention_method = AttentionViewer)\n",
    "translator_fr_en(s, attention_method = AttentionViewerOnWords)"
   ]
  },
  {
   "cell_type": "code",
   "execution_count": 50,
   "metadata": {},
   "outputs": [
    {
     "data": {
      "image/png": "[encoded data removed]",
      "text/plain": [
       "<Figure size 432x288 with 1 Axes>"
      ]
     },
     "metadata": {
      "needs_background": "light"
     },
     "output_type": "display_data"
    },
    {
     "name": "stdout",
     "output_type": "stream",
     "text": [
      "\u001b[48;2;242;68;50mje\u001b[0m \u001b[48;2;256;245;240mne\u001b[0m \u001b[48;2;256;245;240msais\u001b[0m \u001b[48;2;256;245;240mpas\u001b[0m \u001b[48;2;256;245;240mvraiment\u001b[0m  - i\n",
      "\u001b[48;2;256;245;240mje\u001b[0m \u001b[48;2;255;229;217mne\u001b[0m \u001b[48;2;255;229;217msais\u001b[0m \u001b[48;2;253;202;181mpas\u001b[0m \u001b[48;2;255;229;217mvraiment\u001b[0m  - do\n",
      "\u001b[48;2;256;245;240mje\u001b[0m \u001b[48;2;256;245;240mne\u001b[0m \u001b[48;2;256;245;240msais\u001b[0m \u001b[48;2;242;68;50mpas\u001b[0m \u001b[48;2;256;245;240mvraiment\u001b[0m  - not\n",
      "\u001b[48;2;256;245;240mje\u001b[0m \u001b[48;2;256;245;240mne\u001b[0m \u001b[48;2;255;229;217msais\u001b[0m \u001b[48;2;256;245;240mpas\u001b[0m \u001b[48;2;242;68;50mvraiment\u001b[0m  - really\n",
      "\u001b[48;2;256;245;240mje\u001b[0m \u001b[48;2;256;245;240mne\u001b[0m \u001b[48;2;217;37;34msais\u001b[0m \u001b[48;2;256;245;240mpas\u001b[0m \u001b[48;2;256;245;240mvraiment\u001b[0m  - know\n",
      "\n"
     ]
    },
    {
     "data": {
      "text/plain": [
       "'i do not really know'"
      ]
     },
     "execution_count": 50,
     "metadata": {},
     "output_type": "execute_result"
    }
   ],
   "source": [
    "translator_fr_en.eval()\n",
    "sentence = 'je ne sais pas vraiment'\n",
    "translator_fr_en(sentence, attention_method = AttentionViewer)\n",
    "translator_fr_en(sentence, attention_method = AttentionViewerOnWords)"
   ]
  },
  {
   "cell_type": "code",
   "execution_count": 88,
   "metadata": {},
   "outputs": [
    {
     "data": {
      "image/png": "[encoded data removed]",
      "text/plain": [
       "<Figure size 432x288 with 1 Axes>"
      ]
     },
     "metadata": {
      "needs_background": "light"
     },
     "output_type": "display_data"
    },
    {
     "name": "stdout",
     "output_type": "stream",
     "text": [
      "\u001b[48;2;251;105;73mil\u001b[0m \u001b[48;2;256;245;240mn\u001b[0m \u001b[48;2;256;245;240m'\u001b[0m \u001b[48;2;256;245;240ma\u001b[0m \u001b[48;2;256;245;240mpas\u001b[0m \u001b[48;2;256;245;240ml'air\u001b[0m \u001b[48;2;256;245;240mde\u001b[0m \u001b[48;2;256;245;240mtrès\u001b[0m \u001b[48;2;256;245;240mbien\u001b[0m \u001b[48;2;256;245;240maller\u001b[0m  - he\n",
      "\u001b[48;2;256;245;240mil\u001b[0m \u001b[48;2;256;245;240mn\u001b[0m \u001b[48;2;256;245;240m'\u001b[0m \u001b[48;2;253;202;181ma\u001b[0m \u001b[48;2;252;171;143mpas\u001b[0m \u001b[48;2;256;245;240ml'air\u001b[0m \u001b[48;2;256;245;240mde\u001b[0m \u001b[48;2;256;245;240mtrès\u001b[0m \u001b[48;2;256;245;240mbien\u001b[0m \u001b[48;2;256;245;240maller\u001b[0m  - does\n",
      "\u001b[48;2;256;245;240mil\u001b[0m \u001b[48;2;256;245;240mn\u001b[0m \u001b[48;2;256;245;240m'\u001b[0m \u001b[48;2;256;245;240ma\u001b[0m \u001b[48;2;251;105;73mpas\u001b[0m \u001b[48;2;255;229;217ml'air\u001b[0m \u001b[48;2;256;245;240mde\u001b[0m \u001b[48;2;256;245;240mtrès\u001b[0m \u001b[48;2;256;245;240mbien\u001b[0m \u001b[48;2;256;245;240maller\u001b[0m  - not\n",
      "\u001b[48;2;256;245;240mil\u001b[0m \u001b[48;2;256;245;240mn\u001b[0m \u001b[48;2;256;245;240m'\u001b[0m \u001b[48;2;256;245;240ma\u001b[0m \u001b[48;2;256;245;240mpas\u001b[0m \u001b[48;2;217;37;34ml'air\u001b[0m \u001b[48;2;256;245;240mde\u001b[0m \u001b[48;2;256;245;240mtrès\u001b[0m \u001b[48;2;256;245;240mbien\u001b[0m \u001b[48;2;256;245;240maller\u001b[0m  - look\n",
      "\u001b[48;2;256;245;240mil\u001b[0m \u001b[48;2;256;245;240mn\u001b[0m \u001b[48;2;256;245;240m'\u001b[0m \u001b[48;2;256;245;240ma\u001b[0m \u001b[48;2;256;245;240mpas\u001b[0m \u001b[48;2;256;245;240ml'air\u001b[0m \u001b[48;2;252;138;106mde\u001b[0m \u001b[48;2;253;202;181mtrès\u001b[0m \u001b[48;2;256;245;240mbien\u001b[0m \u001b[48;2;256;245;240maller\u001b[0m  - very\n",
      "\u001b[48;2;256;245;240mil\u001b[0m \u001b[48;2;256;245;240mn\u001b[0m \u001b[48;2;256;245;240m'\u001b[0m \u001b[48;2;256;245;240ma\u001b[0m \u001b[48;2;256;245;240mpas\u001b[0m \u001b[48;2;256;245;240ml'air\u001b[0m \u001b[48;2;256;245;240mde\u001b[0m \u001b[48;2;255;229;217mtrès\u001b[0m \u001b[48;2;251;105;73mbien\u001b[0m \u001b[48;2;256;245;240maller\u001b[0m  - well\n",
      "\n"
     ]
    },
    {
     "data": {
      "text/plain": [
       "'he does not look very well'"
      ]
     },
     "execution_count": 88,
     "metadata": {},
     "output_type": "execute_result"
    }
   ],
   "source": [
    "translator_fr_en.eval()\n",
    "sentence = \"il n'a pas l'air de très bien aller\"\n",
    "translator_fr_en(sentence, attention_method = AttentionViewer)\n",
    "translator_fr_en(sentence, attention_method = AttentionViewerOnWords)"
   ]
  },
  {
   "cell_type": "code",
   "execution_count": 156,
   "metadata": {},
   "outputs": [
    {
     "data": {
      "image/png": "[encoded data removed]",
      "text/plain": [
       "<Figure size 432x288 with 1 Axes>"
      ]
     },
     "metadata": {
      "needs_background": "light"
     },
     "output_type": "display_data"
    },
    {
     "name": "stdout",
     "output_type": "stream",
     "text": [
      "\u001b[48;2;253;202;181mla\u001b[0m \u001b[48;2;251;105;73mdonnée\u001b[0m \u001b[48;2;256;245;240mest\u001b[0m \u001b[48;2;256;245;240mtrès\u001b[0m \u001b[48;2;256;245;240mpropre\u001b[0m  - the\n",
      "\u001b[48;2;256;245;240mla\u001b[0m \u001b[48;2;217;37;34mdonnée\u001b[0m \u001b[48;2;256;245;240mest\u001b[0m \u001b[48;2;256;245;240mtrès\u001b[0m \u001b[48;2;256;245;240mpropre\u001b[0m  - data\n",
      "\u001b[48;2;256;245;240mla\u001b[0m \u001b[48;2;256;245;240mdonnée\u001b[0m \u001b[48;2;252;138;106mest\u001b[0m \u001b[48;2;255;229;217mtrès\u001b[0m \u001b[48;2;256;245;240mpropre\u001b[0m  - is\n",
      "\u001b[48;2;256;245;240mla\u001b[0m \u001b[48;2;256;245;240mdonnée\u001b[0m \u001b[48;2;256;245;240mest\u001b[0m \u001b[48;2;217;37;34mtrès\u001b[0m \u001b[48;2;256;245;240mpropre\u001b[0m  - very\n",
      "\u001b[48;2;256;245;240mla\u001b[0m \u001b[48;2;256;245;240mdonnée\u001b[0m \u001b[48;2;256;245;240mest\u001b[0m \u001b[48;2;256;245;240mtrès\u001b[0m \u001b[48;2;217;37;34mpropre\u001b[0m  - clean\n",
      "\n"
     ]
    },
    {
     "data": {
      "text/plain": [
       "'the data is very clean'"
      ]
     },
     "execution_count": 156,
     "metadata": {},
     "output_type": "execute_result"
    }
   ],
   "source": [
    "translator_fr_en.eval()\n",
    "s = \"la donnée est très propre\"\n",
    "translator_fr_en(s, attention_method = AttentionViewer)\n",
    "translator_fr_en(s, attention_method = AttentionViewerOnWords)"
   ]
  },
  {
   "cell_type": "code",
   "execution_count": 163,
   "metadata": {},
   "outputs": [
    {
     "data": {
      "image/png": "[encoded data removed]",
      "text/plain": [
       "<Figure size 432x288 with 1 Axes>"
      ]
     },
     "metadata": {
      "needs_background": "light"
     },
     "output_type": "display_data"
    },
    {
     "name": "stdout",
     "output_type": "stream",
     "text": [
      "\u001b[48;2;256;245;240mles\u001b[0m \u001b[48;2;253;202;181mtermes\u001b[0m \u001b[48;2;252;138;106mtechniques\u001b[0m \u001b[48;2;256;245;240mne\u001b[0m \u001b[48;2;256;245;240msont\u001b[0m \u001b[48;2;256;245;240mpas\u001b[0m \u001b[48;2;256;245;240mbien\u001b[0m \u001b[48;2;256;245;240mcompris\u001b[0m  - the\n",
      "\u001b[48;2;256;245;240mles\u001b[0m \u001b[48;2;255;229;217mtermes\u001b[0m \u001b[48;2;242;68;50mtechniques\u001b[0m \u001b[48;2;256;245;240mne\u001b[0m \u001b[48;2;256;245;240msont\u001b[0m \u001b[48;2;256;245;240mpas\u001b[0m \u001b[48;2;256;245;240mbien\u001b[0m \u001b[48;2;256;245;240mcompris\u001b[0m  - technical\n",
      "\u001b[48;2;256;245;240mles\u001b[0m \u001b[48;2;251;105;73mtermes\u001b[0m \u001b[48;2;255;229;217mtechniques\u001b[0m \u001b[48;2;256;245;240mne\u001b[0m \u001b[48;2;256;245;240msont\u001b[0m \u001b[48;2;256;245;240mpas\u001b[0m \u001b[48;2;256;245;240mbien\u001b[0m \u001b[48;2;256;245;240mcompris\u001b[0m  - terms\n",
      "\u001b[48;2;256;245;240mles\u001b[0m \u001b[48;2;255;229;217mtermes\u001b[0m \u001b[48;2;256;245;240mtechniques\u001b[0m \u001b[48;2;252;171;143mne\u001b[0m \u001b[48;2;255;229;217msont\u001b[0m \u001b[48;2;256;245;240mpas\u001b[0m \u001b[48;2;256;245;240mbien\u001b[0m \u001b[48;2;256;245;240mcompris\u001b[0m  - are\n",
      "\u001b[48;2;256;245;240mles\u001b[0m \u001b[48;2;256;245;240mtermes\u001b[0m \u001b[48;2;256;245;240mtechniques\u001b[0m \u001b[48;2;256;245;240mne\u001b[0m \u001b[48;2;256;245;240msont\u001b[0m \u001b[48;2;252;138;106mpas\u001b[0m \u001b[48;2;255;229;217mbien\u001b[0m \u001b[48;2;256;245;240mcompris\u001b[0m  - not\n",
      "\u001b[48;2;256;245;240mles\u001b[0m \u001b[48;2;256;245;240mtermes\u001b[0m \u001b[48;2;256;245;240mtechniques\u001b[0m \u001b[48;2;256;245;240mne\u001b[0m \u001b[48;2;256;245;240msont\u001b[0m \u001b[48;2;256;245;240mpas\u001b[0m \u001b[48;2;252;138;106mbien\u001b[0m \u001b[48;2;252;171;143mcompris\u001b[0m  - understood\n",
      "\u001b[48;2;256;245;240mles\u001b[0m \u001b[48;2;256;245;240mtermes\u001b[0m \u001b[48;2;256;245;240mtechniques\u001b[0m \u001b[48;2;256;245;240mne\u001b[0m \u001b[48;2;256;245;240msont\u001b[0m \u001b[48;2;256;245;240mpas\u001b[0m \u001b[48;2;251;105;73mbien\u001b[0m \u001b[48;2;255;229;217mcompris\u001b[0m  - well\n",
      "\n"
     ]
    },
    {
     "data": {
      "text/plain": [
       "'the technical terms are not understood well'"
      ]
     },
     "execution_count": 163,
     "metadata": {},
     "output_type": "execute_result"
    }
   ],
   "source": [
    "translator_fr_en.eval()\n",
    "s = \"les termes techniques ne sont pas bien compris\"\n",
    "translator_fr_en(s, attention_method = AttentionViewer)\n",
    "translator_fr_en(s, attention_method = AttentionViewerOnWords)"
   ]
  },
  {
   "cell_type": "code",
   "execution_count": 96,
   "metadata": {
    "scrolled": true
   },
   "outputs": [
    {
     "data": {
      "image/png": "[encoded data removed]",
      "text/plain": [
       "<Figure size 432x288 with 1 Axes>"
      ]
     },
     "metadata": {
      "needs_background": "light"
     },
     "output_type": "display_data"
    },
    {
     "name": "stdout",
     "output_type": "stream",
     "text": [
      "\u001b[48;2;217;37;34mbonjour\u001b[0m \u001b[48;2;256;245;240m,\u001b[0m \u001b[48;2;256;245;240mje\u001b[0m \u001b[48;2;256;245;240mvoudrais\u001b[0m \u001b[48;2;256;245;240msavoir\u001b[0m \u001b[48;2;256;245;240msi\u001b[0m \u001b[48;2;256;245;240mcet\u001b[0m \u001b[48;2;256;245;240marticle\u001b[0m \u001b[48;2;256;245;240mest\u001b[0m \u001b[48;2;256;245;240mde\u001b[0m \u001b[48;2;256;245;240mbonne\u001b[0m \u001b[48;2;256;245;240mqualité\u001b[0m  - hello\n",
      "\u001b[48;2;253;202;181mbonjour\u001b[0m \u001b[48;2;252;171;143m,\u001b[0m \u001b[48;2;253;202;181mje\u001b[0m \u001b[48;2;256;245;240mvoudrais\u001b[0m \u001b[48;2;256;245;240msavoir\u001b[0m \u001b[48;2;256;245;240msi\u001b[0m \u001b[48;2;256;245;240mcet\u001b[0m \u001b[48;2;256;245;240marticle\u001b[0m \u001b[48;2;256;245;240mest\u001b[0m \u001b[48;2;256;245;240mde\u001b[0m \u001b[48;2;256;245;240mbonne\u001b[0m \u001b[48;2;256;245;240mqualité\u001b[0m  - ,\n",
      "\u001b[48;2;256;245;240mbonjour\u001b[0m \u001b[48;2;256;245;240m,\u001b[0m \u001b[48;2;242;68;50mje\u001b[0m \u001b[48;2;256;245;240mvoudrais\u001b[0m \u001b[48;2;256;245;240msavoir\u001b[0m \u001b[48;2;256;245;240msi\u001b[0m \u001b[48;2;256;245;240mcet\u001b[0m \u001b[48;2;256;245;240marticle\u001b[0m \u001b[48;2;256;245;240mest\u001b[0m \u001b[48;2;256;245;240mde\u001b[0m \u001b[48;2;256;245;240mbonne\u001b[0m \u001b[48;2;256;245;240mqualité\u001b[0m  - i\n",
      "\u001b[48;2;256;245;240mbonjour\u001b[0m \u001b[48;2;256;245;240m,\u001b[0m \u001b[48;2;256;245;240mje\u001b[0m \u001b[48;2;242;68;50mvoudrais\u001b[0m \u001b[48;2;256;245;240msavoir\u001b[0m \u001b[48;2;256;245;240msi\u001b[0m \u001b[48;2;256;245;240mcet\u001b[0m \u001b[48;2;256;245;240marticle\u001b[0m \u001b[48;2;256;245;240mest\u001b[0m \u001b[48;2;256;245;240mde\u001b[0m \u001b[48;2;256;245;240mbonne\u001b[0m \u001b[48;2;256;245;240mqualité\u001b[0m  - would\n",
      "\u001b[48;2;256;245;240mbonjour\u001b[0m \u001b[48;2;256;245;240m,\u001b[0m \u001b[48;2;256;245;240mje\u001b[0m \u001b[48;2;242;68;50mvoudrais\u001b[0m \u001b[48;2;256;245;240msavoir\u001b[0m \u001b[48;2;256;245;240msi\u001b[0m \u001b[48;2;256;245;240mcet\u001b[0m \u001b[48;2;256;245;240marticle\u001b[0m \u001b[48;2;256;245;240mest\u001b[0m \u001b[48;2;256;245;240mde\u001b[0m \u001b[48;2;256;245;240mbonne\u001b[0m \u001b[48;2;256;245;240mqualité\u001b[0m  - like\n",
      "\u001b[48;2;256;245;240mbonjour\u001b[0m \u001b[48;2;256;245;240m,\u001b[0m \u001b[48;2;256;245;240mje\u001b[0m \u001b[48;2;256;245;240mvoudrais\u001b[0m \u001b[48;2;242;68;50msavoir\u001b[0m \u001b[48;2;256;245;240msi\u001b[0m \u001b[48;2;256;245;240mcet\u001b[0m \u001b[48;2;256;245;240marticle\u001b[0m \u001b[48;2;256;245;240mest\u001b[0m \u001b[48;2;256;245;240mde\u001b[0m \u001b[48;2;256;245;240mbonne\u001b[0m \u001b[48;2;256;245;240mqualité\u001b[0m  - to\n",
      "\u001b[48;2;256;245;240mbonjour\u001b[0m \u001b[48;2;256;245;240m,\u001b[0m \u001b[48;2;256;245;240mje\u001b[0m \u001b[48;2;256;245;240mvoudrais\u001b[0m \u001b[48;2;217;37;34msavoir\u001b[0m \u001b[48;2;256;245;240msi\u001b[0m \u001b[48;2;256;245;240mcet\u001b[0m \u001b[48;2;256;245;240marticle\u001b[0m \u001b[48;2;256;245;240mest\u001b[0m \u001b[48;2;256;245;240mde\u001b[0m \u001b[48;2;256;245;240mbonne\u001b[0m \u001b[48;2;256;245;240mqualité\u001b[0m  - know\n",
      "\u001b[48;2;256;245;240mbonjour\u001b[0m \u001b[48;2;256;245;240m,\u001b[0m \u001b[48;2;256;245;240mje\u001b[0m \u001b[48;2;256;245;240mvoudrais\u001b[0m \u001b[48;2;256;245;240msavoir\u001b[0m \u001b[48;2;242;68;50msi\u001b[0m \u001b[48;2;256;245;240mcet\u001b[0m \u001b[48;2;256;245;240marticle\u001b[0m \u001b[48;2;256;245;240mest\u001b[0m \u001b[48;2;256;245;240mde\u001b[0m \u001b[48;2;256;245;240mbonne\u001b[0m \u001b[48;2;256;245;240mqualité\u001b[0m  - if\n",
      "\u001b[48;2;256;245;240mbonjour\u001b[0m \u001b[48;2;256;245;240m,\u001b[0m \u001b[48;2;256;245;240mje\u001b[0m \u001b[48;2;256;245;240mvoudrais\u001b[0m \u001b[48;2;256;245;240msavoir\u001b[0m \u001b[48;2;256;245;240msi\u001b[0m \u001b[48;2;242;68;50mcet\u001b[0m \u001b[48;2;256;245;240marticle\u001b[0m \u001b[48;2;256;245;240mest\u001b[0m \u001b[48;2;256;245;240mde\u001b[0m \u001b[48;2;256;245;240mbonne\u001b[0m \u001b[48;2;256;245;240mqualité\u001b[0m  - this\n",
      "\u001b[48;2;256;245;240mbonjour\u001b[0m \u001b[48;2;256;245;240m,\u001b[0m \u001b[48;2;256;245;240mje\u001b[0m \u001b[48;2;256;245;240mvoudrais\u001b[0m \u001b[48;2;256;245;240msavoir\u001b[0m \u001b[48;2;256;245;240msi\u001b[0m \u001b[48;2;255;229;217mcet\u001b[0m \u001b[48;2;242;68;50marticle\u001b[0m \u001b[48;2;256;245;240mest\u001b[0m \u001b[48;2;256;245;240mde\u001b[0m \u001b[48;2;256;245;240mbonne\u001b[0m \u001b[48;2;256;245;240mqualité\u001b[0m  - article\n",
      "\u001b[48;2;256;245;240mbonjour\u001b[0m \u001b[48;2;256;245;240m,\u001b[0m \u001b[48;2;256;245;240mje\u001b[0m \u001b[48;2;256;245;240mvoudrais\u001b[0m \u001b[48;2;256;245;240msavoir\u001b[0m \u001b[48;2;256;245;240msi\u001b[0m \u001b[48;2;256;245;240mcet\u001b[0m \u001b[48;2;255;229;217marticle\u001b[0m \u001b[48;2;252;138;106mest\u001b[0m \u001b[48;2;255;229;217mde\u001b[0m \u001b[48;2;256;245;240mbonne\u001b[0m \u001b[48;2;256;245;240mqualité\u001b[0m  - is\n",
      "\u001b[48;2;256;245;240mbonjour\u001b[0m \u001b[48;2;256;245;240m,\u001b[0m \u001b[48;2;256;245;240mje\u001b[0m \u001b[48;2;256;245;240mvoudrais\u001b[0m \u001b[48;2;256;245;240msavoir\u001b[0m \u001b[48;2;256;245;240msi\u001b[0m \u001b[48;2;256;245;240mcet\u001b[0m \u001b[48;2;256;245;240marticle\u001b[0m \u001b[48;2;256;245;240mest\u001b[0m \u001b[48;2;251;105;73mde\u001b[0m \u001b[48;2;255;229;217mbonne\u001b[0m \u001b[48;2;256;245;240mqualité\u001b[0m  - good\n",
      "\n"
     ]
    },
    {
     "data": {
      "text/plain": [
       "'hello , i would like to know if this article is good'"
      ]
     },
     "execution_count": 96,
     "metadata": {},
     "output_type": "execute_result"
    }
   ],
   "source": [
    "translator_fr_en.eval()\n",
    "s = \"bonjour, je voudrais savoir si cet article est de bonne qualité\"\n",
    "translator_fr_en(s, attention_method = AttentionViewer)\n",
    "translator_fr_en(s, attention_method = AttentionViewerOnWords)"
   ]
  }
 ],
 "metadata": {
  "kernelspec": {
   "display_name": "Python 3",
   "language": "python",
   "name": "python3"
  },
  "language_info": {
   "codemirror_mode": {
    "name": "ipython",
    "version": 3
   },
   "file_extension": ".py",
   "mimetype": "text/x-python",
   "name": "python",
   "nbconvert_exporter": "python",
   "pygments_lexer": "ipython3",
   "version": "3.6.5"
  }
 },
 "nbformat": 4,
 "nbformat_minor": 2
}
