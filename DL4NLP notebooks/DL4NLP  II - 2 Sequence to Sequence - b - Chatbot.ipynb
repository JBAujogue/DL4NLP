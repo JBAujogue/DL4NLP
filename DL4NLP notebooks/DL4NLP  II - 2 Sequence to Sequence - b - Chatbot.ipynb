{
 "cells": [
  {
   "cell_type": "markdown",
   "metadata": {},
   "source": [
    "<div style=\"font-variant: small-caps; \n",
    "      font-weight: normal; \n",
    "      font-size: 30px; \n",
    "      text-align: center; \n",
    "      padding: 15px; \n",
    "      margin: 10px;\">\n",
    "  Deep Learning for NLP\n",
    "  </div> \n",
    "  \n",
    "<div style=\"font-variant: small-caps; \n",
    "      font-weight: normal; \n",
    "      font-size: 30px; \n",
    "      text-align: center; \n",
    "      padding: 15px; \n",
    "      margin: 10px;\">\n",
    "    <font color=orange>II - 2 </font>\n",
    "  Sequence to Sequence\n",
    "  </div> \n",
    "\n",
    "  <div style=\"\n",
    "      font-weight: normal; \n",
    "      font-size: 20px; \n",
    "      text-align: center; \n",
    "      padding: 15px;\">\n",
    "    b. Chatbot\n",
    "  </div> \n",
    "\n",
    "  <div style=\" float:right; \n",
    "      font-size: 12px; \n",
    "      line-height: 12px; \n",
    "  padding: 10px 15px 8px;\">\n",
    "  Jean-baptiste AUJOGUE\n",
    "  </div> "
   ]
  },
  {
   "cell_type": "markdown",
   "metadata": {},
   "source": [
    "### Part I\n",
    "\n",
    "1. Word Embedding\n",
    "\n",
    "2. Sentence Classification\n",
    "\n",
    "3. Language Modeling\n",
    "\n",
    "4. Sequence Labelling\n",
    "\n",
    "\n",
    "### Part II\n",
    "\n",
    "1. Text Classification\n",
    "\n",
    "2. <font color=orange>**Sequence to sequence**</font>\n",
    "\n",
    "\n",
    "### Part III\n",
    "\n",
    "8. Abstractive Summarization\n",
    "\n",
    "9. Question Answering\n",
    "\n",
    "10. Chatbot\n",
    "\n",
    "\n",
    "</div>\n",
    "\n",
    "***"
   ]
  },
  {
   "cell_type": "markdown",
   "metadata": {},
   "source": [
    "<a id=\"plan\"></a>"
   ]
  },
  {
   "cell_type": "markdown",
   "metadata": {},
   "source": [
    "| | | | |\n",
    "|------|------|------|------|\n",
    "| **Content** | [Corpus](#corpus) | [Modules](#modules) | [Model](#model) | \n",
    "\n"
   ]
  },
  {
   "cell_type": "markdown",
   "metadata": {},
   "source": [
    "# Packages"
   ]
  },
  {
   "cell_type": "code",
   "execution_count": 1,
   "metadata": {},
   "outputs": [
    {
     "name": "stderr",
     "output_type": "stream",
     "text": [
      "C:\\ProgramData\\Anaconda3\\lib\\site-packages\\gensim\\utils.py:1197: UserWarning: detected Windows; aliasing chunkize to chunkize_serial\n",
      "  warnings.warn(\"detected Windows; aliasing chunkize to chunkize_serial\")\n"
     ]
    },
    {
     "name": "stdout",
     "output_type": "stream",
     "text": [
      "python version : 3.6.5 |Anaconda, Inc.| (default, Mar 29 2018, 13:32:41) [MSC v.1900 64 bit (AMD64)]\n",
      "pytorch version : 1.4.0\n",
      "DL device : cuda\n"
     ]
    }
   ],
   "source": [
    "from __future__ import unicode_literals, print_function, division\n",
    "\n",
    "import sys\n",
    "import warnings\n",
    "import os\n",
    "from io import open\n",
    "import unicodedata\n",
    "import string\n",
    "import time\n",
    "import math\n",
    "import re\n",
    "import random\n",
    "import pickle\n",
    "import copy\n",
    "from unidecode import unidecode\n",
    "import itertools\n",
    "import matplotlib\n",
    "import matplotlib.pyplot as plt\n",
    "\n",
    "\n",
    "# for special math operation\n",
    "from sklearn.preprocessing import normalize\n",
    "\n",
    "\n",
    "# for manipulating data \n",
    "import numpy as np\n",
    "#np.set_printoptions(threshold=np.nan)\n",
    "import pandas as pd\n",
    "import bcolz # see https://bcolz.readthedocs.io/en/latest/intro.html\n",
    "import pickle\n",
    "\n",
    "\n",
    "# for text processing\n",
    "import gensim\n",
    "from gensim.models import KeyedVectors\n",
    "#import spacy\n",
    "import nltk\n",
    "#nltk.download()\n",
    "from nltk.tokenize import sent_tokenize, word_tokenize, RegexpTokenizer\n",
    "from nltk.stem.porter import PorterStemmer\n",
    "\n",
    "\n",
    "# for deep learning\n",
    "import torch\n",
    "import torch.nn as nn\n",
    "from torch.autograd import Variable\n",
    "from torch import optim\n",
    "import torch.nn.functional as F\n",
    "from torch.utils.data import DataLoader\n",
    "device = torch.device(\"cuda\" if torch.cuda.is_available() else \"cpu\")\n",
    "#device = torch.device(\"cpu\")\n",
    "\n",
    "warnings.filterwarnings(\"ignore\")\n",
    "print('python version :', sys.version)\n",
    "print('pytorch version :', torch.__version__)\n",
    "print('DL device :', device)"
   ]
  },
  {
   "cell_type": "code",
   "execution_count": 2,
   "metadata": {},
   "outputs": [],
   "source": [
    "path_to_DL4NLP = os.path.dirname(os.getcwd())"
   ]
  },
  {
   "cell_type": "code",
   "execution_count": 3,
   "metadata": {},
   "outputs": [],
   "source": [
    "sys.path.append(path_to_DL4NLP + '\\\\lib')"
   ]
  },
  {
   "cell_type": "markdown",
   "metadata": {},
   "source": [
    "<a id=\"corpus\"></a>"
   ]
  },
  {
   "cell_type": "markdown",
   "metadata": {},
   "source": [
    "# Corpus\n",
    "\n",
    "[Back to top](#plan)\n",
    "\n",
    "Le texte est importé et mis sous forme de liste, où chaque élément représente un texte présenté sous forme d'une liste de mots.<br> Le corpus est donc une fois importé sous le forme :<br>\n",
    "\n",
    "- corpus = [text]<br>\n",
    "- text   = [word]<br>\n",
    "- word   = str<br>"
   ]
  },
  {
   "cell_type": "code",
   "execution_count": 4,
   "metadata": {},
   "outputs": [],
   "source": [
    "# --------------------------- Normalisation -------------------------------\n",
    "def normalizeString(s):\n",
    "    '''Remove rare symbols from a string'''\n",
    "    def unicodeToAscii(s):\n",
    "        \"\"\"Turn a Unicode string to plain ASCII, thanks to http://stackoverflow.com/a/518232/2809427\"\"\"\n",
    "        return ''.join(c for c in unicodedata.normalize('NFD', s) if unicodedata.category(c) != 'Mn')\n",
    " \n",
    "    s = unicodeToAscii(s.lower().strip())\n",
    "    #s = re.sub(r\"[^a-zA-Z0-9?&\\%\\-\\_]+\", r\" \", s) \n",
    "    s = re.sub(\"\\(\", r\" ( \", s)\n",
    "    s = re.sub(\"\\)\", r\" ) \", s)\n",
    "    s = re.sub(r\"\\.\", r\" . \", s)\n",
    "    s = re.sub(r\",\", r\" , \", s)\n",
    "    s = re.sub(r\"!\", r\" ! \", s)\n",
    "    s = re.sub(r\":\", r\" : \", s)\n",
    "    s = re.sub(r\"-\", r\" - \", s)\n",
    "    s = re.sub(r\"'\", r\" ' \", s)\n",
    "    s = re.sub(r\";\", r\" ; \", s)\n",
    "    s = re.sub(r' +', r' ', s).strip()\n",
    "    return s \n",
    "\n",
    "\n",
    "\n",
    "#--------------------- import des dialogues --------------------\n",
    "def importDialogues(path, limit = None):\n",
    "    '''Import a textfile containing dialogues and returns a list, each element \n",
    "       corresponding to a dialogue and also being under the form of a list, with \n",
    "       each element being a list of two elements : an element giving a user \n",
    "       utterance and another element giving the bot response. Both elements are \n",
    "       normalized strings.\n",
    "       Ex. The dialogue :\n",
    "       \n",
    "               hi    hello what can i help you with today\n",
    "               can you book a table    i m on it\n",
    "               \n",
    "       now becomes :\n",
    "       \n",
    "              [['hi', 'hello what can i help you with today'], \n",
    "               ['can you book a table', 'i m on it']]\n",
    "               \n",
    "       Lines corresponding to user utterance with no bot response are discarted.\n",
    "    '''\n",
    "    def cleanS(s):\n",
    "        cleans = normalizeString(s)\n",
    "        cleans = cleans.replace('?', ' ? ').strip()\n",
    "        return cleans\n",
    "    \n",
    "    dialogues = []\n",
    "    dialogues_import = open(path, encoding='utf-8').read().strip().split('\\n\\n')\n",
    "    for i, d in enumerate(dialogues_import):\n",
    "        dialogue = []\n",
    "        lines = d.split('\\n')\n",
    "        for l in lines:\n",
    "            if len(l.split('\\t')) == 2 :\n",
    "                pair = [cleanS(s) for s in l.split('\\t')]\n",
    "                dialogue.append(pair)\n",
    "            elif len(l.split('\\t')) == 3 :\n",
    "                pair = [cleanS(s) for s in l.split('\\t')[:2]]\n",
    "                dialogue.append(pair)\n",
    "        dialogues.append(dialogue)\n",
    "        if limit is not None and i == limit -1 : break\n",
    "    return dialogues\n",
    "\n",
    "\n",
    "def getUniqueQAs(dialogues) :\n",
    "    uniq = []\n",
    "    for qa in dialogues :\n",
    "        if qa not in uniq : uniq.append(qa)\n",
    "    return uniq\n",
    "\n",
    "\n",
    "\n",
    "#------------------ Dictionnaire des mots variables -----------------------------\n",
    "def motVar(file):\n",
    "    '''Applies to the Master's program dataset.\n",
    "       Import the collection of pairs token-content for a set of variable words.\n",
    "    '''\n",
    "    lines = open(file, encoding='utf-8').read().strip().split('\\n')\n",
    "    motsVar = {}\n",
    "    for l in lines :\n",
    "        cle, valeur = l.split('\\t')\n",
    "        motsVar[cle.lower()] = valeur\n",
    "    return motsVar"
   ]
  },
  {
   "cell_type": "code",
   "execution_count": 5,
   "metadata": {},
   "outputs": [],
   "source": [
    "motsVar    = motVar(path_to_DL4NLP + '\\\\data\\\\M2DS\\\\M2DS_2019_07\\\\chatbot-M2-DS-Variables.txt')\n",
    "dialogues  = importDialogues(path_to_DL4NLP + '\\\\data\\\\M2DS\\\\M2DS_2019_10\\\\ChatbotDS_P_Train.tsv')\n",
    "dialogues_tst = importDialogues(path_to_DL4NLP + '\\\\data\\\\M2DS\\\\M2DS_2019_10\\\\ChatbotDS_P_Test.tsv')"
   ]
  },
  {
   "cell_type": "code",
   "execution_count": 6,
   "metadata": {},
   "outputs": [
    {
     "name": "stdout",
     "output_type": "stream",
     "text": [
      "200224 20561\n"
     ]
    }
   ],
   "source": [
    "qa_trn = [qa for dialogue in dialogues for qa in dialogue] # getUniqueQAs(\n",
    "qa_tst = [qa for dialogue in dialogues_tst for qa in dialogue] # getUniqueQAs(\n",
    "\n",
    "print(len(qa_trn), len(qa_tst))"
   ]
  },
  {
   "cell_type": "code",
   "execution_count": 7,
   "metadata": {
    "scrolled": true
   },
   "outputs": [
    {
     "name": "stdout",
     "output_type": "stream",
     "text": [
      "il vaut mieux suivre quel parcours  ? \t les deux parcours sont equivalents , c ' est a vous de faire un choix .\n",
      "quand est ce que commence les cours  ? \t la rentree est le daterentree\n",
      "comment je prend contact avec la scolarite  ? \t les contacts de la scolarite sont accessibles sur : sitescolarite\n",
      "est ce que il y a des cours en anglais  ? \t plusieurs supports de cours sont en anglais\n",
      "tous les cours sont obligatoires  ? \t tous les cours sont obligatoires , il n ' existe pas d ' options .\n",
      "merci pour les renseignements \t je vous en prie\n",
      "peux tu m ' aider  ? \t je suis la pour vous renseigner sur le master 2 data science .\n",
      "le cours de data visualisation est - il en ligne  ? \t vous devriez prendre contact avec l ' enseignant de l ' ue et lui demander\n",
      "j ' ai envie de faire de la data science \t alors vous devriez songer a candidater a ce master !\n",
      "il y a des livres a lire en statistique  ? \t vous devriez prendre contact avec l ' enseignant de l ' ue et lui demander\n",
      "il y a combien de candidats  ? \t il y a plus de nbrcandidats candidats chaque annee , la selection est rude !\n",
      "combien de places sont ouvertes  ? \t souhaitez - vous suivre le parcours informatique ou mathematiques  ?\n",
      "informatique \t etes - vous un etudiant inscrit en france  ?\n",
      "non \t il y a nbreplaces_hors_france_informatique places disponibles pour les etudiants hors france en parcours informatique .\n",
      "comment je peux payer  ? \t vous pouvez payer par carte , par cheque bancaire , par virement ou en espece .\n",
      "avez - vous une maquette detaillee de ce master  ? \t les details de la formation est disponible sur la page du master parcours informatique : site_informatique\n",
      "comment ca va  ? \t je vais bien merci , en quoi puis - je vous aider  ?\n"
     ]
    }
   ],
   "source": [
    "for qa in dialogues[0] : print(qa[0], '\\t', qa[1])"
   ]
  },
  {
   "cell_type": "markdown",
   "metadata": {},
   "source": [
    "<a id=\"modules\"></a>"
   ]
  },
  {
   "cell_type": "markdown",
   "metadata": {},
   "source": [
    "# 1 Modules\n",
    "\n",
    "### 1.1 Word Embedding module\n",
    "\n",
    "[Back to top](#plan)\n",
    "\n",
    "All details on Word Embedding modules and their pre-training are found in **Part I - 1**. We consider here a FastText model trained following the Skip-Gram training objective."
   ]
  },
  {
   "cell_type": "code",
   "execution_count": 8,
   "metadata": {},
   "outputs": [],
   "source": [
    "from libDL4NLP.models.Word_Embedding import Word2Vec as myWord2Vec\n",
    "from libDL4NLP.models.Word_Embedding import Word2VecConnector\n",
    "from libDL4NLP.utils.Lang import Lang"
   ]
  },
  {
   "cell_type": "code",
   "execution_count": 9,
   "metadata": {},
   "outputs": [],
   "source": [
    "from gensim.models.fasttext import FastText\n",
    "from gensim.test.utils import datapath, get_tmpfile"
   ]
  },
  {
   "cell_type": "markdown",
   "metadata": {},
   "source": [
    "**Option 1** : Load pretrained"
   ]
  },
  {
   "cell_type": "code",
   "execution_count": 10,
   "metadata": {},
   "outputs": [],
   "source": [
    "# load\n",
    "word2vec_in  = torch.load(path_to_DL4NLP + '\\\\saves\\\\DL4NLP_II2_w2v_in_M2DS.pt')\n",
    "word2vec_out = torch.load(path_to_DL4NLP + '\\\\saves\\\\DL4NLP_II2_w2v_out_M2DS.pt')"
   ]
  },
  {
   "cell_type": "markdown",
   "metadata": {},
   "source": [
    "**Option 2** : Train new model"
   ]
  },
  {
   "cell_type": "code",
   "execution_count": 10,
   "metadata": {},
   "outputs": [],
   "source": [
    "corpus_in  = [['SOS'] + [w for w in qa[0].split(' ')] + ['EOS'] for qa in qa_trn]\n",
    "corpus_out = [['SOS'] + [w for w in qa[1].split(' ')] + ['EOS'] for qa in qa_trn]"
   ]
  },
  {
   "cell_type": "code",
   "execution_count": 53,
   "metadata": {},
   "outputs": [],
   "source": [
    "def prepareWord2vec(corpus, epochs) :\n",
    "    fastText_word2vec = FastText(size = 75, \n",
    "                                 window = 5, \n",
    "                                 min_count = 1, \n",
    "                                 negative = 20,\n",
    "                                 sg = 1)\n",
    "    fastText_word2vec.build_vocab(corpus)\n",
    "    print(len(fastText_word2vec.wv.vocab))\n",
    "    fastText_word2vec.train(sentences = corpus, \n",
    "                            epochs = epochs,\n",
    "                            total_examples = fastText_word2vec.corpus_count)\n",
    "    word2vec = Word2VecConnector(fastText_word2vec)\n",
    "    return word2vec"
   ]
  },
  {
   "cell_type": "code",
   "execution_count": 54,
   "metadata": {},
   "outputs": [
    {
     "name": "stdout",
     "output_type": "stream",
     "text": [
      "782\n",
      "896\n"
     ]
    }
   ],
   "source": [
    "word2vec_in  = prepareWord2vec(corpus_in, epochs = 20)\n",
    "word2vec_out = prepareWord2vec(corpus_out, epochs = 20)"
   ]
  },
  {
   "cell_type": "code",
   "execution_count": 11,
   "metadata": {},
   "outputs": [
    {
     "data": {
      "text/plain": [
       "[('bonjour', 0.9804752469062805),\n",
       " ('mal', 0.8117103576660156),\n",
       " ('bien', 0.6764619946479797),\n",
       " ('principal', 0.672505259513855),\n",
       " ('principalement', 0.5881912112236023),\n",
       " ('english', 0.578591525554657),\n",
       " ('handle', 0.5670300722122192),\n",
       " ('coucou', 0.5658980011940002),\n",
       " ('ok', 0.5612411499023438),\n",
       " ('speak', 0.5596966743469238)]"
      ]
     },
     "execution_count": 11,
     "metadata": {},
     "output_type": "execute_result"
    }
   ],
   "source": [
    "word2vec_in.word2vec.most_similar('bonjou')"
   ]
  },
  {
   "cell_type": "code",
   "execution_count": 12,
   "metadata": {},
   "outputs": [
    {
     "data": {
      "text/plain": [
       "[('bonjour', 0.968519926071167),\n",
       " ('accord', 0.7767391204833984),\n",
       " ('comment', 0.6192842721939087),\n",
       " ('aider', 0.5911822319030762),\n",
       " ('accordez', 0.5513397455215454),\n",
       " ('vais', 0.4964368939399719),\n",
       " ('puis', 0.4900757372379303),\n",
       " ('gardez', 0.48046615719795227),\n",
       " ('merci', 0.4791063368320465),\n",
       " ('test', 0.47400200366973877)]"
      ]
     },
     "execution_count": 12,
     "metadata": {},
     "output_type": "execute_result"
    }
   ],
   "source": [
    "word2vec_out.word2vec.most_similar('bonjou')"
   ]
  },
  {
   "cell_type": "code",
   "execution_count": 58,
   "metadata": {},
   "outputs": [],
   "source": [
    "# save\n",
    "#torch.save(word2vec_in, path_to_NLP + '\\\\saves\\\\models\\\\DL4NLP_II2_w2v_in_M2DS.pt')\n",
    "#torch.save(word2vec_out, path_to_NLP + '\\\\saves\\\\models\\\\DL4NLP_II2_w2v_out_M2DS.pt')"
   ]
  },
  {
   "cell_type": "markdown",
   "metadata": {},
   "source": [
    "### 1.2 Contextualization module\n",
    "\n",
    "[Back to top](#plan)\n",
    "\n",
    "This module consists of a bi-directional _Gated Recurrent Unit_ (GRU) that supports packed sentences :"
   ]
  },
  {
   "cell_type": "code",
   "execution_count": 13,
   "metadata": {},
   "outputs": [],
   "source": [
    "from libDL4NLP.modules import RecurrentEncoder"
   ]
  },
  {
   "cell_type": "markdown",
   "metadata": {},
   "source": [
    "### 1.3 Attention module\n",
    "\n",
    "[Back to top](#plan)\n",
    "\n",
    "<a id=\"attention\"></a>\n",
    "\n",
    "We use here a classical Attention Module :"
   ]
  },
  {
   "cell_type": "code",
   "execution_count": 14,
   "metadata": {},
   "outputs": [],
   "source": [
    "from libDL4NLP.modules import Attention"
   ]
  },
  {
   "cell_type": "markdown",
   "metadata": {},
   "source": [
    "### 1.4 Decoder module\n",
    "\n",
    "[Back to top](#plan)\n",
    "\n",
    "<a id=\"decoder\"></a>\n",
    "\n",
    "#### 1.4.1 Classical Decoder"
   ]
  },
  {
   "cell_type": "code",
   "execution_count": 17,
   "metadata": {},
   "outputs": [],
   "source": [
    "#from libDL4NLP.modules import Decoder"
   ]
  },
  {
   "cell_type": "code",
   "execution_count": 15,
   "metadata": {},
   "outputs": [],
   "source": [
    "class Decoder(nn.Module):\n",
    "    '''Transforms a vector into a sequence of words'''\n",
    "    def __init__(self, word2vec, hidden_dim, \n",
    "                 n_layers = 1,\n",
    "                 dropout = 0.1,\n",
    "                 bound = 25\n",
    "                ):\n",
    "        super(Decoder, self).__init__()\n",
    "        # relevant quantities\n",
    "        self.hidden_dim = hidden_dim\n",
    "        self.n_layers = n_layers\n",
    "        self.bound = bound\n",
    "        # modules\n",
    "        self.word2vec = word2vec\n",
    "        self.gru = nn.GRU(word2vec.output_dim, \n",
    "                          hidden_dim, \n",
    "                          n_layers, \n",
    "                          dropout = dropout, \n",
    "                          batch_first = True)\n",
    "        self.out = nn.Linear(hidden_dim, word2vec.lang.n_words)\n",
    "        self.act = F.log_softmax\n",
    "        self.dropout = nn.Dropout(dropout)\n",
    "        \n",
    "    def generateWord(self, hidden, embeddings, word_index):\n",
    "        # update hidden state\n",
    "        embedding = self.word2vec.embedding(word_index) # size (batch_size, 1, embedding_dim)\n",
    "        embedding = self.dropout(embedding)\n",
    "        _, hidden = self.gru(embedding, hidden)         # size (n_layers, batch_size, embedding_dim)\n",
    "        # generate next word\n",
    "        log_prob = self.out(hidden[-1])                 # size (batch_size, lang_size)\n",
    "        log_prob = self.act(log_prob, dim = 1)          # size (batch_size, lang_size)\n",
    "        return log_prob, hidden\n",
    "    \n",
    "    def forward(self, hidden, embeddings = None, device = None) :\n",
    "        answer = []\n",
    "        EOS_token  = self.word2vec.lang.getIndex('EOS')\n",
    "        word = self.word2vec.lang.getIndex('SOS')\n",
    "        word = Variable(torch.LongTensor([[word]])) # size (1)\n",
    "        hidden = hidden[-self.n_layers:]\n",
    "        query  = hidden # size (n_layers, batch_size, hidden_dim)\n",
    "        for t in range(self.bound) :\n",
    "            # compute next word\n",
    "            if device is not None : word = word.to(device) # size (1)\n",
    "            log_prob, hidden = self.generateWord(hidden, embeddings, word)\n",
    "            word = log_prob.topk(1, dim = 1)[1].view(1, 1)\n",
    "            # add to output\n",
    "            if word.item() == EOS_token : break\n",
    "            else : answer.append(word.item())\n",
    "        return answer"
   ]
  },
  {
   "cell_type": "markdown",
   "metadata": {},
   "source": [
    "#### 1.4.2 Attention Decoder"
   ]
  },
  {
   "cell_type": "code",
   "execution_count": 19,
   "metadata": {},
   "outputs": [],
   "source": [
    "#from libDL4NLP.modules import AttnDecoder"
   ]
  },
  {
   "cell_type": "code",
   "execution_count": 32,
   "metadata": {},
   "outputs": [],
   "source": [
    "class AttnDecoder(nn.Module):\n",
    "    '''Transforms a vector into a sequence of words'''\n",
    "    def __init__(self, word2vec, attention_dim, hidden_dim,\n",
    "                 n_layers = 1,\n",
    "                 dropout = 0.1,\n",
    "                 bound = 25\n",
    "                ):\n",
    "        super(AttnDecoder, self).__init__()\n",
    "        # relevant quantities\n",
    "        self.hidden_dim = hidden_dim\n",
    "        self.n_layers = n_layers\n",
    "        self.bound = bound\n",
    "        # modules\n",
    "        self.word2vec = word2vec\n",
    "        self.gru = nn.GRU(word2vec.output_dim, \n",
    "                          hidden_dim, \n",
    "                          n_layers, \n",
    "                          dropout = dropout, \n",
    "                          batch_first = True)\n",
    "        self.attn = Attention(attention_dim, hidden_dim, dropout = dropout)\n",
    "        self.out = nn.Linear(attention_dim + hidden_dim, word2vec.lang.n_words)\n",
    "        self.act = F.log_softmax\n",
    "        self.dropout = nn.Dropout(dropout)\n",
    "        \n",
    "    def generateWord(self, hidden, embeddings, word_index):\n",
    "        # update hidden state\n",
    "        embedding = self.word2vec.embedding(word_index) # size (batch_size, 1, embedding_dim)\n",
    "        embedding = self.dropout(embedding)\n",
    "        _, hidden = self.gru(embedding, hidden)         # size (n_layers, batch_size, embedding_dim)\n",
    "        # merge with attention\n",
    "        query = hidden[-1].unsqueeze(1)                 # size (batch_size, 1, embedding_dim)\n",
    "        query = query.expand(query.size(0), \n",
    "                             embeddings.size(1), \n",
    "                             query.size(2))             # size (batch_size, sequence_length, embedding_dim)\n",
    "        attn, weights = self.attn(embeddings, query)    # size (batch_size, 1, embedding_dim)\n",
    "        merge = torch.cat([hidden[-1], attn.squeeze(1)], dim = 1) \n",
    "        merge = self.dropout(merge)                     # size (batch_size, embedding_dim + hidden_dim)\n",
    "        # generate next word\n",
    "        log_prob = self.out(merge)                      # size (batch_size, lang_size)\n",
    "        log_prob = self.act(log_prob, dim = 1)          # size (batch_size, lang_size)\n",
    "        return log_prob, hidden, weights\n",
    "    \n",
    "    def forward(self, hidden, embeddings, device = None) :\n",
    "        answer  = []\n",
    "        EOS_token  = self.word2vec.lang.getIndex('EOS')\n",
    "        word = self.word2vec.lang.getIndex('SOS')\n",
    "        word = Variable(torch.LongTensor([[word]])) # size (1)\n",
    "        hidden = hidden[-self.n_layers:]\n",
    "        for t in range(self.bound) :\n",
    "            # compute next word\n",
    "            if device is not None : word = word.to(device) # size (1)\n",
    "            log_prob, hidden, atn = self.generateWord(hidden, embeddings, word)\n",
    "            word = log_prob.topk(1, dim = 1)[1].view(1, 1)\n",
    "            # add to output\n",
    "            if word.item() == EOS_token : break\n",
    "            else : answer.append(word.item())\n",
    "            # cumulate attention weights\n",
    "            if t == 0 : weights = atn\n",
    "            else      : weights = torch.cat((weights, atn), dim = 1) # size(1, output_length, input_length)\n",
    "        return answer, weights"
   ]
  },
  {
   "cell_type": "markdown",
   "metadata": {},
   "source": [
    "#### Visualisation of attention\n",
    "\n",
    "Taken from [this page](https://matplotlib.org/3.1.1/gallery/images_contours_and_fields/image_annotated_heatmap.html#sphx-glr-gallery-images-contours-and-fields-image-annotated-heatmap-py)"
   ]
  },
  {
   "cell_type": "code",
   "execution_count": 17,
   "metadata": {},
   "outputs": [],
   "source": [
    "from libDL4NLP.utils import AttentionViewer, AttentionViewerOnWords"
   ]
  },
  {
   "cell_type": "markdown",
   "metadata": {},
   "source": [
    "<a id=\"model\"></a>"
   ]
  },
  {
   "cell_type": "markdown",
   "metadata": {},
   "source": [
    "# 2 Machine Translation Model\n",
    "\n",
    "[Back to top](#plan)\n"
   ]
  },
  {
   "cell_type": "code",
   "execution_count": 28,
   "metadata": {},
   "outputs": [],
   "source": [
    "class EncoderDecoder(nn.Module) :\n",
    "    def __init__(self, device, tokenizer, word2vec_in, word2vec_out, \n",
    "                 hidden_dim_in = 50,\n",
    "                 hidden_dim_out = 50,\n",
    "                 n_layers_in = 1,\n",
    "                 n_layers_out = 1,\n",
    "                 bound = 25,\n",
    "                 dropout = 0,\n",
    "                 decoder_warm_start = True,\n",
    "                 decoder_attention = True,\n",
    "                 optimizer = optim.SGD\n",
    "                 ):\n",
    "        super(EncoderDecoder, self).__init__()\n",
    "        #relevant quantities\n",
    "        self.decoder_warm_start = decoder_warm_start\n",
    "        \n",
    "        # modules\n",
    "        self.tokenizer    = tokenizer\n",
    "        self.word2vec_in  = word2vec_in\n",
    "        self.word2vec_out = word2vec_out\n",
    "        self.context      = RecurrentEncoder(word2vec_in.output_dim, hidden_dim_in, n_layers_in, dropout, bidirectional = True)\n",
    "        if decoder_attention : self.decoder = AttnDecoder(word2vec_out, hidden_dim_in, hidden_dim_out, n_layers_out, dropout, bound)\n",
    "        else :                 self.decoder = Decoder(word2vec_out, hidden_dim_out, n_layers_out, dropout, bound)\n",
    "        \n",
    "        # optimizer\n",
    "        self.ignore_index_in  = self.word2vec_in.lang.getIndex('PADDING_WORD')\n",
    "        self.ignore_index_out = self.word2vec_out.lang.getIndex('PADDING_WORD')\n",
    "        self.criterion = nn.NLLLoss(size_average = False, ignore_index = self.ignore_index_out)\n",
    "        self.optimizer = optimizer\n",
    "        \n",
    "        # load to device\n",
    "        self.device = device\n",
    "        self.to(device)\n",
    "        \n",
    "    def nbParametres(self) :\n",
    "        return sum([p.data.nelement() for p in self.parameters() if p.requires_grad == True])\n",
    "    \n",
    "    # main method\n",
    "    def forward(self, sentence, attention_method = None):\n",
    "        # encode sentence\n",
    "        words = self.tokenizer(sentence)\n",
    "        words = [w for w in words if self.word2vec_in.lang.getIndex(w) is not None]\n",
    "        indices = [self.word2vec_in.lang.getIndex(w) for w in words]\n",
    "        embeddings = Variable(torch.LongTensor([indices])).to(self.device)\n",
    "        embeddings = self.word2vec_in.embedding(embeddings)\n",
    "        #embeddings = self.word2vec_in(words, self.device)\n",
    "        embeddings, hidden  = self.context(embeddings)\n",
    "        # prepare for decoding\n",
    "        if self.decoder_warm_start :\n",
    "            if self.context.bidirectional :\n",
    "                hidden = hidden.view(self.context.n_layers, 2, -1, self.context.hidden_dim)\n",
    "                hidden = torch.sum(hidden, dim = 1) # size (n_layers, batch_size, hidden_dim)\n",
    "            hidden = hidden[-self.decoder.n_layers:]\n",
    "        else : hidden = None    \n",
    "        ## compute answer\n",
    "        indices, attn = self.decoder(hidden, embeddings, self.device)\n",
    "        attn = np.array(attn[0].data.cpu().numpy()) # size (input_length, output_length)\n",
    "        words_out = [self.word2vec_out.lang.index2word[i] for i in indices]\n",
    "        answer = ' '.join(words_out)\n",
    "        if attention_method is not None : attention_method(attn, words_out, words)\n",
    "        return answer\n",
    "\n",
    "    # load data\n",
    "    def generatePackedSentences(self, sentences, batch_size = 32) : \n",
    "        sentences.sort(key = lambda s: len(s[1]), reverse = True)\n",
    "        packed_data = []\n",
    "        for i in range(0, len(sentences), batch_size) :\n",
    "            # prepare input and target pack\n",
    "            pack = sentences[i:i + batch_size]\n",
    "            pack.sort(key = lambda s: len(self.tokenizer(s[0])), reverse = True)\n",
    "            pack0 = [[self.word2vec_in.lang.getIndex(w) for w in self.tokenizer(qa[0])] for qa in pack]\n",
    "            pack0 = [[w for w in words if w is not None] for words in pack0]\n",
    "            pack1 = [[self.word2vec_out.lang.getIndex(w) for w in self.tokenizer(qa[1]) + ['EOS']] for qa in pack]\n",
    "            pack1 = [[w for w in words if w is not None] for words in pack1]\n",
    "            lengths0 = torch.tensor([len(p) for p in pack0])           # size (batch_size) \n",
    "            lengths1 = torch.tensor([len(p) for p in pack1])           # size (batch_size) \n",
    "            # padd packs\n",
    "            pack0 = list(itertools.zip_longest(*pack0, fillvalue = self.ignore_index_in))\n",
    "            pack0 = Variable(torch.LongTensor(pack0).transpose(0, 1)) # size (batch_size, max_length0) \n",
    "            pack1 = list(itertools.zip_longest(*pack1, fillvalue = self.ignore_index_out))\n",
    "            pack1 = Variable(torch.LongTensor(pack1))       # WARNING : size (max_length1, batch_size) \n",
    "            packed_data.append([pack0, lengths0, pack1, lengths1])\n",
    "        return packed_data\n",
    "    \n",
    "    # compute model perf\n",
    "    def compute_accuracy(self, sentences, batch_size = 32) :\n",
    "        def compute_batch_accuracy(batch) :\n",
    "            torch.cuda.empty_cache()\n",
    "            input, input_l, target, target_l = batch\n",
    "            target = target.to(self.device)\n",
    "            # encode sentences\n",
    "            embeddings = self.word2vec_in.embedding(input.to(self.device))\n",
    "            embeddings, hidden = self.context(embeddings, lengths = input_l.to(self.device)) # size (n_layers * num_directions, batch_size, hidden_dim)\n",
    "            # prepare for decoding\n",
    "            if self.decoder_warm_start :\n",
    "                if self.context.bidirectional :\n",
    "                    hidden = hidden.view(self.context.n_layers, 2, -1, self.context.hidden_dim)\n",
    "                    hidden = torch.sum(hidden, dim = 1) # size (n_layers, batch_size, hidden_dim)\n",
    "                hidden = hidden[-self.decoder.n_layers:]\n",
    "            else : hidden = None  \n",
    "            # compute answers\n",
    "            answers = torch.zeros(target.size(), dtype = torch.long)\n",
    "            word_index = self.word2vec_out.lang.getIndex('SOS')\n",
    "            word_index = Variable(torch.LongTensor([word_index])) # size (1)\n",
    "            word_index = word_index.expand(target.size(1))        # size (batch_size)\n",
    "            for t in range(target.size(0)) :\n",
    "                # compute word probs\n",
    "                log_prob, hidden, atn = self.decoder.generateWord(hidden, embeddings, word_index.unsqueeze(1).to(self.device))\n",
    "                word_index = log_prob.topk(1, dim = 1)[1].view(-1) # size (batch_size)\n",
    "                answers[t] = word_index\n",
    "            # compute score\n",
    "            score = sum([sum(answers[:l, i].data.cpu() == target[:l, i].data.cpu()) == l \n",
    "                          for i, l in enumerate(target_l.data.cpu().tolist())]).item()\n",
    "            return score\n",
    "        \n",
    "        # -- main --\n",
    "        batches = self.generatePackedSentences(sentences, batch_size)\n",
    "        score = 0\n",
    "        for batch in batches : score += compute_batch_accuracy(batch)\n",
    "        return score * 100 / len(sentences)\n",
    "    \n",
    "    # fit model\n",
    "    def fit(self, batches, iters = None, epochs = None, tf_ratio = 0, lr = 0.025, random_state = 42,\n",
    "              print_every = 10, compute_accuracy = True):\n",
    "        \"\"\"Performs training over a given dataset and along a specified amount of loops\"\"\"\n",
    "        def asMinutes(s):\n",
    "            m = math.floor(s / 60)\n",
    "            s -= m * 60\n",
    "            return '%dm %ds' % (m, s)\n",
    "\n",
    "        def timeSince(since, percent):\n",
    "            now = time.time()\n",
    "            s = now - since\n",
    "            rs = s/percent - s\n",
    "            return '%s (- %s)' % (asMinutes(s), asMinutes(rs))\n",
    "        \n",
    "        def computeSuccess(log_probs, targets) :\n",
    "            success = sum([self.ignore_index_out != targets[i].item() == log_probs[i].topk(1)[1].item() \\\n",
    "                           for i in range(targets.size(0))])\n",
    "            return success\n",
    "        \n",
    "        def computeLogProbs(batch, tf_ratio = 0, compute_accuracy = True) :\n",
    "            torch.cuda.empty_cache()\n",
    "            loss = 0\n",
    "            success = 0\n",
    "            forcing = (random.random() < tf_ratio)\n",
    "            input, input_l, target, target_l = batch\n",
    "            target = target.to(self.device)\n",
    "            # encode sentences\n",
    "            embeddings = self.word2vec_in.embedding(input.to(self.device))\n",
    "            embeddings, hidden  = self.context(embeddings, lengths = input_l.to(self.device)) # size (n_layers * num_directions, batch_size, hidden_dim)\n",
    "            # prepare for decoding\n",
    "            if self.decoder_warm_start :\n",
    "                if self.context.bidirectional :\n",
    "                    hidden = hidden.view(self.context.n_layers, 2, -1, self.context.hidden_dim)\n",
    "                    hidden = torch.sum(hidden, dim = 1) # size (n_layers, batch_size, hidden_dim)\n",
    "                hidden = hidden[-self.decoder.n_layers:]\n",
    "            else : hidden = None  \n",
    "            # compute answers\n",
    "            word_index = self.word2vec_out.lang.getIndex('SOS')\n",
    "            word_index = Variable(torch.LongTensor([word_index])) # size (1)\n",
    "            word_index = word_index.expand(target.size(1))        # size (batch_size)\n",
    "            for t in range(target.size(0)) :\n",
    "                # compute word probs\n",
    "                log_prob, hidden, atn = self.decoder.generateWord(hidden, embeddings, word_index.unsqueeze(1).to(self.device))\n",
    "                # compute loss\n",
    "                loss += self.criterion(log_prob, target[t])\n",
    "                if compute_accuracy : success += computeSuccess(log_prob, target[t])\n",
    "                # apply teacher forcing\n",
    "                if forcing : word_index = target[t]                             # size (batch_size) \n",
    "                else       : word_index = log_prob.topk(1, dim = 1)[1].view(-1) # size (batch_size)\n",
    "            return loss, success       \n",
    "\n",
    "        def printScores(start, iter, iters, tot_loss, tot_loss_words, print_every, compute_accuracy) :\n",
    "            avg_loss = tot_loss / print_every\n",
    "            avg_loss_words = tot_loss_words / print_every\n",
    "            if compute_accuracy : print(timeSince(start, iter / iters) + ' ({} {}%) loss : {:.3f}  accuracy : {:.1f} %'.format(iter, int(iter / iters * 100), avg_loss, avg_loss_words))\n",
    "            else                : print(timeSince(start, iter / iters) + ' ({} {}%) loss : {:.3f}                     '.format(iter, int(iter / iters * 100), avg_loss))\n",
    "            return 0, 0\n",
    "\n",
    "        def trainLoop(batch, optimizer, tf_ratio = 0, compute_accuracy = True):\n",
    "            \"\"\"Performs a training loop, with forward pass, backward pass and weight update.\"\"\"\n",
    "            optimizer.zero_grad()\n",
    "            self.zero_grad()\n",
    "            total = torch.sum(batch[-1]).item()\n",
    "            loss, success = computeLogProbs(batch, tf_ratio, compute_accuracy)\n",
    "            loss.backward()\n",
    "            optimizer.step()\n",
    "            return float(loss.item() / total), float(success * 100 / total)\n",
    "        \n",
    "        # --- main ---\n",
    "        self.train()\n",
    "        np.random.seed(random_state)\n",
    "        start = time.time()\n",
    "        optimizer = self.optimizer([param for param in self.parameters() if param.requires_grad == True], lr = lr)\n",
    "        tot_loss = 0  \n",
    "        tot_acc  = 0\n",
    "        if epochs is None :\n",
    "            for iter in range(1, iters + 1):\n",
    "                batch = random.choice(batches)\n",
    "                loss, acc = trainLoop(batch, optimizer, tf_ratio, compute_accuracy)\n",
    "                tot_loss += loss\n",
    "                tot_acc += acc      \n",
    "                if iter % print_every == 0 : \n",
    "                    tot_loss, tot_acc = printScores(start, iter, iters, tot_loss, tot_acc, print_every, compute_accuracy)\n",
    "        else :\n",
    "            iter = 0\n",
    "            iters = len(batches) * epochs\n",
    "            for epoch in range(1, epochs + 1):\n",
    "                print('epoch ' + str(epoch))\n",
    "                np.random.shuffle(batches)\n",
    "                for batch in batches :\n",
    "                    loss, acc = trainLoop(batch, optimizer, tf_ratio, compute_accuracy)\n",
    "                    tot_loss += loss\n",
    "                    tot_acc += acc \n",
    "                    iter += 1\n",
    "                    if iter % print_every == 0 : \n",
    "                        tot_loss, tot_acc = printScores(start, iter, iters, tot_loss, tot_acc, print_every, compute_accuracy)\n",
    "        return"
   ]
  },
  {
   "cell_type": "markdown",
   "metadata": {},
   "source": [
    "#### Training"
   ]
  },
  {
   "cell_type": "code",
   "execution_count": 19,
   "metadata": {},
   "outputs": [
    {
     "data": {
      "text/plain": [
       "69"
      ]
     },
     "execution_count": 19,
     "metadata": {},
     "output_type": "execute_result"
    }
   ],
   "source": [
    "max([len(qa[1].split(' ')) for qa in qa_trn])"
   ]
  },
  {
   "cell_type": "code",
   "execution_count": 37,
   "metadata": {
    "scrolled": true
   },
   "outputs": [
    {
     "data": {
      "text/plain": [
       "601597"
      ]
     },
     "execution_count": 37,
     "metadata": {},
     "output_type": "execute_result"
    }
   ],
   "source": [
    "chatbot = EncoderDecoder(device = torch.device(\"cpu\"),\n",
    "                         tokenizer = lambda s : normalizeString(s).split(' '),\n",
    "                         word2vec_in = word2vec_in,\n",
    "                         word2vec_out = word2vec_out,\n",
    "                         hidden_dim_in = 100,\n",
    "                         hidden_dim_out = 100,\n",
    "                         n_layers_in = 2,\n",
    "                         n_layers_out = 2,\n",
    "                         bound = 75,\n",
    "                         dropout = 0.2,\n",
    "                         decoder_warm_start = True,\n",
    "                         decoder_attention = True,\n",
    "                         optimizer = optim.AdamW)\n",
    "\n",
    "chatbot.nbParametres()"
   ]
  },
  {
   "cell_type": "code",
   "execution_count": 38,
   "metadata": {},
   "outputs": [
    {
     "data": {
      "text/plain": [
       "12514"
      ]
     },
     "execution_count": 38,
     "metadata": {},
     "output_type": "execute_result"
    }
   ],
   "source": [
    "batches = chatbot.generatePackedSentences(qa_trn, batch_size = 16)\n",
    "len(batches)"
   ]
  },
  {
   "cell_type": "code",
   "execution_count": 39,
   "metadata": {
    "scrolled": true
   },
   "outputs": [
    {
     "name": "stdout",
     "output_type": "stream",
     "text": [
      "epoch 1\n",
      "0m 14s (- 29m 35s) (100 0%) loss : 5.429  accuracy : 8.6 %\n",
      "0m 30s (- 31m 26s) (200 1%) loss : 4.738  accuracy : 13.0 %\n",
      "0m 48s (- 32m 56s) (300 2%) loss : 4.363  accuracy : 17.8 %\n",
      "1m 7s (- 34m 4s) (400 3%) loss : 3.948  accuracy : 25.6 %\n",
      "1m 24s (- 33m 59s) (500 3%) loss : 3.474  accuracy : 33.7 %\n",
      "1m 41s (- 33m 42s) (600 4%) loss : 3.039  accuracy : 41.1 %\n",
      "1m 59s (- 33m 35s) (700 5%) loss : 2.778  accuracy : 45.7 %\n",
      "2m 14s (- 32m 45s) (800 6%) loss : 2.572  accuracy : 48.4 %\n",
      "2m 30s (- 32m 23s) (900 7%) loss : 2.419  accuracy : 52.5 %\n",
      "2m 47s (- 32m 4s) (1000 7%) loss : 2.263  accuracy : 53.3 %\n",
      "3m 3s (- 31m 42s) (1100 8%) loss : 2.250  accuracy : 56.1 %\n",
      "3m 17s (- 31m 5s) (1200 9%) loss : 1.804  accuracy : 60.9 %\n",
      "3m 32s (- 30m 29s) (1300 10%) loss : 1.905  accuracy : 59.5 %\n",
      "3m 46s (- 29m 56s) (1400 11%) loss : 1.568  accuracy : 67.1 %\n",
      "4m 1s (- 29m 29s) (1500 11%) loss : 1.493  accuracy : 67.6 %\n",
      "4m 14s (- 28m 57s) (1600 12%) loss : 1.334  accuracy : 70.7 %\n",
      "4m 28s (- 28m 25s) (1700 13%) loss : 1.336  accuracy : 70.8 %\n",
      "4m 42s (- 27m 59s) (1800 14%) loss : 1.618  accuracy : 66.2 %\n",
      "4m 56s (- 27m 37s) (1900 15%) loss : 1.199  accuracy : 73.8 %\n",
      "5m 10s (- 27m 11s) (2000 15%) loss : 1.294  accuracy : 71.2 %\n",
      "5m 24s (- 26m 47s) (2100 16%) loss : 1.116  accuracy : 74.9 %\n",
      "5m 38s (- 26m 26s) (2200 17%) loss : 1.057  accuracy : 75.8 %\n",
      "5m 52s (- 26m 7s) (2300 18%) loss : 1.118  accuracy : 74.7 %\n",
      "6m 7s (- 25m 48s) (2400 19%) loss : 0.782  accuracy : 81.5 %\n",
      "6m 21s (- 25m 29s) (2500 19%) loss : 0.840  accuracy : 80.2 %\n",
      "6m 35s (- 25m 7s) (2600 20%) loss : 0.762  accuracy : 81.7 %\n",
      "6m 49s (- 24m 48s) (2700 21%) loss : 0.979  accuracy : 77.2 %\n",
      "7m 4s (- 24m 33s) (2800 22%) loss : 0.771  accuracy : 81.8 %\n",
      "7m 18s (- 24m 14s) (2900 23%) loss : 0.714  accuracy : 83.5 %\n",
      "7m 33s (- 23m 56s) (3000 23%) loss : 0.664  accuracy : 84.3 %\n",
      "7m 47s (- 23m 40s) (3100 24%) loss : 0.799  accuracy : 81.3 %\n",
      "8m 2s (- 23m 23s) (3200 25%) loss : 0.765  accuracy : 81.7 %\n",
      "8m 15s (- 23m 4s) (3300 26%) loss : 0.697  accuracy : 83.0 %\n",
      "8m 29s (- 22m 45s) (3400 27%) loss : 0.629  accuracy : 85.1 %\n",
      "8m 42s (- 22m 25s) (3500 27%) loss : 0.513  accuracy : 87.3 %\n",
      "8m 56s (- 22m 8s) (3600 28%) loss : 0.680  accuracy : 84.8 %\n",
      "9m 10s (- 21m 50s) (3700 29%) loss : 0.570  accuracy : 85.7 %\n",
      "9m 24s (- 21m 34s) (3800 30%) loss : 0.626  accuracy : 84.8 %\n",
      "9m 37s (- 21m 16s) (3900 31%) loss : 0.570  accuracy : 85.9 %\n",
      "9m 52s (- 21m 1s) (4000 31%) loss : 0.500  accuracy : 87.3 %\n",
      "10m 6s (- 20m 45s) (4100 32%) loss : 0.413  accuracy : 89.5 %\n",
      "10m 21s (- 20m 30s) (4200 33%) loss : 0.444  accuracy : 88.7 %\n",
      "10m 36s (- 20m 15s) (4300 34%) loss : 0.501  accuracy : 87.5 %\n",
      "10m 50s (- 20m 0s) (4400 35%) loss : 0.490  accuracy : 87.3 %\n",
      "11m 6s (- 19m 46s) (4500 35%) loss : 0.398  accuracy : 89.9 %\n",
      "11m 20s (- 19m 30s) (4600 36%) loss : 0.498  accuracy : 87.4 %\n",
      "11m 35s (- 19m 15s) (4700 37%) loss : 0.406  accuracy : 89.2 %\n",
      "11m 48s (- 18m 58s) (4800 38%) loss : 0.391  accuracy : 89.8 %\n",
      "12m 2s (- 18m 42s) (4900 39%) loss : 0.488  accuracy : 87.9 %\n",
      "12m 16s (- 18m 27s) (5000 39%) loss : 0.401  accuracy : 89.6 %\n",
      "12m 31s (- 18m 12s) (5100 40%) loss : 0.358  accuracy : 90.9 %\n",
      "12m 45s (- 17m 56s) (5200 41%) loss : 0.377  accuracy : 90.6 %\n",
      "13m 0s (- 17m 43s) (5300 42%) loss : 0.356  accuracy : 91.4 %\n",
      "13m 15s (- 17m 27s) (5400 43%) loss : 0.393  accuracy : 90.0 %\n",
      "13m 29s (- 17m 12s) (5500 43%) loss : 0.248  accuracy : 93.7 %\n",
      "13m 44s (- 16m 57s) (5600 44%) loss : 0.331  accuracy : 91.6 %\n",
      "13m 58s (- 16m 41s) (5700 45%) loss : 0.252  accuracy : 93.2 %\n",
      "14m 12s (- 16m 26s) (5800 46%) loss : 0.289  accuracy : 92.5 %\n",
      "14m 26s (- 16m 11s) (5900 47%) loss : 0.288  accuracy : 92.3 %\n",
      "14m 40s (- 15m 55s) (6000 47%) loss : 0.349  accuracy : 90.9 %\n",
      "14m 53s (- 15m 39s) (6100 48%) loss : 0.273  accuracy : 92.9 %\n",
      "15m 6s (- 15m 23s) (6200 49%) loss : 0.292  accuracy : 92.3 %\n",
      "15m 20s (- 15m 8s) (6300 50%) loss : 0.254  accuracy : 93.2 %\n",
      "15m 34s (- 14m 53s) (6400 51%) loss : 0.344  accuracy : 91.2 %\n",
      "15m 48s (- 14m 37s) (6500 51%) loss : 0.244  accuracy : 93.3 %\n",
      "16m 2s (- 14m 22s) (6600 52%) loss : 0.253  accuracy : 93.0 %\n",
      "16m 16s (- 14m 7s) (6700 53%) loss : 0.236  accuracy : 93.6 %\n",
      "16m 31s (- 13m 53s) (6800 54%) loss : 0.256  accuracy : 93.1 %\n",
      "16m 44s (- 13m 37s) (6900 55%) loss : 0.233  accuracy : 93.7 %\n",
      "16m 58s (- 13m 22s) (7000 55%) loss : 0.225  accuracy : 93.9 %\n",
      "17m 14s (- 13m 8s) (7100 56%) loss : 0.216  accuracy : 94.1 %\n",
      "17m 28s (- 12m 53s) (7200 57%) loss : 0.224  accuracy : 94.1 %\n",
      "17m 42s (- 12m 38s) (7300 58%) loss : 0.207  accuracy : 94.1 %\n",
      "17m 57s (- 12m 24s) (7400 59%) loss : 0.197  accuracy : 94.7 %\n",
      "18m 10s (- 12m 9s) (7500 59%) loss : 0.191  accuracy : 94.6 %\n",
      "18m 24s (- 11m 54s) (7600 60%) loss : 0.166  accuracy : 95.4 %\n",
      "18m 38s (- 11m 39s) (7700 61%) loss : 0.141  accuracy : 96.2 %\n",
      "18m 52s (- 11m 24s) (7800 62%) loss : 0.195  accuracy : 94.5 %\n",
      "19m 7s (- 11m 10s) (7900 63%) loss : 0.190  accuracy : 94.9 %\n",
      "19m 21s (- 10m 55s) (8000 63%) loss : 0.237  accuracy : 93.2 %\n",
      "19m 34s (- 10m 40s) (8100 64%) loss : 0.191  accuracy : 94.9 %\n",
      "19m 48s (- 10m 25s) (8200 65%) loss : 0.144  accuracy : 96.2 %\n",
      "20m 2s (- 10m 10s) (8300 66%) loss : 0.200  accuracy : 94.6 %\n",
      "20m 16s (- 9m 56s) (8400 67%) loss : 0.193  accuracy : 94.7 %\n",
      "20m 31s (- 9m 41s) (8500 67%) loss : 0.201  accuracy : 94.4 %\n",
      "20m 45s (- 9m 27s) (8600 68%) loss : 0.189  accuracy : 94.8 %\n",
      "21m 0s (- 9m 12s) (8700 69%) loss : 0.161  accuracy : 95.5 %\n",
      "21m 15s (- 8m 58s) (8800 70%) loss : 0.175  accuracy : 95.0 %\n",
      "21m 28s (- 8m 43s) (8900 71%) loss : 0.151  accuracy : 95.7 %\n",
      "21m 41s (- 8m 28s) (9000 71%) loss : 0.160  accuracy : 95.7 %\n",
      "21m 55s (- 8m 13s) (9100 72%) loss : 0.167  accuracy : 94.9 %\n",
      "22m 9s (- 7m 58s) (9200 73%) loss : 0.153  accuracy : 95.6 %\n",
      "22m 23s (- 7m 44s) (9300 74%) loss : 0.139  accuracy : 96.0 %\n",
      "22m 38s (- 7m 29s) (9400 75%) loss : 0.157  accuracy : 95.3 %\n",
      "22m 51s (- 7m 15s) (9500 75%) loss : 0.123  accuracy : 96.3 %\n",
      "23m 5s (- 7m 0s) (9600 76%) loss : 0.126  accuracy : 96.5 %\n",
      "23m 19s (- 6m 46s) (9700 77%) loss : 0.159  accuracy : 95.6 %\n",
      "23m 34s (- 6m 31s) (9800 78%) loss : 0.130  accuracy : 96.3 %\n",
      "23m 47s (- 6m 16s) (9900 79%) loss : 0.129  accuracy : 96.3 %\n",
      "24m 1s (- 6m 2s) (10000 79%) loss : 0.117  accuracy : 96.5 %\n",
      "24m 15s (- 5m 47s) (10100 80%) loss : 0.112  accuracy : 96.8 %\n",
      "24m 28s (- 5m 33s) (10200 81%) loss : 0.113  accuracy : 96.6 %\n",
      "24m 42s (- 5m 18s) (10300 82%) loss : 0.095  accuracy : 97.4 %\n",
      "24m 56s (- 5m 4s) (10400 83%) loss : 0.102  accuracy : 97.1 %\n",
      "25m 10s (- 4m 49s) (10500 83%) loss : 0.118  accuracy : 96.7 %\n",
      "25m 24s (- 4m 35s) (10600 84%) loss : 0.104  accuracy : 97.0 %\n",
      "25m 40s (- 4m 21s) (10700 85%) loss : 0.114  accuracy : 96.9 %\n",
      "25m 54s (- 4m 6s) (10800 86%) loss : 0.104  accuracy : 96.9 %\n",
      "26m 9s (- 3m 52s) (10900 87%) loss : 0.123  accuracy : 96.4 %\n",
      "26m 23s (- 3m 37s) (11000 87%) loss : 0.105  accuracy : 96.9 %\n",
      "26m 39s (- 3m 23s) (11100 88%) loss : 0.136  accuracy : 96.1 %\n",
      "26m 54s (- 3m 9s) (11200 89%) loss : 0.148  accuracy : 95.7 %\n",
      "27m 8s (- 2m 54s) (11300 90%) loss : 0.116  accuracy : 96.7 %\n",
      "27m 22s (- 2m 40s) (11400 91%) loss : 0.114  accuracy : 96.7 %\n",
      "27m 37s (- 2m 26s) (11500 91%) loss : 0.127  accuracy : 96.1 %\n",
      "27m 51s (- 2m 11s) (11600 92%) loss : 0.116  accuracy : 96.7 %\n",
      "28m 5s (- 1m 57s) (11700 93%) loss : 0.083  accuracy : 97.6 %\n",
      "28m 19s (- 1m 42s) (11800 94%) loss : 0.112  accuracy : 96.6 %\n",
      "28m 32s (- 1m 28s) (11900 95%) loss : 0.098  accuracy : 97.2 %\n",
      "28m 46s (- 1m 13s) (12000 95%) loss : 0.109  accuracy : 96.7 %\n",
      "29m 0s (- 0m 59s) (12100 96%) loss : 0.090  accuracy : 97.4 %\n",
      "29m 14s (- 0m 45s) (12200 97%) loss : 0.100  accuracy : 97.0 %\n",
      "29m 28s (- 0m 30s) (12300 98%) loss : 0.095  accuracy : 97.1 %\n",
      "29m 42s (- 0m 16s) (12400 99%) loss : 0.093  accuracy : 97.1 %\n",
      "29m 56s (- 0m 2s) (12500 99%) loss : 0.099  accuracy : 97.0 %\n",
      "epoch 1\n",
      "0m 14s (- 29m 16s) (100 0%) loss : 1.204  accuracy : 86.2 %\n",
      "0m 29s (- 29m 46s) (200 1%) loss : 0.981  accuracy : 85.9 %\n",
      "0m 43s (- 29m 20s) (300 2%) loss : 0.948  accuracy : 85.6 %\n",
      "0m 58s (- 29m 43s) (400 3%) loss : 1.043  accuracy : 83.3 %\n",
      "1m 14s (- 29m 51s) (500 3%) loss : 1.244  accuracy : 78.5 %\n",
      "1m 28s (- 29m 16s) (600 4%) loss : 1.026  accuracy : 81.0 %\n",
      "1m 42s (- 28m 57s) (700 5%) loss : 1.134  accuracy : 79.3 %\n",
      "1m 57s (- 28m 42s) (800 6%) loss : 0.913  accuracy : 82.9 %\n"
     ]
    },
    {
     "name": "stdout",
     "output_type": "stream",
     "text": [
      "2m 10s (- 28m 7s) (900 7%) loss : 0.606  accuracy : 88.7 %\n",
      "2m 25s (- 27m 52s) (1000 7%) loss : 0.936  accuracy : 82.8 %\n",
      "2m 40s (- 27m 44s) (1100 8%) loss : 1.094  accuracy : 78.5 %\n",
      "2m 54s (- 27m 27s) (1200 9%) loss : 1.012  accuracy : 80.4 %\n",
      "3m 9s (- 27m 18s) (1300 10%) loss : 0.891  accuracy : 82.1 %\n",
      "3m 25s (- 27m 7s) (1400 11%) loss : 0.957  accuracy : 80.6 %\n",
      "3m 41s (- 27m 3s) (1500 11%) loss : 0.809  accuracy : 83.8 %\n",
      "3m 55s (- 26m 46s) (1600 12%) loss : 0.799  accuracy : 84.1 %\n",
      "4m 10s (- 26m 33s) (1700 13%) loss : 0.812  accuracy : 83.2 %\n",
      "4m 24s (- 26m 13s) (1800 14%) loss : 0.702  accuracy : 85.3 %\n",
      "4m 38s (- 25m 55s) (1900 15%) loss : 0.718  accuracy : 84.6 %\n",
      "4m 52s (- 25m 38s) (2000 15%) loss : 0.686  accuracy : 86.0 %\n",
      "5m 7s (- 25m 24s) (2100 16%) loss : 0.621  accuracy : 86.1 %\n",
      "5m 21s (- 25m 9s) (2200 17%) loss : 0.808  accuracy : 83.1 %\n",
      "5m 36s (- 24m 54s) (2300 18%) loss : 0.597  accuracy : 86.5 %\n",
      "5m 50s (- 24m 35s) (2400 19%) loss : 0.576  accuracy : 87.6 %\n",
      "6m 5s (- 24m 24s) (2500 19%) loss : 0.755  accuracy : 83.5 %\n",
      "6m 19s (- 24m 8s) (2600 20%) loss : 0.585  accuracy : 87.6 %\n",
      "6m 34s (- 23m 55s) (2700 21%) loss : 0.669  accuracy : 85.5 %\n",
      "6m 49s (- 23m 40s) (2800 22%) loss : 0.787  accuracy : 83.2 %\n",
      "7m 3s (- 23m 25s) (2900 23%) loss : 0.804  accuracy : 81.1 %\n",
      "7m 18s (- 23m 9s) (3000 23%) loss : 0.721  accuracy : 83.5 %\n",
      "7m 32s (- 22m 53s) (3100 24%) loss : 0.464  accuracy : 89.8 %\n",
      "7m 45s (- 22m 34s) (3200 25%) loss : 0.486  accuracy : 89.1 %\n",
      "7m 59s (- 22m 17s) (3300 26%) loss : 0.570  accuracy : 87.3 %\n",
      "8m 12s (- 21m 59s) (3400 27%) loss : 0.531  accuracy : 88.1 %\n",
      "8m 27s (- 21m 46s) (3500 27%) loss : 0.609  accuracy : 86.4 %\n",
      "8m 42s (- 21m 32s) (3600 28%) loss : 0.749  accuracy : 83.7 %\n",
      "8m 57s (- 21m 20s) (3700 29%) loss : 0.745  accuracy : 83.1 %\n",
      "9m 11s (- 21m 5s) (3800 30%) loss : 0.608  accuracy : 86.1 %\n",
      "9m 25s (- 20m 49s) (3900 31%) loss : 0.461  accuracy : 89.6 %\n",
      "9m 41s (- 20m 38s) (4000 31%) loss : 0.585  accuracy : 87.1 %\n",
      "9m 57s (- 20m 26s) (4100 32%) loss : 0.616  accuracy : 86.4 %\n",
      "10m 11s (- 20m 11s) (4200 33%) loss : 0.640  accuracy : 85.1 %\n",
      "10m 25s (- 19m 54s) (4300 34%) loss : 0.435  accuracy : 89.7 %\n",
      "10m 40s (- 19m 41s) (4400 35%) loss : 0.473  accuracy : 89.6 %\n",
      "10m 55s (- 19m 27s) (4500 35%) loss : 0.636  accuracy : 85.8 %\n",
      "11m 10s (- 19m 12s) (4600 36%) loss : 0.733  accuracy : 83.5 %\n",
      "11m 25s (- 18m 58s) (4700 37%) loss : 0.655  accuracy : 85.2 %\n",
      "11m 39s (- 18m 44s) (4800 38%) loss : 0.533  accuracy : 87.9 %\n",
      "11m 55s (- 18m 31s) (4900 39%) loss : 0.779  accuracy : 83.3 %\n",
      "12m 9s (- 18m 16s) (5000 39%) loss : 0.489  accuracy : 89.1 %\n",
      "12m 24s (- 18m 2s) (5100 40%) loss : 0.596  accuracy : 86.5 %\n",
      "12m 40s (- 17m 49s) (5200 41%) loss : 0.590  accuracy : 86.4 %\n",
      "12m 54s (- 17m 33s) (5300 42%) loss : 0.480  accuracy : 89.4 %\n",
      "13m 9s (- 17m 19s) (5400 43%) loss : 0.671  accuracy : 83.6 %\n",
      "13m 23s (- 17m 4s) (5500 43%) loss : 0.640  accuracy : 84.8 %\n",
      "13m 37s (- 16m 49s) (5600 44%) loss : 0.554  accuracy : 86.6 %\n",
      "13m 52s (- 16m 35s) (5700 45%) loss : 0.533  accuracy : 87.2 %\n",
      "14m 6s (- 16m 19s) (5800 46%) loss : 0.412  accuracy : 90.2 %\n",
      "14m 20s (- 16m 4s) (5900 47%) loss : 0.489  accuracy : 88.2 %\n",
      "14m 35s (- 15m 50s) (6000 47%) loss : 0.516  accuracy : 87.5 %\n",
      "14m 50s (- 15m 36s) (6100 48%) loss : 0.577  accuracy : 86.1 %\n",
      "15m 3s (- 15m 20s) (6200 49%) loss : 0.407  accuracy : 90.3 %\n",
      "15m 19s (- 15m 6s) (6300 50%) loss : 0.566  accuracy : 86.0 %\n",
      "15m 34s (- 14m 52s) (6400 51%) loss : 0.503  accuracy : 87.7 %\n",
      "15m 48s (- 14m 37s) (6500 51%) loss : 0.438  accuracy : 88.9 %\n",
      "16m 4s (- 14m 24s) (6600 52%) loss : 0.663  accuracy : 82.7 %\n",
      "16m 19s (- 14m 9s) (6700 53%) loss : 0.471  accuracy : 88.0 %\n",
      "16m 33s (- 13m 54s) (6800 54%) loss : 0.371  accuracy : 91.4 %\n",
      "16m 47s (- 13m 40s) (6900 55%) loss : 0.533  accuracy : 87.1 %\n",
      "17m 2s (- 13m 25s) (7000 55%) loss : 0.453  accuracy : 89.3 %\n",
      "17m 17s (- 13m 10s) (7100 56%) loss : 0.447  accuracy : 88.6 %\n",
      "17m 31s (- 12m 55s) (7200 57%) loss : 0.498  accuracy : 87.8 %\n",
      "17m 45s (- 12m 41s) (7300 58%) loss : 0.691  accuracy : 83.3 %\n",
      "17m 59s (- 12m 26s) (7400 59%) loss : 0.469  accuracy : 88.8 %\n",
      "18m 13s (- 12m 10s) (7500 59%) loss : 0.409  accuracy : 90.1 %\n",
      "18m 27s (- 11m 55s) (7600 60%) loss : 0.382  accuracy : 90.8 %\n",
      "18m 40s (- 11m 40s) (7700 61%) loss : 0.319  accuracy : 92.2 %\n",
      "18m 54s (- 11m 25s) (7800 62%) loss : 0.490  accuracy : 88.5 %\n",
      "19m 9s (- 11m 11s) (7900 63%) loss : 0.588  accuracy : 85.5 %\n",
      "19m 23s (- 10m 56s) (8000 63%) loss : 0.408  accuracy : 90.1 %\n",
      "19m 37s (- 10m 41s) (8100 64%) loss : 0.504  accuracy : 87.1 %\n",
      "19m 53s (- 10m 27s) (8200 65%) loss : 0.436  accuracy : 89.9 %\n",
      "20m 8s (- 10m 13s) (8300 66%) loss : 0.581  accuracy : 86.4 %\n",
      "20m 23s (- 9m 59s) (8400 67%) loss : 0.490  accuracy : 88.5 %\n",
      "20m 37s (- 9m 44s) (8500 67%) loss : 0.412  accuracy : 90.5 %\n",
      "20m 52s (- 9m 29s) (8600 68%) loss : 0.497  accuracy : 88.6 %\n",
      "21m 7s (- 9m 15s) (8700 69%) loss : 0.462  accuracy : 88.9 %\n",
      "21m 21s (- 9m 0s) (8800 70%) loss : 0.433  accuracy : 89.6 %\n",
      "21m 35s (- 8m 46s) (8900 71%) loss : 0.476  accuracy : 88.1 %\n",
      "21m 50s (- 8m 31s) (9000 71%) loss : 0.400  accuracy : 90.3 %\n",
      "22m 5s (- 8m 17s) (9100 72%) loss : 0.492  accuracy : 88.1 %\n",
      "22m 19s (- 8m 2s) (9200 73%) loss : 0.378  accuracy : 90.4 %\n",
      "22m 34s (- 7m 47s) (9300 74%) loss : 0.601  accuracy : 85.0 %\n",
      "22m 48s (- 7m 33s) (9400 75%) loss : 0.532  accuracy : 86.4 %\n",
      "23m 3s (- 7m 19s) (9500 75%) loss : 0.568  accuracy : 85.7 %\n",
      "23m 18s (- 7m 4s) (9600 76%) loss : 0.502  accuracy : 87.6 %\n",
      "23m 33s (- 6m 50s) (9700 77%) loss : 0.510  accuracy : 86.9 %\n",
      "23m 48s (- 6m 35s) (9800 78%) loss : 0.462  accuracy : 88.2 %\n",
      "24m 3s (- 6m 21s) (9900 79%) loss : 0.492  accuracy : 87.7 %\n",
      "24m 18s (- 6m 6s) (10000 79%) loss : 0.502  accuracy : 87.0 %\n",
      "24m 32s (- 5m 51s) (10100 80%) loss : 0.435  accuracy : 89.3 %\n",
      "24m 47s (- 5m 37s) (10200 81%) loss : 0.420  accuracy : 89.4 %\n",
      "25m 2s (- 5m 22s) (10300 82%) loss : 0.434  accuracy : 89.1 %\n",
      "25m 15s (- 5m 7s) (10400 83%) loss : 0.426  accuracy : 89.8 %\n",
      "25m 29s (- 4m 53s) (10500 83%) loss : 0.451  accuracy : 89.0 %\n",
      "25m 43s (- 4m 38s) (10600 84%) loss : 0.454  accuracy : 88.1 %\n",
      "25m 58s (- 4m 24s) (10700 85%) loss : 0.489  accuracy : 86.6 %\n",
      "26m 13s (- 4m 9s) (10800 86%) loss : 0.404  accuracy : 89.8 %\n",
      "26m 27s (- 3m 55s) (10900 87%) loss : 0.545  accuracy : 85.4 %\n",
      "26m 42s (- 3m 40s) (11000 87%) loss : 0.379  accuracy : 90.7 %\n",
      "26m 56s (- 3m 25s) (11100 88%) loss : 0.475  accuracy : 88.0 %\n",
      "27m 10s (- 3m 11s) (11200 89%) loss : 0.418  accuracy : 90.0 %\n",
      "27m 25s (- 2m 56s) (11300 90%) loss : 0.605  accuracy : 84.3 %\n",
      "27m 40s (- 2m 42s) (11400 91%) loss : 0.384  accuracy : 90.0 %\n",
      "27m 53s (- 2m 27s) (11500 91%) loss : 0.506  accuracy : 85.7 %\n",
      "28m 7s (- 2m 13s) (11600 92%) loss : 0.389  accuracy : 89.4 %\n",
      "28m 21s (- 1m 58s) (11700 93%) loss : 0.357  accuracy : 91.1 %\n",
      "28m 35s (- 1m 43s) (11800 94%) loss : 0.420  accuracy : 88.6 %\n",
      "28m 49s (- 1m 29s) (11900 95%) loss : 0.315  accuracy : 91.8 %\n",
      "29m 4s (- 1m 14s) (12000 95%) loss : 0.431  accuracy : 88.2 %\n",
      "29m 18s (- 1m 0s) (12100 96%) loss : 0.506  accuracy : 86.3 %\n",
      "29m 33s (- 0m 45s) (12200 97%) loss : 0.344  accuracy : 90.7 %\n",
      "29m 48s (- 0m 31s) (12300 98%) loss : 0.424  accuracy : 88.7 %\n",
      "30m 2s (- 0m 16s) (12400 99%) loss : 0.378  accuracy : 90.5 %\n",
      "30m 18s (- 0m 2s) (12500 99%) loss : 0.402  accuracy : 89.5 %\n",
      "epoch 1\n",
      "0m 14s (- 30m 44s) (100 0%) loss : 0.349  accuracy : 90.8 %\n",
      "0m 28s (- 29m 39s) (200 1%) loss : 0.294  accuracy : 92.9 %\n",
      "0m 44s (- 30m 17s) (300 2%) loss : 0.408  accuracy : 89.3 %\n",
      "0m 58s (- 29m 33s) (400 3%) loss : 0.266  accuracy : 92.9 %\n",
      "1m 12s (- 29m 2s) (500 3%) loss : 0.346  accuracy : 90.9 %\n",
      "1m 26s (- 28m 45s) (600 4%) loss : 0.391  accuracy : 89.7 %\n",
      "1m 41s (- 28m 37s) (700 5%) loss : 0.344  accuracy : 90.8 %\n",
      "1m 56s (- 28m 23s) (800 6%) loss : 0.383  accuracy : 89.0 %\n",
      "2m 11s (- 28m 12s) (900 7%) loss : 0.312  accuracy : 91.4 %\n",
      "2m 25s (- 28m 0s) (1000 7%) loss : 0.375  accuracy : 89.2 %\n",
      "2m 41s (- 27m 56s) (1100 8%) loss : 0.290  accuracy : 92.0 %\n",
      "2m 56s (- 27m 44s) (1200 9%) loss : 0.293  accuracy : 92.3 %\n",
      "3m 11s (- 27m 27s) (1300 10%) loss : 0.268  accuracy : 93.3 %\n",
      "3m 26s (- 27m 15s) (1400 11%) loss : 0.317  accuracy : 92.5 %\n",
      "3m 40s (- 26m 59s) (1500 11%) loss : 0.314  accuracy : 92.2 %\n",
      "3m 56s (- 26m 52s) (1600 12%) loss : 0.297  accuracy : 92.4 %\n"
     ]
    },
    {
     "name": "stdout",
     "output_type": "stream",
     "text": [
      "4m 10s (- 26m 33s) (1700 13%) loss : 0.232  accuracy : 94.7 %\n",
      "4m 24s (- 26m 15s) (1800 14%) loss : 0.311  accuracy : 91.5 %\n",
      "4m 39s (- 26m 2s) (1900 15%) loss : 0.365  accuracy : 89.7 %\n",
      "4m 53s (- 25m 45s) (2000 15%) loss : 0.242  accuracy : 93.6 %\n",
      "5m 7s (- 25m 27s) (2100 16%) loss : 0.347  accuracy : 90.7 %\n",
      "5m 22s (- 25m 11s) (2200 17%) loss : 0.261  accuracy : 93.2 %\n",
      "5m 36s (- 24m 54s) (2300 18%) loss : 0.239  accuracy : 93.8 %\n",
      "5m 51s (- 24m 40s) (2400 19%) loss : 0.300  accuracy : 92.0 %\n",
      "6m 6s (- 24m 26s) (2500 19%) loss : 0.345  accuracy : 90.5 %\n",
      "6m 21s (- 24m 12s) (2600 20%) loss : 0.323  accuracy : 91.3 %\n",
      "6m 35s (- 23m 57s) (2700 21%) loss : 0.297  accuracy : 91.9 %\n",
      "6m 49s (- 23m 42s) (2800 22%) loss : 0.375  accuracy : 89.7 %\n",
      "7m 3s (- 23m 25s) (2900 23%) loss : 0.331  accuracy : 91.0 %\n",
      "7m 19s (- 23m 13s) (3000 23%) loss : 0.295  accuracy : 92.7 %\n",
      "7m 33s (- 22m 58s) (3100 24%) loss : 0.276  accuracy : 92.6 %\n",
      "7m 47s (- 22m 40s) (3200 25%) loss : 0.274  accuracy : 92.5 %\n",
      "8m 1s (- 22m 24s) (3300 26%) loss : 0.292  accuracy : 91.8 %\n",
      "8m 16s (- 22m 9s) (3400 27%) loss : 0.305  accuracy : 91.8 %\n",
      "8m 30s (- 21m 55s) (3500 27%) loss : 0.284  accuracy : 92.0 %\n",
      "8m 45s (- 21m 40s) (3600 28%) loss : 0.264  accuracy : 93.0 %\n",
      "8m 58s (- 21m 23s) (3700 29%) loss : 0.241  accuracy : 93.6 %\n",
      "9m 14s (- 21m 10s) (3800 30%) loss : 0.360  accuracy : 89.3 %\n",
      "9m 29s (- 20m 57s) (3900 31%) loss : 0.334  accuracy : 90.3 %\n",
      "9m 44s (- 20m 43s) (4000 31%) loss : 0.275  accuracy : 92.0 %\n",
      "9m 59s (- 20m 29s) (4100 32%) loss : 0.259  accuracy : 93.1 %\n",
      "10m 12s (- 20m 13s) (4200 33%) loss : 0.270  accuracy : 92.4 %\n",
      "10m 27s (- 19m 57s) (4300 34%) loss : 0.304  accuracy : 91.7 %\n",
      "10m 41s (- 19m 43s) (4400 35%) loss : 0.270  accuracy : 92.9 %\n",
      "10m 56s (- 19m 28s) (4500 35%) loss : 0.251  accuracy : 93.5 %\n",
      "11m 10s (- 19m 13s) (4600 36%) loss : 0.214  accuracy : 94.7 %\n",
      "11m 26s (- 19m 0s) (4700 37%) loss : 0.296  accuracy : 91.7 %\n",
      "11m 40s (- 18m 45s) (4800 38%) loss : 0.373  accuracy : 89.7 %\n",
      "11m 55s (- 18m 31s) (4900 39%) loss : 0.316  accuracy : 91.3 %\n",
      "12m 10s (- 18m 17s) (5000 39%) loss : 0.253  accuracy : 93.1 %\n",
      "12m 23s (- 18m 1s) (5100 40%) loss : 0.309  accuracy : 91.7 %\n",
      "12m 38s (- 17m 47s) (5200 41%) loss : 0.346  accuracy : 90.2 %\n",
      "12m 52s (- 17m 32s) (5300 42%) loss : 0.218  accuracy : 94.2 %\n",
      "13m 7s (- 17m 17s) (5400 43%) loss : 0.280  accuracy : 92.2 %\n",
      "13m 21s (- 17m 2s) (5500 43%) loss : 0.210  accuracy : 94.8 %\n",
      "13m 36s (- 16m 48s) (5600 44%) loss : 0.323  accuracy : 90.7 %\n",
      "13m 51s (- 16m 34s) (5700 45%) loss : 0.251  accuracy : 93.3 %\n",
      "14m 5s (- 16m 18s) (5800 46%) loss : 0.281  accuracy : 92.1 %\n",
      "14m 20s (- 16m 5s) (5900 47%) loss : 0.249  accuracy : 93.2 %\n",
      "14m 35s (- 15m 50s) (6000 47%) loss : 0.393  accuracy : 88.5 %\n",
      "14m 49s (- 15m 35s) (6100 48%) loss : 0.297  accuracy : 91.6 %\n",
      "15m 3s (- 15m 19s) (6200 49%) loss : 0.292  accuracy : 92.0 %\n",
      "15m 17s (- 15m 5s) (6300 50%) loss : 0.182  accuracy : 95.4 %\n",
      "15m 31s (- 14m 50s) (6400 51%) loss : 0.235  accuracy : 94.0 %\n",
      "15m 46s (- 14m 35s) (6500 51%) loss : 0.342  accuracy : 90.4 %\n",
      "16m 0s (- 14m 20s) (6600 52%) loss : 0.251  accuracy : 93.1 %\n",
      "16m 14s (- 14m 5s) (6700 53%) loss : 0.243  accuracy : 93.1 %\n",
      "16m 29s (- 13m 51s) (6800 54%) loss : 0.317  accuracy : 91.0 %\n",
      "16m 43s (- 13m 36s) (6900 55%) loss : 0.249  accuracy : 93.3 %\n",
      "16m 58s (- 13m 22s) (7000 55%) loss : 0.276  accuracy : 92.0 %\n",
      "17m 13s (- 13m 7s) (7100 56%) loss : 0.292  accuracy : 91.3 %\n",
      "17m 27s (- 12m 53s) (7200 57%) loss : 0.253  accuracy : 93.1 %\n",
      "17m 40s (- 12m 37s) (7300 58%) loss : 0.267  accuracy : 92.8 %\n",
      "17m 55s (- 12m 23s) (7400 59%) loss : 0.341  accuracy : 90.0 %\n",
      "18m 9s (- 12m 8s) (7500 59%) loss : 0.357  accuracy : 89.5 %\n",
      "18m 23s (- 11m 53s) (7600 60%) loss : 0.367  accuracy : 88.6 %\n",
      "18m 37s (- 11m 38s) (7700 61%) loss : 0.280  accuracy : 91.8 %\n",
      "18m 51s (- 11m 23s) (7800 62%) loss : 0.370  accuracy : 88.8 %\n",
      "19m 5s (- 11m 9s) (7900 63%) loss : 0.308  accuracy : 90.5 %\n",
      "19m 21s (- 10m 55s) (8000 63%) loss : 0.342  accuracy : 90.6 %\n",
      "19m 34s (- 10m 40s) (8100 64%) loss : 0.249  accuracy : 93.3 %\n",
      "19m 49s (- 10m 25s) (8200 65%) loss : 0.269  accuracy : 92.4 %\n",
      "20m 3s (- 10m 10s) (8300 66%) loss : 0.298  accuracy : 91.3 %\n",
      "20m 17s (- 9m 56s) (8400 67%) loss : 0.268  accuracy : 92.8 %\n",
      "20m 31s (- 9m 41s) (8500 67%) loss : 0.250  accuracy : 92.7 %\n",
      "20m 45s (- 9m 26s) (8600 68%) loss : 0.319  accuracy : 90.4 %\n",
      "20m 59s (- 9m 12s) (8700 69%) loss : 0.275  accuracy : 91.9 %\n",
      "21m 13s (- 8m 57s) (8800 70%) loss : 0.243  accuracy : 93.4 %\n",
      "21m 27s (- 8m 42s) (8900 71%) loss : 0.268  accuracy : 92.8 %\n",
      "21m 41s (- 8m 28s) (9000 71%) loss : 0.243  accuracy : 93.2 %\n",
      "21m 55s (- 8m 13s) (9100 72%) loss : 0.300  accuracy : 91.1 %\n",
      "22m 10s (- 7m 59s) (9200 73%) loss : 0.273  accuracy : 92.3 %\n",
      "22m 23s (- 7m 44s) (9300 74%) loss : 0.245  accuracy : 93.2 %\n",
      "22m 39s (- 7m 30s) (9400 75%) loss : 0.230  accuracy : 94.0 %\n",
      "22m 52s (- 7m 15s) (9500 75%) loss : 0.270  accuracy : 92.4 %\n",
      "23m 7s (- 7m 1s) (9600 76%) loss : 0.254  accuracy : 92.6 %\n",
      "23m 21s (- 6m 46s) (9700 77%) loss : 0.208  accuracy : 94.5 %\n",
      "23m 34s (- 6m 31s) (9800 78%) loss : 0.291  accuracy : 91.8 %\n",
      "23m 48s (- 6m 17s) (9900 79%) loss : 0.258  accuracy : 92.8 %\n",
      "24m 3s (- 6m 2s) (10000 79%) loss : 0.339  accuracy : 90.1 %\n",
      "24m 17s (- 5m 48s) (10100 80%) loss : 0.288  accuracy : 91.8 %\n",
      "24m 31s (- 5m 33s) (10200 81%) loss : 0.257  accuracy : 92.7 %\n",
      "24m 46s (- 5m 19s) (10300 82%) loss : 0.251  accuracy : 92.8 %\n",
      "25m 0s (- 5m 5s) (10400 83%) loss : 0.298  accuracy : 91.4 %\n",
      "25m 15s (- 4m 50s) (10500 83%) loss : 0.340  accuracy : 90.1 %\n",
      "25m 30s (- 4m 36s) (10600 84%) loss : 0.236  accuracy : 93.5 %\n",
      "25m 44s (- 4m 21s) (10700 85%) loss : 0.235  accuracy : 93.2 %\n",
      "25m 58s (- 4m 7s) (10800 86%) loss : 0.268  accuracy : 91.8 %\n",
      "26m 12s (- 3m 52s) (10900 87%) loss : 0.262  accuracy : 92.4 %\n",
      "26m 27s (- 3m 38s) (11000 87%) loss : 0.389  accuracy : 87.9 %\n",
      "26m 41s (- 3m 23s) (11100 88%) loss : 0.243  accuracy : 92.7 %\n",
      "26m 54s (- 3m 9s) (11200 89%) loss : 0.272  accuracy : 91.9 %\n",
      "27m 8s (- 2m 55s) (11300 90%) loss : 0.250  accuracy : 93.2 %\n",
      "27m 23s (- 2m 40s) (11400 91%) loss : 0.269  accuracy : 92.2 %\n",
      "27m 38s (- 2m 26s) (11500 91%) loss : 0.240  accuracy : 93.2 %\n",
      "27m 52s (- 2m 11s) (11600 92%) loss : 0.234  accuracy : 93.2 %\n",
      "28m 6s (- 1m 57s) (11700 93%) loss : 0.229  accuracy : 93.9 %\n",
      "28m 22s (- 1m 43s) (11800 94%) loss : 0.255  accuracy : 92.3 %\n",
      "28m 36s (- 1m 28s) (11900 95%) loss : 0.202  accuracy : 94.6 %\n",
      "28m 51s (- 1m 14s) (12000 95%) loss : 0.321  accuracy : 90.6 %\n",
      "29m 5s (- 0m 59s) (12100 96%) loss : 0.159  accuracy : 95.6 %\n",
      "29m 19s (- 0m 45s) (12200 97%) loss : 0.192  accuracy : 94.6 %\n",
      "29m 36s (- 0m 30s) (12300 98%) loss : 0.246  accuracy : 93.5 %\n",
      "29m 51s (- 0m 16s) (12400 99%) loss : 0.261  accuracy : 92.3 %\n",
      "30m 7s (- 0m 2s) (12500 99%) loss : 0.287  accuracy : 91.2 %\n"
     ]
    }
   ],
   "source": [
    "chatbot.fit(batches, epochs = 1, lr = 0.001, tf_ratio = 1, print_every = 100)\n",
    "chatbot.fit(batches, epochs = 1, lr = 0.001, tf_ratio = 0.5, print_every = 100)\n",
    "chatbot.fit(batches, epochs = 1, lr = 0.00025, tf_ratio = 0.5, print_every = 100)"
   ]
  },
  {
   "cell_type": "code",
   "execution_count": 40,
   "metadata": {},
   "outputs": [],
   "source": [
    "# save\n",
    "#torch.save(chatbot.state_dict(), path_to_DL4NLP + '\\\\saves\\\\DL4NLP_II2_encoder_attndecoder_M2DS.pth')\n",
    "\n",
    "# load\n",
    "#chatbot.load_state_dict(torch.load(path_to_DL4NLP + '\\\\saves\\\\DL4NLP_II2_encoder_attndecoder_M2DS.pth'))"
   ]
  },
  {
   "cell_type": "markdown",
   "metadata": {},
   "source": [
    "#### Evaluation"
   ]
  },
  {
   "cell_type": "code",
   "execution_count": 44,
   "metadata": {
    "scrolled": true
   },
   "outputs": [
    {
     "data": {
      "text/plain": [
       "53.051894363114634"
      ]
     },
     "execution_count": 44,
     "metadata": {},
     "output_type": "execute_result"
    }
   ],
   "source": [
    "chatbot.eval()\n",
    "chatbot.compute_accuracy(qa_tst, batch_size = 32)"
   ]
  },
  {
   "cell_type": "code",
   "execution_count": 41,
   "metadata": {},
   "outputs": [],
   "source": [
    "def ReplaceMotVar(motsVar, raw_sentence):\n",
    "    sentence = []\n",
    "    word_list = raw_sentence.split(' ')\n",
    "    for word in word_list :\n",
    "        if word in motsVar.keys() :\n",
    "            sentence.append(motsVar[word])\n",
    "        else :\n",
    "            sentence.append(word)\n",
    "    return ' '.join(sentence)\n",
    "\n",
    "\n",
    "def repair(sentence) :\n",
    "    s = re.sub(\" ' \", \"'\", sentence)\n",
    "    s = re.sub(\" - \", \"-\", s)\n",
    "    s = re.sub(\" ,\", \",\", s)\n",
    "    s = re.sub(r'(?<=\\d) \\. (?=\\d)', '.', s)\n",
    "    s = re.sub(\" \\.\", \".\", s)\n",
    "    s = re.sub(\"\\( \", \"(\", s)\n",
    "    s = re.sub(\" \\)\", \")\", s)\n",
    "    s = s[0].upper() + s[1:]\n",
    "    return s\n",
    "\n",
    "\n",
    "def InteractiveEvaluation(agent) :\n",
    "    print(\"Interactive mode (Press 'q' to exit)\")\n",
    "    agent.eval()\n",
    "    while True :\n",
    "        text = input('User : ')\n",
    "        #print('User : {}'.format(text))\n",
    "        if text == 'eoc' or text == 'q' or text == 'quit' : \n",
    "            break\n",
    "        reponse = agent(text)\n",
    "        reponse = ReplaceMotVar(motsVar, reponse)\n",
    "        reponse = repair(reponse)\n",
    "        print('Bot  : {}'.format(reponse))"
   ]
  },
  {
   "cell_type": "code",
   "execution_count": 137,
   "metadata": {},
   "outputs": [
    {
     "name": "stdout",
     "output_type": "stream",
     "text": [
      "Interactive mode (Press 'q' to exit)\n",
      "User : coucou\n",
      "Bot  : Bonjour, comment puis-je vous aider ?\n",
      "User : salut\n",
      "Bot  : Bonjour, comment puis-je vous aider ?\n",
      "User : tu fais quoi\n",
      "Bot  : Je suis la pour vous renseigner sur le master 2 data science.\n",
      "User : cool, sinon tu sais faire quoi\n",
      "Bot  : Il y a plusieurs tp, sur les reseaux bayesien, les modeles de markov cache ainsi que les reseaux de neurones profond.\n",
      "User : bonjour\n",
      "Bot  : Bonjour, comment puis-je vous aider ?\n",
      "User : caca\n",
      "Bot  : Il y a plusieurs tp sur sur et et r : introduction a sas, programmation avancee avec sas, les tests statistiques.\n",
      "User : je ne vois pas le rapport\n",
      "Bot  : C'est dommage, vous en aurez besoin si vous souhaitez faire ce master.\n",
      "User : j'aurai besoin du rapport ?\n",
      "Bot  : Le master data science est un double cursus info-math de haut niveau qui permet aux etudiants d’acquerir des competences fortes en statistique et en informatique tres demandees actuellement par les entreprises.\n",
      "User : ha super\n",
      "Bot  : Merci, j'espere avoir correctement repondu a vos questions.\n",
      "User : oui maintenant tais toi\n",
      "Bot  : Il y a plusieurs tp, sur les reseaux bayesien, les modeles de markov cache ainsi que les reseaux de neurones profond.\n",
      "User : haaa mais tu m'enmerde avec tes réseaux de merde !\n",
      "Bot  : Il y a plusieurs tp sur sas et r : introduction a sas, programmation avancee avec sas, les tests statistiques.\n",
      "User : ta gueule\n",
      "Bot  : Il y a plusieurs tp sur sur et et r : introduction a sas, programmation avancee avec sas, les tests statistiques.\n",
      "User : what\n",
      "Bot  : Il y a plusieurs tp sur sur et et r : introduction a sas, programmation avancee avec sas, les tests statistiques.\n",
      "User : quit\n"
     ]
    }
   ],
   "source": [
    "InteractiveEvaluation(chatbot)"
   ]
  },
  {
   "cell_type": "code",
   "execution_count": 42,
   "metadata": {},
   "outputs": [
    {
     "data": {
      "image/png": "[encoded data removed]",
      "text/plain": [
       "<Figure size 432x288 with 1 Axes>"
      ]
     },
     "metadata": {
      "needs_background": "light"
     },
     "output_type": "display_data"
    },
    {
     "name": "stdout",
     "output_type": "stream",
     "text": [
      "\u001b[48;2;255;229;217mquelles\u001b[0m \u001b[48;2;255;229;217msont\u001b[0m \u001b[48;2;256;245;240mles\u001b[0m \u001b[48;2;256;245;240mue\u001b[0m \u001b[48;2;256;245;240mde\u001b[0m \u001b[48;2;256;245;240mmathematiques\u001b[0m \u001b[48;2;255;229;217m?\u001b[0m  - le\n",
      "\u001b[48;2;256;245;240mquelles\u001b[0m \u001b[48;2;256;245;240msont\u001b[0m \u001b[48;2;256;245;240mles\u001b[0m \u001b[48;2;255;229;217mue\u001b[0m \u001b[48;2;255;229;217mde\u001b[0m \u001b[48;2;253;202;181mmathematiques\u001b[0m \u001b[48;2;256;245;240m?\u001b[0m  - master\n",
      "\u001b[48;2;256;245;240mquelles\u001b[0m \u001b[48;2;256;245;240msont\u001b[0m \u001b[48;2;255;229;217mles\u001b[0m \u001b[48;2;255;229;217mue\u001b[0m \u001b[48;2;255;229;217mde\u001b[0m \u001b[48;2;253;202;181mmathematiques\u001b[0m \u001b[48;2;256;245;240m?\u001b[0m  - comprend\n",
      "\u001b[48;2;255;229;217mquelles\u001b[0m \u001b[48;2;255;229;217msont\u001b[0m \u001b[48;2;255;229;217mles\u001b[0m \u001b[48;2;255;229;217mue\u001b[0m \u001b[48;2;255;229;217mde\u001b[0m \u001b[48;2;255;229;217mmathematiques\u001b[0m \u001b[48;2;256;245;240m?\u001b[0m  - les\n",
      "\u001b[48;2;256;245;240mquelles\u001b[0m \u001b[48;2;256;245;240msont\u001b[0m \u001b[48;2;255;229;217mles\u001b[0m \u001b[48;2;255;229;217mue\u001b[0m \u001b[48;2;253;202;181mde\u001b[0m \u001b[48;2;256;245;240mmathematiques\u001b[0m \u001b[48;2;256;245;240m?\u001b[0m  - cours\n",
      "\u001b[48;2;256;245;240mquelles\u001b[0m \u001b[48;2;256;245;240msont\u001b[0m \u001b[48;2;256;245;240mles\u001b[0m \u001b[48;2;253;202;181mue\u001b[0m \u001b[48;2;253;202;181mde\u001b[0m \u001b[48;2;255;229;217mmathematiques\u001b[0m \u001b[48;2;256;245;240m?\u001b[0m  - de\n",
      "\u001b[48;2;256;245;240mquelles\u001b[0m \u001b[48;2;256;245;240msont\u001b[0m \u001b[48;2;255;229;217mles\u001b[0m \u001b[48;2;255;229;217mue\u001b[0m \u001b[48;2;255;229;217mde\u001b[0m \u001b[48;2;253;202;181mmathematiques\u001b[0m \u001b[48;2;256;245;240m?\u001b[0m  - mathematiques\n",
      "\u001b[48;2;256;245;240mquelles\u001b[0m \u001b[48;2;256;245;240msont\u001b[0m \u001b[48;2;255;229;217mles\u001b[0m \u001b[48;2;253;202;181mue\u001b[0m \u001b[48;2;253;202;181mde\u001b[0m \u001b[48;2;256;245;240mmathematiques\u001b[0m \u001b[48;2;256;245;240m?\u001b[0m  - suivant\n",
      "\u001b[48;2;256;245;240mquelles\u001b[0m \u001b[48;2;255;229;217msont\u001b[0m \u001b[48;2;255;229;217mles\u001b[0m \u001b[48;2;255;229;217mue\u001b[0m \u001b[48;2;255;229;217mde\u001b[0m \u001b[48;2;255;229;217mmathematiques\u001b[0m \u001b[48;2;256;245;240m?\u001b[0m  - :\n",
      "\u001b[48;2;256;245;240mquelles\u001b[0m \u001b[48;2;256;245;240msont\u001b[0m \u001b[48;2;255;229;217mles\u001b[0m \u001b[48;2;255;229;217mue\u001b[0m \u001b[48;2;253;202;181mde\u001b[0m \u001b[48;2;255;229;217mmathematiques\u001b[0m \u001b[48;2;256;245;240m?\u001b[0m  - listcoursmath\n",
      "\n"
     ]
    },
    {
     "data": {
      "text/plain": [
       "'le master comprend les cours de mathematiques suivant : listcoursmath'"
      ]
     },
     "execution_count": 42,
     "metadata": {},
     "output_type": "execute_result"
    }
   ],
   "source": [
    "chatbot.eval()\n",
    "chatbot('quelles sont les ue de mathématiques ?', attention_method = AttentionViewer)\n",
    "chatbot('quelles sont les ue de mathématiques ?', attention_method = AttentionViewerOnWords)"
   ]
  },
  {
   "cell_type": "code",
   "execution_count": 45,
   "metadata": {},
   "outputs": [
    {
     "data": {
      "image/png": "[encoded data removed]",
      "text/plain": [
       "<Figure size 432x288 with 1 Axes>"
      ]
     },
     "metadata": {
      "needs_background": "light"
     },
     "output_type": "display_data"
    },
    {
     "name": "stdout",
     "output_type": "stream",
     "text": [
      "\u001b[48;2;255;229;217mje\u001b[0m \u001b[48;2;255;229;217mte\u001b[0m \u001b[48;2;256;245;240mpropose\u001b[0m \u001b[48;2;255;229;217mde\u001b[0m \u001b[48;2;255;229;217mte\u001b[0m \u001b[48;2;256;245;240mtaire\u001b[0m  - je\n",
      "\u001b[48;2;253;202;181mje\u001b[0m \u001b[48;2;255;229;217mte\u001b[0m \u001b[48;2;253;202;181mpropose\u001b[0m \u001b[48;2;256;245;240mde\u001b[0m \u001b[48;2;256;245;240mte\u001b[0m \u001b[48;2;256;245;240mtaire\u001b[0m  - n\n",
      "\u001b[48;2;255;229;217mje\u001b[0m \u001b[48;2;255;229;217mte\u001b[0m \u001b[48;2;256;245;240mpropose\u001b[0m \u001b[48;2;255;229;217mde\u001b[0m \u001b[48;2;255;229;217mte\u001b[0m \u001b[48;2;256;245;240mtaire\u001b[0m  - '\n",
      "\u001b[48;2;255;229;217mje\u001b[0m \u001b[48;2;253;202;181mte\u001b[0m \u001b[48;2;253;202;181mpropose\u001b[0m \u001b[48;2;256;245;240mde\u001b[0m \u001b[48;2;256;245;240mte\u001b[0m \u001b[48;2;256;245;240mtaire\u001b[0m  - ai\n",
      "\u001b[48;2;253;202;181mje\u001b[0m \u001b[48;2;255;229;217mte\u001b[0m \u001b[48;2;256;245;240mpropose\u001b[0m \u001b[48;2;255;229;217mde\u001b[0m \u001b[48;2;255;229;217mte\u001b[0m \u001b[48;2;256;245;240mtaire\u001b[0m  - pas\n",
      "\u001b[48;2;253;202;181mje\u001b[0m \u001b[48;2;255;229;217mte\u001b[0m \u001b[48;2;255;229;217mpropose\u001b[0m \u001b[48;2;256;245;240mde\u001b[0m \u001b[48;2;255;229;217mte\u001b[0m \u001b[48;2;256;245;240mtaire\u001b[0m  - la\n",
      "\u001b[48;2;255;229;217mje\u001b[0m \u001b[48;2;255;229;217mte\u001b[0m \u001b[48;2;255;229;217mpropose\u001b[0m \u001b[48;2;256;245;240mde\u001b[0m \u001b[48;2;255;229;217mte\u001b[0m \u001b[48;2;256;245;240mtaire\u001b[0m  - reponse\n",
      "\u001b[48;2;255;229;217mje\u001b[0m \u001b[48;2;256;245;240mte\u001b[0m \u001b[48;2;256;245;240mpropose\u001b[0m \u001b[48;2;255;229;217mde\u001b[0m \u001b[48;2;255;229;217mte\u001b[0m \u001b[48;2;253;202;181mtaire\u001b[0m  - a\n",
      "\u001b[48;2;255;229;217mje\u001b[0m \u001b[48;2;255;229;217mte\u001b[0m \u001b[48;2;253;202;181mpropose\u001b[0m \u001b[48;2;255;229;217mde\u001b[0m \u001b[48;2;256;245;240mte\u001b[0m \u001b[48;2;256;245;240mtaire\u001b[0m  - cette\n",
      "\u001b[48;2;256;245;240mje\u001b[0m \u001b[48;2;256;245;240mte\u001b[0m \u001b[48;2;256;245;240mpropose\u001b[0m \u001b[48;2;255;229;217mde\u001b[0m \u001b[48;2;253;202;181mte\u001b[0m \u001b[48;2;255;229;217mtaire\u001b[0m  - question\n",
      "\u001b[48;2;255;229;217mje\u001b[0m \u001b[48;2;256;245;240mte\u001b[0m \u001b[48;2;255;229;217mpropose\u001b[0m \u001b[48;2;255;229;217mde\u001b[0m \u001b[48;2;255;229;217mte\u001b[0m \u001b[48;2;255;229;217mtaire\u001b[0m  - .\n",
      "\n"
     ]
    },
    {
     "data": {
      "text/plain": [
       "\"je n ' ai pas la reponse a cette question .\""
      ]
     },
     "execution_count": 45,
     "metadata": {},
     "output_type": "execute_result"
    }
   ],
   "source": [
    "chatbot.eval()\n",
    "chatbot('je te propose de te taire', attention_method = AttentionViewer)\n",
    "chatbot('je te propose de te taire', attention_method = AttentionViewerOnWords)"
   ]
  }
 ],
 "metadata": {
  "kernelspec": {
   "display_name": "Python 3",
   "language": "python",
   "name": "python3"
  },
  "language_info": {
   "codemirror_mode": {
    "name": "ipython",
    "version": 3
   },
   "file_extension": ".py",
   "mimetype": "text/x-python",
   "name": "python",
   "nbconvert_exporter": "python",
   "pygments_lexer": "ipython3",
   "version": "3.6.5"
  }
 },
 "nbformat": 4,
 "nbformat_minor": 2
}
