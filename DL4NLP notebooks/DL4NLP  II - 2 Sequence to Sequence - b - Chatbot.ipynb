{
 "cells": [
  {
   "cell_type": "markdown",
   "metadata": {},
   "source": [
    "<div style=\"font-variant: small-caps; \n",
    "      font-weight: normal; \n",
    "      font-size: 30px; \n",
    "      text-align: center; \n",
    "      padding: 15px; \n",
    "      margin: 10px;\">\n",
    "  Deep Learning for NLP\n",
    "  </div> \n",
    "  \n",
    "<div style=\"font-variant: small-caps; \n",
    "      font-weight: normal; \n",
    "      font-size: 30px; \n",
    "      text-align: center; \n",
    "      padding: 15px; \n",
    "      margin: 10px;\">\n",
    "    <font color=orange>II - 2 </font>\n",
    "  Sequence to Sequence\n",
    "  </div> \n",
    "\n",
    "  <div style=\"\n",
    "      font-weight: normal; \n",
    "      font-size: 20px; \n",
    "      text-align: center; \n",
    "      padding: 15px;\">\n",
    "    b. Chatbot\n",
    "  </div> \n",
    "\n",
    "  <div style=\" float:right; \n",
    "      font-size: 12px; \n",
    "      line-height: 12px; \n",
    "  padding: 10px 15px 8px;\">\n",
    "  Jean-baptiste AUJOGUE\n",
    "  </div> "
   ]
  },
  {
   "cell_type": "markdown",
   "metadata": {},
   "source": [
    "### Part I\n",
    "\n",
    "1. Word Embedding\n",
    "\n",
    "2. Sentence Classification\n",
    "\n",
    "3. Language Modeling\n",
    "\n",
    "4. Sequence Labelling\n",
    "\n",
    "\n",
    "### Part II\n",
    "\n",
    "1. Text Classification\n",
    "\n",
    "2. <font color=orange>**Sequence to sequence**</font>\n",
    "\n",
    "\n",
    "### Part III\n",
    "\n",
    "8. Abstractive Summarization\n",
    "\n",
    "9. Question Answering\n",
    "\n",
    "10. Chatbot\n",
    "\n",
    "\n",
    "</div>\n",
    "\n",
    "***"
   ]
  },
  {
   "cell_type": "markdown",
   "metadata": {},
   "source": [
    "<a id=\"plan\"></a>"
   ]
  },
  {
   "cell_type": "markdown",
   "metadata": {},
   "source": [
    "| | | | |\n",
    "|------|------|------|------|\n",
    "| **Content** | [Corpus](#corpus) | [Modules](#modules) | [Model](#model) | \n",
    "\n"
   ]
  },
  {
   "cell_type": "markdown",
   "metadata": {},
   "source": [
    "# Packages"
   ]
  },
  {
   "cell_type": "code",
   "execution_count": 1,
   "metadata": {},
   "outputs": [
    {
     "name": "stderr",
     "output_type": "stream",
     "text": [
      "C:\\ProgramData\\Anaconda3\\lib\\site-packages\\gensim\\utils.py:1197: UserWarning: detected Windows; aliasing chunkize to chunkize_serial\n",
      "  warnings.warn(\"detected Windows; aliasing chunkize to chunkize_serial\")\n"
     ]
    },
    {
     "name": "stdout",
     "output_type": "stream",
     "text": [
      "python version : 3.6.5 |Anaconda, Inc.| (default, Mar 29 2018, 13:32:41) [MSC v.1900 64 bit (AMD64)]\n",
      "pytorch version : 1.5.0\n",
      "DL device : cuda\n"
     ]
    }
   ],
   "source": [
    "from __future__ import unicode_literals, print_function, division\n",
    "\n",
    "import sys\n",
    "import warnings\n",
    "import os\n",
    "from io import open\n",
    "import unicodedata\n",
    "import string\n",
    "import time\n",
    "import math\n",
    "import re\n",
    "import random\n",
    "import pickle\n",
    "import copy\n",
    "from unidecode import unidecode\n",
    "import itertools\n",
    "import matplotlib\n",
    "import matplotlib.pyplot as plt\n",
    "\n",
    "\n",
    "# for special math operation\n",
    "from sklearn.preprocessing import normalize\n",
    "\n",
    "\n",
    "# for manipulating data \n",
    "import numpy as np\n",
    "#np.set_printoptions(threshold=np.nan)\n",
    "import pandas as pd\n",
    "import bcolz # see https://bcolz.readthedocs.io/en/latest/intro.html\n",
    "import pickle\n",
    "\n",
    "\n",
    "# for text processing\n",
    "import gensim\n",
    "from gensim.models import KeyedVectors\n",
    "#import spacy\n",
    "import nltk\n",
    "#nltk.download()\n",
    "from nltk.tokenize import sent_tokenize, word_tokenize, RegexpTokenizer\n",
    "from nltk.stem.porter import PorterStemmer\n",
    "\n",
    "\n",
    "# for deep learning\n",
    "import torch\n",
    "import torch.nn as nn\n",
    "from torch.autograd import Variable\n",
    "from torch import optim\n",
    "import torch.nn.functional as F\n",
    "from torch.utils.data import DataLoader\n",
    "device = torch.device(\"cuda\" if torch.cuda.is_available() else \"cpu\")\n",
    "#device = torch.device(\"cpu\")\n",
    "\n",
    "warnings.filterwarnings(\"ignore\")\n",
    "print('python version :', sys.version)\n",
    "print('pytorch version :', torch.__version__)\n",
    "print('DL device :', device)"
   ]
  },
  {
   "cell_type": "code",
   "execution_count": 2,
   "metadata": {},
   "outputs": [],
   "source": [
    "path_to_DL4NLP = os.path.dirname(os.getcwd())\n",
    "path_to_data   = 'D:\\\\data'"
   ]
  },
  {
   "cell_type": "code",
   "execution_count": 3,
   "metadata": {},
   "outputs": [],
   "source": [
    "sys.path.append(path_to_DL4NLP + '\\\\lib')"
   ]
  },
  {
   "cell_type": "markdown",
   "metadata": {},
   "source": [
    "<a id=\"corpus\"></a>"
   ]
  },
  {
   "cell_type": "markdown",
   "metadata": {},
   "source": [
    "# Corpus\n",
    "\n",
    "[Back to top](#plan)\n",
    "\n",
    "Le texte est importé et mis sous forme de liste, où chaque élément représente un texte présenté sous forme d'une liste de mots.<br> Le corpus est donc une fois importé sous le forme :<br>\n",
    "\n",
    "- corpus = [text]<br>\n",
    "- text   = [word]<br>\n",
    "- word   = str<br>"
   ]
  },
  {
   "cell_type": "code",
   "execution_count": 4,
   "metadata": {},
   "outputs": [],
   "source": [
    "# --------------------------- Normalisation -------------------------------\n",
    "def normalizeString(s):\n",
    "    '''Remove rare symbols from a string'''\n",
    "    def unicodeToAscii(s):\n",
    "        \"\"\"Turn a Unicode string to plain ASCII, thanks to http://stackoverflow.com/a/518232/2809427\"\"\"\n",
    "        return ''.join(c for c in unicodedata.normalize('NFD', s) if unicodedata.category(c) != 'Mn')\n",
    " \n",
    "    s = unicodeToAscii(s.lower().strip())\n",
    "    #s = re.sub(r\"[^a-zA-Z0-9?&\\%\\-\\_]+\", r\" \", s) \n",
    "    s = re.sub(\"\\(\", r\" ( \", s)\n",
    "    s = re.sub(\"\\)\", r\" ) \", s)\n",
    "    s = re.sub(r\"\\.\", r\" . \", s)\n",
    "    s = re.sub(r\",\", r\" , \", s)\n",
    "    s = re.sub(r\"!\", r\" ! \", s)\n",
    "    s = re.sub(r\":\", r\" : \", s)\n",
    "    s = re.sub(r\"-\", r\" - \", s)\n",
    "    s = re.sub(r\"'\", r\" ' \", s)\n",
    "    s = re.sub(r\";\", r\" ; \", s)\n",
    "    s = re.sub(r' +', r' ', s).strip()\n",
    "    return s \n",
    "\n",
    "\n",
    "\n",
    "#--------------------- import des dialogues --------------------\n",
    "def importDialogues(path, limit = None):\n",
    "    '''Import a textfile containing dialogues and returns a list, each element \n",
    "       corresponding to a dialogue and also being under the form of a list, with \n",
    "       each element being a list of two elements : an element giving a user \n",
    "       utterance and another element giving the bot response. Both elements are \n",
    "       normalized strings.\n",
    "       Ex. The dialogue :\n",
    "       \n",
    "               hi    hello what can i help you with today\n",
    "               can you book a table    i m on it\n",
    "               \n",
    "       now becomes :\n",
    "       \n",
    "              [['hi', 'hello what can i help you with today'], \n",
    "               ['can you book a table', 'i m on it']]\n",
    "               \n",
    "       Lines corresponding to user utterance with no bot response are discarted.\n",
    "    '''\n",
    "    def cleanS(s):\n",
    "        cleans = normalizeString(s)\n",
    "        cleans = cleans.replace('?', ' ? ').strip()\n",
    "        return cleans\n",
    "    \n",
    "    dialogues = []\n",
    "    dialogues_import = open(path, encoding='utf-8').read().strip().split('\\n\\n')\n",
    "    for i, d in enumerate(dialogues_import):\n",
    "        dialogue = []\n",
    "        lines = d.split('\\n')\n",
    "        for l in lines:\n",
    "            if len(l.split('\\t')) == 2 :\n",
    "                pair = [cleanS(s) for s in l.split('\\t')]\n",
    "                dialogue.append(pair)\n",
    "            elif len(l.split('\\t')) == 3 :\n",
    "                pair = [cleanS(s) for s in l.split('\\t')[:2]]\n",
    "                dialogue.append(pair)\n",
    "        dialogues.append(dialogue)\n",
    "        if limit is not None and i == limit -1 : break\n",
    "    return dialogues\n",
    "\n",
    "\n",
    "def getUniqueQAs(dialogues) :\n",
    "    uniq = []\n",
    "    for qa in dialogues :\n",
    "        if qa not in uniq : uniq.append(qa)\n",
    "    return uniq\n",
    "\n",
    "\n",
    "\n",
    "#------------------ Dictionnaire des mots variables -----------------------------\n",
    "def motVar(file):\n",
    "    '''Applies to the Master's program dataset.\n",
    "       Import the collection of pairs token-content for a set of variable words.\n",
    "    '''\n",
    "    lines = open(file, encoding='utf-8').read().strip().split('\\n')\n",
    "    motsVar = {}\n",
    "    for l in lines :\n",
    "        cle, valeur = l.split('\\t')\n",
    "        motsVar[cle.lower()] = valeur\n",
    "    return motsVar"
   ]
  },
  {
   "cell_type": "code",
   "execution_count": 5,
   "metadata": {},
   "outputs": [],
   "source": [
    "motsVar    = motVar(path_to_data + '\\\\M2DS\\\\M2DS_2019_07\\\\chatbot-M2-DS-Variables.txt')\n",
    "dialogues  = importDialogues(path_to_data + '\\\\M2DS\\\\M2DS_2019_10\\\\ChatbotDS_P_Train.tsv')\n",
    "dialogues_tst = importDialogues(path_to_data + '\\\\M2DS\\\\M2DS_2019_10\\\\ChatbotDS_P_Test.tsv')"
   ]
  },
  {
   "cell_type": "code",
   "execution_count": 6,
   "metadata": {},
   "outputs": [
    {
     "name": "stdout",
     "output_type": "stream",
     "text": [
      "200224 20561\n"
     ]
    }
   ],
   "source": [
    "qa_trn = [qa for dialogue in dialogues for qa in dialogue] # getUniqueQAs(\n",
    "qa_tst = [qa for dialogue in dialogues_tst for qa in dialogue] # getUniqueQAs(\n",
    "\n",
    "print(len(qa_trn), len(qa_tst))"
   ]
  },
  {
   "cell_type": "code",
   "execution_count": 7,
   "metadata": {
    "scrolled": false
   },
   "outputs": [
    {
     "name": "stdout",
     "output_type": "stream",
     "text": [
      "il vaut mieux suivre quel parcours  ? \t les deux parcours sont equivalents , c ' est a vous de faire un choix .\n",
      "quand est ce que commence les cours  ? \t la rentree est le daterentree\n",
      "comment je prend contact avec la scolarite  ? \t les contacts de la scolarite sont accessibles sur : sitescolarite\n",
      "est ce que il y a des cours en anglais  ? \t plusieurs supports de cours sont en anglais\n",
      "tous les cours sont obligatoires  ? \t tous les cours sont obligatoires , il n ' existe pas d ' options .\n",
      "merci pour les renseignements \t je vous en prie\n",
      "peux tu m ' aider  ? \t je suis la pour vous renseigner sur le master 2 data science .\n",
      "le cours de data visualisation est - il en ligne  ? \t vous devriez prendre contact avec l ' enseignant de l ' ue et lui demander\n",
      "j ' ai envie de faire de la data science \t alors vous devriez songer a candidater a ce master !\n",
      "il y a des livres a lire en statistique  ? \t vous devriez prendre contact avec l ' enseignant de l ' ue et lui demander\n",
      "il y a combien de candidats  ? \t il y a plus de nbrcandidats candidats chaque annee , la selection est rude !\n",
      "combien de places sont ouvertes  ? \t souhaitez - vous suivre le parcours informatique ou mathematiques  ?\n",
      "informatique \t etes - vous un etudiant inscrit en france  ?\n",
      "non \t il y a nbreplaces_hors_france_informatique places disponibles pour les etudiants hors france en parcours informatique .\n",
      "comment je peux payer  ? \t vous pouvez payer par carte , par cheque bancaire , par virement ou en espece .\n",
      "avez - vous une maquette detaillee de ce master  ? \t les details de la formation est disponible sur la page du master parcours informatique : site_informatique\n",
      "comment ca va  ? \t je vais bien merci , en quoi puis - je vous aider  ?\n"
     ]
    }
   ],
   "source": [
    "for qa in dialogues[0] : print(qa[0], '\\t', qa[1])"
   ]
  },
  {
   "cell_type": "markdown",
   "metadata": {},
   "source": [
    "<a id=\"modules\"></a>"
   ]
  },
  {
   "cell_type": "markdown",
   "metadata": {},
   "source": [
    "# 1 Modules\n",
    "\n",
    "### 1.1 Word Embedding module\n",
    "\n",
    "[Back to top](#plan)\n",
    "\n",
    "All details on Word Embedding modules and their pre-training are found in **Part I - 1**. We consider here a FastText model trained following the Skip-Gram training objective."
   ]
  },
  {
   "cell_type": "code",
   "execution_count": 8,
   "metadata": {},
   "outputs": [],
   "source": [
    "from libDL4NLP.models.Word_Embedding import Word2Vec as myWord2Vec\n",
    "from libDL4NLP.models.Word_Embedding import Word2VecConnector\n",
    "from libDL4NLP.utils.Lang import Lang"
   ]
  },
  {
   "cell_type": "code",
   "execution_count": 9,
   "metadata": {},
   "outputs": [],
   "source": [
    "from gensim.models.fasttext import FastText\n",
    "from gensim.test.utils import datapath, get_tmpfile"
   ]
  },
  {
   "cell_type": "markdown",
   "metadata": {},
   "source": [
    "**Option 1** : Load pretrained"
   ]
  },
  {
   "cell_type": "code",
   "execution_count": 10,
   "metadata": {},
   "outputs": [],
   "source": [
    "# load\n",
    "word2vec_in  = torch.load(path_to_DL4NLP + '\\\\saves\\\\DL4NLP_II2b_w2v_in_M2DS.pt')\n",
    "word2vec_out = torch.load(path_to_DL4NLP + '\\\\saves\\\\DL4NLP_II2b_w2v_out_M2DS.pt')"
   ]
  },
  {
   "cell_type": "markdown",
   "metadata": {},
   "source": [
    "**Option 2** : Train new model"
   ]
  },
  {
   "cell_type": "code",
   "execution_count": 10,
   "metadata": {},
   "outputs": [],
   "source": [
    "corpus_in  = [['SOS'] + [w for w in qa[0].split(' ')] + ['EOS'] for qa in qa_trn]\n",
    "corpus_out = [['SOS'] + [w for w in qa[1].split(' ')] + ['EOS'] for qa in qa_trn]"
   ]
  },
  {
   "cell_type": "code",
   "execution_count": 53,
   "metadata": {},
   "outputs": [],
   "source": [
    "def prepareWord2vec(corpus, epochs) :\n",
    "    fastText_word2vec = FastText(size = 75, \n",
    "                                 window = 5, \n",
    "                                 min_count = 1, \n",
    "                                 negative = 20,\n",
    "                                 sg = 1)\n",
    "    fastText_word2vec.build_vocab(corpus)\n",
    "    print(len(fastText_word2vec.wv.vocab))\n",
    "    fastText_word2vec.train(sentences = corpus, \n",
    "                            epochs = epochs,\n",
    "                            total_examples = fastText_word2vec.corpus_count)\n",
    "    word2vec = Word2VecConnector(fastText_word2vec)\n",
    "    return word2vec"
   ]
  },
  {
   "cell_type": "code",
   "execution_count": 54,
   "metadata": {},
   "outputs": [
    {
     "name": "stdout",
     "output_type": "stream",
     "text": [
      "782\n",
      "896\n"
     ]
    }
   ],
   "source": [
    "word2vec_in  = prepareWord2vec(corpus_in, epochs = 20)\n",
    "word2vec_out = prepareWord2vec(corpus_out, epochs = 20)"
   ]
  },
  {
   "cell_type": "code",
   "execution_count": 11,
   "metadata": {},
   "outputs": [
    {
     "data": {
      "text/plain": [
       "[('bonjour', 0.9804752469062805),\n",
       " ('mal', 0.8117103576660156),\n",
       " ('bien', 0.6764619946479797),\n",
       " ('principal', 0.672505259513855),\n",
       " ('principalement', 0.5881912112236023),\n",
       " ('english', 0.578591525554657),\n",
       " ('handle', 0.5670300722122192),\n",
       " ('coucou', 0.5658980011940002),\n",
       " ('ok', 0.5612411499023438),\n",
       " ('speak', 0.5596966743469238)]"
      ]
     },
     "execution_count": 11,
     "metadata": {},
     "output_type": "execute_result"
    }
   ],
   "source": [
    "word2vec_in.word2vec.most_similar('bonjou')"
   ]
  },
  {
   "cell_type": "code",
   "execution_count": 12,
   "metadata": {},
   "outputs": [
    {
     "data": {
      "text/plain": [
       "[('bonjour', 0.968519926071167),\n",
       " ('accord', 0.7767391204833984),\n",
       " ('comment', 0.6192842721939087),\n",
       " ('aider', 0.5911822319030762),\n",
       " ('accordez', 0.5513397455215454),\n",
       " ('vais', 0.4964368939399719),\n",
       " ('puis', 0.4900757372379303),\n",
       " ('gardez', 0.48046615719795227),\n",
       " ('merci', 0.4791063368320465),\n",
       " ('test', 0.47400200366973877)]"
      ]
     },
     "execution_count": 12,
     "metadata": {},
     "output_type": "execute_result"
    }
   ],
   "source": [
    "word2vec_out.word2vec.most_similar('bonjou')"
   ]
  },
  {
   "cell_type": "code",
   "execution_count": 58,
   "metadata": {},
   "outputs": [],
   "source": [
    "# save\n",
    "#torch.save(word2vec_in, path_to_DL4NLP + '\\\\saves\\\\DL4NLP_II2b_w2v_in_M2DS.pt')\n",
    "#torch.save(word2vec_out, path_to_DL4NLP + '\\\\saves\\\\DL4NLP_II2b_w2v_out_M2DS.pt')"
   ]
  },
  {
   "cell_type": "markdown",
   "metadata": {},
   "source": [
    "<a id=\"model\"></a>"
   ]
  },
  {
   "cell_type": "markdown",
   "metadata": {},
   "source": [
    "# 2 Encoder-Decoder Model\n",
    "\n",
    "[Back to top](#plan)\n"
   ]
  },
  {
   "cell_type": "code",
   "execution_count": 20,
   "metadata": {},
   "outputs": [],
   "source": [
    "from libDL4NLP.models import EncoderDecoder\n",
    "from libDL4NLP.utils  import AttentionViewer, AttentionViewerOnWords"
   ]
  },
  {
   "cell_type": "markdown",
   "metadata": {},
   "source": [
    "#### Training"
   ]
  },
  {
   "cell_type": "code",
   "execution_count": 15,
   "metadata": {},
   "outputs": [
    {
     "data": {
      "text/plain": [
       "69"
      ]
     },
     "execution_count": 15,
     "metadata": {},
     "output_type": "execute_result"
    }
   ],
   "source": [
    "max([len(qa[1].split(' ')) for qa in qa_trn])"
   ]
  },
  {
   "cell_type": "code",
   "execution_count": 16,
   "metadata": {
    "scrolled": true
   },
   "outputs": [
    {
     "data": {
      "text/plain": [
       "661897"
      ]
     },
     "execution_count": 16,
     "metadata": {},
     "output_type": "execute_result"
    }
   ],
   "source": [
    "chatbot = EncoderDecoder(device = torch.device(\"cpu\"),\n",
    "                         tokenizer = lambda s : normalizeString(s).split(' '),\n",
    "                         word2vec_in = word2vec_in,\n",
    "                         word2vec_out = word2vec_out,\n",
    "                         hidden_dim_in = 100,\n",
    "                         hidden_dim_out = 100,\n",
    "                         n_layers_in = 2,\n",
    "                         n_layers_out = 2,\n",
    "                         bound = 75,\n",
    "                         dropout = 0.15,\n",
    "                         decoder_warm_start = True,\n",
    "                         decoder_type = 'attention',\n",
    "                         optimizer = optim.AdamW)\n",
    "\n",
    "chatbot.nbParametres()"
   ]
  },
  {
   "cell_type": "code",
   "execution_count": 20,
   "metadata": {},
   "outputs": [
    {
     "data": {
      "text/plain": [
       "6257"
      ]
     },
     "execution_count": 20,
     "metadata": {},
     "output_type": "execute_result"
    }
   ],
   "source": [
    "batches = chatbot.generatePackedSentences(qa_trn, batch_size = 32)\n",
    "len(batches)"
   ]
  },
  {
   "cell_type": "code",
   "execution_count": 25,
   "metadata": {
    "scrolled": true
   },
   "outputs": [
    {
     "name": "stdout",
     "output_type": "stream",
     "text": [
      "epoch 1\n",
      "0m 21s (- 22m 20s) (100 1%) loss : 5.101  accuracy : 9.5 %\n",
      "0m 44s (- 22m 16s) (200 3%) loss : 4.310  accuracy : 18.2 %\n",
      "1m 6s (- 22m 5s) (300 4%) loss : 3.972  accuracy : 26.0 %\n",
      "1m 30s (- 21m 59s) (400 6%) loss : 3.718  accuracy : 31.8 %\n",
      "1m 53s (- 21m 45s) (500 7%) loss : 3.201  accuracy : 38.3 %\n",
      "2m 16s (- 21m 30s) (600 9%) loss : 2.788  accuracy : 47.3 %\n",
      "2m 39s (- 21m 3s) (700 11%) loss : 2.363  accuracy : 53.9 %\n",
      "3m 2s (- 20m 44s) (800 12%) loss : 2.247  accuracy : 55.5 %\n",
      "3m 26s (- 20m 28s) (900 14%) loss : 2.024  accuracy : 59.5 %\n",
      "3m 50s (- 20m 10s) (1000 15%) loss : 1.644  accuracy : 66.9 %\n",
      "4m 14s (- 19m 51s) (1100 17%) loss : 1.886  accuracy : 62.6 %\n",
      "4m 37s (- 19m 28s) (1200 19%) loss : 1.942  accuracy : 62.2 %\n",
      "4m 57s (- 18m 56s) (1300 20%) loss : 1.891  accuracy : 64.9 %\n",
      "5m 21s (- 18m 33s) (1400 22%) loss : 1.650  accuracy : 66.7 %\n",
      "5m 43s (- 18m 10s) (1500 23%) loss : 1.655  accuracy : 66.6 %\n",
      "6m 5s (- 17m 42s) (1600 25%) loss : 1.504  accuracy : 70.3 %\n",
      "6m 30s (- 17m 26s) (1700 27%) loss : 1.431  accuracy : 70.2 %\n",
      "6m 57s (- 17m 14s) (1800 28%) loss : 1.458  accuracy : 70.8 %\n",
      "7m 21s (- 16m 51s) (1900 30%) loss : 1.168  accuracy : 75.2 %\n",
      "7m 46s (- 16m 33s) (2000 31%) loss : 1.206  accuracy : 75.5 %\n",
      "8m 12s (- 16m 14s) (2100 33%) loss : 1.277  accuracy : 73.7 %\n",
      "8m 37s (- 15m 53s) (2200 35%) loss : 1.260  accuracy : 73.9 %\n",
      "9m 0s (- 15m 30s) (2300 36%) loss : 1.053  accuracy : 77.7 %\n",
      "9m 24s (- 15m 7s) (2400 38%) loss : 0.898  accuracy : 81.4 %\n",
      "9m 47s (- 14m 43s) (2500 39%) loss : 1.004  accuracy : 79.5 %\n",
      "10m 10s (- 14m 19s) (2600 41%) loss : 0.839  accuracy : 82.3 %\n",
      "10m 34s (- 13m 55s) (2700 43%) loss : 0.817  accuracy : 83.0 %\n",
      "10m 56s (- 13m 30s) (2800 44%) loss : 0.827  accuracy : 83.2 %\n",
      "11m 18s (- 13m 5s) (2900 46%) loss : 0.784  accuracy : 83.6 %\n",
      "11m 40s (- 12m 40s) (3000 47%) loss : 0.899  accuracy : 81.5 %\n",
      "12m 2s (- 12m 15s) (3100 49%) loss : 1.008  accuracy : 79.1 %\n",
      "12m 24s (- 11m 51s) (3200 51%) loss : 0.624  accuracy : 86.4 %\n",
      "12m 46s (- 11m 27s) (3300 52%) loss : 0.956  accuracy : 80.1 %\n",
      "13m 8s (- 11m 2s) (3400 54%) loss : 0.752  accuracy : 83.8 %\n",
      "13m 30s (- 10m 38s) (3500 55%) loss : 0.588  accuracy : 87.4 %\n",
      "13m 52s (- 10m 14s) (3600 57%) loss : 0.606  accuracy : 87.3 %\n",
      "14m 16s (- 9m 51s) (3700 59%) loss : 0.816  accuracy : 82.1 %\n",
      "14m 38s (- 9m 28s) (3800 60%) loss : 0.701  accuracy : 85.1 %\n",
      "15m 1s (- 9m 4s) (3900 62%) loss : 0.836  accuracy : 82.3 %\n",
      "15m 23s (- 8m 41s) (4000 63%) loss : 0.586  accuracy : 87.6 %\n",
      "15m 46s (- 8m 17s) (4100 65%) loss : 0.661  accuracy : 86.2 %\n",
      "16m 8s (- 7m 54s) (4200 67%) loss : 0.629  accuracy : 87.0 %\n",
      "16m 31s (- 7m 31s) (4300 68%) loss : 0.665  accuracy : 86.2 %\n",
      "16m 53s (- 7m 7s) (4400 70%) loss : 0.499  accuracy : 89.0 %\n",
      "17m 16s (- 6m 44s) (4500 71%) loss : 0.729  accuracy : 84.1 %\n",
      "17m 38s (- 6m 21s) (4600 73%) loss : 0.528  accuracy : 88.1 %\n",
      "18m 2s (- 5m 58s) (4700 75%) loss : 0.589  accuracy : 87.3 %\n",
      "18m 24s (- 5m 35s) (4800 76%) loss : 0.727  accuracy : 83.8 %\n",
      "18m 47s (- 5m 12s) (4900 78%) loss : 0.665  accuracy : 85.3 %\n",
      "19m 9s (- 4m 49s) (5000 79%) loss : 0.605  accuracy : 86.7 %\n",
      "19m 35s (- 4m 26s) (5100 81%) loss : 0.414  accuracy : 90.8 %\n",
      "19m 57s (- 4m 3s) (5200 83%) loss : 0.489  accuracy : 89.7 %\n",
      "20m 19s (- 3m 40s) (5300 84%) loss : 0.466  accuracy : 90.2 %\n",
      "20m 42s (- 3m 17s) (5400 86%) loss : 0.517  accuracy : 88.5 %\n",
      "21m 5s (- 2m 54s) (5500 87%) loss : 0.378  accuracy : 92.7 %\n",
      "21m 27s (- 2m 31s) (5600 89%) loss : 0.574  accuracy : 88.0 %\n",
      "21m 49s (- 2m 7s) (5700 91%) loss : 0.528  accuracy : 88.5 %\n",
      "22m 11s (- 1m 44s) (5800 92%) loss : 0.493  accuracy : 89.6 %\n",
      "22m 33s (- 1m 21s) (5900 94%) loss : 0.651  accuracy : 85.6 %\n",
      "22m 55s (- 0m 58s) (6000 95%) loss : 0.339  accuracy : 92.6 %\n",
      "23m 18s (- 0m 35s) (6100 97%) loss : 0.396  accuracy : 90.7 %\n",
      "23m 41s (- 0m 13s) (6200 99%) loss : 0.396  accuracy : 91.6 %\n",
      "epoch 1\n",
      "0m 23s (- 24m 8s) (100 1%) loss : 0.696  accuracy : 85.0 %\n",
      "0m 46s (- 23m 19s) (200 3%) loss : 0.562  accuracy : 87.0 %\n",
      "1m 8s (- 22m 42s) (300 4%) loss : 0.534  accuracy : 88.3 %\n",
      "1m 32s (- 22m 33s) (400 6%) loss : 0.576  accuracy : 86.9 %\n",
      "1m 54s (- 22m 2s) (500 7%) loss : 0.475  accuracy : 88.7 %\n",
      "2m 18s (- 21m 44s) (600 9%) loss : 0.453  accuracy : 89.1 %\n",
      "2m 41s (- 21m 23s) (700 11%) loss : 0.351  accuracy : 91.5 %\n",
      "3m 4s (- 20m 56s) (800 12%) loss : 0.397  accuracy : 91.0 %\n",
      "3m 27s (- 20m 33s) (900 14%) loss : 0.436  accuracy : 89.6 %\n",
      "3m 48s (- 20m 0s) (1000 15%) loss : 0.398  accuracy : 90.2 %\n",
      "4m 12s (- 19m 41s) (1100 17%) loss : 0.523  accuracy : 87.3 %\n",
      "4m 33s (- 19m 13s) (1200 19%) loss : 0.401  accuracy : 90.2 %\n",
      "4m 55s (- 18m 48s) (1300 20%) loss : 0.419  accuracy : 90.2 %\n",
      "5m 17s (- 18m 23s) (1400 22%) loss : 0.411  accuracy : 90.1 %\n",
      "5m 41s (- 18m 2s) (1500 23%) loss : 0.451  accuracy : 88.5 %\n",
      "6m 4s (- 17m 39s) (1600 25%) loss : 0.444  accuracy : 88.0 %\n",
      "6m 26s (- 17m 15s) (1700 27%) loss : 0.531  accuracy : 86.5 %\n",
      "6m 50s (- 16m 56s) (1800 28%) loss : 0.483  accuracy : 87.6 %\n",
      "7m 12s (- 16m 32s) (1900 30%) loss : 0.366  accuracy : 90.2 %\n",
      "7m 39s (- 16m 18s) (2000 31%) loss : 0.374  accuracy : 90.6 %\n",
      "8m 7s (- 16m 5s) (2100 33%) loss : 0.400  accuracy : 89.9 %\n",
      "8m 35s (- 15m 49s) (2200 35%) loss : 0.352  accuracy : 91.5 %\n",
      "9m 7s (- 15m 42s) (2300 36%) loss : 0.414  accuracy : 89.6 %\n",
      "9m 40s (- 15m 33s) (2400 38%) loss : 0.382  accuracy : 90.2 %\n",
      "10m 11s (- 15m 19s) (2500 39%) loss : 0.468  accuracy : 87.2 %\n",
      "10m 40s (- 15m 1s) (2600 41%) loss : 0.319  accuracy : 91.8 %\n",
      "11m 10s (- 14m 43s) (2700 43%) loss : 0.438  accuracy : 87.5 %\n",
      "11m 41s (- 14m 25s) (2800 44%) loss : 0.332  accuracy : 91.0 %\n",
      "12m 11s (- 14m 6s) (2900 46%) loss : 0.279  accuracy : 92.8 %\n",
      "12m 41s (- 13m 46s) (3000 47%) loss : 0.349  accuracy : 92.1 %\n",
      "13m 13s (- 13m 27s) (3100 49%) loss : 0.266  accuracy : 93.4 %\n",
      "13m 45s (- 13m 8s) (3200 51%) loss : 0.379  accuracy : 90.6 %\n",
      "14m 17s (- 12m 48s) (3300 52%) loss : 0.339  accuracy : 90.9 %\n",
      "14m 50s (- 12m 28s) (3400 54%) loss : 0.400  accuracy : 89.7 %\n",
      "15m 24s (- 12m 8s) (3500 55%) loss : 0.291  accuracy : 92.2 %\n",
      "15m 56s (- 11m 45s) (3600 57%) loss : 0.306  accuracy : 92.3 %\n",
      "16m 27s (- 11m 22s) (3700 59%) loss : 0.360  accuracy : 91.0 %\n",
      "16m 55s (- 10m 56s) (3800 60%) loss : 0.385  accuracy : 89.2 %\n",
      "17m 25s (- 10m 31s) (3900 62%) loss : 0.280  accuracy : 92.6 %\n",
      "17m 55s (- 10m 6s) (4000 63%) loss : 0.304  accuracy : 91.9 %\n",
      "18m 27s (- 9m 42s) (4100 65%) loss : 0.443  accuracy : 87.2 %\n",
      "18m 57s (- 9m 17s) (4200 67%) loss : 0.347  accuracy : 91.2 %\n",
      "19m 29s (- 8m 52s) (4300 68%) loss : 0.377  accuracy : 90.0 %\n",
      "19m 59s (- 8m 26s) (4400 70%) loss : 0.300  accuracy : 91.5 %\n",
      "20m 32s (- 8m 1s) (4500 71%) loss : 0.234  accuracy : 94.1 %\n",
      "21m 2s (- 7m 34s) (4600 73%) loss : 0.470  accuracy : 87.7 %\n",
      "21m 34s (- 7m 8s) (4700 75%) loss : 0.362  accuracy : 91.1 %\n",
      "22m 6s (- 6m 42s) (4800 76%) loss : 0.387  accuracy : 90.8 %\n",
      "22m 38s (- 6m 16s) (4900 78%) loss : 0.305  accuracy : 92.7 %\n",
      "23m 10s (- 5m 49s) (5000 79%) loss : 0.344  accuracy : 90.7 %\n",
      "23m 39s (- 5m 22s) (5100 81%) loss : 0.298  accuracy : 92.7 %\n",
      "24m 11s (- 4m 54s) (5200 83%) loss : 0.262  accuracy : 93.0 %\n",
      "24m 41s (- 4m 27s) (5300 84%) loss : 0.258  accuracy : 93.7 %\n",
      "25m 11s (- 3m 59s) (5400 86%) loss : 0.255  accuracy : 92.7 %\n",
      "25m 43s (- 3m 32s) (5500 87%) loss : 0.235  accuracy : 94.0 %\n",
      "26m 14s (- 3m 4s) (5600 89%) loss : 0.395  accuracy : 89.5 %\n",
      "26m 46s (- 2m 36s) (5700 91%) loss : 0.287  accuracy : 92.7 %\n",
      "27m 18s (- 2m 9s) (5800 92%) loss : 0.239  accuracy : 93.7 %\n",
      "27m 49s (- 1m 41s) (5900 94%) loss : 0.240  accuracy : 93.8 %\n",
      "28m 21s (- 1m 12s) (6000 95%) loss : 0.273  accuracy : 93.2 %\n",
      "28m 51s (- 0m 44s) (6100 97%) loss : 0.286  accuracy : 93.1 %\n",
      "29m 21s (- 0m 16s) (6200 99%) loss : 0.353  accuracy : 91.2 %\n",
      "epoch 1\n",
      "0m 30s (- 31m 20s) (100 1%) loss : 0.354  accuracy : 91.1 %\n",
      "1m 1s (- 30m 50s) (200 3%) loss : 0.346  accuracy : 90.4 %\n",
      "1m 31s (- 30m 25s) (300 4%) loss : 0.349  accuracy : 89.6 %\n",
      "2m 3s (- 30m 4s) (400 6%) loss : 0.229  accuracy : 94.3 %\n",
      "2m 32s (- 29m 20s) (500 7%) loss : 0.326  accuracy : 90.3 %\n",
      "3m 4s (- 29m 1s) (600 9%) loss : 0.297  accuracy : 91.5 %\n",
      "3m 36s (- 28m 38s) (700 11%) loss : 0.254  accuracy : 92.4 %\n",
      "4m 9s (- 28m 19s) (800 12%) loss : 0.215  accuracy : 94.0 %\n",
      "4m 41s (- 27m 57s) (900 14%) loss : 0.198  accuracy : 94.6 %\n"
     ]
    },
    {
     "name": "stdout",
     "output_type": "stream",
     "text": [
      "5m 13s (- 27m 26s) (1000 15%) loss : 0.285  accuracy : 92.0 %\n",
      "5m 47s (- 27m 8s) (1100 17%) loss : 0.239  accuracy : 93.6 %\n",
      "6m 17s (- 26m 29s) (1200 19%) loss : 0.236  accuracy : 93.0 %\n",
      "6m 48s (- 25m 58s) (1300 20%) loss : 0.315  accuracy : 91.0 %\n",
      "7m 21s (- 25m 30s) (1400 22%) loss : 0.331  accuracy : 90.6 %\n",
      "7m 50s (- 24m 53s) (1500 23%) loss : 0.241  accuracy : 93.2 %\n",
      "8m 22s (- 24m 22s) (1600 25%) loss : 0.221  accuracy : 93.5 %\n",
      "8m 54s (- 23m 51s) (1700 27%) loss : 0.314  accuracy : 90.5 %\n",
      "9m 26s (- 23m 23s) (1800 28%) loss : 0.204  accuracy : 94.1 %\n",
      "9m 59s (- 22m 54s) (1900 30%) loss : 0.335  accuracy : 90.4 %\n",
      "10m 33s (- 22m 28s) (2000 31%) loss : 0.295  accuracy : 91.1 %\n",
      "11m 4s (- 21m 56s) (2100 33%) loss : 0.306  accuracy : 90.6 %\n",
      "11m 36s (- 21m 23s) (2200 35%) loss : 0.203  accuracy : 94.0 %\n",
      "12m 8s (- 20m 52s) (2300 36%) loss : 0.227  accuracy : 93.6 %\n",
      "12m 38s (- 20m 18s) (2400 38%) loss : 0.254  accuracy : 92.1 %\n",
      "13m 10s (- 19m 48s) (2500 39%) loss : 0.302  accuracy : 91.0 %\n",
      "13m 42s (- 19m 17s) (2600 41%) loss : 0.211  accuracy : 94.0 %\n",
      "14m 13s (- 18m 44s) (2700 43%) loss : 0.276  accuracy : 92.1 %\n",
      "14m 45s (- 18m 13s) (2800 44%) loss : 0.301  accuracy : 90.5 %\n",
      "15m 16s (- 17m 40s) (2900 46%) loss : 0.158  accuracy : 95.5 %\n",
      "15m 48s (- 17m 9s) (3000 47%) loss : 0.244  accuracy : 92.6 %\n",
      "16m 19s (- 16m 37s) (3100 49%) loss : 0.294  accuracy : 91.5 %\n",
      "16m 50s (- 16m 5s) (3200 51%) loss : 0.246  accuracy : 92.7 %\n",
      "17m 21s (- 15m 33s) (3300 52%) loss : 0.307  accuracy : 91.0 %\n",
      "17m 53s (- 15m 1s) (3400 54%) loss : 0.222  accuracy : 94.0 %\n",
      "18m 24s (- 14m 29s) (3500 55%) loss : 0.230  accuracy : 93.6 %\n",
      "18m 59s (- 14m 0s) (3600 57%) loss : 0.238  accuracy : 93.0 %\n",
      "19m 32s (- 13m 29s) (3700 59%) loss : 0.332  accuracy : 90.3 %\n",
      "20m 4s (- 12m 58s) (3800 60%) loss : 0.268  accuracy : 91.8 %\n",
      "20m 37s (- 12m 27s) (3900 62%) loss : 0.227  accuracy : 93.9 %\n",
      "21m 6s (- 11m 54s) (4000 63%) loss : 0.201  accuracy : 94.5 %\n",
      "21m 40s (- 11m 23s) (4100 65%) loss : 0.228  accuracy : 93.7 %\n",
      "22m 8s (- 10m 50s) (4200 67%) loss : 0.263  accuracy : 92.2 %\n",
      "22m 38s (- 10m 18s) (4300 68%) loss : 0.256  accuracy : 92.6 %\n",
      "23m 6s (- 9m 45s) (4400 70%) loss : 0.308  accuracy : 90.4 %\n",
      "23m 37s (- 9m 13s) (4500 71%) loss : 0.252  accuracy : 92.3 %\n",
      "24m 9s (- 8m 42s) (4600 73%) loss : 0.324  accuracy : 90.4 %\n",
      "24m 39s (- 8m 10s) (4700 75%) loss : 0.262  accuracy : 92.0 %\n",
      "25m 12s (- 7m 38s) (4800 76%) loss : 0.227  accuracy : 92.9 %\n",
      "25m 44s (- 7m 7s) (4900 78%) loss : 0.241  accuracy : 92.5 %\n",
      "26m 13s (- 6m 35s) (5000 79%) loss : 0.312  accuracy : 89.8 %\n",
      "26m 44s (- 6m 4s) (5100 81%) loss : 0.206  accuracy : 94.1 %\n",
      "27m 13s (- 5m 32s) (5200 83%) loss : 0.162  accuracy : 95.4 %\n",
      "27m 43s (- 5m 0s) (5300 84%) loss : 0.241  accuracy : 93.1 %\n",
      "28m 14s (- 4m 28s) (5400 86%) loss : 0.195  accuracy : 94.7 %\n",
      "28m 45s (- 3m 57s) (5500 87%) loss : 0.262  accuracy : 92.1 %\n",
      "29m 16s (- 3m 26s) (5600 89%) loss : 0.227  accuracy : 93.1 %\n",
      "29m 48s (- 2m 54s) (5700 91%) loss : 0.259  accuracy : 92.3 %\n",
      "30m 18s (- 2m 23s) (5800 92%) loss : 0.229  accuracy : 93.7 %\n",
      "30m 50s (- 1m 51s) (5900 94%) loss : 0.238  accuracy : 93.2 %\n",
      "31m 21s (- 1m 20s) (6000 95%) loss : 0.240  accuracy : 93.2 %\n",
      "31m 54s (- 0m 49s) (6100 97%) loss : 0.250  accuracy : 92.5 %\n",
      "32m 24s (- 0m 17s) (6200 99%) loss : 0.290  accuracy : 91.5 %\n"
     ]
    }
   ],
   "source": [
    "chatbot.fit(batches, epochs = 1, lr = 0.0025, tf_ratio = 0.75, print_every = 100)\n",
    "chatbot.fit(batches, epochs = 1, lr = 0.001, tf_ratio = 0.5, print_every = 100)\n",
    "chatbot.fit(batches, epochs = 1, lr = 0.00025, tf_ratio = 0.5, print_every = 100)"
   ]
  },
  {
   "cell_type": "code",
   "execution_count": 17,
   "metadata": {},
   "outputs": [
    {
     "data": {
      "text/plain": [
       "<All keys matched successfully>"
      ]
     },
     "execution_count": 17,
     "metadata": {},
     "output_type": "execute_result"
    }
   ],
   "source": [
    "# save\n",
    "#torch.save(chatbot.state_dict(), path_to_DL4NLP + '\\\\saves\\\\DL4NLP_II2b_encoder_attndecoder_M2DS.pth')\n",
    "\n",
    "# load\n",
    "#chatbot.load_state_dict(torch.load(path_to_DL4NLP + '\\\\saves\\\\DL4NLP_II2b_encoder_attndecoder_M2DS.pth'))"
   ]
  },
  {
   "cell_type": "markdown",
   "metadata": {},
   "source": [
    "#### Evaluation"
   ]
  },
  {
   "cell_type": "code",
   "execution_count": 29,
   "metadata": {
    "scrolled": true
   },
   "outputs": [
    {
     "data": {
      "text/plain": [
       "49.044307183502745"
      ]
     },
     "execution_count": 29,
     "metadata": {},
     "output_type": "execute_result"
    }
   ],
   "source": [
    "chatbot.eval()\n",
    "chatbot.compute_accuracy(qa_tst, batch_size = 16)"
   ]
  },
  {
   "cell_type": "code",
   "execution_count": 18,
   "metadata": {},
   "outputs": [],
   "source": [
    "def ReplaceMotVar(motsVar, raw_sentence):\n",
    "    sentence = []\n",
    "    word_list = raw_sentence.split(' ')\n",
    "    for word in word_list :\n",
    "        if word in motsVar.keys() :\n",
    "            sentence.append(motsVar[word])\n",
    "        else :\n",
    "            sentence.append(word)\n",
    "    return ' '.join(sentence)\n",
    "\n",
    "\n",
    "def repair(sentence) :\n",
    "    s = re.sub(\" ' \", \"'\", sentence)\n",
    "    s = re.sub(\" - \", \"-\", s)\n",
    "    s = re.sub(\" ,\", \",\", s)\n",
    "    s = re.sub(r'(?<=\\d) \\. (?=\\d)', '.', s)\n",
    "    s = re.sub(\" \\.\", \".\", s)\n",
    "    s = re.sub(\"\\( \", \"(\", s)\n",
    "    s = re.sub(\" \\)\", \")\", s)\n",
    "    s = s[0].upper() + s[1:]\n",
    "    return s\n",
    "\n",
    "\n",
    "def InteractiveEvaluation(agent) :\n",
    "    print(\"Interactive mode (Press 'q' to exit)\")\n",
    "    agent.eval()\n",
    "    while True :\n",
    "        text = input('User : ')\n",
    "        #print('User : {}'.format(text))\n",
    "        if text == 'eoc' or text == 'q' or text == 'quit' : \n",
    "            break\n",
    "        reponse = agent(text)\n",
    "        reponse = ReplaceMotVar(motsVar, reponse)\n",
    "        reponse = repair(reponse)\n",
    "        print('Bot  : {}'.format(reponse))"
   ]
  },
  {
   "cell_type": "code",
   "execution_count": 137,
   "metadata": {},
   "outputs": [
    {
     "name": "stdout",
     "output_type": "stream",
     "text": [
      "Interactive mode (Press 'q' to exit)\n",
      "User : coucou\n",
      "Bot  : Bonjour, comment puis-je vous aider ?\n",
      "User : salut\n",
      "Bot  : Bonjour, comment puis-je vous aider ?\n",
      "User : tu fais quoi\n",
      "Bot  : Je suis la pour vous renseigner sur le master 2 data science.\n",
      "User : cool, sinon tu sais faire quoi\n",
      "Bot  : Il y a plusieurs tp, sur les reseaux bayesien, les modeles de markov cache ainsi que les reseaux de neurones profond.\n",
      "User : bonjour\n",
      "Bot  : Bonjour, comment puis-je vous aider ?\n",
      "User : caca\n",
      "Bot  : Il y a plusieurs tp sur sur et et r : introduction a sas, programmation avancee avec sas, les tests statistiques.\n",
      "User : je ne vois pas le rapport\n",
      "Bot  : C'est dommage, vous en aurez besoin si vous souhaitez faire ce master.\n",
      "User : j'aurai besoin du rapport ?\n",
      "Bot  : Le master data science est un double cursus info-math de haut niveau qui permet aux etudiants d’acquerir des competences fortes en statistique et en informatique tres demandees actuellement par les entreprises.\n",
      "User : ha super\n",
      "Bot  : Merci, j'espere avoir correctement repondu a vos questions.\n",
      "User : oui maintenant tais toi\n",
      "Bot  : Il y a plusieurs tp, sur les reseaux bayesien, les modeles de markov cache ainsi que les reseaux de neurones profond.\n",
      "User : haaa mais tu m'enmerde avec tes réseaux de merde !\n",
      "Bot  : Il y a plusieurs tp sur sas et r : introduction a sas, programmation avancee avec sas, les tests statistiques.\n",
      "User : ta gueule\n",
      "Bot  : Il y a plusieurs tp sur sur et et r : introduction a sas, programmation avancee avec sas, les tests statistiques.\n",
      "User : what\n",
      "Bot  : Il y a plusieurs tp sur sur et et r : introduction a sas, programmation avancee avec sas, les tests statistiques.\n",
      "User : quit\n"
     ]
    }
   ],
   "source": [
    "InteractiveEvaluation(chatbot)"
   ]
  },
  {
   "cell_type": "code",
   "execution_count": 42,
   "metadata": {},
   "outputs": [
    {
     "data": {
      "image/png": "[encoded data removed]",
      "text/plain": [
       "<Figure size 432x288 with 1 Axes>"
      ]
     },
     "metadata": {
      "needs_background": "light"
     },
     "output_type": "display_data"
    },
    {
     "name": "stdout",
     "output_type": "stream",
     "text": [
      "\u001b[48;2;255;229;217mquelles\u001b[0m \u001b[48;2;255;229;217msont\u001b[0m \u001b[48;2;256;245;240mles\u001b[0m \u001b[48;2;256;245;240mue\u001b[0m \u001b[48;2;256;245;240mde\u001b[0m \u001b[48;2;256;245;240mmathematiques\u001b[0m \u001b[48;2;255;229;217m?\u001b[0m  - le\n",
      "\u001b[48;2;256;245;240mquelles\u001b[0m \u001b[48;2;256;245;240msont\u001b[0m \u001b[48;2;256;245;240mles\u001b[0m \u001b[48;2;255;229;217mue\u001b[0m \u001b[48;2;255;229;217mde\u001b[0m \u001b[48;2;253;202;181mmathematiques\u001b[0m \u001b[48;2;256;245;240m?\u001b[0m  - master\n",
      "\u001b[48;2;256;245;240mquelles\u001b[0m \u001b[48;2;256;245;240msont\u001b[0m \u001b[48;2;255;229;217mles\u001b[0m \u001b[48;2;255;229;217mue\u001b[0m \u001b[48;2;255;229;217mde\u001b[0m \u001b[48;2;253;202;181mmathematiques\u001b[0m \u001b[48;2;256;245;240m?\u001b[0m  - comprend\n",
      "\u001b[48;2;255;229;217mquelles\u001b[0m \u001b[48;2;255;229;217msont\u001b[0m \u001b[48;2;255;229;217mles\u001b[0m \u001b[48;2;255;229;217mue\u001b[0m \u001b[48;2;255;229;217mde\u001b[0m \u001b[48;2;255;229;217mmathematiques\u001b[0m \u001b[48;2;256;245;240m?\u001b[0m  - les\n",
      "\u001b[48;2;256;245;240mquelles\u001b[0m \u001b[48;2;256;245;240msont\u001b[0m \u001b[48;2;255;229;217mles\u001b[0m \u001b[48;2;255;229;217mue\u001b[0m \u001b[48;2;253;202;181mde\u001b[0m \u001b[48;2;256;245;240mmathematiques\u001b[0m \u001b[48;2;256;245;240m?\u001b[0m  - cours\n",
      "\u001b[48;2;256;245;240mquelles\u001b[0m \u001b[48;2;256;245;240msont\u001b[0m \u001b[48;2;256;245;240mles\u001b[0m \u001b[48;2;253;202;181mue\u001b[0m \u001b[48;2;253;202;181mde\u001b[0m \u001b[48;2;255;229;217mmathematiques\u001b[0m \u001b[48;2;256;245;240m?\u001b[0m  - de\n",
      "\u001b[48;2;256;245;240mquelles\u001b[0m \u001b[48;2;256;245;240msont\u001b[0m \u001b[48;2;255;229;217mles\u001b[0m \u001b[48;2;255;229;217mue\u001b[0m \u001b[48;2;255;229;217mde\u001b[0m \u001b[48;2;253;202;181mmathematiques\u001b[0m \u001b[48;2;256;245;240m?\u001b[0m  - mathematiques\n",
      "\u001b[48;2;256;245;240mquelles\u001b[0m \u001b[48;2;256;245;240msont\u001b[0m \u001b[48;2;255;229;217mles\u001b[0m \u001b[48;2;253;202;181mue\u001b[0m \u001b[48;2;253;202;181mde\u001b[0m \u001b[48;2;256;245;240mmathematiques\u001b[0m \u001b[48;2;256;245;240m?\u001b[0m  - suivant\n",
      "\u001b[48;2;256;245;240mquelles\u001b[0m \u001b[48;2;255;229;217msont\u001b[0m \u001b[48;2;255;229;217mles\u001b[0m \u001b[48;2;255;229;217mue\u001b[0m \u001b[48;2;255;229;217mde\u001b[0m \u001b[48;2;255;229;217mmathematiques\u001b[0m \u001b[48;2;256;245;240m?\u001b[0m  - :\n",
      "\u001b[48;2;256;245;240mquelles\u001b[0m \u001b[48;2;256;245;240msont\u001b[0m \u001b[48;2;255;229;217mles\u001b[0m \u001b[48;2;255;229;217mue\u001b[0m \u001b[48;2;253;202;181mde\u001b[0m \u001b[48;2;255;229;217mmathematiques\u001b[0m \u001b[48;2;256;245;240m?\u001b[0m  - listcoursmath\n",
      "\n"
     ]
    },
    {
     "data": {
      "text/plain": [
       "'le master comprend les cours de mathematiques suivant : listcoursmath'"
      ]
     },
     "execution_count": 42,
     "metadata": {},
     "output_type": "execute_result"
    }
   ],
   "source": [
    "chatbot.eval()\n",
    "chatbot('quelles sont les ue de mathématiques ?', attention_method = AttentionViewer)\n",
    "chatbot('quelles sont les ue de mathématiques ?', attention_method = AttentionViewerOnWords)"
   ]
  },
  {
   "cell_type": "code",
   "execution_count": 45,
   "metadata": {},
   "outputs": [
    {
     "data": {
      "image/png": "[encoded data removed]",
      "text/plain": [
       "<Figure size 432x288 with 1 Axes>"
      ]
     },
     "metadata": {
      "needs_background": "light"
     },
     "output_type": "display_data"
    },
    {
     "name": "stdout",
     "output_type": "stream",
     "text": [
      "\u001b[48;2;255;229;217mje\u001b[0m \u001b[48;2;255;229;217mte\u001b[0m \u001b[48;2;256;245;240mpropose\u001b[0m \u001b[48;2;255;229;217mde\u001b[0m \u001b[48;2;255;229;217mte\u001b[0m \u001b[48;2;256;245;240mtaire\u001b[0m  - je\n",
      "\u001b[48;2;253;202;181mje\u001b[0m \u001b[48;2;255;229;217mte\u001b[0m \u001b[48;2;253;202;181mpropose\u001b[0m \u001b[48;2;256;245;240mde\u001b[0m \u001b[48;2;256;245;240mte\u001b[0m \u001b[48;2;256;245;240mtaire\u001b[0m  - n\n",
      "\u001b[48;2;255;229;217mje\u001b[0m \u001b[48;2;255;229;217mte\u001b[0m \u001b[48;2;256;245;240mpropose\u001b[0m \u001b[48;2;255;229;217mde\u001b[0m \u001b[48;2;255;229;217mte\u001b[0m \u001b[48;2;256;245;240mtaire\u001b[0m  - '\n",
      "\u001b[48;2;255;229;217mje\u001b[0m \u001b[48;2;253;202;181mte\u001b[0m \u001b[48;2;253;202;181mpropose\u001b[0m \u001b[48;2;256;245;240mde\u001b[0m \u001b[48;2;256;245;240mte\u001b[0m \u001b[48;2;256;245;240mtaire\u001b[0m  - ai\n",
      "\u001b[48;2;253;202;181mje\u001b[0m \u001b[48;2;255;229;217mte\u001b[0m \u001b[48;2;256;245;240mpropose\u001b[0m \u001b[48;2;255;229;217mde\u001b[0m \u001b[48;2;255;229;217mte\u001b[0m \u001b[48;2;256;245;240mtaire\u001b[0m  - pas\n",
      "\u001b[48;2;253;202;181mje\u001b[0m \u001b[48;2;255;229;217mte\u001b[0m \u001b[48;2;255;229;217mpropose\u001b[0m \u001b[48;2;256;245;240mde\u001b[0m \u001b[48;2;255;229;217mte\u001b[0m \u001b[48;2;256;245;240mtaire\u001b[0m  - la\n",
      "\u001b[48;2;255;229;217mje\u001b[0m \u001b[48;2;255;229;217mte\u001b[0m \u001b[48;2;255;229;217mpropose\u001b[0m \u001b[48;2;256;245;240mde\u001b[0m \u001b[48;2;255;229;217mte\u001b[0m \u001b[48;2;256;245;240mtaire\u001b[0m  - reponse\n",
      "\u001b[48;2;255;229;217mje\u001b[0m \u001b[48;2;256;245;240mte\u001b[0m \u001b[48;2;256;245;240mpropose\u001b[0m \u001b[48;2;255;229;217mde\u001b[0m \u001b[48;2;255;229;217mte\u001b[0m \u001b[48;2;253;202;181mtaire\u001b[0m  - a\n",
      "\u001b[48;2;255;229;217mje\u001b[0m \u001b[48;2;255;229;217mte\u001b[0m \u001b[48;2;253;202;181mpropose\u001b[0m \u001b[48;2;255;229;217mde\u001b[0m \u001b[48;2;256;245;240mte\u001b[0m \u001b[48;2;256;245;240mtaire\u001b[0m  - cette\n",
      "\u001b[48;2;256;245;240mje\u001b[0m \u001b[48;2;256;245;240mte\u001b[0m \u001b[48;2;256;245;240mpropose\u001b[0m \u001b[48;2;255;229;217mde\u001b[0m \u001b[48;2;253;202;181mte\u001b[0m \u001b[48;2;255;229;217mtaire\u001b[0m  - question\n",
      "\u001b[48;2;255;229;217mje\u001b[0m \u001b[48;2;256;245;240mte\u001b[0m \u001b[48;2;255;229;217mpropose\u001b[0m \u001b[48;2;255;229;217mde\u001b[0m \u001b[48;2;255;229;217mte\u001b[0m \u001b[48;2;255;229;217mtaire\u001b[0m  - .\n",
      "\n"
     ]
    },
    {
     "data": {
      "text/plain": [
       "\"je n ' ai pas la reponse a cette question .\""
      ]
     },
     "execution_count": 45,
     "metadata": {},
     "output_type": "execute_result"
    }
   ],
   "source": [
    "chatbot.eval()\n",
    "chatbot('je te propose de te taire', attention_method = AttentionViewer)\n",
    "chatbot('je te propose de te taire', attention_method = AttentionViewerOnWords)"
   ]
  },
  {
   "cell_type": "code",
   "execution_count": 22,
   "metadata": {
    "scrolled": true
   },
   "outputs": [
    {
     "data": {
      "image/png": "[encoded data removed]",
      "text/plain": [
       "<Figure size 432x288 with 1 Axes>"
      ]
     },
     "metadata": {
      "needs_background": "light"
     },
     "output_type": "display_data"
    },
    {
     "name": "stdout",
     "output_type": "stream",
     "text": [
      "\u001b[48;2;256;245;240mje\u001b[0m \u001b[48;2;256;245;240mte\u001b[0m \u001b[48;2;256;245;240mpropose\u001b[0m \u001b[48;2;255;229;217mde\u001b[0m \u001b[48;2;253;202;181mte\u001b[0m \u001b[48;2;253;202;181mtaire\u001b[0m  - il\n",
      "\u001b[48;2;256;245;240mje\u001b[0m \u001b[48;2;256;245;240mte\u001b[0m \u001b[48;2;256;245;240mpropose\u001b[0m \u001b[48;2;253;202;181mde\u001b[0m \u001b[48;2;253;202;181mte\u001b[0m \u001b[48;2;253;202;181mtaire\u001b[0m  - y\n",
      "\u001b[48;2;256;245;240mje\u001b[0m \u001b[48;2;255;229;217mte\u001b[0m \u001b[48;2;255;229;217mpropose\u001b[0m \u001b[48;2;253;202;181mde\u001b[0m \u001b[48;2;255;229;217mte\u001b[0m \u001b[48;2;255;229;217mtaire\u001b[0m  - a\n",
      "\u001b[48;2;256;245;240mje\u001b[0m \u001b[48;2;256;245;240mte\u001b[0m \u001b[48;2;256;245;240mpropose\u001b[0m \u001b[48;2;253;202;181mde\u001b[0m \u001b[48;2;253;202;181mte\u001b[0m \u001b[48;2;255;229;217mtaire\u001b[0m  - plusieurs\n",
      "\u001b[48;2;256;245;240mje\u001b[0m \u001b[48;2;256;245;240mte\u001b[0m \u001b[48;2;256;245;240mpropose\u001b[0m \u001b[48;2;253;202;181mde\u001b[0m \u001b[48;2;255;229;217mte\u001b[0m \u001b[48;2;255;229;217mtaire\u001b[0m  - tp\n",
      "\u001b[48;2;256;245;240mje\u001b[0m \u001b[48;2;256;245;240mte\u001b[0m \u001b[48;2;256;245;240mpropose\u001b[0m \u001b[48;2;253;202;181mde\u001b[0m \u001b[48;2;255;229;217mte\u001b[0m \u001b[48;2;255;229;217mtaire\u001b[0m  - ,\n",
      "\u001b[48;2;256;245;240mje\u001b[0m \u001b[48;2;256;245;240mte\u001b[0m \u001b[48;2;255;229;217mpropose\u001b[0m \u001b[48;2;253;202;181mde\u001b[0m \u001b[48;2;255;229;217mte\u001b[0m \u001b[48;2;255;229;217mtaire\u001b[0m  - sur\n",
      "\u001b[48;2;256;245;240mje\u001b[0m \u001b[48;2;256;245;240mte\u001b[0m \u001b[48;2;256;245;240mpropose\u001b[0m \u001b[48;2;253;202;181mde\u001b[0m \u001b[48;2;255;229;217mte\u001b[0m \u001b[48;2;255;229;217mtaire\u001b[0m  - les\n",
      "\u001b[48;2;256;245;240mje\u001b[0m \u001b[48;2;256;245;240mte\u001b[0m \u001b[48;2;256;245;240mpropose\u001b[0m \u001b[48;2;255;229;217mde\u001b[0m \u001b[48;2;252;171;143mte\u001b[0m \u001b[48;2;253;202;181mtaire\u001b[0m  - reseaux\n",
      "\u001b[48;2;256;245;240mje\u001b[0m \u001b[48;2;255;229;217mte\u001b[0m \u001b[48;2;255;229;217mpropose\u001b[0m \u001b[48;2;253;202;181mde\u001b[0m \u001b[48;2;255;229;217mte\u001b[0m \u001b[48;2;255;229;217mtaire\u001b[0m  - bayesien\n",
      "\u001b[48;2;256;245;240mje\u001b[0m \u001b[48;2;255;229;217mte\u001b[0m \u001b[48;2;255;229;217mpropose\u001b[0m \u001b[48;2;253;202;181mde\u001b[0m \u001b[48;2;255;229;217mte\u001b[0m \u001b[48;2;255;229;217mtaire\u001b[0m  - ,\n",
      "\u001b[48;2;256;245;240mje\u001b[0m \u001b[48;2;256;245;240mte\u001b[0m \u001b[48;2;256;245;240mpropose\u001b[0m \u001b[48;2;253;202;181mde\u001b[0m \u001b[48;2;255;229;217mte\u001b[0m \u001b[48;2;255;229;217mtaire\u001b[0m  - les\n",
      "\u001b[48;2;256;245;240mje\u001b[0m \u001b[48;2;255;229;217mte\u001b[0m \u001b[48;2;255;229;217mpropose\u001b[0m \u001b[48;2;255;229;217mde\u001b[0m \u001b[48;2;255;229;217mte\u001b[0m \u001b[48;2;255;229;217mtaire\u001b[0m  - modeles\n",
      "\u001b[48;2;255;229;217mje\u001b[0m \u001b[48;2;255;229;217mte\u001b[0m \u001b[48;2;255;229;217mpropose\u001b[0m \u001b[48;2;255;229;217mde\u001b[0m \u001b[48;2;256;245;240mte\u001b[0m \u001b[48;2;255;229;217mtaire\u001b[0m  - de\n",
      "\u001b[48;2;256;245;240mje\u001b[0m \u001b[48;2;255;229;217mte\u001b[0m \u001b[48;2;255;229;217mpropose\u001b[0m \u001b[48;2;255;229;217mde\u001b[0m \u001b[48;2;255;229;217mte\u001b[0m \u001b[48;2;253;202;181mtaire\u001b[0m  - markov\n",
      "\u001b[48;2;256;245;240mje\u001b[0m \u001b[48;2;255;229;217mte\u001b[0m \u001b[48;2;255;229;217mpropose\u001b[0m \u001b[48;2;255;229;217mde\u001b[0m \u001b[48;2;255;229;217mte\u001b[0m \u001b[48;2;255;229;217mtaire\u001b[0m  - cache\n",
      "\u001b[48;2;255;229;217mje\u001b[0m \u001b[48;2;255;229;217mte\u001b[0m \u001b[48;2;255;229;217mpropose\u001b[0m \u001b[48;2;255;229;217mde\u001b[0m \u001b[48;2;256;245;240mte\u001b[0m \u001b[48;2;255;229;217mtaire\u001b[0m  - ainsi\n",
      "\u001b[48;2;255;229;217mje\u001b[0m \u001b[48;2;255;229;217mte\u001b[0m \u001b[48;2;255;229;217mpropose\u001b[0m \u001b[48;2;255;229;217mde\u001b[0m \u001b[48;2;255;229;217mte\u001b[0m \u001b[48;2;255;229;217mtaire\u001b[0m  - que\n",
      "\u001b[48;2;256;245;240mje\u001b[0m \u001b[48;2;255;229;217mte\u001b[0m \u001b[48;2;255;229;217mpropose\u001b[0m \u001b[48;2;253;202;181mde\u001b[0m \u001b[48;2;255;229;217mte\u001b[0m \u001b[48;2;255;229;217mtaire\u001b[0m  - les\n",
      "\u001b[48;2;256;245;240mje\u001b[0m \u001b[48;2;256;245;240mte\u001b[0m \u001b[48;2;256;245;240mpropose\u001b[0m \u001b[48;2;255;229;217mde\u001b[0m \u001b[48;2;253;202;181mte\u001b[0m \u001b[48;2;253;202;181mtaire\u001b[0m  - reseaux\n",
      "\u001b[48;2;256;245;240mje\u001b[0m \u001b[48;2;255;229;217mte\u001b[0m \u001b[48;2;255;229;217mpropose\u001b[0m \u001b[48;2;255;229;217mde\u001b[0m \u001b[48;2;255;229;217mte\u001b[0m \u001b[48;2;255;229;217mtaire\u001b[0m  - de\n",
      "\u001b[48;2;256;245;240mje\u001b[0m \u001b[48;2;255;229;217mte\u001b[0m \u001b[48;2;255;229;217mpropose\u001b[0m \u001b[48;2;255;229;217mde\u001b[0m \u001b[48;2;255;229;217mte\u001b[0m \u001b[48;2;253;202;181mtaire\u001b[0m  - neurones\n",
      "\u001b[48;2;256;245;240mje\u001b[0m \u001b[48;2;255;229;217mte\u001b[0m \u001b[48;2;255;229;217mpropose\u001b[0m \u001b[48;2;255;229;217mde\u001b[0m \u001b[48;2;255;229;217mte\u001b[0m \u001b[48;2;253;202;181mtaire\u001b[0m  - profond\n",
      "\u001b[48;2;255;229;217mje\u001b[0m \u001b[48;2;255;229;217mte\u001b[0m \u001b[48;2;255;229;217mpropose\u001b[0m \u001b[48;2;255;229;217mde\u001b[0m \u001b[48;2;255;229;217mte\u001b[0m \u001b[48;2;255;229;217mtaire\u001b[0m  - .\n",
      "\n"
     ]
    },
    {
     "data": {
      "text/plain": [
       "'il y a plusieurs tp , sur les reseaux bayesien , les modeles de markov cache ainsi que les reseaux de neurones profond .'"
      ]
     },
     "execution_count": 22,
     "metadata": {},
     "output_type": "execute_result"
    }
   ],
   "source": [
    "chatbot.eval()\n",
    "chatbot('je te propose de te taire', attention_method = AttentionViewer)\n",
    "chatbot('je te propose de te taire', attention_method = AttentionViewerOnWords)"
   ]
  },
  {
   "cell_type": "code",
   "execution_count": 21,
   "metadata": {},
   "outputs": [
    {
     "data": {
      "image/png": "[encoded data removed]",
      "text/plain": [
       "<Figure size 432x288 with 1 Axes>"
      ]
     },
     "metadata": {
      "needs_background": "light"
     },
     "output_type": "display_data"
    },
    {
     "name": "stdout",
     "output_type": "stream",
     "text": [
      "\u001b[48;2;256;245;240mquelles\u001b[0m \u001b[48;2;256;245;240msont\u001b[0m \u001b[48;2;256;245;240mles\u001b[0m \u001b[48;2;256;245;240mue\u001b[0m \u001b[48;2;255;229;217mde\u001b[0m \u001b[48;2;255;229;217mmathematiques\u001b[0m \u001b[48;2;255;229;217m?\u001b[0m  - le\n",
      "\u001b[48;2;256;245;240mquelles\u001b[0m \u001b[48;2;256;245;240msont\u001b[0m \u001b[48;2;256;245;240mles\u001b[0m \u001b[48;2;256;245;240mue\u001b[0m \u001b[48;2;255;229;217mde\u001b[0m \u001b[48;2;253;202;181mmathematiques\u001b[0m \u001b[48;2;256;245;240m?\u001b[0m  - master\n",
      "\u001b[48;2;256;245;240mquelles\u001b[0m \u001b[48;2;256;245;240msont\u001b[0m \u001b[48;2;256;245;240mles\u001b[0m \u001b[48;2;255;229;217mue\u001b[0m \u001b[48;2;255;229;217mde\u001b[0m \u001b[48;2;255;229;217mmathematiques\u001b[0m \u001b[48;2;253;202;181m?\u001b[0m  - comprend\n",
      "\u001b[48;2;256;245;240mquelles\u001b[0m \u001b[48;2;256;245;240msont\u001b[0m \u001b[48;2;256;245;240mles\u001b[0m \u001b[48;2;255;229;217mue\u001b[0m \u001b[48;2;255;229;217mde\u001b[0m \u001b[48;2;255;229;217mmathematiques\u001b[0m \u001b[48;2;253;202;181m?\u001b[0m  - les\n",
      "\u001b[48;2;256;245;240mquelles\u001b[0m \u001b[48;2;256;245;240msont\u001b[0m \u001b[48;2;256;245;240mles\u001b[0m \u001b[48;2;256;245;240mue\u001b[0m \u001b[48;2;253;202;181mde\u001b[0m \u001b[48;2;253;202;181mmathematiques\u001b[0m \u001b[48;2;255;229;217m?\u001b[0m  - cours\n",
      "\u001b[48;2;256;245;240mquelles\u001b[0m \u001b[48;2;256;245;240msont\u001b[0m \u001b[48;2;256;245;240mles\u001b[0m \u001b[48;2;255;229;217mue\u001b[0m \u001b[48;2;255;229;217mde\u001b[0m \u001b[48;2;256;245;240mmathematiques\u001b[0m \u001b[48;2;253;202;181m?\u001b[0m  - de\n",
      "\u001b[48;2;256;245;240mquelles\u001b[0m \u001b[48;2;256;245;240msont\u001b[0m \u001b[48;2;256;245;240mles\u001b[0m \u001b[48;2;255;229;217mue\u001b[0m \u001b[48;2;253;202;181mde\u001b[0m \u001b[48;2;255;229;217mmathematiques\u001b[0m \u001b[48;2;255;229;217m?\u001b[0m  - mathematiques\n",
      "\u001b[48;2;256;245;240mquelles\u001b[0m \u001b[48;2;256;245;240msont\u001b[0m \u001b[48;2;256;245;240mles\u001b[0m \u001b[48;2;255;229;217mue\u001b[0m \u001b[48;2;253;202;181mde\u001b[0m \u001b[48;2;255;229;217mmathematiques\u001b[0m \u001b[48;2;255;229;217m?\u001b[0m  - suivant\n",
      "\u001b[48;2;256;245;240mquelles\u001b[0m \u001b[48;2;256;245;240msont\u001b[0m \u001b[48;2;256;245;240mles\u001b[0m \u001b[48;2;256;245;240mue\u001b[0m \u001b[48;2;255;229;217mde\u001b[0m \u001b[48;2;255;229;217mmathematiques\u001b[0m \u001b[48;2;255;229;217m?\u001b[0m  - :\n",
      "\u001b[48;2;256;245;240mquelles\u001b[0m \u001b[48;2;256;245;240msont\u001b[0m \u001b[48;2;256;245;240mles\u001b[0m \u001b[48;2;256;245;240mue\u001b[0m \u001b[48;2;252;171;143mde\u001b[0m \u001b[48;2;255;229;217mmathematiques\u001b[0m \u001b[48;2;256;245;240m?\u001b[0m  - listcoursmath\n",
      "\n"
     ]
    },
    {
     "data": {
      "text/plain": [
       "'le master comprend les cours de mathematiques suivant : listcoursmath'"
      ]
     },
     "execution_count": 21,
     "metadata": {},
     "output_type": "execute_result"
    }
   ],
   "source": [
    "chatbot.eval()\n",
    "chatbot('quelles sont les ue de mathématiques ?', attention_method = AttentionViewer)\n",
    "chatbot('quelles sont les ue de mathématiques ?', attention_method = AttentionViewerOnWords)"
   ]
  }
 ],
 "metadata": {
  "kernelspec": {
   "display_name": "Python 3",
   "language": "python",
   "name": "python3"
  },
  "language_info": {
   "codemirror_mode": {
    "name": "ipython",
    "version": 3
   },
   "file_extension": ".py",
   "mimetype": "text/x-python",
   "name": "python",
   "nbconvert_exporter": "python",
   "pygments_lexer": "ipython3",
   "version": "3.6.5"
  }
 },
 "nbformat": 4,
 "nbformat_minor": 2
}
