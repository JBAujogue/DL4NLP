{
 "cells": [
  {
   "cell_type": "markdown",
   "metadata": {},
   "source": [
    "<div style=\"font-variant: small-caps; \n",
    "      font-weight: normal; \n",
    "      font-size: 30px; \n",
    "      text-align: center; \n",
    "      padding: 15px; \n",
    "      margin: 10px;\">\n",
    "  Deep Learning for NLP\n",
    "  </div> \n",
    "  \n",
    "<div style=\"font-variant: small-caps; \n",
    "      font-weight: normal; \n",
    "      font-size: 30px; \n",
    "      text-align: center; \n",
    "      padding: 15px; \n",
    "      margin: 10px;\">\n",
    "  Part II - 2 <br><br><br>\n",
    "  Machine Translation\n",
    "  </div> \n",
    "\n",
    "  <div style=\"font-variant: small-caps; \n",
    "      font-weight: normal; \n",
    "      font-size: 20px; \n",
    "      text-align: center; \n",
    "      padding: 15px;\">\n",
    "  </div> \n",
    "\n",
    "  <div style=\" float:right; \n",
    "      font-size: 12px; \n",
    "      line-height: 12px; \n",
    "  padding: 10px 15px 8px;\">\n",
    "  Jean-baptiste AUJOGUE\n",
    "  </div> "
   ]
  },
  {
   "cell_type": "markdown",
   "metadata": {},
   "source": [
    "### Part I\n",
    "\n",
    "1. Word Embedding\n",
    "\n",
    "2. Sentence Classification\n",
    "\n",
    "3. Language Modeling\n",
    "\n",
    "4. Sequence Labelling\n",
    "\n",
    "\n",
    "### Part II\n",
    "\n",
    "1. Text Classification\n",
    "\n",
    "2. <font color=red>**Machine Translation**</font>\n",
    "\n",
    "\n",
    "### Part III\n",
    "\n",
    "8. Abstractive Summarization\n",
    "\n",
    "9. Question Answering\n",
    "\n",
    "10. Chatbot\n",
    "\n",
    "\n",
    "</div>\n",
    "\n",
    "***"
   ]
  },
  {
   "cell_type": "markdown",
   "metadata": {},
   "source": [
    "<a id=\"plan\"></a>"
   ]
  },
  {
   "cell_type": "markdown",
   "metadata": {},
   "source": [
    "| | | | |\n",
    "|------|------|------|------|\n",
    "| **Content** | [Corpus](#corpus) | [Modules](#modules) | [Model](#model) | \n",
    "\n"
   ]
  },
  {
   "cell_type": "markdown",
   "metadata": {},
   "source": [
    "# Packages"
   ]
  },
  {
   "cell_type": "code",
   "execution_count": 1,
   "metadata": {},
   "outputs": [
    {
     "name": "stderr",
     "output_type": "stream",
     "text": [
      "C:\\ProgramData\\Anaconda3\\lib\\site-packages\\gensim\\utils.py:1197: UserWarning: detected Windows; aliasing chunkize to chunkize_serial\n",
      "  warnings.warn(\"detected Windows; aliasing chunkize to chunkize_serial\")\n"
     ]
    },
    {
     "name": "stdout",
     "output_type": "stream",
     "text": [
      "python version : 3.6.5 |Anaconda, Inc.| (default, Mar 29 2018, 13:32:41) [MSC v.1900 64 bit (AMD64)]\n",
      "pytorch version : 1.3.1\n",
      "DL device : cuda\n"
     ]
    }
   ],
   "source": [
    "import sys\n",
    "import warnings\n",
    "from __future__ import unicode_literals, print_function, division\n",
    "import os\n",
    "from io import open\n",
    "import unicodedata\n",
    "import string\n",
    "import time\n",
    "import math\n",
    "import re\n",
    "import random\n",
    "import pickle\n",
    "import copy\n",
    "from unidecode import unidecode\n",
    "import itertools\n",
    "import matplotlib\n",
    "import matplotlib.pyplot as plt\n",
    "\n",
    "\n",
    "# for special math operation\n",
    "from sklearn.preprocessing import normalize\n",
    "\n",
    "\n",
    "# for manipulating data \n",
    "import numpy as np\n",
    "#np.set_printoptions(threshold=np.nan)\n",
    "import pandas as pd\n",
    "import bcolz # see https://bcolz.readthedocs.io/en/latest/intro.html\n",
    "import pickle\n",
    "\n",
    "\n",
    "# for text processing\n",
    "import gensim\n",
    "from gensim.models import KeyedVectors\n",
    "#import spacy\n",
    "import nltk\n",
    "#nltk.download()\n",
    "from nltk.tokenize import sent_tokenize, word_tokenize, RegexpTokenizer\n",
    "from nltk.stem.porter import PorterStemmer\n",
    "\n",
    "\n",
    "# for deep learning\n",
    "import torch\n",
    "import torch.nn as nn\n",
    "from torch.autograd import Variable\n",
    "from torch import optim\n",
    "import torch.nn.functional as F\n",
    "from torch.utils.data import DataLoader\n",
    "device = torch.device(\"cuda\" if torch.cuda.is_available() else \"cpu\")\n",
    "#device = torch.device(\"cpu\")\n",
    "\n",
    "warnings.filterwarnings(\"ignore\")\n",
    "print('python version :', sys.version)\n",
    "print('pytorch version :', torch.__version__)\n",
    "print('DL device :', device)"
   ]
  },
  {
   "cell_type": "code",
   "execution_count": 2,
   "metadata": {},
   "outputs": [],
   "source": [
    "path_to_NLP = 'C:\\\\Users\\\\Jb\\\\Desktop\\\\NLP'"
   ]
  },
  {
   "cell_type": "code",
   "execution_count": 3,
   "metadata": {},
   "outputs": [],
   "source": [
    "sys.path.append(path_to_NLP + '\\\\libDL4NLP')"
   ]
  },
  {
   "cell_type": "markdown",
   "metadata": {},
   "source": [
    "<a id=\"corpus\"></a>"
   ]
  },
  {
   "cell_type": "markdown",
   "metadata": {},
   "source": [
    "# Corpus\n",
    "\n",
    "[Back to top](#plan)\n",
    "\n",
    "Le texte est importé et mis sous forme de liste, où chaque élément représente un texte présenté sous forme d'une liste de mots.<br> Le corpus est donc une fois importé sous le forme :<br>\n",
    "\n",
    "- corpus = [text]<br>\n",
    "- text   = [word]<br>\n",
    "- word   = str<br>"
   ]
  },
  {
   "cell_type": "code",
   "execution_count": 4,
   "metadata": {},
   "outputs": [],
   "source": [
    "# --------------------------- Normalisation -------------------------------\n",
    "def normalizeString(s):\n",
    "    '''Remove rare symbols from a string'''\n",
    "    def unicodeToAscii(s):\n",
    "        \"\"\"Turn a Unicode string to plain ASCII, thanks to http://stackoverflow.com/a/518232/2809427\"\"\"\n",
    "        return ''.join(c for c in unicodedata.normalize('NFD', s) if unicodedata.category(c) != 'Mn')\n",
    " \n",
    "    s = unicodeToAscii(s.lower().strip())\n",
    "    #s = re.sub(r\"[^a-zA-Z0-9?&\\%\\-\\_]+\", r\" \", s) \n",
    "    s = re.sub(\"\\(\", r\" ( \", s)\n",
    "    s = re.sub(\"\\)\", r\" ) \", s)\n",
    "    s = re.sub(r\"\\.\", r\" . \", s)\n",
    "    s = re.sub(r\",\", r\" , \", s)\n",
    "    s = re.sub(r\"!\", r\" ! \", s)\n",
    "    s = re.sub(r\":\", r\" : \", s)\n",
    "    s = re.sub(r\"-\", r\" - \", s)\n",
    "    s = re.sub(r\"'\", r\" ' \", s)\n",
    "    s = re.sub(r\";\", r\" ; \", s)\n",
    "    s = re.sub(r' +', r' ', s).strip()\n",
    "    return s \n",
    "\n",
    "\n",
    "\n",
    "#--------------------- import des dialogues --------------------\n",
    "def importDialogues(path, limit = None):\n",
    "    '''Import a textfile containing dialogues and returns a list, each element \n",
    "       corresponding to a dialogue and also being under the form of a list, with \n",
    "       each element being a list of two elements : an element giving a user \n",
    "       utterance and another element giving the bot response. Both elements are \n",
    "       normalized strings.\n",
    "       Ex. The dialogue :\n",
    "       \n",
    "               hi    hello what can i help you with today\n",
    "               can you book a table    i m on it\n",
    "               \n",
    "       now becomes :\n",
    "       \n",
    "              [['hi', 'hello what can i help you with today'], \n",
    "               ['can you book a table', 'i m on it']]\n",
    "               \n",
    "       Lines corresponding to user utterance with no bot response are discarted.\n",
    "    '''\n",
    "    def cleanS(s):\n",
    "        cleans = normalizeString(s)\n",
    "        cleans = cleans.replace('?', ' ? ').strip()\n",
    "        return cleans\n",
    "    \n",
    "    dialogues = []\n",
    "    dialogues_import = open(path, encoding='utf-8').read().strip().split('\\n\\n')\n",
    "    for i, d in enumerate(dialogues_import):\n",
    "        dialogue = []\n",
    "        lines = d.split('\\n')\n",
    "        for l in lines:\n",
    "            if len(l.split('\\t')) == 2 :\n",
    "                pair = [cleanS(s) for s in l.split('\\t')]\n",
    "                dialogue.append(pair)\n",
    "            elif len(l.split('\\t')) == 3 :\n",
    "                pair = [cleanS(s) for s in l.split('\\t')[:2]]\n",
    "                dialogue.append(pair)\n",
    "        dialogues.append(dialogue)\n",
    "        if limit is not None and i == limit -1 : break\n",
    "    return dialogues\n",
    "\n",
    "\n",
    "def getUniqueQAs(dialogues) :\n",
    "    uniq = []\n",
    "    for qa in dialogues :\n",
    "        if qa not in uniq : uniq.append(qa)\n",
    "    return uniq\n",
    "\n",
    "\n",
    "\n",
    "#------------------ Dictionnaire des mots variables -----------------------------\n",
    "def motVar(file):\n",
    "    '''Applies to the Master's program dataset.\n",
    "       Import the collection of pairs token-content for a set of variable words.\n",
    "    '''\n",
    "    lines = open(file, encoding='utf-8').read().strip().split('\\n')\n",
    "    motsVar = {}\n",
    "    for l in lines :\n",
    "        cle, valeur = l.split('\\t')\n",
    "        motsVar[cle.lower()] = valeur\n",
    "    return motsVar"
   ]
  },
  {
   "cell_type": "code",
   "execution_count": 5,
   "metadata": {},
   "outputs": [],
   "source": [
    "motsVar    = motVar(path_to_NLP + '\\\\data\\\\M2DS\\\\M2DS_2019_07\\\\chatbot-M2-DS-Variables.txt')\n",
    "dialogues  = importDialogues(path_to_NLP + '\\\\data\\\\M2DS\\\\M2DS_2019_10\\\\ChatbotDS_P_Train.tsv')\n",
    "dialogues_tst = importDialogues(path_to_NLP + '\\\\data\\\\M2DS\\\\M2DS_2019_10\\\\ChatbotDS_P_Test.tsv')"
   ]
  },
  {
   "cell_type": "code",
   "execution_count": 6,
   "metadata": {},
   "outputs": [
    {
     "name": "stdout",
     "output_type": "stream",
     "text": [
      "200224 20561\n"
     ]
    }
   ],
   "source": [
    "qa_trn = [qa for dialogue in dialogues for qa in dialogue] # getUniqueQAs(\n",
    "qa_tst = [qa for dialogue in dialogues_tst for qa in dialogue] # getUniqueQAs(\n",
    "\n",
    "print(len(qa_trn), len(qa_tst))"
   ]
  },
  {
   "cell_type": "code",
   "execution_count": 7,
   "metadata": {
    "scrolled": true
   },
   "outputs": [
    {
     "name": "stdout",
     "output_type": "stream",
     "text": [
      "il vaut mieux suivre quel parcours  ? \t les deux parcours sont equivalents , c ' est a vous de faire un choix .\n",
      "quand est ce que commence les cours  ? \t la rentree est le daterentree\n",
      "comment je prend contact avec la scolarite  ? \t les contacts de la scolarite sont accessibles sur : sitescolarite\n",
      "est ce que il y a des cours en anglais  ? \t plusieurs supports de cours sont en anglais\n",
      "tous les cours sont obligatoires  ? \t tous les cours sont obligatoires , il n ' existe pas d ' options .\n",
      "merci pour les renseignements \t je vous en prie\n",
      "peux tu m ' aider  ? \t je suis la pour vous renseigner sur le master 2 data science .\n",
      "le cours de data visualisation est - il en ligne  ? \t vous devriez prendre contact avec l ' enseignant de l ' ue et lui demander\n",
      "j ' ai envie de faire de la data science \t alors vous devriez songer a candidater a ce master !\n",
      "il y a des livres a lire en statistique  ? \t vous devriez prendre contact avec l ' enseignant de l ' ue et lui demander\n",
      "il y a combien de candidats  ? \t il y a plus de nbrcandidats candidats chaque annee , la selection est rude !\n",
      "combien de places sont ouvertes  ? \t souhaitez - vous suivre le parcours informatique ou mathematiques  ?\n",
      "informatique \t etes - vous un etudiant inscrit en france  ?\n",
      "non \t il y a nbreplaces_hors_france_informatique places disponibles pour les etudiants hors france en parcours informatique .\n",
      "comment je peux payer  ? \t vous pouvez payer par carte , par cheque bancaire , par virement ou en espece .\n",
      "avez - vous une maquette detaillee de ce master  ? \t les details de la formation est disponible sur la page du master parcours informatique : site_informatique\n",
      "comment ca va  ? \t je vais bien merci , en quoi puis - je vous aider  ?\n"
     ]
    }
   ],
   "source": [
    "for qa in dialogues[0] : print(qa[0], '\\t', qa[1])"
   ]
  },
  {
   "cell_type": "markdown",
   "metadata": {},
   "source": [
    "<a id=\"modules\"></a>"
   ]
  },
  {
   "cell_type": "markdown",
   "metadata": {},
   "source": [
    "# 1 Modules\n",
    "\n",
    "### 1.1 Word Embedding module\n",
    "\n",
    "[Back to top](#plan)\n",
    "\n",
    "All details on Word Embedding modules and their pre-training are found in **Part I - 1**. We consider here a FastText model trained following the Skip-Gram training objective."
   ]
  },
  {
   "cell_type": "code",
   "execution_count": 8,
   "metadata": {},
   "outputs": [],
   "source": [
    "from libDL4NLP.models.Word_Embedding import Word2Vec as myWord2Vec\n",
    "from libDL4NLP.models.Word_Embedding import Word2VecConnector\n",
    "from libDL4NLP.utils.Lang import Lang"
   ]
  },
  {
   "cell_type": "code",
   "execution_count": 9,
   "metadata": {},
   "outputs": [],
   "source": [
    "from gensim.models.fasttext import FastText\n",
    "from gensim.test.utils import datapath, get_tmpfile"
   ]
  },
  {
   "cell_type": "markdown",
   "metadata": {},
   "source": [
    "**Option 1** : Load pretrained"
   ]
  },
  {
   "cell_type": "code",
   "execution_count": 10,
   "metadata": {},
   "outputs": [],
   "source": [
    "# load\n",
    "word2vec_in  = torch.load(path_to_NLP + '\\\\saves\\\\models\\\\DL4NLP_II2_w2v_in_M2DS.pt')\n",
    "word2vec_out = torch.load(path_to_NLP + '\\\\saves\\\\models\\\\DL4NLP_II2_w2v_out_M2DS.pt')"
   ]
  },
  {
   "cell_type": "markdown",
   "metadata": {},
   "source": [
    "**Option 2** : Train new model"
   ]
  },
  {
   "cell_type": "code",
   "execution_count": 10,
   "metadata": {},
   "outputs": [],
   "source": [
    "corpus_in  = [['SOS'] + [w for w in qa[0].split(' ')] + ['EOS'] for qa in qa_trn]\n",
    "corpus_out = [['SOS'] + [w for w in qa[1].split(' ')] + ['EOS'] for qa in qa_trn]"
   ]
  },
  {
   "cell_type": "code",
   "execution_count": 53,
   "metadata": {},
   "outputs": [],
   "source": [
    "def prepareWord2vec(corpus, epochs) :\n",
    "    fastText_word2vec = FastText(size = 75, \n",
    "                                 window = 5, \n",
    "                                 min_count = 1, \n",
    "                                 negative = 20,\n",
    "                                 sg = 1)\n",
    "    fastText_word2vec.build_vocab(corpus)\n",
    "    print(len(fastText_word2vec.wv.vocab))\n",
    "    fastText_word2vec.train(sentences = corpus, \n",
    "                            epochs = epochs,\n",
    "                            total_examples = fastText_word2vec.corpus_count)\n",
    "    word2vec = Word2VecConnector(fastText_word2vec)\n",
    "    return word2vec"
   ]
  },
  {
   "cell_type": "code",
   "execution_count": 54,
   "metadata": {},
   "outputs": [
    {
     "name": "stdout",
     "output_type": "stream",
     "text": [
      "782\n",
      "896\n"
     ]
    }
   ],
   "source": [
    "word2vec_in  = prepareWord2vec(corpus_in, epochs = 20)\n",
    "word2vec_out = prepareWord2vec(corpus_out, epochs = 20)"
   ]
  },
  {
   "cell_type": "code",
   "execution_count": 55,
   "metadata": {},
   "outputs": [
    {
     "data": {
      "text/plain": [
       "[('bonjour', 0.9804752469062805),\n",
       " ('mal', 0.8117103576660156),\n",
       " ('bien', 0.6764619946479797),\n",
       " ('principal', 0.672505259513855),\n",
       " ('principalement', 0.5881912112236023),\n",
       " ('english', 0.578591525554657),\n",
       " ('handle', 0.5670300722122192),\n",
       " ('coucou', 0.5658980011940002),\n",
       " ('ok', 0.5612411499023438),\n",
       " ('speak', 0.5596966743469238)]"
      ]
     },
     "execution_count": 55,
     "metadata": {},
     "output_type": "execute_result"
    }
   ],
   "source": [
    "word2vec_in.word2vec.most_similar('bonjou')"
   ]
  },
  {
   "cell_type": "code",
   "execution_count": 56,
   "metadata": {},
   "outputs": [
    {
     "data": {
      "text/plain": [
       "[('bonjour', 0.968519926071167),\n",
       " ('accord', 0.7767391204833984),\n",
       " ('comment', 0.6192842721939087),\n",
       " ('aider', 0.5911822319030762),\n",
       " ('accordez', 0.5513397455215454),\n",
       " ('vais', 0.4964368939399719),\n",
       " ('puis', 0.4900757372379303),\n",
       " ('gardez', 0.48046615719795227),\n",
       " ('merci', 0.4791063368320465),\n",
       " ('test', 0.47400200366973877)]"
      ]
     },
     "execution_count": 56,
     "metadata": {},
     "output_type": "execute_result"
    }
   ],
   "source": [
    "word2vec_out.word2vec.most_similar('bonjou')"
   ]
  },
  {
   "cell_type": "code",
   "execution_count": 58,
   "metadata": {},
   "outputs": [],
   "source": [
    "# save\n",
    "#torch.save(word2vec_in, path_to_NLP + '\\\\saves\\\\models\\\\DL4NLP_II2_w2v_in_M2DS.pt')\n",
    "#torch.save(word2vec_out, path_to_NLP + '\\\\saves\\\\models\\\\DL4NLP_II2_w2v_out_M2DS.pt')"
   ]
  },
  {
   "cell_type": "markdown",
   "metadata": {},
   "source": [
    "### 1.2 Contextualization module\n",
    "\n",
    "[Back to top](#plan)\n",
    "\n",
    "This module consists of a bi-directional _Gated Recurrent Unit_ (GRU) that supports packed sentences :"
   ]
  },
  {
   "cell_type": "code",
   "execution_count": 11,
   "metadata": {},
   "outputs": [],
   "source": [
    "from libDL4NLP.modules import RecurrentEncoder"
   ]
  },
  {
   "cell_type": "markdown",
   "metadata": {},
   "source": [
    "### 1.3 Attention module\n",
    "\n",
    "[Back to top](#plan)\n",
    "\n",
    "<a id=\"attention\"></a>\n",
    "\n",
    "We use here a classical Attention Module :"
   ]
  },
  {
   "cell_type": "code",
   "execution_count": 12,
   "metadata": {},
   "outputs": [],
   "source": [
    "from libDL4NLP.modules import Attention"
   ]
  },
  {
   "cell_type": "markdown",
   "metadata": {},
   "source": [
    "### 1.4 Decoder module\n",
    "\n",
    "[Back to top](#plan)\n",
    "\n",
    "<a id=\"decoder\"></a>\n",
    "\n",
    "#### 1.4.1 Classical Decoder Module"
   ]
  },
  {
   "cell_type": "code",
   "execution_count": 17,
   "metadata": {},
   "outputs": [],
   "source": [
    "#from libDL4NLP.modules import Decoder"
   ]
  },
  {
   "cell_type": "code",
   "execution_count": 13,
   "metadata": {},
   "outputs": [],
   "source": [
    "class Decoder(nn.Module):\n",
    "    '''Transforms a vector into a sequence of words'''\n",
    "    def __init__(self, word2vec, hidden_dim, \n",
    "                 n_layers = 1,\n",
    "                 dropout = 0.1,\n",
    "                 bound = 25\n",
    "                ):\n",
    "        super(Decoder, self).__init__()\n",
    "        # relevant quantities\n",
    "        self.hidden_dim = hidden_dim\n",
    "        self.n_layers = n_layers\n",
    "        self.bound = bound\n",
    "        # modules\n",
    "        self.word2vec = word2vec\n",
    "        self.gru = nn.GRU(word2vec.output_dim, \n",
    "                          hidden_dim, \n",
    "                          n_layers, \n",
    "                          dropout = dropout, \n",
    "                          batch_first = True)\n",
    "        self.out = nn.Linear(hidden_dim, word2vec.lang.n_words)\n",
    "        self.act = F.log_softmax\n",
    "        self.dropout = nn.Dropout(dropout)\n",
    "        \n",
    "    def generateWord(self, hidden, embeddings, word_index):\n",
    "        # update hidden state\n",
    "        embedding = self.word2vec.embedding(word_index) # size (batch_size, 1, embedding_dim)\n",
    "        embedding = self.dropout(embedding)\n",
    "        _, hidden = self.gru(embedding, hidden)         # size (n_layers, batch_size, embedding_dim)\n",
    "        # generate next word\n",
    "        log_prob = self.out(hidden[-1])                 # size (batch_size, lang_size)\n",
    "        log_prob = self.act(log_prob, dim = 1)          # size (batch_size, lang_size)\n",
    "        return log_prob, hidden\n",
    "    \n",
    "    def forward(self, hidden, embeddings = None, device = None) :\n",
    "        answer = []\n",
    "        EOS_token  = self.word2vec.lang.getIndex('EOS')\n",
    "        word = self.word2vec.lang.getIndex('SOS')\n",
    "        word = Variable(torch.LongTensor([[word]])) # size (1)\n",
    "        hidden = hidden[-self.n_layers:]\n",
    "        for t in range(self.bound) :\n",
    "            # compute next word\n",
    "            if device is not None : word = word.to(device) # size (1)\n",
    "            log_prob, hidden = self.generateWord(hidden, embeddings, word)\n",
    "            word = log_prob.topk(1, dim = 1)[1].view(1, 1)\n",
    "            # add to output\n",
    "            if word.item() == EOS_token : break\n",
    "            else : answer.append(word.item())\n",
    "        return answer"
   ]
  },
  {
   "cell_type": "markdown",
   "metadata": {},
   "source": [
    "#### 1.4.2 Attention Decoder Module"
   ]
  },
  {
   "cell_type": "code",
   "execution_count": 19,
   "metadata": {},
   "outputs": [],
   "source": [
    "#from libDL4NLP.modules import AttnDecoder"
   ]
  },
  {
   "cell_type": "code",
   "execution_count": 14,
   "metadata": {},
   "outputs": [],
   "source": [
    "class AttnDecoder(nn.Module):\n",
    "    '''Transforms a vector into a sequence of words'''\n",
    "    def __init__(self, word2vec, attention_dim, hidden_dim,\n",
    "                 n_layers = 1,\n",
    "                 dropout = 0.1,\n",
    "                 bound = 25\n",
    "                ):\n",
    "        super(AttnDecoder, self).__init__()\n",
    "        # relevant quantities\n",
    "        self.hidden_dim = hidden_dim\n",
    "        self.n_layers = n_layers\n",
    "        self.bound = bound\n",
    "        # modules\n",
    "        self.word2vec = word2vec\n",
    "        self.gru = nn.GRU(word2vec.output_dim, \n",
    "                          hidden_dim, \n",
    "                          n_layers, \n",
    "                          dropout = dropout, \n",
    "                          batch_first = True)\n",
    "        self.attn = Attention(attention_dim, hidden_dim, dropout = dropout)\n",
    "        self.out = nn.Linear(attention_dim + hidden_dim, word2vec.lang.n_words)\n",
    "        self.act = F.log_softmax\n",
    "        self.dropout = nn.Dropout(dropout)\n",
    "        \n",
    "    def generateWord(self, hidden, embeddings, word_index):\n",
    "        # update hidden state\n",
    "        embedding = self.word2vec.embedding(word_index) # size (batch_size, 1, embedding_dim)\n",
    "        embedding = self.dropout(embedding)\n",
    "        _, hidden = self.gru(embedding, hidden)         # size (n_layers, batch_size, embedding_dim)\n",
    "        # merge with attention\n",
    "        query = hidden[-1].unsqueeze(1)                 # size (batch_size, 1, embedding_dim)\n",
    "        attn, weights = self.attn(embeddings, query)    # size (batch_size, 1, embedding_dim)\n",
    "        merge = torch.cat([hidden[-1], attn.squeeze(1)], dim = 1) \n",
    "        merge = self.dropout(merge)                     # size (batch_size, embedding_dim + hidden_dim)\n",
    "        # generate next word\n",
    "        log_prob = self.out(merge)                      # size (batch_size, lang_size)\n",
    "        log_prob = self.act(log_prob, dim = 1)          # size (batch_size, lang_size)\n",
    "        return log_prob, hidden, weights\n",
    "    \n",
    "    def forward(self, hidden, embeddings, device = None) :\n",
    "        answer  = []\n",
    "        EOS_token  = self.word2vec.lang.getIndex('EOS')\n",
    "        word = self.word2vec.lang.getIndex('SOS')\n",
    "        word = Variable(torch.LongTensor([[word]])) # size (1)\n",
    "        hidden = hidden[-self.n_layers:]\n",
    "        for t in range(self.bound) :\n",
    "            # compute next word\n",
    "            if device is not None : word = word.to(device) # size (1)\n",
    "            log_prob, hidden, atn = self.generateWord(hidden, embeddings, word)\n",
    "            word = log_prob.topk(1, dim = 1)[1].view(1, 1)\n",
    "            # add to output\n",
    "            if word.item() == EOS_token : break\n",
    "            else : answer.append(word.item())\n",
    "            # cumulate attention weights\n",
    "            if t == 0 : weights = atn\n",
    "            else      : weights = torch.cat((weights, atn), dim = 1) # size(1, output_length, input_length)\n",
    "        return answer, weights"
   ]
  },
  {
   "cell_type": "markdown",
   "metadata": {},
   "source": [
    "#### Visualisation of attention\n",
    "\n",
    "Taken from [this page](https://matplotlib.org/3.1.1/gallery/images_contours_and_fields/image_annotated_heatmap.html#sphx-glr-gallery-images-contours-and-fields-image-annotated-heatmap-py)"
   ]
  },
  {
   "cell_type": "code",
   "execution_count": 15,
   "metadata": {},
   "outputs": [],
   "source": [
    "from libDL4NLP.utils import AttentionViewer, AttentionViewerOnWords"
   ]
  },
  {
   "cell_type": "markdown",
   "metadata": {},
   "source": [
    "<a id=\"model\"></a>"
   ]
  },
  {
   "cell_type": "markdown",
   "metadata": {},
   "source": [
    "# 2 Machine Translation Model\n",
    "\n",
    "[Back to top](#plan)\n"
   ]
  },
  {
   "cell_type": "code",
   "execution_count": 16,
   "metadata": {},
   "outputs": [],
   "source": [
    "class EncoderDecoder(nn.Module) :\n",
    "    def __init__(self, device, tokenizer, word2vec_in, word2vec_out, \n",
    "                 hidden_dim_in = 50,\n",
    "                 hidden_dim_out = 50,\n",
    "                 n_layers_in = 1,\n",
    "                 n_layers_out = 1,\n",
    "                 bound = 25,\n",
    "                 dropout = 0,\n",
    "                 decoder_warm_start = True,\n",
    "                 decoder_attention = True,\n",
    "                 optimizer = optim.SGD\n",
    "                 ):\n",
    "        super(EncoderDecoder, self).__init__()\n",
    "        #relevant quantities\n",
    "        self.decoder_warm_start = decoder_warm_start\n",
    "        \n",
    "        # modules\n",
    "        self.tokenizer    = tokenizer\n",
    "        self.word2vec_in  = word2vec_in\n",
    "        self.word2vec_out = word2vec_out\n",
    "        self.context      = RecurrentEncoder(word2vec_in.output_dim, hidden_dim_in, n_layers_in, dropout, bidirectional = True)\n",
    "        if decoder_attention : self.decoder = AttnDecoder(word2vec_out, hidden_dim_in, hidden_dim_out, n_layers_out, dropout, bound)\n",
    "        else :                 self.decoder = Decoder(word2vec_out, hidden_dim_out, n_layers_out, dropout, bound)\n",
    "        \n",
    "        # optimizer\n",
    "        self.ignore_index_in  = self.word2vec_in.lang.getIndex('PADDING_WORD')\n",
    "        self.ignore_index_out = self.word2vec_out.lang.getIndex('PADDING_WORD')\n",
    "        self.criterion = nn.NLLLoss(size_average = False, ignore_index = self.ignore_index_out)\n",
    "        self.optimizer = optimizer\n",
    "        \n",
    "        # load to device\n",
    "        self.device = device\n",
    "        self.to(device)\n",
    "        \n",
    "    def nbParametres(self) :\n",
    "        return sum([p.data.nelement() for p in self.parameters() if p.requires_grad == True])\n",
    "    \n",
    "    # main method\n",
    "    def forward(self, sentence, attention_method = None):\n",
    "        # encode sentence\n",
    "        words = self.tokenizer(sentence)\n",
    "        words = [w for w in words if self.word2vec_in.lang.getIndex(w) is not None]\n",
    "        indices = [self.word2vec_in.lang.getIndex(w) for w in words]\n",
    "        embeddings = Variable(torch.LongTensor([indices])).to(self.device)\n",
    "        embeddings = self.word2vec_in.embedding(embeddings)\n",
    "        #embeddings = self.word2vec_in(words, self.device)\n",
    "        embeddings, hidden  = self.context(embeddings)\n",
    "        # prepare for decoding\n",
    "        if self.decoder_warm_start :\n",
    "            if self.context.bidirectional :\n",
    "                hidden = hidden.view(self.context.n_layers, 2, -1, self.context.hidden_dim)\n",
    "                hidden = torch.sum(hidden, dim = 1) # size (n_layers, batch_size, hidden_dim)\n",
    "            hidden = hidden[-self.decoder.n_layers:]\n",
    "        else : hidden = None    \n",
    "        ## compute answer\n",
    "        indices, attn = self.decoder(hidden, embeddings, self.device)\n",
    "        attn = np.array(attn[0].data.cpu().numpy()) # size (input_length, output_length)\n",
    "        words_out = [self.word2vec_out.lang.index2word[i] for i in indices]\n",
    "        answer = ' '.join(words_out)\n",
    "        if attention_method is not None : attention_method(attn, words_out, words)\n",
    "        return answer\n",
    "\n",
    "    # load data\n",
    "    def generatePackedSentences(self, sentences, batch_size = 32) : \n",
    "        sentences.sort(key = lambda s: len(s[1]), reverse = True)\n",
    "        packed_data = []\n",
    "        for i in range(0, len(sentences), batch_size) :\n",
    "            # prepare input and target pack\n",
    "            pack = sentences[i:i + batch_size]\n",
    "            pack.sort(key = lambda s: len(self.tokenizer(s[0])), reverse = True)\n",
    "            pack0 = [[self.word2vec_in.lang.getIndex(w) for w in self.tokenizer(qa[0])] for qa in pack]\n",
    "            pack0 = [[w for w in words if w is not None] for words in pack0]\n",
    "            pack1 = [[self.word2vec_out.lang.getIndex(w) for w in self.tokenizer(qa[1]) + ['EOS']] for qa in pack]\n",
    "            pack1 = [[w for w in words if w is not None] for words in pack1]\n",
    "            lengths0 = torch.tensor([len(p) for p in pack0])           # size (batch_size) \n",
    "            lengths1 = torch.tensor([len(p) for p in pack1])           # size (batch_size) \n",
    "            # padd packs\n",
    "            pack0 = list(itertools.zip_longest(*pack0, fillvalue = self.ignore_index_in))\n",
    "            pack0 = Variable(torch.LongTensor(pack0).transpose(0, 1)) # size (batch_size, max_length0) \n",
    "            pack1 = list(itertools.zip_longest(*pack1, fillvalue = self.ignore_index_out))\n",
    "            pack1 = Variable(torch.LongTensor(pack1))       # WARNING : size (max_length1, batch_size) \n",
    "            packed_data.append([pack0, lengths0, pack1, lengths1])\n",
    "        return packed_data\n",
    "    \n",
    "    # compute model perf\n",
    "    def compute_accuracy(self, sentences, batch_size = 32) :\n",
    "        batches = self.generatePackedSentences(sentences, batch_size)\n",
    "        score = 0\n",
    "        for batch in batches :\n",
    "            input, input_l, target, target_l = batch\n",
    "            target = target.to(self.device)\n",
    "            # encode sentences\n",
    "            embeddings = self.word2vec_in.embedding(input.to(self.device))\n",
    "            embeddings, hidden = self.context(embeddings, lengths = input_l.to(self.device)) # size (n_layers * num_directions, batch_size, hidden_dim)\n",
    "            # prepare for decoding\n",
    "            if self.decoder_warm_start :\n",
    "                if self.context.bidirectional :\n",
    "                    hidden = hidden.view(self.context.n_layers, 2, -1, self.context.hidden_dim)\n",
    "                    hidden = torch.sum(hidden, dim = 1) # size (n_layers, batch_size, hidden_dim)\n",
    "                hidden = hidden[-self.decoder.n_layers:]\n",
    "            else : hidden = None  \n",
    "            # compute answers\n",
    "            answers = torch.zeros(target.size())\n",
    "            word_index = self.word2vec_out.lang.getIndex('SOS')\n",
    "            word_index = Variable(torch.LongTensor([word_index])) # size (1)\n",
    "            word_index = word_index.expand(target.size(1))        # size (batch_size)\n",
    "            for t in range(target.size(0)) :\n",
    "                # compute word probs\n",
    "                log_prob, hidden, atn = self.decoder.generateWord(hidden, embeddings, word_index.unsqueeze(1).to(self.device))\n",
    "                word_index = log_prob.topk(1, dim = 1)[1].view(-1) # size (batch_size)\n",
    "                answers[t] = word_index\n",
    "            # update score\n",
    "            score += sum([sum(answers[:l, i].data == target[:l, i].data) == l for i, l in enumerate(target_l.data.cpu().tolist())]).item()\n",
    "        return score * 100 / len(sentences)\n",
    "    \n",
    "    # fit model\n",
    "    def fit(self, batches, iters = None, epochs = None, tf_ratio = 0, lr = 0.025, random_state = 42,\n",
    "              print_every = 10, compute_accuracy = True):\n",
    "        \"\"\"Performs training over a given dataset and along a specified amount of loops\"\"\"\n",
    "        def asMinutes(s):\n",
    "            m = math.floor(s / 60)\n",
    "            s -= m * 60\n",
    "            return '%dm %ds' % (m, s)\n",
    "\n",
    "        def timeSince(since, percent):\n",
    "            now = time.time()\n",
    "            s = now - since\n",
    "            rs = s/percent - s\n",
    "            return '%s (- %s)' % (asMinutes(s), asMinutes(rs))\n",
    "        \n",
    "        def computeSuccess(log_probs, targets) :\n",
    "            success = sum([self.ignore_index_out != targets[i].item() == log_probs[i].topk(1)[1].item() \\\n",
    "                           for i in range(targets.size(0))])\n",
    "            return success\n",
    "        \n",
    "        def computeLogProbs(batch, tf_ratio = 0, compute_accuracy = True) :\n",
    "            loss = 0\n",
    "            success = 0\n",
    "            forcing = (random.random() < tf_ratio)\n",
    "            input, input_l, target, target_l = batch\n",
    "            target = target.to(self.device)\n",
    "            # encode sentences\n",
    "            embeddings = self.word2vec_in.embedding(input.to(self.device))\n",
    "            embeddings, hidden  = self.context(embeddings, lengths = input_l.to(self.device)) # size (n_layers * num_directions, batch_size, hidden_dim)\n",
    "            # prepare for decoding\n",
    "            if self.decoder_warm_start :\n",
    "                if self.context.bidirectional :\n",
    "                    hidden = hidden.view(self.context.n_layers, 2, -1, self.context.hidden_dim)\n",
    "                    hidden = torch.sum(hidden, dim = 1) # size (n_layers, batch_size, hidden_dim)\n",
    "                hidden = hidden[-self.decoder.n_layers:]\n",
    "            else : hidden = None  \n",
    "            # compute answers\n",
    "            word_index = self.word2vec_out.lang.getIndex('SOS')\n",
    "            word_index = Variable(torch.LongTensor([word_index])) # size (1)\n",
    "            word_index = word_index.expand(target.size(1))        # size (batch_size)\n",
    "            for t in range(target.size(0)) :\n",
    "                # compute word probs\n",
    "                log_prob, hidden, atn = self.decoder.generateWord(hidden, embeddings, word_index.unsqueeze(1).to(self.device))\n",
    "                # compute loss\n",
    "                loss += self.criterion(log_prob, target[t])\n",
    "                if compute_accuracy : success += computeSuccess(log_prob, target[t])\n",
    "                # apply teacher forcing\n",
    "                if forcing : word_index = target[t]                             # size (batch_size) \n",
    "                else       : word_index = log_prob.topk(1, dim = 1)[1].view(-1) # size (batch_size)\n",
    "            return loss, success       \n",
    "\n",
    "        def printScores(start, iter, iters, tot_loss, tot_loss_words, print_every, compute_accuracy) :\n",
    "            avg_loss = tot_loss / print_every\n",
    "            avg_loss_words = tot_loss_words / print_every\n",
    "            if compute_accuracy : print(timeSince(start, iter / iters) + ' ({} {}%) loss : {:.3f}  accuracy : {:.1f} %'.format(iter, int(iter / iters * 100), avg_loss, avg_loss_words))\n",
    "            else                : print(timeSince(start, iter / iters) + ' ({} {}%) loss : {:.3f}                     '.format(iter, int(iter / iters * 100), avg_loss))\n",
    "            return 0, 0\n",
    "\n",
    "        def trainLoop(batch, optimizer, tf_ratio = 0, compute_accuracy = True):\n",
    "            \"\"\"Performs a training loop, with forward pass, backward pass and weight update.\"\"\"\n",
    "            optimizer.zero_grad()\n",
    "            self.zero_grad()\n",
    "            total = torch.sum(batch[-1]).item()\n",
    "            loss, success = computeLogProbs(batch, tf_ratio, compute_accuracy)\n",
    "            loss.backward()\n",
    "            optimizer.step()\n",
    "            return float(loss.item() / total), float(success * 100 / total)\n",
    "        \n",
    "        # --- main ---\n",
    "        self.train()\n",
    "        np.random.seed(random_state)\n",
    "        start = time.time()\n",
    "        optimizer = self.optimizer([param for param in self.parameters() if param.requires_grad == True], lr = lr)\n",
    "        tot_loss = 0  \n",
    "        tot_acc  = 0\n",
    "        if epochs is None :\n",
    "            for iter in range(1, iters + 1):\n",
    "                batch = random.choice(batches)\n",
    "                loss, acc = trainLoop(batch, optimizer, tf_ratio, compute_accuracy)\n",
    "                tot_loss += loss\n",
    "                tot_acc += acc      \n",
    "                if iter % print_every == 0 : \n",
    "                    tot_loss, tot_acc = printScores(start, iter, iters, tot_loss, tot_acc, print_every, compute_accuracy)\n",
    "        else :\n",
    "            iter = 0\n",
    "            iters = len(batches) * epochs\n",
    "            for epoch in range(1, epochs + 1):\n",
    "                print('epoch ' + str(epoch))\n",
    "                np.random.shuffle(batches)\n",
    "                for batch in batches :\n",
    "                    loss, acc = trainLoop(batch, optimizer, tf_ratio, compute_accuracy)\n",
    "                    tot_loss += loss\n",
    "                    tot_acc += acc \n",
    "                    iter += 1\n",
    "                    if iter % print_every == 0 : \n",
    "                        tot_loss, tot_acc = printScores(start, iter, iters, tot_loss, tot_acc, print_every, compute_accuracy)\n",
    "        return"
   ]
  },
  {
   "cell_type": "markdown",
   "metadata": {},
   "source": [
    "#### Training"
   ]
  },
  {
   "cell_type": "code",
   "execution_count": 17,
   "metadata": {},
   "outputs": [
    {
     "data": {
      "text/plain": [
       "69"
      ]
     },
     "execution_count": 17,
     "metadata": {},
     "output_type": "execute_result"
    }
   ],
   "source": [
    "max([len(qa[1].split(' ')) for qa in qa_trn])"
   ]
  },
  {
   "cell_type": "code",
   "execution_count": 18,
   "metadata": {
    "scrolled": true
   },
   "outputs": [
    {
     "data": {
      "text/plain": [
       "601597"
      ]
     },
     "execution_count": 18,
     "metadata": {},
     "output_type": "execute_result"
    }
   ],
   "source": [
    "chatbot = EncoderDecoder(device = torch.device(\"cpu\"),\n",
    "                         tokenizer = lambda s : normalizeString(s).split(' '),\n",
    "                         word2vec_in = word2vec_in,\n",
    "                         word2vec_out = word2vec_out,\n",
    "                         hidden_dim_in = 100,\n",
    "                         hidden_dim_out = 100,\n",
    "                         n_layers_in = 2,\n",
    "                         n_layers_out = 2,\n",
    "                         bound = 75,\n",
    "                         dropout = 0.2,\n",
    "                         decoder_warm_start = True,\n",
    "                         decoder_attention = True,\n",
    "                         optimizer = optim.ASGD)\n",
    "\n",
    "chatbot.nbParametres()"
   ]
  },
  {
   "cell_type": "code",
   "execution_count": 19,
   "metadata": {
    "scrolled": true
   },
   "outputs": [
    {
     "data": {
      "text/plain": [
       "EncoderDecoder(\n",
       "  (word2vec_in): Word2VecConnector(\n",
       "    (twin): Word2Vec(\n",
       "      (embedding): Embedding(784, 75)\n",
       "    )\n",
       "    (embedding): Embedding(784, 75)\n",
       "  )\n",
       "  (word2vec_out): Word2VecConnector(\n",
       "    (twin): Word2Vec(\n",
       "      (embedding): Embedding(898, 75)\n",
       "    )\n",
       "    (embedding): Embedding(898, 75)\n",
       "  )\n",
       "  (context): RecurrentEncoder(\n",
       "    (dropout): Dropout(p=0.2, inplace=False)\n",
       "    (bigru): GRU(75, 100, num_layers=2, dropout=0.2, bidirectional=True)\n",
       "  )\n",
       "  (decoder): AttnDecoder(\n",
       "    (word2vec): Word2VecConnector(\n",
       "      (twin): Word2Vec(\n",
       "        (embedding): Embedding(898, 75)\n",
       "      )\n",
       "      (embedding): Embedding(898, 75)\n",
       "    )\n",
       "    (gru): GRU(75, 100, num_layers=2, batch_first=True, dropout=0.2)\n",
       "    (attn): Attention(\n",
       "      (dropout): Dropout(p=0.2, inplace=False)\n",
       "      (attn_layer): Linear(in_features=200, out_features=100, bias=True)\n",
       "      (attn_v): Linear(in_features=100, out_features=1, bias=False)\n",
       "    )\n",
       "    (out): Linear(in_features=200, out_features=897, bias=True)\n",
       "    (dropout): Dropout(p=0.2, inplace=False)\n",
       "  )\n",
       "  (criterion): NLLLoss()\n",
       ")"
      ]
     },
     "execution_count": 19,
     "metadata": {},
     "output_type": "execute_result"
    }
   ],
   "source": [
    "chatbot"
   ]
  },
  {
   "cell_type": "code",
   "execution_count": 20,
   "metadata": {},
   "outputs": [],
   "source": [
    "torch.cuda.empty_cache()"
   ]
  },
  {
   "cell_type": "code",
   "execution_count": 21,
   "metadata": {},
   "outputs": [
    {
     "data": {
      "text/plain": [
       "6257"
      ]
     },
     "execution_count": 21,
     "metadata": {},
     "output_type": "execute_result"
    }
   ],
   "source": [
    "batches = chatbot.generatePackedSentences(qa_trn, batch_size = 32)\n",
    "len(batches)"
   ]
  },
  {
   "cell_type": "code",
   "execution_count": 151,
   "metadata": {
    "scrolled": true
   },
   "outputs": [
    {
     "name": "stdout",
     "output_type": "stream",
     "text": [
      "epoch 1\n",
      "0m 19s (- 19m 48s) (100 1%) loss : 5.460  accuracy : 7.1 %\n",
      "0m 38s (- 19m 35s) (200 3%) loss : 5.035  accuracy : 8.7 %\n",
      "0m 59s (- 19m 32s) (300 4%) loss : 4.758  accuracy : 13.2 %\n",
      "1m 19s (- 19m 25s) (400 6%) loss : 4.416  accuracy : 18.4 %\n",
      "1m 41s (- 19m 30s) (500 7%) loss : 3.896  accuracy : 27.5 %\n",
      "2m 1s (- 19m 7s) (600 9%) loss : 3.484  accuracy : 33.5 %\n",
      "2m 21s (- 18m 45s) (700 11%) loss : 2.992  accuracy : 41.8 %\n",
      "2m 42s (- 18m 25s) (800 12%) loss : 2.884  accuracy : 44.6 %\n",
      "3m 4s (- 18m 19s) (900 14%) loss : 2.663  accuracy : 48.4 %\n",
      "3m 23s (- 17m 51s) (1000 15%) loss : 2.193  accuracy : 56.7 %\n",
      "3m 43s (- 17m 26s) (1100 17%) loss : 2.297  accuracy : 53.3 %\n",
      "4m 2s (- 17m 3s) (1200 19%) loss : 2.317  accuracy : 52.1 %\n",
      "4m 20s (- 16m 33s) (1300 20%) loss : 2.148  accuracy : 58.1 %\n",
      "4m 40s (- 16m 11s) (1400 22%) loss : 1.969  accuracy : 58.7 %\n",
      "4m 59s (- 15m 50s) (1500 23%) loss : 2.062  accuracy : 57.2 %\n",
      "5m 17s (- 15m 23s) (1600 25%) loss : 1.714  accuracy : 63.7 %\n",
      "5m 36s (- 15m 1s) (1700 27%) loss : 1.707  accuracy : 64.6 %\n",
      "5m 56s (- 14m 43s) (1800 28%) loss : 1.688  accuracy : 63.5 %\n",
      "6m 14s (- 14m 19s) (1900 30%) loss : 1.704  accuracy : 63.6 %\n",
      "6m 33s (- 13m 58s) (2000 31%) loss : 1.546  accuracy : 66.2 %\n",
      "6m 53s (- 13m 39s) (2100 33%) loss : 1.500  accuracy : 67.5 %\n",
      "7m 13s (- 13m 19s) (2200 35%) loss : 1.577  accuracy : 64.8 %\n",
      "7m 32s (- 12m 58s) (2300 36%) loss : 1.366  accuracy : 69.6 %\n",
      "7m 53s (- 12m 40s) (2400 38%) loss : 1.165  accuracy : 73.8 %\n",
      "8m 12s (- 12m 19s) (2500 39%) loss : 1.232  accuracy : 73.1 %\n",
      "8m 30s (- 11m 58s) (2600 41%) loss : 1.077  accuracy : 75.6 %\n",
      "8m 49s (- 11m 37s) (2700 43%) loss : 1.057  accuracy : 75.7 %\n",
      "9m 7s (- 11m 16s) (2800 44%) loss : 1.034  accuracy : 75.1 %\n",
      "9m 25s (- 10m 54s) (2900 46%) loss : 1.059  accuracy : 75.5 %\n",
      "9m 44s (- 10m 34s) (3000 47%) loss : 1.045  accuracy : 75.3 %\n",
      "10m 2s (- 10m 13s) (3100 49%) loss : 0.868  accuracy : 79.7 %\n",
      "10m 22s (- 9m 54s) (3200 51%) loss : 0.816  accuracy : 80.2 %\n",
      "10m 40s (- 9m 33s) (3300 52%) loss : 0.925  accuracy : 77.6 %\n",
      "10m 58s (- 9m 13s) (3400 54%) loss : 0.772  accuracy : 81.1 %\n",
      "11m 18s (- 8m 54s) (3500 55%) loss : 0.741  accuracy : 82.0 %\n",
      "11m 37s (- 8m 34s) (3600 57%) loss : 0.688  accuracy : 83.3 %\n",
      "11m 57s (- 8m 15s) (3700 59%) loss : 0.716  accuracy : 82.1 %\n",
      "12m 15s (- 7m 55s) (3800 60%) loss : 0.709  accuracy : 82.5 %\n",
      "12m 34s (- 7m 36s) (3900 62%) loss : 0.793  accuracy : 80.1 %\n",
      "12m 53s (- 7m 16s) (4000 63%) loss : 0.727  accuracy : 82.7 %\n",
      "13m 12s (- 6m 57s) (4100 65%) loss : 0.591  accuracy : 85.5 %\n",
      "13m 31s (- 6m 37s) (4200 67%) loss : 0.573  accuracy : 85.4 %\n",
      "13m 50s (- 6m 18s) (4300 68%) loss : 0.637  accuracy : 83.9 %\n",
      "14m 9s (- 5m 58s) (4400 70%) loss : 0.547  accuracy : 86.2 %\n",
      "14m 27s (- 5m 38s) (4500 71%) loss : 0.483  accuracy : 87.4 %\n",
      "14m 46s (- 5m 19s) (4600 73%) loss : 0.547  accuracy : 86.1 %\n",
      "15m 6s (- 5m 0s) (4700 75%) loss : 0.480  accuracy : 87.8 %\n",
      "15m 25s (- 4m 40s) (4800 76%) loss : 0.502  accuracy : 86.9 %\n",
      "15m 44s (- 4m 21s) (4900 78%) loss : 0.621  accuracy : 84.2 %\n",
      "16m 3s (- 4m 2s) (5000 79%) loss : 0.574  accuracy : 85.9 %\n",
      "16m 22s (- 3m 42s) (5100 81%) loss : 0.539  accuracy : 86.3 %\n",
      "16m 41s (- 3m 23s) (5200 83%) loss : 0.463  accuracy : 88.2 %\n",
      "16m 59s (- 3m 4s) (5300 84%) loss : 0.443  accuracy : 88.4 %\n",
      "17m 18s (- 2m 44s) (5400 86%) loss : 0.388  accuracy : 89.7 %\n",
      "17m 37s (- 2m 25s) (5500 87%) loss : 0.453  accuracy : 88.0 %\n",
      "17m 56s (- 2m 6s) (5600 89%) loss : 0.427  accuracy : 88.8 %\n",
      "18m 14s (- 1m 46s) (5700 91%) loss : 0.495  accuracy : 86.9 %\n",
      "18m 32s (- 1m 27s) (5800 92%) loss : 0.371  accuracy : 90.0 %\n",
      "18m 50s (- 1m 8s) (5900 94%) loss : 0.360  accuracy : 90.5 %\n",
      "19m 9s (- 0m 49s) (6000 95%) loss : 0.381  accuracy : 90.0 %\n",
      "19m 28s (- 0m 30s) (6100 97%) loss : 0.354  accuracy : 90.4 %\n",
      "19m 46s (- 0m 10s) (6200 99%) loss : 0.345  accuracy : 91.0 %\n",
      "epoch 1\n",
      "0m 19s (- 20m 7s) (100 1%) loss : 2.929  accuracy : 58.7 %\n",
      "0m 38s (- 19m 19s) (200 3%) loss : 2.473  accuracy : 59.8 %\n",
      "0m 57s (- 18m 58s) (300 4%) loss : 2.483  accuracy : 56.7 %\n",
      "1m 16s (- 18m 43s) (400 6%) loss : 2.069  accuracy : 62.3 %\n",
      "1m 36s (- 18m 32s) (500 7%) loss : 1.904  accuracy : 65.0 %\n",
      "1m 56s (- 18m 20s) (600 9%) loss : 2.207  accuracy : 60.4 %\n",
      "2m 16s (- 18m 1s) (700 11%) loss : 1.575  accuracy : 70.9 %\n",
      "2m 35s (- 17m 39s) (800 12%) loss : 1.913  accuracy : 64.3 %\n",
      "2m 55s (- 17m 24s) (900 14%) loss : 1.931  accuracy : 64.7 %\n",
      "3m 13s (- 16m 57s) (1000 15%) loss : 1.951  accuracy : 62.6 %\n",
      "3m 33s (- 16m 41s) (1100 17%) loss : 1.734  accuracy : 67.1 %\n",
      "3m 52s (- 16m 18s) (1200 19%) loss : 1.530  accuracy : 70.5 %\n",
      "4m 10s (- 15m 55s) (1300 20%) loss : 1.573  accuracy : 69.8 %\n",
      "4m 29s (- 15m 34s) (1400 22%) loss : 1.668  accuracy : 67.8 %\n",
      "4m 48s (- 15m 15s) (1500 23%) loss : 1.527  accuracy : 69.9 %\n",
      "5m 7s (- 14m 55s) (1600 25%) loss : 1.500  accuracy : 70.9 %\n",
      "5m 25s (- 14m 33s) (1700 27%) loss : 1.645  accuracy : 68.2 %\n",
      "5m 44s (- 14m 12s) (1800 28%) loss : 1.256  accuracy : 74.4 %\n",
      "6m 2s (- 13m 50s) (1900 30%) loss : 1.628  accuracy : 66.8 %\n",
      "6m 21s (- 13m 31s) (2000 31%) loss : 1.474  accuracy : 69.3 %\n",
      "6m 42s (- 13m 16s) (2100 33%) loss : 1.658  accuracy : 66.2 %\n",
      "7m 1s (- 12m 56s) (2200 35%) loss : 1.460  accuracy : 71.1 %\n",
      "7m 21s (- 12m 40s) (2300 36%) loss : 1.766  accuracy : 64.4 %\n",
      "7m 41s (- 12m 21s) (2400 38%) loss : 1.554  accuracy : 68.4 %\n",
      "8m 0s (- 12m 2s) (2500 39%) loss : 1.463  accuracy : 70.0 %\n",
      "8m 19s (- 11m 42s) (2600 41%) loss : 1.219  accuracy : 74.8 %\n",
      "8m 37s (- 11m 22s) (2700 43%) loss : 1.291  accuracy : 72.6 %\n",
      "8m 57s (- 11m 3s) (2800 44%) loss : 1.280  accuracy : 73.2 %\n",
      "9m 15s (- 10m 43s) (2900 46%) loss : 1.429  accuracy : 70.3 %\n",
      "9m 35s (- 10m 24s) (3000 47%) loss : 1.375  accuracy : 71.1 %\n",
      "9m 55s (- 10m 6s) (3100 49%) loss : 1.329  accuracy : 71.1 %\n",
      "10m 15s (- 9m 47s) (3200 51%) loss : 1.410  accuracy : 70.0 %\n",
      "10m 35s (- 9m 29s) (3300 52%) loss : 1.316  accuracy : 71.2 %\n",
      "10m 55s (- 9m 10s) (3400 54%) loss : 1.313  accuracy : 72.5 %\n",
      "11m 15s (- 8m 52s) (3500 55%) loss : 1.268  accuracy : 73.1 %\n",
      "11m 34s (- 8m 32s) (3600 57%) loss : 1.416  accuracy : 70.7 %\n",
      "11m 54s (- 8m 13s) (3700 59%) loss : 1.157  accuracy : 75.5 %\n",
      "12m 12s (- 7m 53s) (3800 60%) loss : 1.178  accuracy : 75.1 %\n",
      "12m 30s (- 7m 33s) (3900 62%) loss : 1.203  accuracy : 74.2 %\n",
      "12m 48s (- 7m 13s) (4000 63%) loss : 1.018  accuracy : 78.4 %\n",
      "13m 8s (- 6m 54s) (4100 65%) loss : 1.105  accuracy : 76.0 %\n",
      "13m 27s (- 6m 35s) (4200 67%) loss : 1.096  accuracy : 77.5 %\n",
      "13m 47s (- 6m 16s) (4300 68%) loss : 1.178  accuracy : 74.7 %\n",
      "14m 6s (- 5m 57s) (4400 70%) loss : 1.138  accuracy : 74.7 %\n",
      "14m 24s (- 5m 37s) (4500 71%) loss : 1.116  accuracy : 76.1 %\n",
      "14m 43s (- 5m 18s) (4600 73%) loss : 1.072  accuracy : 76.5 %\n",
      "15m 2s (- 4m 59s) (4700 75%) loss : 1.332  accuracy : 71.6 %\n",
      "15m 22s (- 4m 40s) (4800 76%) loss : 1.384  accuracy : 68.7 %\n",
      "15m 41s (- 4m 20s) (4900 78%) loss : 1.377  accuracy : 70.0 %\n",
      "16m 1s (- 4m 1s) (5000 79%) loss : 1.217  accuracy : 72.8 %\n",
      "16m 19s (- 3m 42s) (5100 81%) loss : 1.059  accuracy : 76.0 %\n",
      "16m 38s (- 3m 22s) (5200 83%) loss : 0.910  accuracy : 79.5 %\n",
      "16m 57s (- 3m 3s) (5300 84%) loss : 1.314  accuracy : 71.5 %\n",
      "17m 16s (- 2m 44s) (5400 86%) loss : 0.955  accuracy : 78.9 %\n",
      "17m 35s (- 2m 25s) (5500 87%) loss : 1.015  accuracy : 77.8 %\n",
      "17m 54s (- 2m 6s) (5600 89%) loss : 0.963  accuracy : 78.7 %\n",
      "18m 13s (- 1m 46s) (5700 91%) loss : 0.975  accuracy : 78.6 %\n",
      "18m 32s (- 1m 27s) (5800 92%) loss : 1.062  accuracy : 76.5 %\n",
      "18m 51s (- 1m 8s) (5900 94%) loss : 1.040  accuracy : 76.9 %\n",
      "19m 11s (- 0m 49s) (6000 95%) loss : 0.910  accuracy : 79.4 %\n",
      "19m 30s (- 0m 30s) (6100 97%) loss : 0.965  accuracy : 78.6 %\n",
      "19m 49s (- 0m 10s) (6200 99%) loss : 1.044  accuracy : 76.9 %\n"
     ]
    }
   ],
   "source": [
    "chatbot.fit(batches, epochs = 1, lr = 0.001, tf_ratio = 1,  print_every = 100)\n",
    "chatbot.fit(batches, epochs = 2, lr = 0.001, tf_ratio = 0.5,  print_every = 100)"
   ]
  },
  {
   "cell_type": "code",
   "execution_count": 155,
   "metadata": {
    "scrolled": true
   },
   "outputs": [
    {
     "name": "stdout",
     "output_type": "stream",
     "text": [
      "epoch 1\n",
      "0m 34s (- 35m 50s) (100 1%) loss : 0.629  accuracy : 85.1 %\n",
      "1m 5s (- 33m 15s) (200 3%) loss : 0.488  accuracy : 88.3 %\n",
      "1m 38s (- 32m 37s) (300 4%) loss : 0.630  accuracy : 84.4 %\n",
      "2m 9s (- 31m 41s) (400 6%) loss : 0.514  accuracy : 87.0 %\n",
      "2m 39s (- 30m 40s) (500 7%) loss : 0.523  accuracy : 86.8 %\n",
      "3m 11s (- 30m 4s) (600 9%) loss : 0.550  accuracy : 87.0 %\n",
      "3m 44s (- 29m 41s) (700 11%) loss : 0.637  accuracy : 85.0 %\n",
      "4m 17s (- 29m 19s) (800 12%) loss : 0.622  accuracy : 84.9 %\n",
      "4m 49s (- 28m 41s) (900 14%) loss : 0.595  accuracy : 85.5 %\n",
      "5m 21s (- 28m 11s) (1000 15%) loss : 0.584  accuracy : 85.2 %\n",
      "5m 53s (- 27m 37s) (1100 17%) loss : 0.641  accuracy : 82.8 %\n",
      "6m 24s (- 27m 1s) (1200 19%) loss : 0.506  accuracy : 87.4 %\n",
      "6m 56s (- 26m 28s) (1300 20%) loss : 0.628  accuracy : 84.5 %\n",
      "7m 28s (- 25m 56s) (1400 22%) loss : 0.481  accuracy : 88.4 %\n",
      "8m 0s (- 25m 25s) (1500 23%) loss : 0.582  accuracy : 85.7 %\n",
      "8m 32s (- 24m 52s) (1600 25%) loss : 0.647  accuracy : 83.5 %\n",
      "9m 5s (- 24m 21s) (1700 27%) loss : 0.654  accuracy : 83.4 %\n",
      "9m 37s (- 23m 50s) (1800 28%) loss : 0.545  accuracy : 86.5 %\n",
      "10m 10s (- 23m 19s) (1900 30%) loss : 0.554  accuracy : 85.1 %\n",
      "10m 41s (- 22m 45s) (2000 31%) loss : 0.499  accuracy : 88.0 %\n",
      "11m 13s (- 22m 13s) (2100 33%) loss : 0.538  accuracy : 87.3 %\n",
      "11m 45s (- 21m 41s) (2200 35%) loss : 0.566  accuracy : 86.1 %\n",
      "12m 19s (- 21m 11s) (2300 36%) loss : 0.652  accuracy : 83.8 %\n",
      "12m 49s (- 20m 35s) (2400 38%) loss : 0.542  accuracy : 87.3 %\n",
      "13m 20s (- 20m 2s) (2500 39%) loss : 0.672  accuracy : 82.8 %\n",
      "13m 45s (- 19m 21s) (2600 41%) loss : 0.457  accuracy : 88.8 %\n",
      "14m 5s (- 18m 33s) (2700 43%) loss : 0.647  accuracy : 83.1 %\n",
      "14m 24s (- 17m 47s) (2800 44%) loss : 0.749  accuracy : 81.1 %\n",
      "14m 42s (- 17m 2s) (2900 46%) loss : 0.475  accuracy : 88.0 %\n",
      "15m 0s (- 16m 17s) (3000 47%) loss : 0.476  accuracy : 88.4 %\n",
      "15m 19s (- 15m 36s) (3100 49%) loss : 0.610  accuracy : 85.2 %\n",
      "15m 39s (- 14m 57s) (3200 51%) loss : 0.563  accuracy : 86.2 %\n",
      "15m 59s (- 14m 19s) (3300 52%) loss : 0.615  accuracy : 84.0 %\n",
      "16m 17s (- 13m 41s) (3400 54%) loss : 0.635  accuracy : 83.8 %\n",
      "16m 36s (- 13m 5s) (3500 55%) loss : 0.521  accuracy : 87.8 %\n",
      "16m 55s (- 12m 29s) (3600 57%) loss : 0.526  accuracy : 87.4 %\n",
      "17m 13s (- 11m 54s) (3700 59%) loss : 0.606  accuracy : 84.5 %\n",
      "17m 32s (- 11m 20s) (3800 60%) loss : 0.551  accuracy : 86.4 %\n",
      "17m 50s (- 10m 47s) (3900 62%) loss : 0.587  accuracy : 84.9 %\n",
      "18m 9s (- 10m 14s) (4000 63%) loss : 0.588  accuracy : 85.9 %\n",
      "18m 29s (- 9m 43s) (4100 65%) loss : 0.657  accuracy : 82.5 %\n",
      "18m 48s (- 9m 12s) (4200 67%) loss : 0.617  accuracy : 83.4 %\n",
      "19m 6s (- 8m 41s) (4300 68%) loss : 0.542  accuracy : 86.5 %\n",
      "19m 25s (- 8m 11s) (4400 70%) loss : 0.555  accuracy : 86.0 %\n",
      "19m 43s (- 7m 42s) (4500 71%) loss : 0.545  accuracy : 84.4 %\n",
      "20m 3s (- 7m 13s) (4600 73%) loss : 0.469  accuracy : 88.3 %\n",
      "20m 22s (- 6m 44s) (4700 75%) loss : 0.524  accuracy : 87.5 %\n",
      "20m 41s (- 6m 16s) (4800 76%) loss : 0.446  accuracy : 89.0 %\n",
      "21m 0s (- 5m 49s) (4900 78%) loss : 0.455  accuracy : 88.9 %\n",
      "21m 19s (- 5m 21s) (5000 79%) loss : 0.598  accuracy : 84.7 %\n",
      "21m 38s (- 4m 54s) (5100 81%) loss : 0.549  accuracy : 85.8 %\n",
      "21m 57s (- 4m 27s) (5200 83%) loss : 0.467  accuracy : 87.5 %\n",
      "22m 16s (- 4m 1s) (5300 84%) loss : 0.369  accuracy : 91.0 %\n",
      "22m 37s (- 3m 35s) (5400 86%) loss : 0.550  accuracy : 85.8 %\n",
      "22m 58s (- 3m 9s) (5500 87%) loss : 0.465  accuracy : 87.6 %\n",
      "23m 18s (- 2m 44s) (5600 89%) loss : 0.527  accuracy : 85.6 %\n",
      "23m 40s (- 2m 18s) (5700 91%) loss : 0.437  accuracy : 88.4 %\n",
      "24m 1s (- 1m 53s) (5800 92%) loss : 0.494  accuracy : 87.6 %\n",
      "24m 24s (- 1m 28s) (5900 94%) loss : 0.639  accuracy : 83.9 %\n",
      "24m 45s (- 1m 3s) (6000 95%) loss : 0.439  accuracy : 89.7 %\n",
      "25m 7s (- 0m 38s) (6100 97%) loss : 0.568  accuracy : 86.0 %\n",
      "25m 30s (- 0m 14s) (6200 99%) loss : 0.501  accuracy : 87.7 %\n"
     ]
    }
   ],
   "source": [
    "chatbot.train()\n",
    "chatbot.fit(batches, epochs = 1, lr = 0.001, tf_ratio = 0.5,  print_every = 100)"
   ]
  },
  {
   "cell_type": "code",
   "execution_count": 23,
   "metadata": {},
   "outputs": [
    {
     "data": {
      "text/plain": [
       "<All keys matched successfully>"
      ]
     },
     "execution_count": 23,
     "metadata": {},
     "output_type": "execute_result"
    }
   ],
   "source": [
    "# save\n",
    "#torch.save(chatbot.state_dict(), path_to_NLP + '\\\\saves\\\\models\\\\DL4NLP_II2_encoder_attndecoder_M2DS.pth')\n",
    "\n",
    "# load\n",
    "chatbot.load_state_dict(torch.load(path_to_NLP + '\\\\saves\\\\models\\\\DL4NLP_II2_encoder_attndecoder_M2DS.pth'))"
   ]
  },
  {
   "cell_type": "markdown",
   "metadata": {},
   "source": [
    "#### Evaluation"
   ]
  },
  {
   "cell_type": "code",
   "execution_count": 156,
   "metadata": {
    "scrolled": true
   },
   "outputs": [
    {
     "data": {
      "text/plain": [
       "49.554982734302804"
      ]
     },
     "execution_count": 156,
     "metadata": {},
     "output_type": "execute_result"
    }
   ],
   "source": [
    "chatbot.eval()\n",
    "chatbot.compute_accuracy(qa_tst, batch_size = 32)"
   ]
  },
  {
   "cell_type": "code",
   "execution_count": 136,
   "metadata": {},
   "outputs": [],
   "source": [
    "def ReplaceMotVar(motsVar, raw_sentence):\n",
    "    sentence = []\n",
    "    word_list = raw_sentence.split(' ')\n",
    "    for word in word_list :\n",
    "        if word in motsVar.keys() :\n",
    "            sentence.append(motsVar[word])\n",
    "        else :\n",
    "            sentence.append(word)\n",
    "    return ' '.join(sentence)\n",
    "\n",
    "\n",
    "def repair(sentence) :\n",
    "    s = re.sub(\" ' \", \"'\", sentence)\n",
    "    s = re.sub(\" - \", \"-\", s)\n",
    "    s = re.sub(\" ,\", \",\", s)\n",
    "    s = re.sub(r'(?<=\\d) \\. (?=\\d)', '.', s)\n",
    "    s = re.sub(\" \\.\", \".\", s)\n",
    "    s = re.sub(\"\\( \", \"(\", s)\n",
    "    s = re.sub(\" \\)\", \")\", s)\n",
    "    s = s[0].upper() + s[1:]\n",
    "    return s\n",
    "\n",
    "\n",
    "def InteractiveEvaluation(agent) :\n",
    "    print(\"Interactive mode (Press 'q' to exit)\")\n",
    "    agent.eval()\n",
    "    while True :\n",
    "        text = input('User : ')\n",
    "        #print('User : {}'.format(text))\n",
    "        if text == 'eoc' or text == 'q' or text == 'quit' : \n",
    "            break\n",
    "        reponse = agent(text)\n",
    "        reponse = ReplaceMotVar(motsVar, reponse)\n",
    "        reponse = repair(reponse)\n",
    "        print('Bot  : {}'.format(reponse))"
   ]
  },
  {
   "cell_type": "code",
   "execution_count": 137,
   "metadata": {},
   "outputs": [
    {
     "name": "stdout",
     "output_type": "stream",
     "text": [
      "Interactive mode (Press 'q' to exit)\n",
      "User : coucou\n",
      "Bot  : Bonjour, comment puis-je vous aider ?\n",
      "User : salut\n",
      "Bot  : Bonjour, comment puis-je vous aider ?\n",
      "User : tu fais quoi\n",
      "Bot  : Je suis la pour vous renseigner sur le master 2 data science.\n",
      "User : cool, sinon tu sais faire quoi\n",
      "Bot  : Il y a plusieurs tp, sur les reseaux bayesien, les modeles de markov cache ainsi que les reseaux de neurones profond.\n",
      "User : bonjour\n",
      "Bot  : Bonjour, comment puis-je vous aider ?\n",
      "User : caca\n",
      "Bot  : Il y a plusieurs tp sur sur et et r : introduction a sas, programmation avancee avec sas, les tests statistiques.\n",
      "User : je ne vois pas le rapport\n",
      "Bot  : C'est dommage, vous en aurez besoin si vous souhaitez faire ce master.\n",
      "User : j'aurai besoin du rapport ?\n",
      "Bot  : Le master data science est un double cursus info-math de haut niveau qui permet aux etudiants d’acquerir des competences fortes en statistique et en informatique tres demandees actuellement par les entreprises.\n",
      "User : ha super\n",
      "Bot  : Merci, j'espere avoir correctement repondu a vos questions.\n",
      "User : oui maintenant tais toi\n",
      "Bot  : Il y a plusieurs tp, sur les reseaux bayesien, les modeles de markov cache ainsi que les reseaux de neurones profond.\n",
      "User : haaa mais tu m'enmerde avec tes réseaux de merde !\n",
      "Bot  : Il y a plusieurs tp sur sas et r : introduction a sas, programmation avancee avec sas, les tests statistiques.\n",
      "User : ta gueule\n",
      "Bot  : Il y a plusieurs tp sur sur et et r : introduction a sas, programmation avancee avec sas, les tests statistiques.\n",
      "User : what\n",
      "Bot  : Il y a plusieurs tp sur sur et et r : introduction a sas, programmation avancee avec sas, les tests statistiques.\n",
      "User : quit\n"
     ]
    }
   ],
   "source": [
    "InteractiveEvaluation(chatbot)"
   ]
  },
  {
   "cell_type": "code",
   "execution_count": 25,
   "metadata": {},
   "outputs": [
    {
     "data": {
      "image/png": "[encoded data removed]",
      "text/plain": [
       "<Figure size 432x288 with 1 Axes>"
      ]
     },
     "metadata": {},
     "output_type": "display_data"
    },
    {
     "name": "stdout",
     "output_type": "stream",
     "text": [
      "\u001b[48;2;256;245;240mquelles\u001b[0m \u001b[48;2;256;245;240msont\u001b[0m \u001b[48;2;256;245;240mles\u001b[0m \u001b[48;2;255;229;217mue\u001b[0m \u001b[48;2;255;229;217mde\u001b[0m \u001b[48;2;255;229;217mmathematiques\u001b[0m \u001b[48;2;255;229;217m?\u001b[0m  - le\n",
      "\u001b[48;2;256;245;240mquelles\u001b[0m \u001b[48;2;256;245;240msont\u001b[0m \u001b[48;2;256;245;240mles\u001b[0m \u001b[48;2;255;229;217mue\u001b[0m \u001b[48;2;252;171;143mde\u001b[0m \u001b[48;2;253;202;181mmathematiques\u001b[0m \u001b[48;2;256;245;240m?\u001b[0m  - master\n",
      "\u001b[48;2;256;245;240mquelles\u001b[0m \u001b[48;2;256;245;240msont\u001b[0m \u001b[48;2;256;245;240mles\u001b[0m \u001b[48;2;255;229;217mue\u001b[0m \u001b[48;2;252;138;106mde\u001b[0m \u001b[48;2;253;202;181mmathematiques\u001b[0m \u001b[48;2;256;245;240m?\u001b[0m  - comprend\n",
      "\u001b[48;2;256;245;240mquelles\u001b[0m \u001b[48;2;256;245;240msont\u001b[0m \u001b[48;2;256;245;240mles\u001b[0m \u001b[48;2;255;229;217mue\u001b[0m \u001b[48;2;252;171;143mde\u001b[0m \u001b[48;2;255;229;217mmathematiques\u001b[0m \u001b[48;2;256;245;240m?\u001b[0m  - les\n",
      "\u001b[48;2;256;245;240mquelles\u001b[0m \u001b[48;2;256;245;240msont\u001b[0m \u001b[48;2;256;245;240mles\u001b[0m \u001b[48;2;256;245;240mue\u001b[0m \u001b[48;2;252;171;143mde\u001b[0m \u001b[48;2;253;202;181mmathematiques\u001b[0m \u001b[48;2;256;245;240m?\u001b[0m  - cours\n",
      "\u001b[48;2;256;245;240mquelles\u001b[0m \u001b[48;2;256;245;240msont\u001b[0m \u001b[48;2;256;245;240mles\u001b[0m \u001b[48;2;255;229;217mue\u001b[0m \u001b[48;2;253;202;181mde\u001b[0m \u001b[48;2;253;202;181mmathematiques\u001b[0m \u001b[48;2;255;229;217m?\u001b[0m  - de\n",
      "\u001b[48;2;256;245;240mquelles\u001b[0m \u001b[48;2;256;245;240msont\u001b[0m \u001b[48;2;256;245;240mles\u001b[0m \u001b[48;2;255;229;217mue\u001b[0m \u001b[48;2;253;202;181mde\u001b[0m \u001b[48;2;253;202;181mmathematiques\u001b[0m \u001b[48;2;255;229;217m?\u001b[0m  - mathematiques\n",
      "\u001b[48;2;256;245;240mquelles\u001b[0m \u001b[48;2;256;245;240msont\u001b[0m \u001b[48;2;256;245;240mles\u001b[0m \u001b[48;2;255;229;217mue\u001b[0m \u001b[48;2;253;202;181mde\u001b[0m \u001b[48;2;255;229;217mmathematiques\u001b[0m \u001b[48;2;255;229;217m?\u001b[0m  - suivant\n",
      "\u001b[48;2;256;245;240mquelles\u001b[0m \u001b[48;2;256;245;240msont\u001b[0m \u001b[48;2;256;245;240mles\u001b[0m \u001b[48;2;255;229;217mue\u001b[0m \u001b[48;2;253;202;181mde\u001b[0m \u001b[48;2;253;202;181mmathematiques\u001b[0m \u001b[48;2;255;229;217m?\u001b[0m  - :\n",
      "\u001b[48;2;256;245;240mquelles\u001b[0m \u001b[48;2;256;245;240msont\u001b[0m \u001b[48;2;256;245;240mles\u001b[0m \u001b[48;2;256;245;240mue\u001b[0m \u001b[48;2;252;171;143mde\u001b[0m \u001b[48;2;253;202;181mmathematiques\u001b[0m \u001b[48;2;255;229;217m?\u001b[0m  - listcoursmath\n",
      "\n"
     ]
    },
    {
     "data": {
      "text/plain": [
       "'le master comprend les cours de mathematiques suivant : listcoursmath'"
      ]
     },
     "execution_count": 25,
     "metadata": {},
     "output_type": "execute_result"
    }
   ],
   "source": [
    "chatbot.eval()\n",
    "chatbot('quelles sont les ue de mathématiques ?', attention_method = AttentionViewer)\n",
    "chatbot('quelles sont les ue de mathématiques ?', attention_method = AttentionViewerOnWords)"
   ]
  },
  {
   "cell_type": "code",
   "execution_count": 24,
   "metadata": {},
   "outputs": [
    {
     "data": {
      "image/png": "[encoded data removed]",
      "text/plain": [
       "<Figure size 432x288 with 1 Axes>"
      ]
     },
     "metadata": {},
     "output_type": "display_data"
    },
    {
     "name": "stdout",
     "output_type": "stream",
     "text": [
      "\u001b[48;2;256;245;240mje\u001b[0m \u001b[48;2;256;245;240mte\u001b[0m \u001b[48;2;256;245;240mpropose\u001b[0m \u001b[48;2;255;229;217mde\u001b[0m \u001b[48;2;253;202;181mte\u001b[0m \u001b[48;2;253;202;181mtaire\u001b[0m  - une\n",
      "\u001b[48;2;256;245;240mje\u001b[0m \u001b[48;2;256;245;240mte\u001b[0m \u001b[48;2;256;245;240mpropose\u001b[0m \u001b[48;2;255;229;217mde\u001b[0m \u001b[48;2;253;202;181mte\u001b[0m \u001b[48;2;253;202;181mtaire\u001b[0m  - y\n",
      "\u001b[48;2;256;245;240mje\u001b[0m \u001b[48;2;256;245;240mte\u001b[0m \u001b[48;2;255;229;217mpropose\u001b[0m \u001b[48;2;255;229;217mde\u001b[0m \u001b[48;2;253;202;181mte\u001b[0m \u001b[48;2;253;202;181mtaire\u001b[0m  - a\n",
      "\u001b[48;2;256;245;240mje\u001b[0m \u001b[48;2;256;245;240mte\u001b[0m \u001b[48;2;255;229;217mpropose\u001b[0m \u001b[48;2;255;229;217mde\u001b[0m \u001b[48;2;253;202;181mte\u001b[0m \u001b[48;2;253;202;181mtaire\u001b[0m  - plusieurs\n",
      "\u001b[48;2;256;245;240mje\u001b[0m \u001b[48;2;256;245;240mte\u001b[0m \u001b[48;2;255;229;217mpropose\u001b[0m \u001b[48;2;255;229;217mde\u001b[0m \u001b[48;2;253;202;181mte\u001b[0m \u001b[48;2;253;202;181mtaire\u001b[0m  - tp\n",
      "\u001b[48;2;256;245;240mje\u001b[0m \u001b[48;2;256;245;240mte\u001b[0m \u001b[48;2;255;229;217mpropose\u001b[0m \u001b[48;2;255;229;217mde\u001b[0m \u001b[48;2;253;202;181mte\u001b[0m \u001b[48;2;253;202;181mtaire\u001b[0m  - sur\n",
      "\u001b[48;2;256;245;240mje\u001b[0m \u001b[48;2;256;245;240mte\u001b[0m \u001b[48;2;255;229;217mpropose\u001b[0m \u001b[48;2;255;229;217mde\u001b[0m \u001b[48;2;255;229;217mte\u001b[0m \u001b[48;2;253;202;181mtaire\u001b[0m  - sas\n",
      "\u001b[48;2;255;229;217mje\u001b[0m \u001b[48;2;255;229;217mte\u001b[0m \u001b[48;2;255;229;217mpropose\u001b[0m \u001b[48;2;255;229;217mde\u001b[0m \u001b[48;2;255;229;217mte\u001b[0m \u001b[48;2;255;229;217mtaire\u001b[0m  - et\n",
      "\u001b[48;2;256;245;240mje\u001b[0m \u001b[48;2;256;245;240mte\u001b[0m \u001b[48;2;255;229;217mpropose\u001b[0m \u001b[48;2;255;229;217mde\u001b[0m \u001b[48;2;253;202;181mte\u001b[0m \u001b[48;2;253;202;181mtaire\u001b[0m  - :\n",
      "\u001b[48;2;256;245;240mje\u001b[0m \u001b[48;2;256;245;240mte\u001b[0m \u001b[48;2;255;229;217mpropose\u001b[0m \u001b[48;2;255;229;217mde\u001b[0m \u001b[48;2;253;202;181mte\u001b[0m \u001b[48;2;253;202;181mtaire\u001b[0m  - :\n",
      "\n"
     ]
    },
    {
     "data": {
      "text/plain": [
       "'une y a plusieurs tp sur sas et : :'"
      ]
     },
     "execution_count": 24,
     "metadata": {},
     "output_type": "execute_result"
    }
   ],
   "source": [
    "chatbot.eval()\n",
    "chatbot('je te propose de te taire', attention_method = AttentionViewer)\n",
    "chatbot('je te propose de te taire', attention_method = AttentionViewerOnWords)"
   ]
  }
 ],
 "metadata": {
  "kernelspec": {
   "display_name": "Python 3",
   "language": "python",
   "name": "python3"
  },
  "language_info": {
   "codemirror_mode": {
    "name": "ipython",
    "version": 3
   },
   "file_extension": ".py",
   "mimetype": "text/x-python",
   "name": "python",
   "nbconvert_exporter": "python",
   "pygments_lexer": "ipython3",
   "version": "3.6.5"
  }
 },
 "nbformat": 4,
 "nbformat_minor": 2
}
