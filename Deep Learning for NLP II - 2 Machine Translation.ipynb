{
 "cells": [
  {
   "cell_type": "markdown",
   "metadata": {},
   "source": [
    "<div style=\"font-variant: small-caps; \n",
    "      font-weight: normal; \n",
    "      font-size: 30px; \n",
    "      text-align: center; \n",
    "      padding: 15px; \n",
    "      margin: 10px;\">\n",
    "  Deep Learning for NLP\n",
    "  </div> \n",
    "  \n",
    "<div style=\"font-variant: small-caps; \n",
    "      font-weight: normal; \n",
    "      font-size: 30px; \n",
    "      text-align: center; \n",
    "      padding: 15px; \n",
    "      margin: 10px;\">\n",
    "  Part II - 2 <br><br><br>\n",
    "  Machine Translation\n",
    "  </div> \n",
    "\n",
    "  <div style=\"font-variant: small-caps; \n",
    "      font-weight: normal; \n",
    "      font-size: 20px; \n",
    "      text-align: center; \n",
    "      padding: 15px;\">\n",
    "  </div> \n",
    "\n",
    "  <div style=\" float:right; \n",
    "      font-size: 12px; \n",
    "      line-height: 12px; \n",
    "  padding: 10px 15px 8px;\">\n",
    "  Jean-baptiste AUJOGUE\n",
    "  </div> "
   ]
  },
  {
   "cell_type": "markdown",
   "metadata": {},
   "source": [
    "### Part I\n",
    "\n",
    "1. Word Embedding\n",
    "\n",
    "2. Sentence Classification\n",
    "\n",
    "3. Language Modeling\n",
    "\n",
    "4. Sequence Labelling\n",
    "\n",
    "\n",
    "### Part II\n",
    "\n",
    "1. Text Classification\n",
    "\n",
    "2. <font color=red>**Machine Translation**</font>\n",
    "\n",
    "\n",
    "### Part III\n",
    "\n",
    "8. Abstractive Summarization\n",
    "\n",
    "9. Question Answering\n",
    "\n",
    "10. Chatbot\n",
    "\n",
    "\n",
    "</div>\n",
    "\n",
    "***"
   ]
  },
  {
   "cell_type": "markdown",
   "metadata": {},
   "source": [
    "<a id=\"plan\"></a>"
   ]
  },
  {
   "cell_type": "markdown",
   "metadata": {},
   "source": [
    "| | | | |\n",
    "|------|------|------|------|\n",
    "| **Content** | [Corpus](#corpus) | [Modules](#modules) | [Model](#model) | \n",
    "\n"
   ]
  },
  {
   "cell_type": "markdown",
   "metadata": {},
   "source": [
    "# Packages"
   ]
  },
  {
   "cell_type": "code",
   "execution_count": 1,
   "metadata": {},
   "outputs": [
    {
     "name": "stderr",
     "output_type": "stream",
     "text": [
      "C:\\ProgramData\\Anaconda3\\lib\\site-packages\\gensim\\utils.py:1197: UserWarning: detected Windows; aliasing chunkize to chunkize_serial\n",
      "  warnings.warn(\"detected Windows; aliasing chunkize to chunkize_serial\")\n"
     ]
    },
    {
     "name": "stdout",
     "output_type": "stream",
     "text": [
      "python version : 3.6.5 |Anaconda, Inc.| (default, Mar 29 2018, 13:32:41) [MSC v.1900 64 bit (AMD64)]\n",
      "pytorch version : 1.3.1\n",
      "DL device : cuda\n"
     ]
    }
   ],
   "source": [
    "import sys\n",
    "import warnings\n",
    "from __future__ import unicode_literals, print_function, division\n",
    "import os\n",
    "from io import open\n",
    "import unicodedata\n",
    "import string\n",
    "import time\n",
    "import math\n",
    "import re\n",
    "import random\n",
    "import pickle\n",
    "import copy\n",
    "from unidecode import unidecode\n",
    "import itertools\n",
    "import matplotlib\n",
    "import matplotlib.pyplot as plt\n",
    "\n",
    "\n",
    "# for special math operation\n",
    "from sklearn.preprocessing import normalize\n",
    "\n",
    "\n",
    "# for manipulating data \n",
    "import numpy as np\n",
    "#np.set_printoptions(threshold=np.nan)\n",
    "import pandas as pd\n",
    "import bcolz # see https://bcolz.readthedocs.io/en/latest/intro.html\n",
    "import pickle\n",
    "\n",
    "\n",
    "# for text processing\n",
    "import gensim\n",
    "from gensim.models import KeyedVectors\n",
    "#import spacy\n",
    "import nltk\n",
    "#nltk.download()\n",
    "from nltk.tokenize import sent_tokenize, word_tokenize, RegexpTokenizer\n",
    "from nltk.stem.porter import PorterStemmer\n",
    "\n",
    "\n",
    "# for deep learning\n",
    "import torch\n",
    "import torch.nn as nn\n",
    "from torch.autograd import Variable\n",
    "from torch import optim\n",
    "import torch.nn.functional as F\n",
    "from torch.utils.data import DataLoader\n",
    "device = torch.device(\"cuda\" if torch.cuda.is_available() else \"cpu\")\n",
    "#device = torch.device(\"cpu\")\n",
    "\n",
    "warnings.filterwarnings(\"ignore\")\n",
    "print('python version :', sys.version)\n",
    "print('pytorch version :', torch.__version__)\n",
    "print('DL device :', device)"
   ]
  },
  {
   "cell_type": "code",
   "execution_count": 2,
   "metadata": {},
   "outputs": [],
   "source": [
    "path_to_NLP = 'C:\\\\Users\\\\Jb\\\\Desktop\\\\NLP'"
   ]
  },
  {
   "cell_type": "code",
   "execution_count": 3,
   "metadata": {},
   "outputs": [],
   "source": [
    "sys.path.append(path_to_NLP + '\\\\libDL4NLP')"
   ]
  },
  {
   "cell_type": "markdown",
   "metadata": {},
   "source": [
    "<a id=\"corpus\"></a>"
   ]
  },
  {
   "cell_type": "markdown",
   "metadata": {},
   "source": [
    "# Corpus\n",
    "\n",
    "[Back to top](#plan)\n",
    "\n",
    "Le texte est importé et mis sous forme de liste, où chaque élément représente un texte présenté sous forme d'une liste de mots.<br> Le corpus est donc une fois importé sous le forme :<br>\n",
    "\n",
    "- corpus = [text]<br>\n",
    "- text   = [word]<br>\n",
    "- word   = str<br>"
   ]
  },
  {
   "cell_type": "code",
   "execution_count": 4,
   "metadata": {},
   "outputs": [],
   "source": [
    "# --------------------------- Normalisation -------------------------------\n",
    "def normalizeString(s):\n",
    "    '''Remove rare symbols from a string'''\n",
    "    def unicodeToAscii(s):\n",
    "        \"\"\"Turn a Unicode string to plain ASCII, thanks to http://stackoverflow.com/a/518232/2809427\"\"\"\n",
    "        return ''.join(c for c in unicodedata.normalize('NFD', s) if unicodedata.category(c) != 'Mn')\n",
    " \n",
    "    s = unicodeToAscii(s.lower().strip())\n",
    "    #s = re.sub(r\"[^a-zA-Z0-9?&\\%\\-\\_]+\", r\" \", s) \n",
    "    s = re.sub(\"\\(\", r\" ( \", s)\n",
    "    s = re.sub(\"\\)\", r\" ) \", s)\n",
    "    s = re.sub(r\"\\.\", r\" . \", s)\n",
    "    s = re.sub(r\",\", r\" , \", s)\n",
    "    s = re.sub(r\"!\", r\" ! \", s)\n",
    "    s = re.sub(r\":\", r\" : \", s)\n",
    "    s = re.sub(r\"-\", r\" - \", s)\n",
    "    s = re.sub(r\"'\", r\" ' \", s)\n",
    "    s = re.sub(r\";\", r\" ; \", s)\n",
    "    s = re.sub(r' +', r' ', s).strip()\n",
    "    return s \n",
    "\n",
    "\n",
    "\n",
    "#--------------------- import des dialogues --------------------\n",
    "def importDialogues(path, limit = None):\n",
    "    '''Import a textfile containing dialogues and returns a list, each element \n",
    "       corresponding to a dialogue and also being under the form of a list, with \n",
    "       each element being a list of two elements : an element giving a user \n",
    "       utterance and another element giving the bot response. Both elements are \n",
    "       normalized strings.\n",
    "       Ex. The dialogue :\n",
    "       \n",
    "               hi    hello what can i help you with today\n",
    "               can you book a table    i m on it\n",
    "               \n",
    "       now becomes :\n",
    "       \n",
    "              [['hi', 'hello what can i help you with today'], \n",
    "               ['can you book a table', 'i m on it']]\n",
    "               \n",
    "       Lines corresponding to user utterance with no bot response are discarted.\n",
    "    '''\n",
    "    def cleanS(s):\n",
    "        cleans = normalizeString(s)\n",
    "        cleans = cleans.replace('?', ' ? ').strip()\n",
    "        return cleans\n",
    "    \n",
    "    dialogues = []\n",
    "    dialogues_import = open(path, encoding='utf-8').read().strip().split('\\n\\n')\n",
    "    for i, d in enumerate(dialogues_import):\n",
    "        dialogue = []\n",
    "        lines = d.split('\\n')\n",
    "        for l in lines:\n",
    "            if len(l.split('\\t')) == 2 :\n",
    "                pair = [cleanS(s) for s in l.split('\\t')]\n",
    "                dialogue.append(pair)\n",
    "            elif len(l.split('\\t')) == 3 :\n",
    "                pair = [cleanS(s) for s in l.split('\\t')[:2]]\n",
    "                dialogue.append(pair)\n",
    "        dialogues.append(dialogue)\n",
    "        if limit is not None and i == limit -1 : break\n",
    "    return dialogues\n",
    "\n",
    "\n",
    "def getUniqueQAs(dialogues) :\n",
    "    uniq = []\n",
    "    for qa in dialogues :\n",
    "        if qa not in uniq : uniq.append(qa)\n",
    "    return uniq\n",
    "\n",
    "\n",
    "\n",
    "#------------------ Dictionnaire des mots variables -----------------------------\n",
    "def motVar(file):\n",
    "    '''Applies to the Master's program dataset.\n",
    "       Import the collection of pairs token-content for a set of variable words.\n",
    "    '''\n",
    "    lines = open(file, encoding='utf-8').read().strip().split('\\n')\n",
    "    motsVar = {}\n",
    "    for l in lines :\n",
    "        cle, valeur = l.split('\\t')\n",
    "        motsVar[cle.lower()] = valeur\n",
    "    return motsVar"
   ]
  },
  {
   "cell_type": "code",
   "execution_count": 5,
   "metadata": {},
   "outputs": [],
   "source": [
    "motsVar    = motVar(path_to_NLP + '\\\\data\\\\M2DS\\\\M2DS_2019_07\\\\chatbot-M2-DS-Variables.txt')\n",
    "dialogues  = importDialogues(path_to_NLP + '\\\\data\\\\M2DS\\\\M2DS_2019_10\\\\ChatbotDS_P_Train.tsv')\n",
    "dialogues_tst = importDialogues(path_to_NLP + '\\\\data\\\\M2DS\\\\M2DS_2019_10\\\\ChatbotDS_P_Test.tsv')"
   ]
  },
  {
   "cell_type": "code",
   "execution_count": 6,
   "metadata": {},
   "outputs": [
    {
     "name": "stdout",
     "output_type": "stream",
     "text": [
      "200224 20561\n"
     ]
    }
   ],
   "source": [
    "qa_trn = [qa for dialogue in dialogues for qa in dialogue] # getUniqueQAs(\n",
    "qa_tst = [qa for dialogue in dialogues_tst for qa in dialogue] # getUniqueQAs(\n",
    "\n",
    "print(len(qa_trn), len(qa_tst))"
   ]
  },
  {
   "cell_type": "code",
   "execution_count": 7,
   "metadata": {
    "scrolled": true
   },
   "outputs": [
    {
     "name": "stdout",
     "output_type": "stream",
     "text": [
      "il vaut mieux suivre quel parcours  ? \t les deux parcours sont equivalents , c ' est a vous de faire un choix .\n",
      "quand est ce que commence les cours  ? \t la rentree est le daterentree\n",
      "comment je prend contact avec la scolarite  ? \t les contacts de la scolarite sont accessibles sur : sitescolarite\n",
      "est ce que il y a des cours en anglais  ? \t plusieurs supports de cours sont en anglais\n",
      "tous les cours sont obligatoires  ? \t tous les cours sont obligatoires , il n ' existe pas d ' options .\n",
      "merci pour les renseignements \t je vous en prie\n",
      "peux tu m ' aider  ? \t je suis la pour vous renseigner sur le master 2 data science .\n",
      "le cours de data visualisation est - il en ligne  ? \t vous devriez prendre contact avec l ' enseignant de l ' ue et lui demander\n",
      "j ' ai envie de faire de la data science \t alors vous devriez songer a candidater a ce master !\n",
      "il y a des livres a lire en statistique  ? \t vous devriez prendre contact avec l ' enseignant de l ' ue et lui demander\n",
      "il y a combien de candidats  ? \t il y a plus de nbrcandidats candidats chaque annee , la selection est rude !\n",
      "combien de places sont ouvertes  ? \t souhaitez - vous suivre le parcours informatique ou mathematiques  ?\n",
      "informatique \t etes - vous un etudiant inscrit en france  ?\n",
      "non \t il y a nbreplaces_hors_france_informatique places disponibles pour les etudiants hors france en parcours informatique .\n",
      "comment je peux payer  ? \t vous pouvez payer par carte , par cheque bancaire , par virement ou en espece .\n",
      "avez - vous une maquette detaillee de ce master  ? \t les details de la formation est disponible sur la page du master parcours informatique : site_informatique\n",
      "comment ca va  ? \t je vais bien merci , en quoi puis - je vous aider  ?\n"
     ]
    }
   ],
   "source": [
    "for qa in dialogues[0] : print(qa[0], '\\t', qa[1])"
   ]
  },
  {
   "cell_type": "markdown",
   "metadata": {},
   "source": [
    "<a id=\"modules\"></a>"
   ]
  },
  {
   "cell_type": "markdown",
   "metadata": {},
   "source": [
    "# 1 Modules\n",
    "\n",
    "### 1.1 Word Embedding module\n",
    "\n",
    "[Back to top](#plan)\n",
    "\n",
    "All details on Word Embedding modules and their pre-training are found in **Part I - 1**. We consider here a FastText model trained following the Skip-Gram training objective."
   ]
  },
  {
   "cell_type": "code",
   "execution_count": 8,
   "metadata": {},
   "outputs": [],
   "source": [
    "from libDL4NLP.models.Word_Embedding import Word2Vec as myWord2Vec\n",
    "from libDL4NLP.models.Word_Embedding import Word2VecConnector\n",
    "from libDL4NLP.utils.Lang import Lang"
   ]
  },
  {
   "cell_type": "code",
   "execution_count": 9,
   "metadata": {},
   "outputs": [],
   "source": [
    "from gensim.models.fasttext import FastText\n",
    "from gensim.test.utils import datapath, get_tmpfile"
   ]
  },
  {
   "cell_type": "markdown",
   "metadata": {},
   "source": [
    "**Option 1** : Load pretrained"
   ]
  },
  {
   "cell_type": "code",
   "execution_count": null,
   "metadata": {},
   "outputs": [],
   "source": [
    "# load\n",
    "#word2vec_in  = torch.load(path_to_NLP + '\\\\saves\\\\models\\\\DL4NLP_II2_w2v_in_M2DS.pt')\n",
    "#word2vec_out = torch.load(path_to_NLP + '\\\\saves\\\\models\\\\DL4NLP_II2_w2v_out_M2DS.pt')"
   ]
  },
  {
   "cell_type": "markdown",
   "metadata": {},
   "source": [
    "**Option 2** : Train new model"
   ]
  },
  {
   "cell_type": "code",
   "execution_count": 10,
   "metadata": {},
   "outputs": [],
   "source": [
    "corpus_in  = [['SOS'] + [w for w in qa[0].split(' ')] + ['EOS'] for qa in qa_trn]\n",
    "corpus_out = [['SOS'] + [w for w in qa[1].split(' ')] + ['EOS'] for qa in qa_trn]"
   ]
  },
  {
   "cell_type": "code",
   "execution_count": 53,
   "metadata": {},
   "outputs": [],
   "source": [
    "def prepareWord2vec(corpus, epochs) :\n",
    "    fastText_word2vec = FastText(size = 75, \n",
    "                                 window = 5, \n",
    "                                 min_count = 1, \n",
    "                                 negative = 20,\n",
    "                                 sg = 1)\n",
    "    fastText_word2vec.build_vocab(corpus)\n",
    "    print(len(fastText_word2vec.wv.vocab))\n",
    "    fastText_word2vec.train(sentences = corpus, \n",
    "                            epochs = epochs,\n",
    "                            total_examples = fastText_word2vec.corpus_count)\n",
    "    word2vec = Word2VecConnector(fastText_word2vec)\n",
    "    return word2vec"
   ]
  },
  {
   "cell_type": "code",
   "execution_count": 54,
   "metadata": {},
   "outputs": [
    {
     "name": "stdout",
     "output_type": "stream",
     "text": [
      "782\n",
      "896\n"
     ]
    }
   ],
   "source": [
    "word2vec_in  = prepareWord2vec(corpus_in, epochs = 20)\n",
    "word2vec_out = prepareWord2vec(corpus_out, epochs = 20)"
   ]
  },
  {
   "cell_type": "code",
   "execution_count": 55,
   "metadata": {},
   "outputs": [
    {
     "data": {
      "text/plain": [
       "[('bonjour', 0.9804752469062805),\n",
       " ('mal', 0.8117103576660156),\n",
       " ('bien', 0.6764619946479797),\n",
       " ('principal', 0.672505259513855),\n",
       " ('principalement', 0.5881912112236023),\n",
       " ('english', 0.578591525554657),\n",
       " ('handle', 0.5670300722122192),\n",
       " ('coucou', 0.5658980011940002),\n",
       " ('ok', 0.5612411499023438),\n",
       " ('speak', 0.5596966743469238)]"
      ]
     },
     "execution_count": 55,
     "metadata": {},
     "output_type": "execute_result"
    }
   ],
   "source": [
    "word2vec_in.word2vec.most_similar('bonjou')"
   ]
  },
  {
   "cell_type": "code",
   "execution_count": 56,
   "metadata": {},
   "outputs": [
    {
     "data": {
      "text/plain": [
       "[('bonjour', 0.968519926071167),\n",
       " ('accord', 0.7767391204833984),\n",
       " ('comment', 0.6192842721939087),\n",
       " ('aider', 0.5911822319030762),\n",
       " ('accordez', 0.5513397455215454),\n",
       " ('vais', 0.4964368939399719),\n",
       " ('puis', 0.4900757372379303),\n",
       " ('gardez', 0.48046615719795227),\n",
       " ('merci', 0.4791063368320465),\n",
       " ('test', 0.47400200366973877)]"
      ]
     },
     "execution_count": 56,
     "metadata": {},
     "output_type": "execute_result"
    }
   ],
   "source": [
    "word2vec_out.word2vec.most_similar('bonjou')"
   ]
  },
  {
   "cell_type": "code",
   "execution_count": 58,
   "metadata": {},
   "outputs": [],
   "source": [
    "# save\n",
    "#torch.save(word2vec_in, path_to_NLP + '\\\\saves\\\\models\\\\DL4NLP_II2_w2v_in_M2DS.pt')\n",
    "#torch.save(word2vec_out, path_to_NLP + '\\\\saves\\\\models\\\\DL4NLP_II2_w2v_out_M2DS.pt')"
   ]
  },
  {
   "cell_type": "markdown",
   "metadata": {},
   "source": [
    "### 1.2 Contextualization module\n",
    "\n",
    "[Back to top](#plan)\n",
    "\n",
    "This module consists of a bi-directional _Gated Recurrent Unit_ (GRU) that supports packed sentences :"
   ]
  },
  {
   "cell_type": "code",
   "execution_count": 15,
   "metadata": {},
   "outputs": [],
   "source": [
    "from libDL4NLP.modules import RecurrentEncoder"
   ]
  },
  {
   "cell_type": "markdown",
   "metadata": {},
   "source": [
    "### 1.3 Attention module\n",
    "\n",
    "[Back to top](#plan)\n",
    "\n",
    "<a id=\"attention\"></a>\n",
    "\n",
    "We use here a classical Attention Module :"
   ]
  },
  {
   "cell_type": "code",
   "execution_count": 16,
   "metadata": {},
   "outputs": [],
   "source": [
    "from libDL4NLP.modules import Attention"
   ]
  },
  {
   "cell_type": "markdown",
   "metadata": {},
   "source": [
    "### 1.4 Decoder module\n",
    "\n",
    "[Back to top](#plan)\n",
    "\n",
    "<a id=\"decoder\"></a>\n",
    "\n",
    "#### 1.4.1 Classical Decoder Module"
   ]
  },
  {
   "cell_type": "code",
   "execution_count": 17,
   "metadata": {},
   "outputs": [],
   "source": [
    "#from libDL4NLP.modules import Decoder"
   ]
  },
  {
   "cell_type": "code",
   "execution_count": 17,
   "metadata": {},
   "outputs": [],
   "source": [
    "class Decoder(nn.Module):\n",
    "    '''Transforms a vector into a sequence of words'''\n",
    "    def __init__(self, word2vec, hidden_dim, \n",
    "                 n_layers = 1,\n",
    "                 dropout = 0.1,\n",
    "                 bound = 25\n",
    "                ):\n",
    "        super(Decoder, self).__init__()\n",
    "        # relevant quantities\n",
    "        self.hidden_dim = hidden_dim\n",
    "        self.n_layers = n_layers\n",
    "        self.bound = bound\n",
    "        # modules\n",
    "        self.word2vec = word2vec\n",
    "        self.gru = nn.GRU(word2vec.output_dim, \n",
    "                          hidden_dim, \n",
    "                          n_layers, \n",
    "                          dropout = dropout, \n",
    "                          batch_first = True)\n",
    "        self.out = nn.Linear(hidden_dim, word2vec.lang.n_words)\n",
    "        self.act = F.log_softmax\n",
    "        self.dropout = nn.Dropout(dropout)\n",
    "        \n",
    "    def generateWord(self, hidden, embeddings, word_index):\n",
    "        # update hidden state\n",
    "        embedding = self.word2vec.embedding(word_index) # size (batch_size, 1, embedding_dim)\n",
    "        embedding = self.dropout(embedding)\n",
    "        _, hidden = self.gru(embedding, hidden)         # size (n_layers, batch_size, embedding_dim)\n",
    "        # generate next word\n",
    "        log_prob = self.out(hidden[-1])                 # size (batch_size, lang_size)\n",
    "        log_prob = self.act(log_prob, dim = 1)          # size (batch_size, lang_size)\n",
    "        return log_prob, hidden\n",
    "    \n",
    "    def forward(self, hidden, embeddings = None, device = None) :\n",
    "        answer = []\n",
    "        EOS_token  = self.word2vec.lang.getIndex('EOS')\n",
    "        word = self.word2vec.lang.getIndex('SOS')\n",
    "        word = Variable(torch.LongTensor([[word]])) # size (1)\n",
    "        hidden = hidden[-self.n_layers:]\n",
    "        for t in range(self.bound) :\n",
    "            # compute next word\n",
    "            if device is not None : word = word.to(device) # size (1)\n",
    "            log_prob, hidden = self.generateWord(hidden, embeddings, word)\n",
    "            word = log_prob.topk(1, dim = 1)[1].view(1, 1)\n",
    "            # add to output\n",
    "            if word.item() == EOS_token : break\n",
    "            else : answer.append(word.item())\n",
    "        return answer"
   ]
  },
  {
   "cell_type": "markdown",
   "metadata": {},
   "source": [
    "#### 1.4.2 Attention Decoder Module"
   ]
  },
  {
   "cell_type": "code",
   "execution_count": 19,
   "metadata": {},
   "outputs": [],
   "source": [
    "#from libDL4NLP.modules import AttnDecoder"
   ]
  },
  {
   "cell_type": "code",
   "execution_count": 18,
   "metadata": {},
   "outputs": [],
   "source": [
    "class AttnDecoder(nn.Module):\n",
    "    '''Transforms a vector into a sequence of words'''\n",
    "    def __init__(self, word2vec, attention_dim, hidden_dim,\n",
    "                 n_layers = 1,\n",
    "                 dropout = 0.1,\n",
    "                 bound = 25\n",
    "                ):\n",
    "        super(AttnDecoder, self).__init__()\n",
    "        # relevant quantities\n",
    "        self.hidden_dim = hidden_dim\n",
    "        self.n_layers = n_layers\n",
    "        self.bound = bound\n",
    "        # modules\n",
    "        self.word2vec = word2vec\n",
    "        self.gru = nn.GRU(word2vec.output_dim, \n",
    "                          hidden_dim, \n",
    "                          n_layers, \n",
    "                          dropout = dropout, \n",
    "                          batch_first = True)\n",
    "        self.attn = Attention(attention_dim, hidden_dim, dropout = dropout)\n",
    "        self.out = nn.Linear(attention_dim + hidden_dim, word2vec.lang.n_words)\n",
    "        self.act = F.log_softmax\n",
    "        self.dropout = nn.Dropout(dropout)\n",
    "        \n",
    "    def generateWord(self, hidden, embeddings, word_index):\n",
    "        # update hidden state\n",
    "        embedding = self.word2vec.embedding(word_index) # size (batch_size, 1, embedding_dim)\n",
    "        embedding = self.dropout(embedding)\n",
    "        _, hidden = self.gru(embedding, hidden)         # size (n_layers, batch_size, embedding_dim)\n",
    "        # merge with attention\n",
    "        query = hidden[-1].unsqueeze(1)                 # size (batch_size, 1, embedding_dim)\n",
    "        attn, weights = self.attn(embeddings, query)    # size (batch_size, 1, embedding_dim)\n",
    "        merge = torch.cat([hidden[-1], attn.squeeze(1)], dim = 1) \n",
    "        merge = self.dropout(merge)                     # size (batch_size, embedding_dim + hidden_dim)\n",
    "        # generate next word\n",
    "        log_prob = self.out(merge)                      # size (batch_size, lang_size)\n",
    "        log_prob = self.act(log_prob, dim = 1)          # size (batch_size, lang_size)\n",
    "        return log_prob, hidden, weights\n",
    "    \n",
    "    def forward(self, hidden, embeddings, device = None) :\n",
    "        answer  = []\n",
    "        EOS_token  = self.word2vec.lang.getIndex('EOS')\n",
    "        word = self.word2vec.lang.getIndex('SOS')\n",
    "        word = Variable(torch.LongTensor([[word]])) # size (1)\n",
    "        hidden = hidden[-self.n_layers:]\n",
    "        for t in range(self.bound) :\n",
    "            # compute next word\n",
    "            if device is not None : word = word.to(device) # size (1)\n",
    "            log_prob, hidden, atn = self.generateWord(hidden, embeddings, word)\n",
    "            word = log_prob.topk(1, dim = 1)[1].view(1, 1)\n",
    "            # add to output\n",
    "            if word.item() == EOS_token : break\n",
    "            else : answer.append(word.item())\n",
    "            # cumulate attention weights\n",
    "            if t == 0 : weights = atn\n",
    "            else      : weights = torch.cat((weights, atn), dim = 1) # size(1, output_length, input_length)\n",
    "        return answer, weights"
   ]
  },
  {
   "cell_type": "markdown",
   "metadata": {},
   "source": [
    "#### Visualisation of attention\n",
    "\n",
    "Taken from [this page](https://matplotlib.org/3.1.1/gallery/images_contours_and_fields/image_annotated_heatmap.html#sphx-glr-gallery-images-contours-and-fields-image-annotated-heatmap-py)"
   ]
  },
  {
   "cell_type": "code",
   "execution_count": 430,
   "metadata": {},
   "outputs": [],
   "source": [
    "from libDL4NLP.utils import heatmap, annotate_heatmap"
   ]
  },
  {
   "cell_type": "code",
   "execution_count": 19,
   "metadata": {},
   "outputs": [],
   "source": [
    "\n",
    "# single attention head over a sequence of words\n",
    "def heatmap(data, row_labels, col_labels, ax = None, cbar_kw = {}, cbarlabel = \"\", **kwargs):\n",
    "    if not ax: ax = plt.gca()\n",
    "    # Plot the heatmap\n",
    "    im = ax.imshow(data, **kwargs)\n",
    "    # We want to show all ticks...\n",
    "    ax.set_xticks(np.arange(data.shape[1]))\n",
    "    ax.set_yticks(np.arange(data.shape[0]))\n",
    "    # ... and label them with the respective list entries.\n",
    "    ax.set_xticklabels(col_labels)\n",
    "    ax.set_yticklabels(row_labels)\n",
    "    # Let the horizontal axes labeling appear on top.\n",
    "    ax.tick_params(top=True, bottom=False, labeltop=True, labelbottom=False)\n",
    "    # Rotate the tick labels and set their alignment.\n",
    "    plt.setp(ax.get_xticklabels(), rotation=-30, ha=\"right\",\n",
    "             rotation_mode=\"anchor\")\n",
    "    # Turn spines off and create white grid.\n",
    "    for edge, spine in ax.spines.items():\n",
    "        spine.set_visible(False)\n",
    "\n",
    "    ax.set_xticks(np.arange(data.shape[1]+1)-.5, minor=True)\n",
    "    ax.set_yticks(np.arange(data.shape[0]+1)-.5, minor=True)\n",
    "    ax.grid(which=\"minor\", color=\"w\", linestyle='-', linewidth=3)\n",
    "    ax.tick_params(which=\"minor\", bottom=False, left=False)\n",
    "    return im\n",
    "\n",
    "def annotate_heatmap(im, data = None, valfmt = \"{x:.2f}\", textcolors = [\"black\", \"white\"], threshold = None, **textkw):\n",
    "    if not isinstance(data, (list, np.ndarray)):\n",
    "        data = im.get_array()\n",
    "    # Normalize the threshold to the images color range.\n",
    "    if threshold is not None:\n",
    "        threshold = im.norm(threshold)\n",
    "    else:\n",
    "        threshold = im.norm(data.max())/2.\n",
    "    # Set default alignment to center, but allow it to be\n",
    "    # overwritten by textkw.\n",
    "    kw = dict(horizontalalignment=\"center\",\n",
    "              verticalalignment=\"center\")\n",
    "    kw.update(textkw)\n",
    "    # Get the formatter in case a string is supplied\n",
    "    if isinstance(valfmt, str):\n",
    "        valfmt = matplotlib.ticker.StrMethodFormatter(valfmt)\n",
    "    # Loop over the data and create a `Text` for each \"pixel\".\n",
    "    # Change the text's color depending on the data.\n",
    "    texts = []\n",
    "    for i in range(data.shape[0]):\n",
    "        for j in range(data.shape[1]):\n",
    "            kw.update(color=textcolors[int(im.norm(data[i, j]) > threshold)])\n",
    "            text = im.axes.text(j, i, valfmt(data[i, j], None), **kw)\n",
    "            texts.append(text)\n",
    "    return texts"
   ]
  },
  {
   "cell_type": "markdown",
   "metadata": {},
   "source": [
    "<a id=\"model\"></a>"
   ]
  },
  {
   "cell_type": "markdown",
   "metadata": {},
   "source": [
    "# 2 Machine Translation Model\n",
    "\n",
    "[Back to top](#plan)\n"
   ]
  },
  {
   "cell_type": "code",
   "execution_count": 96,
   "metadata": {},
   "outputs": [],
   "source": [
    "class EncoderDecoder(nn.Module) :\n",
    "    def __init__(self, device, tokenizer, word2vec_in, word2vec_out, \n",
    "                 hidden_dim_in = 50,\n",
    "                 hidden_dim_out = 50,\n",
    "                 n_layers_in = 1,\n",
    "                 n_layers_out = 1,\n",
    "                 bound = 25,\n",
    "                 dropout = 0,\n",
    "                 decoder_warm_start = True,\n",
    "                 decoder_attention = True,\n",
    "                 optimizer = optim.SGD\n",
    "                 ):\n",
    "        super(EncoderDecoder, self).__init__()\n",
    "        #relevant quantities\n",
    "        self.decoder_warm_start = decoder_warm_start\n",
    "        \n",
    "        # modules\n",
    "        self.tokenizer    = tokenizer\n",
    "        self.word2vec_in  = word2vec_in\n",
    "        self.word2vec_out = word2vec_out\n",
    "        self.context      = RecurrentEncoder(word2vec_in.output_dim, hidden_dim_in, n_layers_in, dropout, bidirectional = True)\n",
    "        if decoder_attention : self.decoder = AttnDecoder(word2vec_out, hidden_dim_in, hidden_dim_out, n_layers_out, dropout, bound)\n",
    "        else :                 self.decoder = Decoder(word2vec_out, hidden_dim_out, n_layers_out, dropout, bound)\n",
    "        \n",
    "        # optimizer\n",
    "        self.ignore_index_in  = self.word2vec_in.lang.getIndex('PADDING_WORD')\n",
    "        self.ignore_index_out = self.word2vec_out.lang.getIndex('PADDING_WORD')\n",
    "        self.criterion = nn.NLLLoss(size_average = False, ignore_index = self.ignore_index_out)\n",
    "        self.optimizer = optimizer\n",
    "        \n",
    "        # load to device\n",
    "        self.device = device\n",
    "        self.to(device)\n",
    "        \n",
    "    def nbParametres(self) :\n",
    "        return sum([p.data.nelement() for p in self.parameters() if p.requires_grad == True])\n",
    "    \n",
    "    def showAttention(self, words_in, words_out, attn) :\n",
    "        attn = np.array(attn[0].transpose(0, 1).data.cpu().numpy()) # size (input_length, output_length)\n",
    "        fig, ax  = plt.subplots()\n",
    "        im       = heatmap(attn,  words_in, words_out, ax=ax, cmap=\"YlGn\", cbarlabel=\"harvest [t/year]\")\n",
    "        texts    = annotate_heatmap(im, valfmt=\"{x:.2f}\")\n",
    "        fig.tight_layout()\n",
    "        plt.show()\n",
    "        return\n",
    "    \n",
    "    def forward(self, sentence, show_attention = False):\n",
    "        # encode sentence\n",
    "        words = self.tokenizer(sentence)\n",
    "        words = [w for w in words if self.word2vec_in.lang.getIndex(w) is not None]\n",
    "        indices = [self.word2vec_in.lang.getIndex(w) for w in words]\n",
    "        embeddings = Variable(torch.LongTensor([indices])).to(self.device)\n",
    "        embeddings = self.word2vec_in.embedding(embeddings)\n",
    "        #embeddings = self.word2vec_in(words, self.device)\n",
    "        embeddings, hidden  = self.context(embeddings)\n",
    "        # prepare for decoding\n",
    "        if self.decoder_warm_start :\n",
    "            if self.context.bidirectional :\n",
    "                hidden = hidden.view(self.context.n_layers, 2, -1, self.context.hidden_dim)\n",
    "                hidden = torch.sum(hidden, dim = 1) # size (n_layers, batch_size, hidden_dim)\n",
    "            hidden = hidden[-self.decoder.n_layers:]\n",
    "        else : hidden = None    \n",
    "        ## compute answer\n",
    "        indices, atn = self.decoder(hidden, embeddings, self.device)\n",
    "        words_out = [self.word2vec_out.lang.index2word[i] for i in indices]\n",
    "        answer = ' '.join(words_out)\n",
    "        if show_attention : self.showAttention(words, words_out, atn)\n",
    "        return answer\n",
    "\n",
    "    def generatePackedSentences(self, sentences, batch_size = 32) : \n",
    "        sentences.sort(key = lambda s: len(s[1]), reverse = True)\n",
    "        packed_data = []\n",
    "        for i in range(0, len(sentences), batch_size) :\n",
    "            # prepare input and target pack\n",
    "            pack = sentences[i:i + batch_size]\n",
    "            pack.sort(key = lambda s: len(self.tokenizer(s[0])), reverse = True)\n",
    "            pack0 = [[self.word2vec_in.lang.getIndex(w) for w in self.tokenizer(qa[0])] for qa in pack]\n",
    "            pack0 = [[w for w in words if w is not None] for words in pack0]\n",
    "            pack1 = [[self.word2vec_out.lang.getIndex(w) for w in self.tokenizer(qa[1]) + ['EOS']] for qa in pack]\n",
    "            pack1 = [[w for w in words if w is not None] for words in pack1]\n",
    "            lengths0 = torch.tensor([len(p) for p in pack0])           # size (batch_size) \n",
    "            lengths1 = torch.tensor([len(p) for p in pack1])           # size (batch_size) \n",
    "            # padd packs\n",
    "            pack0 = list(itertools.zip_longest(*pack0, fillvalue = self.ignore_index_in))\n",
    "            pack0 = Variable(torch.LongTensor(pack0).transpose(0, 1)) # size (batch_size, max_length0) \n",
    "            pack1 = list(itertools.zip_longest(*pack1, fillvalue = self.ignore_index_out))\n",
    "            pack1 = Variable(torch.LongTensor(pack1))       # WARNING : size (max_length1, batch_size) \n",
    "            packed_data.append([pack0, lengths0, pack1, lengths1])\n",
    "        return packed_data\n",
    "    \n",
    "    def compute_accuracy(self, sentences, batch_size = 32) :\n",
    "        batches = self.generatePackedSentences(sentences, batch_size)\n",
    "        score = 0\n",
    "        for batch in batches :\n",
    "            input, input_l, target, target_l = batch\n",
    "            # encode sentences\n",
    "            embeddings = self.word2vec_in.embedding(input.to(self.device))\n",
    "            embeddings, hidden = self.context(embeddings, lengths = input_l.to(self.device)) # size (n_layers * num_directions, batch_size, hidden_dim)\n",
    "            # prepare for decoding\n",
    "            if self.decoder_warm_start :\n",
    "                if self.context.bidirectional :\n",
    "                    hidden = hidden.view(self.context.n_layers, 2, -1, self.context.hidden_dim)\n",
    "                    hidden = torch.sum(hidden, dim = 1) # size (n_layers, batch_size, hidden_dim)\n",
    "                hidden = hidden[-self.decoder.n_layers:]\n",
    "            else : hidden = None  \n",
    "            # compute answers\n",
    "            answers = torch.zeros(target.size())\n",
    "            word_index = self.word2vec_out.lang.getIndex('SOS')\n",
    "            word_index = Variable(torch.LongTensor([word_index])) # size (1)\n",
    "            word_index = word_index.expand(target.size(1))        # size (batch_size)\n",
    "            for t in range(target.size(0)) :\n",
    "                # compute word probs\n",
    "                log_prob, hidden, atn = self.decoder.generateWord(hidden, embeddings, word_index.unsqueeze(1).to(self.device))\n",
    "                word_index = log_prob.topk(1, dim = 1)[1].view(-1) # size (batch_size)\n",
    "                answers[t] = word_index\n",
    "            # update score\n",
    "            score += sum([sum(answers[i, :l].data == target[i, :l].data) == l for i, l in enumerate(target_l.data.cpu().tolist())]).item()\n",
    "        return score * 100 / len(sentences)\n",
    "    \n",
    "    def fit(self, batches, iters = None, epochs = None, tf_ratio = 0, lr = 0.025, random_state = 42,\n",
    "              print_every = 10, compute_accuracy = True):\n",
    "        \"\"\"Performs training over a given dataset and along a specified amount of loops\"\"\"\n",
    "        def asMinutes(s):\n",
    "            m = math.floor(s / 60)\n",
    "            s -= m * 60\n",
    "            return '%dm %ds' % (m, s)\n",
    "\n",
    "        def timeSince(since, percent):\n",
    "            now = time.time()\n",
    "            s = now - since\n",
    "            rs = s/percent - s\n",
    "            return '%s (- %s)' % (asMinutes(s), asMinutes(rs))\n",
    "        \n",
    "        def computeSuccess(log_probs, targets) :\n",
    "            success = sum([self.ignore_index_out != targets[i].item() == log_probs[i].topk(1)[1].item() \\\n",
    "                           for i in range(targets.size(0))])\n",
    "            return success\n",
    "        \n",
    "        def computeLogProbs(batch, tf_ratio = 0, compute_accuracy = True) :\n",
    "            loss = 0\n",
    "            success = 0\n",
    "            forcing = (random.random() < tf_ratio)\n",
    "            input, input_l, target, target_l = batch\n",
    "            # encode sentences\n",
    "            embeddings = self.word2vec_in.embedding(input.to(self.device))\n",
    "            embeddings, hidden  = self.context(embeddings, lengths = input_l.to(self.device)) # size (n_layers * num_directions, batch_size, hidden_dim)\n",
    "            # prepare for decoding\n",
    "            if self.decoder_warm_start :\n",
    "                if self.context.bidirectional :\n",
    "                    hidden = hidden.view(self.context.n_layers, 2, -1, self.context.hidden_dim)\n",
    "                    hidden = torch.sum(hidden, dim = 1) # size (n_layers, batch_size, hidden_dim)\n",
    "                hidden = hidden[-self.decoder.n_layers:]\n",
    "            else : hidden = None  \n",
    "            # compute answers\n",
    "            word_index = self.word2vec_out.lang.getIndex('SOS')\n",
    "            word_index = Variable(torch.LongTensor([word_index])) # size (1)\n",
    "            word_index = word_index.expand(target.size(1))        # size (batch_size)\n",
    "            for t in range(target.size(0)) :\n",
    "                # compute word probs\n",
    "                log_prob, hidden, atn = self.decoder.generateWord(hidden, embeddings, word_index.unsqueeze(1).to(self.device))\n",
    "                # compute loss\n",
    "                loss += self.criterion(log_prob, target[t])\n",
    "                if compute_accuracy : success += computeSuccess(log_prob, target[t])\n",
    "                # apply teacher forcing\n",
    "                if forcing : word_index = target[t]                             # size (batch_size) \n",
    "                else       : word_index = log_prob.topk(1, dim = 1)[1].view(-1) # size (batch_size)\n",
    "            return loss, success       \n",
    "\n",
    "        def printScores(start, iter, iters, tot_loss, tot_loss_words, print_every, compute_accuracy) :\n",
    "            avg_loss = tot_loss / print_every\n",
    "            avg_loss_words = tot_loss_words / print_every\n",
    "            if compute_accuracy : print(timeSince(start, iter / iters) + ' ({} {}%) loss : {:.3f}  accuracy : {:.1f} %'.format(iter, int(iter / iters * 100), avg_loss, avg_loss_words))\n",
    "            else                : print(timeSince(start, iter / iters) + ' ({} {}%) loss : {:.3f}                     '.format(iter, int(iter / iters * 100), avg_loss))\n",
    "            return 0, 0\n",
    "\n",
    "        def trainLoop(batch, optimizer, tf_ratio = 0, compute_accuracy = True):\n",
    "            \"\"\"Performs a training loop, with forward pass, backward pass and weight update.\"\"\"\n",
    "            optimizer.zero_grad()\n",
    "            self.zero_grad()\n",
    "            total = torch.sum(batch[-1]).item()\n",
    "            loss, success = computeLogProbs(batch, tf_ratio, compute_accuracy)\n",
    "            loss.backward()\n",
    "            optimizer.step()\n",
    "            return float(loss.item() / total), float(success * 100 / total)\n",
    "        \n",
    "        # --- main ---\n",
    "        self.train()\n",
    "        np.random.seed(random_state)\n",
    "        start = time.time()\n",
    "        optimizer = self.optimizer([param for param in self.parameters() if param.requires_grad == True], lr = lr)\n",
    "        tot_loss = 0  \n",
    "        tot_acc  = 0\n",
    "        if epochs is None :\n",
    "            for iter in range(1, iters + 1):\n",
    "                batch = random.choice(batches)\n",
    "                loss, acc = trainLoop(batch, optimizer, tf_ratio, compute_accuracy)\n",
    "                tot_loss += loss\n",
    "                tot_acc += acc      \n",
    "                if iter % print_every == 0 : \n",
    "                    tot_loss, tot_acc = printScores(start, iter, iters, tot_loss, tot_acc, print_every, compute_accuracy)\n",
    "        else :\n",
    "            iter = 0\n",
    "            iters = len(batches) * epochs\n",
    "            for epoch in range(1, epochs + 1):\n",
    "                print('epoch ' + str(epoch))\n",
    "                np.random.shuffle(batches)\n",
    "                for batch in batches :\n",
    "                    loss, acc = trainLoop(batch, optimizer, tf_ratio, compute_accuracy)\n",
    "                    tot_loss += loss\n",
    "                    tot_acc += acc \n",
    "                    iter += 1\n",
    "                    if iter % print_every == 0 : \n",
    "                        tot_loss, tot_acc = printScores(start, iter, iters, tot_loss, tot_acc, print_every, compute_accuracy)\n",
    "        return"
   ]
  },
  {
   "cell_type": "markdown",
   "metadata": {},
   "source": [
    "#### Training"
   ]
  },
  {
   "cell_type": "code",
   "execution_count": 61,
   "metadata": {},
   "outputs": [
    {
     "data": {
      "text/plain": [
       "69"
      ]
     },
     "execution_count": 61,
     "metadata": {},
     "output_type": "execute_result"
    }
   ],
   "source": [
    "max([len(qa[1].split(' ')) for qa in qa_trn])"
   ]
  },
  {
   "cell_type": "code",
   "execution_count": 97,
   "metadata": {
    "scrolled": true
   },
   "outputs": [
    {
     "data": {
      "text/plain": [
       "601597"
      ]
     },
     "execution_count": 97,
     "metadata": {},
     "output_type": "execute_result"
    }
   ],
   "source": [
    "chatbot = EncoderDecoder(device = torch.device(\"cpu\"),\n",
    "                         tokenizer = lambda s : normalizeString(s).split(' '),\n",
    "                         word2vec_in = word2vec_in,\n",
    "                         word2vec_out = word2vec_out,\n",
    "                         hidden_dim_in = 100,\n",
    "                         hidden_dim_out = 100,\n",
    "                         n_layers_in = 2,\n",
    "                         n_layers_out = 2,\n",
    "                         bound = 75,\n",
    "                         dropout = 0.1,\n",
    "                         decoder_warm_start = True,\n",
    "                         decoder_attention = True,\n",
    "                         optimizer = optim.SGD)\n",
    "\n",
    "chatbot.nbParametres()"
   ]
  },
  {
   "cell_type": "code",
   "execution_count": 63,
   "metadata": {
    "scrolled": true
   },
   "outputs": [
    {
     "data": {
      "text/plain": [
       "EncoderDecoder(\n",
       "  (word2vec_in): Word2VecConnector(\n",
       "    (twin): Word2Vec(\n",
       "      (embedding): Embedding(784, 75)\n",
       "    )\n",
       "    (embedding): Embedding(784, 75)\n",
       "  )\n",
       "  (word2vec_out): Word2VecConnector(\n",
       "    (twin): Word2Vec(\n",
       "      (embedding): Embedding(898, 75)\n",
       "    )\n",
       "    (embedding): Embedding(898, 75)\n",
       "  )\n",
       "  (context): RecurrentEncoder(\n",
       "    (dropout): Dropout(p=0.1, inplace=False)\n",
       "    (bigru): GRU(75, 100, num_layers=2, batch_first=True, dropout=0.1, bidirectional=True)\n",
       "  )\n",
       "  (decoder): AttnDecoder(\n",
       "    (word2vec): Word2VecConnector(\n",
       "      (twin): Word2Vec(\n",
       "        (embedding): Embedding(898, 75)\n",
       "      )\n",
       "      (embedding): Embedding(898, 75)\n",
       "    )\n",
       "    (gru): GRU(75, 100, num_layers=2, batch_first=True, dropout=0.1)\n",
       "    (attn): Attention(\n",
       "      (dropout): Dropout(p=0.1, inplace=False)\n",
       "      (attn_layer): Linear(in_features=200, out_features=100, bias=True)\n",
       "      (attn_v): Linear(in_features=100, out_features=1, bias=False)\n",
       "    )\n",
       "    (out): Linear(in_features=200, out_features=897, bias=True)\n",
       "    (dropout): Dropout(p=0.1, inplace=False)\n",
       "  )\n",
       "  (criterion): NLLLoss()\n",
       ")"
      ]
     },
     "execution_count": 63,
     "metadata": {},
     "output_type": "execute_result"
    }
   ],
   "source": [
    "chatbot"
   ]
  },
  {
   "cell_type": "code",
   "execution_count": 64,
   "metadata": {},
   "outputs": [],
   "source": [
    "torch.cuda.empty_cache()"
   ]
  },
  {
   "cell_type": "code",
   "execution_count": 44,
   "metadata": {},
   "outputs": [
    {
     "data": {
      "text/plain": [
       "6257"
      ]
     },
     "execution_count": 44,
     "metadata": {},
     "output_type": "execute_result"
    }
   ],
   "source": [
    "batches = chatbot.generatePackedSentences(qa_trn, batch_size = 32)\n",
    "len(batches)"
   ]
  },
  {
   "cell_type": "code",
   "execution_count": null,
   "metadata": {
    "scrolled": true
   },
   "outputs": [
    {
     "name": "stdout",
     "output_type": "stream",
     "text": [
      "epoch 1\n",
      "0m 20s (- 21m 6s) (100 1%) loss : 5.807  accuracy : 6.7 %\n",
      "0m 40s (- 20m 25s) (200 3%) loss : 5.086  accuracy : 10.2 %\n",
      "1m 0s (- 20m 1s) (300 4%) loss : 4.558  accuracy : 16.5 %\n",
      "1m 20s (- 19m 41s) (400 6%) loss : 4.209  accuracy : 24.3 %\n",
      "1m 39s (- 19m 4s) (500 7%) loss : 3.557  accuracy : 33.8 %\n",
      "1m 59s (- 18m 45s) (600 9%) loss : 3.323  accuracy : 38.9 %\n",
      "2m 19s (- 18m 31s) (700 11%) loss : 2.926  accuracy : 45.6 %\n",
      "2m 41s (- 18m 24s) (800 12%) loss : 2.683  accuracy : 51.3 %\n",
      "3m 3s (- 18m 10s) (900 14%) loss : 2.605  accuracy : 49.4 %\n",
      "3m 22s (- 17m 46s) (1000 15%) loss : 2.185  accuracy : 56.5 %\n",
      "3m 43s (- 17m 29s) (1100 17%) loss : 2.090  accuracy : 58.8 %\n",
      "4m 3s (- 17m 5s) (1200 19%) loss : 2.125  accuracy : 58.5 %\n",
      "4m 23s (- 16m 45s) (1300 20%) loss : 1.914  accuracy : 60.5 %\n",
      "4m 44s (- 16m 27s) (1400 22%) loss : 1.991  accuracy : 58.6 %\n",
      "5m 3s (- 16m 3s) (1500 23%) loss : 1.343  accuracy : 71.4 %\n",
      "5m 22s (- 15m 39s) (1600 25%) loss : 1.496  accuracy : 68.3 %\n",
      "5m 41s (- 15m 16s) (1700 27%) loss : 1.467  accuracy : 68.5 %\n",
      "6m 0s (- 14m 53s) (1800 28%) loss : 1.319  accuracy : 72.0 %\n",
      "6m 20s (- 14m 32s) (1900 30%) loss : 1.234  accuracy : 73.5 %\n",
      "6m 40s (- 14m 11s) (2000 31%) loss : 1.162  accuracy : 74.5 %\n",
      "7m 0s (- 13m 52s) (2100 33%) loss : 1.138  accuracy : 74.4 %\n",
      "7m 21s (- 13m 33s) (2200 35%) loss : 1.206  accuracy : 73.7 %\n",
      "7m 40s (- 13m 12s) (2300 36%) loss : 1.351  accuracy : 70.9 %\n",
      "8m 0s (- 12m 52s) (2400 38%) loss : 1.018  accuracy : 76.8 %\n",
      "8m 21s (- 12m 34s) (2500 39%) loss : 0.989  accuracy : 77.7 %\n",
      "8m 41s (- 12m 13s) (2600 41%) loss : 0.823  accuracy : 81.3 %\n",
      "8m 59s (- 11m 50s) (2700 43%) loss : 0.904  accuracy : 79.3 %\n",
      "9m 19s (- 11m 30s) (2800 44%) loss : 0.709  accuracy : 83.0 %\n",
      "9m 39s (- 11m 10s) (2900 46%) loss : 0.689  accuracy : 83.8 %\n",
      "10m 0s (- 10m 51s) (3000 47%) loss : 0.634  accuracy : 84.7 %\n",
      "10m 20s (- 10m 31s) (3100 49%) loss : 0.781  accuracy : 81.9 %\n",
      "10m 39s (- 10m 10s) (3200 51%) loss : 0.530  accuracy : 87.3 %\n",
      "10m 59s (- 9m 50s) (3300 52%) loss : 0.582  accuracy : 86.6 %\n",
      "11m 19s (- 9m 31s) (3400 54%) loss : 0.711  accuracy : 84.0 %\n",
      "11m 39s (- 9m 11s) (3500 55%) loss : 0.544  accuracy : 87.1 %\n",
      "12m 0s (- 8m 51s) (3600 57%) loss : 0.429  accuracy : 89.6 %\n",
      "12m 21s (- 8m 32s) (3700 59%) loss : 0.520  accuracy : 87.4 %\n",
      "12m 40s (- 8m 11s) (3800 60%) loss : 0.385  accuracy : 90.5 %\n",
      "13m 0s (- 7m 51s) (3900 62%) loss : 0.517  accuracy : 87.4 %\n",
      "13m 18s (- 7m 30s) (4000 63%) loss : 0.372  accuracy : 91.0 %\n",
      "13m 38s (- 7m 10s) (4100 65%) loss : 0.454  accuracy : 88.9 %\n",
      "13m 57s (- 6m 49s) (4200 67%) loss : 0.350  accuracy : 91.5 %\n",
      "14m 16s (- 6m 29s) (4300 68%) loss : 0.383  accuracy : 90.9 %\n",
      "14m 34s (- 6m 9s) (4400 70%) loss : 0.254  accuracy : 93.8 %\n",
      "14m 54s (- 5m 49s) (4500 71%) loss : 0.351  accuracy : 91.6 %\n",
      "15m 14s (- 5m 29s) (4600 73%) loss : 0.355  accuracy : 91.2 %\n",
      "15m 34s (- 5m 9s) (4700 75%) loss : 0.299  accuracy : 92.4 %\n",
      "15m 54s (- 4m 49s) (4800 76%) loss : 0.306  accuracy : 92.6 %\n",
      "16m 14s (- 4m 29s) (4900 78%) loss : 0.253  accuracy : 93.8 %\n",
      "16m 33s (- 4m 9s) (5000 79%) loss : 0.215  accuracy : 94.8 %\n",
      "16m 54s (- 3m 50s) (5100 81%) loss : 0.235  accuracy : 94.3 %\n",
      "17m 12s (- 3m 29s) (5200 83%) loss : 0.250  accuracy : 93.8 %\n",
      "17m 32s (- 3m 9s) (5300 84%) loss : 0.219  accuracy : 94.5 %\n",
      "17m 51s (- 2m 50s) (5400 86%) loss : 0.292  accuracy : 93.2 %\n",
      "18m 11s (- 2m 30s) (5500 87%) loss : 0.271  accuracy : 93.4 %\n",
      "18m 30s (- 2m 10s) (5600 89%) loss : 0.210  accuracy : 94.7 %\n",
      "18m 49s (- 1m 50s) (5700 91%) loss : 0.186  accuracy : 95.4 %\n",
      "19m 9s (- 1m 30s) (5800 92%) loss : 0.263  accuracy : 93.4 %\n",
      "19m 29s (- 1m 10s) (5900 94%) loss : 0.195  accuracy : 95.2 %\n",
      "19m 49s (- 0m 50s) (6000 95%) loss : 0.248  accuracy : 93.7 %\n",
      "20m 8s (- 0m 31s) (6100 97%) loss : 0.193  accuracy : 95.1 %\n",
      "20m 27s (- 0m 11s) (6200 99%) loss : 0.172  accuracy : 95.6 %\n",
      "epoch 1\n",
      "0m 20s (- 20m 38s) (100 1%) loss : 2.286  accuracy : 70.7 %\n",
      "0m 40s (- 20m 34s) (200 3%) loss : 2.313  accuracy : 63.9 %\n",
      "1m 0s (- 19m 53s) (300 4%) loss : 1.645  accuracy : 73.0 %\n",
      "1m 22s (- 20m 9s) (400 6%) loss : 1.977  accuracy : 66.3 %\n",
      "1m 42s (- 19m 41s) (500 7%) loss : 1.687  accuracy : 71.3 %\n",
      "2m 1s (- 19m 10s) (600 9%) loss : 1.465  accuracy : 73.7 %\n",
      "2m 20s (- 18m 38s) (700 11%) loss : 1.347  accuracy : 75.7 %\n",
      "2m 41s (- 18m 23s) (800 12%) loss : 1.362  accuracy : 76.1 %\n",
      "3m 1s (- 17m 57s) (900 14%) loss : 1.413  accuracy : 73.8 %\n",
      "3m 20s (- 17m 35s) (1000 15%) loss : 1.525  accuracy : 70.6 %\n",
      "3m 42s (- 17m 23s) (1100 17%) loss : 1.852  accuracy : 65.5 %\n",
      "4m 1s (- 16m 58s) (1200 19%) loss : 1.785  accuracy : 66.4 %\n",
      "4m 20s (- 16m 32s) (1300 20%) loss : 1.380  accuracy : 73.3 %\n",
      "4m 40s (- 16m 12s) (1400 22%) loss : 1.371  accuracy : 73.2 %\n",
      "5m 0s (- 15m 52s) (1500 23%) loss : 1.280  accuracy : 75.4 %\n",
      "5m 21s (- 15m 35s) (1600 25%) loss : 1.394  accuracy : 72.9 %\n",
      "5m 41s (- 15m 16s) (1700 27%) loss : 1.180  accuracy : 76.5 %\n",
      "6m 2s (- 14m 58s) (1800 28%) loss : 1.258  accuracy : 75.7 %\n",
      "6m 23s (- 14m 40s) (1900 30%) loss : 1.668  accuracy : 68.7 %\n",
      "6m 43s (- 14m 19s) (2000 31%) loss : 1.139  accuracy : 77.3 %\n",
      "7m 3s (- 13m 58s) (2100 33%) loss : 1.111  accuracy : 78.8 %\n",
      "7m 23s (- 13m 37s) (2200 35%) loss : 0.994  accuracy : 80.9 %\n",
      "7m 42s (- 13m 16s) (2300 36%) loss : 1.045  accuracy : 80.5 %\n",
      "8m 2s (- 12m 56s) (2400 38%) loss : 1.018  accuracy : 80.1 %\n",
      "8m 23s (- 12m 37s) (2500 39%) loss : 0.991  accuracy : 80.4 %\n",
      "8m 43s (- 12m 15s) (2600 41%) loss : 0.978  accuracy : 80.4 %\n",
      "9m 0s (- 11m 52s) (2700 43%) loss : 0.819  accuracy : 84.2 %\n",
      "9m 19s (- 11m 31s) (2800 44%) loss : 0.901  accuracy : 82.6 %\n",
      "9m 41s (- 11m 12s) (2900 46%) loss : 0.900  accuracy : 83.7 %\n",
      "10m 0s (- 10m 52s) (3000 47%) loss : 0.874  accuracy : 83.0 %\n",
      "10m 20s (- 10m 31s) (3100 49%) loss : 1.123  accuracy : 77.0 %\n",
      "10m 40s (- 10m 11s) (3200 51%) loss : 1.088  accuracy : 78.8 %\n",
      "10m 59s (- 9m 50s) (3300 52%) loss : 0.948  accuracy : 80.1 %\n",
      "11m 19s (- 9m 30s) (3400 54%) loss : 0.864  accuracy : 82.1 %\n",
      "11m 39s (- 9m 10s) (3500 55%) loss : 0.892  accuracy : 82.0 %\n",
      "11m 59s (- 8m 50s) (3600 57%) loss : 0.816  accuracy : 82.9 %\n",
      "12m 20s (- 8m 31s) (3700 59%) loss : 0.915  accuracy : 80.6 %\n",
      "12m 38s (- 8m 10s) (3800 60%) loss : 0.690  accuracy : 85.3 %\n",
      "12m 56s (- 7m 49s) (3900 62%) loss : 0.692  accuracy : 85.5 %\n",
      "13m 16s (- 7m 29s) (4000 63%) loss : 0.906  accuracy : 81.1 %\n",
      "13m 35s (- 7m 8s) (4100 65%) loss : 0.678  accuracy : 86.1 %\n",
      "13m 54s (- 6m 48s) (4200 67%) loss : 0.829  accuracy : 83.5 %\n",
      "14m 15s (- 6m 29s) (4300 68%) loss : 0.823  accuracy : 82.9 %\n",
      "14m 33s (- 6m 8s) (4400 70%) loss : 0.809  accuracy : 83.1 %\n",
      "14m 52s (- 5m 48s) (4500 71%) loss : 0.570  accuracy : 87.6 %\n",
      "15m 13s (- 5m 28s) (4600 73%) loss : 0.822  accuracy : 82.4 %\n",
      "15m 34s (- 5m 9s) (4700 75%) loss : 0.558  accuracy : 88.4 %\n",
      "15m 54s (- 4m 49s) (4800 76%) loss : 0.684  accuracy : 85.0 %\n",
      "16m 15s (- 4m 30s) (4900 78%) loss : 0.751  accuracy : 84.2 %\n",
      "16m 34s (- 4m 9s) (5000 79%) loss : 0.577  accuracy : 87.8 %\n",
      "16m 53s (- 3m 49s) (5100 81%) loss : 0.637  accuracy : 85.4 %\n",
      "17m 14s (- 3m 30s) (5200 83%) loss : 0.666  accuracy : 85.6 %\n",
      "17m 34s (- 3m 10s) (5300 84%) loss : 0.494  accuracy : 89.5 %\n",
      "17m 54s (- 2m 50s) (5400 86%) loss : 0.616  accuracy : 86.3 %\n",
      "18m 14s (- 2m 30s) (5500 87%) loss : 0.446  accuracy : 90.1 %\n",
      "18m 33s (- 2m 10s) (5600 89%) loss : 0.563  accuracy : 86.9 %\n",
      "18m 52s (- 1m 50s) (5700 91%) loss : 0.562  accuracy : 88.7 %\n",
      "19m 10s (- 1m 30s) (5800 92%) loss : 0.396  accuracy : 91.3 %\n",
      "19m 29s (- 1m 10s) (5900 94%) loss : 0.446  accuracy : 90.2 %\n",
      "19m 49s (- 0m 50s) (6000 95%) loss : 0.699  accuracy : 84.1 %\n",
      "20m 8s (- 0m 31s) (6100 97%) loss : 0.537  accuracy : 88.7 %\n",
      "20m 27s (- 0m 11s) (6200 99%) loss : 0.564  accuracy : 88.2 %\n",
      "epoch 1\n",
      "0m 19s (- 20m 26s) (100 1%) loss : 0.561  accuracy : 87.5 %\n",
      "0m 40s (- 20m 15s) (200 3%) loss : 0.458  accuracy : 89.7 %\n",
      "0m 58s (- 19m 23s) (300 4%) loss : 0.460  accuracy : 89.7 %\n",
      "1m 17s (- 18m 59s) (400 6%) loss : 0.473  accuracy : 89.2 %\n",
      "1m 36s (- 18m 36s) (500 7%) loss : 0.469  accuracy : 89.1 %\n",
      "1m 56s (- 18m 18s) (600 9%) loss : 0.491  accuracy : 88.8 %\n",
      "2m 14s (- 17m 50s) (700 11%) loss : 0.437  accuracy : 90.2 %\n",
      "2m 34s (- 17m 36s) (800 12%) loss : 0.472  accuracy : 89.8 %\n",
      "2m 57s (- 17m 38s) (900 14%) loss : 0.471  accuracy : 88.9 %\n"
     ]
    },
    {
     "name": "stdout",
     "output_type": "stream",
     "text": [
      "3m 17s (- 17m 20s) (1000 15%) loss : 0.434  accuracy : 90.2 %\n",
      "3m 37s (- 17m 1s) (1100 17%) loss : 0.502  accuracy : 88.9 %\n",
      "3m 57s (- 16m 42s) (1200 19%) loss : 0.319  accuracy : 93.2 %\n",
      "4m 16s (- 16m 16s) (1300 20%) loss : 0.343  accuracy : 92.8 %\n",
      "4m 36s (- 15m 58s) (1400 22%) loss : 0.582  accuracy : 87.1 %\n",
      "4m 56s (- 15m 40s) (1500 23%) loss : 0.488  accuracy : 88.6 %\n",
      "5m 15s (- 15m 19s) (1600 25%) loss : 0.478  accuracy : 88.6 %\n",
      "5m 35s (- 14m 59s) (1700 27%) loss : 0.460  accuracy : 88.3 %\n",
      "5m 55s (- 14m 39s) (1800 28%) loss : 0.451  accuracy : 89.6 %\n",
      "6m 13s (- 14m 16s) (1900 30%) loss : 0.389  accuracy : 90.8 %\n",
      "6m 33s (- 13m 58s) (2000 31%) loss : 0.343  accuracy : 92.0 %\n",
      "6m 57s (- 13m 46s) (2100 33%) loss : 0.441  accuracy : 89.9 %\n",
      "7m 21s (- 13m 34s) (2200 35%) loss : 0.415  accuracy : 90.5 %\n",
      "7m 44s (- 13m 19s) (2300 36%) loss : 0.427  accuracy : 89.7 %\n",
      "8m 5s (- 13m 0s) (2400 38%) loss : 0.402  accuracy : 90.8 %\n",
      "8m 29s (- 12m 45s) (2500 39%) loss : 0.493  accuracy : 88.6 %\n",
      "8m 50s (- 12m 26s) (2600 41%) loss : 0.478  accuracy : 87.6 %\n",
      "9m 13s (- 12m 8s) (2700 43%) loss : 0.381  accuracy : 91.4 %\n",
      "9m 35s (- 11m 50s) (2800 44%) loss : 0.407  accuracy : 90.1 %\n",
      "9m 54s (- 11m 28s) (2900 46%) loss : 0.361  accuracy : 91.5 %\n",
      "10m 15s (- 11m 8s) (3000 47%) loss : 0.434  accuracy : 89.3 %\n",
      "10m 37s (- 10m 48s) (3100 49%) loss : 0.493  accuracy : 87.2 %\n"
     ]
    }
   ],
   "source": [
    "chatbot.fit(batches, epochs = 1, lr = 0.001, tf_ratio = 1,  print_every = 100)\n",
    "chatbot.fit(batches, epochs = 1, lr = 0.001, tf_ratio = 0.5,  print_every = 100)\n",
    "chatbot.fit(batches, epochs = 1, lr = 0.00025, tf_ratio = 0.5,  print_every = 100)"
   ]
  },
  {
   "cell_type": "code",
   "execution_count": 415,
   "metadata": {
    "scrolled": true
   },
   "outputs": [
    {
     "name": "stdout",
     "output_type": "stream",
     "text": [
      "epoch 1\n",
      "0m 20s (- 20m 38s) (100 1%) loss : 5.714  accuracy : 6.8 %\n",
      "0m 38s (- 19m 14s) (200 3%) loss : 5.058  accuracy : 9.5 %\n",
      "0m 57s (- 19m 4s) (300 4%) loss : 4.873  accuracy : 13.4 %\n",
      "1m 16s (- 18m 35s) (400 6%) loss : 4.103  accuracy : 23.7 %\n",
      "1m 35s (- 18m 20s) (500 7%) loss : 3.771  accuracy : 29.7 %\n",
      "1m 54s (- 18m 0s) (600 9%) loss : 3.421  accuracy : 36.8 %\n",
      "2m 12s (- 17m 32s) (700 11%) loss : 2.758  accuracy : 47.4 %\n",
      "2m 30s (- 17m 7s) (800 12%) loss : 2.626  accuracy : 50.3 %\n",
      "2m 49s (- 16m 47s) (900 14%) loss : 2.507  accuracy : 52.5 %\n",
      "3m 8s (- 16m 28s) (1000 15%) loss : 2.215  accuracy : 56.8 %\n",
      "3m 27s (- 16m 11s) (1100 17%) loss : 2.213  accuracy : 55.8 %\n",
      "3m 46s (- 15m 55s) (1200 19%) loss : 2.076  accuracy : 57.7 %\n",
      "4m 5s (- 15m 36s) (1300 20%) loss : 1.878  accuracy : 61.4 %\n",
      "4m 23s (- 15m 12s) (1400 22%) loss : 1.733  accuracy : 64.3 %\n",
      "4m 40s (- 14m 50s) (1500 23%) loss : 1.526  accuracy : 68.3 %\n",
      "4m 59s (- 14m 30s) (1600 25%) loss : 1.723  accuracy : 63.7 %\n",
      "5m 17s (- 14m 11s) (1700 27%) loss : 1.578  accuracy : 66.6 %\n",
      "5m 35s (- 13m 51s) (1800 28%) loss : 1.343  accuracy : 70.9 %\n",
      "5m 55s (- 13m 34s) (1900 30%) loss : 1.422  accuracy : 67.9 %\n",
      "6m 15s (- 13m 18s) (2000 31%) loss : 1.097  accuracy : 75.4 %\n",
      "6m 35s (- 13m 2s) (2100 33%) loss : 1.243  accuracy : 72.3 %\n",
      "6m 53s (- 12m 43s) (2200 35%) loss : 1.224  accuracy : 72.9 %\n",
      "7m 12s (- 12m 23s) (2300 36%) loss : 0.994  accuracy : 77.4 %\n",
      "7m 31s (- 12m 4s) (2400 38%) loss : 1.111  accuracy : 76.4 %\n",
      "7m 48s (- 11m 43s) (2500 39%) loss : 1.065  accuracy : 77.1 %\n",
      "8m 7s (- 11m 25s) (2600 41%) loss : 0.992  accuracy : 77.8 %\n",
      "8m 24s (- 11m 4s) (2700 43%) loss : 0.772  accuracy : 82.0 %\n",
      "8m 43s (- 10m 46s) (2800 44%) loss : 0.871  accuracy : 79.9 %\n",
      "9m 1s (- 10m 26s) (2900 46%) loss : 0.670  accuracy : 84.5 %\n",
      "9m 18s (- 10m 6s) (3000 47%) loss : 0.825  accuracy : 80.5 %\n",
      "9m 37s (- 9m 48s) (3100 49%) loss : 0.812  accuracy : 81.2 %\n",
      "9m 55s (- 9m 28s) (3200 51%) loss : 0.719  accuracy : 83.3 %\n",
      "10m 12s (- 9m 9s) (3300 52%) loss : 0.515  accuracy : 87.8 %\n",
      "10m 30s (- 8m 49s) (3400 54%) loss : 0.593  accuracy : 86.1 %\n",
      "10m 49s (- 8m 31s) (3500 55%) loss : 0.556  accuracy : 86.8 %\n",
      "11m 6s (- 8m 11s) (3600 57%) loss : 0.550  accuracy : 86.9 %\n",
      "11m 22s (- 7m 51s) (3700 59%) loss : 0.545  accuracy : 86.8 %\n",
      "11m 42s (- 7m 34s) (3800 60%) loss : 0.497  accuracy : 88.1 %\n",
      "12m 1s (- 7m 15s) (3900 62%) loss : 0.453  accuracy : 89.4 %\n",
      "12m 19s (- 6m 57s) (4000 63%) loss : 0.439  accuracy : 89.5 %\n",
      "12m 38s (- 6m 38s) (4100 65%) loss : 0.458  accuracy : 88.6 %\n",
      "12m 57s (- 6m 20s) (4200 67%) loss : 0.380  accuracy : 90.6 %\n",
      "13m 20s (- 6m 4s) (4300 68%) loss : 0.434  accuracy : 89.3 %\n",
      "13m 42s (- 5m 46s) (4400 70%) loss : 0.386  accuracy : 90.2 %\n",
      "14m 4s (- 5m 29s) (4500 71%) loss : 0.485  accuracy : 87.7 %\n",
      "14m 23s (- 5m 11s) (4600 73%) loss : 0.383  accuracy : 90.2 %\n",
      "14m 45s (- 4m 53s) (4700 75%) loss : 0.281  accuracy : 93.3 %\n",
      "15m 4s (- 4m 34s) (4800 76%) loss : 0.316  accuracy : 92.0 %\n",
      "15m 22s (- 4m 15s) (4900 78%) loss : 0.284  accuracy : 92.8 %\n",
      "15m 44s (- 3m 57s) (5000 79%) loss : 0.294  accuracy : 92.7 %\n",
      "16m 6s (- 3m 39s) (5100 81%) loss : 0.304  accuracy : 92.4 %\n",
      "16m 27s (- 3m 20s) (5200 83%) loss : 0.250  accuracy : 93.8 %\n",
      "16m 45s (- 3m 1s) (5300 84%) loss : 0.279  accuracy : 93.0 %\n",
      "17m 5s (- 2m 42s) (5400 86%) loss : 0.260  accuracy : 93.9 %\n",
      "17m 29s (- 2m 24s) (5500 87%) loss : 0.253  accuracy : 93.8 %\n",
      "17m 50s (- 2m 5s) (5600 89%) loss : 0.245  accuracy : 93.7 %\n",
      "18m 9s (- 1m 46s) (5700 91%) loss : 0.223  accuracy : 94.5 %\n",
      "18m 28s (- 1m 27s) (5800 92%) loss : 0.191  accuracy : 95.1 %\n",
      "18m 48s (- 1m 8s) (5900 94%) loss : 0.207  accuracy : 94.8 %\n",
      "19m 7s (- 0m 49s) (6000 95%) loss : 0.177  accuracy : 95.6 %\n",
      "19m 26s (- 0m 30s) (6100 97%) loss : 0.220  accuracy : 94.6 %\n",
      "19m 45s (- 0m 10s) (6200 99%) loss : 0.206  accuracy : 94.9 %\n",
      "epoch 1\n",
      "0m 17s (- 17m 52s) (100 1%) loss : 2.184  accuracy : 73.8 %\n",
      "0m 36s (- 18m 19s) (200 3%) loss : 2.458  accuracy : 64.0 %\n",
      "0m 54s (- 18m 9s) (300 4%) loss : 2.299  accuracy : 62.6 %\n",
      "1m 14s (- 18m 16s) (400 6%) loss : 2.018  accuracy : 65.9 %\n",
      "1m 35s (- 18m 23s) (500 7%) loss : 2.269  accuracy : 60.9 %\n",
      "1m 59s (- 18m 44s) (600 9%) loss : 1.795  accuracy : 68.8 %\n",
      "2m 21s (- 18m 43s) (700 11%) loss : 1.352  accuracy : 77.2 %\n",
      "2m 41s (- 18m 20s) (800 12%) loss : 1.588  accuracy : 72.8 %\n",
      "3m 3s (- 18m 11s) (900 14%) loss : 1.653  accuracy : 69.7 %\n",
      "3m 22s (- 17m 45s) (1000 15%) loss : 1.832  accuracy : 66.6 %\n",
      "3m 41s (- 17m 20s) (1100 17%) loss : 1.590  accuracy : 69.9 %\n",
      "4m 0s (- 16m 54s) (1200 19%) loss : 1.539  accuracy : 70.4 %\n",
      "4m 17s (- 16m 22s) (1300 20%) loss : 1.338  accuracy : 73.8 %\n",
      "4m 36s (- 15m 59s) (1400 22%) loss : 1.607  accuracy : 69.5 %\n",
      "4m 55s (- 15m 35s) (1500 23%) loss : 1.763  accuracy : 66.9 %\n",
      "5m 11s (- 15m 7s) (1600 25%) loss : 1.215  accuracy : 77.1 %\n",
      "5m 30s (- 14m 45s) (1700 27%) loss : 1.325  accuracy : 74.7 %\n",
      "5m 50s (- 14m 27s) (1800 28%) loss : 1.536  accuracy : 70.9 %\n",
      "6m 8s (- 14m 4s) (1900 30%) loss : 1.105  accuracy : 78.3 %\n",
      "6m 27s (- 13m 43s) (2000 31%) loss : 1.330  accuracy : 74.7 %\n",
      "6m 46s (- 13m 24s) (2100 33%) loss : 1.177  accuracy : 76.8 %\n",
      "7m 4s (- 13m 3s) (2200 35%) loss : 1.221  accuracy : 76.9 %\n",
      "7m 25s (- 12m 45s) (2300 36%) loss : 1.237  accuracy : 76.3 %\n",
      "7m 44s (- 12m 26s) (2400 38%) loss : 1.243  accuracy : 74.6 %\n",
      "8m 4s (- 12m 7s) (2500 39%) loss : 0.988  accuracy : 80.8 %\n",
      "8m 24s (- 11m 50s) (2600 41%) loss : 1.252  accuracy : 75.2 %\n",
      "8m 43s (- 11m 30s) (2700 43%) loss : 0.941  accuracy : 81.2 %\n",
      "9m 1s (- 11m 9s) (2800 44%) loss : 1.006  accuracy : 79.2 %\n",
      "9m 19s (- 10m 47s) (2900 46%) loss : 0.876  accuracy : 81.8 %\n",
      "9m 36s (- 10m 26s) (3000 47%) loss : 1.024  accuracy : 79.2 %\n",
      "9m 55s (- 10m 6s) (3100 49%) loss : 1.022  accuracy : 79.3 %\n",
      "10m 15s (- 9m 48s) (3200 51%) loss : 0.681  accuracy : 86.5 %\n",
      "10m 34s (- 9m 28s) (3300 52%) loss : 0.922  accuracy : 81.1 %\n",
      "10m 51s (- 9m 7s) (3400 54%) loss : 0.925  accuracy : 81.6 %\n",
      "11m 10s (- 8m 48s) (3500 55%) loss : 0.713  accuracy : 84.2 %\n",
      "11m 28s (- 8m 28s) (3600 57%) loss : 0.714  accuracy : 85.3 %\n",
      "11m 47s (- 8m 9s) (3700 59%) loss : 0.979  accuracy : 78.8 %\n",
      "12m 5s (- 7m 49s) (3800 60%) loss : 0.728  accuracy : 84.9 %\n",
      "12m 24s (- 7m 29s) (3900 62%) loss : 0.834  accuracy : 83.2 %\n",
      "12m 42s (- 7m 10s) (4000 63%) loss : 0.830  accuracy : 82.9 %\n",
      "13m 0s (- 6m 50s) (4100 65%) loss : 0.850  accuracy : 81.4 %\n",
      "13m 19s (- 6m 31s) (4200 67%) loss : 0.728  accuracy : 84.2 %\n",
      "13m 37s (- 6m 12s) (4300 68%) loss : 0.757  accuracy : 84.3 %\n",
      "13m 55s (- 5m 52s) (4400 70%) loss : 0.633  accuracy : 86.7 %\n",
      "14m 13s (- 5m 33s) (4500 71%) loss : 0.778  accuracy : 82.6 %\n",
      "14m 32s (- 5m 14s) (4600 73%) loss : 0.603  accuracy : 86.2 %\n",
      "14m 51s (- 4m 55s) (4700 75%) loss : 0.527  accuracy : 89.0 %\n",
      "15m 9s (- 4m 36s) (4800 76%) loss : 0.804  accuracy : 82.0 %\n",
      "15m 27s (- 4m 16s) (4900 78%) loss : 0.811  accuracy : 83.0 %\n",
      "15m 45s (- 3m 57s) (5000 79%) loss : 0.582  accuracy : 88.1 %\n",
      "16m 4s (- 3m 38s) (5100 81%) loss : 0.606  accuracy : 87.4 %\n",
      "16m 21s (- 3m 19s) (5200 83%) loss : 0.599  accuracy : 87.4 %\n",
      "16m 40s (- 3m 0s) (5300 84%) loss : 0.617  accuracy : 86.8 %\n",
      "16m 58s (- 2m 41s) (5400 86%) loss : 0.559  accuracy : 87.3 %\n",
      "17m 16s (- 2m 22s) (5500 87%) loss : 0.606  accuracy : 86.1 %\n",
      "17m 35s (- 2m 3s) (5600 89%) loss : 0.663  accuracy : 85.1 %\n",
      "17m 53s (- 1m 44s) (5700 91%) loss : 0.771  accuracy : 83.8 %\n",
      "18m 12s (- 1m 26s) (5800 92%) loss : 0.545  accuracy : 88.0 %\n",
      "18m 30s (- 1m 7s) (5900 94%) loss : 0.577  accuracy : 87.0 %\n",
      "18m 49s (- 0m 48s) (6000 95%) loss : 0.602  accuracy : 87.1 %\n",
      "19m 7s (- 0m 29s) (6100 97%) loss : 0.526  accuracy : 87.1 %\n",
      "19m 25s (- 0m 10s) (6200 99%) loss : 0.610  accuracy : 86.1 %\n",
      "epoch 1\n",
      "0m 21s (- 22m 8s) (100 1%) loss : 0.613  accuracy : 85.6 %\n",
      "0m 40s (- 20m 25s) (200 3%) loss : 0.491  accuracy : 88.5 %\n",
      "1m 0s (- 19m 59s) (300 4%) loss : 0.450  accuracy : 89.3 %\n",
      "1m 19s (- 19m 21s) (400 6%) loss : 0.475  accuracy : 89.4 %\n",
      "1m 38s (- 18m 48s) (500 7%) loss : 0.418  accuracy : 90.4 %\n",
      "1m 56s (- 18m 16s) (600 9%) loss : 0.400  accuracy : 91.2 %\n",
      "2m 14s (- 17m 50s) (700 11%) loss : 0.413  accuracy : 90.2 %\n",
      "2m 35s (- 17m 41s) (800 12%) loss : 0.364  accuracy : 92.1 %\n",
      "2m 55s (- 17m 24s) (900 14%) loss : 0.403  accuracy : 91.5 %\n",
      "3m 14s (- 17m 1s) (1000 15%) loss : 0.360  accuracy : 92.2 %\n"
     ]
    },
    {
     "name": "stdout",
     "output_type": "stream",
     "text": [
      "3m 33s (- 16m 40s) (1100 17%) loss : 0.471  accuracy : 88.3 %\n",
      "3m 51s (- 16m 14s) (1200 19%) loss : 0.417  accuracy : 90.5 %\n",
      "4m 8s (- 15m 48s) (1300 20%) loss : 0.443  accuracy : 89.7 %\n",
      "4m 26s (- 15m 25s) (1400 22%) loss : 0.426  accuracy : 90.3 %\n",
      "4m 45s (- 15m 6s) (1500 23%) loss : 0.421  accuracy : 90.0 %\n",
      "5m 3s (- 14m 43s) (1600 25%) loss : 0.433  accuracy : 89.6 %\n",
      "5m 20s (- 14m 20s) (1700 27%) loss : 0.431  accuracy : 89.8 %\n",
      "5m 39s (- 14m 0s) (1800 28%) loss : 0.452  accuracy : 89.2 %\n",
      "5m 56s (- 13m 37s) (1900 30%) loss : 0.394  accuracy : 90.3 %\n",
      "6m 16s (- 13m 20s) (2000 31%) loss : 0.467  accuracy : 88.3 %\n",
      "6m 36s (- 13m 4s) (2100 33%) loss : 0.374  accuracy : 91.4 %\n",
      "6m 54s (- 12m 44s) (2200 35%) loss : 0.479  accuracy : 89.0 %\n",
      "7m 14s (- 12m 27s) (2300 36%) loss : 0.488  accuracy : 88.6 %\n",
      "7m 33s (- 12m 8s) (2400 38%) loss : 0.413  accuracy : 89.8 %\n",
      "7m 51s (- 11m 48s) (2500 39%) loss : 0.384  accuracy : 91.2 %\n",
      "8m 9s (- 11m 27s) (2600 41%) loss : 0.441  accuracy : 89.1 %\n",
      "8m 26s (- 11m 7s) (2700 43%) loss : 0.417  accuracy : 89.5 %\n",
      "8m 44s (- 10m 47s) (2800 44%) loss : 0.408  accuracy : 90.0 %\n",
      "9m 2s (- 10m 27s) (2900 46%) loss : 0.389  accuracy : 90.6 %\n",
      "9m 21s (- 10m 9s) (3000 47%) loss : 0.444  accuracy : 90.0 %\n",
      "9m 40s (- 9m 50s) (3100 49%) loss : 0.410  accuracy : 89.8 %\n",
      "10m 1s (- 9m 34s) (3200 51%) loss : 0.495  accuracy : 87.5 %\n",
      "10m 23s (- 9m 18s) (3300 52%) loss : 0.348  accuracy : 91.7 %\n",
      "10m 44s (- 9m 1s) (3400 54%) loss : 0.496  accuracy : 88.2 %\n",
      "11m 4s (- 8m 43s) (3500 55%) loss : 0.310  accuracy : 92.5 %\n",
      "11m 24s (- 8m 25s) (3600 57%) loss : 0.432  accuracy : 90.2 %\n",
      "11m 44s (- 8m 7s) (3700 59%) loss : 0.383  accuracy : 90.6 %\n",
      "12m 2s (- 7m 47s) (3800 60%) loss : 0.443  accuracy : 89.3 %\n",
      "12m 21s (- 7m 27s) (3900 62%) loss : 0.491  accuracy : 87.8 %\n",
      "12m 38s (- 7m 8s) (4000 63%) loss : 0.317  accuracy : 92.8 %\n",
      "12m 57s (- 6m 49s) (4100 65%) loss : 0.565  accuracy : 84.5 %\n",
      "13m 15s (- 6m 29s) (4200 67%) loss : 0.405  accuracy : 90.7 %\n",
      "13m 36s (- 6m 11s) (4300 68%) loss : 0.438  accuracy : 89.7 %\n",
      "13m 54s (- 5m 52s) (4400 70%) loss : 0.426  accuracy : 89.5 %\n",
      "14m 12s (- 5m 32s) (4500 71%) loss : 0.339  accuracy : 92.4 %\n",
      "14m 31s (- 5m 13s) (4600 73%) loss : 0.417  accuracy : 89.8 %\n",
      "14m 49s (- 4m 54s) (4700 75%) loss : 0.370  accuracy : 91.2 %\n",
      "15m 8s (- 4m 35s) (4800 76%) loss : 0.419  accuracy : 90.8 %\n",
      "15m 26s (- 4m 16s) (4900 78%) loss : 0.425  accuracy : 90.2 %\n",
      "15m 45s (- 3m 57s) (5000 79%) loss : 0.488  accuracy : 87.7 %\n",
      "16m 2s (- 3m 38s) (5100 81%) loss : 0.420  accuracy : 90.0 %\n",
      "16m 20s (- 3m 19s) (5200 83%) loss : 0.347  accuracy : 91.5 %\n",
      "16m 39s (- 3m 0s) (5300 84%) loss : 0.363  accuracy : 92.2 %\n",
      "16m 56s (- 2m 41s) (5400 86%) loss : 0.306  accuracy : 92.7 %\n",
      "17m 14s (- 2m 22s) (5500 87%) loss : 0.381  accuracy : 91.0 %\n",
      "17m 33s (- 2m 3s) (5600 89%) loss : 0.484  accuracy : 87.8 %\n",
      "17m 51s (- 1m 44s) (5700 91%) loss : 0.334  accuracy : 92.6 %\n",
      "18m 10s (- 1m 25s) (5800 92%) loss : 0.369  accuracy : 91.0 %\n",
      "18m 30s (- 1m 7s) (5900 94%) loss : 0.363  accuracy : 90.8 %\n",
      "18m 49s (- 0m 48s) (6000 95%) loss : 0.353  accuracy : 91.2 %\n",
      "19m 7s (- 0m 29s) (6100 97%) loss : 0.350  accuracy : 91.8 %\n",
      "19m 25s (- 0m 10s) (6200 99%) loss : 0.364  accuracy : 92.1 %\n"
     ]
    }
   ],
   "source": [
    "chatbot.fit(batches, epochs = 1, lr = 0.001, tf_ratio = 1,  print_every = 100)\n",
    "chatbot.fit(batches, epochs = 1, lr = 0.001, tf_ratio = 0.5,  print_every = 100)\n",
    "chatbot.fit(batches, epochs = 1, lr = 0.00025, tf_ratio = 0.5,  print_every = 100)"
   ]
  },
  {
   "cell_type": "code",
   "execution_count": null,
   "metadata": {},
   "outputs": [],
   "source": [
    "# save\n",
    "torch.save(chatbot.state_dict(), path_to_NLP + '\\\\saves\\\\models\\\\DL4NLP_II2_encoder_attndecoder_M2DS.pth')\n",
    "\n",
    "# load\n",
    "#chatbot.load_state_dict(torch.load(path_to_NLP + '\\\\saves\\\\models\\\\DL4NLP_II2_encoder_attndecoder_M2DS.pth'))"
   ]
  },
  {
   "cell_type": "markdown",
   "metadata": {},
   "source": [
    "#### Evaluation"
   ]
  },
  {
   "cell_type": "code",
   "execution_count": null,
   "metadata": {},
   "outputs": [],
   "source": [
    "chatbot.compute_accuracy(qa_tst, batch_size = 32)"
   ]
  },
  {
   "cell_type": "code",
   "execution_count": 26,
   "metadata": {},
   "outputs": [],
   "source": [
    "def ReplaceMotVar(motsVar, raw_sentence):\n",
    "    sentence = []\n",
    "    word_list = raw_sentence.split(' ')\n",
    "    for word in word_list :\n",
    "        if word in motsVar.keys() :\n",
    "            sentence.append(motsVar[word])\n",
    "        else :\n",
    "            sentence.append(word)\n",
    "    return ' '.join(sentence)\n",
    "\n",
    "\n",
    "def repair(sentence) :\n",
    "    s = re.sub(\" ' \", \"'\", sentence)\n",
    "    s = re.sub(\" - \", \"-\", s)\n",
    "    s = re.sub(\" ,\", \",\", s)\n",
    "    s = re.sub(r'(?<=\\d) \\. (?=\\d)', '.', s)\n",
    "    s = re.sub(\" \\.\", \".\", s)\n",
    "    s = re.sub(\"\\( \", \"(\", s)\n",
    "    s = re.sub(\" \\)\", \")\", s)\n",
    "    s = s[0].upper() + s[1:]\n",
    "    return s\n",
    "\n",
    "\n",
    "def InteractiveEvaluation(agent) :\n",
    "    print(\"Interactive mode (Press 'q' to exit)\")\n",
    "    agent.eval()\n",
    "    while True :\n",
    "        text = input('User : ')\n",
    "        #print('User : {}'.format(text))\n",
    "        if text == 'eoc' or text == 'q' or text == 'quit' : \n",
    "            break\n",
    "        reponse = agent(text)\n",
    "        reponse = ReplaceMotVar(motsVar, reponse)\n",
    "        reponse = repair(reponse)\n",
    "        print('Bot  : {}'.format(reponse))"
   ]
  },
  {
   "cell_type": "code",
   "execution_count": 418,
   "metadata": {},
   "outputs": [
    {
     "name": "stdout",
     "output_type": "stream",
     "text": [
      "Interactive mode (Press 'q' to exit)\n",
      "User : coucou\n",
      "Bot  : Bonjour, comment puis-je vous aider ?\n",
      "User : salut\n",
      "Bot  : Bonjour, comment puis-je vous aider ?\n",
      "User : tu fais quoi\n",
      "Bot  : Je suis la pour vous renseigner sur le master 2 data science.\n",
      "User : cool, sinon tu sais faire quoi\n",
      "Bot  : Je suis la pour vous renseigner sur le master 2 data science.\n",
      "User : bonjour\n",
      "Bot  : Bonjour, comment puis-je vous aider ?\n",
      "User : caca\n",
      "Bot  : Le responsable du master data science informatique est le pr. Alexandre Aussem\n",
      "User : c'est pas très gentil pour lui ça\n",
      "Bot  : Je suis la pour vous renseigner sur le master 2 data science.\n",
      "User : j'ai un diplome caca c'est ça ?\n",
      "Bot  : C'est a vous de faire un choix.\n",
      "User : hmmm je sais pas\n",
      "Bot  : D'accord, comment puis-je vous aider ?\n",
      "User : parfait mon petit horace\n",
      "Bot  : L'enseignant de statistique graphiques probabilistes est pr. Alexandre Aussem\n",
      "User : pfff tu es con\n",
      "Bot  : Je suis la pour vous renseigner sur le master 2 data science.\n",
      "User : quit\n"
     ]
    }
   ],
   "source": [
    "InteractiveEvaluation(chatbot)"
   ]
  },
  {
   "cell_type": "code",
   "execution_count": 27,
   "metadata": {},
   "outputs": [
    {
     "data": {
      "image/png": "[encoded data removed]",
      "text/plain": [
       "<Figure size 432x288 with 1 Axes>"
      ]
     },
     "metadata": {},
     "output_type": "display_data"
    },
    {
     "data": {
      "text/plain": [
       "'le master comprend les cours de mathematiques suivant : listcoursmath'"
      ]
     },
     "execution_count": 27,
     "metadata": {},
     "output_type": "execute_result"
    }
   ],
   "source": [
    "chatbot.eval()\n",
    "chatbot('quelles sont les ue de mathématiques ?', show_attention = True)"
   ]
  },
  {
   "cell_type": "code",
   "execution_count": null,
   "metadata": {},
   "outputs": [],
   "source": [
    "chatbot.eval()\n",
    "chatbot('ou je peux trouver la liste des ue de mathématiques ?', show_attention = True)"
   ]
  }
 ],
 "metadata": {
  "kernelspec": {
   "display_name": "Python 3",
   "language": "python",
   "name": "python3"
  },
  "language_info": {
   "codemirror_mode": {
    "name": "ipython",
    "version": 3
   },
   "file_extension": ".py",
   "mimetype": "text/x-python",
   "name": "python",
   "nbconvert_exporter": "python",
   "pygments_lexer": "ipython3",
   "version": "3.6.5"
  }
 },
 "nbformat": 4,
 "nbformat_minor": 2
}
