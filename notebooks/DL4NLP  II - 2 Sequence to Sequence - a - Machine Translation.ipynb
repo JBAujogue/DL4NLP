{
 "cells": [
  {
   "cell_type": "markdown",
   "metadata": {},
   "source": [
    "<div style=\"font-variant: small-caps; \n",
    "      font-weight: normal; \n",
    "      font-size: 30px; \n",
    "      text-align: center; \n",
    "      padding: 15px; \n",
    "      margin: 10px;\">\n",
    "  Deep Learning for NLP\n",
    "  </div> \n",
    "  \n",
    "<div style=\"font-variant: small-caps; \n",
    "      font-weight: normal; \n",
    "      font-size: 30px; \n",
    "      text-align: center; \n",
    "      padding: 15px; \n",
    "      margin: 10px;\">\n",
    "    <font color=orange>II - 2 </font>\n",
    "  Sequence to Sequence\n",
    "  </div> \n",
    "\n",
    "  <div style=\"\n",
    "      font-weight: normal; \n",
    "      font-size: 20px; \n",
    "      text-align: center; \n",
    "      padding: 15px;\">\n",
    "    a. Machine Translation\n",
    "  </div> \n",
    "\n",
    "  <div style=\" float:right; \n",
    "      font-size: 12px; \n",
    "      line-height: 12px; \n",
    "  padding: 10px 15px 8px;\">\n",
    "  Jean-baptiste AUJOGUE\n",
    "  </div> "
   ]
  },
  {
   "cell_type": "markdown",
   "metadata": {},
   "source": [
    "### Part I\n",
    "\n",
    "1. Word Embedding\n",
    "\n",
    "2. Sentence Classification\n",
    "\n",
    "3. Language Modeling\n",
    "\n",
    "4. Sequence Labelling\n",
    "\n",
    "\n",
    "### Part II\n",
    "\n",
    "1. Text Classification\n",
    "\n",
    "2. <font color=orange>**Sequence to sequence**</font>\n",
    "\n",
    "\n",
    "### Part III\n",
    "\n",
    "8. Abstractive Summarization\n",
    "\n",
    "9. Question Answering\n",
    "\n",
    "10. Chatbot\n",
    "\n",
    "\n",
    "</div>\n",
    "\n",
    "***"
   ]
  },
  {
   "cell_type": "markdown",
   "metadata": {},
   "source": [
    "<a id=\"plan\"></a>"
   ]
  },
  {
   "cell_type": "markdown",
   "metadata": {},
   "source": [
    "| | | | |\n",
    "|------|------|------|------|\n",
    "| **Content** | [Corpus](#corpus) | [Modules](#modules) | [Model](#model) | \n",
    "\n",
    "We consider here Machine Translation between English and French. Many corpuses can be found at :\n",
    "\n",
    "- http://opus.nlpl.eu/ (most important)\n",
    "- http://www.statmt.org/\n",
    "- https://www.statmt.org/wmt15/translation-task.html\n",
    "- http://casmacat.eu/corpus/global-voices.html\n",
    "- http://www.statmt.org/europarl/\n",
    "\n",
    "Highly optimized repos towards Seq2Seq tasks :\n",
    "- [openNMT](https://github.com/OpenNMT/OpenNMT-py) with paper [OpenNMT: Open-Source Toolkit for Neural Machine Translation (2017)](https://arxiv.org/pdf/1701.02810.pdf)\n",
    "- [AllenNLP](https://github.com/allenai/allennlp) with paper [AllenNLP: A Deep Semantic Natural Language Processing Platform (2018)](https://arxiv.org/pdf/1803.07640.pdf)\n",
    "- [Fairseq](https://github.com/pytorch/fairseq)  with paper [Fairseq: A Fast, Extensible Toolkit for Sequence Modeling (2019)](https://arxiv.org/pdf/1904.01038.pdf)\n",
    "\n",
    "Other influential repos :\n",
    "\n",
    "- [sgrvinod](https://github.com/sgrvinod/a-PyTorch-Tutorial-to-Machine-Translation/blob/master/model.py)\n",
    "\n",
    "A paper describing the state of NMT as of 2020 is [A Survey of Deep Learning Techniques for Neural Machine Translation (2020)](https://arxiv.org/pdf/2002.07526.pdf)"
   ]
  },
  {
   "cell_type": "markdown",
   "metadata": {},
   "source": [
    "# Packages"
   ]
  },
  {
   "cell_type": "code",
   "execution_count": 1,
   "metadata": {},
   "outputs": [
    {
     "name": "stderr",
     "output_type": "stream",
     "text": [
      "C:\\ProgramData\\Anaconda3\\lib\\site-packages\\gensim\\utils.py:1197: UserWarning: detected Windows; aliasing chunkize to chunkize_serial\n",
      "  warnings.warn(\"detected Windows; aliasing chunkize to chunkize_serial\")\n"
     ]
    },
    {
     "name": "stdout",
     "output_type": "stream",
     "text": [
      "python version : 3.6.5 |Anaconda, Inc.| (default, Mar 29 2018, 13:32:41) [MSC v.1900 64 bit (AMD64)]\n",
      "pytorch version : 1.5.0\n",
      "DL device : cuda\n"
     ]
    }
   ],
   "source": [
    "from __future__ import unicode_literals, print_function, division\n",
    "\n",
    "import sys\n",
    "import warnings\n",
    "import os\n",
    "from io import open\n",
    "import unicodedata\n",
    "import string\n",
    "import json\n",
    "import time\n",
    "import math\n",
    "import re\n",
    "import random\n",
    "import pickle\n",
    "import copy\n",
    "from unidecode import unidecode\n",
    "import itertools\n",
    "import matplotlib\n",
    "import matplotlib.pyplot as plt\n",
    "\n",
    "\n",
    "# for special math operation\n",
    "from sklearn.preprocessing import normalize\n",
    "\n",
    "\n",
    "# for manipulating data \n",
    "import numpy as np\n",
    "#np.set_printoptions(threshold=np.nan)\n",
    "import pandas as pd\n",
    "import bcolz # see https://bcolz.readthedocs.io/en/latest/intro.html\n",
    "import pickle\n",
    "\n",
    "\n",
    "# for text processing\n",
    "import gensim\n",
    "from gensim.models import KeyedVectors\n",
    "import nltk\n",
    "#nltk.download()\n",
    "from nltk.tokenize import sent_tokenize, word_tokenize, RegexpTokenizer\n",
    "from nltk.stem.porter import PorterStemmer\n",
    "import spacy\n",
    "\n",
    "# for deep learning\n",
    "import torch\n",
    "import torch.nn as nn\n",
    "from torch.autograd import Variable\n",
    "from torch import optim\n",
    "import torch.nn.functional as F\n",
    "from torch.utils.data import DataLoader\n",
    "device = torch.device(\"cuda\" if torch.cuda.is_available() else \"cpu\")\n",
    "#device = torch.device(\"cpu\")\n",
    "\n",
    "warnings.filterwarnings(\"ignore\")\n",
    "print('python version :', sys.version)\n",
    "print('pytorch version :', torch.__version__)\n",
    "print('DL device :', device)"
   ]
  },
  {
   "cell_type": "code",
   "execution_count": 2,
   "metadata": {},
   "outputs": [],
   "source": [
    "path_to_DL4NLP = os.path.dirname(os.getcwd())\n",
    "path_to_data   = 'D:\\\\data'"
   ]
  },
  {
   "cell_type": "code",
   "execution_count": 3,
   "metadata": {},
   "outputs": [],
   "source": [
    "sys.path.append(path_to_DL4NLP + '\\\\lib')"
   ]
  },
  {
   "cell_type": "markdown",
   "metadata": {},
   "source": [
    "<a id=\"corpus\"></a>"
   ]
  },
  {
   "cell_type": "markdown",
   "metadata": {},
   "source": [
    "# Corpus\n",
    "\n",
    "[Back to top](#plan)\n",
    "\n",
    "Le texte est importé et mis sous forme de liste, où chaque élément représente un texte présenté sous forme d'une liste de mots."
   ]
  },
  {
   "cell_type": "code",
   "execution_count": 4,
   "metadata": {},
   "outputs": [],
   "source": [
    "# data 1\n",
    "with open(path_to_data + '\\\\english-french translation\\\\kaggle1\\\\small_vocab_en.csv', encoding = 'utf8') as f : corpus1_en = f.readlines()\n",
    "with open(path_to_data + '\\\\english-french translation\\\\kaggle1\\\\small_vocab_fr.csv', encoding = 'utf8') as f : corpus1_fr = f.readlines()"
   ]
  },
  {
   "cell_type": "code",
   "execution_count": 5,
   "metadata": {},
   "outputs": [
    {
     "name": "stdout",
     "output_type": "stream",
     "text": [
      "137860 137860\n"
     ]
    }
   ],
   "source": [
    "print(len(corpus1_en), len(corpus1_fr))"
   ]
  },
  {
   "cell_type": "code",
   "execution_count": 6,
   "metadata": {},
   "outputs": [],
   "source": [
    "# data 2\n",
    "# plusieurs versions fr correspondant à une seule phrase en.\n",
    "# donc plus approprié pour fr -> en\n",
    "with open(path_to_data + '\\\\english-french translation\\\\ankiweb\\\\fr_en.txt', encoding = 'utf8') as f : corpus2 = f.readlines()\n",
    "    \n",
    "corpus2 = [s.split('\\t') for\n",
    "           s in corpus2]\n",
    "corpus2_en = [s[0] for s in corpus2]\n",
    "corpus2_fr = [s[1] for s in corpus2]"
   ]
  },
  {
   "cell_type": "code",
   "execution_count": 7,
   "metadata": {},
   "outputs": [
    {
     "name": "stdout",
     "output_type": "stream",
     "text": [
      "145437 145437\n"
     ]
    }
   ],
   "source": [
    "print(len(corpus2_en), len(corpus2_fr))"
   ]
  },
  {
   "cell_type": "code",
   "execution_count": 8,
   "metadata": {},
   "outputs": [],
   "source": [
    "# data 3\n",
    "df = np.load(path_to_data + '\\\\english-french translation\\\\kaggle3\\\\data.npz')\n",
    "with open(path_to_data + '\\\\english-french translation\\\\kaggle3\\\\inp_lang.json')  as json_file: lang0 = json.load(json_file)\n",
    "with open(path_to_data + '\\\\english-french translation\\\\kaggle3\\\\targ_lang.json') as json_file: lang1 = json.load(json_file)"
   ]
  },
  {
   "cell_type": "code",
   "execution_count": 9,
   "metadata": {},
   "outputs": [],
   "source": [
    "infos_en = json.loads(lang0)\n",
    "infos_fr = json.loads(lang1)\n",
    "\n",
    "index2word_en = json.loads(infos_en['config']['index_word'])\n",
    "index2word_fr = json.loads(infos_fr['config']['index_word'])\n",
    "\n",
    "index2word_en['1'] = 'UNK'\n",
    "index2word_en['2'] = 'SOS'\n",
    "index2word_en['3'] = 'EOS'\n",
    "\n",
    "index2word_fr['1'] = 'SOS'\n",
    "index2word_fr['2'] = 'EOS'\n",
    "#word2index_en = json.loads(infos_en['config']['word_index'])\n",
    "#word2index_fr = json.loads(infos_fr['config']['word_index'])"
   ]
  },
  {
   "cell_type": "code",
   "execution_count": 10,
   "metadata": {},
   "outputs": [
    {
     "name": "stdout",
     "output_type": "stream",
     "text": [
      "[('1', 'UNK'), ('2', 'SOS'), ('3', 'EOS'), ('4', 'i'), ('5', 'the')]\n",
      "[('1', 'SOS'), ('2', 'EOS'), ('3', 'je'), ('4', 'de'), ('5', 'pas')]\n"
     ]
    }
   ],
   "source": [
    "print(list(index2word_en.items())[:5])\n",
    "print(list(index2word_fr.items())[:5])"
   ]
  },
  {
   "cell_type": "code",
   "execution_count": 11,
   "metadata": {},
   "outputs": [],
   "source": [
    "data = [df[f] for f in df.files]"
   ]
  },
  {
   "cell_type": "code",
   "execution_count": 12,
   "metadata": {},
   "outputs": [],
   "source": [
    "corpus3_en = [' '.join([index2word_en[str(i)] for i in s if i > 3]) for s in data[0]]\n",
    "corpus3_fr = [' '.join([index2word_fr[str(i)] for i in s if i > 2]) for s in data[1]]"
   ]
  },
  {
   "cell_type": "code",
   "execution_count": 13,
   "metadata": {},
   "outputs": [
    {
     "name": "stdout",
     "output_type": "stream",
     "text": [
      "i lost \n",
      " j'ai perdu\n"
     ]
    }
   ],
   "source": [
    "print(corpus3_en[10], '\\n', corpus3_fr[10])"
   ]
  },
  {
   "cell_type": "code",
   "execution_count": 14,
   "metadata": {},
   "outputs": [
    {
     "name": "stdout",
     "output_type": "stream",
     "text": [
      "121935 121935\n"
     ]
    }
   ],
   "source": [
    "print(len(corpus3_en), len(corpus3_fr))"
   ]
  },
  {
   "cell_type": "code",
   "execution_count": 15,
   "metadata": {},
   "outputs": [],
   "source": [
    "# not implemented\n",
    "# plusieurs versions fr correspondant à une seule phrase en.\n",
    "# donc plus approprié pour fr -> en\n",
    "#df = pd.read_excel(path_to_data + '\\\\english-french translation\\\\kaggle2\\\\eng-french.xlsx', header = 0, encoding = 'unicode')"
   ]
  },
  {
   "cell_type": "code",
   "execution_count": 16,
   "metadata": {},
   "outputs": [],
   "source": [
    "# not implemented\n",
    "# de mauvaise qualité donc inutilisé\n",
    "#with open(path_to_data + '\\\\english-french translation\\\\commoncrawl\\\\commoncrawl.fr-en.en', encoding = 'utf8') as f : corpus4_en = f.readlines()\n",
    "#with open(path_to_data + '\\\\english-french translation\\\\commoncrawl\\\\commoncrawl.fr-en.fr', encoding = 'utf8') as f : corpus4_fr = f.readlines()"
   ]
  },
  {
   "cell_type": "code",
   "execution_count": 17,
   "metadata": {},
   "outputs": [],
   "source": [
    "# data 4\n",
    "with open(path_to_data + '\\\\english-french translation\\\\IWSLT 2017 evaluation campaign fr-en\\\\train.tags.fr-en.en', encoding = 'utf8') as f : corpus4_en = f.readlines()\n",
    "with open(path_to_data + '\\\\english-french translation\\\\IWSLT 2017 evaluation campaign fr-en\\\\train.tags.fr-en.fr', encoding = 'utf8') as f : corpus4_fr = f.readlines()"
   ]
  },
  {
   "cell_type": "code",
   "execution_count": 18,
   "metadata": {},
   "outputs": [],
   "source": [
    "html_indices = [i for i, s in enumerate(corpus4_en) if s.startswith('<')]\n",
    "corpus4_en = [s for i, s in enumerate(corpus4_en) if i not in html_indices]\n",
    "corpus4_fr = [s for i, s in enumerate(corpus4_fr) if i not in html_indices]"
   ]
  },
  {
   "cell_type": "code",
   "execution_count": 19,
   "metadata": {},
   "outputs": [
    {
     "name": "stdout",
     "output_type": "stream",
     "text": [
      "232825 232825\n"
     ]
    }
   ],
   "source": [
    "print(len(corpus4_en), len(corpus4_fr)) \n",
    "# 232825"
   ]
  },
  {
   "cell_type": "markdown",
   "metadata": {},
   "source": [
    "#### $\\bullet$ Fusion of all corpuses"
   ]
  },
  {
   "cell_type": "code",
   "execution_count": 20,
   "metadata": {},
   "outputs": [],
   "source": [
    "corpus_en = corpus1_en + corpus2_en + corpus3_en + corpus4_en\n",
    "corpus_fr = corpus1_fr + corpus2_fr + corpus3_fr + corpus4_fr"
   ]
  },
  {
   "cell_type": "code",
   "execution_count": 21,
   "metadata": {},
   "outputs": [
    {
     "name": "stdout",
     "output_type": "stream",
     "text": [
      "638057 638057\n"
     ]
    }
   ],
   "source": [
    "print(len(corpus_en), len(corpus_fr))"
   ]
  },
  {
   "cell_type": "code",
   "execution_count": 22,
   "metadata": {
    "scrolled": true
   },
   "outputs": [
    {
     "name": "stdout",
     "output_type": "stream",
     "text": [
      "he saw a old yellow truck .\n",
      " \n",
      " il a vu un vieux camion jaune .\n",
      "\n"
     ]
    }
   ],
   "source": [
    "print(corpus_en[11],'\\n', corpus_fr[11])"
   ]
  },
  {
   "cell_type": "code",
   "execution_count": 23,
   "metadata": {},
   "outputs": [
    {
     "name": "stdout",
     "output_type": "stream",
     "text": [
      "What kind of music did you listen to when you were a teenager? \n",
      " Quelle sorte de musique écoutais-tu lorsque tu étais adolescent ?\n",
      "\n"
     ]
    }
   ],
   "source": [
    "print(corpus_en[280000], '\\n',corpus_fr[280000])"
   ]
  },
  {
   "cell_type": "code",
   "execution_count": 24,
   "metadata": {},
   "outputs": [
    {
     "name": "stdout",
     "output_type": "stream",
     "text": [
      "Cristina had worked for four years with my sister and the quality of her work was well-established. \n",
      " \n",
      "  Cristina avait travaillé avec ma sœur pendant 4 ans et la qualité de son travail était bien établie.\n",
      "\n"
     ]
    }
   ],
   "source": [
    "print(corpus_en[-255],'\\n', corpus_fr[-255])"
   ]
  },
  {
   "cell_type": "code",
   "execution_count": 26,
   "metadata": {},
   "outputs": [],
   "source": [
    "def tokenize(s) :\n",
    "    words = word_tokenize(s)\n",
    "    words = [w.lower() for w in words]\n",
    "    return words\n",
    "\n",
    "def tokenize2(en, fr) :\n",
    "    def replace(w, copies) :\n",
    "        if w in copies :\n",
    "            # if w has at least one num and has no letter\n",
    "            if re.sub('[0-9]', '', w) != w and re.sub('[a-zA-Z]', '', w) == w : return 'NUM'\n",
    "            # if first letter is upper case\n",
    "            elif w[0].isupper() : return 'PROPN'\n",
    "        return w.lower()\n",
    "    en, fr = word_tokenize(en), word_tokenize(fr)\n",
    "    copies = np.unique([w for w in en if w in fr])\n",
    "    en = [replace(w, copies) for w in en]\n",
    "    fr = [replace(w, copies) for w in fr]\n",
    "    return (en, fr)\n",
    "\n",
    "def keep(en, fr) :\n",
    "    return (0 < len(en) < 25 and 0 < len(fr) < 25) # and len(intersect(en, fr)) <= 3)"
   ]
  },
  {
   "cell_type": "markdown",
   "metadata": {},
   "source": [
    "Avoid sentences with more than 25 words :"
   ]
  },
  {
   "cell_type": "code",
   "execution_count": 27,
   "metadata": {},
   "outputs": [],
   "source": [
    "#en_fr = [[tokenize(en), tokenize(fr)] for en, fr in zip(corpus_en, corpus_fr)]\n",
    "#en_fr = [[en, fr] for en, fr in en_fr if keep(en, fr)]"
   ]
  },
  {
   "cell_type": "code",
   "execution_count": 28,
   "metadata": {},
   "outputs": [],
   "source": [
    "en_fr = [tokenize2(en, fr) for en, fr in zip(corpus_en, corpus_fr)]\n",
    "en_fr = [[en, fr] for en, fr in en_fr if keep(en, fr)]"
   ]
  },
  {
   "cell_type": "code",
   "execution_count": 29,
   "metadata": {},
   "outputs": [],
   "source": [
    "fr_en = [[p[1], p[0]] for p in en_fr]"
   ]
  },
  {
   "cell_type": "code",
   "execution_count": 30,
   "metadata": {},
   "outputs": [
    {
     "data": {
      "text/plain": [
       "562611"
      ]
     },
     "execution_count": 30,
     "metadata": {},
     "output_type": "execute_result"
    }
   ],
   "source": [
    "len(en_fr)"
   ]
  },
  {
   "cell_type": "code",
   "execution_count": 31,
   "metadata": {},
   "outputs": [],
   "source": [
    "copies = [w for s in en_fr for w in s[0] if w in s[1]]\n",
    "copies = np.unique(copies)"
   ]
  },
  {
   "cell_type": "code",
   "execution_count": 32,
   "metadata": {},
   "outputs": [
    {
     "data": {
      "text/plain": [
       "4588"
      ]
     },
     "execution_count": 32,
     "metadata": {},
     "output_type": "execute_result"
    }
   ],
   "source": [
    "len(copies)"
   ]
  },
  {
   "cell_type": "markdown",
   "metadata": {},
   "source": [
    "<a id=\"modules\"></a>"
   ]
  },
  {
   "cell_type": "markdown",
   "metadata": {},
   "source": [
    "# 1 Modules\n",
    "\n",
    "### 1.1 Word Embedding module\n",
    "\n",
    "[Back to top](#plan)\n",
    "\n",
    "We consider here a FastText model trained following the Skip-Gram training objective."
   ]
  },
  {
   "cell_type": "code",
   "execution_count": 4,
   "metadata": {},
   "outputs": [],
   "source": [
    "from libDL4NLP.models.Word_Embedding import Word2Vec as myWord2Vec\n",
    "from libDL4NLP.models.Word_Embedding import Word2VecConnector\n",
    "from libDL4NLP.utils.Lang import Lang"
   ]
  },
  {
   "cell_type": "code",
   "execution_count": 5,
   "metadata": {},
   "outputs": [],
   "source": [
    "from gensim.models import Word2Vec\n",
    "from gensim.models.fasttext import FastText\n",
    "from gensim.test.utils import datapath, get_tmpfile"
   ]
  },
  {
   "cell_type": "markdown",
   "metadata": {},
   "source": [
    "**Option 1** : Load pretrained"
   ]
  },
  {
   "cell_type": "code",
   "execution_count": 6,
   "metadata": {},
   "outputs": [],
   "source": [
    "# load\n",
    "#word2vec_en = FastText.load(get_tmpfile(path_to_DL4NLP + \"\\\\saves\\\\DL4NLP_II2a_w2v_en.model\"))\n",
    "#word2vec_fr = FastText.load(get_tmpfile(path_to_DL4NLP + \"\\\\saves\\\\DL4NLP_II2a_w2v_fr.model\"))\n",
    "\n",
    "word2vec_en_xl = FastText.load(get_tmpfile(path_to_DL4NLP + \"\\\\saves\\\\DL4NLP_II2a_w2v_en_xl.model\"))\n",
    "word2vec_fr_xl = FastText.load(get_tmpfile(path_to_DL4NLP + \"\\\\saves\\\\DL4NLP_II2a_w2v_fr_xl.model\"))"
   ]
  },
  {
   "cell_type": "markdown",
   "metadata": {},
   "source": [
    "**Option 2** : Train new model"
   ]
  },
  {
   "cell_type": "code",
   "execution_count": 109,
   "metadata": {},
   "outputs": [],
   "source": [
    "corpus_in  = [['SOS'] + s[0] + ['EOS'] for s in fr_en]\n",
    "corpus_out = [['SOS'] + s[1] + ['EOS'] for s in fr_en]"
   ]
  },
  {
   "cell_type": "code",
   "execution_count": 110,
   "metadata": {},
   "outputs": [],
   "source": [
    "word2vec_fr = FastText(\n",
    "    size = 200,\n",
    "    window = 5, \n",
    "    min_count = 2, \n",
    "    negative = 15,\n",
    "    sg = 1)"
   ]
  },
  {
   "cell_type": "code",
   "execution_count": 111,
   "metadata": {},
   "outputs": [
    {
     "name": "stdout",
     "output_type": "stream",
     "text": [
      "40862\n"
     ]
    }
   ],
   "source": [
    "word2vec_fr.build_vocab(corpus_in)\n",
    "print(len(word2vec_fr.wv.vocab))"
   ]
  },
  {
   "cell_type": "code",
   "execution_count": 118,
   "metadata": {
    "scrolled": true
   },
   "outputs": [],
   "source": [
    "word2vec_fr.train(sentences = corpus_in, \n",
    "                  epochs = 50,\n",
    "                  total_examples = word2vec_fr.corpus_count)"
   ]
  },
  {
   "cell_type": "code",
   "execution_count": 116,
   "metadata": {},
   "outputs": [],
   "source": [
    "word2vec_en = FastText(size = 200, \n",
    "                        window = 5, \n",
    "                        min_count = 1, \n",
    "                        negative = 15,\n",
    "                        sg = 1)"
   ]
  },
  {
   "cell_type": "code",
   "execution_count": 117,
   "metadata": {},
   "outputs": [
    {
     "name": "stdout",
     "output_type": "stream",
     "text": [
      "39805\n"
     ]
    }
   ],
   "source": [
    "word2vec_en.build_vocab(corpus_out)\n",
    "print(len(word2vec_en.wv.vocab))"
   ]
  },
  {
   "cell_type": "code",
   "execution_count": 119,
   "metadata": {},
   "outputs": [],
   "source": [
    "word2vec_en.train(sentences = corpus_out, \n",
    "                  epochs = 50,\n",
    "                  total_examples = word2vec_en.corpus_count)"
   ]
  },
  {
   "cell_type": "code",
   "execution_count": 120,
   "metadata": {},
   "outputs": [],
   "source": [
    "# save\n",
    "#word2vec_en.save(get_tmpfile(path_to_DL4NLP + \"\\\\saves\\\\DL4NLP_II2a_w2v_en_xl.model\"))\n",
    "#word2vec_fr.save(get_tmpfile(path_to_DL4NLP + \"\\\\saves\\\\DL4NLP_II2a_w2v_fr_xl.model\"))"
   ]
  },
  {
   "cell_type": "markdown",
   "metadata": {},
   "source": [
    "### 1.2 Contextualization module\n",
    "\n",
    "[Back to top](#plan)\n",
    "\n",
    "This module consists of a bi-directional _Gated Recurrent Unit_ (GRU) that supports packed sentences :"
   ]
  },
  {
   "cell_type": "code",
   "execution_count": 7,
   "metadata": {},
   "outputs": [],
   "source": [
    "from libDL4NLP.modules import RecurrentEncoder"
   ]
  },
  {
   "cell_type": "markdown",
   "metadata": {},
   "source": [
    "### 1.3 Attention module\n",
    "\n",
    "[Back to top](#plan)\n",
    "\n",
    "<a id=\"attention\"></a>\n",
    "\n",
    "We use here a classical Attention Module :"
   ]
  },
  {
   "cell_type": "code",
   "execution_count": 8,
   "metadata": {},
   "outputs": [],
   "source": [
    "from libDL4NLP.modules import Attention"
   ]
  },
  {
   "cell_type": "markdown",
   "metadata": {},
   "source": [
    "### 1.4 Decoder module\n",
    "\n",
    "[Back to top](#plan)\n",
    "\n",
    "<a id=\"decoder\"></a>\n",
    "\n",
    "#### 1.4.1 Vanilla Decoder"
   ]
  },
  {
   "cell_type": "code",
   "execution_count": null,
   "metadata": {},
   "outputs": [],
   "source": [
    "#from libDL4NLP.modules import Decoder"
   ]
  },
  {
   "cell_type": "code",
   "execution_count": 9,
   "metadata": {},
   "outputs": [],
   "source": [
    "class Decoder(nn.Module):\n",
    "    '''Transforms a vector into a sequence of words'''\n",
    "    def __init__(self, word2vec, hid_dim, \n",
    "                 n_layer = 1,\n",
    "                 dropout = 0.1,\n",
    "                 bound   = 25\n",
    "                ):\n",
    "        super().__init__()\n",
    "        \n",
    "        # relevant quantities\n",
    "        self.hid_dim = hid_dim\n",
    "        self.n_layer = n_layer\n",
    "        self.bound   = bound\n",
    "        # modules\n",
    "        self.word2vec = word2vec\n",
    "        \n",
    "        self.gru = nn.GRU(\n",
    "            word2vec.out_dim,\n",
    "            hid_dim, \n",
    "            n_layer, \n",
    "            dropout = dropout, \n",
    "            batch_first = True)\n",
    "        \n",
    "        self.out = nn.Linear(\n",
    "            hid_dim, \n",
    "            word2vec.lang.n_words)\n",
    "        \n",
    "        self.dropout = nn.Dropout(dropout)\n",
    "    \n",
    "    \n",
    "    def initWordTensor(self, index_list, device = None) :\n",
    "        word = torch.LongTensor(index_list).view(-1, 1)     # size (batch_size, 1)\n",
    "        word = Variable(word)                               # size (batch_size, 1)\n",
    "        if device is not None : word = word.to(device)      # size (batch_size, 1)\n",
    "        return word\n",
    "        \n",
    "        \n",
    "    def generateWord(self, hidden, word):\n",
    "        '''word is a LongTensor with size (batch_size, 1)'''\n",
    "        embedding = self.word2vec.embedding(word)       # size (batch_size, 1, emb_dim)\n",
    "        embedding = self.dropout(embedding)             # size (batch_size, 1, emb_dim)\n",
    "        _, hidden = self.gru(embedding, hidden)         # size (n_layer, batch_size, emb_dim)\n",
    "        vect      = self.out(hidden[-1])                # size (batch_size, lang_size)\n",
    "        return vect, hidden\n",
    "    \n",
    "    \n",
    "    def forward(self, hidden, device = None) :\n",
    "        answer = []\n",
    "        EOS_token = self.word2vec.lang.getIndex('EOS')\n",
    "        SOS_token = self.word2vec.lang.getIndex('SOS')\n",
    "        word      = self.initWordTensor([SOS_token], device = device)\n",
    "        hidden    = hidden[-self.n_layer:]              # size (n_layer, 1, hid_dim)\n",
    "        # word generation\n",
    "        for t in range(self.bound) :\n",
    "            # compute next word proba\n",
    "            vect, hidden = self.generateWord(hidden, word)\n",
    "            # compute next word index\n",
    "            word_index = vect.topk(1, dim = 1)[1].item()\n",
    "            # stopping criterion\n",
    "            if word_index == EOS_token : break\n",
    "            else : \n",
    "                answer.append(word_index)\n",
    "                word = vect.topk(1, dim = 1)[1].view(1, 1)\n",
    "        return answer"
   ]
  },
  {
   "cell_type": "markdown",
   "metadata": {},
   "source": [
    "#### 1.4.2 Decoder with Attention\n",
    "\n",
    "Decoder with an Attention mechanism, that reads over input words and select most salient words at each decoding step. This idea is proposed in [Effective Approaches to Attention-based Neural Machine Translation\n",
    " (2015)](https://arxiv.org/pdf/1508.04025.pdf)."
   ]
  },
  {
   "cell_type": "code",
   "execution_count": null,
   "metadata": {},
   "outputs": [],
   "source": [
    "#from libDL4NLP.modules import AttnDecoder"
   ]
  },
  {
   "cell_type": "code",
   "execution_count": 10,
   "metadata": {},
   "outputs": [],
   "source": [
    "class AttnDecoder(nn.Module):\n",
    "    '''Transforms a vector into a sequence of words'''\n",
    "    def __init__(self, word2vec, attn_dim, hid_dim,\n",
    "                 n_layer = 1,\n",
    "                 attn_method = 'concat',\n",
    "                 dropout = 0.1,\n",
    "                 bound   = 25,\n",
    "                 temperature = 1,\n",
    "                 top = None\n",
    "                ):\n",
    "        super().__init__()\n",
    "        \n",
    "        # relevant quantities\n",
    "        self.attn_dim = attn_dim\n",
    "        self.hid_dim  = hid_dim\n",
    "        self.n_layer  = n_layer\n",
    "        self.method   = attn_method\n",
    "        self.bound    = bound\n",
    "        self.temp     = temperature\n",
    "        self.top      = top\n",
    "        \n",
    "        # modules\n",
    "        self.word2vec = word2vec\n",
    "        \n",
    "        self.gru = nn.GRU(\n",
    "            word2vec.out_dim,\n",
    "            hid_dim, \n",
    "            n_layer, \n",
    "            dropout = dropout,\n",
    "            batch_first = True)\n",
    "        \n",
    "        self.attn = Attention(\n",
    "            emb_dim   = attn_dim, \n",
    "            query_dim = hid_dim, \n",
    "            method    = attn_method,\n",
    "            dropout   = dropout)\n",
    "        \n",
    "        self.out = nn.Linear(attn_dim + hid_dim, word2vec.lang.n_words)\n",
    "        \n",
    "        self.dropout = nn.Dropout(dropout)\n",
    "    \n",
    "    \n",
    "    def initWordTensor(self, index_list, device = None) :\n",
    "        word = torch.LongTensor(index_list).view(-1, 1)       # size (batch_size, 1)\n",
    "        word = Variable(word)                                 # size (batch_size, 1)\n",
    "        if device is not None : word = word.to(device)        # size (batch_size, 1)\n",
    "        return word\n",
    "        \n",
    "        \n",
    "    def generateWord(self, hidden, word, embeddings, lengths = None):\n",
    "        '''word is a LongTensor with size (batch_size, 1)'''\n",
    "        # update hidden state\n",
    "        embedding = self.word2vec.embedding(word)             # size (batch_size, 1, emb_dim)\n",
    "        embedding = self.dropout(embedding)                   # size (batch_size, 1, emb_dim)\n",
    "        _, hidden = self.gru(embedding, hidden)               # size (n_layer, batch_size, hid_dim)\n",
    "        # compute attention\n",
    "        query = self.dropout(hidden[-1].unsqueeze(1))         # size (batch_size, 1, hid_dim)\n",
    "        attn, weights = self.attn(embeddings, query, lengths) # size (batch_size, 1, attn_dim)\n",
    "        # merge hidden with attention\n",
    "        merge = torch.cat([hidden[-1], attn.squeeze(1)], dim = 1) \n",
    "        merge = self.dropout(merge)                           # size (batch_size, hid_dim + attn_dim)\n",
    "        # generate next word\n",
    "        vect = self.out(merge)                                # size (batch_size, lang_size)\n",
    "        return (vect, hidden, weights)\n",
    "    \n",
    "\n",
    "    def computeProba(self, vect, device = None):\n",
    "        '''Converts a word repartition vector with size (batch_size, lang_size)\n",
    "           into a probability vector with size (batch_size, lang_size)'''\n",
    "        # apply temperature\n",
    "        vect /= self.temp\n",
    "        # top-p proba refactoring\n",
    "        if type(self.top) == float and 0 < self.top < 1 : \n",
    "            # TODO\n",
    "            proba = F.softmax(vect, dim = 1)\n",
    "        #top-k proba refactoring\n",
    "        elif type(self.top) == int and self.top > 0 : \n",
    "            vals, inds = vect.topk(self.top, dim = 1)        # size (batch_size, self.top)\n",
    "            proba_vals = F.softmax(vals, dim = 1)            # size (batch_size, self.top)\n",
    "            proba = torch.FloatTensor(vect.size()).zero_()\n",
    "            if device is not None : proba = proba.to(device)\n",
    "            proba.scatter_(1, inds, proba_vals)              # size (batch_size, lang_size)\n",
    "        # vanilla softmax\n",
    "        else :\n",
    "            proba = F.softmax(vect, dim = 1)\n",
    "        return proba\n",
    "    \n",
    "    \n",
    "    def sampleWord(self, proba) :\n",
    "        '''Selects word indices out of a probability distribution over vocab'''\n",
    "        # choose best\n",
    "        word = proba.topk(1, dim = 1)[1] \n",
    "        # random sampling\n",
    "        # TODO\n",
    "        return word\n",
    "    \n",
    "    \n",
    "    def forward(self, hidden, embeddings, lengths = None, device = None) :\n",
    "        answer  = []\n",
    "        weights = None\n",
    "        EOS_token = self.word2vec.lang.getIndex('EOS')\n",
    "        SOS_token = self.word2vec.lang.getIndex('SOS')\n",
    "        word      = self.initWordTensor([SOS_token], device = device)\n",
    "        hidden    = hidden[-self.n_layer:]             # size (n_layer, 1, hid_dim)\n",
    "        # word generation\n",
    "        for t in range(self.bound) :\n",
    "            # compute next word\n",
    "            vect, hidden, attn = self.generateWord(hidden, word, embeddings, lengths)\n",
    "            proba = self.computeProba(vect, device)\n",
    "            word  = self.sampleWord(proba)\n",
    "            # cumulate word and attention weight\n",
    "            if word.item() != EOS_token :\n",
    "                answer.append(word.item())\n",
    "                if t == 0 : weights = attn\n",
    "                else      : weights = torch.cat((weights, attn), dim = 1) # size(1, out_length, in_length)\n",
    "            # stopping criterion\n",
    "            else : break\n",
    "        return (answer, weights)"
   ]
  },
  {
   "cell_type": "markdown",
   "metadata": {},
   "source": [
    "#### 1.4.3 Decoder with Smoothed Past Token Feeding\n",
    "\n",
    "An Attention Decoder being a smooth function of the encode-to-decode hidden vector. This idea was presented in [Differentiable Scheduled Sampling for Credit Assignment (2017)](https://arxiv.org/pdf/1704.06970.pdf). This makes the model struggle to learn, and does not lead to any improvement. To make a compromise between feeding the _single generated token_ or _full word probability_ computed during previous token generation, we propose to pass as input a word probability refactored on top-k words, with k an hyperparameter. k = 1 corresponds to feeding the past generated token, whereas k = vocab_size yields de full probability feed. This is inspired from top-k sampling and top-p sampling presented in [The Curious Case of Neural Text Degeneration (2019)](https://arxiv.org/pdf/1904.09751.pdf). \n",
    "\n",
    "This latter idea yielded better results than fully smooth decoder, but counldn't compete with the previous attention decoder."
   ]
  },
  {
   "cell_type": "code",
   "execution_count": null,
   "metadata": {},
   "outputs": [],
   "source": [
    "#from libDL4NLP.modules import SmoothAttnDecoder"
   ]
  },
  {
   "cell_type": "code",
   "execution_count": 11,
   "metadata": {},
   "outputs": [],
   "source": [
    "class SmoothAttnDecoder(nn.Module):\n",
    "    '''\n",
    "    Converts a vector into a sequence of words,\n",
    "    where next token prediction is based on previous token probability distribution\n",
    "    rather than previous token selection\n",
    "    '''\n",
    "    def __init__(self, word2vec, attn_dim, hid_dim,\n",
    "                 n_layer = 1,\n",
    "                 attn_method = 'concat',\n",
    "                 dropout = 0.1,\n",
    "                 bound   = 25,\n",
    "                 temperature = 1,\n",
    "                 top = None\n",
    "                ):\n",
    "        super().__init__()\n",
    "        \n",
    "        # relevant quantities\n",
    "        lang_size, emb_dim = word2vec.embedding.weight.size()\n",
    "        self.lang_size = lang_size\n",
    "        self.emb_dim   = emb_dim\n",
    "        self.attn_dim  = attn_dim\n",
    "        self.hid_dim   = hid_dim\n",
    "        self.n_layer   = n_layer\n",
    "        self.method    = attn_method\n",
    "        self.bound     = bound\n",
    "        self.temp      = temperature\n",
    "        self.top       = top\n",
    "        \n",
    "        # modules\n",
    "        # dense embedding with shared weights\n",
    "        self.embedding = nn.Linear(lang_size, emb_dim, bias = False)\n",
    "        self.embedding.weight.data = word2vec.embedding.weight.data.t()\n",
    "        for param in self.embedding.parameters() : param.requires_grad = False\n",
    "            \n",
    "        self.word2vec = word2vec\n",
    "        \n",
    "        self.gru = nn.GRU(\n",
    "            emb_dim,\n",
    "            hid_dim,\n",
    "            n_layer,\n",
    "            dropout = dropout,\n",
    "            batch_first = True)\n",
    "        \n",
    "        self.attn = Attention(\n",
    "            emb_dim   = attn_dim, \n",
    "            query_dim = hid_dim, \n",
    "            method    = attn_method,\n",
    "            dropout   = dropout)\n",
    "        \n",
    "        self.out = nn.Linear(attn_dim + hid_dim, lang_size)\n",
    "\n",
    "        self.act = F.log_softmax\n",
    "        self.dropout = nn.Dropout(dropout)\n",
    "\n",
    "        \n",
    "    def initWordTensor(self, index_list, device = None) :\n",
    "        '''converts a list of N word indices with vocab of size L\n",
    "           into a dense FloatTensor of size (N, L)'''\n",
    "        word = torch.zeros((len(index_list), self.lang_size), dtype = torch.float)\n",
    "        for i, index in enumerate(index_list) : word[i, index] = 1.\n",
    "        word = Variable(word)                                 # size (batch_size, lang_size)\n",
    "        if device is not None : word = word.to(device)        # size (batch_size, lang_size)\n",
    "        return word\n",
    "        \n",
    "        \n",
    "    def generateWord(self, hidden, word, embeddings, lengths = None):\n",
    "        '''word is a FloatTensor with size (batch_size, lang_size)'''\n",
    "        # update hidden state\n",
    "        embedding = self.embedding(word.unsqueeze(1))         # size (batch_size, 1, emb_dim)\n",
    "        embedding = self.dropout(embedding)                   # size (batch_size, 1, emb_dim)\n",
    "        _, hidden  = self.gru(embedding, hidden)              # size (n_layer, batch_size, hid_dim)\n",
    "        # compute attention\n",
    "        query = self.dropout(hidden[-1].unsqueeze(1))         # size (batch_size, 1, hid_dim)\n",
    "        attn, weights = self.attn(embeddings, query, lengths) # size (batch_size, 1, attn_dim)\n",
    "        # merge hidden with attention\n",
    "        merge = torch.cat([hidden[-1], attn.squeeze(1)], dim = 1) \n",
    "        merge = self.dropout(merge)                           # size (batch_size, hid_dim + attn_dim)\n",
    "        # generate next word\n",
    "        vect = self.out(merge)                                # size (batch_size, lang_size)\n",
    "        return (vect, hidden, weights)\n",
    "    \n",
    "    \n",
    "    def computeProba(self, vect, device = None):\n",
    "        '''Converts a word repartition vector with size (batch_size, lang_size)\n",
    "           into a probability vector with size (batch_size, lang_size)'''\n",
    "        # apply temperature\n",
    "        vect /= self.temp\n",
    "        # top-p proba refactoring\n",
    "        if type(self.top) == float and 0 < self.top < 1 : \n",
    "            # TODO\n",
    "            proba = F.softmax(vect, dim = 1)\n",
    "        #top-k proba refactoring\n",
    "        elif type(self.top) == int and self.top > 0 : \n",
    "            vals, inds = vect.topk(self.top, dim = 1)        # size (batch_size, self.top)\n",
    "            proba_vals = F.softmax(vals, dim = 1)            # size (batch_size, self.top)\n",
    "            proba = torch.FloatTensor(vect.size()).zero_()\n",
    "            if device is not None : proba = proba.to(device)\n",
    "            proba.scatter_(1, inds, proba_vals)              # size (batch_size, lang_size)\n",
    "        # vanilla softmax\n",
    "        else :\n",
    "            proba = F.softmax(vect, dim = 1)\n",
    "        return proba\n",
    "    \n",
    "    \n",
    "    def sampleWord(self, proba) :\n",
    "        '''Selects word indices out of a probability distribution over vocab'''\n",
    "        # choose best\n",
    "        word = proba.topk(1, dim = 1)[1] \n",
    "        # random sampling\n",
    "        # TODO\n",
    "        return word\n",
    "    \n",
    "    \n",
    "    def forward(self, hidden, embeddings, lengths = None, device = None) :\n",
    "        answer  = []\n",
    "        weights = None\n",
    "        EOS_token = self.word2vec.lang.getIndex('EOS')\n",
    "        SOS_token = self.word2vec.lang.getIndex('SOS')\n",
    "        proba     = self.initWordTensor([SOS_token], device = device) \n",
    "        hidden    = hidden[-self.n_layer:]                 # size (n_layer, 1, hid_dim)\n",
    "        # word generation\n",
    "        for t in range(self.bound) :\n",
    "            # compute next word\n",
    "            vect, hidden, attn = self.generateWord(hidden, proba, embeddings, lengths)\n",
    "            proba = self.computeProba(vect, device)\n",
    "            word  = self.sampleWord(proba)\n",
    "            # cumulate word and attention weight\n",
    "            if word.item() != EOS_token :\n",
    "                answer.append(word.item())\n",
    "                if t == 0 : weights = attn\n",
    "                else      : weights = torch.cat((weights, attn), dim = 1) # size(1, out_length, in_length)\n",
    "            # stopping criterion\n",
    "            else : break\n",
    "        return (answer, weights)"
   ]
  },
  {
   "cell_type": "markdown",
   "metadata": {},
   "source": [
    "#### 1.4.4 Decoder with Content-based Past Attention Feeding\n",
    "\n",
    "A variant of the Attention Decoder with feeding of past attention, as proposed in [Effective Approaches to Attention-based Neural Machine Translation (2015)](https://arxiv.org/pdf/1508.04025.pdf), in order to feed the decoder with _**content-based**_ past attention before next token generation."
   ]
  },
  {
   "cell_type": "code",
   "execution_count": null,
   "metadata": {},
   "outputs": [],
   "source": [
    "#from libDL4NLP.modules import PAFAttnDecoder"
   ]
  },
  {
   "cell_type": "code",
   "execution_count": 12,
   "metadata": {},
   "outputs": [],
   "source": [
    "class PAFAttnDecoder(nn.Module):\n",
    "    '''Transforms a vector into a sequence of words'''\n",
    "    def __init__(self, word2vec, attn_dim, hid_dim,\n",
    "                 n_layer = 1,\n",
    "                 attn_method = 'concat',\n",
    "                 dropout = 0.1,\n",
    "                 bound   = 25,\n",
    "                 temperature = 1,\n",
    "                 top = None\n",
    "                ):\n",
    "        super().__init__()\n",
    "        \n",
    "        # relevant quantities\n",
    "        self.attn_dim = attn_dim\n",
    "        self.hid_dim  = hid_dim\n",
    "        self.n_layer  = n_layer\n",
    "        self.method   = attn_method\n",
    "        self.bound    = bound\n",
    "        self.temp     = temperature\n",
    "        self.top      = top\n",
    "        \n",
    "        # modules\n",
    "        self.word2vec = word2vec\n",
    "        \n",
    "        self.gru = nn.GRU(\n",
    "            word2vec.out_dim + attn_dim,\n",
    "            hid_dim, \n",
    "            n_layer, \n",
    "            dropout = dropout,\n",
    "            batch_first = True)\n",
    "        \n",
    "        self.attn = Attention(\n",
    "            emb_dim   = attn_dim, \n",
    "            query_dim = hid_dim, \n",
    "            method    = attn_method,\n",
    "            dropout   = dropout)\n",
    "        \n",
    "        self.out = nn.Linear(hid_dim + attn_dim, word2vec.lang.n_words)\n",
    "        \n",
    "        self.dropout = nn.Dropout(dropout)\n",
    "    \n",
    "    \n",
    "    def initWordTensor(self, index_list, device = None) :\n",
    "        word = torch.LongTensor(index_list).view(-1, 1)       # size (batch_size, 1)\n",
    "        word = Variable(word)                                 # size (batch_size, 1)\n",
    "        if device is not None : word = word.to(device)        # size (batch_size, 1)\n",
    "        return word\n",
    "        \n",
    "    \n",
    "    def initContext(self, batch_size) :\n",
    "        return torch.zeros((batch_size, 1, self.attn_dim), dtype = torch.float)\n",
    "        \n",
    "    \n",
    "    def generateWord(self, hidden, word, context, embeddings, lengths = None):\n",
    "        '''word is a LongTensor with size (batch_size, 1)'''\n",
    "        # merge previous word with previous attention\n",
    "        embedding = self.word2vec.embedding(word)             # size (batch_size, 1, emb_dim)\n",
    "        embedding = self.dropout(embedding)                   # size (batch_size, 1, emb_dim)\n",
    "        context   = self.dropout(context)                     # size (batch_size, 1, attn_dim)\n",
    "        embedding = torch.cat((embedding, context), dim = 2)  # size (batch_size, 1, emb_dim + attn_dim)\n",
    "        # update hidden state\n",
    "        _, hidden = self.gru(embedding, hidden)               # size (n_layers, batch_size, hid_dim)\n",
    "        # compute next attention\n",
    "        query = self.dropout(hidden[-1].unsqueeze(1))         # size (batch_size, 1, hid_dim)\n",
    "        context, attn = self.attn(embeddings, query, lengths) # size (batch_size, 1, attn_dim)\n",
    "        # merge hidden with attention\n",
    "        merge = torch.cat([hidden[-1], context.squeeze(1)], dim = 1) \n",
    "        merge = self.dropout(merge)                           # size (batch_size, hid_dim + attn_dim)\n",
    "        # generate next word\n",
    "        vect = self.out(merge)                                # size (batch_size, lang_size)\n",
    "        return (vect, hidden, context, attn)\n",
    "    \n",
    "\n",
    "    def computeProba(self, vect, device = None):\n",
    "        '''Converts a word repartition vector with size (batch_size, lang_size)\n",
    "           into a probability vector with size (batch_size, lang_size)'''\n",
    "        # apply temperature\n",
    "        vect /= self.temp\n",
    "        # top-p proba refactoring\n",
    "        if type(self.top) == float and 0 < self.top < 1 : \n",
    "            # TODO\n",
    "            proba = F.softmax(vect, dim = 1)\n",
    "        #top-k proba refactoring\n",
    "        elif type(self.top) == int and self.top > 0 : \n",
    "            vals, inds = vect.topk(self.top, dim = 1)        # size (batch_size, self.top)\n",
    "            proba_vals = F.softmax(vals, dim = 1)            # size (batch_size, self.top)\n",
    "            proba = torch.FloatTensor(vect.size()).zero_()\n",
    "            if device is not None : proba = proba.to(device)\n",
    "            proba.scatter_(1, inds, proba_vals)              # size (batch_size, lang_size)\n",
    "        # vanilla softmax\n",
    "        else :\n",
    "            proba = F.softmax(vect, dim = 1)\n",
    "        return proba\n",
    "    \n",
    "    \n",
    "    def sampleWord(self, proba) :\n",
    "        '''Selects word indices out of a probability distribution over vocab'''\n",
    "        # choose best\n",
    "        word = proba.topk(1, dim = 1)[1] \n",
    "        # random sampling\n",
    "        # TODO\n",
    "        return word\n",
    "    \n",
    "    \n",
    "    def forward(self, hidden, embeddings, lengths = None, device = None) :\n",
    "        answer  = []\n",
    "        weights = None\n",
    "        EOS_token = self.word2vec.lang.getIndex('EOS')\n",
    "        SOS_token = self.word2vec.lang.getIndex('SOS')\n",
    "        word      = self.initWordTensor([SOS_token], device = device)\n",
    "        context   = self.initContext(1)\n",
    "        hidden    = hidden[-self.n_layer:]             # size (n_layer, 1, hid_dim)\n",
    "        # word generation\n",
    "        for t in range(self.bound) :\n",
    "            # compute next word\n",
    "            vect, hidden, context, attn = self.generateWord(hidden, word, context, embeddings, lengths)\n",
    "            proba = self.computeProba(vect, device)\n",
    "            word  = self.sampleWord(proba)\n",
    "            # cumulate word and attention weight\n",
    "            if word.item() != EOS_token :\n",
    "                answer.append(word.item())\n",
    "                if t == 0 : weights = attn\n",
    "                else      : weights = torch.cat((weights, attn), dim = 1) # size(1, out_length, in_length)\n",
    "            # stopping criterion\n",
    "            else : break\n",
    "        return (answer, weights)"
   ]
  },
  {
   "cell_type": "markdown",
   "metadata": {},
   "source": [
    "#### 1.4.5 Decoder with Position-based Past Attention Feeding\n",
    "\n",
    "Our implementation of the Attention Decoder with feeding of _**past coverage**_ , as proposed in (at least)\n",
    "\n",
    "- [Incorporating Structural Alignment Biases into an Attentional Neural Translation Model (2016)](https://arxiv.org/pdf/1601.01085.pdf)\n",
    "- [Modeling Coverage for Neural Machine Translation (2016)](https://arxiv.org/pdf/1601.04811.pdf)\n",
    "- [Get To The Point: Summarization with Pointer-Generator Networks (2017)](https://arxiv.org/pdf/1704.04368.pdf)\n",
    "\n",
    "in order to feed the decoder with _**position-based**_ past attention before next token generation."
   ]
  },
  {
   "cell_type": "code",
   "execution_count": null,
   "metadata": {},
   "outputs": [],
   "source": [
    "#from libDL4NLP.modules import CovAttnDecoder"
   ]
  },
  {
   "cell_type": "code",
   "execution_count": 13,
   "metadata": {},
   "outputs": [],
   "source": [
    "class CovAttnDecoder(nn.Module):\n",
    "    '''Transforms a vector into a sequence of words'''\n",
    "    def __init__(self, word2vec, attn_dim, hid_dim,\n",
    "                 n_layer = 1,\n",
    "                 attn_method = 'concat',\n",
    "                 dropout = 0.1,\n",
    "                 bound   = 25,\n",
    "                 temperature = 1,\n",
    "                 top = None\n",
    "                ):\n",
    "        super().__init__()\n",
    "        \n",
    "        # relevant quantities\n",
    "        self.attn_dim = attn_dim\n",
    "        self.hid_dim  = hid_dim\n",
    "        self.n_layer  = n_layer\n",
    "        self.method   = attn_method\n",
    "        self.bound    = bound\n",
    "        self.temp     = temperature\n",
    "        self.top      = top\n",
    "        \n",
    "        # modules\n",
    "        self.word2vec = word2vec\n",
    "        \n",
    "        self.gru = nn.GRU(\n",
    "            word2vec.out_dim,\n",
    "            hid_dim, \n",
    "            n_layer, \n",
    "            dropout = dropout,\n",
    "            batch_first = True)\n",
    "        \n",
    "        self.attn = Attention(\n",
    "            emb_dim   = attn_dim + 1, \n",
    "            query_dim = hid_dim, \n",
    "            method    = attn_method,\n",
    "            dropout   = dropout)\n",
    "        \n",
    "        self.out = nn.Linear(hid_dim + attn_dim, word2vec.lang.n_words)\n",
    "        \n",
    "        self.dropout = nn.Dropout(dropout)\n",
    "    \n",
    "    \n",
    "    def initWordTensor(self, index_list, device = None) :\n",
    "        word = torch.LongTensor(index_list).view(-1, 1)       # size (batch_size, 1)\n",
    "        word = Variable(word)                                 # size (batch_size, 1)\n",
    "        if device is not None : word = word.to(device)        # size (batch_size, 1)\n",
    "        return word\n",
    "        \n",
    "    \n",
    "    def initContext(self, batch_size, seq_length) :\n",
    "        return torch.zeros((batch_size, seq_length, 1), dtype = torch.float)\n",
    "        \n",
    "    \n",
    "    def generateWord(self, hidden, word, past_attn, embeddings, lengths = None):\n",
    "        '''word is a LongTensor with size (batch_size, 1)'''\n",
    "        # embed previous word\n",
    "        embedding = self.word2vec.embedding(word)             # size (batch_size, seq_length, emb_dim)\n",
    "        embedding = self.dropout(embedding)                   # size (batch_size, seq_length, emb_dim)\n",
    "        # update hidden state\n",
    "        _, hidden = self.gru(embedding, hidden)               # size (n_layers, batch_size, hid_dim)\n",
    "        # merge embeddings with culmulated past attention\n",
    "        embeddings = torch.cat((embeddings, past_attn), dim = 2)# size (batch_size, seq_length, emb_dim + 1)\n",
    "        # compute next attention\n",
    "        query   = self.dropout(hidden[-1].unsqueeze(1))       # size (batch_size, 1, hid_dim)\n",
    "        context, attn = self.attn(embeddings, query, lengths) # size (batch_size, 1, attn_dim) | (batch_size, 1, emb_length)\n",
    "        #avoid cumulated past attention\n",
    "        context = context[:, :, :-1] \n",
    "        # update cumulated past attention\n",
    "        past_attn += attn.transpose(1, 2)\n",
    "        # merge hidden with attention\n",
    "        merge = torch.cat([hidden[-1], context.squeeze(1)], dim = 1) \n",
    "        merge = self.dropout(merge)                           # size (batch_size, hid_dim + attn_dim)\n",
    "        # generate next word\n",
    "        vect = self.out(merge)                                # size (batch_size, lang_size)\n",
    "        return (vect, hidden, past_attn, attn)\n",
    "    \n",
    "\n",
    "    def computeProba(self, vect, device = None):\n",
    "        '''Converts a word repartition vector with size (batch_size, lang_size)\n",
    "           into a probability vector with size (batch_size, lang_size)'''\n",
    "        # apply temperature\n",
    "        vect /= self.temp\n",
    "        # top-p proba refactoring\n",
    "        if type(self.top) == float and 0 < self.top < 1 : \n",
    "            # TODO\n",
    "            proba = F.softmax(vect, dim = 1)\n",
    "        #top-k proba refactoring\n",
    "        elif type(self.top) == int and self.top > 0 : \n",
    "            vals, inds = vect.topk(self.top, dim = 1)        # size (batch_size, self.top)\n",
    "            proba_vals = F.softmax(vals, dim = 1)            # size (batch_size, self.top)\n",
    "            proba = torch.FloatTensor(vect.size()).zero_()\n",
    "            if device is not None : proba = proba.to(device)\n",
    "            proba.scatter_(1, inds, proba_vals)              # size (batch_size, lang_size)\n",
    "        # vanilla softmax\n",
    "        else :\n",
    "            proba = F.softmax(vect, dim = 1)\n",
    "        return proba\n",
    "    \n",
    "    \n",
    "    def sampleWord(self, proba) :\n",
    "        '''Selects word indices out of a probability distribution over vocab'''\n",
    "        # choose best\n",
    "        word = proba.topk(1, dim = 1)[1] \n",
    "        # random sampling\n",
    "        # TODO\n",
    "        return word\n",
    "    \n",
    "    \n",
    "    def forward(self, hidden, embeddings, lengths = None, device = None) :\n",
    "        answer  = []\n",
    "        weights = None\n",
    "        EOS_token = self.word2vec.lang.getIndex('EOS')\n",
    "        SOS_token = self.word2vec.lang.getIndex('SOS')\n",
    "        word      = self.initWordTensor([SOS_token], device = device)\n",
    "        context   = self.initContext(1, embeddings.size(1))\n",
    "        hidden    = hidden[-self.n_layer:]             # size (n_layer, 1, hid_dim)\n",
    "        # word generation\n",
    "        for t in range(self.bound) :\n",
    "            # compute next word\n",
    "            vect, hidden, context, attn = self.generateWord(hidden, word, context, embeddings, lengths)\n",
    "            proba = self.computeProba(vect, device)\n",
    "            word  = self.sampleWord(proba)\n",
    "            # cumulate word and attention weight\n",
    "            if word.item() != EOS_token :\n",
    "                answer.append(word.item())\n",
    "                if t == 0 : weights = attn\n",
    "                else      : weights = torch.cat((weights, attn), dim = 1) # size(1, out_length, in_length)\n",
    "            # stopping criterion\n",
    "            else : break\n",
    "        return (answer, weights)"
   ]
  },
  {
   "cell_type": "markdown",
   "metadata": {},
   "source": [
    "#### Visualisation of attention\n",
    "\n",
    "Taken from [this page](https://matplotlib.org/3.1.1/gallery/images_contours_and_fields/image_annotated_heatmap.html#sphx-glr-gallery-images-contours-and-fields-image-annotated-heatmap-py)"
   ]
  },
  {
   "cell_type": "code",
   "execution_count": 14,
   "metadata": {},
   "outputs": [],
   "source": [
    "from libDL4NLP.utils import AttentionViewer, AttentionViewerOnWords"
   ]
  },
  {
   "cell_type": "markdown",
   "metadata": {},
   "source": [
    "<a id=\"model\"></a>"
   ]
  },
  {
   "cell_type": "markdown",
   "metadata": {},
   "source": [
    "# 2 Encoder-Decoder Model\n",
    "\n",
    "[Back to top](#plan)\n"
   ]
  },
  {
   "cell_type": "code",
   "execution_count": null,
   "metadata": {},
   "outputs": [],
   "source": [
    "#from libDL4NLP.models import EncoderDecoder"
   ]
  },
  {
   "cell_type": "code",
   "execution_count": 15,
   "metadata": {},
   "outputs": [],
   "source": [
    "class EncoderDecoder(nn.Module) :\n",
    "    def __init__(\n",
    "        self, device, tokenizer, word2vec_in, word2vec_out,\n",
    "        detokenizer = None,\n",
    "        hid_dim_in = 50,\n",
    "        hid_dim_out = 50,\n",
    "        n_layer_in = 1,\n",
    "        n_layer_out = 1,\n",
    "        bound = 25,\n",
    "        dropout = 0,\n",
    "        decoder_warm_start = True,\n",
    "        attn_type = 'standard',\n",
    "        attn_method = 'concat',\n",
    "        optimizer = optim.SGD,\n",
    "        ):\n",
    "        \n",
    "        super().__init__()\n",
    "        #relevant quantities\n",
    "        self.decoder_warm_start = decoder_warm_start\n",
    "        self.attn_type = attn_type\n",
    "        \n",
    "        # text processing\n",
    "        self.tokenizer    = tokenizer\n",
    "        self.detokenizer  = detokenizer\n",
    "        \n",
    "        # modules\n",
    "        self.word2vec_in  = word2vec_in\n",
    "        self.word2vec_out = word2vec_out\n",
    "        \n",
    "        self.context      = RecurrentEncoder(\n",
    "            emb_dim       = word2vec_in.out_dim,\n",
    "            hid_dim       = hid_dim_in,\n",
    "            n_layer       = n_layer_in,\n",
    "            dropout       = dropout, \n",
    "            bidirectional = True)\n",
    "            \n",
    "        if self.attn_type == 'standard' : \n",
    "            self.decoder    = AttnDecoder(\n",
    "                word2vec    = word2vec_out, \n",
    "                attn_dim    = hid_dim_in, \n",
    "                hid_dim     = hid_dim_out, \n",
    "                n_layer     = n_layer_out,\n",
    "                attn_method = attn_method,\n",
    "                dropout     = dropout, \n",
    "                bound       = bound)\n",
    "\n",
    "        elif self.attn_type == 'smooth' : \n",
    "            self.decoder    = SmoothAttnDecoder(\n",
    "                word2vec    = word2vec_out, \n",
    "                attn_dim    = hid_dim_in, \n",
    "                hid_dim     = hid_dim_out, \n",
    "                n_layer     = n_layer_out, \n",
    "                attn_method = attn_method,\n",
    "                dropout     = dropout, \n",
    "                bound       = bound,\n",
    "                top         = 5)\n",
    "            \n",
    "        elif self.attn_type == 'paf' : \n",
    "            self.decoder    = PAFAttnDecoder(\n",
    "                word2vec    = word2vec_out, \n",
    "                attn_dim    = hid_dim_in, \n",
    "                hid_dim     = hid_dim_out, \n",
    "                n_layer     = n_layer_out,\n",
    "                attn_method = attn_method,\n",
    "                dropout     = dropout, \n",
    "                bound       = bound)\n",
    "            \n",
    "        elif self.attn_type == 'cov' : \n",
    "            self.decoder    = CovAttnDecoder(\n",
    "                word2vec    = word2vec_out, \n",
    "                attn_dim    = hid_dim_in, \n",
    "                hid_dim     = hid_dim_out, \n",
    "                n_layer     = n_layer_out,\n",
    "                attn_method = attn_method,\n",
    "                dropout     = dropout, \n",
    "                bound       = bound)\n",
    "            \n",
    "        else : \n",
    "            self.decoder = Decoder(\n",
    "                word2vec = word2vec_out,  \n",
    "                hid_dim  = hid_dim_out, \n",
    "                n_layer  = n_layer_out, \n",
    "                dropout  = dropout, \n",
    "                bound    = bound)\n",
    "        \n",
    "        # optimizer\n",
    "        self.ignore_index_in  = self.word2vec_in.lang.getIndex('PADDING_WORD')\n",
    "        self.ignore_index_out = self.word2vec_out.lang.getIndex('PADDING_WORD')\n",
    "        self.criterion = nn.NLLLoss(size_average = False, ignore_index = self.ignore_index_out)\n",
    "        self.optimizer = optimizer\n",
    "        \n",
    "        # load to device\n",
    "        self.device = device\n",
    "        self.to(device)\n",
    "        \n",
    "        \n",
    "    # count parameters\n",
    "    def nbParametres(self) :\n",
    "        return sum([p.data.nelement() for p in self.parameters() if p.requires_grad == True])\n",
    "    \n",
    "    \n",
    "    # main method\n",
    "    def forward(self, sentence, mask_unk = True, attention_method = None):\n",
    "        # encode sentence\n",
    "        words_native, words_in = self.tokenizer(sentence)\n",
    "        if mask_unk :\n",
    "            words_in   = [w for w in words_in if self.word2vec_in.lang.getIndex(w) is not None]\n",
    "            indices    = [self.word2vec_in.lang.getIndex(w) for w in words_in]\n",
    "            embeddings = Variable(torch.LongTensor([indices])).to(self.device)\n",
    "            embeddings = self.word2vec_in.embedding(embeddings)\n",
    "        else :\n",
    "            embeddings = self.word2vec_in(words_in, self.device)\n",
    "        embeddings, hidden  = self.context(embeddings)\n",
    "        # prepare for decoding\n",
    "        if self.decoder_warm_start :\n",
    "            if self.context.bidirectional :\n",
    "                hidden = hidden.view(self.context.n_layer, 2, -1, self.context.hid_dim)\n",
    "                hidden = torch.sum(hidden, dim = 1) # size (n_layer, batch_size, hid_dim)\n",
    "            hidden = hidden[-self.decoder.n_layer:]\n",
    "        else : hidden = None    \n",
    "        # compute answer\n",
    "        if self.attn_type in ['standard', 'smooth', 'paf', 'cov'] : \n",
    "            indices, attn = self.decoder(hidden, embeddings, device = self.device)\n",
    "            words_out = [self.word2vec_out.lang.index2word[i] for i in indices]\n",
    "            attn = np.array(attn[0].data.cpu().numpy()) # size (out_length, in_length)\n",
    "            # detokenize generic tokens\n",
    "            if self.detokenizer is not None :\n",
    "                words_out = self.detokenizer(words_out, words_native, attn)\n",
    "            # display attention\n",
    "            if attention_method is not None : \n",
    "                attention_method(attn, words_out, words_native)\n",
    "        else :\n",
    "            indices   = self.decoder(hidden, device = self.device)\n",
    "            words_out = [self.word2vec_out.lang.index2word[i] for i in indices]\n",
    "        # convert answer to string\n",
    "        answer = ' '.join(words_out)\n",
    "        return answer\n",
    "\n",
    "    \n",
    "    # load data\n",
    "    def generatePackedSentences(self, sentences, batch_size = 32) : \n",
    "        '''forms minibatches of sentences, where input sentences must be pre-tokenized'''\n",
    "        sentences.sort(key = lambda s: len(s[1]), reverse = True)\n",
    "        packed_data = []\n",
    "        for i in range(0, len(sentences), batch_size) :\n",
    "            # prepare input and target pack\n",
    "            pack = sentences[i:i + batch_size]\n",
    "            pack.sort(key = lambda s: len(s[0]), reverse = True)\n",
    "            pack0 = [[self.word2vec_in.lang.getIndex(w) for w in qa[0]] for qa in pack]\n",
    "            pack0 = [[w for w in words if w is not None] for words in pack0]\n",
    "            pack1 = [[self.word2vec_out.lang.getIndex(w) for w in qa[1] + ['EOS']] for qa in pack]\n",
    "            pack1 = [[w for w in words if w is not None] for words in pack1]\n",
    "            lengths0 = torch.tensor([len(p) for p in pack0])           # size (batch_size) \n",
    "            lengths1 = torch.tensor([len(p) for p in pack1])           # size (batch_size) \n",
    "            # padd packs\n",
    "            pack0 = list(itertools.zip_longest(*pack0, fillvalue = self.ignore_index_in))\n",
    "            pack0 = Variable(torch.LongTensor(pack0).transpose(0, 1)) # size (batch_size, max_length_in) \n",
    "            pack1 = list(itertools.zip_longest(*pack1, fillvalue = self.ignore_index_out))\n",
    "            pack1 = Variable(torch.LongTensor(pack1))       # WARNING : size (max_length_out, batch_size) \n",
    "            packed_data.append([pack0, lengths0, pack1, lengths1])\n",
    "        return packed_data\n",
    "    \n",
    "    \n",
    "    # compute model perf\n",
    "    def compute_accuracy(self, sentences, batch_size = 32) :\n",
    "        def compute_batch_accuracy(batch) :\n",
    "            torch.cuda.empty_cache()\n",
    "            input, input_l, target, target_l = batch\n",
    "            lengths = input_l.to(self.device)\n",
    "            target  = target.to(self.device)\n",
    "            # encode sentences\n",
    "            embeddings = self.word2vec_in.embedding(input.to(self.device))\n",
    "            embeddings, hidden = self.context(embeddings, lengths) # size (n_layer * num_directions, batch_size, hid_dim)\n",
    "            # prepare for decoding\n",
    "            if self.decoder_warm_start :\n",
    "                if self.context.bidirectional :\n",
    "                    hidden = hidden.view(self.context.n_layer, 2, -1, self.context.hid_dim)\n",
    "                    hidden = torch.sum(hidden, dim = 1) # size (n_layer, batch_size, hid_dim)\n",
    "                hidden = hidden[-self.decoder.n_layer:]\n",
    "            else : hidden = None  \n",
    "            # init decoder states\n",
    "            answers   = torch.zeros(target.size(), dtype = torch.long)\n",
    "            SOS_token = self.word2vec_out.lang.getIndex('SOS')\n",
    "            word      = self.decoder.initWordTensor([SOS_token]*target.size(1), device = self.device) \n",
    "            if self.attn_type == 'paf'  : context = self.decoder.initContext(input.size(0)).to(self.device)\n",
    "            if self.attn_type == 'cov'  : context = self.decoder.initContext(input.size(0), input.size(1)).to(self.device)\n",
    "            # compute answers\n",
    "            for t in range(target.size(0)) :\n",
    "                # feeds most probable word at previous step as input for next word prediction\n",
    "                if self.attn_type == 'standard' :\n",
    "                    vect, hidden, attn = self.decoder.generateWord(hidden, word, embeddings, lengths)\n",
    "                    proba = self.decoder.computeProba(vect) # size (batch_size, lang_size)\n",
    "                    best  = self.decoder.sampleWord(proba)  # size (batch_size, 1)\n",
    "                    word  = best\n",
    "                # feeds word proba at previous step as input for next word prediction\n",
    "                elif self.attn_type == 'smooth' :\n",
    "                    vect, hidden, attn = self.decoder.generateWord(hidden, word, embeddings, lengths)\n",
    "                    proba = self.decoder.computeProba(vect) # size (batch_size, lang_size)\n",
    "                    best  = self.decoder.sampleWord(proba)   # size (batch_size, 1)\n",
    "                    word  = proba\n",
    "                # feeds most probable word at previous step and past attention as input for next word prediction\n",
    "                elif self.attn_type in ['paf', 'cov'] :\n",
    "                    vect, hidden, context, attn = self.decoder.generateWord(hidden, word, context, embeddings, lengths)\n",
    "                    proba = self.decoder.computeProba(vect) # size (batch_size, lang_size)\n",
    "                    best  = self.decoder.sampleWord(proba)  # size (batch_size, 1)\n",
    "                    word  = best\n",
    "                # feeds most probable word at previous step as input for next word prediction\n",
    "                else :\n",
    "                    vect, hidden = self.decoder.generateWord(hidden, word)\n",
    "                    word = vect.topk(1, dim = 1)[1]   # size (batch_size, 1)\n",
    "                    best = word                       # size (batch_size, 1)\n",
    "                answers[t] = best.view(-1)\n",
    "            # compute score\n",
    "            score = sum([sum(answers[:l, i].data.cpu() == target[:l, i].data.cpu()) == l \n",
    "                          for i, l in enumerate(target_l.data.cpu().tolist())]).item()\n",
    "            return score\n",
    "        \n",
    "        # -- main --\n",
    "        batches = self.generatePackedSentences(sentences, batch_size)\n",
    "        score = 0\n",
    "        for batch in batches : score += compute_batch_accuracy(batch)\n",
    "        return score * 100 / len(sentences)\n",
    "    \n",
    "    \n",
    "    # fit model\n",
    "    def fit(self, batches, iters = None, epochs = None, tf_ratio = 0, lr = 0.025, random_state = 42,\n",
    "            print_every = 10, compute_accuracy = True):\n",
    "        \"\"\"Performs training over a given dataset and along a specified amount of loops\"\"\"\n",
    "        def asMinutes(s):\n",
    "            m = math.floor(s / 60)\n",
    "            s -= m * 60\n",
    "            return '%dm %ds' % (m, s)\n",
    "        \n",
    "        def timeSince(since, percent):\n",
    "            now = time.time()\n",
    "            s = now - since\n",
    "            rs = s/percent - s\n",
    "            return '%s (- %s)' % (asMinutes(s), asMinutes(rs))\n",
    "        \n",
    "        def computeSuccess(log_prob, targets) :\n",
    "            success = sum([self.ignore_index_out != targets[i].item() == log_prob[i].topk(1)[1].item() \\\n",
    "                           for i in range(targets.size(0))])\n",
    "            return success\n",
    "        \n",
    "        def computeLogProbs(batch, tf_ratio = 0, compute_accuracy = True) :\n",
    "            torch.cuda.empty_cache()\n",
    "            loss = 0\n",
    "            success = 0\n",
    "            forcing = (random.random() < tf_ratio)\n",
    "            input, input_l, target, target_l = batch\n",
    "            lengths = input_l.to(self.device)\n",
    "            target  = target.to(self.device)\n",
    "            # encode sentences\n",
    "            embeddings = self.word2vec_in.embedding(input.to(self.device))\n",
    "            embeddings, hidden  = self.context(embeddings, lengths) # size (n_layer * num_directions, batch_size, hid_dim)\n",
    "            # init decoder state\n",
    "            if self.decoder_warm_start :\n",
    "                if self.context.bidirectional :\n",
    "                    hidden = hidden.view(self.context.n_layer, 2, -1, self.context.hid_dim)\n",
    "                    hidden = torch.sum(hidden, dim = 1) # size (n_layer, batch_size, hid_dim)\n",
    "                hidden = hidden[-self.decoder.n_layer:]\n",
    "            else : hidden = None  \n",
    "            # init decoder states\n",
    "            SOS_token = self.word2vec_out.lang.getIndex('SOS')\n",
    "            word      = self.decoder.initWordTensor([SOS_token]*target.size(1), device = self.device) \n",
    "            if self.attn_type == 'paf'  : context = self.decoder.initContext(input.size(0)).to(self.device)\n",
    "            if self.attn_type == 'cov'  : context = self.decoder.initContext(input.size(0), input.size(1)).to(self.device)\n",
    "            # decode answers\n",
    "            for t in range(target.size(0)) :\n",
    "                # feeds word proba at previous step as input for next word prediction\n",
    "                if self.attn_type == 'standard' :\n",
    "                    vect, hidden, attn = self.decoder.generateWord(hidden, word, embeddings, lengths)\n",
    "                    if forcing : word  = target[t].view(-1, 1)    # size (batch_size, 1) \n",
    "                    else       : word  = vect.topk(1, dim = 1)[1] # size (batch_size, 1)\n",
    "                # feeds word proba at previous step as input for next word prediction        \n",
    "                elif self.attn_type == 'smooth' :\n",
    "                    vect, hidden, attn = self.decoder.generateWord(hidden, word, embeddings, lengths)\n",
    "                    if forcing : word  = self.decoder.initWordTensor(target[t].data.tolist(), device = self.device) # size (batch_size, 1) \n",
    "                    else       : word  = self.decoder.computeProba(vect) # size (batch_size, lang_size)\n",
    "                # feeds most probable word at previous step and past attention as input for next word prediction\n",
    "                elif self.attn_type in ['paf', 'cov'] :\n",
    "                    vect, hidden, context, attn = self.decoder.generateWord(hidden, word, context, embeddings, lengths)\n",
    "                    if forcing : word  = target[t].view(-1, 1)    # size (batch_size, 1) \n",
    "                    else       : word  = vect.topk(1, dim = 1)[1] # size (batch_size, 1)\n",
    "                # feeds most probable word at previous step as input for next word prediction\n",
    "                else :\n",
    "                    vect, hidden      = self.decoder.generateWord(hidden, word)\n",
    "                    if forcing : word = target[t].view(-1, 1)    # size (batch_size, 1) \n",
    "                    else       : word = vect.topk(1, dim = 1)[1] # size (batch_size, 1)\n",
    "                # cumulate loss\n",
    "                log_prob = F.log_softmax(vect, dim = 1)\n",
    "                loss += self.criterion(log_prob, target[t])\n",
    "                if compute_accuracy : success += computeSuccess(log_prob, target[t])\n",
    "            return loss, success\n",
    "        \n",
    "        def printScores(start, iter, iters, tot_loss, tot_loss_words, print_every, compute_accuracy) :\n",
    "            avg_loss = tot_loss / print_every\n",
    "            avg_loss_words = tot_loss_words / print_every\n",
    "            if compute_accuracy : print(timeSince(start, iter / iters) + ' ({} {}%) loss : {:.3f}  accuracy : {:.1f} %'.format(iter, int(iter / iters * 100), avg_loss, avg_loss_words))\n",
    "            else                : print(timeSince(start, iter / iters) + ' ({} {}%) loss : {:.3f}                     '.format(iter, int(iter / iters * 100), avg_loss))\n",
    "            return 0, 0\n",
    "        \n",
    "        def trainLoop(batch, optimizer, tf_ratio = 0, compute_accuracy = True):\n",
    "            \"\"\"Performs a training loop, with forward pass, backward pass and weight update\"\"\"\n",
    "            optimizer.zero_grad()\n",
    "            self.zero_grad()\n",
    "            total = torch.sum(batch[-1]).item()\n",
    "            loss, success = computeLogProbs(batch, tf_ratio, compute_accuracy)\n",
    "            loss.backward()\n",
    "            nn.utils.clip_grad_norm_(self.parameters(), 5.)\n",
    "            optimizer.step()\n",
    "            return float(loss.item() / total), float(success * 100 / total)\n",
    "        \n",
    "        # --- main ---\n",
    "        self.train()\n",
    "        random.seed(random_state)\n",
    "        start = time.time()\n",
    "        optimizer = self.optimizer([param for param in self.parameters() if param.requires_grad == True], lr = lr)\n",
    "        tot_loss = 0  \n",
    "        tot_acc  = 0\n",
    "        if epochs is None :\n",
    "            for iter in range(1, iters + 1):\n",
    "                batch = random.choice(batches)\n",
    "                loss, acc = trainLoop(batch, optimizer, tf_ratio, compute_accuracy)\n",
    "                tot_loss += loss\n",
    "                tot_acc += acc      \n",
    "                if iter % print_every == 0 : \n",
    "                    tot_loss, tot_acc = printScores(start, iter, iters, tot_loss, tot_acc, print_every, compute_accuracy)\n",
    "        else :\n",
    "            iter = 0\n",
    "            iters = len(batches) * epochs\n",
    "            for epoch in range(1, epochs + 1):\n",
    "                print('epoch ' + str(epoch))\n",
    "                np.random.shuffle(batches)\n",
    "                for batch in batches :\n",
    "                    loss, acc = trainLoop(batch, optimizer, tf_ratio, compute_accuracy)\n",
    "                    tot_loss += loss\n",
    "                    tot_acc += acc \n",
    "                    iter += 1\n",
    "                    if iter % print_every == 0 : \n",
    "                        tot_loss, tot_acc = printScores(start, iter, iters, tot_loss, tot_acc, print_every, compute_accuracy)\n",
    "        return\n"
   ]
  },
  {
   "cell_type": "markdown",
   "metadata": {},
   "source": [
    "#### Model Tokenizer"
   ]
  },
  {
   "cell_type": "code",
   "execution_count": 16,
   "metadata": {},
   "outputs": [],
   "source": [
    "def model_tokenize(s, lang_in) :\n",
    "    def replace(w) :\n",
    "        if w.lower() not in lang_in.word2index :\n",
    "            # if w has at least one num and has no letter\n",
    "            if re.sub('[0-9]', '', w) != w and re.sub('[a-zA-Z]', '', w) == w : return 'NUM'\n",
    "            # if first letter is upper case\n",
    "            elif w[0].isupper() : return 'PROPN'\n",
    "        return w.lower()\n",
    "    words_native = word_tokenize(s)\n",
    "    words = [replace(w) for w in words_native]\n",
    "    return words_native, words\n",
    "\n",
    "\n",
    "def model_detokenize(words_out, words_native, attn) :\n",
    "    # attn : 2D numpy array of size (len_words_out, len_words_in)\n",
    "    words_detok = []\n",
    "    bests = np.argmax(attn, axis = 1) # size (len_words_out)\n",
    "    for i, w in enumerate(words_out) :\n",
    "        if w in ['PROPN', 'NUM'] : words_detok.append(words_native[bests[i]])\n",
    "        else                     : words_detok.append(w)\n",
    "    return words_detok"
   ]
  },
  {
   "cell_type": "markdown",
   "metadata": {},
   "source": [
    "#### Training\n",
    "\n",
    "Model training should be completed after 3 epochs using the following training procedure :\n"
   ]
  },
  {
   "cell_type": "code",
   "execution_count": null,
   "metadata": {},
   "outputs": [],
   "source": [
    "# batch size = 32\n",
    "#translator_fr_en.fit(batches, epochs = 1, lr = 0.001, tf_ratio = 0.75, print_every = 25, random_state = 42)\n",
    "#translator_fr_en.fit(batches, epochs = 1, lr = 0.0001, tf_ratio = 0.75, print_every = 25, random_state = 421)\n",
    "#translator_fr_en.fit(batches, epochs = 1, lr = 0.000025, tf_ratio = 0.75, print_every = 25, random_state = 42142)"
   ]
  },
  {
   "cell_type": "code",
   "execution_count": null,
   "metadata": {
    "scrolled": true
   },
   "outputs": [],
   "source": [
    "word2vec_in  = Word2VecConnector(word2vec_fr_xl)\n",
    "word2vec_out = Word2VecConnector(word2vec_en_xl)\n",
    "\n",
    "translator_fr_en_xl = EncoderDecoder(\n",
    "    device = torch.device(\"cpu\"),                   \n",
    "    tokenizer = lambda s : model_tokenize(s, word2vec_in.lang),\n",
    "    detokenizer = model_detokenize,\n",
    "    word2vec_in = word2vec_in,\n",
    "    word2vec_out = word2vec_out,\n",
    "    hid_dim_in = 400,\n",
    "    hid_dim_out = 400,\n",
    "    n_layer_in = 2,\n",
    "    n_layer_out = 2,\n",
    "    bound = 25,\n",
    "    dropout = 0.1,\n",
    "    decoder_warm_start = True,\n",
    "    attn_type = 'cov', # [None, 'standard', 'smooth', 'paf', 'cov']\n",
    "    attn_method = 'concat', # ['dot', 'general', 'concat']\n",
    "    optimizer = optim.AdamW)\n",
    "\n",
    "translator_fr_en_xl.nbParametres()"
   ]
  },
  {
   "cell_type": "code",
   "execution_count": 18,
   "metadata": {},
   "outputs": [
    {
     "data": {
      "text/plain": [
       "<All keys matched successfully>"
      ]
     },
     "execution_count": 18,
     "metadata": {},
     "output_type": "execute_result"
    }
   ],
   "source": [
    "translator_fr_en_xl.load_state_dict(torch.load(path_to_DL4NLP + '\\\\saves\\\\DL4NLP_II2a_encoder_attndecoder_cov_xl_fr_en.pth'))"
   ]
  },
  {
   "cell_type": "code",
   "execution_count": 47,
   "metadata": {},
   "outputs": [
    {
     "data": {
      "text/plain": [
       "8791"
      ]
     },
     "execution_count": 47,
     "metadata": {},
     "output_type": "execute_result"
    }
   ],
   "source": [
    "batches = translator_fr_en_xl.generatePackedSentences(fr_en, batch_size = 64)\n",
    "len(batches)"
   ]
  },
  {
   "cell_type": "code",
   "execution_count": 135,
   "metadata": {
    "scrolled": true
   },
   "outputs": [
    {
     "name": "stdout",
     "output_type": "stream",
     "text": [
      "epoch 1\n",
      "2m 36s (- 916m 2s) (25 0%) loss : 7.153  accuracy : 10.0 %\n",
      "5m 20s (- 933m 48s) (50 0%) loss : 5.759  accuracy : 11.4 %\n",
      "7m 47s (- 905m 38s) (75 0%) loss : 5.599  accuracy : 13.2 %\n",
      "10m 29s (- 911m 15s) (100 1%) loss : 5.363  accuracy : 14.1 %\n",
      "13m 2s (- 904m 22s) (125 1%) loss : 5.345  accuracy : 18.0 %\n",
      "15m 25s (- 888m 25s) (150 1%) loss : 5.008  accuracy : 18.3 %\n",
      "17m 43s (- 872m 50s) (175 1%) loss : 5.239  accuracy : 21.6 %\n",
      "20m 38s (- 886m 39s) (200 2%) loss : 5.048  accuracy : 21.0 %\n",
      "22m 58s (- 874m 23s) (225 2%) loss : 4.939  accuracy : 23.2 %\n",
      "25m 17s (- 864m 19s) (250 2%) loss : 4.486  accuracy : 28.4 %\n",
      "27m 52s (- 863m 17s) (275 3%) loss : 4.267  accuracy : 31.7 %\n",
      "30m 41s (- 868m 39s) (300 3%) loss : 4.387  accuracy : 29.9 %\n",
      "33m 5s (- 861m 52s) (325 3%) loss : 4.091  accuracy : 32.8 %\n",
      "35m 34s (- 857m 56s) (350 3%) loss : 4.238  accuracy : 31.7 %\n",
      "38m 6s (- 855m 4s) (375 4%) loss : 3.658  accuracy : 37.9 %\n",
      "40m 17s (- 845m 17s) (400 4%) loss : 3.840  accuracy : 38.9 %\n",
      "42m 48s (- 842m 42s) (425 4%) loss : 3.796  accuracy : 37.1 %\n",
      "45m 26s (- 842m 21s) (450 5%) loss : 3.422  accuracy : 41.8 %\n",
      "47m 57s (- 839m 44s) (475 5%) loss : 3.091  accuracy : 48.1 %\n",
      "50m 27s (- 836m 39s) (500 5%) loss : 3.341  accuracy : 43.1 %\n",
      "53m 3s (- 835m 26s) (525 5%) loss : 3.503  accuracy : 40.8 %\n",
      "55m 43s (- 834m 53s) (550 6%) loss : 3.255  accuracy : 43.7 %\n",
      "57m 56s (- 828m 0s) (575 6%) loss : 3.234  accuracy : 47.0 %\n",
      "60m 7s (- 820m 45s) (600 6%) loss : 3.465  accuracy : 42.6 %\n",
      "62m 40s (- 818m 53s) (625 7%) loss : 3.194  accuracy : 43.1 %\n",
      "65m 10s (- 816m 12s) (650 7%) loss : 3.263  accuracy : 46.2 %\n",
      "67m 41s (- 813m 49s) (675 7%) loss : 3.123  accuracy : 47.1 %\n",
      "70m 7s (- 810m 29s) (700 7%) loss : 2.772  accuracy : 51.6 %\n",
      "73m 15s (- 815m 3s) (725 8%) loss : 3.112  accuracy : 48.0 %\n",
      "75m 30s (- 809m 29s) (750 8%) loss : 2.833  accuracy : 53.1 %\n",
      "77m 46s (- 804m 31s) (775 8%) loss : 3.360  accuracy : 46.1 %\n",
      "80m 21s (- 802m 42s) (800 9%) loss : 2.822  accuracy : 53.8 %\n",
      "82m 24s (- 795m 46s) (825 9%) loss : 2.424  accuracy : 58.8 %\n",
      "85m 9s (- 795m 30s) (850 9%) loss : 2.742  accuracy : 54.2 %\n",
      "88m 11s (- 797m 54s) (875 9%) loss : 2.585  accuracy : 56.6 %\n",
      "90m 37s (- 794m 36s) (900 10%) loss : 2.840  accuracy : 52.5 %\n",
      "93m 16s (- 793m 14s) (925 10%) loss : 2.053  accuracy : 63.8 %\n",
      "95m 56s (- 791m 54s) (950 10%) loss : 2.621  accuracy : 54.9 %\n",
      "98m 40s (- 791m 2s) (975 11%) loss : 2.403  accuracy : 59.2 %\n",
      "101m 14s (- 788m 46s) (1000 11%) loss : 3.016  accuracy : 50.6 %\n",
      "103m 41s (- 785m 39s) (1025 11%) loss : 1.926  accuracy : 66.6 %\n",
      "106m 20s (- 783m 56s) (1050 11%) loss : 2.339  accuracy : 59.2 %\n",
      "109m 15s (- 784m 16s) (1075 12%) loss : 2.588  accuracy : 57.4 %\n",
      "111m 55s (- 782m 35s) (1100 12%) loss : 2.494  accuracy : 56.4 %\n",
      "114m 8s (- 777m 50s) (1125 12%) loss : 2.671  accuracy : 54.3 %\n",
      "116m 56s (- 776m 58s) (1150 13%) loss : 2.703  accuracy : 55.1 %\n",
      "119m 45s (- 776m 13s) (1175 13%) loss : 2.455  accuracy : 59.1 %\n",
      "122m 47s (- 776m 48s) (1200 13%) loss : 2.498  accuracy : 57.0 %\n",
      "125m 24s (- 774m 35s) (1225 13%) loss : 2.075  accuracy : 63.8 %\n",
      "128m 20s (- 774m 14s) (1250 14%) loss : 2.318  accuracy : 61.1 %\n",
      "130m 55s (- 771m 50s) (1275 14%) loss : 1.720  accuracy : 69.5 %\n",
      "133m 30s (- 769m 18s) (1300 14%) loss : 2.313  accuracy : 61.9 %\n",
      "135m 54s (- 765m 46s) (1325 15%) loss : 2.412  accuracy : 60.3 %\n",
      "137m 50s (- 759m 48s) (1350 15%) loss : 2.240  accuracy : 61.2 %\n",
      "140m 42s (- 758m 54s) (1375 15%) loss : 2.306  accuracy : 61.1 %\n",
      "143m 11s (- 755m 55s) (1400 15%) loss : 1.652  accuracy : 71.5 %\n",
      "145m 44s (- 753m 21s) (1425 16%) loss : 2.481  accuracy : 57.4 %\n",
      "148m 30s (- 751m 49s) (1450 16%) loss : 2.857  accuracy : 52.2 %\n",
      "150m 56s (- 748m 38s) (1475 16%) loss : 2.670  accuracy : 53.3 %\n",
      "153m 31s (- 746m 13s) (1500 17%) loss : 2.767  accuracy : 51.2 %\n",
      "155m 56s (- 742m 57s) (1525 17%) loss : 2.558  accuracy : 56.5 %\n",
      "158m 37s (- 741m 3s) (1550 17%) loss : 1.860  accuracy : 66.8 %\n",
      "161m 8s (- 738m 18s) (1575 17%) loss : 1.730  accuracy : 68.1 %\n",
      "163m 29s (- 734m 46s) (1600 18%) loss : 2.015  accuracy : 63.9 %\n",
      "166m 8s (- 732m 37s) (1625 18%) loss : 2.090  accuracy : 63.2 %\n",
      "168m 44s (- 730m 15s) (1650 18%) loss : 2.088  accuracy : 63.8 %\n",
      "171m 1s (- 726m 36s) (1675 19%) loss : 1.960  accuracy : 66.7 %\n",
      "173m 36s (- 724m 7s) (1700 19%) loss : 2.249  accuracy : 62.4 %\n",
      "176m 14s (- 721m 55s) (1725 19%) loss : 1.990  accuracy : 62.8 %\n",
      "178m 53s (- 719m 43s) (1750 19%) loss : 1.793  accuracy : 68.5 %\n",
      "181m 46s (- 718m 28s) (1775 20%) loss : 2.184  accuracy : 61.2 %\n",
      "184m 17s (- 715m 46s) (1800 20%) loss : 2.036  accuracy : 64.7 %\n",
      "186m 41s (- 712m 34s) (1825 20%) loss : 1.944  accuracy : 65.5 %\n",
      "189m 1s (- 709m 11s) (1850 21%) loss : 1.506  accuracy : 72.5 %\n",
      "191m 52s (- 707m 44s) (1875 21%) loss : 2.243  accuracy : 60.7 %\n",
      "194m 32s (- 705m 32s) (1900 21%) loss : 1.963  accuracy : 65.9 %\n",
      "196m 40s (- 701m 29s) (1925 21%) loss : 2.047  accuracy : 62.6 %\n",
      "199m 28s (- 699m 47s) (1950 22%) loss : 1.690  accuracy : 70.6 %\n",
      "201m 41s (- 696m 2s) (1975 22%) loss : 2.145  accuracy : 61.5 %\n",
      "204m 28s (- 694m 19s) (2000 22%) loss : 2.388  accuracy : 58.8 %\n",
      "207m 18s (- 692m 39s) (2025 23%) loss : 2.107  accuracy : 63.5 %\n",
      "210m 23s (- 691m 49s) (2050 23%) loss : 2.080  accuracy : 64.3 %\n",
      "213m 13s (- 690m 6s) (2075 23%) loss : 1.772  accuracy : 69.4 %\n",
      "215m 31s (- 686m 41s) (2100 23%) loss : 1.757  accuracy : 68.1 %\n",
      "218m 18s (- 684m 49s) (2125 24%) loss : 2.125  accuracy : 62.7 %\n",
      "220m 53s (- 682m 16s) (2150 24%) loss : 1.700  accuracy : 70.3 %\n",
      "223m 30s (- 679m 53s) (2175 24%) loss : 1.495  accuracy : 73.6 %\n",
      "226m 5s (- 677m 19s) (2200 25%) loss : 1.454  accuracy : 72.8 %\n",
      "229m 1s (- 675m 49s) (2225 25%) loss : 2.331  accuracy : 60.6 %\n",
      "231m 24s (- 672m 44s) (2250 25%) loss : 1.806  accuracy : 68.4 %\n",
      "233m 47s (- 669m 37s) (2275 25%) loss : 2.037  accuracy : 64.6 %\n",
      "236m 27s (- 667m 18s) (2300 26%) loss : 2.283  accuracy : 60.7 %\n",
      "238m 43s (- 663m 53s) (2325 26%) loss : 1.854  accuracy : 66.9 %\n",
      "241m 13s (- 661m 9s) (2350 26%) loss : 1.780  accuracy : 69.0 %\n",
      "243m 59s (- 659m 9s) (2375 27%) loss : 1.765  accuracy : 67.8 %\n",
      "246m 22s (- 656m 3s) (2400 27%) loss : 1.818  accuracy : 66.8 %\n",
      "248m 51s (- 653m 16s) (2425 27%) loss : 1.905  accuracy : 66.9 %\n",
      "251m 9s (- 650m 1s) (2450 27%) loss : 1.897  accuracy : 66.3 %\n",
      "253m 44s (- 647m 30s) (2475 28%) loss : 1.643  accuracy : 69.8 %\n",
      "256m 8s (- 644m 33s) (2500 28%) loss : 1.952  accuracy : 66.7 %\n",
      "258m 48s (- 642m 16s) (2525 28%) loss : 1.682  accuracy : 70.1 %\n",
      "261m 7s (- 639m 5s) (2550 29%) loss : 1.726  accuracy : 68.1 %\n",
      "263m 38s (- 636m 26s) (2575 29%) loss : 2.328  accuracy : 58.7 %\n",
      "266m 17s (- 634m 5s) (2600 29%) loss : 2.076  accuracy : 62.8 %\n",
      "269m 4s (- 632m 3s) (2625 29%) loss : 1.771  accuracy : 68.9 %\n",
      "272m 1s (- 630m 23s) (2650 30%) loss : 2.252  accuracy : 61.3 %\n",
      "274m 52s (- 628m 28s) (2675 30%) loss : 1.680  accuracy : 70.1 %\n",
      "277m 22s (- 625m 45s) (2700 30%) loss : 1.970  accuracy : 66.0 %\n",
      "280m 2s (- 623m 23s) (2725 30%) loss : 1.653  accuracy : 69.8 %\n",
      "282m 33s (- 620m 43s) (2750 31%) loss : 1.972  accuracy : 65.0 %\n",
      "285m 0s (- 617m 53s) (2775 31%) loss : 2.230  accuracy : 60.3 %\n",
      "287m 46s (- 615m 43s) (2800 31%) loss : 1.995  accuracy : 65.3 %\n",
      "290m 16s (- 613m 1s) (2825 32%) loss : 1.542  accuracy : 72.6 %\n",
      "293m 6s (- 611m 0s) (2850 32%) loss : 2.448  accuracy : 58.3 %\n",
      "296m 1s (- 609m 8s) (2875 32%) loss : 2.378  accuracy : 58.9 %\n",
      "298m 46s (- 606m 54s) (2900 32%) loss : 1.493  accuracy : 72.9 %\n",
      "301m 32s (- 604m 43s) (2925 33%) loss : 1.852  accuracy : 67.7 %\n",
      "304m 9s (- 602m 13s) (2950 33%) loss : 1.426  accuracy : 73.6 %\n",
      "306m 41s (- 599m 34s) (2975 33%) loss : 1.585  accuracy : 70.9 %\n",
      "309m 11s (- 596m 51s) (3000 34%) loss : 1.519  accuracy : 71.8 %\n",
      "311m 42s (- 594m 8s) (3025 34%) loss : 2.101  accuracy : 63.6 %\n",
      "314m 22s (- 591m 44s) (3050 34%) loss : 1.929  accuracy : 66.2 %\n",
      "316m 50s (- 588m 57s) (3075 34%) loss : 1.736  accuracy : 68.2 %\n",
      "319m 40s (- 586m 51s) (3100 35%) loss : 1.646  accuracy : 69.7 %\n",
      "322m 10s (- 584m 8s) (3125 35%) loss : 1.541  accuracy : 71.9 %\n",
      "324m 35s (- 581m 16s) (3150 35%) loss : 1.882  accuracy : 65.0 %\n",
      "327m 35s (- 579m 26s) (3175 36%) loss : 2.007  accuracy : 63.7 %\n",
      "330m 37s (- 577m 39s) (3200 36%) loss : 1.875  accuracy : 66.7 %\n",
      "333m 3s (- 574m 48s) (3225 36%) loss : 1.562  accuracy : 71.3 %\n"
     ]
    },
    {
     "name": "stdout",
     "output_type": "stream",
     "text": [
      "335m 32s (- 572m 4s) (3250 36%) loss : 1.630  accuracy : 69.2 %\n",
      "337m 48s (- 568m 58s) (3275 37%) loss : 1.911  accuracy : 66.2 %\n",
      "340m 1s (- 565m 46s) (3300 37%) loss : 1.934  accuracy : 65.0 %\n",
      "342m 9s (- 562m 28s) (3325 37%) loss : 1.654  accuracy : 69.5 %\n",
      "344m 20s (- 559m 16s) (3350 38%) loss : 1.977  accuracy : 65.0 %\n",
      "346m 31s (- 556m 4s) (3375 38%) loss : 1.746  accuracy : 66.8 %\n",
      "348m 54s (- 553m 13s) (3400 38%) loss : 1.644  accuracy : 69.6 %\n",
      "351m 25s (- 550m 35s) (3425 38%) loss : 1.950  accuracy : 65.9 %\n",
      "354m 6s (- 548m 12s) (3450 39%) loss : 1.366  accuracy : 73.5 %\n",
      "356m 30s (- 545m 22s) (3475 39%) loss : 1.689  accuracy : 68.3 %\n",
      "358m 33s (- 542m 2s) (3500 39%) loss : 2.127  accuracy : 62.5 %\n",
      "360m 53s (- 539m 8s) (3525 40%) loss : 1.432  accuracy : 71.9 %\n",
      "363m 37s (- 536m 49s) (3550 40%) loss : 1.968  accuracy : 65.6 %\n",
      "366m 18s (- 534m 27s) (3575 40%) loss : 1.639  accuracy : 69.5 %\n",
      "369m 0s (- 532m 5s) (3600 40%) loss : 2.052  accuracy : 63.9 %\n",
      "371m 30s (- 529m 25s) (3625 41%) loss : 2.387  accuracy : 58.7 %\n",
      "374m 14s (- 527m 7s) (3650 41%) loss : 1.533  accuracy : 71.9 %\n",
      "376m 58s (- 524m 47s) (3675 41%) loss : 1.199  accuracy : 77.4 %\n",
      "379m 43s (- 522m 29s) (3700 42%) loss : 1.815  accuracy : 67.5 %\n",
      "381m 59s (- 519m 30s) (3725 42%) loss : 1.580  accuracy : 70.7 %\n",
      "384m 30s (- 516m 52s) (3750 42%) loss : 2.069  accuracy : 63.9 %\n",
      "387m 6s (- 514m 22s) (3775 42%) loss : 1.574  accuracy : 71.7 %\n",
      "389m 26s (- 511m 30s) (3800 43%) loss : 1.636  accuracy : 70.1 %\n",
      "391m 36s (- 508m 25s) (3825 43%) loss : 1.548  accuracy : 72.5 %\n",
      "394m 16s (- 505m 59s) (3850 43%) loss : 1.187  accuracy : 77.4 %\n",
      "396m 55s (- 503m 33s) (3875 44%) loss : 1.693  accuracy : 69.4 %\n",
      "399m 34s (- 501m 6s) (3900 44%) loss : 1.800  accuracy : 67.6 %\n",
      "402m 3s (- 498m 27s) (3925 44%) loss : 1.554  accuracy : 71.9 %\n",
      "404m 52s (- 496m 11s) (3950 44%) loss : 1.327  accuracy : 75.1 %\n",
      "407m 23s (- 493m 35s) (3975 45%) loss : 1.806  accuracy : 67.2 %\n",
      "409m 53s (- 490m 57s) (4000 45%) loss : 1.381  accuracy : 73.4 %\n",
      "412m 30s (- 488m 27s) (4025 45%) loss : 1.929  accuracy : 65.3 %\n",
      "415m 5s (- 485m 54s) (4050 46%) loss : 1.811  accuracy : 66.8 %\n",
      "417m 37s (- 483m 19s) (4075 46%) loss : 1.495  accuracy : 73.3 %\n",
      "419m 48s (- 480m 19s) (4100 46%) loss : 1.686  accuracy : 69.3 %\n",
      "422m 9s (- 477m 31s) (4125 46%) loss : 1.244  accuracy : 75.2 %\n",
      "424m 43s (- 474m 58s) (4150 47%) loss : 1.881  accuracy : 65.7 %\n",
      "427m 3s (- 472m 10s) (4175 47%) loss : 1.617  accuracy : 69.6 %\n",
      "429m 9s (- 469m 6s) (4200 47%) loss : 1.720  accuracy : 68.0 %\n",
      "431m 22s (- 466m 11s) (4225 48%) loss : 1.419  accuracy : 73.5 %\n",
      "433m 55s (- 463m 37s) (4250 48%) loss : 1.556  accuracy : 71.7 %\n",
      "436m 45s (- 461m 22s) (4275 48%) loss : 2.038  accuracy : 64.0 %\n",
      "439m 28s (- 458m 59s) (4300 48%) loss : 1.703  accuracy : 68.5 %\n",
      "442m 13s (- 456m 38s) (4325 49%) loss : 1.864  accuracy : 66.5 %\n",
      "444m 50s (- 454m 9s) (4350 49%) loss : 1.929  accuracy : 65.0 %\n",
      "447m 31s (- 451m 43s) (4375 49%) loss : 1.672  accuracy : 70.0 %\n",
      "449m 55s (- 449m 0s) (4400 50%) loss : 1.705  accuracy : 68.7 %\n",
      "452m 5s (- 446m 3s) (4425 50%) loss : 1.473  accuracy : 72.6 %\n",
      "454m 33s (- 443m 25s) (4450 50%) loss : 2.079  accuracy : 63.6 %\n",
      "457m 33s (- 441m 17s) (4475 50%) loss : 2.126  accuracy : 62.3 %\n",
      "459m 58s (- 438m 36s) (4500 51%) loss : 1.538  accuracy : 71.2 %\n",
      "462m 37s (- 436m 8s) (4525 51%) loss : 1.375  accuracy : 74.3 %\n",
      "465m 17s (- 433m 41s) (4550 51%) loss : 1.592  accuracy : 72.3 %\n",
      "467m 35s (- 430m 54s) (4575 52%) loss : 1.672  accuracy : 69.2 %\n",
      "470m 23s (- 428m 34s) (4600 52%) loss : 1.900  accuracy : 66.7 %\n",
      "472m 42s (- 425m 47s) (4625 52%) loss : 2.143  accuracy : 62.1 %\n",
      "474m 51s (- 422m 52s) (4650 52%) loss : 1.767  accuracy : 67.5 %\n",
      "476m 50s (- 419m 49s) (4675 53%) loss : 0.996  accuracy : 79.3 %\n",
      "478m 59s (- 416m 55s) (4700 53%) loss : 1.163  accuracy : 77.7 %\n",
      "481m 15s (- 414m 8s) (4725 53%) loss : 1.507  accuracy : 71.8 %\n",
      "483m 28s (- 411m 18s) (4750 54%) loss : 1.901  accuracy : 64.9 %\n",
      "485m 29s (- 408m 19s) (4775 54%) loss : 1.553  accuracy : 70.0 %\n",
      "488m 1s (- 405m 46s) (4800 54%) loss : 2.035  accuracy : 63.1 %\n",
      "490m 29s (- 403m 9s) (4825 54%) loss : 1.632  accuracy : 69.8 %\n",
      "492m 59s (- 400m 35s) (4850 55%) loss : 1.678  accuracy : 70.0 %\n",
      "495m 7s (- 397m 43s) (4875 55%) loss : 1.850  accuracy : 65.6 %\n",
      "497m 31s (- 395m 4s) (4900 55%) loss : 1.733  accuracy : 69.0 %\n",
      "500m 26s (- 392m 50s) (4925 56%) loss : 1.996  accuracy : 65.7 %\n",
      "502m 51s (- 390m 12s) (4950 56%) loss : 1.929  accuracy : 64.9 %\n",
      "505m 12s (- 387m 30s) (4975 56%) loss : 1.096  accuracy : 79.4 %\n",
      "507m 54s (- 385m 6s) (5000 56%) loss : 1.687  accuracy : 69.0 %\n",
      "510m 28s (- 382m 34s) (5025 57%) loss : 1.827  accuracy : 66.9 %\n",
      "513m 10s (- 380m 9s) (5050 57%) loss : 1.793  accuracy : 67.6 %\n",
      "515m 38s (- 377m 33s) (5075 57%) loss : 1.414  accuracy : 73.2 %\n",
      "517m 50s (- 374m 46s) (5100 58%) loss : 2.036  accuracy : 64.0 %\n",
      "520m 22s (- 372m 13s) (5125 58%) loss : 1.681  accuracy : 68.7 %\n",
      "522m 52s (- 369m 40s) (5150 58%) loss : 1.481  accuracy : 72.0 %\n",
      "525m 11s (- 366m 58s) (5175 58%) loss : 1.806  accuracy : 67.2 %\n",
      "528m 13s (- 364m 46s) (5200 59%) loss : 1.594  accuracy : 71.4 %\n",
      "530m 25s (- 362m 0s) (5225 59%) loss : 1.498  accuracy : 72.1 %\n",
      "532m 58s (- 359m 28s) (5250 59%) loss : 1.800  accuracy : 68.4 %\n",
      "535m 15s (- 356m 46s) (5275 60%) loss : 0.937  accuracy : 81.3 %\n",
      "537m 33s (- 354m 4s) (5300 60%) loss : 1.525  accuracy : 72.5 %\n",
      "539m 34s (- 351m 12s) (5325 60%) loss : 1.830  accuracy : 65.2 %\n",
      "542m 1s (- 348m 37s) (5350 60%) loss : 1.363  accuracy : 74.0 %\n",
      "544m 22s (- 345m 57s) (5375 61%) loss : 1.423  accuracy : 73.7 %\n",
      "547m 14s (- 343m 38s) (5400 61%) loss : 1.279  accuracy : 76.2 %\n",
      "550m 11s (- 341m 22s) (5425 61%) loss : 1.867  accuracy : 66.9 %\n",
      "552m 29s (- 338m 41s) (5450 61%) loss : 1.262  accuracy : 75.6 %\n",
      "554m 38s (- 335m 55s) (5475 62%) loss : 1.326  accuracy : 74.8 %\n",
      "557m 21s (- 333m 30s) (5500 62%) loss : 1.609  accuracy : 70.0 %\n",
      "560m 12s (- 331m 9s) (5525 62%) loss : 1.459  accuracy : 73.3 %\n",
      "562m 31s (- 328m 29s) (5550 63%) loss : 1.167  accuracy : 77.1 %\n",
      "564m 57s (- 325m 54s) (5575 63%) loss : 2.026  accuracy : 64.0 %\n",
      "567m 38s (- 323m 27s) (5600 63%) loss : 1.455  accuracy : 73.1 %\n",
      "570m 12s (- 320m 56s) (5625 63%) loss : 1.953  accuracy : 63.8 %\n",
      "572m 43s (- 318m 23s) (5650 64%) loss : 1.442  accuracy : 73.1 %\n",
      "575m 8s (- 315m 47s) (5675 64%) loss : 1.418  accuracy : 73.7 %\n",
      "577m 19s (- 313m 4s) (5700 64%) loss : 1.527  accuracy : 70.0 %\n",
      "579m 23s (- 310m 17s) (5725 65%) loss : 1.118  accuracy : 77.5 %\n",
      "582m 11s (- 307m 54s) (5750 65%) loss : 1.534  accuracy : 71.7 %\n",
      "584m 31s (- 305m 16s) (5775 65%) loss : 1.878  accuracy : 65.1 %\n",
      "586m 54s (- 302m 39s) (5800 65%) loss : 1.530  accuracy : 72.1 %\n",
      "589m 14s (- 300m 1s) (5825 66%) loss : 1.232  accuracy : 76.4 %\n",
      "591m 22s (- 297m 18s) (5850 66%) loss : 2.085  accuracy : 64.0 %\n",
      "594m 5s (- 294m 52s) (5875 66%) loss : 1.312  accuracy : 75.1 %\n",
      "596m 37s (- 292m 20s) (5900 67%) loss : 1.514  accuracy : 72.4 %\n",
      "599m 31s (- 289m 59s) (5925 67%) loss : 1.737  accuracy : 69.3 %\n",
      "601m 55s (- 287m 24s) (5950 67%) loss : 1.543  accuracy : 72.2 %\n",
      "604m 2s (- 284m 41s) (5975 67%) loss : 1.188  accuracy : 76.2 %\n",
      "606m 30s (- 282m 7s) (6000 68%) loss : 1.457  accuracy : 73.2 %\n",
      "609m 13s (- 279m 41s) (6025 68%) loss : 1.932  accuracy : 65.5 %\n",
      "611m 55s (- 277m 14s) (6050 68%) loss : 1.986  accuracy : 64.0 %\n",
      "614m 35s (- 274m 46s) (6075 69%) loss : 1.930  accuracy : 65.2 %\n",
      "616m 39s (- 272m 2s) (6100 69%) loss : 1.812  accuracy : 66.6 %\n",
      "619m 17s (- 269m 33s) (6125 69%) loss : 1.634  accuracy : 69.8 %\n",
      "622m 5s (- 267m 8s) (6150 69%) loss : 1.211  accuracy : 77.5 %\n",
      "624m 26s (- 264m 32s) (6175 70%) loss : 1.480  accuracy : 72.5 %\n",
      "626m 36s (- 261m 51s) (6200 70%) loss : 1.335  accuracy : 74.5 %\n",
      "628m 51s (- 259m 13s) (6225 70%) loss : 1.937  accuracy : 65.2 %\n",
      "631m 28s (- 256m 44s) (6250 71%) loss : 1.299  accuracy : 74.6 %\n",
      "633m 25s (- 253m 58s) (6275 71%) loss : 1.467  accuracy : 72.2 %\n",
      "636m 5s (- 251m 30s) (6300 71%) loss : 1.621  accuracy : 69.6 %\n",
      "638m 20s (- 248m 52s) (6325 71%) loss : 1.918  accuracy : 64.6 %\n",
      "640m 41s (- 246m 17s) (6350 72%) loss : 1.318  accuracy : 74.7 %\n",
      "643m 30s (- 243m 52s) (6375 72%) loss : 1.403  accuracy : 73.9 %\n",
      "645m 49s (- 241m 16s) (6400 72%) loss : 1.662  accuracy : 68.4 %\n"
     ]
    },
    {
     "name": "stdout",
     "output_type": "stream",
     "text": [
      "648m 37s (- 238m 51s) (6425 73%) loss : 1.716  accuracy : 69.5 %\n",
      "650m 50s (- 236m 13s) (6450 73%) loss : 1.319  accuracy : 74.1 %\n",
      "653m 53s (- 233m 53s) (6475 73%) loss : 1.531  accuracy : 71.4 %\n",
      "656m 23s (- 231m 21s) (6500 73%) loss : 1.570  accuracy : 72.1 %\n",
      "659m 4s (- 228m 52s) (6525 74%) loss : 1.230  accuracy : 77.2 %\n",
      "661m 9s (- 226m 12s) (6550 74%) loss : 1.460  accuracy : 71.9 %\n",
      "663m 50s (- 223m 44s) (6575 74%) loss : 1.372  accuracy : 74.1 %\n",
      "666m 17s (- 221m 11s) (6600 75%) loss : 1.117  accuracy : 78.1 %\n",
      "669m 23s (- 218m 51s) (6625 75%) loss : 1.195  accuracy : 78.5 %\n",
      "671m 58s (- 216m 20s) (6650 75%) loss : 1.601  accuracy : 69.6 %\n",
      "674m 38s (- 213m 51s) (6675 75%) loss : 2.070  accuracy : 64.6 %\n",
      "677m 7s (- 211m 19s) (6700 76%) loss : 1.412  accuracy : 73.3 %\n",
      "679m 35s (- 208m 46s) (6725 76%) loss : 1.411  accuracy : 73.5 %\n",
      "682m 35s (- 206m 23s) (6750 76%) loss : 2.096  accuracy : 62.6 %\n",
      "685m 21s (- 203m 56s) (6775 77%) loss : 1.405  accuracy : 73.0 %\n",
      "688m 19s (- 201m 32s) (6800 77%) loss : 1.750  accuracy : 68.1 %\n",
      "691m 9s (- 199m 5s) (6825 77%) loss : 1.490  accuracy : 73.0 %\n",
      "693m 37s (- 196m 32s) (6850 77%) loss : 1.658  accuracy : 69.1 %\n",
      "696m 7s (- 194m 0s) (6875 78%) loss : 1.891  accuracy : 65.9 %\n",
      "698m 43s (- 191m 29s) (6900 78%) loss : 1.534  accuracy : 71.3 %\n",
      "701m 27s (- 189m 0s) (6925 78%) loss : 1.425  accuracy : 74.4 %\n",
      "703m 41s (- 186m 24s) (6950 79%) loss : 1.517  accuracy : 72.8 %\n",
      "706m 24s (- 183m 55s) (6975 79%) loss : 1.681  accuracy : 69.0 %\n",
      "709m 6s (- 181m 25s) (7000 79%) loss : 1.612  accuracy : 70.6 %\n",
      "711m 47s (- 178m 56s) (7025 79%) loss : 1.616  accuracy : 71.0 %\n",
      "714m 26s (- 176m 25s) (7050 80%) loss : 1.765  accuracy : 67.8 %\n",
      "716m 55s (- 173m 53s) (7075 80%) loss : 1.557  accuracy : 72.1 %\n",
      "719m 34s (- 171m 22s) (7100 80%) loss : 1.347  accuracy : 74.5 %\n",
      "722m 8s (- 168m 51s) (7125 81%) loss : 1.411  accuracy : 74.5 %\n",
      "725m 3s (- 166m 24s) (7150 81%) loss : 1.081  accuracy : 79.3 %\n",
      "727m 40s (- 163m 53s) (7175 81%) loss : 1.479  accuracy : 72.1 %\n",
      "730m 31s (- 161m 25s) (7200 81%) loss : 1.519  accuracy : 71.5 %\n",
      "733m 9s (- 158m 54s) (7225 82%) loss : 1.671  accuracy : 69.1 %\n",
      "735m 47s (- 156m 23s) (7250 82%) loss : 1.568  accuracy : 71.7 %\n",
      "738m 32s (- 153m 53s) (7275 82%) loss : 1.685  accuracy : 68.3 %\n",
      "741m 12s (- 151m 23s) (7300 83%) loss : 1.728  accuracy : 68.0 %\n",
      "743m 46s (- 148m 51s) (7325 83%) loss : 1.673  accuracy : 69.9 %\n",
      "746m 13s (- 146m 17s) (7350 83%) loss : 1.363  accuracy : 74.8 %\n",
      "748m 51s (- 143m 46s) (7375 83%) loss : 1.857  accuracy : 66.0 %\n",
      "751m 25s (- 141m 14s) (7400 84%) loss : 1.556  accuracy : 70.9 %\n",
      "753m 42s (- 138m 39s) (7425 84%) loss : 1.533  accuracy : 71.7 %\n",
      "756m 47s (- 136m 13s) (7450 84%) loss : 2.238  accuracy : 60.0 %\n",
      "759m 11s (- 133m 39s) (7475 85%) loss : 1.767  accuracy : 67.9 %\n",
      "761m 39s (- 131m 6s) (7500 85%) loss : 1.530  accuracy : 71.9 %\n",
      "764m 16s (- 128m 34s) (7525 85%) loss : 1.416  accuracy : 74.0 %\n",
      "766m 29s (- 125m 59s) (7550 85%) loss : 1.621  accuracy : 68.9 %\n",
      "768m 49s (- 123m 25s) (7575 86%) loss : 1.130  accuracy : 77.1 %\n",
      "771m 38s (- 120m 55s) (7600 86%) loss : 1.585  accuracy : 71.8 %\n",
      "774m 4s (- 118m 22s) (7625 86%) loss : 1.596  accuracy : 70.4 %\n",
      "776m 29s (- 115m 48s) (7650 87%) loss : 1.903  accuracy : 65.9 %\n",
      "779m 5s (- 113m 17s) (7675 87%) loss : 1.725  accuracy : 68.0 %\n",
      "781m 38s (- 110m 44s) (7700 87%) loss : 1.704  accuracy : 67.8 %\n",
      "784m 27s (- 108m 14s) (7725 87%) loss : 1.264  accuracy : 76.1 %\n",
      "786m 40s (- 105m 40s) (7750 88%) loss : 1.676  accuracy : 68.9 %\n",
      "789m 27s (- 103m 9s) (7775 88%) loss : 1.362  accuracy : 74.3 %\n",
      "792m 10s (- 100m 38s) (7800 88%) loss : 1.356  accuracy : 74.7 %\n",
      "794m 53s (- 98m 7s) (7825 89%) loss : 1.507  accuracy : 72.7 %\n",
      "797m 33s (- 95m 36s) (7850 89%) loss : 1.530  accuracy : 71.1 %\n",
      "800m 27s (- 93m 6s) (7875 89%) loss : 1.697  accuracy : 69.1 %\n",
      "802m 50s (- 90m 32s) (7900 89%) loss : 1.765  accuracy : 68.3 %\n",
      "805m 25s (- 88m 0s) (7925 90%) loss : 1.705  accuracy : 68.0 %\n",
      "808m 16s (- 85m 30s) (7950 90%) loss : 1.605  accuracy : 72.2 %\n",
      "810m 28s (- 82m 55s) (7975 90%) loss : 1.185  accuracy : 77.5 %\n",
      "813m 8s (- 80m 24s) (8000 91%) loss : 1.986  accuracy : 62.9 %\n",
      "815m 16s (- 77m 49s) (8025 91%) loss : 1.254  accuracy : 75.1 %\n",
      "817m 56s (- 75m 17s) (8050 91%) loss : 1.631  accuracy : 69.6 %\n",
      "820m 3s (- 72m 42s) (8075 91%) loss : 1.845  accuracy : 65.5 %\n",
      "822m 40s (- 70m 10s) (8100 92%) loss : 1.405  accuracy : 71.9 %\n",
      "825m 2s (- 67m 37s) (8125 92%) loss : 1.594  accuracy : 70.5 %\n",
      "827m 8s (- 65m 3s) (8150 92%) loss : 1.437  accuracy : 72.6 %\n",
      "829m 59s (- 62m 32s) (8175 92%) loss : 1.555  accuracy : 71.2 %\n",
      "832m 32s (- 60m 0s) (8200 93%) loss : 1.591  accuracy : 70.5 %\n",
      "835m 13s (- 57m 28s) (8225 93%) loss : 1.573  accuracy : 71.8 %\n",
      "837m 35s (- 54m 55s) (8250 93%) loss : 1.280  accuracy : 74.9 %\n",
      "840m 2s (- 52m 22s) (8275 94%) loss : 1.260  accuracy : 75.9 %\n",
      "842m 27s (- 49m 50s) (8300 94%) loss : 1.566  accuracy : 71.8 %\n",
      "844m 44s (- 47m 17s) (8325 94%) loss : 1.316  accuracy : 73.8 %\n",
      "846m 57s (- 44m 43s) (8350 94%) loss : 1.592  accuracy : 70.0 %\n",
      "849m 30s (- 42m 11s) (8375 95%) loss : 1.407  accuracy : 73.1 %\n",
      "851m 53s (- 39m 39s) (8400 95%) loss : 1.299  accuracy : 75.5 %\n",
      "854m 13s (- 37m 6s) (8425 95%) loss : 1.428  accuracy : 73.8 %\n",
      "856m 37s (- 34m 34s) (8450 96%) loss : 1.283  accuracy : 74.8 %\n",
      "859m 3s (- 32m 1s) (8475 96%) loss : 1.201  accuracy : 76.8 %\n",
      "861m 33s (- 29m 29s) (8500 96%) loss : 1.816  accuracy : 66.7 %\n",
      "864m 14s (- 26m 57s) (8525 96%) loss : 1.855  accuracy : 66.1 %\n",
      "866m 31s (- 24m 25s) (8550 97%) loss : 1.381  accuracy : 73.8 %\n",
      "869m 1s (- 21m 53s) (8575 97%) loss : 1.134  accuracy : 78.3 %\n",
      "871m 38s (- 19m 21s) (8600 97%) loss : 1.701  accuracy : 69.1 %\n",
      "874m 17s (- 16m 49s) (8625 98%) loss : 1.454  accuracy : 72.9 %\n",
      "876m 44s (- 14m 17s) (8650 98%) loss : 1.507  accuracy : 71.3 %\n",
      "878m 59s (- 11m 45s) (8675 98%) loss : 1.683  accuracy : 68.3 %\n",
      "881m 21s (- 9m 13s) (8700 98%) loss : 1.471  accuracy : 72.6 %\n",
      "883m 46s (- 6m 41s) (8725 99%) loss : 1.963  accuracy : 64.7 %\n",
      "886m 8s (- 4m 9s) (8750 99%) loss : 1.622  accuracy : 69.7 %\n",
      "888m 47s (- 1m 37s) (8775 99%) loss : 1.723  accuracy : 67.1 %\n"
     ]
    }
   ],
   "source": [
    "translator_fr_en_xl.fit(batches, epochs = 1, lr = 0.001, tf_ratio = 0.75, print_every = 25, random_state = 42)"
   ]
  },
  {
   "cell_type": "code",
   "execution_count": 136,
   "metadata": {},
   "outputs": [],
   "source": [
    "torch.save(translator_fr_en_xl.state_dict(), path_to_DL4NLP + '\\\\saves\\\\DL4NLP_II2a_encoder_attndecoder_cov_xl_fr_en.pth')"
   ]
  },
  {
   "cell_type": "code",
   "execution_count": 48,
   "metadata": {
    "scrolled": true
   },
   "outputs": [
    {
     "name": "stdout",
     "output_type": "stream",
     "text": [
      "epoch 1\n",
      "2m 34s (- 901m 12s) (25 0%) loss : 1.455  accuracy : 71.5 %\n",
      "5m 34s (- 975m 20s) (50 0%) loss : 1.429  accuracy : 72.0 %\n",
      "7m 54s (- 918m 51s) (75 0%) loss : 1.360  accuracy : 72.8 %\n",
      "10m 27s (- 908m 53s) (100 1%) loss : 1.165  accuracy : 76.6 %\n",
      "12m 32s (- 869m 35s) (125 1%) loss : 1.383  accuracy : 72.3 %\n",
      "14m 53s (- 858m 0s) (150 1%) loss : 1.237  accuracy : 76.8 %\n",
      "17m 36s (- 867m 1s) (175 1%) loss : 1.141  accuracy : 77.4 %\n",
      "19m 59s (- 858m 40s) (200 2%) loss : 1.090  accuracy : 77.7 %\n",
      "22m 29s (- 856m 17s) (225 2%) loss : 1.509  accuracy : 70.7 %\n",
      "25m 0s (- 854m 34s) (250 2%) loss : 0.922  accuracy : 81.3 %\n",
      "26m 59s (- 835m 53s) (275 3%) loss : 0.930  accuracy : 80.8 %\n",
      "29m 31s (- 835m 45s) (300 3%) loss : 1.459  accuracy : 72.5 %\n",
      "31m 52s (- 830m 6s) (325 3%) loss : 1.142  accuracy : 77.5 %\n",
      "34m 19s (- 827m 55s) (350 3%) loss : 0.699  accuracy : 84.4 %\n",
      "37m 11s (- 834m 46s) (375 4%) loss : 1.323  accuracy : 74.6 %\n",
      "39m 47s (- 834m 34s) (400 4%) loss : 1.418  accuracy : 73.0 %\n",
      "42m 50s (- 843m 14s) (425 4%) loss : 1.804  accuracy : 67.0 %\n",
      "45m 2s (- 834m 49s) (450 5%) loss : 1.361  accuracy : 72.8 %\n",
      "47m 32s (- 832m 13s) (475 5%) loss : 1.495  accuracy : 70.8 %\n",
      "50m 27s (- 836m 43s) (500 5%) loss : 1.641  accuracy : 69.4 %\n",
      "52m 46s (- 831m 3s) (525 5%) loss : 1.412  accuracy : 72.3 %\n",
      "55m 5s (- 825m 30s) (550 6%) loss : 1.303  accuracy : 73.9 %\n",
      "57m 50s (- 826m 32s) (575 6%) loss : 1.396  accuracy : 72.4 %\n",
      "60m 23s (- 824m 30s) (600 6%) loss : 1.138  accuracy : 77.7 %\n",
      "62m 51s (- 821m 16s) (625 7%) loss : 1.075  accuracy : 78.4 %\n",
      "65m 18s (- 817m 59s) (650 7%) loss : 1.461  accuracy : 72.3 %\n",
      "67m 59s (- 817m 34s) (675 7%) loss : 1.121  accuracy : 78.6 %\n",
      "70m 18s (- 812m 39s) (700 7%) loss : 1.341  accuracy : 73.9 %\n",
      "72m 38s (- 808m 14s) (725 8%) loss : 1.180  accuracy : 76.0 %\n",
      "75m 5s (- 805m 0s) (750 8%) loss : 0.953  accuracy : 80.9 %\n",
      "77m 23s (- 800m 24s) (775 8%) loss : 1.412  accuracy : 73.6 %\n",
      "80m 20s (- 802m 29s) (800 9%) loss : 1.324  accuracy : 75.0 %\n",
      "82m 33s (- 797m 6s) (825 9%) loss : 0.937  accuracy : 81.2 %\n",
      "84m 45s (- 791m 53s) (850 9%) loss : 1.108  accuracy : 77.3 %\n",
      "87m 20s (- 790m 6s) (875 9%) loss : 1.228  accuracy : 75.9 %\n",
      "89m 55s (- 788m 22s) (900 10%) loss : 1.327  accuracy : 74.1 %\n",
      "92m 45s (- 788m 45s) (925 10%) loss : 1.510  accuracy : 71.0 %\n",
      "95m 9s (- 785m 28s) (950 10%) loss : 0.977  accuracy : 79.6 %\n",
      "98m 24s (- 788m 49s) (975 11%) loss : 1.625  accuracy : 68.8 %\n",
      "100m 56s (- 786m 24s) (1000 11%) loss : 1.533  accuracy : 71.1 %\n",
      "103m 32s (- 784m 33s) (1025 11%) loss : 1.228  accuracy : 76.6 %\n",
      "105m 55s (- 780m 58s) (1050 11%) loss : 0.796  accuracy : 83.2 %\n",
      "108m 18s (- 777m 27s) (1075 12%) loss : 1.343  accuracy : 73.4 %\n",
      "110m 38s (- 773m 37s) (1100 12%) loss : 1.109  accuracy : 77.6 %\n",
      "112m 40s (- 767m 46s) (1125 12%) loss : 1.187  accuracy : 76.0 %\n",
      "115m 3s (- 764m 30s) (1150 13%) loss : 1.567  accuracy : 71.0 %\n",
      "117m 30s (- 761m 40s) (1175 13%) loss : 1.145  accuracy : 76.8 %\n",
      "119m 50s (- 758m 5s) (1200 13%) loss : 1.056  accuracy : 78.1 %\n",
      "122m 12s (- 754m 46s) (1225 13%) loss : 1.059  accuracy : 79.0 %\n",
      "125m 7s (- 754m 52s) (1250 14%) loss : 1.281  accuracy : 75.8 %\n",
      "127m 49s (- 753m 30s) (1275 14%) loss : 1.477  accuracy : 71.6 %\n",
      "130m 19s (- 751m 0s) (1300 14%) loss : 1.276  accuracy : 75.4 %\n",
      "132m 38s (- 747m 24s) (1325 15%) loss : 1.094  accuracy : 78.6 %\n",
      "135m 9s (- 745m 0s) (1350 15%) loss : 1.051  accuracy : 79.9 %\n",
      "137m 27s (- 741m 22s) (1375 15%) loss : 1.224  accuracy : 76.3 %\n",
      "139m 50s (- 738m 16s) (1400 15%) loss : 1.113  accuracy : 76.7 %\n",
      "142m 3s (- 734m 20s) (1425 16%) loss : 1.286  accuracy : 74.1 %\n",
      "144m 39s (- 732m 19s) (1450 16%) loss : 1.432  accuracy : 72.6 %\n",
      "147m 17s (- 730m 35s) (1475 16%) loss : 1.187  accuracy : 77.3 %\n",
      "149m 26s (- 726m 25s) (1500 17%) loss : 1.105  accuracy : 77.6 %\n",
      "151m 35s (- 722m 18s) (1525 17%) loss : 1.076  accuracy : 77.8 %\n",
      "154m 2s (- 719m 35s) (1550 17%) loss : 1.452  accuracy : 72.2 %\n",
      "156m 24s (- 716m 35s) (1575 17%) loss : 1.023  accuracy : 79.4 %\n",
      "159m 26s (- 716m 36s) (1600 18%) loss : 1.833  accuracy : 65.9 %\n",
      "161m 53s (- 713m 55s) (1625 18%) loss : 1.405  accuracy : 73.3 %\n",
      "163m 56s (- 709m 32s) (1650 18%) loss : 1.441  accuracy : 72.1 %\n",
      "166m 23s (- 706m 53s) (1675 19%) loss : 1.488  accuracy : 71.6 %\n",
      "168m 36s (- 703m 16s) (1700 19%) loss : 1.396  accuracy : 73.0 %\n",
      "170m 51s (- 699m 52s) (1725 19%) loss : 1.433  accuracy : 72.6 %\n",
      "173m 37s (- 698m 32s) (1750 19%) loss : 1.149  accuracy : 78.0 %\n",
      "176m 30s (- 697m 41s) (1775 20%) loss : 1.335  accuracy : 75.4 %\n",
      "178m 54s (- 694m 50s) (1800 20%) loss : 0.907  accuracy : 82.0 %\n",
      "181m 40s (- 693m 26s) (1825 20%) loss : 1.030  accuracy : 79.4 %\n",
      "184m 2s (- 690m 30s) (1850 21%) loss : 1.268  accuracy : 74.5 %\n",
      "186m 24s (- 687m 35s) (1875 21%) loss : 1.395  accuracy : 72.2 %\n",
      "188m 37s (- 684m 5s) (1900 21%) loss : 1.088  accuracy : 77.7 %\n",
      "191m 6s (- 681m 36s) (1925 21%) loss : 1.594  accuracy : 70.6 %\n",
      "193m 39s (- 679m 24s) (1950 22%) loss : 1.292  accuracy : 74.7 %\n",
      "196m 14s (- 677m 16s) (1975 22%) loss : 1.520  accuracy : 71.3 %\n",
      "199m 11s (- 676m 21s) (2000 22%) loss : 1.502  accuracy : 71.4 %\n",
      "201m 31s (- 673m 21s) (2025 23%) loss : 1.498  accuracy : 71.1 %\n",
      "204m 22s (- 672m 3s) (2050 23%) loss : 1.386  accuracy : 73.8 %\n",
      "207m 26s (- 671m 26s) (2075 23%) loss : 1.504  accuracy : 71.4 %\n",
      "209m 53s (- 668m 44s) (2100 23%) loss : 1.374  accuracy : 73.4 %\n",
      "212m 31s (- 666m 39s) (2125 24%) loss : 1.240  accuracy : 75.9 %\n",
      "215m 9s (- 664m 34s) (2150 24%) loss : 1.234  accuracy : 76.4 %\n",
      "217m 35s (- 661m 52s) (2175 24%) loss : 1.345  accuracy : 73.8 %\n",
      "220m 21s (- 660m 11s) (2200 25%) loss : 0.569  accuracy : 87.8 %\n",
      "222m 54s (- 657m 49s) (2225 25%) loss : 1.043  accuracy : 78.2 %\n",
      "225m 40s (- 656m 3s) (2250 25%) loss : 1.190  accuracy : 77.5 %\n",
      "228m 17s (- 653m 52s) (2275 25%) loss : 1.388  accuracy : 73.1 %\n",
      "230m 37s (- 650m 52s) (2300 26%) loss : 1.138  accuracy : 77.4 %\n",
      "233m 10s (- 648m 29s) (2325 26%) loss : 0.984  accuracy : 80.2 %\n",
      "235m 55s (- 646m 36s) (2350 26%) loss : 1.064  accuracy : 79.5 %\n",
      "238m 33s (- 644m 28s) (2375 27%) loss : 1.789  accuracy : 67.9 %\n",
      "241m 4s (- 641m 56s) (2400 27%) loss : 1.073  accuracy : 78.6 %\n",
      "243m 26s (- 639m 3s) (2425 27%) loss : 1.248  accuracy : 75.6 %\n",
      "245m 44s (- 636m 1s) (2450 27%) loss : 1.330  accuracy : 74.5 %\n",
      "248m 13s (- 633m 27s) (2475 28%) loss : 0.993  accuracy : 80.0 %\n",
      "250m 29s (- 630m 21s) (2500 28%) loss : 0.943  accuracy : 80.9 %\n",
      "252m 52s (- 627m 32s) (2525 28%) loss : 1.372  accuracy : 74.4 %\n",
      "255m 27s (- 625m 12s) (2550 29%) loss : 1.059  accuracy : 79.1 %\n",
      "258m 15s (- 623m 26s) (2575 29%) loss : 0.798  accuracy : 83.9 %\n",
      "261m 18s (- 622m 13s) (2600 29%) loss : 1.053  accuracy : 78.6 %\n",
      "263m 39s (- 619m 20s) (2625 29%) loss : 1.143  accuracy : 77.3 %\n",
      "266m 9s (- 616m 47s) (2650 30%) loss : 1.113  accuracy : 78.2 %\n",
      "268m 47s (- 614m 32s) (2675 30%) loss : 1.526  accuracy : 72.1 %\n",
      "271m 36s (- 612m 44s) (2700 30%) loss : 1.826  accuracy : 66.6 %\n",
      "274m 19s (- 610m 40s) (2725 30%) loss : 1.486  accuracy : 71.6 %\n",
      "276m 39s (- 607m 45s) (2750 31%) loss : 1.376  accuracy : 73.4 %\n",
      "279m 13s (- 605m 21s) (2775 31%) loss : 1.217  accuracy : 77.0 %\n",
      "282m 7s (- 603m 39s) (2800 31%) loss : 0.893  accuracy : 82.1 %\n",
      "284m 46s (- 601m 24s) (2825 32%) loss : 1.256  accuracy : 75.6 %\n",
      "287m 20s (- 598m 58s) (2850 32%) loss : 1.323  accuracy : 74.4 %\n",
      "290m 1s (- 596m 48s) (2875 32%) loss : 1.609  accuracy : 70.2 %\n",
      "292m 18s (- 593m 46s) (2900 32%) loss : 0.930  accuracy : 80.9 %\n",
      "294m 38s (- 590m 53s) (2925 33%) loss : 1.198  accuracy : 76.6 %\n",
      "297m 23s (- 588m 50s) (2950 33%) loss : 1.457  accuracy : 72.5 %\n",
      "300m 10s (- 586m 48s) (2975 33%) loss : 1.407  accuracy : 73.1 %\n",
      "302m 30s (- 583m 56s) (3000 34%) loss : 1.230  accuracy : 76.0 %\n",
      "305m 7s (- 581m 36s) (3025 34%) loss : 1.439  accuracy : 71.9 %\n",
      "307m 59s (- 579m 44s) (3050 34%) loss : 1.178  accuracy : 78.5 %\n",
      "310m 55s (- 577m 58s) (3075 34%) loss : 1.671  accuracy : 69.1 %\n",
      "312m 46s (- 574m 11s) (3100 35%) loss : 1.229  accuracy : 75.6 %\n",
      "315m 10s (- 571m 27s) (3125 35%) loss : 1.387  accuracy : 74.1 %\n",
      "317m 11s (- 568m 1s) (3150 35%) loss : 1.665  accuracy : 69.4 %\n",
      "319m 41s (- 565m 28s) (3175 36%) loss : 1.163  accuracy : 76.9 %\n",
      "322m 27s (- 563m 23s) (3200 36%) loss : 1.131  accuracy : 77.7 %\n",
      "324m 56s (- 560m 49s) (3225 36%) loss : 1.331  accuracy : 75.2 %\n"
     ]
    },
    {
     "name": "stdout",
     "output_type": "stream",
     "text": [
      "327m 23s (- 558m 10s) (3250 36%) loss : 1.047  accuracy : 79.9 %\n",
      "329m 50s (- 555m 31s) (3275 37%) loss : 1.264  accuracy : 75.6 %\n",
      "332m 17s (- 552m 54s) (3300 37%) loss : 1.333  accuracy : 74.4 %\n",
      "335m 14s (- 551m 6s) (3325 37%) loss : 1.042  accuracy : 79.5 %\n",
      "337m 39s (- 548m 25s) (3350 38%) loss : 1.159  accuracy : 76.9 %\n",
      "340m 3s (- 545m 42s) (3375 38%) loss : 1.672  accuracy : 69.0 %\n",
      "342m 48s (- 543m 32s) (3400 38%) loss : 1.562  accuracy : 70.4 %\n",
      "345m 26s (- 541m 12s) (3425 38%) loss : 1.382  accuracy : 74.4 %\n",
      "348m 8s (- 538m 57s) (3450 39%) loss : 0.824  accuracy : 82.7 %\n",
      "350m 33s (- 536m 16s) (3475 39%) loss : 1.409  accuracy : 73.3 %\n",
      "353m 14s (- 533m 59s) (3500 39%) loss : 1.220  accuracy : 76.4 %\n",
      "355m 51s (- 531m 36s) (3525 40%) loss : 1.258  accuracy : 76.6 %\n",
      "358m 22s (- 529m 5s) (3550 40%) loss : 1.207  accuracy : 76.9 %\n",
      "360m 36s (- 526m 8s) (3575 40%) loss : 1.415  accuracy : 73.2 %\n",
      "363m 8s (- 523m 37s) (3600 40%) loss : 1.064  accuracy : 78.7 %\n",
      "365m 42s (- 521m 10s) (3625 41%) loss : 1.096  accuracy : 79.8 %\n",
      "368m 21s (- 518m 50s) (3650 41%) loss : 1.105  accuracy : 78.5 %\n",
      "370m 51s (- 516m 16s) (3675 41%) loss : 1.246  accuracy : 76.2 %\n",
      "373m 8s (- 513m 25s) (3700 42%) loss : 1.107  accuracy : 78.2 %\n",
      "375m 51s (- 511m 10s) (3725 42%) loss : 1.305  accuracy : 74.5 %\n",
      "378m 29s (- 508m 46s) (3750 42%) loss : 1.526  accuracy : 70.9 %\n",
      "381m 28s (- 506m 53s) (3775 42%) loss : 1.190  accuracy : 77.2 %\n",
      "383m 55s (- 504m 15s) (3800 43%) loss : 1.091  accuracy : 78.5 %\n",
      "386m 9s (- 501m 21s) (3825 43%) loss : 1.269  accuracy : 75.4 %\n",
      "389m 0s (- 499m 14s) (3850 43%) loss : 1.319  accuracy : 75.6 %\n",
      "391m 33s (- 496m 45s) (3875 44%) loss : 1.630  accuracy : 69.3 %\n",
      "394m 17s (- 494m 29s) (3900 44%) loss : 1.495  accuracy : 72.4 %\n",
      "396m 24s (- 491m 27s) (3925 44%) loss : 1.175  accuracy : 76.5 %\n",
      "398m 34s (- 488m 29s) (3950 44%) loss : 0.924  accuracy : 81.1 %\n",
      "401m 22s (- 486m 17s) (3975 45%) loss : 1.178  accuracy : 77.3 %\n",
      "404m 27s (- 484m 26s) (4000 45%) loss : 1.170  accuracy : 77.4 %\n",
      "406m 49s (- 481m 43s) (4025 45%) loss : 1.310  accuracy : 74.7 %\n",
      "408m 52s (- 478m 37s) (4050 46%) loss : 1.250  accuracy : 74.7 %\n",
      "411m 20s (- 476m 2s) (4075 46%) loss : 1.233  accuracy : 76.4 %\n",
      "414m 7s (- 473m 49s) (4100 46%) loss : 1.399  accuracy : 73.0 %\n",
      "416m 57s (- 471m 38s) (4125 46%) loss : 1.543  accuracy : 71.4 %\n",
      "419m 29s (- 469m 7s) (4150 47%) loss : 0.810  accuracy : 82.5 %\n",
      "422m 0s (- 466m 35s) (4175 47%) loss : 1.633  accuracy : 69.3 %\n",
      "424m 13s (- 463m 42s) (4200 47%) loss : 1.281  accuracy : 74.5 %\n",
      "426m 51s (- 461m 18s) (4225 48%) loss : 1.654  accuracy : 68.6 %\n",
      "429m 35s (- 459m 0s) (4250 48%) loss : 1.109  accuracy : 79.2 %\n",
      "432m 23s (- 456m 45s) (4275 48%) loss : 1.248  accuracy : 75.3 %\n",
      "434m 37s (- 453m 56s) (4300 48%) loss : 1.351  accuracy : 74.2 %\n",
      "437m 17s (- 451m 32s) (4325 49%) loss : 1.191  accuracy : 76.4 %\n",
      "440m 19s (- 449m 31s) (4350 49%) loss : 1.363  accuracy : 73.7 %\n",
      "443m 36s (- 447m 46s) (4375 49%) loss : 1.243  accuracy : 76.2 %\n",
      "446m 53s (- 445m 59s) (4400 50%) loss : 1.368  accuracy : 73.9 %\n",
      "450m 35s (- 444m 35s) (4425 50%) loss : 1.226  accuracy : 77.0 %\n",
      "453m 56s (- 442m 49s) (4450 50%) loss : 1.289  accuracy : 75.1 %\n",
      "457m 2s (- 440m 48s) (4475 50%) loss : 1.342  accuracy : 75.3 %\n",
      "459m 38s (- 438m 17s) (4500 51%) loss : 1.155  accuracy : 77.0 %\n",
      "462m 5s (- 435m 38s) (4525 51%) loss : 0.805  accuracy : 83.4 %\n",
      "464m 49s (- 433m 15s) (4550 51%) loss : 0.964  accuracy : 80.7 %\n",
      "467m 27s (- 430m 46s) (4575 52%) loss : 1.626  accuracy : 69.9 %\n",
      "470m 3s (- 428m 16s) (4600 52%) loss : 1.242  accuracy : 75.3 %\n",
      "472m 56s (- 425m 59s) (4625 52%) loss : 0.846  accuracy : 82.6 %\n",
      "475m 7s (- 423m 7s) (4650 52%) loss : 1.169  accuracy : 77.0 %\n",
      "477m 31s (- 420m 25s) (4675 53%) loss : 1.234  accuracy : 76.4 %\n",
      "480m 7s (- 417m 54s) (4700 53%) loss : 1.712  accuracy : 68.2 %\n",
      "483m 11s (- 415m 47s) (4725 53%) loss : 1.529  accuracy : 72.2 %\n",
      "485m 45s (- 413m 15s) (4750 54%) loss : 0.914  accuracy : 81.6 %\n",
      "487m 58s (- 410m 24s) (4775 54%) loss : 0.874  accuracy : 81.6 %\n",
      "490m 30s (- 407m 50s) (4800 54%) loss : 0.923  accuracy : 81.3 %\n",
      "492m 22s (- 404m 42s) (4825 54%) loss : 0.976  accuracy : 80.4 %\n",
      "494m 42s (- 401m 59s) (4850 55%) loss : 1.069  accuracy : 78.8 %\n",
      "497m 9s (- 399m 21s) (4875 55%) loss : 1.377  accuracy : 73.7 %\n",
      "499m 20s (- 396m 30s) (4900 55%) loss : 0.864  accuracy : 82.4 %\n",
      "502m 24s (- 394m 22s) (4925 56%) loss : 1.419  accuracy : 72.9 %\n",
      "504m 47s (- 391m 41s) (4950 56%) loss : 1.131  accuracy : 78.0 %\n",
      "507m 41s (- 389m 24s) (4975 56%) loss : 1.946  accuracy : 64.9 %\n",
      "509m 58s (- 386m 39s) (5000 56%) loss : 1.061  accuracy : 78.5 %\n",
      "512m 25s (- 384m 2s) (5025 57%) loss : 1.379  accuracy : 73.4 %\n",
      "514m 51s (- 381m 24s) (5050 57%) loss : 0.919  accuracy : 81.2 %\n",
      "517m 22s (- 378m 49s) (5075 57%) loss : 1.305  accuracy : 74.7 %\n",
      "519m 47s (- 376m 11s) (5100 58%) loss : 0.972  accuracy : 79.5 %\n",
      "522m 17s (- 373m 36s) (5125 58%) loss : 1.518  accuracy : 71.6 %\n",
      "525m 2s (- 371m 12s) (5150 58%) loss : 1.114  accuracy : 78.8 %\n",
      "527m 26s (- 368m 32s) (5175 58%) loss : 1.439  accuracy : 72.2 %\n",
      "530m 6s (- 366m 4s) (5200 59%) loss : 1.063  accuracy : 79.3 %\n",
      "532m 51s (- 363m 40s) (5225 59%) loss : 0.992  accuracy : 80.3 %\n",
      "535m 27s (- 361m 9s) (5250 59%) loss : 1.180  accuracy : 76.9 %\n",
      "537m 50s (- 358m 29s) (5275 60%) loss : 1.666  accuracy : 67.8 %\n",
      "540m 15s (- 355m 51s) (5300 60%) loss : 1.264  accuracy : 75.7 %\n",
      "543m 3s (- 353m 28s) (5325 60%) loss : 1.787  accuracy : 67.5 %\n",
      "545m 31s (- 350m 52s) (5350 60%) loss : 1.395  accuracy : 73.6 %\n",
      "547m 44s (- 348m 6s) (5375 61%) loss : 1.106  accuracy : 78.3 %\n",
      "550m 12s (- 345m 30s) (5400 61%) loss : 1.382  accuracy : 73.3 %\n",
      "553m 5s (- 343m 10s) (5425 61%) loss : 1.651  accuracy : 69.7 %\n",
      "555m 24s (- 340m 28s) (5450 61%) loss : 0.993  accuracy : 79.8 %\n",
      "557m 57s (- 337m 56s) (5475 62%) loss : 0.975  accuracy : 80.2 %\n",
      "560m 31s (- 335m 23s) (5500 62%) loss : 1.336  accuracy : 74.9 %\n",
      "563m 19s (- 332m 59s) (5525 62%) loss : 1.742  accuracy : 67.9 %\n",
      "565m 39s (- 330m 19s) (5550 63%) loss : 1.367  accuracy : 73.1 %\n",
      "567m 58s (- 327m 38s) (5575 63%) loss : 1.128  accuracy : 77.6 %\n",
      "570m 36s (- 325m 8s) (5600 63%) loss : 1.265  accuracy : 74.9 %\n",
      "573m 11s (- 322m 36s) (5625 63%) loss : 1.263  accuracy : 76.3 %\n",
      "575m 43s (- 320m 3s) (5650 64%) loss : 1.038  accuracy : 79.6 %\n",
      "578m 0s (- 317m 21s) (5675 64%) loss : 1.544  accuracy : 71.5 %\n",
      "580m 11s (- 314m 37s) (5700 64%) loss : 1.294  accuracy : 74.9 %\n",
      "582m 30s (- 311m 57s) (5725 65%) loss : 1.178  accuracy : 77.3 %\n",
      "584m 38s (- 309m 11s) (5750 65%) loss : 1.350  accuracy : 73.7 %\n",
      "587m 6s (- 306m 37s) (5775 65%) loss : 1.402  accuracy : 73.6 %\n",
      "589m 46s (- 304m 8s) (5800 65%) loss : 1.627  accuracy : 69.6 %\n",
      "592m 32s (- 301m 42s) (5825 66%) loss : 0.944  accuracy : 81.9 %\n",
      "595m 10s (- 299m 12s) (5850 66%) loss : 1.213  accuracy : 76.6 %\n",
      "597m 48s (- 296m 43s) (5875 66%) loss : 1.358  accuracy : 74.6 %\n",
      "600m 39s (- 294m 19s) (5900 67%) loss : 1.433  accuracy : 73.4 %\n",
      "602m 47s (- 291m 34s) (5925 67%) loss : 0.883  accuracy : 82.2 %\n",
      "605m 18s (- 289m 1s) (5950 67%) loss : 1.550  accuracy : 70.7 %\n",
      "607m 9s (- 286m 9s) (5975 67%) loss : 1.250  accuracy : 74.9 %\n",
      "609m 48s (- 283m 39s) (6000 68%) loss : 1.113  accuracy : 77.8 %\n",
      "612m 36s (- 281m 14s) (6025 68%) loss : 2.140  accuracy : 61.9 %\n",
      "615m 20s (- 278m 46s) (6050 68%) loss : 1.228  accuracy : 76.8 %\n",
      "617m 48s (- 276m 12s) (6075 69%) loss : 1.003  accuracy : 79.1 %\n",
      "620m 15s (- 273m 37s) (6100 69%) loss : 1.143  accuracy : 77.9 %\n",
      "622m 26s (- 270m 55s) (6125 69%) loss : 1.026  accuracy : 79.5 %\n",
      "624m 57s (- 268m 22s) (6150 69%) loss : 0.962  accuracy : 80.5 %\n",
      "627m 41s (- 265m 54s) (6175 70%) loss : 1.324  accuracy : 75.3 %\n",
      "629m 55s (- 263m 15s) (6200 70%) loss : 0.874  accuracy : 82.0 %\n",
      "632m 54s (- 260m 53s) (6225 70%) loss : 1.268  accuracy : 75.6 %\n",
      "635m 2s (- 258m 11s) (6250 71%) loss : 1.049  accuracy : 79.0 %\n",
      "638m 6s (- 255m 51s) (6275 71%) loss : 1.342  accuracy : 74.8 %\n",
      "640m 28s (- 253m 14s) (6300 71%) loss : 1.328  accuracy : 74.8 %\n",
      "642m 41s (- 250m 34s) (6325 71%) loss : 1.492  accuracy : 72.5 %\n",
      "645m 0s (- 247m 56s) (6350 72%) loss : 1.004  accuracy : 80.4 %\n",
      "647m 24s (- 245m 21s) (6375 72%) loss : 1.503  accuracy : 72.3 %\n",
      "650m 14s (- 242m 55s) (6400 72%) loss : 1.392  accuracy : 73.7 %\n"
     ]
    },
    {
     "name": "stdout",
     "output_type": "stream",
     "text": [
      "653m 21s (- 240m 35s) (6425 73%) loss : 1.126  accuracy : 77.9 %\n",
      "656m 10s (- 238m 9s) (6450 73%) loss : 1.304  accuracy : 74.5 %\n",
      "658m 46s (- 235m 37s) (6475 73%) loss : 1.425  accuracy : 72.8 %\n",
      "661m 40s (- 233m 13s) (6500 73%) loss : 1.151  accuracy : 77.8 %\n",
      "663m 58s (- 230m 35s) (6525 74%) loss : 1.047  accuracy : 79.9 %\n",
      "666m 25s (- 228m 0s) (6550 74%) loss : 1.139  accuracy : 78.5 %\n",
      "669m 13s (- 225m 32s) (6575 74%) loss : 1.404  accuracy : 73.7 %\n",
      "671m 53s (- 223m 2s) (6600 75%) loss : 1.378  accuracy : 73.5 %\n",
      "674m 9s (- 220m 24s) (6625 75%) loss : 1.076  accuracy : 78.1 %\n",
      "676m 22s (- 217m 45s) (6650 75%) loss : 1.191  accuracy : 76.1 %\n",
      "678m 39s (- 215m 8s) (6675 75%) loss : 1.465  accuracy : 71.9 %\n",
      "681m 6s (- 212m 33s) (6700 76%) loss : 1.168  accuracy : 77.4 %\n",
      "683m 34s (- 210m 0s) (6725 76%) loss : 1.078  accuracy : 79.1 %\n",
      "686m 0s (- 207m 25s) (6750 76%) loss : 0.927  accuracy : 80.9 %\n",
      "688m 21s (- 204m 49s) (6775 77%) loss : 0.985  accuracy : 80.3 %\n",
      "690m 38s (- 202m 12s) (6800 77%) loss : 1.164  accuracy : 77.6 %\n",
      "692m 51s (- 199m 35s) (6825 77%) loss : 1.295  accuracy : 75.0 %\n",
      "695m 42s (- 197m 7s) (6850 77%) loss : 1.703  accuracy : 68.7 %\n",
      "698m 1s (- 194m 31s) (6875 78%) loss : 1.359  accuracy : 73.9 %\n",
      "700m 20s (- 191m 55s) (6900 78%) loss : 1.299  accuracy : 74.5 %\n",
      "702m 44s (- 189m 21s) (6925 78%) loss : 1.454  accuracy : 72.4 %\n",
      "705m 34s (- 186m 54s) (6950 79%) loss : 1.489  accuracy : 72.7 %\n",
      "707m 54s (- 184m 18s) (6975 79%) loss : 1.275  accuracy : 75.6 %\n",
      "710m 43s (- 181m 50s) (7000 79%) loss : 1.273  accuracy : 76.0 %\n",
      "712m 54s (- 179m 12s) (7025 79%) loss : 0.996  accuracy : 80.5 %\n",
      "715m 37s (- 176m 43s) (7050 80%) loss : 1.205  accuracy : 77.3 %\n",
      "718m 4s (- 174m 9s) (7075 80%) loss : 1.353  accuracy : 73.9 %\n",
      "720m 21s (- 171m 33s) (7100 80%) loss : 1.334  accuracy : 74.6 %\n",
      "722m 49s (- 169m 0s) (7125 81%) loss : 0.732  accuracy : 84.6 %\n",
      "725m 15s (- 166m 27s) (7150 81%) loss : 1.301  accuracy : 75.3 %\n",
      "728m 8s (- 163m 59s) (7175 81%) loss : 1.291  accuracy : 75.4 %\n",
      "730m 19s (- 161m 22s) (7200 81%) loss : 1.362  accuracy : 73.8 %\n",
      "733m 12s (- 158m 55s) (7225 82%) loss : 1.232  accuracy : 76.2 %\n",
      "735m 53s (- 156m 24s) (7250 82%) loss : 0.869  accuracy : 82.3 %\n",
      "738m 32s (- 153m 54s) (7275 82%) loss : 1.195  accuracy : 76.6 %\n",
      "741m 0s (- 151m 20s) (7300 83%) loss : 0.942  accuracy : 80.6 %\n",
      "743m 42s (- 148m 50s) (7325 83%) loss : 1.638  accuracy : 70.1 %\n",
      "746m 20s (- 146m 19s) (7350 83%) loss : 1.111  accuracy : 78.3 %\n",
      "748m 50s (- 143m 46s) (7375 83%) loss : 1.751  accuracy : 67.5 %\n",
      "751m 19s (- 141m 13s) (7400 84%) loss : 1.228  accuracy : 75.0 %\n",
      "753m 39s (- 138m 39s) (7425 84%) loss : 1.070  accuracy : 78.2 %\n",
      "756m 9s (- 136m 6s) (7450 84%) loss : 1.642  accuracy : 69.3 %\n",
      "758m 50s (- 133m 35s) (7475 85%) loss : 1.400  accuracy : 73.6 %\n",
      "762m 4s (- 131m 10s) (7500 85%) loss : 1.860  accuracy : 66.2 %\n",
      "764m 17s (- 128m 35s) (7525 85%) loss : 1.585  accuracy : 70.8 %\n",
      "766m 31s (- 125m 59s) (7550 85%) loss : 1.330  accuracy : 74.5 %\n",
      "769m 10s (- 123m 28s) (7575 86%) loss : 1.535  accuracy : 70.3 %\n",
      "771m 30s (- 120m 54s) (7600 86%) loss : 1.063  accuracy : 78.9 %\n",
      "774m 6s (- 118m 22s) (7625 86%) loss : 1.009  accuracy : 79.8 %\n",
      "776m 50s (- 115m 52s) (7650 87%) loss : 1.471  accuracy : 72.5 %\n",
      "779m 16s (- 113m 18s) (7675 87%) loss : 1.148  accuracy : 77.5 %\n",
      "781m 59s (- 110m 48s) (7700 87%) loss : 1.101  accuracy : 78.3 %\n",
      "784m 37s (- 108m 16s) (7725 87%) loss : 1.690  accuracy : 68.6 %\n",
      "787m 16s (- 105m 44s) (7750 88%) loss : 1.413  accuracy : 72.9 %\n",
      "789m 58s (- 103m 13s) (7775 88%) loss : 1.430  accuracy : 73.3 %\n",
      "792m 38s (- 100m 42s) (7800 88%) loss : 1.279  accuracy : 75.4 %\n",
      "795m 23s (- 98m 11s) (7825 89%) loss : 1.659  accuracy : 69.2 %\n",
      "797m 38s (- 95m 36s) (7850 89%) loss : 1.373  accuracy : 72.9 %\n",
      "800m 0s (- 93m 3s) (7875 89%) loss : 0.798  accuracy : 83.1 %\n",
      "802m 24s (- 90m 29s) (7900 89%) loss : 1.300  accuracy : 76.3 %\n",
      "805m 1s (- 87m 58s) (7925 90%) loss : 0.690  accuracy : 84.8 %\n",
      "807m 23s (- 85m 24s) (7950 90%) loss : 1.627  accuracy : 69.7 %\n",
      "809m 52s (- 82m 51s) (7975 90%) loss : 1.196  accuracy : 76.5 %\n",
      "812m 45s (- 80m 21s) (8000 91%) loss : 1.212  accuracy : 76.4 %\n",
      "815m 26s (- 77m 50s) (8025 91%) loss : 1.485  accuracy : 72.4 %\n",
      "817m 42s (- 75m 16s) (8050 91%) loss : 0.732  accuracy : 85.0 %\n",
      "820m 20s (- 72m 44s) (8075 91%) loss : 1.587  accuracy : 70.2 %\n",
      "822m 49s (- 70m 11s) (8100 92%) loss : 1.347  accuracy : 75.0 %\n",
      "825m 11s (- 67m 38s) (8125 92%) loss : 1.545  accuracy : 71.6 %\n",
      "827m 45s (- 65m 6s) (8150 92%) loss : 1.568  accuracy : 70.5 %\n",
      "830m 9s (- 62m 33s) (8175 92%) loss : 1.395  accuracy : 72.4 %\n",
      "833m 1s (- 60m 2s) (8200 93%) loss : 1.264  accuracy : 76.0 %\n",
      "835m 29s (- 57m 29s) (8225 93%) loss : 0.950  accuracy : 81.1 %\n",
      "838m 1s (- 54m 57s) (8250 93%) loss : 1.456  accuracy : 71.9 %\n",
      "840m 39s (- 52m 25s) (8275 94%) loss : 1.436  accuracy : 73.0 %\n",
      "843m 38s (- 49m 54s) (8300 94%) loss : 1.800  accuracy : 67.0 %\n",
      "846m 16s (- 47m 22s) (8325 94%) loss : 1.473  accuracy : 72.6 %\n",
      "848m 38s (- 44m 49s) (8350 94%) loss : 0.919  accuracy : 81.7 %\n",
      "851m 19s (- 42m 17s) (8375 95%) loss : 1.109  accuracy : 77.6 %\n",
      "853m 39s (- 39m 44s) (8400 95%) loss : 0.756  accuracy : 84.3 %\n"
     ]
    },
    {
     "ename": "KeyboardInterrupt",
     "evalue": "",
     "output_type": "error",
     "traceback": [
      "\u001b[1;31m---------------------------------------------------------------------------\u001b[0m",
      "\u001b[1;31mKeyboardInterrupt\u001b[0m                         Traceback (most recent call last)",
      "\u001b[1;32m<ipython-input-48-fdbe3cf94edc>\u001b[0m in \u001b[0;36m<module>\u001b[1;34m\u001b[0m\n\u001b[1;32m----> 1\u001b[1;33m \u001b[0mtranslator_fr_en_xl\u001b[0m\u001b[1;33m.\u001b[0m\u001b[0mfit\u001b[0m\u001b[1;33m(\u001b[0m\u001b[0mbatches\u001b[0m\u001b[1;33m,\u001b[0m \u001b[0mepochs\u001b[0m \u001b[1;33m=\u001b[0m \u001b[1;36m1\u001b[0m\u001b[1;33m,\u001b[0m \u001b[0mlr\u001b[0m \u001b[1;33m=\u001b[0m \u001b[1;36m0.0001\u001b[0m\u001b[1;33m,\u001b[0m \u001b[0mtf_ratio\u001b[0m \u001b[1;33m=\u001b[0m \u001b[1;36m0.75\u001b[0m\u001b[1;33m,\u001b[0m \u001b[0mprint_every\u001b[0m \u001b[1;33m=\u001b[0m \u001b[1;36m25\u001b[0m\u001b[1;33m,\u001b[0m \u001b[0mrandom_state\u001b[0m \u001b[1;33m=\u001b[0m \u001b[1;36m421\u001b[0m\u001b[1;33m)\u001b[0m\u001b[1;33m\u001b[0m\u001b[0m\n\u001b[0m",
      "\u001b[1;32m<ipython-input-44-3a2decff5f37>\u001b[0m in \u001b[0;36mfit\u001b[1;34m(self, batches, iters, epochs, tf_ratio, lr, random_state, print_every, compute_accuracy)\u001b[0m\n\u001b[0;32m    326\u001b[0m                 \u001b[0mnp\u001b[0m\u001b[1;33m.\u001b[0m\u001b[0mrandom\u001b[0m\u001b[1;33m.\u001b[0m\u001b[0mshuffle\u001b[0m\u001b[1;33m(\u001b[0m\u001b[0mbatches\u001b[0m\u001b[1;33m)\u001b[0m\u001b[1;33m\u001b[0m\u001b[0m\n\u001b[0;32m    327\u001b[0m                 \u001b[1;32mfor\u001b[0m \u001b[0mbatch\u001b[0m \u001b[1;32min\u001b[0m \u001b[0mbatches\u001b[0m \u001b[1;33m:\u001b[0m\u001b[1;33m\u001b[0m\u001b[0m\n\u001b[1;32m--> 328\u001b[1;33m                     \u001b[0mloss\u001b[0m\u001b[1;33m,\u001b[0m \u001b[0macc\u001b[0m \u001b[1;33m=\u001b[0m \u001b[0mtrainLoop\u001b[0m\u001b[1;33m(\u001b[0m\u001b[0mbatch\u001b[0m\u001b[1;33m,\u001b[0m \u001b[0moptimizer\u001b[0m\u001b[1;33m,\u001b[0m \u001b[0mtf_ratio\u001b[0m\u001b[1;33m,\u001b[0m \u001b[0mcompute_accuracy\u001b[0m\u001b[1;33m)\u001b[0m\u001b[1;33m\u001b[0m\u001b[0m\n\u001b[0m\u001b[0;32m    329\u001b[0m                     \u001b[0mtot_loss\u001b[0m \u001b[1;33m+=\u001b[0m \u001b[0mloss\u001b[0m\u001b[1;33m\u001b[0m\u001b[0m\n\u001b[0;32m    330\u001b[0m                     \u001b[0mtot_acc\u001b[0m \u001b[1;33m+=\u001b[0m \u001b[0macc\u001b[0m\u001b[1;33m\u001b[0m\u001b[0m\n",
      "\u001b[1;32m<ipython-input-44-3a2decff5f37>\u001b[0m in \u001b[0;36mtrainLoop\u001b[1;34m(batch, optimizer, tf_ratio, compute_accuracy)\u001b[0m\n\u001b[0;32m    299\u001b[0m             \u001b[0mtotal\u001b[0m \u001b[1;33m=\u001b[0m \u001b[0mtorch\u001b[0m\u001b[1;33m.\u001b[0m\u001b[0msum\u001b[0m\u001b[1;33m(\u001b[0m\u001b[0mbatch\u001b[0m\u001b[1;33m[\u001b[0m\u001b[1;33m-\u001b[0m\u001b[1;36m1\u001b[0m\u001b[1;33m]\u001b[0m\u001b[1;33m)\u001b[0m\u001b[1;33m.\u001b[0m\u001b[0mitem\u001b[0m\u001b[1;33m(\u001b[0m\u001b[1;33m)\u001b[0m\u001b[1;33m\u001b[0m\u001b[0m\n\u001b[0;32m    300\u001b[0m             \u001b[0mloss\u001b[0m\u001b[1;33m,\u001b[0m \u001b[0msuccess\u001b[0m \u001b[1;33m=\u001b[0m \u001b[0mcomputeLogProbs\u001b[0m\u001b[1;33m(\u001b[0m\u001b[0mbatch\u001b[0m\u001b[1;33m,\u001b[0m \u001b[0mtf_ratio\u001b[0m\u001b[1;33m,\u001b[0m \u001b[0mcompute_accuracy\u001b[0m\u001b[1;33m)\u001b[0m\u001b[1;33m\u001b[0m\u001b[0m\n\u001b[1;32m--> 301\u001b[1;33m             \u001b[0mloss\u001b[0m\u001b[1;33m.\u001b[0m\u001b[0mbackward\u001b[0m\u001b[1;33m(\u001b[0m\u001b[1;33m)\u001b[0m\u001b[1;33m\u001b[0m\u001b[0m\n\u001b[0m\u001b[0;32m    302\u001b[0m             \u001b[0mnn\u001b[0m\u001b[1;33m.\u001b[0m\u001b[0mutils\u001b[0m\u001b[1;33m.\u001b[0m\u001b[0mclip_grad_norm_\u001b[0m\u001b[1;33m(\u001b[0m\u001b[0mself\u001b[0m\u001b[1;33m.\u001b[0m\u001b[0mparameters\u001b[0m\u001b[1;33m(\u001b[0m\u001b[1;33m)\u001b[0m\u001b[1;33m,\u001b[0m \u001b[1;36m5.\u001b[0m\u001b[1;33m)\u001b[0m\u001b[1;33m\u001b[0m\u001b[0m\n\u001b[0;32m    303\u001b[0m             \u001b[0moptimizer\u001b[0m\u001b[1;33m.\u001b[0m\u001b[0mstep\u001b[0m\u001b[1;33m(\u001b[0m\u001b[1;33m)\u001b[0m\u001b[1;33m\u001b[0m\u001b[0m\n",
      "\u001b[1;32mC:\\ProgramData\\Anaconda3\\lib\\site-packages\\torch\\tensor.py\u001b[0m in \u001b[0;36mbackward\u001b[1;34m(self, gradient, retain_graph, create_graph)\u001b[0m\n\u001b[0;32m    196\u001b[0m                 \u001b[0mproducts\u001b[0m\u001b[1;33m.\u001b[0m \u001b[0mDefaults\u001b[0m \u001b[0mto\u001b[0m\u001b[0;31m \u001b[0m\u001b[0;31m`\u001b[0m\u001b[0;31m`\u001b[0m\u001b[1;32mFalse\u001b[0m\u001b[0;31m`\u001b[0m\u001b[0;31m`\u001b[0m\u001b[1;33m.\u001b[0m\u001b[1;33m\u001b[0m\u001b[0m\n\u001b[0;32m    197\u001b[0m         \"\"\"\n\u001b[1;32m--> 198\u001b[1;33m         \u001b[0mtorch\u001b[0m\u001b[1;33m.\u001b[0m\u001b[0mautograd\u001b[0m\u001b[1;33m.\u001b[0m\u001b[0mbackward\u001b[0m\u001b[1;33m(\u001b[0m\u001b[0mself\u001b[0m\u001b[1;33m,\u001b[0m \u001b[0mgradient\u001b[0m\u001b[1;33m,\u001b[0m \u001b[0mretain_graph\u001b[0m\u001b[1;33m,\u001b[0m \u001b[0mcreate_graph\u001b[0m\u001b[1;33m)\u001b[0m\u001b[1;33m\u001b[0m\u001b[0m\n\u001b[0m\u001b[0;32m    199\u001b[0m \u001b[1;33m\u001b[0m\u001b[0m\n\u001b[0;32m    200\u001b[0m     \u001b[1;32mdef\u001b[0m \u001b[0mregister_hook\u001b[0m\u001b[1;33m(\u001b[0m\u001b[0mself\u001b[0m\u001b[1;33m,\u001b[0m \u001b[0mhook\u001b[0m\u001b[1;33m)\u001b[0m\u001b[1;33m:\u001b[0m\u001b[1;33m\u001b[0m\u001b[0m\n",
      "\u001b[1;32mC:\\ProgramData\\Anaconda3\\lib\\site-packages\\torch\\autograd\\__init__.py\u001b[0m in \u001b[0;36mbackward\u001b[1;34m(tensors, grad_tensors, retain_graph, create_graph, grad_variables)\u001b[0m\n\u001b[0;32m     98\u001b[0m     Variable._execution_engine.run_backward(\n\u001b[0;32m     99\u001b[0m         \u001b[0mtensors\u001b[0m\u001b[1;33m,\u001b[0m \u001b[0mgrad_tensors\u001b[0m\u001b[1;33m,\u001b[0m \u001b[0mretain_graph\u001b[0m\u001b[1;33m,\u001b[0m \u001b[0mcreate_graph\u001b[0m\u001b[1;33m,\u001b[0m\u001b[1;33m\u001b[0m\u001b[0m\n\u001b[1;32m--> 100\u001b[1;33m         allow_unreachable=True)  # allow_unreachable flag\n\u001b[0m\u001b[0;32m    101\u001b[0m \u001b[1;33m\u001b[0m\u001b[0m\n\u001b[0;32m    102\u001b[0m \u001b[1;33m\u001b[0m\u001b[0m\n",
      "\u001b[1;31mKeyboardInterrupt\u001b[0m: "
     ]
    }
   ],
   "source": [
    "translator_fr_en_xl.fit(batches, epochs = 1, lr = 0.0001, tf_ratio = 0.75, print_every = 25, random_state = 421)"
   ]
  },
  {
   "cell_type": "code",
   "execution_count": 49,
   "metadata": {},
   "outputs": [],
   "source": [
    "torch.save(translator_fr_en_xl.state_dict(), path_to_DL4NLP + '\\\\saves\\\\DL4NLP_II2a_encoder_attndecoder_cov_xl_fr_en.pth')"
   ]
  },
  {
   "cell_type": "code",
   "execution_count": 69,
   "metadata": {
    "scrolled": true
   },
   "outputs": [
    {
     "name": "stdout",
     "output_type": "stream",
     "text": [
      "epoch 1\n",
      "2m 42s (- 951m 6s) (25 0%) loss : 1.165  accuracy : 77.1 %\n",
      "5m 30s (- 963m 37s) (50 0%) loss : 1.037  accuracy : 78.7 %\n",
      "8m 26s (- 980m 48s) (75 0%) loss : 1.559  accuracy : 70.7 %\n",
      "10m 49s (- 940m 15s) (100 1%) loss : 0.931  accuracy : 81.4 %\n",
      "14m 23s (- 997m 50s) (125 1%) loss : 1.668  accuracy : 68.2 %\n",
      "17m 7s (- 986m 45s) (150 1%) loss : 1.283  accuracy : 75.2 %\n",
      "19m 47s (- 974m 40s) (175 1%) loss : 0.867  accuracy : 82.4 %\n",
      "22m 24s (- 962m 35s) (200 2%) loss : 0.996  accuracy : 78.9 %\n",
      "24m 56s (- 949m 17s) (225 2%) loss : 1.099  accuracy : 78.2 %\n",
      "27m 30s (- 939m 40s) (250 2%) loss : 1.408  accuracy : 72.9 %\n",
      "30m 3s (- 930m 59s) (275 3%) loss : 1.330  accuracy : 74.1 %\n",
      "32m 34s (- 922m 12s) (300 3%) loss : 1.403  accuracy : 73.7 %\n",
      "35m 0s (- 911m 50s) (325 3%) loss : 1.435  accuracy : 73.6 %\n",
      "37m 8s (- 895m 49s) (350 3%) loss : 0.939  accuracy : 80.5 %\n",
      "39m 46s (- 892m 36s) (375 4%) loss : 1.153  accuracy : 77.2 %\n",
      "42m 35s (- 893m 36s) (400 4%) loss : 1.284  accuracy : 76.0 %\n",
      "45m 32s (- 896m 20s) (425 4%) loss : 1.235  accuracy : 75.7 %\n",
      "48m 13s (- 893m 58s) (450 5%) loss : 0.976  accuracy : 80.4 %\n",
      "51m 0s (- 892m 57s) (475 5%) loss : 1.449  accuracy : 72.4 %\n",
      "53m 30s (- 887m 8s) (500 5%) loss : 1.371  accuracy : 73.4 %\n",
      "56m 2s (- 882m 14s) (525 5%) loss : 1.156  accuracy : 77.4 %\n",
      "58m 27s (- 875m 51s) (550 6%) loss : 0.773  accuracy : 83.5 %\n",
      "61m 14s (- 875m 6s) (575 6%) loss : 1.262  accuracy : 75.9 %\n",
      "63m 42s (- 869m 42s) (600 6%) loss : 1.069  accuracy : 78.7 %\n",
      "66m 0s (- 862m 30s) (625 7%) loss : 1.094  accuracy : 78.1 %\n",
      "68m 15s (- 854m 55s) (650 7%) loss : 1.240  accuracy : 75.3 %\n",
      "70m 55s (- 852m 50s) (675 7%) loss : 1.626  accuracy : 70.1 %\n",
      "73m 36s (- 850m 44s) (700 7%) loss : 1.484  accuracy : 71.2 %\n",
      "75m 51s (- 843m 59s) (725 8%) loss : 1.052  accuracy : 79.6 %\n",
      "78m 26s (- 840m 57s) (750 8%) loss : 1.371  accuracy : 73.9 %\n",
      "80m 56s (- 837m 16s) (775 8%) loss : 1.363  accuracy : 73.1 %\n",
      "83m 23s (- 832m 57s) (800 9%) loss : 0.820  accuracy : 83.0 %\n",
      "85m 39s (- 827m 7s) (825 9%) loss : 0.876  accuracy : 82.5 %\n",
      "88m 31s (- 826m 58s) (850 9%) loss : 1.477  accuracy : 70.4 %\n",
      "91m 46s (- 830m 20s) (875 9%) loss : 1.269  accuracy : 75.6 %\n",
      "94m 47s (- 831m 3s) (900 10%) loss : 1.203  accuracy : 76.9 %\n",
      "97m 13s (- 826m 44s) (925 10%) loss : 0.935  accuracy : 81.3 %\n",
      "99m 46s (- 823m 27s) (950 10%) loss : 0.981  accuracy : 80.5 %\n",
      "102m 19s (- 820m 14s) (975 11%) loss : 0.675  accuracy : 85.4 %\n",
      "105m 9s (- 819m 16s) (1000 11%) loss : 1.852  accuracy : 66.4 %\n",
      "107m 35s (- 815m 13s) (1025 11%) loss : 1.369  accuracy : 72.9 %\n",
      "109m 56s (- 810m 31s) (1050 11%) loss : 1.227  accuracy : 75.9 %\n",
      "112m 32s (- 807m 44s) (1075 12%) loss : 1.093  accuracy : 78.2 %\n",
      "114m 44s (- 802m 13s) (1100 12%) loss : 0.979  accuracy : 79.8 %\n",
      "117m 15s (- 798m 59s) (1125 12%) loss : 1.541  accuracy : 71.2 %\n",
      "120m 8s (- 798m 13s) (1150 13%) loss : 1.167  accuracy : 76.9 %\n",
      "122m 54s (- 796m 40s) (1175 13%) loss : 1.315  accuracy : 74.8 %\n",
      "125m 15s (- 792m 21s) (1200 13%) loss : 1.137  accuracy : 76.8 %\n",
      "127m 53s (- 789m 53s) (1225 13%) loss : 1.376  accuracy : 74.4 %\n",
      "130m 3s (- 784m 39s) (1250 14%) loss : 0.749  accuracy : 84.2 %\n",
      "132m 53s (- 783m 21s) (1275 14%) loss : 1.478  accuracy : 72.3 %\n",
      "135m 37s (- 781m 29s) (1300 14%) loss : 1.145  accuracy : 78.1 %\n",
      "138m 23s (- 779m 50s) (1325 15%) loss : 1.438  accuracy : 73.5 %\n",
      "141m 15s (- 778m 38s) (1350 15%) loss : 1.059  accuracy : 79.3 %\n",
      "143m 49s (- 775m 41s) (1375 15%) loss : 1.119  accuracy : 78.4 %\n",
      "146m 18s (- 772m 22s) (1400 15%) loss : 1.098  accuracy : 78.6 %\n",
      "149m 7s (- 770m 51s) (1425 16%) loss : 1.601  accuracy : 69.5 %\n",
      "151m 15s (- 765m 48s) (1450 16%) loss : 1.076  accuracy : 78.4 %\n",
      "153m 46s (- 762m 45s) (1475 16%) loss : 0.992  accuracy : 80.7 %\n",
      "156m 7s (- 758m 52s) (1500 17%) loss : 0.911  accuracy : 80.8 %\n",
      "158m 47s (- 756m 34s) (1525 17%) loss : 1.392  accuracy : 73.6 %\n",
      "161m 15s (- 753m 19s) (1550 17%) loss : 1.008  accuracy : 78.9 %\n",
      "163m 50s (- 750m 38s) (1575 17%) loss : 1.525  accuracy : 72.1 %\n",
      "166m 16s (- 747m 17s) (1600 18%) loss : 0.742  accuracy : 83.4 %\n",
      "168m 35s (- 743m 29s) (1625 18%) loss : 1.197  accuracy : 76.7 %\n",
      "171m 17s (- 741m 18s) (1650 18%) loss : 1.086  accuracy : 78.7 %\n",
      "173m 31s (- 737m 10s) (1675 19%) loss : 0.980  accuracy : 80.3 %\n",
      "176m 21s (- 735m 39s) (1700 19%) loss : 1.132  accuracy : 77.5 %\n",
      "178m 46s (- 732m 17s) (1725 19%) loss : 0.975  accuracy : 79.8 %\n",
      "181m 18s (- 729m 30s) (1750 19%) loss : 0.773  accuracy : 83.9 %\n",
      "183m 25s (- 725m 1s) (1775 20%) loss : 1.307  accuracy : 74.5 %\n",
      "186m 12s (- 723m 13s) (1800 20%) loss : 1.197  accuracy : 77.1 %\n",
      "188m 31s (- 719m 37s) (1825 20%) loss : 1.198  accuracy : 76.9 %\n",
      "191m 13s (- 717m 28s) (1850 21%) loss : 1.250  accuracy : 76.0 %\n",
      "193m 24s (- 713m 24s) (1875 21%) loss : 0.849  accuracy : 82.2 %\n",
      "195m 35s (- 709m 23s) (1900 21%) loss : 1.042  accuracy : 78.7 %\n",
      "198m 16s (- 707m 12s) (1925 21%) loss : 1.076  accuracy : 79.4 %\n",
      "200m 37s (- 703m 51s) (1950 22%) loss : 1.341  accuracy : 73.0 %\n",
      "202m 58s (- 700m 28s) (1975 22%) loss : 1.168  accuracy : 77.2 %\n",
      "205m 42s (- 698m 29s) (2000 22%) loss : 1.216  accuracy : 76.4 %\n",
      "208m 37s (- 697m 5s) (2025 23%) loss : 1.387  accuracy : 74.6 %\n",
      "211m 5s (- 694m 9s) (2050 23%) loss : 1.166  accuracy : 76.5 %\n",
      "213m 39s (- 691m 32s) (2075 23%) loss : 1.337  accuracy : 74.3 %\n",
      "216m 6s (- 688m 33s) (2100 23%) loss : 1.205  accuracy : 75.9 %\n",
      "218m 54s (- 686m 41s) (2125 24%) loss : 1.654  accuracy : 69.5 %\n",
      "221m 23s (- 683m 51s) (2150 24%) loss : 1.421  accuracy : 72.7 %\n",
      "223m 23s (- 679m 30s) (2175 24%) loss : 1.384  accuracy : 73.1 %\n",
      "226m 16s (- 677m 54s) (2200 25%) loss : 1.541  accuracy : 70.9 %\n",
      "228m 41s (- 674m 53s) (2225 25%) loss : 1.271  accuracy : 74.7 %\n",
      "231m 30s (- 673m 0s) (2250 25%) loss : 1.301  accuracy : 74.0 %\n",
      "233m 51s (- 669m 48s) (2275 25%) loss : 0.936  accuracy : 80.6 %\n",
      "236m 29s (- 667m 25s) (2300 26%) loss : 1.095  accuracy : 78.5 %\n",
      "239m 15s (- 665m 24s) (2325 26%) loss : 1.673  accuracy : 68.4 %\n",
      "242m 7s (- 663m 37s) (2350 26%) loss : 1.220  accuracy : 76.7 %\n",
      "244m 27s (- 660m 24s) (2375 27%) loss : 1.041  accuracy : 80.0 %\n",
      "246m 55s (- 657m 32s) (2400 27%) loss : 1.104  accuracy : 78.0 %\n",
      "249m 18s (- 654m 27s) (2425 27%) loss : 1.035  accuracy : 79.4 %\n",
      "251m 47s (- 651m 39s) (2450 27%) loss : 0.712  accuracy : 85.5 %\n",
      "254m 46s (- 650m 8s) (2475 28%) loss : 1.330  accuracy : 73.8 %\n",
      "257m 28s (- 647m 55s) (2500 28%) loss : 0.984  accuracy : 80.1 %\n",
      "260m 3s (- 645m 20s) (2525 28%) loss : 1.240  accuracy : 76.3 %\n",
      "263m 9s (- 644m 3s) (2550 29%) loss : 1.464  accuracy : 72.7 %\n",
      "265m 26s (- 640m 46s) (2575 29%) loss : 1.208  accuracy : 76.6 %\n",
      "267m 58s (- 638m 5s) (2600 29%) loss : 0.865  accuracy : 82.4 %\n",
      "270m 29s (- 635m 22s) (2625 29%) loss : 1.015  accuracy : 79.0 %\n",
      "272m 42s (- 631m 56s) (2650 30%) loss : 1.124  accuracy : 77.4 %\n",
      "275m 17s (- 629m 24s) (2675 30%) loss : 1.258  accuracy : 75.7 %\n",
      "278m 10s (- 627m 33s) (2700 30%) loss : 1.342  accuracy : 74.6 %\n",
      "281m 1s (- 625m 33s) (2725 30%) loss : 1.207  accuracy : 76.8 %\n",
      "283m 36s (- 622m 59s) (2750 31%) loss : 1.347  accuracy : 74.6 %\n",
      "286m 17s (- 620m 40s) (2775 31%) loss : 1.023  accuracy : 80.2 %\n",
      "288m 41s (- 617m 40s) (2800 31%) loss : 1.171  accuracy : 77.2 %\n",
      "291m 5s (- 614m 45s) (2825 32%) loss : 1.156  accuracy : 76.3 %\n",
      "293m 28s (- 611m 45s) (2850 32%) loss : 0.943  accuracy : 80.3 %\n",
      "296m 12s (- 609m 31s) (2875 32%) loss : 1.397  accuracy : 74.0 %\n",
      "298m 51s (- 607m 5s) (2900 32%) loss : 0.957  accuracy : 80.3 %\n",
      "301m 38s (- 604m 55s) (2925 33%) loss : 1.667  accuracy : 69.2 %\n",
      "304m 1s (- 601m 57s) (2950 33%) loss : 1.033  accuracy : 79.7 %\n",
      "306m 32s (- 599m 16s) (2975 33%) loss : 1.561  accuracy : 71.1 %\n",
      "308m 31s (- 595m 33s) (3000 34%) loss : 1.033  accuracy : 79.1 %\n",
      "311m 8s (- 593m 4s) (3025 34%) loss : 1.389  accuracy : 73.6 %\n",
      "313m 34s (- 590m 14s) (3050 34%) loss : 1.027  accuracy : 79.8 %\n",
      "316m 19s (- 587m 59s) (3075 34%) loss : 1.317  accuracy : 74.3 %\n",
      "319m 7s (- 585m 51s) (3100 35%) loss : 1.131  accuracy : 78.3 %\n",
      "321m 19s (- 582m 35s) (3125 35%) loss : 1.097  accuracy : 78.4 %\n",
      "323m 27s (- 579m 14s) (3150 35%) loss : 1.031  accuracy : 79.2 %\n",
      "326m 13s (- 577m 1s) (3175 36%) loss : 1.114  accuracy : 77.8 %\n",
      "328m 47s (- 574m 26s) (3200 36%) loss : 1.117  accuracy : 77.2 %\n",
      "331m 17s (- 571m 45s) (3225 36%) loss : 1.285  accuracy : 75.2 %\n"
     ]
    },
    {
     "name": "stdout",
     "output_type": "stream",
     "text": [
      "333m 47s (- 569m 5s) (3250 36%) loss : 1.318  accuracy : 75.3 %\n",
      "336m 8s (- 566m 9s) (3275 37%) loss : 1.561  accuracy : 70.1 %\n",
      "338m 36s (- 563m 25s) (3300 37%) loss : 1.232  accuracy : 75.6 %\n",
      "341m 16s (- 561m 1s) (3325 37%) loss : 1.154  accuracy : 77.9 %\n",
      "343m 50s (- 558m 27s) (3350 38%) loss : 1.206  accuracy : 76.3 %\n",
      "346m 34s (- 556m 9s) (3375 38%) loss : 1.107  accuracy : 78.0 %\n",
      "348m 55s (- 553m 15s) (3400 38%) loss : 1.106  accuracy : 78.4 %\n",
      "351m 28s (- 550m 40s) (3425 38%) loss : 1.254  accuracy : 75.2 %\n",
      "353m 49s (- 547m 46s) (3450 39%) loss : 1.152  accuracy : 77.4 %\n",
      "356m 44s (- 545m 45s) (3475 39%) loss : 1.490  accuracy : 72.6 %\n",
      "359m 13s (- 543m 2s) (3500 39%) loss : 1.512  accuracy : 72.0 %\n",
      "361m 44s (- 540m 25s) (3525 40%) loss : 1.263  accuracy : 76.3 %\n",
      "364m 0s (- 537m 24s) (3550 40%) loss : 1.059  accuracy : 78.9 %\n",
      "366m 26s (- 534m 39s) (3575 40%) loss : 0.991  accuracy : 80.3 %\n",
      "369m 12s (- 532m 22s) (3600 40%) loss : 1.569  accuracy : 71.0 %\n",
      "371m 58s (- 530m 6s) (3625 41%) loss : 1.322  accuracy : 74.6 %\n",
      "374m 35s (- 527m 36s) (3650 41%) loss : 1.311  accuracy : 75.2 %\n",
      "376m 55s (- 524m 43s) (3675 41%) loss : 1.025  accuracy : 78.9 %\n",
      "379m 19s (- 521m 55s) (3700 42%) loss : 1.485  accuracy : 72.3 %\n",
      "381m 16s (- 518m 31s) (3725 42%) loss : 0.904  accuracy : 81.5 %\n",
      "383m 44s (- 515m 50s) (3750 42%) loss : 1.320  accuracy : 74.9 %\n",
      "385m 50s (- 512m 41s) (3775 42%) loss : 0.912  accuracy : 80.5 %\n",
      "388m 17s (- 509m 59s) (3800 43%) loss : 1.122  accuracy : 78.1 %\n",
      "390m 50s (- 507m 26s) (3825 43%) loss : 1.371  accuracy : 72.9 %\n",
      "392m 49s (- 504m 9s) (3850 43%) loss : 0.950  accuracy : 80.6 %\n",
      "395m 37s (- 501m 54s) (3875 44%) loss : 1.449  accuracy : 72.5 %\n",
      "398m 8s (- 499m 18s) (3900 44%) loss : 1.364  accuracy : 73.1 %\n",
      "401m 0s (- 497m 9s) (3925 44%) loss : 0.807  accuracy : 84.0 %\n",
      "403m 36s (- 494m 39s) (3950 44%) loss : 1.207  accuracy : 76.2 %\n",
      "406m 19s (- 492m 17s) (3975 45%) loss : 0.995  accuracy : 80.3 %\n",
      "409m 4s (- 489m 58s) (4000 45%) loss : 1.416  accuracy : 72.5 %\n",
      "411m 31s (- 487m 17s) (4025 45%) loss : 1.192  accuracy : 77.4 %\n",
      "413m 58s (- 484m 36s) (4050 46%) loss : 1.034  accuracy : 79.5 %\n",
      "416m 40s (- 482m 12s) (4075 46%) loss : 1.230  accuracy : 76.2 %\n",
      "418m 56s (- 479m 19s) (4100 46%) loss : 1.190  accuracy : 76.4 %\n",
      "421m 27s (- 476m 44s) (4125 46%) loss : 1.231  accuracy : 75.9 %\n",
      "423m 54s (- 474m 3s) (4150 47%) loss : 1.255  accuracy : 76.0 %\n",
      "426m 31s (- 471m 34s) (4175 47%) loss : 1.269  accuracy : 76.5 %\n",
      "428m 53s (- 468m 49s) (4200 47%) loss : 1.458  accuracy : 71.7 %\n",
      "431m 38s (- 466m 28s) (4225 48%) loss : 1.051  accuracy : 78.4 %\n",
      "434m 1s (- 463m 44s) (4250 48%) loss : 1.079  accuracy : 78.9 %\n",
      "436m 45s (- 461m 22s) (4275 48%) loss : 1.225  accuracy : 75.8 %\n",
      "439m 10s (- 458m 41s) (4300 48%) loss : 1.164  accuracy : 76.4 %\n",
      "441m 14s (- 455m 37s) (4325 49%) loss : 1.391  accuracy : 73.4 %\n",
      "443m 41s (- 452m 58s) (4350 49%) loss : 1.041  accuracy : 79.8 %\n",
      "446m 3s (- 450m 14s) (4375 49%) loss : 1.042  accuracy : 78.6 %\n",
      "448m 42s (- 447m 47s) (4400 50%) loss : 1.263  accuracy : 75.0 %\n",
      "451m 3s (- 445m 2s) (4425 50%) loss : 1.052  accuracy : 78.7 %\n",
      "453m 43s (- 442m 36s) (4450 50%) loss : 1.050  accuracy : 79.1 %\n",
      "456m 7s (- 439m 55s) (4475 50%) loss : 1.120  accuracy : 78.6 %\n",
      "458m 34s (- 437m 16s) (4500 51%) loss : 0.979  accuracy : 80.3 %\n",
      "461m 8s (- 434m 45s) (4525 51%) loss : 1.440  accuracy : 73.1 %\n",
      "463m 25s (- 431m 57s) (4550 51%) loss : 1.476  accuracy : 71.3 %\n",
      "465m 53s (- 429m 20s) (4575 52%) loss : 1.518  accuracy : 71.5 %\n",
      "468m 42s (- 427m 2s) (4600 52%) loss : 1.186  accuracy : 76.9 %\n",
      "471m 29s (- 424m 41s) (4625 52%) loss : 1.436  accuracy : 73.1 %\n",
      "473m 51s (- 421m 59s) (4650 52%) loss : 1.342  accuracy : 73.7 %\n",
      "476m 38s (- 419m 38s) (4675 53%) loss : 1.082  accuracy : 79.0 %\n",
      "479m 3s (- 416m 58s) (4700 53%) loss : 1.101  accuracy : 77.7 %\n",
      "481m 44s (- 414m 33s) (4725 53%) loss : 0.870  accuracy : 82.4 %\n",
      "484m 29s (- 412m 10s) (4750 54%) loss : 1.113  accuracy : 77.6 %\n",
      "487m 19s (- 409m 51s) (4775 54%) loss : 1.280  accuracy : 75.3 %\n",
      "489m 35s (- 407m 4s) (4800 54%) loss : 1.062  accuracy : 78.6 %\n",
      "492m 13s (- 404m 35s) (4825 54%) loss : 1.408  accuracy : 73.0 %\n",
      "494m 31s (- 401m 50s) (4850 55%) loss : 0.983  accuracy : 79.8 %\n",
      "496m 52s (- 399m 7s) (4875 55%) loss : 1.137  accuracy : 77.2 %\n",
      "499m 35s (- 396m 42s) (4900 55%) loss : 1.149  accuracy : 77.2 %\n",
      "502m 2s (- 394m 5s) (4925 56%) loss : 0.530  accuracy : 87.9 %\n",
      "504m 45s (- 391m 40s) (4950 56%) loss : 1.251  accuracy : 76.1 %\n",
      "507m 2s (- 388m 55s) (4975 56%) loss : 1.355  accuracy : 74.8 %\n",
      "509m 46s (- 386m 30s) (5000 56%) loss : 1.375  accuracy : 73.9 %\n",
      "512m 23s (- 384m 1s) (5025 57%) loss : 1.171  accuracy : 76.8 %\n",
      "514m 47s (- 381m 21s) (5050 57%) loss : 1.085  accuracy : 78.7 %\n",
      "517m 40s (- 379m 2s) (5075 57%) loss : 0.687  accuracy : 85.5 %\n",
      "519m 59s (- 376m 19s) (5100 58%) loss : 1.380  accuracy : 72.7 %\n",
      "522m 56s (- 374m 4s) (5125 58%) loss : 1.143  accuracy : 77.7 %\n",
      "525m 15s (- 371m 20s) (5150 58%) loss : 0.930  accuracy : 80.8 %\n",
      "527m 42s (- 368m 44s) (5175 58%) loss : 1.097  accuracy : 78.7 %\n",
      "530m 17s (- 366m 12s) (5200 59%) loss : 1.443  accuracy : 72.7 %\n",
      "532m 53s (- 363m 41s) (5225 59%) loss : 1.389  accuracy : 73.8 %\n",
      "535m 42s (- 361m 19s) (5250 59%) loss : 1.268  accuracy : 75.3 %\n",
      "538m 10s (- 358m 42s) (5275 60%) loss : 1.369  accuracy : 73.2 %\n",
      "540m 35s (- 356m 4s) (5300 60%) loss : 0.796  accuracy : 84.4 %\n",
      "543m 19s (- 353m 38s) (5325 60%) loss : 1.473  accuracy : 72.3 %\n",
      "545m 59s (- 351m 9s) (5350 60%) loss : 1.417  accuracy : 73.1 %\n",
      "548m 31s (- 348m 36s) (5375 61%) loss : 1.098  accuracy : 77.4 %\n",
      "551m 13s (- 346m 9s) (5400 61%) loss : 1.162  accuracy : 76.7 %\n",
      "554m 2s (- 343m 45s) (5425 61%) loss : 1.373  accuracy : 73.9 %\n",
      "556m 49s (- 341m 20s) (5450 61%) loss : 1.196  accuracy : 77.7 %\n",
      "559m 13s (- 338m 41s) (5475 62%) loss : 1.076  accuracy : 78.5 %\n",
      "562m 0s (- 336m 17s) (5500 62%) loss : 1.552  accuracy : 70.8 %\n",
      "564m 37s (- 333m 46s) (5525 62%) loss : 1.158  accuracy : 76.8 %\n",
      "567m 0s (- 331m 6s) (5550 63%) loss : 1.372  accuracy : 73.7 %\n",
      "569m 37s (- 328m 35s) (5575 63%) loss : 1.176  accuracy : 77.4 %\n",
      "572m 36s (- 326m 17s) (5600 63%) loss : 1.290  accuracy : 75.6 %\n",
      "575m 28s (- 323m 54s) (5625 63%) loss : 1.320  accuracy : 75.1 %\n",
      "578m 2s (- 321m 20s) (5650 64%) loss : 1.302  accuracy : 75.2 %\n",
      "580m 30s (- 318m 44s) (5675 64%) loss : 0.845  accuracy : 81.9 %\n",
      "583m 11s (- 316m 15s) (5700 64%) loss : 1.132  accuracy : 77.7 %\n",
      "586m 17s (- 313m 59s) (5725 65%) loss : 1.450  accuracy : 73.4 %\n",
      "588m 45s (- 311m 22s) (5750 65%) loss : 1.204  accuracy : 75.7 %\n",
      "591m 16s (- 308m 47s) (5775 65%) loss : 0.834  accuracy : 82.6 %\n",
      "594m 1s (- 306m 19s) (5800 65%) loss : 0.976  accuracy : 80.0 %\n",
      "596m 14s (- 303m 35s) (5825 66%) loss : 1.117  accuracy : 77.1 %\n",
      "598m 43s (- 300m 59s) (5850 66%) loss : 1.368  accuracy : 73.4 %\n",
      "601m 8s (- 298m 22s) (5875 66%) loss : 0.979  accuracy : 79.8 %\n",
      "603m 46s (- 295m 50s) (5900 67%) loss : 1.105  accuracy : 77.9 %\n",
      "606m 21s (- 293m 18s) (5925 67%) loss : 1.260  accuracy : 76.3 %\n",
      "608m 17s (- 290m 26s) (5950 67%) loss : 1.060  accuracy : 79.0 %\n",
      "610m 48s (- 287m 52s) (5975 67%) loss : 1.111  accuracy : 78.3 %\n",
      "613m 22s (- 285m 19s) (6000 68%) loss : 1.091  accuracy : 78.8 %\n",
      "616m 1s (- 282m 48s) (6025 68%) loss : 1.375  accuracy : 73.3 %\n",
      "618m 38s (- 280m 16s) (6050 68%) loss : 0.927  accuracy : 81.1 %\n",
      "621m 15s (- 277m 45s) (6075 69%) loss : 1.331  accuracy : 74.4 %\n",
      "623m 44s (- 275m 9s) (6100 69%) loss : 1.230  accuracy : 76.2 %\n",
      "625m 47s (- 272m 23s) (6125 69%) loss : 0.936  accuracy : 81.2 %\n",
      "628m 16s (- 269m 48s) (6150 69%) loss : 1.051  accuracy : 79.4 %\n",
      "630m 40s (- 267m 10s) (6175 70%) loss : 1.025  accuracy : 78.9 %\n",
      "632m 49s (- 264m 27s) (6200 70%) loss : 1.032  accuracy : 78.9 %\n",
      "634m 53s (- 261m 42s) (6225 70%) loss : 0.968  accuracy : 79.9 %\n",
      "637m 39s (- 259m 14s) (6250 71%) loss : 1.150  accuracy : 77.4 %\n",
      "639m 55s (- 256m 35s) (6275 71%) loss : 1.076  accuracy : 79.2 %\n",
      "642m 5s (- 253m 52s) (6300 71%) loss : 1.347  accuracy : 73.1 %\n",
      "644m 43s (- 251m 21s) (6325 71%) loss : 1.145  accuracy : 77.4 %\n",
      "647m 21s (- 248m 50s) (6350 72%) loss : 1.071  accuracy : 78.6 %\n",
      "649m 44s (- 246m 14s) (6375 72%) loss : 0.893  accuracy : 82.0 %\n",
      "651m 53s (- 243m 32s) (6400 72%) loss : 1.126  accuracy : 77.4 %\n"
     ]
    },
    {
     "name": "stdout",
     "output_type": "stream",
     "text": [
      "654m 16s (- 240m 56s) (6425 73%) loss : 1.057  accuracy : 79.4 %\n",
      "657m 1s (- 238m 27s) (6450 73%) loss : 0.695  accuracy : 84.6 %\n",
      "659m 45s (- 235m 59s) (6475 73%) loss : 1.067  accuracy : 79.1 %\n",
      "661m 59s (- 233m 19s) (6500 73%) loss : 0.944  accuracy : 80.3 %\n",
      "664m 42s (- 230m 50s) (6525 74%) loss : 1.200  accuracy : 77.0 %\n",
      "667m 30s (- 228m 22s) (6550 74%) loss : 1.401  accuracy : 74.0 %\n",
      "670m 4s (- 225m 50s) (6575 74%) loss : 1.569  accuracy : 69.8 %\n",
      "672m 39s (- 223m 18s) (6600 75%) loss : 1.114  accuracy : 77.6 %\n",
      "675m 15s (- 220m 46s) (6625 75%) loss : 1.279  accuracy : 76.1 %\n",
      "677m 36s (- 218m 9s) (6650 75%) loss : 0.784  accuracy : 83.8 %\n",
      "680m 3s (- 215m 34s) (6675 75%) loss : 1.254  accuracy : 76.3 %\n",
      "682m 28s (- 212m 59s) (6700 76%) loss : 1.256  accuracy : 75.7 %\n",
      "684m 48s (- 210m 23s) (6725 76%) loss : 1.014  accuracy : 79.9 %\n",
      "687m 4s (- 207m 45s) (6750 76%) loss : 0.963  accuracy : 80.6 %\n",
      "689m 7s (- 205m 3s) (6775 77%) loss : 0.925  accuracy : 81.6 %\n",
      "691m 46s (- 202m 32s) (6800 77%) loss : 1.066  accuracy : 79.0 %\n",
      "694m 22s (- 200m 1s) (6825 77%) loss : 1.205  accuracy : 76.8 %\n",
      "696m 52s (- 197m 27s) (6850 77%) loss : 0.970  accuracy : 79.9 %\n",
      "699m 31s (- 194m 56s) (6875 78%) loss : 1.825  accuracy : 66.7 %\n",
      "701m 47s (- 192m 19s) (6900 78%) loss : 0.917  accuracy : 81.2 %\n",
      "704m 18s (- 189m 47s) (6925 78%) loss : 0.701  accuracy : 85.4 %\n",
      "707m 17s (- 187m 21s) (6950 79%) loss : 1.206  accuracy : 76.4 %\n",
      "709m 45s (- 184m 47s) (6975 79%) loss : 1.237  accuracy : 76.6 %\n",
      "712m 18s (- 182m 14s) (7000 79%) loss : 1.378  accuracy : 73.5 %\n",
      "714m 45s (- 179m 40s) (7025 79%) loss : 1.125  accuracy : 78.9 %\n",
      "717m 23s (- 177m 9s) (7050 80%) loss : 1.074  accuracy : 78.4 %\n",
      "719m 47s (- 174m 34s) (7075 80%) loss : 1.080  accuracy : 78.7 %\n",
      "721m 52s (- 171m 55s) (7100 80%) loss : 1.108  accuracy : 77.8 %\n",
      "724m 13s (- 169m 20s) (7125 81%) loss : 0.734  accuracy : 85.3 %\n",
      "726m 40s (- 166m 46s) (7150 81%) loss : 1.162  accuracy : 77.5 %\n",
      "729m 9s (- 164m 13s) (7175 81%) loss : 1.264  accuracy : 75.5 %\n",
      "731m 16s (- 161m 35s) (7200 81%) loss : 1.377  accuracy : 73.6 %\n",
      "733m 43s (- 159m 1s) (7225 82%) loss : 0.724  accuracy : 84.5 %\n",
      "736m 0s (- 156m 26s) (7250 82%) loss : 1.345  accuracy : 73.9 %\n",
      "738m 46s (- 153m 56s) (7275 82%) loss : 1.321  accuracy : 75.2 %\n",
      "741m 22s (- 151m 25s) (7300 83%) loss : 1.467  accuracy : 72.3 %\n",
      "744m 4s (- 148m 55s) (7325 83%) loss : 0.897  accuracy : 81.7 %\n",
      "747m 0s (- 146m 27s) (7350 83%) loss : 1.535  accuracy : 72.1 %\n",
      "749m 14s (- 143m 51s) (7375 83%) loss : 1.098  accuracy : 78.2 %\n",
      "751m 43s (- 141m 18s) (7400 84%) loss : 1.452  accuracy : 73.5 %\n",
      "754m 22s (- 138m 47s) (7425 84%) loss : 1.087  accuracy : 77.9 %\n",
      "757m 1s (- 136m 15s) (7450 84%) loss : 1.052  accuracy : 78.8 %\n",
      "759m 44s (- 133m 45s) (7475 85%) loss : 1.198  accuracy : 76.5 %\n",
      "762m 35s (- 131m 16s) (7500 85%) loss : 1.256  accuracy : 75.6 %\n",
      "765m 9s (- 128m 43s) (7525 85%) loss : 1.495  accuracy : 72.1 %\n",
      "767m 34s (- 126m 9s) (7550 85%) loss : 0.885  accuracy : 81.6 %\n",
      "769m 37s (- 123m 32s) (7575 86%) loss : 1.438  accuracy : 72.3 %\n",
      "772m 12s (- 121m 0s) (7600 86%) loss : 0.908  accuracy : 81.6 %\n",
      "774m 33s (- 118m 26s) (7625 86%) loss : 1.007  accuracy : 79.6 %\n",
      "777m 5s (- 115m 54s) (7650 87%) loss : 1.186  accuracy : 77.0 %\n",
      "779m 45s (- 113m 23s) (7675 87%) loss : 0.776  accuracy : 83.8 %\n",
      "782m 10s (- 110m 49s) (7700 87%) loss : 1.193  accuracy : 75.9 %\n",
      "784m 46s (- 108m 17s) (7725 87%) loss : 1.511  accuracy : 72.2 %\n",
      "787m 5s (- 105m 43s) (7750 88%) loss : 0.944  accuracy : 80.3 %\n",
      "789m 24s (- 103m 9s) (7775 88%) loss : 1.671  accuracy : 68.7 %\n",
      "792m 26s (- 100m 40s) (7800 88%) loss : 1.097  accuracy : 78.4 %\n",
      "794m 56s (- 98m 8s) (7825 89%) loss : 1.156  accuracy : 77.5 %\n",
      "796m 46s (- 95m 30s) (7850 89%) loss : 1.117  accuracy : 77.4 %\n",
      "799m 15s (- 92m 58s) (7875 89%) loss : 1.584  accuracy : 70.0 %\n",
      "801m 36s (- 90m 24s) (7900 89%) loss : 1.201  accuracy : 76.7 %\n",
      "803m 54s (- 87m 50s) (7925 90%) loss : 1.082  accuracy : 78.7 %\n",
      "806m 23s (- 85m 18s) (7950 90%) loss : 0.993  accuracy : 80.6 %\n",
      "808m 42s (- 82m 44s) (7975 90%) loss : 1.154  accuracy : 77.4 %\n",
      "811m 14s (- 80m 12s) (8000 91%) loss : 1.172  accuracy : 77.4 %\n",
      "813m 52s (- 77m 41s) (8025 91%) loss : 1.075  accuracy : 78.6 %\n",
      "816m 14s (- 75m 8s) (8050 91%) loss : 1.156  accuracy : 77.2 %\n",
      "818m 35s (- 72m 35s) (8075 91%) loss : 1.165  accuracy : 77.2 %\n",
      "820m 51s (- 70m 1s) (8100 92%) loss : 0.931  accuracy : 81.2 %\n",
      "823m 41s (- 67m 31s) (8125 92%) loss : 1.284  accuracy : 74.6 %\n",
      "826m 31s (- 65m 0s) (8150 92%) loss : 0.941  accuracy : 80.8 %\n",
      "829m 24s (- 62m 29s) (8175 92%) loss : 1.206  accuracy : 77.3 %\n",
      "832m 14s (- 59m 58s) (8200 93%) loss : 1.071  accuracy : 78.1 %\n",
      "834m 33s (- 57m 25s) (8225 93%) loss : 0.992  accuracy : 79.5 %\n",
      "837m 30s (- 54m 55s) (8250 93%) loss : 1.382  accuracy : 74.4 %\n",
      "839m 37s (- 52m 21s) (8275 94%) loss : 1.262  accuracy : 75.3 %\n",
      "841m 49s (- 49m 47s) (8300 94%) loss : 1.441  accuracy : 72.1 %\n",
      "844m 17s (- 47m 15s) (8325 94%) loss : 1.053  accuracy : 79.1 %\n",
      "847m 2s (- 44m 44s) (8350 94%) loss : 1.462  accuracy : 71.9 %\n",
      "849m 10s (- 42m 10s) (8375 95%) loss : 1.179  accuracy : 76.8 %\n",
      "851m 43s (- 39m 38s) (8400 95%) loss : 1.353  accuracy : 73.8 %\n",
      "854m 11s (- 37m 6s) (8425 95%) loss : 1.555  accuracy : 70.6 %\n",
      "856m 18s (- 34m 33s) (8450 96%) loss : 1.031  accuracy : 79.2 %\n",
      "858m 59s (- 32m 1s) (8475 96%) loss : 1.259  accuracy : 76.3 %\n",
      "861m 41s (- 29m 30s) (8500 96%) loss : 1.205  accuracy : 75.9 %\n",
      "864m 27s (- 26m 58s) (8525 96%) loss : 1.156  accuracy : 77.8 %\n",
      "866m 55s (- 24m 26s) (8550 97%) loss : 1.323  accuracy : 74.5 %\n",
      "869m 35s (- 21m 54s) (8575 97%) loss : 1.313  accuracy : 74.5 %\n",
      "872m 11s (- 19m 22s) (8600 97%) loss : 1.091  accuracy : 78.6 %\n",
      "874m 45s (- 16m 50s) (8625 98%) loss : 1.066  accuracy : 78.4 %\n",
      "877m 16s (- 14m 18s) (8650 98%) loss : 1.209  accuracy : 77.1 %\n",
      "879m 57s (- 11m 46s) (8675 98%) loss : 1.336  accuracy : 74.7 %\n",
      "882m 45s (- 9m 14s) (8700 98%) loss : 1.162  accuracy : 76.7 %\n",
      "885m 15s (- 6m 41s) (8725 99%) loss : 0.961  accuracy : 81.0 %\n",
      "887m 58s (- 4m 9s) (8750 99%) loss : 1.516  accuracy : 71.6 %\n",
      "890m 56s (- 1m 37s) (8775 99%) loss : 1.952  accuracy : 65.4 %\n"
     ]
    }
   ],
   "source": [
    "translator_fr_en_xl.fit(batches, epochs = 1, lr = 0.000015, tf_ratio = 0.75, print_every = 25, random_state = 4214)"
   ]
  },
  {
   "cell_type": "code",
   "execution_count": 70,
   "metadata": {},
   "outputs": [],
   "source": [
    "torch.save(translator_fr_en_xl.state_dict(), path_to_DL4NLP + '\\\\saves\\\\DL4NLP_II2a_encoder_attndecoder_cov_xl_fr_en.pth')"
   ]
  },
  {
   "cell_type": "code",
   "execution_count": 67,
   "metadata": {},
   "outputs": [],
   "source": [
    "# save\n",
    "#torch.save(translator_fr_en.state_dict(), path_to_DL4NLP + '\\\\saves\\\\DL4NLP_II2a_encoder_attndecoder_fr_en.pth')\n",
    "#torch.save(translator_fr_en.state_dict(), path_to_DL4NLP + '\\\\saves\\\\DL4NLP_II2a_encoder_attndecoder_paf_fr_en.pth')\n",
    "#torch.save(translator_fr_en.state_dict(), path_to_DL4NLP + '\\\\saves\\\\DL4NLP_II2a_encoder_attndecoder_smooth_fr_en.pth')\n",
    "#torch.save(translator_fr_en.state_dict(), path_to_DL4NLP + '\\\\saves\\\\DL4NLP_II2a_encoder_attndecoder_cov_fr_en.pth')\n",
    "#torch.save(translator_fr_en.state_dict(), path_to_DL4NLP + '\\\\saves\\\\DL4NLP_II2a_encoder_attndecoder_cov_xl_fr_en.pth')\n",
    "\n",
    "# load\n",
    "#translator_fr_en.load_state_dict(torch.load(path_to_DL4NLP + '\\\\saves\\\\DL4NLP_II2a_encoder_attndecoder_fr_en.pth'))\n",
    "#translator_fr_en.load_state_dict(torch.load(path_to_DL4NLP + '\\\\saves\\\\DL4NLP_II2a_encoder_attndecoder_paf_fr_en.pth'))\n",
    "#translator_fr_en.load_state_dict(torch.load(path_to_DL4NLP + '\\\\saves\\\\DL4NLP_II2a_encoder_attndecoder_smooth_fr_en.pth'))\n",
    "#translator_fr_en.load_state_dict(torch.load(path_to_DL4NLP + '\\\\saves\\\\DL4NLP_II2a_encoder_attndecoder_cov_fr_en.pth'))\n",
    "#translator_fr_en.load_state_dict(torch.load(path_to_DL4NLP + '\\\\saves\\\\DL4NLP_II2a_encoder_attndecoder_cov_xl_fr_en.pth'))"
   ]
  },
  {
   "cell_type": "markdown",
   "metadata": {},
   "source": [
    "#### Evaluation"
   ]
  },
  {
   "cell_type": "code",
   "execution_count": 136,
   "metadata": {},
   "outputs": [
    {
     "data": {
      "image/png": "[encoded data removed]",
      "text/plain": [
       "<Figure size 432x288 with 1 Axes>"
      ]
     },
     "metadata": {
      "needs_background": "light"
     },
     "output_type": "display_data"
    },
    {
     "name": "stdout",
     "output_type": "stream",
     "text": [
      "\u001b[48;2;252;138;106mj'ai\u001b[0m \u001b[48;2;255;229;217mmis\u001b[0m \u001b[48;2;256;245;240mmon\u001b[0m \u001b[48;2;256;245;240mdoigt\u001b[0m \u001b[48;2;256;245;240mdans\u001b[0m \u001b[48;2;256;245;240mun\u001b[0m \u001b[48;2;256;245;240mchien\u001b[0m \u001b[48;2;256;245;240met\u001b[0m \u001b[48;2;256;245;240mça\u001b[0m \u001b[48;2;256;245;240mfait\u001b[0m \u001b[48;2;256;245;240mmal\u001b[0m  - i\n",
      "\u001b[48;2;256;245;240mj'ai\u001b[0m \u001b[48;2;242;68;50mmis\u001b[0m \u001b[48;2;256;245;240mmon\u001b[0m \u001b[48;2;256;245;240mdoigt\u001b[0m \u001b[48;2;256;245;240mdans\u001b[0m \u001b[48;2;256;245;240mun\u001b[0m \u001b[48;2;256;245;240mchien\u001b[0m \u001b[48;2;256;245;240met\u001b[0m \u001b[48;2;256;245;240mça\u001b[0m \u001b[48;2;256;245;240mfait\u001b[0m \u001b[48;2;256;245;240mmal\u001b[0m  - put\n",
      "\u001b[48;2;256;245;240mj'ai\u001b[0m \u001b[48;2;256;245;240mmis\u001b[0m \u001b[48;2;251;105;73mmon\u001b[0m \u001b[48;2;255;229;217mdoigt\u001b[0m \u001b[48;2;256;245;240mdans\u001b[0m \u001b[48;2;256;245;240mun\u001b[0m \u001b[48;2;256;245;240mchien\u001b[0m \u001b[48;2;256;245;240met\u001b[0m \u001b[48;2;256;245;240mça\u001b[0m \u001b[48;2;256;245;240mfait\u001b[0m \u001b[48;2;256;245;240mmal\u001b[0m  - my\n",
      "\u001b[48;2;256;245;240mj'ai\u001b[0m \u001b[48;2;256;245;240mmis\u001b[0m \u001b[48;2;256;245;240mmon\u001b[0m \u001b[48;2;242;68;50mdoigt\u001b[0m \u001b[48;2;256;245;240mdans\u001b[0m \u001b[48;2;256;245;240mun\u001b[0m \u001b[48;2;256;245;240mchien\u001b[0m \u001b[48;2;256;245;240met\u001b[0m \u001b[48;2;256;245;240mça\u001b[0m \u001b[48;2;256;245;240mfait\u001b[0m \u001b[48;2;256;245;240mmal\u001b[0m  - finger\n",
      "\u001b[48;2;256;245;240mj'ai\u001b[0m \u001b[48;2;256;245;240mmis\u001b[0m \u001b[48;2;256;245;240mmon\u001b[0m \u001b[48;2;256;245;240mdoigt\u001b[0m \u001b[48;2;251;105;73mdans\u001b[0m \u001b[48;2;256;245;240mun\u001b[0m \u001b[48;2;256;245;240mchien\u001b[0m \u001b[48;2;256;245;240met\u001b[0m \u001b[48;2;256;245;240mça\u001b[0m \u001b[48;2;256;245;240mfait\u001b[0m \u001b[48;2;256;245;240mmal\u001b[0m  - in\n",
      "\u001b[48;2;256;245;240mj'ai\u001b[0m \u001b[48;2;256;245;240mmis\u001b[0m \u001b[48;2;256;245;240mmon\u001b[0m \u001b[48;2;256;245;240mdoigt\u001b[0m \u001b[48;2;256;245;240mdans\u001b[0m \u001b[48;2;252;138;106mun\u001b[0m \u001b[48;2;255;229;217mchien\u001b[0m \u001b[48;2;256;245;240met\u001b[0m \u001b[48;2;256;245;240mça\u001b[0m \u001b[48;2;256;245;240mfait\u001b[0m \u001b[48;2;256;245;240mmal\u001b[0m  - a\n",
      "\u001b[48;2;256;245;240mj'ai\u001b[0m \u001b[48;2;256;245;240mmis\u001b[0m \u001b[48;2;256;245;240mmon\u001b[0m \u001b[48;2;256;245;240mdoigt\u001b[0m \u001b[48;2;256;245;240mdans\u001b[0m \u001b[48;2;256;245;240mun\u001b[0m \u001b[48;2;251;105;73mchien\u001b[0m \u001b[48;2;256;245;240met\u001b[0m \u001b[48;2;256;245;240mça\u001b[0m \u001b[48;2;256;245;240mfait\u001b[0m \u001b[48;2;256;245;240mmal\u001b[0m  - dog\n",
      "\u001b[48;2;256;245;240mj'ai\u001b[0m \u001b[48;2;256;245;240mmis\u001b[0m \u001b[48;2;256;245;240mmon\u001b[0m \u001b[48;2;256;245;240mdoigt\u001b[0m \u001b[48;2;256;245;240mdans\u001b[0m \u001b[48;2;256;245;240mun\u001b[0m \u001b[48;2;256;245;240mchien\u001b[0m \u001b[48;2;242;68;50met\u001b[0m \u001b[48;2;256;245;240mça\u001b[0m \u001b[48;2;256;245;240mfait\u001b[0m \u001b[48;2;256;245;240mmal\u001b[0m  - and\n",
      "\u001b[48;2;256;245;240mj'ai\u001b[0m \u001b[48;2;256;245;240mmis\u001b[0m \u001b[48;2;256;245;240mmon\u001b[0m \u001b[48;2;256;245;240mdoigt\u001b[0m \u001b[48;2;256;245;240mdans\u001b[0m \u001b[48;2;256;245;240mun\u001b[0m \u001b[48;2;256;245;240mchien\u001b[0m \u001b[48;2;256;245;240met\u001b[0m \u001b[48;2;242;68;50mça\u001b[0m \u001b[48;2;255;229;217mfait\u001b[0m \u001b[48;2;256;245;240mmal\u001b[0m  - it\n",
      "\u001b[48;2;256;245;240mj'ai\u001b[0m \u001b[48;2;256;245;240mmis\u001b[0m \u001b[48;2;256;245;240mmon\u001b[0m \u001b[48;2;256;245;240mdoigt\u001b[0m \u001b[48;2;256;245;240mdans\u001b[0m \u001b[48;2;256;245;240mun\u001b[0m \u001b[48;2;256;245;240mchien\u001b[0m \u001b[48;2;256;245;240met\u001b[0m \u001b[48;2;255;229;217mça\u001b[0m \u001b[48;2;252;138;106mfait\u001b[0m \u001b[48;2;255;229;217mmal\u001b[0m  - hurts\n",
      "\n"
     ]
    },
    {
     "data": {
      "text/plain": [
       "'i put my finger in a dog and it hurts'"
      ]
     },
     "execution_count": 136,
     "metadata": {},
     "output_type": "execute_result"
    }
   ],
   "source": [
    "translator_fr_en_xl.eval()\n",
    "s = \"j'ai mis mon doigt dans un chien et ça fait mal\"\n",
    "translator_fr_en_xl(s, attention_method = AttentionViewer)\n",
    "translator_fr_en_xl(s, attention_method = AttentionViewerOnWords)"
   ]
  },
  {
   "cell_type": "code",
   "execution_count": 137,
   "metadata": {},
   "outputs": [
    {
     "data": {
      "image/png": "[encoded data removed]",
      "text/plain": [
       "<Figure size 432x288 with 1 Axes>"
      ]
     },
     "metadata": {
      "needs_background": "light"
     },
     "output_type": "display_data"
    },
    {
     "name": "stdout",
     "output_type": "stream",
     "text": [
      "\u001b[48;2;242;68;50mje\u001b[0m \u001b[48;2;256;245;240mne\u001b[0m \u001b[48;2;256;245;240msuis\u001b[0m \u001b[48;2;256;245;240mpas\u001b[0m \u001b[48;2;256;245;240msûr\u001b[0m \u001b[48;2;256;245;240mde\u001b[0m \u001b[48;2;256;245;240mcomprendre\u001b[0m  - i\n",
      "\u001b[48;2;256;245;240mje\u001b[0m \u001b[48;2;255;229;217mne\u001b[0m \u001b[48;2;251;105;73msuis\u001b[0m \u001b[48;2;256;245;240mpas\u001b[0m \u001b[48;2;256;245;240msûr\u001b[0m \u001b[48;2;256;245;240mde\u001b[0m \u001b[48;2;256;245;240mcomprendre\u001b[0m  - am\n",
      "\u001b[48;2;256;245;240mje\u001b[0m \u001b[48;2;255;229;217mne\u001b[0m \u001b[48;2;256;245;240msuis\u001b[0m \u001b[48;2;242;68;50mpas\u001b[0m \u001b[48;2;256;245;240msûr\u001b[0m \u001b[48;2;256;245;240mde\u001b[0m \u001b[48;2;256;245;240mcomprendre\u001b[0m  - not\n",
      "\u001b[48;2;256;245;240mje\u001b[0m \u001b[48;2;256;245;240mne\u001b[0m \u001b[48;2;256;245;240msuis\u001b[0m \u001b[48;2;256;245;240mpas\u001b[0m \u001b[48;2;242;68;50msûr\u001b[0m \u001b[48;2;256;245;240mde\u001b[0m \u001b[48;2;256;245;240mcomprendre\u001b[0m  - sure\n",
      "\u001b[48;2;256;245;240mje\u001b[0m \u001b[48;2;256;245;240mne\u001b[0m \u001b[48;2;256;245;240msuis\u001b[0m \u001b[48;2;256;245;240mpas\u001b[0m \u001b[48;2;255;229;217msûr\u001b[0m \u001b[48;2;252;138;106mde\u001b[0m \u001b[48;2;255;229;217mcomprendre\u001b[0m  - i\n",
      "\u001b[48;2;256;245;240mje\u001b[0m \u001b[48;2;256;245;240mne\u001b[0m \u001b[48;2;256;245;240msuis\u001b[0m \u001b[48;2;256;245;240mpas\u001b[0m \u001b[48;2;256;245;240msûr\u001b[0m \u001b[48;2;255;229;217mde\u001b[0m \u001b[48;2;251;105;73mcomprendre\u001b[0m  - understand\n",
      "\n"
     ]
    },
    {
     "data": {
      "text/plain": [
       "'i am not sure i understand'"
      ]
     },
     "execution_count": 137,
     "metadata": {},
     "output_type": "execute_result"
    }
   ],
   "source": [
    "s = \"je ne suis pas sûr de comprendre\"\n",
    "translator_fr_en_xl(s, attention_method = AttentionViewer)\n",
    "translator_fr_en_xl(s, attention_method = AttentionViewerOnWords)"
   ]
  },
  {
   "cell_type": "code",
   "execution_count": 19,
   "metadata": {},
   "outputs": [
    {
     "data": {
      "image/png": "[encoded data removed]",
      "text/plain": [
       "<Figure size 432x288 with 1 Axes>"
      ]
     },
     "metadata": {
      "needs_background": "light"
     },
     "output_type": "display_data"
    },
    {
     "name": "stdout",
     "output_type": "stream",
     "text": [
      "\u001b[48;2;242;68;50msalut\u001b[0m \u001b[48;2;256;245;240mmon\u001b[0m \u001b[48;2;256;245;240mnom\u001b[0m \u001b[48;2;256;245;240mest\u001b[0m \u001b[48;2;256;245;240mJean-baptiste\u001b[0m \u001b[48;2;256;245;240m,\u001b[0m \u001b[48;2;256;245;240met\u001b[0m \u001b[48;2;256;245;240mje\u001b[0m \u001b[48;2;256;245;240msuis\u001b[0m \u001b[48;2;256;245;240men\u001b[0m \u001b[48;2;256;245;240mtrain\u001b[0m \u001b[48;2;256;245;240mde\u001b[0m \u001b[48;2;256;245;240mjouer\u001b[0m \u001b[48;2;256;245;240mà\u001b[0m \u001b[48;2;256;245;240mun\u001b[0m \u001b[48;2;256;245;240mjeu\u001b[0m  - hi\n",
      "\u001b[48;2;255;229;217msalut\u001b[0m \u001b[48;2;242;68;50mmon\u001b[0m \u001b[48;2;256;245;240mnom\u001b[0m \u001b[48;2;256;245;240mest\u001b[0m \u001b[48;2;256;245;240mJean-baptiste\u001b[0m \u001b[48;2;256;245;240m,\u001b[0m \u001b[48;2;256;245;240met\u001b[0m \u001b[48;2;256;245;240mje\u001b[0m \u001b[48;2;256;245;240msuis\u001b[0m \u001b[48;2;256;245;240men\u001b[0m \u001b[48;2;256;245;240mtrain\u001b[0m \u001b[48;2;256;245;240mde\u001b[0m \u001b[48;2;256;245;240mjouer\u001b[0m \u001b[48;2;256;245;240mà\u001b[0m \u001b[48;2;256;245;240mun\u001b[0m \u001b[48;2;256;245;240mjeu\u001b[0m  - my\n",
      "\u001b[48;2;256;245;240msalut\u001b[0m \u001b[48;2;256;245;240mmon\u001b[0m \u001b[48;2;217;37;34mnom\u001b[0m \u001b[48;2;256;245;240mest\u001b[0m \u001b[48;2;256;245;240mJean-baptiste\u001b[0m \u001b[48;2;256;245;240m,\u001b[0m \u001b[48;2;256;245;240met\u001b[0m \u001b[48;2;256;245;240mje\u001b[0m \u001b[48;2;256;245;240msuis\u001b[0m \u001b[48;2;256;245;240men\u001b[0m \u001b[48;2;256;245;240mtrain\u001b[0m \u001b[48;2;256;245;240mde\u001b[0m \u001b[48;2;256;245;240mjouer\u001b[0m \u001b[48;2;256;245;240mà\u001b[0m \u001b[48;2;256;245;240mun\u001b[0m \u001b[48;2;256;245;240mjeu\u001b[0m  - name\n",
      "\u001b[48;2;256;245;240msalut\u001b[0m \u001b[48;2;256;245;240mmon\u001b[0m \u001b[48;2;256;245;240mnom\u001b[0m \u001b[48;2;242;68;50mest\u001b[0m \u001b[48;2;256;245;240mJean-baptiste\u001b[0m \u001b[48;2;256;245;240m,\u001b[0m \u001b[48;2;256;245;240met\u001b[0m \u001b[48;2;256;245;240mje\u001b[0m \u001b[48;2;256;245;240msuis\u001b[0m \u001b[48;2;256;245;240men\u001b[0m \u001b[48;2;256;245;240mtrain\u001b[0m \u001b[48;2;256;245;240mde\u001b[0m \u001b[48;2;256;245;240mjouer\u001b[0m \u001b[48;2;256;245;240mà\u001b[0m \u001b[48;2;256;245;240mun\u001b[0m \u001b[48;2;256;245;240mjeu\u001b[0m  - is\n",
      "\u001b[48;2;256;245;240msalut\u001b[0m \u001b[48;2;256;245;240mmon\u001b[0m \u001b[48;2;256;245;240mnom\u001b[0m \u001b[48;2;256;245;240mest\u001b[0m \u001b[48;2;242;68;50mJean-baptiste\u001b[0m \u001b[48;2;256;245;240m,\u001b[0m \u001b[48;2;256;245;240met\u001b[0m \u001b[48;2;256;245;240mje\u001b[0m \u001b[48;2;256;245;240msuis\u001b[0m \u001b[48;2;256;245;240men\u001b[0m \u001b[48;2;256;245;240mtrain\u001b[0m \u001b[48;2;256;245;240mde\u001b[0m \u001b[48;2;256;245;240mjouer\u001b[0m \u001b[48;2;256;245;240mà\u001b[0m \u001b[48;2;256;245;240mun\u001b[0m \u001b[48;2;256;245;240mjeu\u001b[0m  - Jean-baptiste\n",
      "\u001b[48;2;256;245;240msalut\u001b[0m \u001b[48;2;256;245;240mmon\u001b[0m \u001b[48;2;256;245;240mnom\u001b[0m \u001b[48;2;256;245;240mest\u001b[0m \u001b[48;2;255;229;217mJean-baptiste\u001b[0m \u001b[48;2;251;105;73m,\u001b[0m \u001b[48;2;256;245;240met\u001b[0m \u001b[48;2;256;245;240mje\u001b[0m \u001b[48;2;256;245;240msuis\u001b[0m \u001b[48;2;256;245;240men\u001b[0m \u001b[48;2;256;245;240mtrain\u001b[0m \u001b[48;2;256;245;240mde\u001b[0m \u001b[48;2;256;245;240mjouer\u001b[0m \u001b[48;2;256;245;240mà\u001b[0m \u001b[48;2;256;245;240mun\u001b[0m \u001b[48;2;256;245;240mjeu\u001b[0m  - ,\n",
      "\u001b[48;2;256;245;240msalut\u001b[0m \u001b[48;2;256;245;240mmon\u001b[0m \u001b[48;2;256;245;240mnom\u001b[0m \u001b[48;2;256;245;240mest\u001b[0m \u001b[48;2;256;245;240mJean-baptiste\u001b[0m \u001b[48;2;256;245;240m,\u001b[0m \u001b[48;2;251;105;73met\u001b[0m \u001b[48;2;256;245;240mje\u001b[0m \u001b[48;2;256;245;240msuis\u001b[0m \u001b[48;2;256;245;240men\u001b[0m \u001b[48;2;256;245;240mtrain\u001b[0m \u001b[48;2;256;245;240mde\u001b[0m \u001b[48;2;256;245;240mjouer\u001b[0m \u001b[48;2;256;245;240mà\u001b[0m \u001b[48;2;256;245;240mun\u001b[0m \u001b[48;2;256;245;240mjeu\u001b[0m  - and\n",
      "\u001b[48;2;256;245;240msalut\u001b[0m \u001b[48;2;256;245;240mmon\u001b[0m \u001b[48;2;256;245;240mnom\u001b[0m \u001b[48;2;256;245;240mest\u001b[0m \u001b[48;2;256;245;240mJean-baptiste\u001b[0m \u001b[48;2;256;245;240m,\u001b[0m \u001b[48;2;255;229;217met\u001b[0m \u001b[48;2;252;138;106mje\u001b[0m \u001b[48;2;256;245;240msuis\u001b[0m \u001b[48;2;256;245;240men\u001b[0m \u001b[48;2;256;245;240mtrain\u001b[0m \u001b[48;2;256;245;240mde\u001b[0m \u001b[48;2;256;245;240mjouer\u001b[0m \u001b[48;2;256;245;240mà\u001b[0m \u001b[48;2;256;245;240mun\u001b[0m \u001b[48;2;256;245;240mjeu\u001b[0m  - i\n",
      "\u001b[48;2;256;245;240msalut\u001b[0m \u001b[48;2;256;245;240mmon\u001b[0m \u001b[48;2;256;245;240mnom\u001b[0m \u001b[48;2;256;245;240mest\u001b[0m \u001b[48;2;256;245;240mJean-baptiste\u001b[0m \u001b[48;2;256;245;240m,\u001b[0m \u001b[48;2;256;245;240met\u001b[0m \u001b[48;2;256;245;240mje\u001b[0m \u001b[48;2;252;138;106msuis\u001b[0m \u001b[48;2;256;245;240men\u001b[0m \u001b[48;2;256;245;240mtrain\u001b[0m \u001b[48;2;256;245;240mde\u001b[0m \u001b[48;2;256;245;240mjouer\u001b[0m \u001b[48;2;256;245;240mà\u001b[0m \u001b[48;2;256;245;240mun\u001b[0m \u001b[48;2;256;245;240mjeu\u001b[0m  - am\n",
      "\u001b[48;2;256;245;240msalut\u001b[0m \u001b[48;2;256;245;240mmon\u001b[0m \u001b[48;2;256;245;240mnom\u001b[0m \u001b[48;2;256;245;240mest\u001b[0m \u001b[48;2;256;245;240mJean-baptiste\u001b[0m \u001b[48;2;256;245;240m,\u001b[0m \u001b[48;2;256;245;240met\u001b[0m \u001b[48;2;256;245;240mje\u001b[0m \u001b[48;2;256;245;240msuis\u001b[0m \u001b[48;2;256;245;240men\u001b[0m \u001b[48;2;256;245;240mtrain\u001b[0m \u001b[48;2;253;202;181mde\u001b[0m \u001b[48;2;253;202;181mjouer\u001b[0m \u001b[48;2;256;245;240mà\u001b[0m \u001b[48;2;256;245;240mun\u001b[0m \u001b[48;2;256;245;240mjeu\u001b[0m  - playing\n",
      "\u001b[48;2;256;245;240msalut\u001b[0m \u001b[48;2;256;245;240mmon\u001b[0m \u001b[48;2;256;245;240mnom\u001b[0m \u001b[48;2;256;245;240mest\u001b[0m \u001b[48;2;256;245;240mJean-baptiste\u001b[0m \u001b[48;2;256;245;240m,\u001b[0m \u001b[48;2;256;245;240met\u001b[0m \u001b[48;2;256;245;240mje\u001b[0m \u001b[48;2;256;245;240msuis\u001b[0m \u001b[48;2;256;245;240men\u001b[0m \u001b[48;2;256;245;240mtrain\u001b[0m \u001b[48;2;256;245;240mde\u001b[0m \u001b[48;2;256;245;240mjouer\u001b[0m \u001b[48;2;252;138;106mà\u001b[0m \u001b[48;2;255;229;217mun\u001b[0m \u001b[48;2;256;245;240mjeu\u001b[0m  - a\n",
      "\u001b[48;2;256;245;240msalut\u001b[0m \u001b[48;2;256;245;240mmon\u001b[0m \u001b[48;2;256;245;240mnom\u001b[0m \u001b[48;2;256;245;240mest\u001b[0m \u001b[48;2;256;245;240mJean-baptiste\u001b[0m \u001b[48;2;256;245;240m,\u001b[0m \u001b[48;2;256;245;240met\u001b[0m \u001b[48;2;256;245;240mje\u001b[0m \u001b[48;2;256;245;240msuis\u001b[0m \u001b[48;2;256;245;240men\u001b[0m \u001b[48;2;256;245;240mtrain\u001b[0m \u001b[48;2;256;245;240mde\u001b[0m \u001b[48;2;256;245;240mjouer\u001b[0m \u001b[48;2;256;245;240mà\u001b[0m \u001b[48;2;255;229;217mun\u001b[0m \u001b[48;2;252;138;106mjeu\u001b[0m  - game\n",
      "\u001b[48;2;256;245;240msalut\u001b[0m \u001b[48;2;256;245;240mmon\u001b[0m \u001b[48;2;256;245;240mnom\u001b[0m \u001b[48;2;256;245;240mest\u001b[0m \u001b[48;2;256;245;240mJean-baptiste\u001b[0m \u001b[48;2;256;245;240m,\u001b[0m \u001b[48;2;256;245;240met\u001b[0m \u001b[48;2;256;245;240mje\u001b[0m \u001b[48;2;256;245;240msuis\u001b[0m \u001b[48;2;256;245;240men\u001b[0m \u001b[48;2;256;245;240mtrain\u001b[0m \u001b[48;2;256;245;240mde\u001b[0m \u001b[48;2;256;245;240mjouer\u001b[0m \u001b[48;2;253;202;181mà\u001b[0m \u001b[48;2;255;229;217mun\u001b[0m \u001b[48;2;255;229;217mjeu\u001b[0m  - .\n",
      "\n"
     ]
    },
    {
     "data": {
      "text/plain": [
       "'hi my name is Jean-baptiste , and i am playing a game .'"
      ]
     },
     "execution_count": 19,
     "metadata": {},
     "output_type": "execute_result"
    }
   ],
   "source": [
    "translator_fr_en_xl.eval()\n",
    "s = \"salut mon nom est Jean-baptiste, et je suis en train de jouer à un jeu\"\n",
    "translator_fr_en_xl(s, mask_unk = False, attention_method = AttentionViewer)\n",
    "translator_fr_en_xl(s, mask_unk = False, attention_method = AttentionViewerOnWords)"
   ]
  },
  {
   "cell_type": "code",
   "execution_count": 140,
   "metadata": {},
   "outputs": [
    {
     "data": {
      "image/png": "[encoded data removed]",
      "text/plain": [
       "<Figure size 432x288 with 1 Axes>"
      ]
     },
     "metadata": {
      "needs_background": "light"
     },
     "output_type": "display_data"
    },
    {
     "name": "stdout",
     "output_type": "stream",
     "text": [
      "\u001b[48;2;252;138;106mil\u001b[0m \u001b[48;2;256;245;240mn\u001b[0m \u001b[48;2;256;245;240m'\u001b[0m \u001b[48;2;256;245;240ma\u001b[0m \u001b[48;2;256;245;240mpas\u001b[0m \u001b[48;2;256;245;240ml'air\u001b[0m \u001b[48;2;256;245;240mde\u001b[0m \u001b[48;2;256;245;240mtrès\u001b[0m \u001b[48;2;256;245;240mbien\u001b[0m \u001b[48;2;256;245;240maller\u001b[0m  - he\n",
      "\u001b[48;2;256;245;240mil\u001b[0m \u001b[48;2;255;229;217mn\u001b[0m \u001b[48;2;256;245;240m'\u001b[0m \u001b[48;2;255;229;217ma\u001b[0m \u001b[48;2;252;138;106mpas\u001b[0m \u001b[48;2;256;245;240ml'air\u001b[0m \u001b[48;2;256;245;240mde\u001b[0m \u001b[48;2;256;245;240mtrès\u001b[0m \u001b[48;2;256;245;240mbien\u001b[0m \u001b[48;2;256;245;240maller\u001b[0m  - does\n",
      "\u001b[48;2;256;245;240mil\u001b[0m \u001b[48;2;255;229;217mn\u001b[0m \u001b[48;2;256;245;240m'\u001b[0m \u001b[48;2;256;245;240ma\u001b[0m \u001b[48;2;252;138;106mpas\u001b[0m \u001b[48;2;256;245;240ml'air\u001b[0m \u001b[48;2;256;245;240mde\u001b[0m \u001b[48;2;256;245;240mtrès\u001b[0m \u001b[48;2;256;245;240mbien\u001b[0m \u001b[48;2;256;245;240maller\u001b[0m  - not\n",
      "\u001b[48;2;256;245;240mil\u001b[0m \u001b[48;2;256;245;240mn\u001b[0m \u001b[48;2;256;245;240m'\u001b[0m \u001b[48;2;256;245;240ma\u001b[0m \u001b[48;2;256;245;240mpas\u001b[0m \u001b[48;2;251;105;73ml'air\u001b[0m \u001b[48;2;256;245;240mde\u001b[0m \u001b[48;2;256;245;240mtrès\u001b[0m \u001b[48;2;256;245;240mbien\u001b[0m \u001b[48;2;256;245;240maller\u001b[0m  - look\n",
      "\u001b[48;2;256;245;240mil\u001b[0m \u001b[48;2;256;245;240mn\u001b[0m \u001b[48;2;256;245;240m'\u001b[0m \u001b[48;2;256;245;240ma\u001b[0m \u001b[48;2;256;245;240mpas\u001b[0m \u001b[48;2;256;245;240ml'air\u001b[0m \u001b[48;2;253;202;181mde\u001b[0m \u001b[48;2;253;202;181mtrès\u001b[0m \u001b[48;2;255;229;217mbien\u001b[0m \u001b[48;2;256;245;240maller\u001b[0m  - very\n",
      "\u001b[48;2;256;245;240mil\u001b[0m \u001b[48;2;256;245;240mn\u001b[0m \u001b[48;2;256;245;240m'\u001b[0m \u001b[48;2;256;245;240ma\u001b[0m \u001b[48;2;256;245;240mpas\u001b[0m \u001b[48;2;256;245;240ml'air\u001b[0m \u001b[48;2;256;245;240mde\u001b[0m \u001b[48;2;255;229;217mtrès\u001b[0m \u001b[48;2;251;105;73mbien\u001b[0m \u001b[48;2;255;229;217maller\u001b[0m  - well\n",
      "\n"
     ]
    },
    {
     "data": {
      "text/plain": [
       "'he does not look very well'"
      ]
     },
     "execution_count": 140,
     "metadata": {},
     "output_type": "execute_result"
    }
   ],
   "source": [
    "translator_fr_en_xl.eval()\n",
    "sentence = \"il n'a pas l'air de très bien aller\"\n",
    "translator_fr_en_xl(sentence, attention_method = AttentionViewer)\n",
    "translator_fr_en_xl(sentence, attention_method = AttentionViewerOnWords)"
   ]
  },
  {
   "cell_type": "code",
   "execution_count": 142,
   "metadata": {
    "scrolled": true
   },
   "outputs": [
    {
     "data": {
      "image/png": "[encoded data removed]",
      "text/plain": [
       "<Figure size 432x288 with 1 Axes>"
      ]
     },
     "metadata": {
      "needs_background": "light"
     },
     "output_type": "display_data"
    },
    {
     "name": "stdout",
     "output_type": "stream",
     "text": [
      "\u001b[48;2;242;68;50mbonjour\u001b[0m \u001b[48;2;256;245;240m,\u001b[0m \u001b[48;2;256;245;240mje\u001b[0m \u001b[48;2;256;245;240mvoudrais\u001b[0m \u001b[48;2;256;245;240msavoir\u001b[0m \u001b[48;2;256;245;240msi\u001b[0m \u001b[48;2;256;245;240mcet\u001b[0m \u001b[48;2;256;245;240marticle\u001b[0m \u001b[48;2;256;245;240mest\u001b[0m \u001b[48;2;256;245;240mde\u001b[0m \u001b[48;2;256;245;240mbonne\u001b[0m \u001b[48;2;256;245;240mqualité\u001b[0m  - hi\n",
      "\u001b[48;2;255;229;217mbonjour\u001b[0m \u001b[48;2;251;105;73m,\u001b[0m \u001b[48;2;256;245;240mje\u001b[0m \u001b[48;2;256;245;240mvoudrais\u001b[0m \u001b[48;2;256;245;240msavoir\u001b[0m \u001b[48;2;256;245;240msi\u001b[0m \u001b[48;2;256;245;240mcet\u001b[0m \u001b[48;2;256;245;240marticle\u001b[0m \u001b[48;2;256;245;240mest\u001b[0m \u001b[48;2;256;245;240mde\u001b[0m \u001b[48;2;256;245;240mbonne\u001b[0m \u001b[48;2;256;245;240mqualité\u001b[0m  - ,\n",
      "\u001b[48;2;256;245;240mbonjour\u001b[0m \u001b[48;2;256;245;240m,\u001b[0m \u001b[48;2;251;105;73mje\u001b[0m \u001b[48;2;256;245;240mvoudrais\u001b[0m \u001b[48;2;256;245;240msavoir\u001b[0m \u001b[48;2;256;245;240msi\u001b[0m \u001b[48;2;256;245;240mcet\u001b[0m \u001b[48;2;256;245;240marticle\u001b[0m \u001b[48;2;256;245;240mest\u001b[0m \u001b[48;2;256;245;240mde\u001b[0m \u001b[48;2;256;245;240mbonne\u001b[0m \u001b[48;2;256;245;240mqualité\u001b[0m  - i\n",
      "\u001b[48;2;256;245;240mbonjour\u001b[0m \u001b[48;2;256;245;240m,\u001b[0m \u001b[48;2;256;245;240mje\u001b[0m \u001b[48;2;242;68;50mvoudrais\u001b[0m \u001b[48;2;256;245;240msavoir\u001b[0m \u001b[48;2;256;245;240msi\u001b[0m \u001b[48;2;256;245;240mcet\u001b[0m \u001b[48;2;256;245;240marticle\u001b[0m \u001b[48;2;256;245;240mest\u001b[0m \u001b[48;2;256;245;240mde\u001b[0m \u001b[48;2;256;245;240mbonne\u001b[0m \u001b[48;2;256;245;240mqualité\u001b[0m  - would\n",
      "\u001b[48;2;256;245;240mbonjour\u001b[0m \u001b[48;2;256;245;240m,\u001b[0m \u001b[48;2;256;245;240mje\u001b[0m \u001b[48;2;242;68;50mvoudrais\u001b[0m \u001b[48;2;255;229;217msavoir\u001b[0m \u001b[48;2;256;245;240msi\u001b[0m \u001b[48;2;256;245;240mcet\u001b[0m \u001b[48;2;256;245;240marticle\u001b[0m \u001b[48;2;256;245;240mest\u001b[0m \u001b[48;2;256;245;240mde\u001b[0m \u001b[48;2;256;245;240mbonne\u001b[0m \u001b[48;2;256;245;240mqualité\u001b[0m  - like\n",
      "\u001b[48;2;256;245;240mbonjour\u001b[0m \u001b[48;2;256;245;240m,\u001b[0m \u001b[48;2;256;245;240mje\u001b[0m \u001b[48;2;256;245;240mvoudrais\u001b[0m \u001b[48;2;251;105;73msavoir\u001b[0m \u001b[48;2;255;229;217msi\u001b[0m \u001b[48;2;256;245;240mcet\u001b[0m \u001b[48;2;256;245;240marticle\u001b[0m \u001b[48;2;256;245;240mest\u001b[0m \u001b[48;2;256;245;240mde\u001b[0m \u001b[48;2;256;245;240mbonne\u001b[0m \u001b[48;2;256;245;240mqualité\u001b[0m  - to\n",
      "\u001b[48;2;256;245;240mbonjour\u001b[0m \u001b[48;2;256;245;240m,\u001b[0m \u001b[48;2;256;245;240mje\u001b[0m \u001b[48;2;256;245;240mvoudrais\u001b[0m \u001b[48;2;242;68;50msavoir\u001b[0m \u001b[48;2;255;229;217msi\u001b[0m \u001b[48;2;256;245;240mcet\u001b[0m \u001b[48;2;256;245;240marticle\u001b[0m \u001b[48;2;256;245;240mest\u001b[0m \u001b[48;2;256;245;240mde\u001b[0m \u001b[48;2;256;245;240mbonne\u001b[0m \u001b[48;2;256;245;240mqualité\u001b[0m  - know\n",
      "\u001b[48;2;256;245;240mbonjour\u001b[0m \u001b[48;2;256;245;240m,\u001b[0m \u001b[48;2;256;245;240mje\u001b[0m \u001b[48;2;256;245;240mvoudrais\u001b[0m \u001b[48;2;256;245;240msavoir\u001b[0m \u001b[48;2;242;68;50msi\u001b[0m \u001b[48;2;256;245;240mcet\u001b[0m \u001b[48;2;256;245;240marticle\u001b[0m \u001b[48;2;256;245;240mest\u001b[0m \u001b[48;2;256;245;240mde\u001b[0m \u001b[48;2;256;245;240mbonne\u001b[0m \u001b[48;2;256;245;240mqualité\u001b[0m  - if\n",
      "\u001b[48;2;256;245;240mbonjour\u001b[0m \u001b[48;2;256;245;240m,\u001b[0m \u001b[48;2;256;245;240mje\u001b[0m \u001b[48;2;256;245;240mvoudrais\u001b[0m \u001b[48;2;256;245;240msavoir\u001b[0m \u001b[48;2;256;245;240msi\u001b[0m \u001b[48;2;242;68;50mcet\u001b[0m \u001b[48;2;256;245;240marticle\u001b[0m \u001b[48;2;256;245;240mest\u001b[0m \u001b[48;2;256;245;240mde\u001b[0m \u001b[48;2;256;245;240mbonne\u001b[0m \u001b[48;2;256;245;240mqualité\u001b[0m  - this\n",
      "\u001b[48;2;256;245;240mbonjour\u001b[0m \u001b[48;2;256;245;240m,\u001b[0m \u001b[48;2;256;245;240mje\u001b[0m \u001b[48;2;256;245;240mvoudrais\u001b[0m \u001b[48;2;256;245;240msavoir\u001b[0m \u001b[48;2;256;245;240msi\u001b[0m \u001b[48;2;256;245;240mcet\u001b[0m \u001b[48;2;242;68;50marticle\u001b[0m \u001b[48;2;256;245;240mest\u001b[0m \u001b[48;2;256;245;240mde\u001b[0m \u001b[48;2;256;245;240mbonne\u001b[0m \u001b[48;2;256;245;240mqualité\u001b[0m  - article\n",
      "\u001b[48;2;256;245;240mbonjour\u001b[0m \u001b[48;2;256;245;240m,\u001b[0m \u001b[48;2;256;245;240mje\u001b[0m \u001b[48;2;256;245;240mvoudrais\u001b[0m \u001b[48;2;256;245;240msavoir\u001b[0m \u001b[48;2;256;245;240msi\u001b[0m \u001b[48;2;256;245;240mcet\u001b[0m \u001b[48;2;256;245;240marticle\u001b[0m \u001b[48;2;251;105;73mest\u001b[0m \u001b[48;2;256;245;240mde\u001b[0m \u001b[48;2;256;245;240mbonne\u001b[0m \u001b[48;2;256;245;240mqualité\u001b[0m  - is\n",
      "\u001b[48;2;256;245;240mbonjour\u001b[0m \u001b[48;2;256;245;240m,\u001b[0m \u001b[48;2;256;245;240mje\u001b[0m \u001b[48;2;256;245;240mvoudrais\u001b[0m \u001b[48;2;256;245;240msavoir\u001b[0m \u001b[48;2;256;245;240msi\u001b[0m \u001b[48;2;256;245;240mcet\u001b[0m \u001b[48;2;256;245;240marticle\u001b[0m \u001b[48;2;256;245;240mest\u001b[0m \u001b[48;2;251;105;73mde\u001b[0m \u001b[48;2;255;229;217mbonne\u001b[0m \u001b[48;2;256;245;240mqualité\u001b[0m  - good\n",
      "\u001b[48;2;256;245;240mbonjour\u001b[0m \u001b[48;2;256;245;240m,\u001b[0m \u001b[48;2;256;245;240mje\u001b[0m \u001b[48;2;256;245;240mvoudrais\u001b[0m \u001b[48;2;256;245;240msavoir\u001b[0m \u001b[48;2;256;245;240msi\u001b[0m \u001b[48;2;256;245;240mcet\u001b[0m \u001b[48;2;256;245;240marticle\u001b[0m \u001b[48;2;256;245;240mest\u001b[0m \u001b[48;2;256;245;240mde\u001b[0m \u001b[48;2;255;229;217mbonne\u001b[0m \u001b[48;2;251;105;73mqualité\u001b[0m  - quality\n",
      "\u001b[48;2;256;245;240mbonjour\u001b[0m \u001b[48;2;256;245;240m,\u001b[0m \u001b[48;2;256;245;240mje\u001b[0m \u001b[48;2;256;245;240mvoudrais\u001b[0m \u001b[48;2;256;245;240msavoir\u001b[0m \u001b[48;2;256;245;240msi\u001b[0m \u001b[48;2;256;245;240mcet\u001b[0m \u001b[48;2;256;245;240marticle\u001b[0m \u001b[48;2;255;229;217mest\u001b[0m \u001b[48;2;256;245;240mde\u001b[0m \u001b[48;2;255;229;217mbonne\u001b[0m \u001b[48;2;252;171;143mqualité\u001b[0m  - of\n",
      "\u001b[48;2;256;245;240mbonjour\u001b[0m \u001b[48;2;256;245;240m,\u001b[0m \u001b[48;2;256;245;240mje\u001b[0m \u001b[48;2;256;245;240mvoudrais\u001b[0m \u001b[48;2;256;245;240msavoir\u001b[0m \u001b[48;2;256;245;240msi\u001b[0m \u001b[48;2;256;245;240mcet\u001b[0m \u001b[48;2;256;245;240marticle\u001b[0m \u001b[48;2;256;245;240mest\u001b[0m \u001b[48;2;256;245;240mde\u001b[0m \u001b[48;2;252;171;143mbonne\u001b[0m \u001b[48;2;253;202;181mqualité\u001b[0m  - good\n",
      "\u001b[48;2;256;245;240mbonjour\u001b[0m \u001b[48;2;256;245;240m,\u001b[0m \u001b[48;2;256;245;240mje\u001b[0m \u001b[48;2;256;245;240mvoudrais\u001b[0m \u001b[48;2;256;245;240msavoir\u001b[0m \u001b[48;2;256;245;240msi\u001b[0m \u001b[48;2;256;245;240mcet\u001b[0m \u001b[48;2;255;229;217marticle\u001b[0m \u001b[48;2;256;245;240mest\u001b[0m \u001b[48;2;256;245;240mde\u001b[0m \u001b[48;2;256;245;240mbonne\u001b[0m \u001b[48;2;252;138;106mqualité\u001b[0m  - quality\n",
      "\u001b[48;2;256;245;240mbonjour\u001b[0m \u001b[48;2;256;245;240m,\u001b[0m \u001b[48;2;256;245;240mje\u001b[0m \u001b[48;2;256;245;240mvoudrais\u001b[0m \u001b[48;2;256;245;240msavoir\u001b[0m \u001b[48;2;256;245;240msi\u001b[0m \u001b[48;2;256;245;240mcet\u001b[0m \u001b[48;2;256;245;240marticle\u001b[0m \u001b[48;2;255;229;217mest\u001b[0m \u001b[48;2;256;245;240mde\u001b[0m \u001b[48;2;255;229;217mbonne\u001b[0m \u001b[48;2;253;202;181mqualité\u001b[0m  - .\n",
      "\n"
     ]
    },
    {
     "data": {
      "text/plain": [
       "'hi , i would like to know if this article is good quality of good quality .'"
      ]
     },
     "execution_count": 142,
     "metadata": {},
     "output_type": "execute_result"
    }
   ],
   "source": [
    "translator_fr_en_xl.eval()\n",
    "s = \"bonjour, je voudrais savoir si cet article est de bonne qualité\"\n",
    "translator_fr_en_xl(s, attention_method = AttentionViewer)\n",
    "translator_fr_en_xl(s, attention_method = AttentionViewerOnWords)"
   ]
  },
  {
   "cell_type": "code",
   "execution_count": 143,
   "metadata": {},
   "outputs": [
    {
     "data": {
      "image/png": "[encoded data removed]",
      "text/plain": [
       "<Figure size 432x288 with 1 Axes>"
      ]
     },
     "metadata": {
      "needs_background": "light"
     },
     "output_type": "display_data"
    },
    {
     "name": "stdout",
     "output_type": "stream",
     "text": [
      "\u001b[48;2;251;105;73mc'est\u001b[0m \u001b[48;2;256;245;240mun\u001b[0m \u001b[48;2;256;245;240mnouveau\u001b[0m \u001b[48;2;256;245;240mné\u001b[0m \u001b[48;2;256;245;240mdont\u001b[0m \u001b[48;2;256;245;240mle\u001b[0m \u001b[48;2;256;245;240mnom\u001b[0m \u001b[48;2;256;245;240mest\u001b[0m \u001b[48;2;256;245;240mSantino\u001b[0m  - it\n",
      "\u001b[48;2;252;138;106mc'est\u001b[0m \u001b[48;2;255;229;217mun\u001b[0m \u001b[48;2;256;245;240mnouveau\u001b[0m \u001b[48;2;256;245;240mné\u001b[0m \u001b[48;2;256;245;240mdont\u001b[0m \u001b[48;2;256;245;240mle\u001b[0m \u001b[48;2;256;245;240mnom\u001b[0m \u001b[48;2;256;245;240mest\u001b[0m \u001b[48;2;256;245;240mSantino\u001b[0m  - is\n",
      "\u001b[48;2;256;245;240mc'est\u001b[0m \u001b[48;2;252;138;106mun\u001b[0m \u001b[48;2;255;229;217mnouveau\u001b[0m \u001b[48;2;256;245;240mné\u001b[0m \u001b[48;2;256;245;240mdont\u001b[0m \u001b[48;2;256;245;240mle\u001b[0m \u001b[48;2;256;245;240mnom\u001b[0m \u001b[48;2;256;245;240mest\u001b[0m \u001b[48;2;256;245;240mSantino\u001b[0m  - a\n",
      "\u001b[48;2;256;245;240mc'est\u001b[0m \u001b[48;2;256;245;240mun\u001b[0m \u001b[48;2;242;68;50mnouveau\u001b[0m \u001b[48;2;255;229;217mné\u001b[0m \u001b[48;2;256;245;240mdont\u001b[0m \u001b[48;2;256;245;240mle\u001b[0m \u001b[48;2;256;245;240mnom\u001b[0m \u001b[48;2;256;245;240mest\u001b[0m \u001b[48;2;256;245;240mSantino\u001b[0m  - new\n",
      "\u001b[48;2;256;245;240mc'est\u001b[0m \u001b[48;2;256;245;240mun\u001b[0m \u001b[48;2;255;229;217mnouveau\u001b[0m \u001b[48;2;251;105;73mné\u001b[0m \u001b[48;2;256;245;240mdont\u001b[0m \u001b[48;2;256;245;240mle\u001b[0m \u001b[48;2;256;245;240mnom\u001b[0m \u001b[48;2;256;245;240mest\u001b[0m \u001b[48;2;256;245;240mSantino\u001b[0m  - born\n",
      "\u001b[48;2;256;245;240mc'est\u001b[0m \u001b[48;2;256;245;240mun\u001b[0m \u001b[48;2;256;245;240mnouveau\u001b[0m \u001b[48;2;256;245;240mné\u001b[0m \u001b[48;2;252;138;106mdont\u001b[0m \u001b[48;2;256;245;240mle\u001b[0m \u001b[48;2;256;245;240mnom\u001b[0m \u001b[48;2;256;245;240mest\u001b[0m \u001b[48;2;256;245;240mSantino\u001b[0m  - whose\n",
      "\u001b[48;2;256;245;240mc'est\u001b[0m \u001b[48;2;256;245;240mun\u001b[0m \u001b[48;2;256;245;240mnouveau\u001b[0m \u001b[48;2;255;229;217mné\u001b[0m \u001b[48;2;255;229;217mdont\u001b[0m \u001b[48;2;256;245;240mle\u001b[0m \u001b[48;2;252;171;143mnom\u001b[0m \u001b[48;2;256;245;240mest\u001b[0m \u001b[48;2;256;245;240mSantino\u001b[0m  - name\n",
      "\u001b[48;2;256;245;240mc'est\u001b[0m \u001b[48;2;256;245;240mun\u001b[0m \u001b[48;2;256;245;240mnouveau\u001b[0m \u001b[48;2;256;245;240mné\u001b[0m \u001b[48;2;256;245;240mdont\u001b[0m \u001b[48;2;256;245;240mle\u001b[0m \u001b[48;2;256;245;240mnom\u001b[0m \u001b[48;2;252;138;106mest\u001b[0m \u001b[48;2;256;245;240mSantino\u001b[0m  - is\n",
      "\u001b[48;2;256;245;240mc'est\u001b[0m \u001b[48;2;256;245;240mun\u001b[0m \u001b[48;2;256;245;240mnouveau\u001b[0m \u001b[48;2;256;245;240mné\u001b[0m \u001b[48;2;256;245;240mdont\u001b[0m \u001b[48;2;256;245;240mle\u001b[0m \u001b[48;2;256;245;240mnom\u001b[0m \u001b[48;2;256;245;240mest\u001b[0m \u001b[48;2;251;105;73mSantino\u001b[0m  - Santino\n",
      "\n"
     ]
    },
    {
     "data": {
      "text/plain": [
       "'it is a new born whose name is Santino'"
      ]
     },
     "execution_count": 143,
     "metadata": {},
     "output_type": "execute_result"
    }
   ],
   "source": [
    "translator_fr_en_xl.eval()\n",
    "s = \"c'est un nouveau né dont le nom est Santino\"\n",
    "translator_fr_en_xl(s, attention_method = AttentionViewer)\n",
    "translator_fr_en_xl(s, attention_method = AttentionViewerOnWords)"
   ]
  },
  {
   "cell_type": "code",
   "execution_count": 144,
   "metadata": {},
   "outputs": [
    {
     "data": {
      "image/png": "[encoded data removed]",
      "text/plain": [
       "<Figure size 432x288 with 1 Axes>"
      ]
     },
     "metadata": {
      "needs_background": "light"
     },
     "output_type": "display_data"
    },
    {
     "name": "stdout",
     "output_type": "stream",
     "text": [
      "\u001b[48;2;242;68;50melle\u001b[0m \u001b[48;2;256;245;240ma\u001b[0m \u001b[48;2;256;245;240mcinq\u001b[0m \u001b[48;2;256;245;240mans\u001b[0m \u001b[48;2;256;245;240mde\u001b[0m \u001b[48;2;256;245;240mmoins\u001b[0m \u001b[48;2;256;245;240mque\u001b[0m \u001b[48;2;256;245;240mmoi\u001b[0m  - she\n",
      "\u001b[48;2;256;245;240melle\u001b[0m \u001b[48;2;242;68;50ma\u001b[0m \u001b[48;2;256;245;240mcinq\u001b[0m \u001b[48;2;256;245;240mans\u001b[0m \u001b[48;2;256;245;240mde\u001b[0m \u001b[48;2;256;245;240mmoins\u001b[0m \u001b[48;2;256;245;240mque\u001b[0m \u001b[48;2;256;245;240mmoi\u001b[0m  - is\n",
      "\u001b[48;2;256;245;240melle\u001b[0m \u001b[48;2;256;245;240ma\u001b[0m \u001b[48;2;242;68;50mcinq\u001b[0m \u001b[48;2;256;245;240mans\u001b[0m \u001b[48;2;256;245;240mde\u001b[0m \u001b[48;2;256;245;240mmoins\u001b[0m \u001b[48;2;256;245;240mque\u001b[0m \u001b[48;2;256;245;240mmoi\u001b[0m  - five\n",
      "\u001b[48;2;256;245;240melle\u001b[0m \u001b[48;2;256;245;240ma\u001b[0m \u001b[48;2;256;245;240mcinq\u001b[0m \u001b[48;2;252;171;143mans\u001b[0m \u001b[48;2;253;202;181mde\u001b[0m \u001b[48;2;255;229;217mmoins\u001b[0m \u001b[48;2;256;245;240mque\u001b[0m \u001b[48;2;256;245;240mmoi\u001b[0m  - years\n",
      "\u001b[48;2;256;245;240melle\u001b[0m \u001b[48;2;256;245;240ma\u001b[0m \u001b[48;2;256;245;240mcinq\u001b[0m \u001b[48;2;256;245;240mans\u001b[0m \u001b[48;2;252;171;143mde\u001b[0m \u001b[48;2;255;229;217mmoins\u001b[0m \u001b[48;2;255;229;217mque\u001b[0m \u001b[48;2;256;245;240mmoi\u001b[0m  - younger\n",
      "\u001b[48;2;256;245;240melle\u001b[0m \u001b[48;2;256;245;240ma\u001b[0m \u001b[48;2;256;245;240mcinq\u001b[0m \u001b[48;2;256;245;240mans\u001b[0m \u001b[48;2;256;245;240mde\u001b[0m \u001b[48;2;256;245;240mmoins\u001b[0m \u001b[48;2;242;68;50mque\u001b[0m \u001b[48;2;256;245;240mmoi\u001b[0m  - than\n",
      "\u001b[48;2;256;245;240melle\u001b[0m \u001b[48;2;256;245;240ma\u001b[0m \u001b[48;2;256;245;240mcinq\u001b[0m \u001b[48;2;256;245;240mans\u001b[0m \u001b[48;2;256;245;240mde\u001b[0m \u001b[48;2;256;245;240mmoins\u001b[0m \u001b[48;2;256;245;240mque\u001b[0m \u001b[48;2;242;68;50mmoi\u001b[0m  - me\n",
      "\n"
     ]
    },
    {
     "data": {
      "text/plain": [
       "'she is five years younger than me'"
      ]
     },
     "execution_count": 144,
     "metadata": {},
     "output_type": "execute_result"
    }
   ],
   "source": [
    "translator_fr_en_xl.eval()\n",
    "s = \"elle a cinq ans de moins que moi\"\n",
    "translator_fr_en_xl(s, attention_method = AttentionViewer)\n",
    "translator_fr_en_xl(s, attention_method = AttentionViewerOnWords)"
   ]
  },
  {
   "cell_type": "code",
   "execution_count": 147,
   "metadata": {},
   "outputs": [
    {
     "data": {
      "image/png": "[encoded data removed]",
      "text/plain": [
       "<Figure size 432x288 with 1 Axes>"
      ]
     },
     "metadata": {
      "needs_background": "light"
     },
     "output_type": "display_data"
    },
    {
     "name": "stdout",
     "output_type": "stream",
     "text": [
      "\u001b[48;2;242;68;50mdonne\u001b[0m \u001b[48;2;256;245;240mmoi\u001b[0m \u001b[48;2;256;245;240m47.975\u001b[0m \u001b[48;2;256;245;240mphrases\u001b[0m \u001b[48;2;256;245;240met\u001b[0m \u001b[48;2;256;245;240mje\u001b[0m \u001b[48;2;256;245;240mte\u001b[0m \u001b[48;2;256;245;240mles\u001b[0m \u001b[48;2;256;245;240mtraduirai\u001b[0m  - give\n",
      "\u001b[48;2;255;229;217mdonne\u001b[0m \u001b[48;2;251;105;73mmoi\u001b[0m \u001b[48;2;256;245;240m47.975\u001b[0m \u001b[48;2;256;245;240mphrases\u001b[0m \u001b[48;2;256;245;240met\u001b[0m \u001b[48;2;256;245;240mje\u001b[0m \u001b[48;2;256;245;240mte\u001b[0m \u001b[48;2;256;245;240mles\u001b[0m \u001b[48;2;256;245;240mtraduirai\u001b[0m  - me\n",
      "\u001b[48;2;256;245;240mdonne\u001b[0m \u001b[48;2;253;202;181mmoi\u001b[0m \u001b[48;2;251;105;73m47.975\u001b[0m \u001b[48;2;256;245;240mphrases\u001b[0m \u001b[48;2;256;245;240met\u001b[0m \u001b[48;2;256;245;240mje\u001b[0m \u001b[48;2;256;245;240mte\u001b[0m \u001b[48;2;256;245;240mles\u001b[0m \u001b[48;2;256;245;240mtraduirai\u001b[0m  - 47.975\n",
      "\u001b[48;2;256;245;240mdonne\u001b[0m \u001b[48;2;256;245;240mmoi\u001b[0m \u001b[48;2;255;229;217m47.975\u001b[0m \u001b[48;2;251;105;73mphrases\u001b[0m \u001b[48;2;256;245;240met\u001b[0m \u001b[48;2;256;245;240mje\u001b[0m \u001b[48;2;256;245;240mte\u001b[0m \u001b[48;2;256;245;240mles\u001b[0m \u001b[48;2;256;245;240mtraduirai\u001b[0m  - sentences\n",
      "\u001b[48;2;256;245;240mdonne\u001b[0m \u001b[48;2;256;245;240mmoi\u001b[0m \u001b[48;2;256;245;240m47.975\u001b[0m \u001b[48;2;256;245;240mphrases\u001b[0m \u001b[48;2;251;105;73met\u001b[0m \u001b[48;2;256;245;240mje\u001b[0m \u001b[48;2;256;245;240mte\u001b[0m \u001b[48;2;256;245;240mles\u001b[0m \u001b[48;2;256;245;240mtraduirai\u001b[0m  - and\n",
      "\u001b[48;2;256;245;240mdonne\u001b[0m \u001b[48;2;256;245;240mmoi\u001b[0m \u001b[48;2;256;245;240m47.975\u001b[0m \u001b[48;2;256;245;240mphrases\u001b[0m \u001b[48;2;256;245;240met\u001b[0m \u001b[48;2;251;105;73mje\u001b[0m \u001b[48;2;256;245;240mte\u001b[0m \u001b[48;2;256;245;240mles\u001b[0m \u001b[48;2;255;229;217mtraduirai\u001b[0m  - i\n",
      "\u001b[48;2;256;245;240mdonne\u001b[0m \u001b[48;2;256;245;240mmoi\u001b[0m \u001b[48;2;256;245;240m47.975\u001b[0m \u001b[48;2;256;245;240mphrases\u001b[0m \u001b[48;2;256;245;240met\u001b[0m \u001b[48;2;255;229;217mje\u001b[0m \u001b[48;2;256;245;240mte\u001b[0m \u001b[48;2;256;245;240mles\u001b[0m \u001b[48;2;252;138;106mtraduirai\u001b[0m  - will\n",
      "\u001b[48;2;256;245;240mdonne\u001b[0m \u001b[48;2;256;245;240mmoi\u001b[0m \u001b[48;2;256;245;240m47.975\u001b[0m \u001b[48;2;256;245;240mphrases\u001b[0m \u001b[48;2;256;245;240met\u001b[0m \u001b[48;2;256;245;240mje\u001b[0m \u001b[48;2;256;245;240mte\u001b[0m \u001b[48;2;256;245;240mles\u001b[0m \u001b[48;2;242;68;50mtraduirai\u001b[0m  - translate\n",
      "\u001b[48;2;256;245;240mdonne\u001b[0m \u001b[48;2;256;245;240mmoi\u001b[0m \u001b[48;2;256;245;240m47.975\u001b[0m \u001b[48;2;256;245;240mphrases\u001b[0m \u001b[48;2;256;245;240met\u001b[0m \u001b[48;2;256;245;240mje\u001b[0m \u001b[48;2;255;229;217mte\u001b[0m \u001b[48;2;251;105;73mles\u001b[0m \u001b[48;2;256;245;240mtraduirai\u001b[0m  - them\n",
      "\u001b[48;2;256;245;240mdonne\u001b[0m \u001b[48;2;256;245;240mmoi\u001b[0m \u001b[48;2;256;245;240m47.975\u001b[0m \u001b[48;2;256;245;240mphrases\u001b[0m \u001b[48;2;256;245;240met\u001b[0m \u001b[48;2;256;245;240mje\u001b[0m \u001b[48;2;255;229;217mte\u001b[0m \u001b[48;2;252;138;106mles\u001b[0m \u001b[48;2;255;229;217mtraduirai\u001b[0m  - to\n",
      "\u001b[48;2;256;245;240mdonne\u001b[0m \u001b[48;2;256;245;240mmoi\u001b[0m \u001b[48;2;256;245;240m47.975\u001b[0m \u001b[48;2;256;245;240mphrases\u001b[0m \u001b[48;2;256;245;240met\u001b[0m \u001b[48;2;256;245;240mje\u001b[0m \u001b[48;2;252;171;143mte\u001b[0m \u001b[48;2;255;229;217mles\u001b[0m \u001b[48;2;255;229;217mtraduirai\u001b[0m  - you\n",
      "\n"
     ]
    },
    {
     "data": {
      "text/plain": [
       "'give me 47.975 sentences and i will translate them to you'"
      ]
     },
     "execution_count": 147,
     "metadata": {},
     "output_type": "execute_result"
    }
   ],
   "source": [
    "translator_fr_en_xl.eval()\n",
    "s = \"donne moi 47.975 phrases et je te les traduirai\"\n",
    "translator_fr_en_xl(s, attention_method = AttentionViewer)\n",
    "translator_fr_en_xl(s, attention_method = AttentionViewerOnWords)"
   ]
  },
  {
   "cell_type": "code",
   "execution_count": 25,
   "metadata": {},
   "outputs": [
    {
     "data": {
      "image/png": "[encoded data removed]",
      "text/plain": [
       "<Figure size 432x288 with 1 Axes>"
      ]
     },
     "metadata": {
      "needs_background": "light"
     },
     "output_type": "display_data"
    },
    {
     "name": "stdout",
     "output_type": "stream",
     "text": [
      "\u001b[48;2;251;105;73mmange\u001b[0m \u001b[48;2;255;229;217mmoi\u001b[0m \u001b[48;2;256;245;240mle\u001b[0m \u001b[48;2;256;245;240mbout\u001b[0m  - eat\n",
      "\u001b[48;2;256;245;240mmange\u001b[0m \u001b[48;2;252;138;106mmoi\u001b[0m \u001b[48;2;252;171;143mle\u001b[0m \u001b[48;2;256;245;240mbout\u001b[0m  - my\n",
      "\u001b[48;2;256;245;240mmange\u001b[0m \u001b[48;2;256;245;240mmoi\u001b[0m \u001b[48;2;255;229;217mle\u001b[0m \u001b[48;2;251;105;73mbout\u001b[0m  - along\n",
      "\n"
     ]
    },
    {
     "data": {
      "text/plain": [
       "'eat my along'"
      ]
     },
     "execution_count": 25,
     "metadata": {},
     "output_type": "execute_result"
    }
   ],
   "source": [
    "translator_fr_en_xl.eval()\n",
    "s = \"mange moi le bout\"\n",
    "translator_fr_en_xl(s, attention_method = AttentionViewer)\n",
    "translator_fr_en_xl(s, attention_method = AttentionViewerOnWords)"
   ]
  },
  {
   "cell_type": "code",
   "execution_count": 206,
   "metadata": {},
   "outputs": [
    {
     "data": {
      "image/png": "[encoded data removed]",
      "text/plain": [
       "<Figure size 432x288 with 1 Axes>"
      ]
     },
     "metadata": {
      "needs_background": "light"
     },
     "output_type": "display_data"
    },
    {
     "name": "stdout",
     "output_type": "stream",
     "text": [
      "\u001b[48;2;217;37;34mSantino\u001b[0m \u001b[48;2;256;245;240mc'est\u001b[0m \u001b[48;2;256;245;240mun\u001b[0m \u001b[48;2;256;245;240mjoli\u001b[0m \u001b[48;2;256;245;240mprénom\u001b[0m \u001b[48;2;256;245;240mpour\u001b[0m \u001b[48;2;256;245;240mun\u001b[0m \u001b[48;2;256;245;240menfant\u001b[0m  - Santino\n",
      "\u001b[48;2;256;245;240mSantino\u001b[0m \u001b[48;2;242;68;50mc'est\u001b[0m \u001b[48;2;256;245;240mun\u001b[0m \u001b[48;2;256;245;240mjoli\u001b[0m \u001b[48;2;256;245;240mprénom\u001b[0m \u001b[48;2;256;245;240mpour\u001b[0m \u001b[48;2;256;245;240mun\u001b[0m \u001b[48;2;256;245;240menfant\u001b[0m  - is\n",
      "\u001b[48;2;256;245;240mSantino\u001b[0m \u001b[48;2;255;229;217mc'est\u001b[0m \u001b[48;2;252;138;106mun\u001b[0m \u001b[48;2;255;229;217mjoli\u001b[0m \u001b[48;2;256;245;240mprénom\u001b[0m \u001b[48;2;256;245;240mpour\u001b[0m \u001b[48;2;256;245;240mun\u001b[0m \u001b[48;2;256;245;240menfant\u001b[0m  - a\n",
      "\u001b[48;2;256;245;240mSantino\u001b[0m \u001b[48;2;256;245;240mc'est\u001b[0m \u001b[48;2;256;245;240mun\u001b[0m \u001b[48;2;242;68;50mjoli\u001b[0m \u001b[48;2;256;245;240mprénom\u001b[0m \u001b[48;2;256;245;240mpour\u001b[0m \u001b[48;2;256;245;240mun\u001b[0m \u001b[48;2;256;245;240menfant\u001b[0m  - pretty\n",
      "\u001b[48;2;256;245;240mSantino\u001b[0m \u001b[48;2;256;245;240mc'est\u001b[0m \u001b[48;2;256;245;240mun\u001b[0m \u001b[48;2;255;229;217mjoli\u001b[0m \u001b[48;2;251;105;73mprénom\u001b[0m \u001b[48;2;256;245;240mpour\u001b[0m \u001b[48;2;256;245;240mun\u001b[0m \u001b[48;2;256;245;240menfant\u001b[0m  - name\n",
      "\u001b[48;2;256;245;240mSantino\u001b[0m \u001b[48;2;256;245;240mc'est\u001b[0m \u001b[48;2;256;245;240mun\u001b[0m \u001b[48;2;256;245;240mjoli\u001b[0m \u001b[48;2;255;229;217mprénom\u001b[0m \u001b[48;2;251;105;73mpour\u001b[0m \u001b[48;2;256;245;240mun\u001b[0m \u001b[48;2;256;245;240menfant\u001b[0m  - for\n",
      "\u001b[48;2;256;245;240mSantino\u001b[0m \u001b[48;2;256;245;240mc'est\u001b[0m \u001b[48;2;256;245;240mun\u001b[0m \u001b[48;2;256;245;240mjoli\u001b[0m \u001b[48;2;256;245;240mprénom\u001b[0m \u001b[48;2;256;245;240mpour\u001b[0m \u001b[48;2;242;68;50mun\u001b[0m \u001b[48;2;256;245;240menfant\u001b[0m  - a\n",
      "\u001b[48;2;256;245;240mSantino\u001b[0m \u001b[48;2;256;245;240mc'est\u001b[0m \u001b[48;2;256;245;240mun\u001b[0m \u001b[48;2;256;245;240mjoli\u001b[0m \u001b[48;2;256;245;240mprénom\u001b[0m \u001b[48;2;256;245;240mpour\u001b[0m \u001b[48;2;255;229;217mun\u001b[0m \u001b[48;2;251;105;73menfant\u001b[0m  - child\n",
      "\n"
     ]
    },
    {
     "data": {
      "text/plain": [
       "'Santino is a pretty name for a child'"
      ]
     },
     "execution_count": 206,
     "metadata": {},
     "output_type": "execute_result"
    }
   ],
   "source": [
    "translator_fr_en_xl.eval()\n",
    "s = \"Santino c'est un joli prénom pour un enfant\"\n",
    "translator_fr_en_xl(s, attention_method = AttentionViewer)\n",
    "translator_fr_en_xl(s, attention_method = AttentionViewerOnWords)"
   ]
  },
  {
   "cell_type": "code",
   "execution_count": 213,
   "metadata": {},
   "outputs": [
    {
     "data": {
      "image/png": "[encoded data removed]",
      "text/plain": [
       "<Figure size 432x288 with 1 Axes>"
      ]
     },
     "metadata": {
      "needs_background": "light"
     },
     "output_type": "display_data"
    },
    {
     "name": "stdout",
     "output_type": "stream",
     "text": [
      "\u001b[48;2;256;245;240mest-ce\u001b[0m \u001b[48;2;256;245;240mque\u001b[0m \u001b[48;2;253;202;181mtu\u001b[0m \u001b[48;2;253;202;181mes\u001b[0m \u001b[48;2;256;245;240mcapable\u001b[0m \u001b[48;2;256;245;240mde\u001b[0m \u001b[48;2;256;245;240mme\u001b[0m \u001b[48;2;256;245;240mtraduire\u001b[0m \u001b[48;2;256;245;240mn'importe\u001b[0m \u001b[48;2;256;245;240mquoi\u001b[0m \u001b[48;2;256;245;240m?\u001b[0m  - are\n",
      "\u001b[48;2;256;245;240mest-ce\u001b[0m \u001b[48;2;256;245;240mque\u001b[0m \u001b[48;2;251;105;73mtu\u001b[0m \u001b[48;2;255;229;217mes\u001b[0m \u001b[48;2;256;245;240mcapable\u001b[0m \u001b[48;2;256;245;240mde\u001b[0m \u001b[48;2;256;245;240mme\u001b[0m \u001b[48;2;256;245;240mtraduire\u001b[0m \u001b[48;2;256;245;240mn'importe\u001b[0m \u001b[48;2;256;245;240mquoi\u001b[0m \u001b[48;2;256;245;240m?\u001b[0m  - you\n",
      "\u001b[48;2;256;245;240mest-ce\u001b[0m \u001b[48;2;256;245;240mque\u001b[0m \u001b[48;2;256;245;240mtu\u001b[0m \u001b[48;2;256;245;240mes\u001b[0m \u001b[48;2;242;68;50mcapable\u001b[0m \u001b[48;2;256;245;240mde\u001b[0m \u001b[48;2;256;245;240mme\u001b[0m \u001b[48;2;256;245;240mtraduire\u001b[0m \u001b[48;2;256;245;240mn'importe\u001b[0m \u001b[48;2;256;245;240mquoi\u001b[0m \u001b[48;2;256;245;240m?\u001b[0m  - able\n",
      "\u001b[48;2;256;245;240mest-ce\u001b[0m \u001b[48;2;256;245;240mque\u001b[0m \u001b[48;2;256;245;240mtu\u001b[0m \u001b[48;2;256;245;240mes\u001b[0m \u001b[48;2;256;245;240mcapable\u001b[0m \u001b[48;2;252;171;143mde\u001b[0m \u001b[48;2;256;245;240mme\u001b[0m \u001b[48;2;253;202;181mtraduire\u001b[0m \u001b[48;2;256;245;240mn'importe\u001b[0m \u001b[48;2;256;245;240mquoi\u001b[0m \u001b[48;2;256;245;240m?\u001b[0m  - to\n",
      "\u001b[48;2;256;245;240mest-ce\u001b[0m \u001b[48;2;256;245;240mque\u001b[0m \u001b[48;2;256;245;240mtu\u001b[0m \u001b[48;2;256;245;240mes\u001b[0m \u001b[48;2;256;245;240mcapable\u001b[0m \u001b[48;2;256;245;240mde\u001b[0m \u001b[48;2;256;245;240mme\u001b[0m \u001b[48;2;242;68;50mtraduire\u001b[0m \u001b[48;2;256;245;240mn'importe\u001b[0m \u001b[48;2;256;245;240mquoi\u001b[0m \u001b[48;2;256;245;240m?\u001b[0m  - translate\n",
      "\u001b[48;2;256;245;240mest-ce\u001b[0m \u001b[48;2;256;245;240mque\u001b[0m \u001b[48;2;256;245;240mtu\u001b[0m \u001b[48;2;256;245;240mes\u001b[0m \u001b[48;2;256;245;240mcapable\u001b[0m \u001b[48;2;256;245;240mde\u001b[0m \u001b[48;2;253;202;181mme\u001b[0m \u001b[48;2;256;245;240mtraduire\u001b[0m \u001b[48;2;252;171;143mn'importe\u001b[0m \u001b[48;2;256;245;240mquoi\u001b[0m \u001b[48;2;256;245;240m?\u001b[0m  - me\n",
      "\u001b[48;2;256;245;240mest-ce\u001b[0m \u001b[48;2;256;245;240mque\u001b[0m \u001b[48;2;256;245;240mtu\u001b[0m \u001b[48;2;256;245;240mes\u001b[0m \u001b[48;2;256;245;240mcapable\u001b[0m \u001b[48;2;256;245;240mde\u001b[0m \u001b[48;2;256;245;240mme\u001b[0m \u001b[48;2;256;245;240mtraduire\u001b[0m \u001b[48;2;252;138;106mn'importe\u001b[0m \u001b[48;2;255;229;217mquoi\u001b[0m \u001b[48;2;256;245;240m?\u001b[0m  - anything\n",
      "\u001b[48;2;256;245;240mest-ce\u001b[0m \u001b[48;2;256;245;240mque\u001b[0m \u001b[48;2;256;245;240mtu\u001b[0m \u001b[48;2;256;245;240mes\u001b[0m \u001b[48;2;256;245;240mcapable\u001b[0m \u001b[48;2;256;245;240mde\u001b[0m \u001b[48;2;256;245;240mme\u001b[0m \u001b[48;2;256;245;240mtraduire\u001b[0m \u001b[48;2;256;245;240mn'importe\u001b[0m \u001b[48;2;253;202;181mquoi\u001b[0m \u001b[48;2;252;171;143m?\u001b[0m  - ?\n",
      "\n"
     ]
    },
    {
     "data": {
      "text/plain": [
       "'are you able to translate me anything ?'"
      ]
     },
     "execution_count": 213,
     "metadata": {},
     "output_type": "execute_result"
    }
   ],
   "source": [
    "translator_fr_en_xl.eval()\n",
    "s = \"est-ce que tu es capable de me traduire n'importe quoi ?\"\n",
    "translator_fr_en_xl(s, attention_method = AttentionViewer)\n",
    "translator_fr_en_xl(s, attention_method = AttentionViewerOnWords)"
   ]
  },
  {
   "cell_type": "code",
   "execution_count": null,
   "metadata": {},
   "outputs": [],
   "source": []
  }
 ],
 "metadata": {
  "kernelspec": {
   "display_name": "Python 3",
   "language": "python",
   "name": "python3"
  },
  "language_info": {
   "codemirror_mode": {
    "name": "ipython",
    "version": 3
   },
   "file_extension": ".py",
   "mimetype": "text/x-python",
   "name": "python",
   "nbconvert_exporter": "python",
   "pygments_lexer": "ipython3",
   "version": "3.6.5"
  }
 },
 "nbformat": 4,
 "nbformat_minor": 2
}
