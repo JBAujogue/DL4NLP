{
 "cells": [
  {
   "cell_type": "markdown",
   "metadata": {},
   "source": [
    "<div style=\"font-variant: small-caps; \n",
    "      font-weight: normal; \n",
    "      font-size: 30px; \n",
    "      text-align: center; \n",
    "      padding: 15px; \n",
    "      margin: 10px;\">\n",
    "  Deep Learning for NLP\n",
    "  </div> \n",
    "  \n",
    "<div style=\"font-variant: small-caps; \n",
    "      font-weight: normal; \n",
    "      font-size: 30px; \n",
    "      text-align: center; \n",
    "      padding: 15px; \n",
    "      margin: 10px;\">\n",
    "    <font color=orange>II - 2 </font>\n",
    "  Sequence to Sequence\n",
    "  </div> \n",
    "\n",
    "  <div style=\"\n",
    "      font-weight: normal; \n",
    "      font-size: 20px; \n",
    "      text-align: center; \n",
    "      padding: 15px;\">\n",
    "    a. Machine Translation\n",
    "  </div> \n",
    "\n",
    "  <div style=\" float:right; \n",
    "      font-size: 12px; \n",
    "      line-height: 12px; \n",
    "  padding: 10px 15px 8px;\">\n",
    "  Jean-baptiste AUJOGUE\n",
    "  </div> "
   ]
  },
  {
   "cell_type": "markdown",
   "metadata": {},
   "source": [
    "### Part I\n",
    "\n",
    "1. Word Embedding\n",
    "\n",
    "2. Sentence Classification\n",
    "\n",
    "3. Language Modeling\n",
    "\n",
    "4. Sequence Labelling\n",
    "\n",
    "\n",
    "### Part II\n",
    "\n",
    "1. Text Classification\n",
    "\n",
    "2. <font color=orange>**Sequence to sequence**</font>\n",
    "\n",
    "\n",
    "### Part III\n",
    "\n",
    "8. Abstractive Summarization\n",
    "\n",
    "9. Question Answering\n",
    "\n",
    "10. Chatbot\n",
    "\n",
    "\n",
    "</div>\n",
    "\n",
    "***"
   ]
  },
  {
   "cell_type": "markdown",
   "metadata": {},
   "source": [
    "<a id=\"plan\"></a>"
   ]
  },
  {
   "cell_type": "markdown",
   "metadata": {},
   "source": [
    "| | | | |\n",
    "|------|------|------|------|\n",
    "| **Content** | [Corpus](#corpus) | [Modules](#modules) | [Model](#model) | \n",
    "\n",
    "We consider here Machine Translation between English and French. The corpus used is [EuroParl v7](http://www.statmt.org/europarl/). Ohter corpuses can be found at :\n",
    "\n",
    "- http://www.statmt.org/\n",
    "- https://www.statmt.org/wmt15/translation-task.html\n",
    "- http://casmacat.eu/corpus/global-voices.html\n",
    "\n",
    "A project highly optimized towards Seq2Seq tasks is [openNMT](https://github.com/OpenNMT/OpenNMT-py)"
   ]
  },
  {
   "cell_type": "markdown",
   "metadata": {},
   "source": [
    "# Packages"
   ]
  },
  {
   "cell_type": "code",
   "execution_count": 1,
   "metadata": {},
   "outputs": [
    {
     "name": "stderr",
     "output_type": "stream",
     "text": [
      "C:\\ProgramData\\Anaconda3\\lib\\site-packages\\gensim\\utils.py:1197: UserWarning: detected Windows; aliasing chunkize to chunkize_serial\n",
      "  warnings.warn(\"detected Windows; aliasing chunkize to chunkize_serial\")\n"
     ]
    },
    {
     "name": "stdout",
     "output_type": "stream",
     "text": [
      "python version : 3.6.5 |Anaconda, Inc.| (default, Mar 29 2018, 13:32:41) [MSC v.1900 64 bit (AMD64)]\n",
      "pytorch version : 1.5.0\n",
      "DL device : cuda\n"
     ]
    }
   ],
   "source": [
    "from __future__ import unicode_literals, print_function, division\n",
    "\n",
    "import sys\n",
    "import warnings\n",
    "import os\n",
    "from io import open\n",
    "import unicodedata\n",
    "import string\n",
    "import time\n",
    "import math\n",
    "import re\n",
    "import random\n",
    "import pickle\n",
    "import copy\n",
    "from unidecode import unidecode\n",
    "import itertools\n",
    "import matplotlib\n",
    "import matplotlib.pyplot as plt\n",
    "\n",
    "\n",
    "# for special math operation\n",
    "from sklearn.preprocessing import normalize\n",
    "\n",
    "\n",
    "# for manipulating data \n",
    "import numpy as np\n",
    "#np.set_printoptions(threshold=np.nan)\n",
    "import pandas as pd\n",
    "import bcolz # see https://bcolz.readthedocs.io/en/latest/intro.html\n",
    "import pickle\n",
    "\n",
    "\n",
    "# for text processing\n",
    "import gensim\n",
    "from gensim.models import KeyedVectors\n",
    "#import spacy\n",
    "import nltk\n",
    "#nltk.download()\n",
    "from nltk.tokenize import sent_tokenize, word_tokenize, RegexpTokenizer\n",
    "from nltk.stem.porter import PorterStemmer\n",
    "\n",
    "\n",
    "# for deep learning\n",
    "import torch\n",
    "import torch.nn as nn\n",
    "from torch.autograd import Variable\n",
    "from torch import optim\n",
    "import torch.nn.functional as F\n",
    "from torch.utils.data import DataLoader\n",
    "device = torch.device(\"cuda\" if torch.cuda.is_available() else \"cpu\")\n",
    "#device = torch.device(\"cpu\")\n",
    "\n",
    "warnings.filterwarnings(\"ignore\")\n",
    "print('python version :', sys.version)\n",
    "print('pytorch version :', torch.__version__)\n",
    "print('DL device :', device)"
   ]
  },
  {
   "cell_type": "code",
   "execution_count": 2,
   "metadata": {},
   "outputs": [],
   "source": [
    "path_to_DL4NLP = os.path.dirname(os.getcwd())\n",
    "path_to_data   = 'D:\\\\data'"
   ]
  },
  {
   "cell_type": "code",
   "execution_count": 3,
   "metadata": {},
   "outputs": [],
   "source": [
    "sys.path.append(path_to_DL4NLP + '\\\\lib')"
   ]
  },
  {
   "cell_type": "markdown",
   "metadata": {},
   "source": [
    "<a id=\"corpus\"></a>"
   ]
  },
  {
   "cell_type": "markdown",
   "metadata": {},
   "source": [
    "# Corpus\n",
    "\n",
    "[Back to top](#plan)\n",
    "\n",
    "Le texte est importé et mis sous forme de liste, où chaque élément représente un texte présenté sous forme d'une liste de mots."
   ]
  },
  {
   "cell_type": "code",
   "execution_count": 4,
   "metadata": {},
   "outputs": [],
   "source": [
    "with open(path_to_data + '\\\\english-french translation\\\\europarl-v7.fr-en.en', encoding = 'utf8') as f : corpus_en = f.readlines()\n",
    "with open(path_to_data + '\\\\english-french translation\\\\europarl-v7.fr-en.fr', encoding = 'utf8') as f : corpus_fr = f.readlines()"
   ]
  },
  {
   "cell_type": "code",
   "execution_count": 5,
   "metadata": {},
   "outputs": [
    {
     "name": "stdout",
     "output_type": "stream",
     "text": [
      "2007723 2007723\n"
     ]
    }
   ],
   "source": [
    "print(len(corpus_en), len(corpus_fr))"
   ]
  },
  {
   "cell_type": "code",
   "execution_count": 6,
   "metadata": {
    "scrolled": true
   },
   "outputs": [
    {
     "name": "stdout",
     "output_type": "stream",
     "text": [
      "Would it be appropriate for you, Madam President, to write a letter to the Sri Lankan President expressing Parliament's regret at his and the other violent deaths in Sri Lanka and urging her to do everything she possibly can to seek a peaceful reconciliation to a very difficult situation?\n",
      " Ne pensez-vous pas, Madame la Présidente, qu'il conviendrait d'écrire une lettre au président du Sri Lanka pour lui communiquer que le Parlement déplore les morts violentes, dont celle de M. Ponnambalam, et pour l'inviter instamment à faire tout ce qui est en son pouvoir pour chercher une réconciliation pacifique et mettre un terme à cette situation particulièrement difficile.\n",
      "\n"
     ]
    }
   ],
   "source": [
    "print(corpus_en[10], corpus_fr[10])"
   ]
  },
  {
   "cell_type": "code",
   "execution_count": 27,
   "metadata": {},
   "outputs": [],
   "source": [
    "def tokenize(s) :\n",
    "    s = re.sub('[a-zA-Z][0-9]*-[0-9]+[\\/0-9]*', '', s) # remove juridic file numbers\n",
    "    s = re.sub('-', ' - ', s)\n",
    "    words = word_tokenize(s)\n",
    "    words = [w.lower() for w in words if w not in ['(', ')']]\n",
    "    return words"
   ]
  },
  {
   "cell_type": "markdown",
   "metadata": {},
   "source": [
    "Avoid long sentences (more than 150 characters or 25 words) with more than 1 ovelapping word between english and french"
   ]
  },
  {
   "cell_type": "code",
   "execution_count": 8,
   "metadata": {},
   "outputs": [],
   "source": [
    "corpus_xs = [[en, fr] for en, fr in zip(corpus_en, corpus_fr) if max(len(en), len(fr)) < 150]"
   ]
  },
  {
   "cell_type": "code",
   "execution_count": 28,
   "metadata": {},
   "outputs": [
    {
     "data": {
      "text/plain": [
       "981965"
      ]
     },
     "execution_count": 28,
     "metadata": {},
     "output_type": "execute_result"
    }
   ],
   "source": [
    "len(corpus_xs)"
   ]
  },
  {
   "cell_type": "code",
   "execution_count": 29,
   "metadata": {},
   "outputs": [],
   "source": [
    "en_fr_xs = [[tokenize(en), tokenize(fr)] for en, fr in corpus_xs]"
   ]
  },
  {
   "cell_type": "code",
   "execution_count": 30,
   "metadata": {
    "scrolled": true
   },
   "outputs": [],
   "source": [
    "en_fr_xs = [[en, fr] for en, fr in en_fr_xs if (len(en) > 0 \n",
    "                                            and len(fr) > 0 \n",
    "                                            and len(fr) < 25\n",
    "                                            and (len(en) >= 10 or len([w for w in en if w in fr]) < 2))]"
   ]
  },
  {
   "cell_type": "code",
   "execution_count": 31,
   "metadata": {},
   "outputs": [
    {
     "data": {
      "text/plain": [
       "811429"
      ]
     },
     "execution_count": 31,
     "metadata": {},
     "output_type": "execute_result"
    }
   ],
   "source": [
    "len(en_fr_xs)"
   ]
  },
  {
   "cell_type": "code",
   "execution_count": 47,
   "metadata": {},
   "outputs": [],
   "source": [
    "def isNotNum(w) :\n",
    "    return re.sub('[0-9\\/]+', '', w) != ''"
   ]
  },
  {
   "cell_type": "code",
   "execution_count": 49,
   "metadata": {},
   "outputs": [],
   "source": [
    "en_fr_xs = [[[w for w in en if isNotNum(w)], [w for w in fr if isNotNum(w)]] for en, fr in en_fr_xs]"
   ]
  },
  {
   "cell_type": "code",
   "execution_count": 84,
   "metadata": {},
   "outputs": [],
   "source": [
    "en_fr_xs = [[en, fr] for en, fr in en_fr_xs if (len(en) > 0 and len(fr) > 0)]"
   ]
  },
  {
   "cell_type": "code",
   "execution_count": 50,
   "metadata": {},
   "outputs": [],
   "source": [
    "copies = [w for s in en_fr_xs for w in s[0] if w in s[1]]\n",
    "copies = np.unique(copies)"
   ]
  },
  {
   "cell_type": "code",
   "execution_count": 51,
   "metadata": {},
   "outputs": [
    {
     "data": {
      "text/plain": [
       "14413"
      ]
     },
     "execution_count": 51,
     "metadata": {},
     "output_type": "execute_result"
    }
   ],
   "source": [
    "len(copies)"
   ]
  },
  {
   "cell_type": "code",
   "execution_count": 63,
   "metadata": {},
   "outputs": [],
   "source": [
    "en_fr_xs_1 = en_fr_xs[:200000]"
   ]
  },
  {
   "cell_type": "code",
   "execution_count": 85,
   "metadata": {},
   "outputs": [],
   "source": [
    "en_fr_xs_1 = [[en, fr] for en, fr in en_fr_xs_1 if (len(en) > 0 and len(fr) > 0)]"
   ]
  },
  {
   "cell_type": "markdown",
   "metadata": {},
   "source": [
    "<a id=\"modules\"></a>"
   ]
  },
  {
   "cell_type": "markdown",
   "metadata": {},
   "source": [
    "# 1 Modules\n",
    "\n",
    "### 1.1 Word Embedding module\n",
    "\n",
    "[Back to top](#plan)\n",
    "\n",
    "All details on Word Embedding modules and their pre-training are found in **Part I - 1**. We consider here a FastText model trained following the Skip-Gram training objective."
   ]
  },
  {
   "cell_type": "code",
   "execution_count": 38,
   "metadata": {},
   "outputs": [],
   "source": [
    "from libDL4NLP.models.Word_Embedding import Word2Vec as myWord2Vec\n",
    "from libDL4NLP.models.Word_Embedding import Word2VecConnector\n",
    "from libDL4NLP.utils.Lang import Lang"
   ]
  },
  {
   "cell_type": "code",
   "execution_count": 39,
   "metadata": {},
   "outputs": [],
   "source": [
    "from gensim.models import Word2Vec\n",
    "from gensim.models.fasttext import FastText\n",
    "from gensim.test.utils import datapath, get_tmpfile"
   ]
  },
  {
   "cell_type": "markdown",
   "metadata": {},
   "source": [
    "**Option 1** : Load pretrained"
   ]
  },
  {
   "cell_type": "code",
   "execution_count": 15,
   "metadata": {},
   "outputs": [],
   "source": [
    "# load\n",
    "word2vec_en = FastText.load(get_tmpfile(path_to_DL4NLP + \"\\\\saves\\\\DL4NLP_II2a_w2v_en.model\"))\n",
    "word2vec_fr = FastText.load(get_tmpfile(path_to_DL4NLP + \"\\\\saves\\\\DL4NLP_II2a_w2v_fr.model\"))"
   ]
  },
  {
   "cell_type": "markdown",
   "metadata": {},
   "source": [
    "**Option 2** : Train new model"
   ]
  },
  {
   "cell_type": "code",
   "execution_count": 64,
   "metadata": {},
   "outputs": [],
   "source": [
    "corpus_in  = [['SOS'] + s[0] + ['EOS'] for s in en_fr_xs_1]\n",
    "corpus_out = [['SOS'] + s[1] + ['EOS'] for s in en_fr_xs_1]"
   ]
  },
  {
   "cell_type": "code",
   "execution_count": 65,
   "metadata": {},
   "outputs": [],
   "source": [
    "word2vec_en = FastText(\n",
    "    size = 200, \n",
    "    window = 5, \n",
    "    min_count = 2, \n",
    "    negative = 10,\n",
    "    sg = 1)"
   ]
  },
  {
   "cell_type": "code",
   "execution_count": 66,
   "metadata": {},
   "outputs": [
    {
     "name": "stdout",
     "output_type": "stream",
     "text": [
      "19059\n"
     ]
    }
   ],
   "source": [
    "word2vec_en.build_vocab(corpus_in)\n",
    "print(len(word2vec_en.wv.vocab))"
   ]
  },
  {
   "cell_type": "code",
   "execution_count": 69,
   "metadata": {
    "scrolled": true
   },
   "outputs": [],
   "source": [
    "word2vec_en.train(sentences = corpus_in, \n",
    "                  epochs = 20,\n",
    "                  total_examples = word2vec_en.corpus_count)"
   ]
  },
  {
   "cell_type": "code",
   "execution_count": 67,
   "metadata": {},
   "outputs": [],
   "source": [
    "word2vec_fr = FastText(size = 200, \n",
    "                        window = 5, \n",
    "                        min_count = 2, \n",
    "                        negative = 10,\n",
    "                        sg = 1)"
   ]
  },
  {
   "cell_type": "code",
   "execution_count": 68,
   "metadata": {},
   "outputs": [
    {
     "name": "stdout",
     "output_type": "stream",
     "text": [
      "28319\n"
     ]
    }
   ],
   "source": [
    "word2vec_fr.build_vocab(corpus_out)\n",
    "print(len(word2vec_fr.wv.vocab))"
   ]
  },
  {
   "cell_type": "code",
   "execution_count": 71,
   "metadata": {},
   "outputs": [],
   "source": [
    "word2vec_fr.train(sentences = corpus_out, \n",
    "                   epochs = 20,\n",
    "                   total_examples = word2vec_fr.corpus_count)"
   ]
  },
  {
   "cell_type": "code",
   "execution_count": 72,
   "metadata": {},
   "outputs": [],
   "source": [
    "# save\n",
    "#word2vec_en.save(get_tmpfile(path_to_DL4NLP + \"\\\\saves\\\\DL4NLP_II2a_w2v_en.model\"))\n",
    "#word2vec_fr.save(get_tmpfile(path_to_DL4NLP + \"\\\\saves\\\\DL4NLP_II2a_w2v_fr.model\"))"
   ]
  },
  {
   "cell_type": "markdown",
   "metadata": {},
   "source": [
    "### 1.2 Contextualization module\n",
    "\n",
    "[Back to top](#plan)\n",
    "\n",
    "This module consists of a bi-directional _Gated Recurrent Unit_ (GRU) that supports packed sentences :"
   ]
  },
  {
   "cell_type": "code",
   "execution_count": 73,
   "metadata": {},
   "outputs": [],
   "source": [
    "from libDL4NLP.modules import RecurrentEncoder"
   ]
  },
  {
   "cell_type": "markdown",
   "metadata": {},
   "source": [
    "### 1.3 Attention module\n",
    "\n",
    "[Back to top](#plan)\n",
    "\n",
    "<a id=\"attention\"></a>\n",
    "\n",
    "We use here a classical Attention Module :"
   ]
  },
  {
   "cell_type": "code",
   "execution_count": 74,
   "metadata": {},
   "outputs": [],
   "source": [
    "from libDL4NLP.modules import Attention"
   ]
  },
  {
   "cell_type": "markdown",
   "metadata": {},
   "source": [
    "### 1.4 Decoder module\n",
    "\n",
    "[Back to top](#plan)\n",
    "\n",
    "<a id=\"decoder\"></a>\n",
    "\n",
    "#### 1.4.1 Classical Decoder"
   ]
  },
  {
   "cell_type": "code",
   "execution_count": 17,
   "metadata": {},
   "outputs": [],
   "source": [
    "#from libDL4NLP.modules import Decoder"
   ]
  },
  {
   "cell_type": "code",
   "execution_count": 75,
   "metadata": {},
   "outputs": [],
   "source": [
    "class Decoder(nn.Module):\n",
    "    '''Transforms a vector into a sequence of words'''\n",
    "    def __init__(self, word2vec, hidden_dim, \n",
    "                 n_layers = 1,\n",
    "                 dropout = 0.1,\n",
    "                 bound = 25\n",
    "                ):\n",
    "        super(Decoder, self).__init__()\n",
    "        # relevant quantities\n",
    "        self.hidden_dim = hidden_dim\n",
    "        self.n_layers = n_layers\n",
    "        self.bound = bound\n",
    "        # modules\n",
    "        self.word2vec = word2vec\n",
    "        \n",
    "        self.gru = nn.GRU(\n",
    "            word2vec.output_dim,\n",
    "            hidden_dim, \n",
    "            n_layers, \n",
    "            dropout = dropout, \n",
    "            batch_first = True)\n",
    "        \n",
    "        self.out = nn.Linear(\n",
    "            hidden_dim, \n",
    "            word2vec.lang.n_words)\n",
    "        \n",
    "        self.dropout = nn.Dropout(dropout)\n",
    "    \n",
    "    def initWordTensor(self, index_list, device = None) :\n",
    "        word = torch.LongTensor(index_list).view(-1, 1)     # size (batch_size, 1)\n",
    "        word = Variable(word)                               # size (batch_size, 1)\n",
    "        if device is not None : word = word.to(device)      # size (batch_size, 1)\n",
    "        return word\n",
    "        \n",
    "    def generateWord(self, hidden, word):\n",
    "        '''word is a LongTensor with size (batch_size, 1)'''\n",
    "        embedding = self.word2vec.embedding(word)       # size (batch_size, 1, embedding_dim)\n",
    "        embedding = self.dropout(embedding)             # size (batch_size, 1, embedding_dim)\n",
    "        _, hidden = self.gru(embedding, hidden)         # size (n_layers, batch_size, embedding_dim)\n",
    "        vect      = self.out(hidden[-1])                # size (batch_size, lang_size)\n",
    "        return vect, hidden\n",
    "    \n",
    "    def forward(self, hidden, device = None) :\n",
    "        answer = []\n",
    "        EOS_token = self.word2vec.lang.getIndex('EOS')\n",
    "        SOS_token = self.word2vec.lang.getIndex('SOS')\n",
    "        word      = self.initWordTensor([SOS_token], device = device)\n",
    "        hidden    = hidden[-self.n_layers:]             # size (n_layers, 1, hidden_dim)\n",
    "        # word generation\n",
    "        for t in range(self.bound) :\n",
    "            # compute next word proba\n",
    "            vect, hidden = self.generateWord(hidden, word)\n",
    "            # compute next word index\n",
    "            word_index = vect.topk(1, dim = 1)[1].item()\n",
    "            # stopping criterion\n",
    "            if word_index == EOS_token : break\n",
    "            else : \n",
    "                answer.append(word_index)\n",
    "                word = vect.topk(1, dim = 1)[1].view(1, 1)\n",
    "        return answer"
   ]
  },
  {
   "cell_type": "markdown",
   "metadata": {},
   "source": [
    "#### 1.4.2 Attention Decoder"
   ]
  },
  {
   "cell_type": "code",
   "execution_count": 19,
   "metadata": {},
   "outputs": [],
   "source": [
    "#from libDL4NLP.modules import AttnDecoder"
   ]
  },
  {
   "cell_type": "code",
   "execution_count": 76,
   "metadata": {},
   "outputs": [],
   "source": [
    "class AttnDecoder(nn.Module):\n",
    "    '''Transforms a vector into a sequence of words'''\n",
    "    def __init__(self, word2vec, attention_dim, hidden_dim,\n",
    "                 n_layers = 1,\n",
    "                 dropout = 0.1,\n",
    "                 bound = 25\n",
    "                ):\n",
    "        super(AttnDecoder, self).__init__()\n",
    "        # relevant quantities\n",
    "        self.hidden_dim = hidden_dim\n",
    "        self.n_layers = n_layers\n",
    "        self.bound = bound\n",
    "        # modules\n",
    "        self.word2vec = word2vec\n",
    "        \n",
    "        self.gru = nn.GRU(\n",
    "            word2vec.output_dim,\n",
    "            hidden_dim, \n",
    "            n_layers, \n",
    "            dropout = dropout,\n",
    "            batch_first = True)\n",
    "        \n",
    "        self.attn = Attention(\n",
    "            attention_dim, \n",
    "            hidden_dim, \n",
    "            dropout = dropout)\n",
    "        \n",
    "        self.out  = nn.Linear(\n",
    "            attention_dim + hidden_dim, \n",
    "            word2vec.lang.n_words)\n",
    "        \n",
    "        self.dropout = nn.Dropout(dropout)\n",
    "    \n",
    "    def initWordTensor(self, index_list, device = None) :\n",
    "        word = torch.LongTensor(index_list).view(-1, 1)     # size (batch_size, 1)\n",
    "        word = Variable(word)                               # size (batch_size, 1)\n",
    "        if device is not None : word = word.to(device)      # size (batch_size, 1)\n",
    "        return word\n",
    "        \n",
    "    def generateWord(self, hidden, embeddings, word):\n",
    "        '''word is a LongTensor with size (batch_size, 1)'''\n",
    "        # update hidden state\n",
    "        embedding = self.word2vec.embedding(word)       # size (batch_size, 1, embedding_dim)\n",
    "        embedding = self.dropout(embedding)             # size (batch_size, 1, embedding_dim)\n",
    "        _, hidden = self.gru(embedding, hidden)         # size (n_layers, batch_size, embedding_dim)\n",
    "        # merge with attention\n",
    "        query = hidden[-1].unsqueeze(1)                 # size (batch_size, 1, embedding_dim)\n",
    "        query = query.expand(query.size(0), \n",
    "                             embeddings.size(1), \n",
    "                             query.size(2))             # size (batch_size, sequence_length, embedding_dim)\n",
    "        attn, weights = self.attn(embeddings, query)    # size (batch_size, 1, embedding_dim)\n",
    "        merge = torch.cat([hidden[-1], attn.squeeze(1)], dim = 1) \n",
    "        merge = self.dropout(merge)                     # size (batch_size, embedding_dim + hidden_dim)\n",
    "        # generate next word\n",
    "        vect = self.out(merge)                          # size (batch_size, lang_size)\n",
    "        return vect, hidden, weights\n",
    "    \n",
    "    def forward(self, hidden, embeddings, device = None) :\n",
    "        answer  = []\n",
    "        EOS_token = self.word2vec.lang.getIndex('EOS')\n",
    "        SOS_token = self.word2vec.lang.getIndex('SOS')\n",
    "        word      = self.initWordTensor([SOS_token], device = device)\n",
    "        hidden    = hidden[-self.n_layers:]             # size (n_layers, 1, hidden_dim)\n",
    "        # word generation\n",
    "        for t in range(self.bound) :\n",
    "            # compute next word proba\n",
    "            vect, hidden, attn = self.generateWord(hidden, embeddings, word)\n",
    "            # compute next word index\n",
    "            word_index = vect.topk(1, dim = 1)[1].item()\n",
    "            # stopping criterion\n",
    "            if word_index == EOS_token : break\n",
    "            else : \n",
    "                answer.append(word_index)\n",
    "                word = vect.topk(1, dim = 1)[1].view(1, 1)\n",
    "            # cumulate attention weights\n",
    "            if t == 0 : weights = attn\n",
    "            else      : weights = torch.cat((weights, attn), dim = 1) # size(1, output_length, input_length)\n",
    "        return answer, weights"
   ]
  },
  {
   "cell_type": "markdown",
   "metadata": {},
   "source": [
    "#### 1.4.3 Smooth Attention Decoder"
   ]
  },
  {
   "cell_type": "code",
   "execution_count": null,
   "metadata": {},
   "outputs": [],
   "source": [
    "#from libDL4NLP.modules import SmoothAttnDecoder"
   ]
  },
  {
   "cell_type": "code",
   "execution_count": 77,
   "metadata": {},
   "outputs": [],
   "source": [
    "class SmoothAttnDecoder(nn.Module):\n",
    "    '''Transforms a vector into a sequence of words'''\n",
    "    def __init__(self, word2vec, attention_dim, hidden_dim,\n",
    "                 n_layers = 1,\n",
    "                 dropout = 0.1,\n",
    "                 bound = 25\n",
    "                ):\n",
    "        super(SmoothAttnDecoder, self).__init__()\n",
    "        T = word2vec.embedding.weight.cpu().detach().numpy()\n",
    "        # relevant quantities\n",
    "        self.lang_size   = T.shape[0]\n",
    "        self.embedd_dim  = T.shape[1]\n",
    "        self.hidden_dim  = hidden_dim\n",
    "        self.n_layers    = n_layers\n",
    "        self.bound       = bound\n",
    "        self.temperature = 10\n",
    "        # embedding module\n",
    "        self.embedding = nn.Linear(self.lang_size, self.embedd_dim, bias = False)\n",
    "        self.embedding.weight = nn.Parameter(torch.FloatTensor(T.transpose()))\n",
    "        for param in self.embedding.parameters() : param.requires_grad = False\n",
    "        # other modules\n",
    "        self.word2vec = word2vec\n",
    "        self.gru = nn.GRU(self.embedd_dim, \n",
    "                          hidden_dim, \n",
    "                          n_layers, \n",
    "                          dropout = dropout, \n",
    "                          batch_first = True)\n",
    "        self.attn = Attention(attention_dim, hidden_dim, dropout = dropout)\n",
    "        self.out = nn.Linear(attention_dim + hidden_dim, self.lang_size)\n",
    "        self.act = F.log_softmax\n",
    "        self.dropout = nn.Dropout(dropout)\n",
    "\n",
    "    def initWordTensor(self, index_list, device = None) :\n",
    "        word = torch.zeros((len(index_list), self.lang_size), dtype = torch.float)\n",
    "        for i, index in enumerate(index_list) : word[i, index] = 1.\n",
    "        word = Variable(word)                               # size (batch_size, lang_size)\n",
    "        if device is not None : word = word.to(device)      # size (batch_size, lang_size)\n",
    "        return word\n",
    "        \n",
    "    def generateWord(self, hidden, embeddings, word):\n",
    "        '''word is a FloatTensor with size (batch_size, lang_size)'''\n",
    "        # update hidden state\n",
    "        embedding = self.embedding(word.unsqueeze(1))       # size (batch_size, 1, embedding_dim)\n",
    "        embedding = self.dropout(embedding)                 # size (batch_size, 1, embedding_dim)\n",
    "        _, hidden  = self.gru(embedding, hidden)            # size (n_layers, batch_size, embedding_dim)\n",
    "        # merge with attention\n",
    "        query = hidden[-1].unsqueeze(1)                     # size (batch_size, 1, embedding_dim)\n",
    "        query = query.expand(query.size(0), \n",
    "                             embeddings.size(1), \n",
    "                             query.size(2))                 # size (batch_size, sequence_length, embedding_dim)\n",
    "        attn, weights = self.attn(embeddings, query)        # size (batch_size, 1, embedding_dim)\n",
    "        merge = torch.cat([hidden[-1], attn.squeeze(1)], dim = 1) \n",
    "        merge = self.dropout(merge)                         # size (batch_size, embedding_dim + hidden_dim)\n",
    "        # generate next word\n",
    "        vect = self.out(merge) * self.temperature           # size (batch_size, lang_size)\n",
    "        return vect, hidden, weights\n",
    "    \n",
    "    def forward(self, hidden, embeddings, device = None) :\n",
    "        answer  = []\n",
    "        EOS_token = self.word2vec.lang.getIndex('EOS')\n",
    "        SOS_token = self.word2vec.lang.getIndex('SOS')\n",
    "        word      = self.initWordTensor([SOS_token], device = device) \n",
    "        hidden    = hidden[-self.n_layers:]                 # size (n_layers, 1, hidden_dim)\n",
    "        # word generation\n",
    "        for t in range(self.bound) :\n",
    "            # compute next word proba\n",
    "            vect, hidden, attn = self.generateWord(hidden, embeddings, word)\n",
    "            # compute next word index\n",
    "            word_index = vect.topk(1, dim = 1)[1].item()\n",
    "            # stopping criterion\n",
    "            if word_index == EOS_token : break\n",
    "            else : \n",
    "                answer.append(word_index)\n",
    "                word = F.softmax(vect, dim = 1)             # size (1, lang_size)\n",
    "            # cumulate attention weights\n",
    "            if t == 0 : weights = attn\n",
    "            else      : weights = torch.cat((weights, attn), dim = 1) # size(1, output_length, input_length)\n",
    "        return answer, weights"
   ]
  },
  {
   "cell_type": "markdown",
   "metadata": {},
   "source": [
    "#### Visualisation of attention\n",
    "\n",
    "Taken from [this page](https://matplotlib.org/3.1.1/gallery/images_contours_and_fields/image_annotated_heatmap.html#sphx-glr-gallery-images-contours-and-fields-image-annotated-heatmap-py)"
   ]
  },
  {
   "cell_type": "code",
   "execution_count": 78,
   "metadata": {},
   "outputs": [],
   "source": [
    "from libDL4NLP.utils import AttentionViewer, AttentionViewerOnWords"
   ]
  },
  {
   "cell_type": "markdown",
   "metadata": {},
   "source": [
    "<a id=\"model\"></a>"
   ]
  },
  {
   "cell_type": "markdown",
   "metadata": {},
   "source": [
    "# 2 Encoder-Decoder Model\n",
    "\n",
    "[Back to top](#plan)\n"
   ]
  },
  {
   "cell_type": "code",
   "execution_count": null,
   "metadata": {},
   "outputs": [],
   "source": [
    "#from libDL4NLP.models import EncoderDecoder"
   ]
  },
  {
   "cell_type": "code",
   "execution_count": 79,
   "metadata": {},
   "outputs": [],
   "source": [
    "class EncoderDecoder(nn.Module) :\n",
    "    def __init__(self, device, tokenizer, word2vec_in, word2vec_out, \n",
    "                 hidden_dim_in = 50,\n",
    "                 hidden_dim_out = 50,\n",
    "                 n_layers_in = 1,\n",
    "                 n_layers_out = 1,\n",
    "                 bound = 25,\n",
    "                 dropout = 0,\n",
    "                 decoder_warm_start = True,\n",
    "                 decoder_type = None,\n",
    "                 optimizer = optim.SGD\n",
    "                 ):\n",
    "        super(EncoderDecoder, self).__init__()\n",
    "        #relevant quantities\n",
    "        self.decoder_warm_start = decoder_warm_start\n",
    "        self.decoder_type = decoder_type\n",
    "        # modules\n",
    "        self.tokenizer    = tokenizer\n",
    "        self.word2vec_in  = word2vec_in\n",
    "        self.word2vec_out = word2vec_out\n",
    "        \n",
    "        self.context      = RecurrentEncoder(\n",
    "            embedding_dim = word2vec_in.output_dim,\n",
    "            hidden_dim    = hidden_dim_in,\n",
    "            n_layers      = n_layers_in,\n",
    "            dropout       = dropout, \n",
    "            bidirectional = True)\n",
    "\n",
    "        if self.decoder_type == 'smooth' : \n",
    "            self.decoder      = SmoothAttnDecoder(\n",
    "                word2vec      = word2vec_out, \n",
    "                attention_dim = hidden_dim_in, \n",
    "                hidden_dim    = hidden_dim_out, \n",
    "                n_layers      = n_layers_out, \n",
    "                dropout       = dropout, \n",
    "                bound         = bound)\n",
    "            \n",
    "        elif self.decoder_type == 'attention' : \n",
    "            self.decoder = AttnDecoder(\n",
    "                word2vec      = word2vec_out, \n",
    "                attention_dim = hidden_dim_in, \n",
    "                hidden_dim    = hidden_dim_out, \n",
    "                n_layers      = n_layers_out, \n",
    "                dropout       = dropout, \n",
    "                bound         = bound)\n",
    "            \n",
    "        else : \n",
    "            self.decoder = Decoder(\n",
    "                word2vec    = word2vec_out,  \n",
    "                hidden_dim  = hidden_dim_out, \n",
    "                n_layers    = n_layers_out, \n",
    "                dropout     = dropout, \n",
    "                bound       = bound)\n",
    "        \n",
    "        # optimizer\n",
    "        self.ignore_index_in  = self.word2vec_in.lang.getIndex('PADDING_WORD')\n",
    "        self.ignore_index_out = self.word2vec_out.lang.getIndex('PADDING_WORD')\n",
    "        self.criterion = nn.NLLLoss(size_average = False, ignore_index = self.ignore_index_out)\n",
    "        self.optimizer = optimizer\n",
    "        \n",
    "        # load to device\n",
    "        self.device = device\n",
    "        self.to(device)\n",
    "        \n",
    "    def nbParametres(self) :\n",
    "        return sum([p.data.nelement() for p in self.parameters() if p.requires_grad == True])\n",
    "    \n",
    "    # main method\n",
    "    def forward(self, sentence, attention_method = None):\n",
    "        # encode sentence\n",
    "        words = self.tokenizer(sentence)\n",
    "        words = [w for w in words if self.word2vec_in.lang.getIndex(w) is not None]\n",
    "        indices = [self.word2vec_in.lang.getIndex(w) for w in words]\n",
    "        embeddings = Variable(torch.LongTensor([indices])).to(self.device)\n",
    "        embeddings = self.word2vec_in.embedding(embeddings)\n",
    "        #embeddings = self.word2vec_in(words, self.device)\n",
    "        embeddings, hidden  = self.context(embeddings)\n",
    "        # prepare for decoding\n",
    "        if self.decoder_warm_start :\n",
    "            if self.context.bidirectional :\n",
    "                hidden = hidden.view(self.context.n_layers, 2, -1, self.context.hidden_dim)\n",
    "                hidden = torch.sum(hidden, dim = 1) # size (n_layers, batch_size, hidden_dim)\n",
    "            hidden = hidden[-self.decoder.n_layers:]\n",
    "        else : hidden = None    \n",
    "        # compute answer\n",
    "        if self.decoder_type in ['smooth', 'attention'] : \n",
    "            indices, attn = self.decoder(hidden, embeddings, self.device)\n",
    "            words_out = [self.word2vec_out.lang.index2word[i] for i in indices]\n",
    "            # display attention\n",
    "            if attention_method is not None : \n",
    "                attn = np.array(attn[0].data.cpu().numpy()) # size (input_length, output_length)\n",
    "                attention_method(attn, words_out, words)\n",
    "        else :\n",
    "            indices   = self.decoder(hidden, self.device)\n",
    "            words_out = [self.word2vec_out.lang.index2word[i] for i in indices]\n",
    "        # convert answer to string\n",
    "        answer = ' '.join(words_out)\n",
    "        return answer\n",
    "\n",
    "    # load data\n",
    "    def generatePackedSentences(self, sentences, batch_size = 32) : \n",
    "        '''forms minibatches of sentences, where input sentences must be pre-tokenized'''\n",
    "        sentences.sort(key = lambda s: len(s[1]), reverse = True)\n",
    "        packed_data = []\n",
    "        for i in range(0, len(sentences), batch_size) :\n",
    "            # prepare input and target pack\n",
    "            pack = sentences[i:i + batch_size]\n",
    "            pack.sort(key = lambda s: len(s[0]), reverse = True)\n",
    "            pack0 = [[self.word2vec_in.lang.getIndex(w) for w in qa[0]] for qa in pack]\n",
    "            pack0 = [[w for w in words if w is not None] for words in pack0]\n",
    "            pack1 = [[self.word2vec_out.lang.getIndex(w) for w in qa[1] + ['EOS']] for qa in pack]\n",
    "            pack1 = [[w for w in words if w is not None] for words in pack1]\n",
    "            lengths0 = torch.tensor([len(p) for p in pack0])           # size (batch_size) \n",
    "            lengths1 = torch.tensor([len(p) for p in pack1])           # size (batch_size) \n",
    "            # padd packs\n",
    "            pack0 = list(itertools.zip_longest(*pack0, fillvalue = self.ignore_index_in))\n",
    "            pack0 = Variable(torch.LongTensor(pack0).transpose(0, 1)) # size (batch_size, max_length0) \n",
    "            pack1 = list(itertools.zip_longest(*pack1, fillvalue = self.ignore_index_out))\n",
    "            pack1 = Variable(torch.LongTensor(pack1))       # WARNING : size (max_length1, batch_size) \n",
    "            packed_data.append([pack0, lengths0, pack1, lengths1])\n",
    "        return packed_data\n",
    "    \n",
    "    # compute model perf\n",
    "    def compute_accuracy(self, sentences, batch_size = 32) :\n",
    "        def compute_batch_accuracy(batch) :\n",
    "            torch.cuda.empty_cache()\n",
    "            input, input_l, target, target_l = batch\n",
    "            target = target.to(self.device)\n",
    "            # encode sentences\n",
    "            embeddings = self.word2vec_in.embedding(input.to(self.device))\n",
    "            embeddings, hidden = self.context(embeddings, lengths = input_l.to(self.device)) # size (n_layers * num_directions, batch_size, hidden_dim)\n",
    "            # prepare for decoding\n",
    "            if self.decoder_warm_start :\n",
    "                if self.context.bidirectional :\n",
    "                    hidden = hidden.view(self.context.n_layers, 2, -1, self.context.hidden_dim)\n",
    "                    hidden = torch.sum(hidden, dim = 1) # size (n_layers, batch_size, hidden_dim)\n",
    "                hidden = hidden[-self.decoder.n_layers:]\n",
    "            else : hidden = None  \n",
    "            # compute answers\n",
    "            answers   = torch.zeros(target.size(), dtype = torch.long)\n",
    "            SOS_token = self.word2vec_out.lang.getIndex('SOS')\n",
    "            word      = self.decoder.initWordTensor([SOS_token]*target.size(1), device = self.device) \n",
    "            # word generation\n",
    "            for t in range(target.size(0)) :\n",
    "                # compute word probs\n",
    "                if self.decoder_type == 'smooth' :\n",
    "                    vect, hidden, attn = self.decoder.generateWord(hidden, embeddings, word)\n",
    "                    word = F.softmax(vect, dim = 1)   # size (batch_size, lang_size)\n",
    "                    best = vect.topk(1, dim = 1)[1]   # size (batch_size, 1)\n",
    "                elif self.decoder_type == 'attention' :\n",
    "                    vect, hidden, attn = self.decoder.generateWord(hidden, embeddings, word)\n",
    "                    word = vect.topk(1, dim = 1)[1]   # size (batch_size, 1)\n",
    "                    best = word                       # size (batch_size, 1)\n",
    "                else :\n",
    "                    vect, hidden = self.decoder.generateWord(hidden, word)\n",
    "                    word = vect.topk(1, dim = 1)[1]   # size (batch_size, 1)\n",
    "                    best = word                       # size (batch_size, 1)\n",
    "                answers[t] = best.view(-1)\n",
    "            # compute score\n",
    "            score = sum([sum(answers[:l, i].data.cpu() == target[:l, i].data.cpu()) == l \n",
    "                          for i, l in enumerate(target_l.data.cpu().tolist())]).item()\n",
    "            return score\n",
    "        \n",
    "        # -- main --\n",
    "        batches = self.generatePackedSentences(sentences, batch_size)\n",
    "        score = 0\n",
    "        for batch in batches : score += compute_batch_accuracy(batch)\n",
    "        return score * 100 / len(sentences)\n",
    "    \n",
    "    # fit model\n",
    "    def fit(self, batches, iters = None, epochs = None, tf_ratio = 0, lr = 0.025, random_state = 42,\n",
    "              print_every = 10, compute_accuracy = True):\n",
    "        \"\"\"Performs training over a given dataset and along a specified amount of loops\"\"\"\n",
    "        def asMinutes(s):\n",
    "            m = math.floor(s / 60)\n",
    "            s -= m * 60\n",
    "            return '%dm %ds' % (m, s)\n",
    "\n",
    "        def timeSince(since, percent):\n",
    "            now = time.time()\n",
    "            s = now - since\n",
    "            rs = s/percent - s\n",
    "            return '%s (- %s)' % (asMinutes(s), asMinutes(rs))\n",
    "        \n",
    "        def computeSuccess(log_prob, targets) :\n",
    "            success = sum([self.ignore_index_out != targets[i].item() == log_prob[i].topk(1)[1].item() \\\n",
    "                           for i in range(targets.size(0))])\n",
    "            return success\n",
    "        \n",
    "        def computeLogProbs(batch, tf_ratio = 0, compute_accuracy = True) :\n",
    "            torch.cuda.empty_cache()\n",
    "            loss = 0\n",
    "            success = 0\n",
    "            forcing = (random.random() < tf_ratio)\n",
    "            input, input_l, target, target_l = batch\n",
    "            target = target.to(self.device)\n",
    "            # encode sentences\n",
    "            embeddings = self.word2vec_in.embedding(input.to(self.device))\n",
    "            embeddings, hidden  = self.context(embeddings, lengths = input_l.to(self.device)) # size (n_layers * num_directions, batch_size, hidden_dim)\n",
    "            # prepare for decoding\n",
    "            if self.decoder_warm_start :\n",
    "                if self.context.bidirectional :\n",
    "                    hidden = hidden.view(self.context.n_layers, 2, -1, self.context.hidden_dim)\n",
    "                    hidden = torch.sum(hidden, dim = 1) # size (n_layers, batch_size, hidden_dim)\n",
    "                hidden = hidden[-self.decoder.n_layers:]\n",
    "            else : hidden = None  \n",
    "            # compute answers\n",
    "            SOS_token = self.word2vec_out.lang.getIndex('SOS')\n",
    "            word      = self.decoder.initWordTensor([SOS_token]*target.size(1), device = self.device) \n",
    "            for t in range(target.size(0)) :\n",
    "                if self.decoder_type == 'smooth' :\n",
    "                    vect, hidden, attn = self.decoder.generateWord(hidden, embeddings, word)\n",
    "                    # apply teacher forcing\n",
    "                    if forcing : word = self.decoder.initWordTensor(target[t].data.tolist(), device = self.device) # size (batch_size, 1) \n",
    "                    else       : word = F.softmax(vect, dim = 1) # size (batch_size, lang_size)\n",
    "                    \n",
    "                elif self.decoder_type == 'attention' :\n",
    "                    vect, hidden, attn = self.decoder.generateWord(hidden, embeddings, word)\n",
    "                    # apply teacher forcing\n",
    "                    if forcing : word = target[t].view(-1, 1)    # size (batch_size, 1) \n",
    "                    else       : word = vect.topk(1, dim = 1)[1] # size (batch_size, 1)\n",
    "                        \n",
    "                else :\n",
    "                    vect, hidden = self.decoder.generateWord(hidden, word)\n",
    "                    # apply teacher forcing\n",
    "                    if forcing : word = target[t].view(-1, 1)    # size (batch_size, 1) \n",
    "                    else       : word = vect.topk(1, dim = 1)[1] # size (batch_size, 1)\n",
    "                \n",
    "                # compute loss\n",
    "                log_prob = F.log_softmax(vect, dim = 1)\n",
    "                loss    += self.criterion(log_prob, target[t])\n",
    "                if compute_accuracy : success += computeSuccess(log_prob, target[t])\n",
    "            return loss, success\n",
    "\n",
    "        def printScores(start, iter, iters, tot_loss, tot_loss_words, print_every, compute_accuracy) :\n",
    "            avg_loss = tot_loss / print_every\n",
    "            avg_loss_words = tot_loss_words / print_every\n",
    "            if compute_accuracy : print(timeSince(start, iter / iters) + ' ({} {}%) loss : {:.3f}  accuracy : {:.1f} %'.format(iter, int(iter / iters * 100), avg_loss, avg_loss_words))\n",
    "            else                : print(timeSince(start, iter / iters) + ' ({} {}%) loss : {:.3f}                     '.format(iter, int(iter / iters * 100), avg_loss))\n",
    "            return 0, 0\n",
    "\n",
    "        def trainLoop(batch, optimizer, tf_ratio = 0, compute_accuracy = True):\n",
    "            \"\"\"Performs a training loop, with forward pass, backward pass and weight update\"\"\"\n",
    "            optimizer.zero_grad()\n",
    "            self.zero_grad()\n",
    "            total = torch.sum(batch[-1]).item()\n",
    "            loss, success = computeLogProbs(batch, tf_ratio, compute_accuracy)\n",
    "            loss.backward()\n",
    "            optimizer.step()\n",
    "            return float(loss.item() / total), float(success * 100 / total)\n",
    "        \n",
    "        # --- main ---\n",
    "        self.train()\n",
    "        np.random.seed(random_state)\n",
    "        start = time.time()\n",
    "        optimizer = self.optimizer([param for param in self.parameters() if param.requires_grad == True], lr = lr)\n",
    "        tot_loss = 0  \n",
    "        tot_acc  = 0\n",
    "        if epochs is None :\n",
    "            for iter in range(1, iters + 1):\n",
    "                batch = random.choice(batches)\n",
    "                loss, acc = trainLoop(batch, optimizer, tf_ratio, compute_accuracy)\n",
    "                tot_loss += loss\n",
    "                tot_acc += acc      \n",
    "                if iter % print_every == 0 : \n",
    "                    tot_loss, tot_acc = printScores(start, iter, iters, tot_loss, tot_acc, print_every, compute_accuracy)\n",
    "        else :\n",
    "            iter = 0\n",
    "            iters = len(batches) * epochs\n",
    "            for epoch in range(1, epochs + 1):\n",
    "                print('epoch ' + str(epoch))\n",
    "                np.random.shuffle(batches)\n",
    "                for batch in batches :\n",
    "                    loss, acc = trainLoop(batch, optimizer, tf_ratio, compute_accuracy)\n",
    "                    tot_loss += loss\n",
    "                    tot_acc += acc \n",
    "                    iter += 1\n",
    "                    if iter % print_every == 0 : \n",
    "                        tot_loss, tot_acc = printScores(start, iter, iters, tot_loss, tot_acc, print_every, compute_accuracy)\n",
    "        return"
   ]
  },
  {
   "cell_type": "markdown",
   "metadata": {},
   "source": [
    "#### Training"
   ]
  },
  {
   "cell_type": "code",
   "execution_count": 80,
   "metadata": {
    "scrolled": true
   },
   "outputs": [
    {
     "data": {
      "text/plain": [
       "13364921"
      ]
     },
     "execution_count": 80,
     "metadata": {},
     "output_type": "execute_result"
    }
   ],
   "source": [
    "translator_en_fr = EncoderDecoder(device = torch.device(\"cpu\"),\n",
    "                                  tokenizer = tokenize,\n",
    "                                  word2vec_in = Word2VecConnector(word2vec_en),\n",
    "                                  word2vec_out = Word2VecConnector(word2vec_fr),\n",
    "                                  hidden_dim_in = 200,\n",
    "                                  hidden_dim_out = 200,\n",
    "                                  n_layers_in = 2,\n",
    "                                  n_layers_out = 2,\n",
    "                                  bound = 25,\n",
    "                                  dropout = 0.1,\n",
    "                                  decoder_warm_start = True,\n",
    "                                  decoder_type = 'attention',\n",
    "                                  optimizer = optim.AdamW)\n",
    "\n",
    "translator_en_fr.nbParametres()"
   ]
  },
  {
   "cell_type": "code",
   "execution_count": 86,
   "metadata": {},
   "outputs": [
    {
     "data": {
      "text/plain": [
       "6250"
      ]
     },
     "execution_count": 86,
     "metadata": {},
     "output_type": "execute_result"
    }
   ],
   "source": [
    "batches = translator_en_fr.generatePackedSentences(en_fr_xs_1, batch_size = 32)\n",
    "len(batches)"
   ]
  },
  {
   "cell_type": "code",
   "execution_count": 114,
   "metadata": {
    "scrolled": true
   },
   "outputs": [
    {
     "name": "stdout",
     "output_type": "stream",
     "text": [
      "epoch 1\n",
      "0m 51s (- 211m 49s) (25 0%) loss : 3.603  accuracy : 38.3 %\n",
      "1m 42s (- 211m 53s) (50 0%) loss : 3.375  accuracy : 42.2 %\n",
      "2m 42s (- 223m 34s) (75 1%) loss : 3.839  accuracy : 34.5 %\n",
      "3m 42s (- 228m 10s) (100 1%) loss : 3.584  accuracy : 38.5 %\n",
      "4m 41s (- 229m 40s) (125 2%) loss : 3.606  accuracy : 38.6 %\n",
      "5m 38s (- 229m 16s) (150 2%) loss : 3.491  accuracy : 40.1 %\n",
      "6m 40s (- 231m 31s) (175 2%) loss : 3.615  accuracy : 37.7 %\n",
      "7m 42s (- 233m 13s) (200 3%) loss : 3.426  accuracy : 42.0 %\n",
      "8m 36s (- 230m 30s) (225 3%) loss : 3.434  accuracy : 41.0 %\n",
      "9m 31s (- 228m 28s) (250 4%) loss : 3.707  accuracy : 37.0 %\n",
      "10m 35s (- 230m 1s) (275 4%) loss : 4.044  accuracy : 30.9 %\n",
      "11m 30s (- 228m 14s) (300 4%) loss : 3.743  accuracy : 36.5 %\n",
      "12m 31s (- 228m 19s) (325 5%) loss : 3.691  accuracy : 36.5 %\n",
      "13m 21s (- 225m 7s) (350 5%) loss : 3.388  accuracy : 41.2 %\n",
      "14m 18s (- 224m 17s) (375 6%) loss : 3.804  accuracy : 35.4 %\n",
      "15m 18s (- 223m 49s) (400 6%) loss : 3.547  accuracy : 39.4 %\n",
      "16m 15s (- 222m 45s) (425 6%) loss : 3.622  accuracy : 38.9 %\n",
      "17m 15s (- 222m 26s) (450 7%) loss : 3.436  accuracy : 40.4 %\n",
      "18m 17s (- 222m 21s) (475 7%) loss : 3.799  accuracy : 36.6 %\n",
      "19m 17s (- 221m 56s) (500 8%) loss : 3.451  accuracy : 40.7 %\n",
      "20m 18s (- 221m 30s) (525 8%) loss : 3.895  accuracy : 34.2 %\n",
      "21m 16s (- 220m 30s) (550 8%) loss : 4.000  accuracy : 32.3 %\n",
      "22m 15s (- 219m 38s) (575 9%) loss : 3.677  accuracy : 37.9 %\n",
      "23m 20s (- 219m 47s) (600 9%) loss : 3.636  accuracy : 38.0 %\n",
      "24m 13s (- 218m 1s) (625 10%) loss : 3.760  accuracy : 36.6 %\n",
      "25m 13s (- 217m 20s) (650 10%) loss : 3.957  accuracy : 32.7 %\n",
      "26m 13s (- 216m 33s) (675 10%) loss : 4.000  accuracy : 31.9 %\n",
      "27m 18s (- 216m 28s) (700 11%) loss : 3.357  accuracy : 42.0 %\n",
      "28m 6s (- 214m 14s) (725 11%) loss : 3.170  accuracy : 45.0 %\n",
      "29m 5s (- 213m 19s) (750 12%) loss : 3.453  accuracy : 41.4 %\n",
      "30m 6s (- 212m 42s) (775 12%) loss : 3.584  accuracy : 37.8 %\n",
      "31m 5s (- 211m 48s) (800 12%) loss : 3.580  accuracy : 39.1 %\n",
      "32m 7s (- 211m 17s) (825 13%) loss : 4.034  accuracy : 31.7 %\n",
      "33m 8s (- 210m 30s) (850 13%) loss : 3.841  accuracy : 35.2 %\n",
      "34m 9s (- 209m 50s) (875 14%) loss : 3.886  accuracy : 34.1 %\n",
      "34m 58s (- 207m 54s) (900 14%) loss : 3.722  accuracy : 36.6 %\n",
      "35m 57s (- 206m 58s) (925 14%) loss : 3.864  accuracy : 33.3 %\n",
      "36m 49s (- 205m 25s) (950 15%) loss : 3.753  accuracy : 36.6 %\n",
      "37m 50s (- 204m 44s) (975 15%) loss : 3.800  accuracy : 34.9 %\n",
      "38m 42s (- 203m 14s) (1000 16%) loss : 3.587  accuracy : 38.4 %\n",
      "39m 42s (- 202m 23s) (1025 16%) loss : 4.086  accuracy : 28.9 %\n",
      "40m 40s (- 201m 28s) (1050 16%) loss : 3.414  accuracy : 41.2 %\n",
      "41m 33s (- 200m 5s) (1075 17%) loss : 3.595  accuracy : 39.0 %\n",
      "42m 34s (- 199m 17s) (1100 17%) loss : 3.931  accuracy : 33.0 %\n",
      "43m 31s (- 198m 18s) (1125 18%) loss : 3.853  accuracy : 34.4 %\n",
      "44m 24s (- 196m 55s) (1150 18%) loss : 3.696  accuracy : 36.7 %\n",
      "45m 22s (- 196m 0s) (1175 18%) loss : 3.597  accuracy : 38.9 %\n",
      "46m 22s (- 195m 7s) (1200 19%) loss : 3.652  accuracy : 36.6 %\n",
      "47m 23s (- 194m 22s) (1225 19%) loss : 3.597  accuracy : 38.4 %\n",
      "48m 19s (- 193m 17s) (1250 20%) loss : 4.098  accuracy : 30.2 %\n",
      "49m 14s (- 192m 10s) (1275 20%) loss : 3.761  accuracy : 36.1 %\n",
      "50m 10s (- 191m 2s) (1300 20%) loss : 3.610  accuracy : 38.1 %\n",
      "51m 6s (- 189m 58s) (1325 21%) loss : 3.097  accuracy : 46.3 %\n",
      "52m 13s (- 189m 33s) (1350 21%) loss : 4.095  accuracy : 30.8 %\n",
      "53m 13s (- 188m 42s) (1375 22%) loss : 3.790  accuracy : 35.7 %\n",
      "54m 14s (- 187m 53s) (1400 22%) loss : 3.733  accuracy : 36.9 %\n",
      "55m 8s (- 186m 41s) (1425 22%) loss : 3.495  accuracy : 39.6 %\n",
      "56m 10s (- 185m 55s) (1450 23%) loss : 3.245  accuracy : 43.2 %\n",
      "57m 7s (- 184m 54s) (1475 23%) loss : 3.489  accuracy : 39.1 %\n",
      "57m 59s (- 183m 38s) (1500 24%) loss : 3.566  accuracy : 38.3 %\n",
      "59m 1s (- 182m 51s) (1525 24%) loss : 3.684  accuracy : 36.8 %\n",
      "59m 59s (- 181m 54s) (1550 24%) loss : 3.736  accuracy : 37.0 %\n",
      "60m 48s (- 180m 28s) (1575 25%) loss : 3.493  accuracy : 38.8 %\n",
      "61m 44s (- 179m 26s) (1600 25%) loss : 3.552  accuracy : 38.8 %\n",
      "62m 34s (- 178m 6s) (1625 26%) loss : 3.349  accuracy : 43.1 %\n",
      "63m 32s (- 177m 7s) (1650 26%) loss : 3.738  accuracy : 37.0 %\n",
      "64m 31s (- 176m 14s) (1675 26%) loss : 4.068  accuracy : 31.2 %\n",
      "65m 27s (- 175m 10s) (1700 27%) loss : 4.033  accuracy : 32.0 %\n",
      "66m 30s (- 174m 28s) (1725 27%) loss : 3.482  accuracy : 40.6 %\n",
      "67m 35s (- 173m 47s) (1750 28%) loss : 3.546  accuracy : 38.2 %\n",
      "68m 30s (- 172m 43s) (1775 28%) loss : 3.540  accuracy : 39.5 %\n",
      "69m 26s (- 171m 41s) (1800 28%) loss : 3.348  accuracy : 42.2 %\n",
      "70m 31s (- 170m 58s) (1825 29%) loss : 3.848  accuracy : 35.0 %\n",
      "71m 20s (- 169m 41s) (1850 29%) loss : 3.633  accuracy : 38.4 %\n",
      "72m 17s (- 168m 40s) (1875 30%) loss : 3.768  accuracy : 36.7 %\n",
      "73m 10s (- 167m 32s) (1900 30%) loss : 4.005  accuracy : 31.3 %\n",
      "74m 9s (- 166m 37s) (1925 30%) loss : 3.720  accuracy : 35.9 %\n",
      "75m 7s (- 165m 39s) (1950 31%) loss : 3.461  accuracy : 40.5 %\n",
      "76m 10s (- 164m 52s) (1975 31%) loss : 3.402  accuracy : 42.6 %\n",
      "77m 4s (- 163m 46s) (2000 32%) loss : 3.616  accuracy : 38.9 %\n",
      "77m 56s (- 162m 38s) (2025 32%) loss : 3.357  accuracy : 42.3 %\n",
      "78m 58s (- 161m 47s) (2050 32%) loss : 3.745  accuracy : 36.8 %\n",
      "79m 48s (- 160m 35s) (2075 33%) loss : 3.539  accuracy : 39.2 %\n",
      "80m 44s (- 159m 34s) (2100 33%) loss : 3.651  accuracy : 38.0 %\n",
      "81m 38s (- 158m 28s) (2125 34%) loss : 3.806  accuracy : 34.4 %\n",
      "82m 41s (- 157m 41s) (2150 34%) loss : 3.724  accuracy : 36.2 %\n",
      "83m 42s (- 156m 49s) (2175 34%) loss : 3.761  accuracy : 36.0 %\n",
      "84m 38s (- 155m 49s) (2200 35%) loss : 3.450  accuracy : 40.7 %\n",
      "85m 35s (- 154m 49s) (2225 35%) loss : 3.598  accuracy : 38.9 %\n",
      "86m 32s (- 153m 51s) (2250 36%) loss : 3.623  accuracy : 38.4 %\n",
      "87m 25s (- 152m 45s) (2275 36%) loss : 3.627  accuracy : 37.0 %\n",
      "88m 19s (- 151m 41s) (2300 36%) loss : 3.268  accuracy : 43.7 %\n",
      "89m 17s (- 150m 44s) (2325 37%) loss : 3.835  accuracy : 35.5 %\n",
      "90m 21s (- 149m 57s) (2350 37%) loss : 3.835  accuracy : 34.5 %\n",
      "91m 18s (- 148m 58s) (2375 38%) loss : 3.729  accuracy : 36.3 %\n",
      "92m 12s (- 147m 54s) (2400 38%) loss : 3.358  accuracy : 42.8 %\n",
      "93m 6s (- 146m 51s) (2425 38%) loss : 3.874  accuracy : 34.1 %\n",
      "94m 3s (- 145m 53s) (2450 39%) loss : 3.493  accuracy : 39.6 %\n",
      "95m 0s (- 144m 55s) (2475 39%) loss : 3.897  accuracy : 32.9 %\n",
      "95m 55s (- 143m 52s) (2500 40%) loss : 3.633  accuracy : 37.3 %\n",
      "96m 51s (- 142m 52s) (2525 40%) loss : 3.952  accuracy : 31.9 %\n",
      "97m 46s (- 141m 51s) (2550 40%) loss : 3.669  accuracy : 38.2 %\n",
      "98m 44s (- 140m 56s) (2575 41%) loss : 4.282  accuracy : 27.5 %\n",
      "99m 35s (- 139m 48s) (2600 41%) loss : 3.585  accuracy : 38.5 %\n",
      "100m 23s (- 138m 38s) (2625 42%) loss : 2.963  accuracy : 49.1 %\n",
      "101m 17s (- 137m 36s) (2650 42%) loss : 3.622  accuracy : 38.1 %\n",
      "102m 6s (- 136m 27s) (2675 42%) loss : 3.310  accuracy : 42.9 %\n",
      "102m 56s (- 135m 21s) (2700 43%) loss : 3.304  accuracy : 42.9 %\n",
      "103m 52s (- 134m 21s) (2725 43%) loss : 3.888  accuracy : 34.4 %\n",
      "104m 43s (- 133m 16s) (2750 44%) loss : 3.639  accuracy : 38.2 %\n",
      "105m 36s (- 132m 14s) (2775 44%) loss : 3.724  accuracy : 36.8 %\n",
      "106m 24s (- 131m 6s) (2800 44%) loss : 3.344  accuracy : 43.5 %\n",
      "107m 17s (- 130m 4s) (2825 45%) loss : 3.699  accuracy : 37.2 %\n",
      "108m 13s (- 129m 7s) (2850 45%) loss : 3.561  accuracy : 39.1 %\n",
      "109m 13s (- 128m 13s) (2875 46%) loss : 3.695  accuracy : 37.2 %\n",
      "110m 2s (- 127m 7s) (2900 46%) loss : 3.736  accuracy : 36.8 %\n",
      "110m 52s (- 126m 2s) (2925 46%) loss : 3.534  accuracy : 38.9 %\n",
      "111m 49s (- 125m 5s) (2950 47%) loss : 3.615  accuracy : 38.2 %\n",
      "112m 43s (- 124m 5s) (2975 47%) loss : 3.475  accuracy : 41.5 %\n",
      "113m 36s (- 123m 4s) (3000 48%) loss : 3.860  accuracy : 34.3 %\n",
      "114m 26s (- 122m 0s) (3025 48%) loss : 3.554  accuracy : 39.0 %\n",
      "115m 17s (- 120m 57s) (3050 48%) loss : 3.783  accuracy : 35.5 %\n",
      "116m 11s (- 119m 58s) (3075 49%) loss : 3.654  accuracy : 37.0 %\n",
      "117m 8s (- 119m 2s) (3100 49%) loss : 3.488  accuracy : 40.4 %\n",
      "118m 3s (- 118m 3s) (3125 50%) loss : 3.648  accuracy : 37.3 %\n",
      "119m 1s (- 117m 8s) (3150 50%) loss : 3.581  accuracy : 38.0 %\n",
      "120m 0s (- 116m 13s) (3175 50%) loss : 3.702  accuracy : 36.4 %\n",
      "121m 3s (- 115m 22s) (3200 51%) loss : 3.769  accuracy : 36.3 %\n",
      "121m 59s (- 114m 26s) (3225 51%) loss : 3.820  accuracy : 35.5 %\n",
      "122m 56s (- 113m 28s) (3250 52%) loss : 3.545  accuracy : 39.6 %\n"
     ]
    },
    {
     "name": "stdout",
     "output_type": "stream",
     "text": [
      "123m 46s (- 112m 25s) (3275 52%) loss : 3.514  accuracy : 40.4 %\n",
      "124m 42s (- 111m 29s) (3300 52%) loss : 3.751  accuracy : 35.9 %\n",
      "125m 45s (- 110m 37s) (3325 53%) loss : 3.967  accuracy : 32.6 %\n",
      "126m 46s (- 109m 45s) (3350 53%) loss : 3.674  accuracy : 36.6 %\n",
      "127m 45s (- 108m 50s) (3375 54%) loss : 4.069  accuracy : 31.0 %\n",
      "128m 47s (- 107m 57s) (3400 54%) loss : 3.910  accuracy : 33.9 %\n",
      "129m 35s (- 106m 53s) (3425 54%) loss : 3.490  accuracy : 40.3 %\n",
      "130m 29s (- 105m 54s) (3450 55%) loss : 3.575  accuracy : 38.1 %\n",
      "131m 23s (- 104m 55s) (3475 55%) loss : 3.427  accuracy : 40.9 %\n",
      "132m 11s (- 103m 51s) (3500 56%) loss : 3.285  accuracy : 44.6 %\n",
      "133m 2s (- 102m 50s) (3525 56%) loss : 3.652  accuracy : 37.7 %\n",
      "133m 52s (- 101m 49s) (3550 56%) loss : 3.531  accuracy : 39.3 %\n",
      "134m 46s (- 100m 50s) (3575 57%) loss : 3.563  accuracy : 39.5 %\n",
      "135m 47s (- 99m 57s) (3600 57%) loss : 3.649  accuracy : 37.4 %\n",
      "136m 37s (- 98m 55s) (3625 57%) loss : 3.424  accuracy : 41.8 %\n",
      "137m 30s (- 97m 56s) (3650 58%) loss : 3.520  accuracy : 40.1 %\n",
      "138m 22s (- 96m 57s) (3675 58%) loss : 3.991  accuracy : 32.2 %\n",
      "139m 9s (- 95m 54s) (3700 59%) loss : 3.828  accuracy : 34.0 %\n",
      "140m 0s (- 94m 54s) (3725 59%) loss : 3.887  accuracy : 33.4 %\n",
      "140m 53s (- 93m 55s) (3750 60%) loss : 3.701  accuracy : 36.4 %\n",
      "141m 41s (- 92m 53s) (3775 60%) loss : 3.476  accuracy : 40.1 %\n",
      "142m 40s (- 91m 59s) (3800 60%) loss : 4.006  accuracy : 30.6 %\n",
      "143m 30s (- 90m 59s) (3825 61%) loss : 3.298  accuracy : 42.1 %\n",
      "144m 25s (- 90m 2s) (3850 61%) loss : 3.364  accuracy : 42.1 %\n",
      "145m 17s (- 89m 3s) (3875 62%) loss : 3.866  accuracy : 33.4 %\n",
      "146m 16s (- 88m 8s) (3900 62%) loss : 3.508  accuracy : 40.1 %\n",
      "147m 9s (- 87m 10s) (3925 62%) loss : 3.637  accuracy : 38.3 %\n",
      "148m 2s (- 86m 11s) (3950 63%) loss : 3.680  accuracy : 36.4 %\n",
      "148m 51s (- 85m 11s) (3975 63%) loss : 3.408  accuracy : 42.2 %\n",
      "149m 47s (- 84m 15s) (4000 64%) loss : 3.916  accuracy : 33.0 %\n",
      "150m 41s (- 83m 17s) (4025 64%) loss : 3.567  accuracy : 39.2 %\n",
      "151m 37s (- 82m 21s) (4050 64%) loss : 3.544  accuracy : 39.4 %\n",
      "152m 33s (- 81m 25s) (4075 65%) loss : 4.091  accuracy : 30.4 %\n",
      "153m 30s (- 80m 29s) (4100 65%) loss : 3.426  accuracy : 40.5 %\n",
      "154m 24s (- 79m 32s) (4125 66%) loss : 3.691  accuracy : 36.9 %\n",
      "155m 15s (- 78m 34s) (4150 66%) loss : 3.472  accuracy : 39.8 %\n",
      "156m 13s (- 77m 38s) (4175 66%) loss : 3.541  accuracy : 38.4 %\n",
      "157m 7s (- 76m 41s) (4200 67%) loss : 3.665  accuracy : 37.4 %\n",
      "157m 57s (- 75m 42s) (4225 67%) loss : 3.290  accuracy : 43.0 %\n",
      "158m 46s (- 74m 42s) (4250 68%) loss : 3.794  accuracy : 34.9 %\n",
      "159m 43s (- 73m 47s) (4275 68%) loss : 3.919  accuracy : 33.6 %\n",
      "160m 31s (- 72m 47s) (4300 68%) loss : 3.201  accuracy : 44.5 %\n",
      "161m 26s (- 71m 51s) (4325 69%) loss : 3.575  accuracy : 37.8 %\n",
      "162m 20s (- 70m 54s) (4350 69%) loss : 3.757  accuracy : 35.8 %\n",
      "163m 12s (- 69m 56s) (4375 70%) loss : 3.700  accuracy : 36.9 %\n",
      "164m 2s (- 68m 58s) (4400 70%) loss : 3.320  accuracy : 42.2 %\n",
      "164m 49s (- 67m 58s) (4425 70%) loss : 2.985  accuracy : 48.1 %\n",
      "165m 41s (- 67m 1s) (4450 71%) loss : 3.536  accuracy : 39.6 %\n",
      "166m 40s (- 66m 6s) (4475 71%) loss : 3.813  accuracy : 34.9 %\n",
      "167m 36s (- 65m 10s) (4500 72%) loss : 3.679  accuracy : 37.3 %\n",
      "168m 34s (- 64m 15s) (4525 72%) loss : 4.002  accuracy : 31.9 %\n",
      "169m 32s (- 63m 20s) (4550 72%) loss : 3.508  accuracy : 40.4 %\n",
      "170m 29s (- 62m 25s) (4575 73%) loss : 3.682  accuracy : 36.9 %\n",
      "171m 26s (- 61m 29s) (4600 73%) loss : 3.400  accuracy : 41.4 %\n",
      "172m 21s (- 60m 33s) (4625 74%) loss : 3.528  accuracy : 39.9 %\n",
      "173m 18s (- 59m 37s) (4650 74%) loss : 3.858  accuracy : 34.6 %\n",
      "174m 17s (- 58m 43s) (4675 74%) loss : 3.668  accuracy : 37.8 %\n",
      "175m 7s (- 57m 45s) (4700 75%) loss : 3.406  accuracy : 42.2 %\n",
      "176m 4s (- 56m 49s) (4725 75%) loss : 3.683  accuracy : 37.0 %\n",
      "177m 5s (- 55m 55s) (4750 76%) loss : 3.657  accuracy : 37.1 %\n",
      "178m 1s (- 54m 59s) (4775 76%) loss : 3.784  accuracy : 34.9 %\n"
     ]
    },
    {
     "ename": "KeyboardInterrupt",
     "evalue": "",
     "output_type": "error",
     "traceback": [
      "\u001b[1;31m---------------------------------------------------------------------------\u001b[0m",
      "\u001b[1;31mKeyboardInterrupt\u001b[0m                         Traceback (most recent call last)",
      "\u001b[1;32m<ipython-input-114-c81768994ce6>\u001b[0m in \u001b[0;36m<module>\u001b[1;34m\u001b[0m\n\u001b[1;32m----> 1\u001b[1;33m \u001b[0mtranslator_en_fr\u001b[0m\u001b[1;33m.\u001b[0m\u001b[0mfit\u001b[0m\u001b[1;33m(\u001b[0m\u001b[0mbatches\u001b[0m\u001b[1;33m,\u001b[0m \u001b[0mepochs\u001b[0m \u001b[1;33m=\u001b[0m \u001b[1;36m1\u001b[0m\u001b[1;33m,\u001b[0m \u001b[0mlr\u001b[0m \u001b[1;33m=\u001b[0m \u001b[1;36m0.00005\u001b[0m\u001b[1;33m,\u001b[0m \u001b[0mtf_ratio\u001b[0m \u001b[1;33m=\u001b[0m \u001b[1;36m0.5\u001b[0m\u001b[1;33m,\u001b[0m \u001b[0mprint_every\u001b[0m \u001b[1;33m=\u001b[0m \u001b[1;36m25\u001b[0m\u001b[1;33m,\u001b[0m \u001b[0mrandom_state\u001b[0m \u001b[1;33m=\u001b[0m \u001b[1;36m4214\u001b[0m\u001b[1;33m)\u001b[0m\u001b[1;33m\u001b[0m\u001b[0m\n\u001b[0m",
      "\u001b[1;32m<ipython-input-79-48f165c97609>\u001b[0m in \u001b[0;36mfit\u001b[1;34m(self, batches, iters, epochs, tf_ratio, lr, random_state, print_every, compute_accuracy)\u001b[0m\n\u001b[0;32m    272\u001b[0m                 \u001b[0mnp\u001b[0m\u001b[1;33m.\u001b[0m\u001b[0mrandom\u001b[0m\u001b[1;33m.\u001b[0m\u001b[0mshuffle\u001b[0m\u001b[1;33m(\u001b[0m\u001b[0mbatches\u001b[0m\u001b[1;33m)\u001b[0m\u001b[1;33m\u001b[0m\u001b[0m\n\u001b[0;32m    273\u001b[0m                 \u001b[1;32mfor\u001b[0m \u001b[0mbatch\u001b[0m \u001b[1;32min\u001b[0m \u001b[0mbatches\u001b[0m \u001b[1;33m:\u001b[0m\u001b[1;33m\u001b[0m\u001b[0m\n\u001b[1;32m--> 274\u001b[1;33m                     \u001b[0mloss\u001b[0m\u001b[1;33m,\u001b[0m \u001b[0macc\u001b[0m \u001b[1;33m=\u001b[0m \u001b[0mtrainLoop\u001b[0m\u001b[1;33m(\u001b[0m\u001b[0mbatch\u001b[0m\u001b[1;33m,\u001b[0m \u001b[0moptimizer\u001b[0m\u001b[1;33m,\u001b[0m \u001b[0mtf_ratio\u001b[0m\u001b[1;33m,\u001b[0m \u001b[0mcompute_accuracy\u001b[0m\u001b[1;33m)\u001b[0m\u001b[1;33m\u001b[0m\u001b[0m\n\u001b[0m\u001b[0;32m    275\u001b[0m                     \u001b[0mtot_loss\u001b[0m \u001b[1;33m+=\u001b[0m \u001b[0mloss\u001b[0m\u001b[1;33m\u001b[0m\u001b[0m\n\u001b[0;32m    276\u001b[0m                     \u001b[0mtot_acc\u001b[0m \u001b[1;33m+=\u001b[0m \u001b[0macc\u001b[0m\u001b[1;33m\u001b[0m\u001b[0m\n",
      "\u001b[1;32m<ipython-input-79-48f165c97609>\u001b[0m in \u001b[0;36mtrainLoop\u001b[1;34m(batch, optimizer, tf_ratio, compute_accuracy)\u001b[0m\n\u001b[0;32m    245\u001b[0m             \u001b[0mself\u001b[0m\u001b[1;33m.\u001b[0m\u001b[0mzero_grad\u001b[0m\u001b[1;33m(\u001b[0m\u001b[1;33m)\u001b[0m\u001b[1;33m\u001b[0m\u001b[0m\n\u001b[0;32m    246\u001b[0m             \u001b[0mtotal\u001b[0m \u001b[1;33m=\u001b[0m \u001b[0mtorch\u001b[0m\u001b[1;33m.\u001b[0m\u001b[0msum\u001b[0m\u001b[1;33m(\u001b[0m\u001b[0mbatch\u001b[0m\u001b[1;33m[\u001b[0m\u001b[1;33m-\u001b[0m\u001b[1;36m1\u001b[0m\u001b[1;33m]\u001b[0m\u001b[1;33m)\u001b[0m\u001b[1;33m.\u001b[0m\u001b[0mitem\u001b[0m\u001b[1;33m(\u001b[0m\u001b[1;33m)\u001b[0m\u001b[1;33m\u001b[0m\u001b[0m\n\u001b[1;32m--> 247\u001b[1;33m             \u001b[0mloss\u001b[0m\u001b[1;33m,\u001b[0m \u001b[0msuccess\u001b[0m \u001b[1;33m=\u001b[0m \u001b[0mcomputeLogProbs\u001b[0m\u001b[1;33m(\u001b[0m\u001b[0mbatch\u001b[0m\u001b[1;33m,\u001b[0m \u001b[0mtf_ratio\u001b[0m\u001b[1;33m,\u001b[0m \u001b[0mcompute_accuracy\u001b[0m\u001b[1;33m)\u001b[0m\u001b[1;33m\u001b[0m\u001b[0m\n\u001b[0m\u001b[0;32m    248\u001b[0m             \u001b[0mloss\u001b[0m\u001b[1;33m.\u001b[0m\u001b[0mbackward\u001b[0m\u001b[1;33m(\u001b[0m\u001b[1;33m)\u001b[0m\u001b[1;33m\u001b[0m\u001b[0m\n\u001b[0;32m    249\u001b[0m             \u001b[0moptimizer\u001b[0m\u001b[1;33m.\u001b[0m\u001b[0mstep\u001b[0m\u001b[1;33m(\u001b[0m\u001b[1;33m)\u001b[0m\u001b[1;33m\u001b[0m\u001b[0m\n",
      "\u001b[1;32m<ipython-input-79-48f165c97609>\u001b[0m in \u001b[0;36mcomputeLogProbs\u001b[1;34m(batch, tf_ratio, compute_accuracy)\u001b[0m\n\u001b[0;32m    216\u001b[0m \u001b[1;33m\u001b[0m\u001b[0m\n\u001b[0;32m    217\u001b[0m                 \u001b[1;32melif\u001b[0m \u001b[0mself\u001b[0m\u001b[1;33m.\u001b[0m\u001b[0mdecoder_type\u001b[0m \u001b[1;33m==\u001b[0m \u001b[1;34m'attention'\u001b[0m \u001b[1;33m:\u001b[0m\u001b[1;33m\u001b[0m\u001b[0m\n\u001b[1;32m--> 218\u001b[1;33m                     \u001b[0mvect\u001b[0m\u001b[1;33m,\u001b[0m \u001b[0mhidden\u001b[0m\u001b[1;33m,\u001b[0m \u001b[0mattn\u001b[0m \u001b[1;33m=\u001b[0m \u001b[0mself\u001b[0m\u001b[1;33m.\u001b[0m\u001b[0mdecoder\u001b[0m\u001b[1;33m.\u001b[0m\u001b[0mgenerateWord\u001b[0m\u001b[1;33m(\u001b[0m\u001b[0mhidden\u001b[0m\u001b[1;33m,\u001b[0m \u001b[0membeddings\u001b[0m\u001b[1;33m,\u001b[0m \u001b[0mword\u001b[0m\u001b[1;33m)\u001b[0m\u001b[1;33m\u001b[0m\u001b[0m\n\u001b[0m\u001b[0;32m    219\u001b[0m                     \u001b[1;31m# apply teacher forcing\u001b[0m\u001b[1;33m\u001b[0m\u001b[1;33m\u001b[0m\u001b[0m\n\u001b[0;32m    220\u001b[0m                     \u001b[1;32mif\u001b[0m \u001b[0mforcing\u001b[0m \u001b[1;33m:\u001b[0m \u001b[0mword\u001b[0m \u001b[1;33m=\u001b[0m \u001b[0mtarget\u001b[0m\u001b[1;33m[\u001b[0m\u001b[0mt\u001b[0m\u001b[1;33m]\u001b[0m\u001b[1;33m.\u001b[0m\u001b[0mview\u001b[0m\u001b[1;33m(\u001b[0m\u001b[1;33m-\u001b[0m\u001b[1;36m1\u001b[0m\u001b[1;33m,\u001b[0m \u001b[1;36m1\u001b[0m\u001b[1;33m)\u001b[0m    \u001b[1;31m# size (batch_size, 1)\u001b[0m\u001b[1;33m\u001b[0m\u001b[0m\n",
      "\u001b[1;32m<ipython-input-76-2361a61522c7>\u001b[0m in \u001b[0;36mgenerateWord\u001b[1;34m(self, hidden, embeddings, word)\u001b[0m\n\u001b[0;32m     43\u001b[0m         \u001b[0membedding\u001b[0m \u001b[1;33m=\u001b[0m \u001b[0mself\u001b[0m\u001b[1;33m.\u001b[0m\u001b[0mword2vec\u001b[0m\u001b[1;33m.\u001b[0m\u001b[0membedding\u001b[0m\u001b[1;33m(\u001b[0m\u001b[0mword\u001b[0m\u001b[1;33m)\u001b[0m       \u001b[1;31m# size (batch_size, 1, embedding_dim)\u001b[0m\u001b[1;33m\u001b[0m\u001b[0m\n\u001b[0;32m     44\u001b[0m         \u001b[0membedding\u001b[0m \u001b[1;33m=\u001b[0m \u001b[0mself\u001b[0m\u001b[1;33m.\u001b[0m\u001b[0mdropout\u001b[0m\u001b[1;33m(\u001b[0m\u001b[0membedding\u001b[0m\u001b[1;33m)\u001b[0m             \u001b[1;31m# size (batch_size, 1, embedding_dim)\u001b[0m\u001b[1;33m\u001b[0m\u001b[0m\n\u001b[1;32m---> 45\u001b[1;33m         \u001b[0m_\u001b[0m\u001b[1;33m,\u001b[0m \u001b[0mhidden\u001b[0m \u001b[1;33m=\u001b[0m \u001b[0mself\u001b[0m\u001b[1;33m.\u001b[0m\u001b[0mgru\u001b[0m\u001b[1;33m(\u001b[0m\u001b[0membedding\u001b[0m\u001b[1;33m,\u001b[0m \u001b[0mhidden\u001b[0m\u001b[1;33m)\u001b[0m         \u001b[1;31m# size (n_layers, batch_size, embedding_dim)\u001b[0m\u001b[1;33m\u001b[0m\u001b[0m\n\u001b[0m\u001b[0;32m     46\u001b[0m         \u001b[1;31m# merge with attention\u001b[0m\u001b[1;33m\u001b[0m\u001b[1;33m\u001b[0m\u001b[0m\n\u001b[0;32m     47\u001b[0m         \u001b[0mquery\u001b[0m \u001b[1;33m=\u001b[0m \u001b[0mhidden\u001b[0m\u001b[1;33m[\u001b[0m\u001b[1;33m-\u001b[0m\u001b[1;36m1\u001b[0m\u001b[1;33m]\u001b[0m\u001b[1;33m.\u001b[0m\u001b[0munsqueeze\u001b[0m\u001b[1;33m(\u001b[0m\u001b[1;36m1\u001b[0m\u001b[1;33m)\u001b[0m                 \u001b[1;31m# size (batch_size, 1, embedding_dim)\u001b[0m\u001b[1;33m\u001b[0m\u001b[0m\n",
      "\u001b[1;32mC:\\ProgramData\\Anaconda3\\lib\\site-packages\\torch\\nn\\modules\\module.py\u001b[0m in \u001b[0;36m__call__\u001b[1;34m(self, *input, **kwargs)\u001b[0m\n\u001b[0;32m    548\u001b[0m             \u001b[0mresult\u001b[0m \u001b[1;33m=\u001b[0m \u001b[0mself\u001b[0m\u001b[1;33m.\u001b[0m\u001b[0m_slow_forward\u001b[0m\u001b[1;33m(\u001b[0m\u001b[1;33m*\u001b[0m\u001b[0minput\u001b[0m\u001b[1;33m,\u001b[0m \u001b[1;33m**\u001b[0m\u001b[0mkwargs\u001b[0m\u001b[1;33m)\u001b[0m\u001b[1;33m\u001b[0m\u001b[0m\n\u001b[0;32m    549\u001b[0m         \u001b[1;32melse\u001b[0m\u001b[1;33m:\u001b[0m\u001b[1;33m\u001b[0m\u001b[0m\n\u001b[1;32m--> 550\u001b[1;33m             \u001b[0mresult\u001b[0m \u001b[1;33m=\u001b[0m \u001b[0mself\u001b[0m\u001b[1;33m.\u001b[0m\u001b[0mforward\u001b[0m\u001b[1;33m(\u001b[0m\u001b[1;33m*\u001b[0m\u001b[0minput\u001b[0m\u001b[1;33m,\u001b[0m \u001b[1;33m**\u001b[0m\u001b[0mkwargs\u001b[0m\u001b[1;33m)\u001b[0m\u001b[1;33m\u001b[0m\u001b[0m\n\u001b[0m\u001b[0;32m    551\u001b[0m         \u001b[1;32mfor\u001b[0m \u001b[0mhook\u001b[0m \u001b[1;32min\u001b[0m \u001b[0mself\u001b[0m\u001b[1;33m.\u001b[0m\u001b[0m_forward_hooks\u001b[0m\u001b[1;33m.\u001b[0m\u001b[0mvalues\u001b[0m\u001b[1;33m(\u001b[0m\u001b[1;33m)\u001b[0m\u001b[1;33m:\u001b[0m\u001b[1;33m\u001b[0m\u001b[0m\n\u001b[0;32m    552\u001b[0m             \u001b[0mhook_result\u001b[0m \u001b[1;33m=\u001b[0m \u001b[0mhook\u001b[0m\u001b[1;33m(\u001b[0m\u001b[0mself\u001b[0m\u001b[1;33m,\u001b[0m \u001b[0minput\u001b[0m\u001b[1;33m,\u001b[0m \u001b[0mresult\u001b[0m\u001b[1;33m)\u001b[0m\u001b[1;33m\u001b[0m\u001b[0m\n",
      "\u001b[1;32mC:\\ProgramData\\Anaconda3\\lib\\site-packages\\torch\\nn\\modules\\rnn.py\u001b[0m in \u001b[0;36mforward\u001b[1;34m(self, input, hx)\u001b[0m\n\u001b[0;32m    725\u001b[0m         \u001b[1;32mif\u001b[0m \u001b[0mbatch_sizes\u001b[0m \u001b[1;32mis\u001b[0m \u001b[1;32mNone\u001b[0m\u001b[1;33m:\u001b[0m\u001b[1;33m\u001b[0m\u001b[0m\n\u001b[0;32m    726\u001b[0m             result = _VF.gru(input, hx, self._flat_weights, self.bias, self.num_layers,\n\u001b[1;32m--> 727\u001b[1;33m                              self.dropout, self.training, self.bidirectional, self.batch_first)\n\u001b[0m\u001b[0;32m    728\u001b[0m         \u001b[1;32melse\u001b[0m\u001b[1;33m:\u001b[0m\u001b[1;33m\u001b[0m\u001b[0m\n\u001b[0;32m    729\u001b[0m             result = _VF.gru(input, batch_sizes, hx, self._flat_weights, self.bias,\n",
      "\u001b[1;31mKeyboardInterrupt\u001b[0m: "
     ]
    }
   ],
   "source": [
    "translator_en_fr.fit(batches, epochs = 1, lr = 0.00005, tf_ratio = 0.5, print_every = 25, random_state = 4214)"
   ]
  },
  {
   "cell_type": "code",
   "execution_count": null,
   "metadata": {
    "scrolled": true
   },
   "outputs": [],
   "source": [
    "translator_en_fr.fit(batches, epochs = 1, lr = 0.001, tf_ratio = 0.9, print_every = 25, random_state = 42)\n",
    "translator_en_fr.fit(batches, epochs = 1, lr = 0.001, tf_ratio = 0.75, print_every = 25, random_state = 421)\n",
    "translator_en_fr.fit(batches, epochs = 1, lr = 0.00025, tf_ratio = 0.75, print_every = 25, random_state = 4242)\n",
    "translator_en_fr.fit(batches, epochs = 1, lr = 0.00025, tf_ratio = 0.65, print_every = 25, random_state = 42421)\n",
    "translator_en_fr.fit(batches, epochs = 1, lr = 0.00005, tf_ratio = 0.65, print_every = 25, random_state = 421421)"
   ]
  },
  {
   "cell_type": "code",
   "execution_count": 115,
   "metadata": {},
   "outputs": [],
   "source": [
    "# save\n",
    "#torch.save(translator_en_fr.state_dict(), path_to_DL4NLP + '\\\\saves\\\\DL4NLP_II2a_encoder_attndecoder_en_fr.pth')\n",
    "\n",
    "# load\n",
    "#translator_en_fr.load_state_dict(torch.load(path_to_DL4NLP + '\\\\saves\\\\DL4NLP_II2a_encoder_attndecoder_en_fr.pth'))"
   ]
  },
  {
   "cell_type": "markdown",
   "metadata": {},
   "source": [
    "#### Evaluation"
   ]
  },
  {
   "cell_type": "code",
   "execution_count": 75,
   "metadata": {},
   "outputs": [
    {
     "data": {
      "image/png": "[encoded data removed]",
      "text/plain": [
       "<Figure size 432x288 with 1 Axes>"
      ]
     },
     "metadata": {
      "needs_background": "light"
     },
     "output_type": "display_data"
    },
    {
     "name": "stdout",
     "output_type": "stream",
     "text": [
      "\u001b[48;2;252;138;106mmy\u001b[0m \u001b[48;2;253;202;181mname\u001b[0m \u001b[48;2;255;229;217mis\u001b[0m \u001b[48;2;256;245;240mjean-baptiste\u001b[0m  - mon\n",
      "\u001b[48;2;256;245;240mmy\u001b[0m \u001b[48;2;217;37;34mname\u001b[0m \u001b[48;2;256;245;240mis\u001b[0m \u001b[48;2;256;245;240mjean-baptiste\u001b[0m  - nom\n",
      "\u001b[48;2;256;245;240mmy\u001b[0m \u001b[48;2;256;245;240mname\u001b[0m \u001b[48;2;242;68;50mis\u001b[0m \u001b[48;2;256;245;240mjean-baptiste\u001b[0m  - est\n",
      "\u001b[48;2;256;245;240mmy\u001b[0m \u001b[48;2;256;245;240mname\u001b[0m \u001b[48;2;255;229;217mis\u001b[0m \u001b[48;2;251;105;73mjean-baptiste\u001b[0m  - UNK\n",
      "\u001b[48;2;256;245;240mmy\u001b[0m \u001b[48;2;256;245;240mname\u001b[0m \u001b[48;2;253;202;181mis\u001b[0m \u001b[48;2;252;138;106mjean-baptiste\u001b[0m  - .\n",
      "\n"
     ]
    },
    {
     "data": {
      "text/plain": [
       "'mon nom est UNK .'"
      ]
     },
     "execution_count": 75,
     "metadata": {},
     "output_type": "execute_result"
    }
   ],
   "source": [
    "translator_en_fr.eval()\n",
    "translator_en_fr(\"my name is jean-baptiste\", attention_method = AttentionViewer)\n",
    "translator_en_fr(\"my name is jean-baptiste\", attention_method = AttentionViewerOnWords)"
   ]
  },
  {
   "cell_type": "code",
   "execution_count": 120,
   "metadata": {},
   "outputs": [
    {
     "data": {
      "image/png": "[encoded data removed]",
      "text/plain": [
       "<Figure size 432x288 with 1 Axes>"
      ]
     },
     "metadata": {
      "needs_background": "light"
     },
     "output_type": "display_data"
    },
    {
     "name": "stdout",
     "output_type": "stream",
     "text": [
      "\u001b[48;2;251;105;73mmy\u001b[0m \u001b[48;2;255;229;217mname\u001b[0m \u001b[48;2;256;245;240mis\u001b[0m \u001b[48;2;256;245;240mjean\u001b[0m \u001b[48;2;256;245;240m,\u001b[0m \u001b[48;2;256;245;240mwhat\u001b[0m \u001b[48;2;256;245;240mis\u001b[0m \u001b[48;2;256;245;240myour\u001b[0m \u001b[48;2;256;245;240mname\u001b[0m \u001b[48;2;256;245;240m?\u001b[0m  - ma\n",
      "\u001b[48;2;256;245;240mmy\u001b[0m \u001b[48;2;217;37;34mname\u001b[0m \u001b[48;2;256;245;240mis\u001b[0m \u001b[48;2;256;245;240mjean\u001b[0m \u001b[48;2;256;245;240m,\u001b[0m \u001b[48;2;256;245;240mwhat\u001b[0m \u001b[48;2;256;245;240mis\u001b[0m \u001b[48;2;256;245;240myour\u001b[0m \u001b[48;2;256;245;240mname\u001b[0m \u001b[48;2;256;245;240m?\u001b[0m  - nom\n",
      "\u001b[48;2;256;245;240mmy\u001b[0m \u001b[48;2;256;245;240mname\u001b[0m \u001b[48;2;251;105;73mis\u001b[0m \u001b[48;2;255;229;217mjean\u001b[0m \u001b[48;2;256;245;240m,\u001b[0m \u001b[48;2;256;245;240mwhat\u001b[0m \u001b[48;2;256;245;240mis\u001b[0m \u001b[48;2;256;245;240myour\u001b[0m \u001b[48;2;256;245;240mname\u001b[0m \u001b[48;2;256;245;240m?\u001b[0m  - est\n",
      "\u001b[48;2;256;245;240mmy\u001b[0m \u001b[48;2;256;245;240mname\u001b[0m \u001b[48;2;256;245;240mis\u001b[0m \u001b[48;2;242;68;50mjean\u001b[0m \u001b[48;2;256;245;240m,\u001b[0m \u001b[48;2;256;245;240mwhat\u001b[0m \u001b[48;2;256;245;240mis\u001b[0m \u001b[48;2;256;245;240myour\u001b[0m \u001b[48;2;256;245;240mname\u001b[0m \u001b[48;2;256;245;240m?\u001b[0m  - -\n",
      "\u001b[48;2;256;245;240mmy\u001b[0m \u001b[48;2;256;245;240mname\u001b[0m \u001b[48;2;256;245;240mis\u001b[0m \u001b[48;2;253;202;181mjean\u001b[0m \u001b[48;2;256;245;240m,\u001b[0m \u001b[48;2;253;202;181mwhat\u001b[0m \u001b[48;2;256;245;240mis\u001b[0m \u001b[48;2;256;245;240myour\u001b[0m \u001b[48;2;256;245;240mname\u001b[0m \u001b[48;2;256;245;240m?\u001b[0m  - ce\n",
      "\u001b[48;2;256;245;240mmy\u001b[0m \u001b[48;2;256;245;240mname\u001b[0m \u001b[48;2;256;245;240mis\u001b[0m \u001b[48;2;255;229;217mjean\u001b[0m \u001b[48;2;255;229;217m,\u001b[0m \u001b[48;2;253;202;181mwhat\u001b[0m \u001b[48;2;256;245;240mis\u001b[0m \u001b[48;2;255;229;217myour\u001b[0m \u001b[48;2;256;245;240mname\u001b[0m \u001b[48;2;256;245;240m?\u001b[0m  - que\n",
      "\u001b[48;2;256;245;240mmy\u001b[0m \u001b[48;2;256;245;240mname\u001b[0m \u001b[48;2;256;245;240mis\u001b[0m \u001b[48;2;256;245;240mjean\u001b[0m \u001b[48;2;256;245;240m,\u001b[0m \u001b[48;2;255;229;217mwhat\u001b[0m \u001b[48;2;253;202;181mis\u001b[0m \u001b[48;2;253;202;181myour\u001b[0m \u001b[48;2;256;245;240mname\u001b[0m \u001b[48;2;256;245;240m?\u001b[0m  - vous\n",
      "\u001b[48;2;256;245;240mmy\u001b[0m \u001b[48;2;256;245;240mname\u001b[0m \u001b[48;2;256;245;240mis\u001b[0m \u001b[48;2;256;245;240mjean\u001b[0m \u001b[48;2;256;245;240m,\u001b[0m \u001b[48;2;256;245;240mwhat\u001b[0m \u001b[48;2;255;229;217mis\u001b[0m \u001b[48;2;253;202;181myour\u001b[0m \u001b[48;2;253;202;181mname\u001b[0m \u001b[48;2;256;245;240m?\u001b[0m  - avez\n",
      "\u001b[48;2;256;245;240mmy\u001b[0m \u001b[48;2;256;245;240mname\u001b[0m \u001b[48;2;256;245;240mis\u001b[0m \u001b[48;2;256;245;240mjean\u001b[0m \u001b[48;2;256;245;240m,\u001b[0m \u001b[48;2;256;245;240mwhat\u001b[0m \u001b[48;2;256;245;240mis\u001b[0m \u001b[48;2;252;171;143myour\u001b[0m \u001b[48;2;253;202;181mname\u001b[0m \u001b[48;2;256;245;240m?\u001b[0m  - votre\n",
      "\u001b[48;2;256;245;240mmy\u001b[0m \u001b[48;2;256;245;240mname\u001b[0m \u001b[48;2;256;245;240mis\u001b[0m \u001b[48;2;256;245;240mjean\u001b[0m \u001b[48;2;256;245;240m,\u001b[0m \u001b[48;2;256;245;240mwhat\u001b[0m \u001b[48;2;256;245;240mis\u001b[0m \u001b[48;2;256;245;240myour\u001b[0m \u001b[48;2;251;105;73mname\u001b[0m \u001b[48;2;256;245;240m?\u001b[0m  - ?\n",
      "\n"
     ]
    },
    {
     "data": {
      "text/plain": [
       "'ma nom est - ce que vous avez votre ?'"
      ]
     },
     "execution_count": 120,
     "metadata": {},
     "output_type": "execute_result"
    }
   ],
   "source": [
    "translator_en_fr.eval()\n",
    "translator_en_fr(\"my name is jean, what is your name ?\", attention_method = AttentionViewer)\n",
    "translator_en_fr(\"my name is jean, what is your name ?\", attention_method = AttentionViewerOnWords)"
   ]
  },
  {
   "cell_type": "code",
   "execution_count": 117,
   "metadata": {},
   "outputs": [
    {
     "data": {
      "image/png": "[encoded data removed]",
      "text/plain": [
       "<Figure size 432x288 with 1 Axes>"
      ]
     },
     "metadata": {
      "needs_background": "light"
     },
     "output_type": "display_data"
    },
    {
     "name": "stdout",
     "output_type": "stream",
     "text": [
      "\u001b[48;2;253;202;181mdo\u001b[0m \u001b[48;2;253;202;181myou\u001b[0m \u001b[48;2;253;202;181mthink\u001b[0m \u001b[48;2;256;245;240myou\u001b[0m \u001b[48;2;256;245;240mshould\u001b[0m \u001b[48;2;256;245;240mkeep\u001b[0m \u001b[48;2;256;245;240mtraining\u001b[0m \u001b[48;2;256;245;240m?\u001b[0m  - pensez\n",
      "\u001b[48;2;255;229;217mdo\u001b[0m \u001b[48;2;253;202;181myou\u001b[0m \u001b[48;2;253;202;181mthink\u001b[0m \u001b[48;2;256;245;240myou\u001b[0m \u001b[48;2;256;245;240mshould\u001b[0m \u001b[48;2;256;245;240mkeep\u001b[0m \u001b[48;2;256;245;240mtraining\u001b[0m \u001b[48;2;256;245;240m?\u001b[0m  - -\n",
      "\u001b[48;2;256;245;240mdo\u001b[0m \u001b[48;2;251;105;73myou\u001b[0m \u001b[48;2;255;229;217mthink\u001b[0m \u001b[48;2;256;245;240myou\u001b[0m \u001b[48;2;256;245;240mshould\u001b[0m \u001b[48;2;256;245;240mkeep\u001b[0m \u001b[48;2;256;245;240mtraining\u001b[0m \u001b[48;2;256;245;240m?\u001b[0m  - vous\n",
      "\u001b[48;2;256;245;240mdo\u001b[0m \u001b[48;2;256;245;240myou\u001b[0m \u001b[48;2;253;202;181mthink\u001b[0m \u001b[48;2;255;229;217myou\u001b[0m \u001b[48;2;255;229;217mshould\u001b[0m \u001b[48;2;255;229;217mkeep\u001b[0m \u001b[48;2;256;245;240mtraining\u001b[0m \u001b[48;2;256;245;240m?\u001b[0m  - que\n",
      "\u001b[48;2;256;245;240mdo\u001b[0m \u001b[48;2;256;245;240myou\u001b[0m \u001b[48;2;256;245;240mthink\u001b[0m \u001b[48;2;252;138;106myou\u001b[0m \u001b[48;2;255;229;217mshould\u001b[0m \u001b[48;2;256;245;240mkeep\u001b[0m \u001b[48;2;256;245;240mtraining\u001b[0m \u001b[48;2;256;245;240m?\u001b[0m  - vous\n",
      "\u001b[48;2;256;245;240mdo\u001b[0m \u001b[48;2;256;245;240myou\u001b[0m \u001b[48;2;255;229;217mthink\u001b[0m \u001b[48;2;256;245;240myou\u001b[0m \u001b[48;2;252;138;106mshould\u001b[0m \u001b[48;2;256;245;240mkeep\u001b[0m \u001b[48;2;256;245;240mtraining\u001b[0m \u001b[48;2;256;245;240m?\u001b[0m  - devez\n",
      "\u001b[48;2;256;245;240mdo\u001b[0m \u001b[48;2;256;245;240myou\u001b[0m \u001b[48;2;256;245;240mthink\u001b[0m \u001b[48;2;256;245;240myou\u001b[0m \u001b[48;2;256;245;240mshould\u001b[0m \u001b[48;2;242;68;50mkeep\u001b[0m \u001b[48;2;256;245;240mtraining\u001b[0m \u001b[48;2;256;245;240m?\u001b[0m  - faire\n",
      "\u001b[48;2;256;245;240mdo\u001b[0m \u001b[48;2;256;245;240myou\u001b[0m \u001b[48;2;256;245;240mthink\u001b[0m \u001b[48;2;256;245;240myou\u001b[0m \u001b[48;2;256;245;240mshould\u001b[0m \u001b[48;2;252;171;143mkeep\u001b[0m \u001b[48;2;252;138;106mtraining\u001b[0m \u001b[48;2;256;245;240m?\u001b[0m  - ?\n",
      "\n"
     ]
    },
    {
     "data": {
      "text/plain": [
       "'pensez - vous que vous devez faire ?'"
      ]
     },
     "execution_count": 117,
     "metadata": {},
     "output_type": "execute_result"
    }
   ],
   "source": [
    "translator_en_fr.eval()\n",
    "sentence = 'do you think you should keep training ?'\n",
    "translator_en_fr(sentence, attention_method = AttentionViewer)\n",
    "translator_en_fr(sentence, attention_method = AttentionViewerOnWords)"
   ]
  },
  {
   "cell_type": "code",
   "execution_count": 119,
   "metadata": {},
   "outputs": [
    {
     "data": {
      "image/png": "[encoded data removed]",
      "text/plain": [
       "<Figure size 432x288 with 1 Axes>"
      ]
     },
     "metadata": {
      "needs_background": "light"
     },
     "output_type": "display_data"
    },
    {
     "name": "stdout",
     "output_type": "stream",
     "text": [
      "\u001b[48;2;252;138;106mthe\u001b[0m \u001b[48;2;252;171;143mdata\u001b[0m  - les\n",
      "\u001b[48;2;256;245;240mthe\u001b[0m \u001b[48;2;217;37;34mdata\u001b[0m  - données\n",
      "\u001b[48;2;256;245;240mthe\u001b[0m \u001b[48;2;217;37;34mdata\u001b[0m  - données\n",
      "\u001b[48;2;253;202;181mthe\u001b[0m \u001b[48;2;251;105;73mdata\u001b[0m  - données\n",
      "\u001b[48;2;253;202;181mthe\u001b[0m \u001b[48;2;251;105;73mdata\u001b[0m  - données\n",
      "\u001b[48;2;253;202;181mthe\u001b[0m \u001b[48;2;251;105;73mdata\u001b[0m  - .\n",
      "\n"
     ]
    },
    {
     "data": {
      "text/plain": [
       "'les données données données données .'"
      ]
     },
     "execution_count": 119,
     "metadata": {},
     "output_type": "execute_result"
    }
   ],
   "source": [
    "translator_en_fr.eval()\n",
    "translator_en_fr(\"The data\", attention_method = AttentionViewer)\n",
    "translator_en_fr(\"The data\", attention_method = AttentionViewerOnWords)"
   ]
  }
 ],
 "metadata": {
  "kernelspec": {
   "display_name": "Python 3",
   "language": "python",
   "name": "python3"
  },
  "language_info": {
   "codemirror_mode": {
    "name": "ipython",
    "version": 3
   },
   "file_extension": ".py",
   "mimetype": "text/x-python",
   "name": "python",
   "nbconvert_exporter": "python",
   "pygments_lexer": "ipython3",
   "version": "3.6.5"
  }
 },
 "nbformat": 4,
 "nbformat_minor": 2
}
