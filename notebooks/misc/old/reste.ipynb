{
 "cells": [
  {
   "cell_type": "markdown",
   "metadata": {},
   "source": [
    "# Selective Summarization - dev"
   ]
  },
  {
   "cell_type": "code",
   "execution_count": 123,
   "metadata": {},
   "outputs": [],
   "source": [
    "# path to anaconda : C:\\ProgramData\\Anaconda3\n",
    "\n",
    "from __future__ import unicode_literals, print_function, division\n",
    "import os\n",
    "from io import open\n",
    "import unicodedata\n",
    "import string\n",
    "import time\n",
    "import math\n",
    "import re\n",
    "import json\n",
    "import random\n",
    "import itertools\n",
    "\n",
    "\n",
    "from termcolor import colored"
   ]
  },
  {
   "cell_type": "code",
   "execution_count": 124,
   "metadata": {},
   "outputs": [
    {
     "data": {
      "text/plain": [
       "'3.7.0 (default, Jun 28 2018, 08:04:48) [MSC v.1912 64 bit (AMD64)]'"
      ]
     },
     "execution_count": 124,
     "metadata": {},
     "output_type": "execute_result"
    }
   ],
   "source": [
    "import sys\n",
    "sys.version"
   ]
  },
  {
   "cell_type": "code",
   "execution_count": 125,
   "metadata": {},
   "outputs": [],
   "source": [
    "# for manipulating dataframes, arrays, containers...\n",
    "import numpy as np\n",
    "np.set_printoptions(threshold=np.nan)\n",
    "import pandas as pd\n",
    "import unidecode\n",
    "from unidecode import unidecode\n",
    "\n",
    "# equivalent of numpy for very large arrays (such as a database of pretrained word vectors)\n",
    "# optimized for SQL-like operations, not for math computations\n",
    "# see https://bcolz.readthedocs.io/en/latest/intro.html\n",
    "\n",
    "# installer avec la commande : conda install bcolz\n",
    "import bcolz\n",
    "\n",
    "import pickle"
   ]
  },
  {
   "cell_type": "code",
   "execution_count": 126,
   "metadata": {},
   "outputs": [],
   "source": [
    "# for viz\n",
    "import matplotlib.pyplot as plt\n",
    "import matplotlib.ticker as ticker #, FuncFormatter\n",
    "%matplotlib inline\n",
    "\n",
    "import seaborn as sns"
   ]
  },
  {
   "cell_type": "code",
   "execution_count": 127,
   "metadata": {},
   "outputs": [],
   "source": [
    "# for machine learning\n",
    "from sklearn.preprocessing import StandardScaler\n",
    "from sklearn.decomposition import PCA\n",
    "from sklearn.cluster import KMeans, AgglomerativeClustering\n",
    "from sklearn.metrics import silhouette_score\n",
    "from sklearn.metrics.pairwise import euclidean_distances"
   ]
  },
  {
   "cell_type": "code",
   "execution_count": 128,
   "metadata": {},
   "outputs": [
    {
     "name": "stdout",
     "output_type": "stream",
     "text": [
      "0.4.1\n",
      "False\n"
     ]
    }
   ],
   "source": [
    "# for deep learning\n",
    "import torch\n",
    "import torch.nn as nn\n",
    "from torch.autograd import Variable\n",
    "from torch import optim\n",
    "import torch.nn.functional as F\n",
    "from torch.utils.data import DataLoader\n",
    "\n",
    "print(torch.__version__)\n",
    "\n",
    "use_cuda = False\n",
    "print(torch.cuda.is_available())\n",
    "\n",
    "import warnings\n",
    "warnings.filterwarnings(\"ignore\")"
   ]
  },
  {
   "cell_type": "code",
   "execution_count": 129,
   "metadata": {},
   "outputs": [],
   "source": [
    "# for NLP\n",
    "import gensim\n",
    "from gensim.models import KeyedVectors\n",
    "\n",
    "import nltk\n",
    "#nltk.download()\n",
    "from nltk.tokenize import sent_tokenize, word_tokenize\n",
    "from nltk.stem.porter import PorterStemmer\n",
    "\n",
    "from textblob import TextBlob"
   ]
  },
  {
   "cell_type": "code",
   "execution_count": 130,
   "metadata": {},
   "outputs": [],
   "source": [
    "import warnings\n",
    "warnings.filterwarnings('ignore')"
   ]
  },
  {
   "cell_type": "code",
   "execution_count": 131,
   "metadata": {},
   "outputs": [],
   "source": [
    "path_to_rep = 'C:\\\\Users\\jbaujogue\\Desktop\\Scripts'"
   ]
  },
  {
   "cell_type": "markdown",
   "metadata": {},
   "source": [
    "# 1 Préparation des données\n",
    "\n",
    "## 1.1 Import des données\n",
    "\n",
    "Import des données, issues de https://asrs.arc.nasa.gov/search/database.html"
   ]
  },
  {
   "cell_type": "code",
   "execution_count": 234,
   "metadata": {},
   "outputs": [
    {
     "name": "stdout",
     "output_type": "stream",
     "text": [
      "(251, 10)\n"
     ]
    },
    {
     "data": {
      "text/html": [
       "<div>\n",
       "<style scoped>\n",
       "    .dataframe tbody tr th:only-of-type {\n",
       "        vertical-align: middle;\n",
       "    }\n",
       "\n",
       "    .dataframe tbody tr th {\n",
       "        vertical-align: top;\n",
       "    }\n",
       "\n",
       "    .dataframe thead th {\n",
       "        text-align: right;\n",
       "    }\n",
       "</style>\n",
       "<table border=\"1\" class=\"dataframe\">\n",
       "  <thead>\n",
       "    <tr style=\"text-align: right;\">\n",
       "      <th></th>\n",
       "      <th>ACN</th>\n",
       "      <th>Description</th>\n",
       "      <th>Résumé</th>\n",
       "      <th>Composant_concerné</th>\n",
       "      <th>Nature_primaire_problème</th>\n",
       "      <th>Type_problème</th>\n",
       "      <th>Description_problème</th>\n",
       "      <th>Détection</th>\n",
       "      <th>Facteur_humain</th>\n",
       "      <th>Facteurs_impliqués</th>\n",
       "    </tr>\n",
       "  </thead>\n",
       "  <tbody>\n",
       "    <tr>\n",
       "      <th>0</th>\n",
       "      <td>1372405</td>\n",
       "      <td>Briefly encountered severe turbulence at FL340...</td>\n",
       "      <td>A319 Captain reported encountering severe turb...</td>\n",
       "      <td>NaN</td>\n",
       "      <td>Weather</td>\n",
       "      <td>NaN</td>\n",
       "      <td>Deviation - Altitude Excursion From Assigned A...</td>\n",
       "      <td>Person Flight Crew</td>\n",
       "      <td>Situational Awareness</td>\n",
       "      <td>Weather; Human Factors</td>\n",
       "    </tr>\n",
       "    <tr>\n",
       "      <th>1</th>\n",
       "      <td>1502548</td>\n",
       "      <td>During climb thru approximately 15000 ft Capta...</td>\n",
       "      <td>B737 Captain reported smoke in the cabin durin...</td>\n",
       "      <td>NaN</td>\n",
       "      <td>Aircraft</td>\n",
       "      <td>NaN</td>\n",
       "      <td>Aircraft Equipment Problem Less Severe; Flight...</td>\n",
       "      <td>Person Flight Attendant; Person Flight Crew</td>\n",
       "      <td>Troubleshooting; Time Pressure; Distraction; C...</td>\n",
       "      <td>Aircraft</td>\n",
       "    </tr>\n",
       "    <tr>\n",
       "      <th>2</th>\n",
       "      <td>1340662</td>\n",
       "      <td>The problem was a loss of directional control ...</td>\n",
       "      <td>A PA-28 pilot reported losing directional cont...</td>\n",
       "      <td>NaN</td>\n",
       "      <td>Human Factors</td>\n",
       "      <td>NaN</td>\n",
       "      <td>Ground Event / Encounter Loss Of Aircraft Cont...</td>\n",
       "      <td>Person Flight Crew</td>\n",
       "      <td>Situational Awareness; Training / Qualification</td>\n",
       "      <td>Human Factors; Weather</td>\n",
       "    </tr>\n",
       "    <tr>\n",
       "      <th>3</th>\n",
       "      <td>1226984</td>\n",
       "      <td>I departed for my second break-in flight on a ...</td>\n",
       "      <td>BE35 pilot reports flying a new engine break i...</td>\n",
       "      <td>Reciprocating Engine Assembly</td>\n",
       "      <td>Ambiguous</td>\n",
       "      <td>Malfunctioning</td>\n",
       "      <td>Aircraft Equipment Problem Less Severe; Inflig...</td>\n",
       "      <td>Person Flight Crew</td>\n",
       "      <td>Distraction; Situational Awareness</td>\n",
       "      <td>Human Factors; Aircraft</td>\n",
       "    </tr>\n",
       "    <tr>\n",
       "      <th>4</th>\n",
       "      <td>1251840</td>\n",
       "      <td>Takeoff and climb were normal at this point. W...</td>\n",
       "      <td>Medium Large Transport flight crew experiences...</td>\n",
       "      <td>Turbine Engine</td>\n",
       "      <td>Aircraft</td>\n",
       "      <td>Failed</td>\n",
       "      <td>Aircraft Equipment Problem Critical; Flight De...</td>\n",
       "      <td>Person Flight Crew</td>\n",
       "      <td>NaN</td>\n",
       "      <td>Aircraft</td>\n",
       "    </tr>\n",
       "  </tbody>\n",
       "</table>\n",
       "</div>"
      ],
      "text/plain": [
       "       ACN                                        Description  \\\n",
       "0  1372405  Briefly encountered severe turbulence at FL340...   \n",
       "1  1502548  During climb thru approximately 15000 ft Capta...   \n",
       "2  1340662  The problem was a loss of directional control ...   \n",
       "3  1226984  I departed for my second break-in flight on a ...   \n",
       "4  1251840  Takeoff and climb were normal at this point. W...   \n",
       "\n",
       "                                              Résumé  \\\n",
       "0  A319 Captain reported encountering severe turb...   \n",
       "1  B737 Captain reported smoke in the cabin durin...   \n",
       "2  A PA-28 pilot reported losing directional cont...   \n",
       "3  BE35 pilot reports flying a new engine break i...   \n",
       "4  Medium Large Transport flight crew experiences...   \n",
       "\n",
       "              Composant_concerné Nature_primaire_problème   Type_problème  \\\n",
       "0                            NaN                  Weather             NaN   \n",
       "1                            NaN                 Aircraft             NaN   \n",
       "2                            NaN            Human Factors             NaN   \n",
       "3  Reciprocating Engine Assembly                Ambiguous  Malfunctioning   \n",
       "4                 Turbine Engine                 Aircraft          Failed   \n",
       "\n",
       "                                Description_problème  \\\n",
       "0  Deviation - Altitude Excursion From Assigned A...   \n",
       "1  Aircraft Equipment Problem Less Severe; Flight...   \n",
       "2  Ground Event / Encounter Loss Of Aircraft Cont...   \n",
       "3  Aircraft Equipment Problem Less Severe; Inflig...   \n",
       "4  Aircraft Equipment Problem Critical; Flight De...   \n",
       "\n",
       "                                     Détection  \\\n",
       "0                           Person Flight Crew   \n",
       "1  Person Flight Attendant; Person Flight Crew   \n",
       "2                           Person Flight Crew   \n",
       "3                           Person Flight Crew   \n",
       "4                           Person Flight Crew   \n",
       "\n",
       "                                      Facteur_humain       Facteurs_impliqués  \n",
       "0                              Situational Awareness   Weather; Human Factors  \n",
       "1  Troubleshooting; Time Pressure; Distraction; C...                 Aircraft  \n",
       "2    Situational Awareness; Training / Qualification   Human Factors; Weather  \n",
       "3                 Distraction; Situational Awareness  Human Factors; Aircraft  \n",
       "4                                                NaN                 Aircraft  "
      ]
     },
     "execution_count": 234,
     "metadata": {},
     "output_type": "execute_result"
    }
   ],
   "source": [
    "lim = 250\n",
    "df_ASRS = pd.read_csv(path_to_rep + '\\data\\Tickets_ASRS\\\\tickets_ASRS_shuffle.csv', sep=',', header=0)\n",
    "df_ASRS = df_ASRS.ix[:lim,1:]\n",
    "print(df_ASRS.shape)\n",
    "df_ASRS.head()"
   ]
  },
  {
   "cell_type": "code",
   "execution_count": 235,
   "metadata": {},
   "outputs": [],
   "source": [
    "def Head2count(df) :\n",
    "    Head = df.columns.values\n",
    "    Head2count = {}\n",
    "    for i, title in enumerate(Head) :\n",
    "        Head2count[title] = i\n",
    "    return Head2count"
   ]
  },
  {
   "cell_type": "code",
   "execution_count": 236,
   "metadata": {},
   "outputs": [
    {
     "data": {
      "text/plain": [
       "{'ACN': 0,\n",
       " 'Description': 1,\n",
       " 'Résumé': 2,\n",
       " 'Composant_concerné': 3,\n",
       " 'Nature_primaire_problème': 4,\n",
       " 'Type_problème': 5,\n",
       " 'Description_problème': 6,\n",
       " 'Détection': 7,\n",
       " 'Facteur_humain': 8,\n",
       " 'Facteurs_impliqués': 9}"
      ]
     },
     "execution_count": 236,
     "metadata": {},
     "output_type": "execute_result"
    }
   ],
   "source": [
    "Head2count(df_ASRS)"
   ]
  },
  {
   "cell_type": "markdown",
   "metadata": {},
   "source": [
    "## 1.2 Segmentation et formattage de texte"
   ]
  },
  {
   "cell_type": "code",
   "execution_count": 237,
   "metadata": {},
   "outputs": [],
   "source": [
    "# --------------------------- Normalisation -------------------------------\n",
    "def unicodeToAscii(s):\n",
    "    \"\"\"Turn a Unicode string to plain ASCII, thanks to http://stackoverflow.com/a/518232/2809427\"\"\"\n",
    "    return ''.join(\n",
    "        c for c in unicodedata.normalize('NFD', s)\n",
    "        if unicodedata.category(c) != 'Mn'\n",
    "    )\n",
    "\n",
    "\n",
    "def normalizeString(s):\n",
    "    '''Remove rare symbols from a string'''\n",
    "    s = unicodeToAscii(s.lower().strip())\n",
    "    s = re.sub(r\"[^a-zA-Z0-9\\>\\=]+\", r\" \", s)  # 'r' before a string is for 'raw' # ?&\\%\\_\\- removed # set('''.,:;()*#&-_%!?/\\'\")''')\n",
    "    return s\n",
    "\n",
    "\n",
    "\n",
    "# -------------------- segmentation de texte -------------------------------------\n",
    "def segmentText(text, stopwords = []) :\n",
    "    '''Segments a string into a list of sentences, each consisting of a list of words as strings'''\n",
    "    new_text = text.replace('   ', '.').split('.')\n",
    "    new_text = [normalizeString(line) for line in new_text]\n",
    "    new_text = [[word for word in line.split() if word not in stopwords] for line in new_text]\n",
    "    new_text = [line for line in new_text if line!= []]\n",
    "    return new_text\n",
    "\n",
    "    \n",
    "def segmentTextNltk(text, stopwords = []) :\n",
    "    '''Segments a string into a list of sentences, each consisting of a list of words as strings'''\n",
    "    #text = clean_sentence_punct(text.lower())\n",
    "    text = text.lower()\n",
    "    new_text = sent_tokenize(text) \n",
    "    new_text = [word_tokenize(line) for line in new_text]\n",
    "    new_text = [[word for word in line if word not in stopwords] for line in new_text]\n",
    "    new_text = [line for line in new_text if line!= []]\n",
    "    return new_text\n",
    "    \n",
    "\n",
    "stopwords4resume = nltk.corpus.stopwords.words('english')\n",
    "\n",
    "\n",
    "def formatTextASRS(df) :\n",
    "    dfe = df.copy()\n",
    "    for i in range(len(dfe)) :\n",
    "        # ------------------------------------------------------------ formattage des textes\n",
    "        # formattage des descriptions\n",
    "        text = dfe.ix[i, 1]\n",
    "        new_text = segmentText(text)\n",
    "        dfe.set_value(i, 'Description', new_text)\n",
    "        \n",
    "        # formattage des résumés\n",
    "        text = dfe.ix[i, 2]\n",
    "        new_text = segmentText(text, stopwords4resume)[0]\n",
    "        dfe.set_value(i, 'Résumé', new_text)\n",
    "        \n",
    "        # ------------------------------------------------------------ formattage des variables multi-label\n",
    "        # formattage des types de problèmes (multi-label)\n",
    "        text = dfe.ix[i, 5]\n",
    "        new_text = text.split('; ') if text is not np.nan else np.nan \n",
    "        dfe.set_value(i, 'Type_problème', new_text)\n",
    "\n",
    "        # formattage des descriptions de problèmes (multi-label)\n",
    "        text = dfe.ix[i, 6]\n",
    "        new_text = text.split('; ') if text is not np.nan else np.nan \n",
    "        dfe.set_value(i, 'Description_problème', new_text)\n",
    "\n",
    "        # formattage des détections (multi-label)\n",
    "        text = dfe.ix[i, 7]\n",
    "        new_text = text.split('; ') if text is not np.nan else np.nan \n",
    "        dfe.set_value(i, 'Détection', new_text)\n",
    "\n",
    "        # formattage des facteurs humains (multi-label)\n",
    "        text = dfe.ix[i, 8]\n",
    "        new_text = text.split('; ') if text is not np.nan else np.nan \n",
    "        dfe.set_value(i, 'Facteur_humain', new_text)\n",
    "\n",
    "        # formattage des facteurs impliqués (multi-label)\n",
    "        text = dfe.ix[i, 9]\n",
    "        new_text = text.split('; ') if text is not np.nan else np.nan \n",
    "        dfe.set_value(i, 'Facteurs_impliqués', new_text)\n",
    "    return dfe\n",
    "\n",
    "\n",
    "def cleanPrint(df, index) :\n",
    "    text = df.ix[index, 1]\n",
    "    chaine = ''\n",
    "    for line in text :\n",
    "        chaine += ' '.join(line) + '\\n\\n'\n",
    "    print(chaine)"
   ]
  },
  {
   "cell_type": "code",
   "execution_count": 238,
   "metadata": {},
   "outputs": [],
   "source": [
    "df_ASRS = formatTextASRS(df_ASRS)"
   ]
  },
  {
   "cell_type": "code",
   "execution_count": 239,
   "metadata": {
    "scrolled": true
   },
   "outputs": [
    {
     "data": {
      "text/html": [
       "<div>\n",
       "<style scoped>\n",
       "    .dataframe tbody tr th:only-of-type {\n",
       "        vertical-align: middle;\n",
       "    }\n",
       "\n",
       "    .dataframe tbody tr th {\n",
       "        vertical-align: top;\n",
       "    }\n",
       "\n",
       "    .dataframe thead th {\n",
       "        text-align: right;\n",
       "    }\n",
       "</style>\n",
       "<table border=\"1\" class=\"dataframe\">\n",
       "  <thead>\n",
       "    <tr style=\"text-align: right;\">\n",
       "      <th></th>\n",
       "      <th>ACN</th>\n",
       "      <th>Description</th>\n",
       "      <th>Résumé</th>\n",
       "      <th>Composant_concerné</th>\n",
       "      <th>Nature_primaire_problème</th>\n",
       "      <th>Type_problème</th>\n",
       "      <th>Description_problème</th>\n",
       "      <th>Détection</th>\n",
       "      <th>Facteur_humain</th>\n",
       "      <th>Facteurs_impliqués</th>\n",
       "    </tr>\n",
       "  </thead>\n",
       "  <tbody>\n",
       "    <tr>\n",
       "      <th>0</th>\n",
       "      <td>1372405</td>\n",
       "      <td>[[briefly, encountered, severe, turbulence, at...</td>\n",
       "      <td>[a319, captain, reported, encountering, severe...</td>\n",
       "      <td>NaN</td>\n",
       "      <td>Weather</td>\n",
       "      <td>NaN</td>\n",
       "      <td>[Deviation - Altitude Excursion From Assigned ...</td>\n",
       "      <td>[Person Flight Crew]</td>\n",
       "      <td>[Situational Awareness]</td>\n",
       "      <td>[Weather, Human Factors]</td>\n",
       "    </tr>\n",
       "    <tr>\n",
       "      <th>1</th>\n",
       "      <td>1502548</td>\n",
       "      <td>[[during, climb, thru, approximately, 15000, f...</td>\n",
       "      <td>[b737, captain, reported, smoke, cabin, climbout]</td>\n",
       "      <td>NaN</td>\n",
       "      <td>Aircraft</td>\n",
       "      <td>NaN</td>\n",
       "      <td>[Aircraft Equipment Problem Less Severe, Fligh...</td>\n",
       "      <td>[Person Flight Attendant, Person Flight Crew]</td>\n",
       "      <td>[Troubleshooting, Time Pressure, Distraction, ...</td>\n",
       "      <td>[Aircraft]</td>\n",
       "    </tr>\n",
       "    <tr>\n",
       "      <th>2</th>\n",
       "      <td>1340662</td>\n",
       "      <td>[[the, problem, was, a, loss, of, directional,...</td>\n",
       "      <td>[pa, 28, pilot, reported, losing, directional,...</td>\n",
       "      <td>NaN</td>\n",
       "      <td>Human Factors</td>\n",
       "      <td>NaN</td>\n",
       "      <td>[Ground Event / Encounter Loss Of Aircraft Con...</td>\n",
       "      <td>[Person Flight Crew]</td>\n",
       "      <td>[Situational Awareness, Training / Qualification]</td>\n",
       "      <td>[Human Factors, Weather]</td>\n",
       "    </tr>\n",
       "    <tr>\n",
       "      <th>3</th>\n",
       "      <td>1226984</td>\n",
       "      <td>[[i, departed, for, my, second, break, in, fli...</td>\n",
       "      <td>[be35, pilot, reports, flying, new, engine, br...</td>\n",
       "      <td>Reciprocating Engine Assembly</td>\n",
       "      <td>Ambiguous</td>\n",
       "      <td>[Malfunctioning]</td>\n",
       "      <td>[Aircraft Equipment Problem Less Severe, Infli...</td>\n",
       "      <td>[Person Flight Crew]</td>\n",
       "      <td>[Distraction, Situational Awareness]</td>\n",
       "      <td>[Human Factors, Aircraft]</td>\n",
       "    </tr>\n",
       "    <tr>\n",
       "      <th>4</th>\n",
       "      <td>1251840</td>\n",
       "      <td>[[takeoff, and, climb, were, normal, at, this,...</td>\n",
       "      <td>[medium, large, transport, flight, crew, exper...</td>\n",
       "      <td>Turbine Engine</td>\n",
       "      <td>Aircraft</td>\n",
       "      <td>[Failed]</td>\n",
       "      <td>[Aircraft Equipment Problem Critical, Flight D...</td>\n",
       "      <td>[Person Flight Crew]</td>\n",
       "      <td>NaN</td>\n",
       "      <td>[Aircraft]</td>\n",
       "    </tr>\n",
       "  </tbody>\n",
       "</table>\n",
       "</div>"
      ],
      "text/plain": [
       "       ACN                                        Description  \\\n",
       "0  1372405  [[briefly, encountered, severe, turbulence, at...   \n",
       "1  1502548  [[during, climb, thru, approximately, 15000, f...   \n",
       "2  1340662  [[the, problem, was, a, loss, of, directional,...   \n",
       "3  1226984  [[i, departed, for, my, second, break, in, fli...   \n",
       "4  1251840  [[takeoff, and, climb, were, normal, at, this,...   \n",
       "\n",
       "                                              Résumé  \\\n",
       "0  [a319, captain, reported, encountering, severe...   \n",
       "1  [b737, captain, reported, smoke, cabin, climbout]   \n",
       "2  [pa, 28, pilot, reported, losing, directional,...   \n",
       "3  [be35, pilot, reports, flying, new, engine, br...   \n",
       "4  [medium, large, transport, flight, crew, exper...   \n",
       "\n",
       "              Composant_concerné Nature_primaire_problème     Type_problème  \\\n",
       "0                            NaN                  Weather               NaN   \n",
       "1                            NaN                 Aircraft               NaN   \n",
       "2                            NaN            Human Factors               NaN   \n",
       "3  Reciprocating Engine Assembly                Ambiguous  [Malfunctioning]   \n",
       "4                 Turbine Engine                 Aircraft          [Failed]   \n",
       "\n",
       "                                Description_problème  \\\n",
       "0  [Deviation - Altitude Excursion From Assigned ...   \n",
       "1  [Aircraft Equipment Problem Less Severe, Fligh...   \n",
       "2  [Ground Event / Encounter Loss Of Aircraft Con...   \n",
       "3  [Aircraft Equipment Problem Less Severe, Infli...   \n",
       "4  [Aircraft Equipment Problem Critical, Flight D...   \n",
       "\n",
       "                                       Détection  \\\n",
       "0                           [Person Flight Crew]   \n",
       "1  [Person Flight Attendant, Person Flight Crew]   \n",
       "2                           [Person Flight Crew]   \n",
       "3                           [Person Flight Crew]   \n",
       "4                           [Person Flight Crew]   \n",
       "\n",
       "                                      Facteur_humain  \\\n",
       "0                            [Situational Awareness]   \n",
       "1  [Troubleshooting, Time Pressure, Distraction, ...   \n",
       "2  [Situational Awareness, Training / Qualification]   \n",
       "3               [Distraction, Situational Awareness]   \n",
       "4                                                NaN   \n",
       "\n",
       "          Facteurs_impliqués  \n",
       "0   [Weather, Human Factors]  \n",
       "1                 [Aircraft]  \n",
       "2   [Human Factors, Weather]  \n",
       "3  [Human Factors, Aircraft]  \n",
       "4                 [Aircraft]  "
      ]
     },
     "execution_count": 239,
     "metadata": {},
     "output_type": "execute_result"
    }
   ],
   "source": [
    "df_ASRS.head()"
   ]
  },
  {
   "cell_type": "code",
   "execution_count": 240,
   "metadata": {
    "scrolled": true
   },
   "outputs": [
    {
     "name": "stdout",
     "output_type": "stream",
     "text": [
      "Nombre de NANs par colonne sur 251 lignes :\n",
      "\n",
      " ACN                           0\n",
      "Description                   0\n",
      "Résumé                        0\n",
      "Composant_concerné          160\n",
      "Nature_primaire_problème      0\n",
      "Type_problème               164\n",
      "Description_problème          1\n",
      "Détection                     2\n",
      "Facteur_humain               59\n",
      "Facteurs_impliqués            0\n",
      "dtype: int64\n"
     ]
    }
   ],
   "source": [
    "print('Nombre de NANs par colonne sur', len(df_ASRS) ,'lignes :\\n\\n',df_ASRS.isnull().sum())"
   ]
  },
  {
   "cell_type": "markdown",
   "metadata": {},
   "source": [
    "## 1.3 Split Train / Val / Test"
   ]
  },
  {
   "cell_type": "code",
   "execution_count": 295,
   "metadata": {},
   "outputs": [],
   "source": [
    "def spliter(XY, ratio_tst) :\n",
    "    nbre_dev = int((1-ratio_tst)*len(XY))\n",
    "    liste_dev = [i for i in range(nbre_dev)]\n",
    "    liste_tst = [i for i in range(nbre_dev, len(XY))]\n",
    "    XY_dev = XY[liste_dev, :]\n",
    "    XY_tst = XY[liste_tst, :]\n",
    "    return XY_dev, XY_tst\n",
    "\n",
    "\n",
    "\n",
    "def splitN(XY, num) :\n",
    "    liste = [i for i in range(len(XY))]\n",
    "    split_lists = [[el for i, el in enumerate(liste) if i % num == j] for j in range(num)]\n",
    "    return [XY[liste, :] for liste in split_lists]\n",
    "\n",
    "            \n",
    "\n",
    "def prepareDataDev(df, X_col, Y_col, tst_ratio, cross_val_num) :\n",
    "    # isolate relevant part of the df\n",
    "    Head = [X_col, Y_col]\n",
    "    df_out = df[Head].copy()\n",
    "    df_out = df_out.dropna()\n",
    "    df_out = df_out.reset_index(drop=True)\n",
    "    \n",
    "    XY = df_out.ix[:, :].values\n",
    "    \n",
    "    # split tst data from the rest\n",
    "    XY_dev, XY_tst = spliter(XY, tst_ratio)\n",
    "    X_tst = XY_tst[:, 0]\n",
    "    Y_tst = XY_tst[:, 1]\n",
    "    \n",
    "    # split dev part for cross validation\n",
    "    XY_list = splitN(XY_dev, cross_val_num)\n",
    "    \n",
    "    List_dev = []\n",
    "    for i, XYi in enumerate(XY_list) :\n",
    "        XY_list_copy = XY_list.copy()\n",
    "        del XY_list_copy[i]\n",
    "        XY_list_copy = np.concatenate(tuple(XY_list_copy))\n",
    "        \n",
    "        X_trn = XY_list_copy[:, 0]\n",
    "        Y_trn = XY_list_copy[:, 1]        \n",
    "        \n",
    "        X_val = XYi[:, 0]\n",
    "        Y_val = XYi[:, 1]\n",
    "        \n",
    "        out = {'trn' : [X_trn, Y_trn], \n",
    "               'val' : [X_val, Y_val]\n",
    "              }\n",
    "        List_dev.append(out)\n",
    "    \n",
    "    return List_dev, X_tst, Y_tst, XY_dev, XY"
   ]
  },
  {
   "cell_type": "code",
   "execution_count": 296,
   "metadata": {},
   "outputs": [],
   "source": [
    "ASRS_dev, X_ASRS_tst, Y_ASRS_tst, XY_ASRS_dev, XY_ASRS = prepareDataDev(df_ASRS, \n",
    "                                                              X_col = 'Description', \n",
    "                                                              Y_col = 'Résumé', \n",
    "                                                              tst_ratio = 0.2, \n",
    "                                                              cross_val_num = 5)"
   ]
  },
  {
   "cell_type": "markdown",
   "metadata": {},
   "source": [
    "# 2. Language\n",
    "\n",
    "## 2.1 Classe de language"
   ]
  },
  {
   "cell_type": "code",
   "execution_count": 243,
   "metadata": {},
   "outputs": [],
   "source": [
    "class Lang:\n",
    "    def __init__(self, name, init = 0):\n",
    "        self.name = name\n",
    "        if init == 0 :\n",
    "            self.word2index = {}\n",
    "            self.word2count = {}\n",
    "            self.index2word = {}\n",
    "            self.n_words = 0\n",
    "        elif init == 2 :\n",
    "            self.word2index = {\"SOS\": 0, \"EOS\": 1}\n",
    "            self.word2count = {\"SOS\": 0, \"EOS\": 0}\n",
    "            self.index2word = {0: \"SOS\", 1: \"EOS\"}\n",
    "            self.n_words = 2\n",
    "        elif init == 3 :\n",
    "            self.word2index = {\"SOS\": 0, \"EOS\": 1, \"UNK\": 2}\n",
    "            self.word2count = {\"SOS\": 0, \"EOS\": 0, \"UNK\": 0}\n",
    "            self.index2word = {0: \"SOS\", 1: \"EOS\", 2: \"UNK\"}\n",
    "            self.n_words = 3\n",
    "\n",
    "        \n",
    "    def addWord(self, word):\n",
    "        '''Add a word to the language'''\n",
    "        if word not in self.word2index:\n",
    "            self.word2index[word] = self.n_words\n",
    "            self.word2count[word] = 1\n",
    "            self.index2word[self.n_words] = word\n",
    "            self.n_words += 1\n",
    "        else:\n",
    "            self.word2count[word] += 1\n",
    "            \n",
    "            \n",
    "    def addSentence(self, sentence):\n",
    "        '''Add to the language all words of a sentence'''\n",
    "        if type(sentence) == str :\n",
    "            for word in sentence.split():\n",
    "                self.addWord(word)\n",
    "        elif type(sentence) == list :\n",
    "            for word in sentence:\n",
    "                self.addWord(word)            \n",
    "            \n",
    "            \n",
    "    def addDescriptions(self, descriptions):\n",
    "        '''Add to the language all words contained into : either all user utterances \n",
    "          (if i = 0) or all bot utterances (if i = 1), of a list of dialogues'''\n",
    "        for description in descriptions :\n",
    "            \n",
    "            # si la description est une seule ligne\n",
    "            if type(description) == str :\n",
    "                    try :\n",
    "                        self.addSentence(description)\n",
    "                    except IndexError:\n",
    "                        print(\"Problem with {}\".format(description))\n",
    "                        \n",
    "            # si la description est une liste de lignes\n",
    "            elif type(description) == list :\n",
    "                for line in description:\n",
    "                    try :\n",
    "                        self.addSentence(line)\n",
    "                    except IndexError:\n",
    "                        print(\"Problem with {}\".format(line))\n",
    "                              \n",
    "            # sinon\n",
    "            else :\n",
    "                print(\"Problem with {}\".format(description))"
   ]
  },
  {
   "cell_type": "code",
   "execution_count": 244,
   "metadata": {},
   "outputs": [],
   "source": [
    "def generateLanguageFromNumpy(XY):\n",
    "    lang = Lang('descriptions', init = 2)\n",
    "    for i in range(XY.shape[1]):\n",
    "        lang.addDescriptions(XY[:, i])\n",
    "    print(\"Mots comptés : \", lang.n_words)\n",
    "    return lang\n",
    "\n",
    "\n",
    "def generateLanguageFromPanda(df, i):\n",
    "    descriptions = df.ix[:, i].values\n",
    "    lang = Lang('descriptions', init = 2)\n",
    "    lang.addDescriptions(descriptions)\n",
    "    print(\"Mots comptés : \", lang.n_words)\n",
    "    return lang"
   ]
  },
  {
   "cell_type": "code",
   "execution_count": 297,
   "metadata": {},
   "outputs": [
    {
     "name": "stdout",
     "output_type": "stream",
     "text": [
      "Mots comptés :  5693\n"
     ]
    }
   ],
   "source": [
    "lang_ASRS = generateLanguageFromNumpy(XY_ASRS)"
   ]
  },
  {
   "cell_type": "markdown",
   "metadata": {},
   "source": [
    "## 2.2 Glove vectors"
   ]
  },
  {
   "cell_type": "code",
   "execution_count": 246,
   "metadata": {},
   "outputs": [],
   "source": [
    "#taken from https://medium.com/@martinpella/how-to-use-pre-trained-word-embeddings-in-pytorch-71ca59249f76\n",
    "\n",
    "# --------------------- comparison with Glove vocab ------------------------\n",
    "def vocabGlove(name) :\n",
    "    words = []\n",
    "    path = path_to_rep + '/vectors/GloVe/' + name \n",
    "    with open(path + '.txt', 'rb') as f:\n",
    "        for l in f:\n",
    "            line = l.decode().split()\n",
    "            word = line[0]\n",
    "            words.append(word)\n",
    "    return words\n",
    "\n",
    "\n",
    "def intersection(lst1, lst2): \n",
    "    return list(set(lst1) & set(lst2))\n",
    "\n",
    "\n",
    "def comparaison(lang) :\n",
    "    vocab_lang = list(lang.word2index.keys())\n",
    "    intersect_glove = intersection(vocab_glove, vocab_lang)\n",
    "    reste_glove = np.setdiff1d(vocab_lang, intersect_glove)\n",
    "    printComparaison('glove', vocab_lang, intersect_glove, reste_glove)\n",
    "    return intersect_glove, reste_glove\n",
    "\n",
    "\n",
    "def printComparaison(nom, vocab_lang, intersect, reste) :\n",
    "    print('proportion de mots du langage appartenants à {}  {:.2f} % \\nproportion de mots du langage ny appartenant pas     {:.2f} %'.format(nom, len(intersect)*100/len(vocab_lang),len(reste)*100/len(vocab_lang) ) )\n",
    "\n",
    "\n",
    "# --------------------- detect missing spaces ------------------------\n",
    "def checkWhetherBroken(vocab, clean_vocab) :\n",
    "    exit = {}\n",
    "    for word in vocab :\n",
    "        exit[word] = True if word in clean_vocab else False\n",
    "    return exit\n",
    "\n",
    "def checkMissingSpaces(word, clean_vocab) :\n",
    "    for word2 in clean_vocab :\n",
    "        if word.startswith(word2) :\n",
    "            rest = word.replace(word2, '')\n",
    "            if rest in clean_vocab :\n",
    "                return word2 + ' ' + rest\n",
    "    return word"
   ]
  },
  {
   "cell_type": "code",
   "execution_count": 298,
   "metadata": {},
   "outputs": [
    {
     "name": "stdout",
     "output_type": "stream",
     "text": [
      "proportion de mots du langage appartenants à glove  97.19 % \n",
      "proportion de mots du langage ny appartenant pas     2.81 %\n"
     ]
    }
   ],
   "source": [
    "vocab_glove = vocabGlove('glove.42B.300d') #'glove.6B.200d'# 'glove.6B.50d'\n",
    "\n",
    "words_glove, reste_glove = comparaison(lang_ASRS)"
   ]
  },
  {
   "cell_type": "code",
   "execution_count": 283,
   "metadata": {},
   "outputs": [],
   "source": [
    "def langAndVectFromGlove(name, word_list, dim) :\n",
    "    path = path_to_rep + '/vectors/GloVe/' + name \n",
    "    with open(path + '.txt', 'rb') as f:\n",
    "        ind2vec = bcolz.carray(np.zeros(1), rootdir=path, mode='w')\n",
    "        vocab_name = 'vocab_' + name \n",
    "        lang = Lang(vocab_name, 0)\n",
    "        for i, l in enumerate(f):\n",
    "            line = l.decode().split()\n",
    "            word = line[0]\n",
    "            if word in word_list :\n",
    "                lang.addWord(word)\n",
    "                vect = np.array(line[1:]).astype(np.float)\n",
    "                ind2vec.append(vect)\n",
    "            \n",
    "    ind2vec = bcolz.carray(ind2vec[1:].reshape((-1, dim)), rootdir=path, mode='w') \n",
    "\n",
    "    weights_matrix = np.zeros((lang.n_words, dim))\n",
    "    for i in range(lang.n_words):\n",
    "        weights_matrix[i] = ind2vec[i]\n",
    "        \n",
    "    return lang, weights_matrix\n",
    "\n",
    "        \n",
    "\n",
    "def classesVectFromGlove(name, classes, dim) :\n",
    "    classes[-2] = 'zero'\n",
    "    classes_vectors = np.zeros((len(classes), dim))\n",
    "    path = path_to_rep + '/vectors/GloVe/' + name \n",
    "    with open(path + '.txt', 'rb') as f:\n",
    "        ind2vec = bcolz.carray(np.zeros(1), rootdir=path, mode='w')\n",
    "        for i, l in enumerate(f):\n",
    "            line = l.decode().split()\n",
    "            word = line[0]\n",
    "            for i, classe in enumerate(classes) :\n",
    "                clean_classe = normalizeString(classe).split()\n",
    "                if word in clean_classe :\n",
    "                    classes_vectors[i] += np.array(line[1:]).astype(np.float)\n",
    "        \n",
    "    return classes_vectors"
   ]
  },
  {
   "cell_type": "code",
   "execution_count": 299,
   "metadata": {},
   "outputs": [],
   "source": [
    "lang_glove, ind2vec_glove = langAndVectFromGlove('glove.42B.300d', words_glove, dim = 300) # 'glove.6B.200d'"
   ]
  },
  {
   "cell_type": "code",
   "execution_count": 300,
   "metadata": {},
   "outputs": [
    {
     "data": {
      "text/plain": [
       "5533"
      ]
     },
     "execution_count": 300,
     "metadata": {},
     "output_type": "execute_result"
    }
   ],
   "source": [
    "lang_glove.n_words"
   ]
  },
  {
   "cell_type": "markdown",
   "metadata": {},
   "source": [
    "# 3 Développement\n",
    "\n",
    "Nos modules :"
   ]
  },
  {
   "cell_type": "code",
   "execution_count": 28,
   "metadata": {},
   "outputs": [
    {
     "data": {
      "text/plain": [
       "['AdditiveAttention',\n",
       " 'RecurrentWordsEncoder',\n",
       " 'TextEncoder',\n",
       " 'MultiHeadAdditiveAttention',\n",
       " 'RecurrentHierarchicalEncoder',\n",
       " 'MultilabelDecoder',\n",
       " 'MultilabelDecoderV2',\n",
       " 'ClassDecoder',\n",
       " 'WordsDecoder']"
      ]
     },
     "execution_count": 28,
     "metadata": {},
     "output_type": "execute_result"
    }
   ],
   "source": [
    "import libNLP.modules as mod\n",
    "mod.__all__"
   ]
  },
  {
   "cell_type": "code",
   "execution_count": 29,
   "metadata": {},
   "outputs": [],
   "source": [
    "#from libNLP.modules import *"
   ]
  },
  {
   "cell_type": "markdown",
   "metadata": {},
   "source": [
    "## 3.1 Décodeur de mots"
   ]
  },
  {
   "cell_type": "code",
   "execution_count": 30,
   "metadata": {},
   "outputs": [],
   "source": [
    "from libNLP.modules import WordsDecoder"
   ]
  },
  {
   "cell_type": "markdown",
   "metadata": {},
   "source": [
    "\n",
    "\n",
    "## 3.2 Seq2seq de base\n",
    "\n",
    "Seq2seq de base pouvant servir d'auto-encodeur des phrases de résumé"
   ]
  },
  {
   "cell_type": "code",
   "execution_count": 31,
   "metadata": {},
   "outputs": [],
   "source": [
    "class Seq2seq(nn.Module):\n",
    "    '''Transforms a sentence into a distribution over words of a given document'''\n",
    "    def __init__(self, text_encoder, word_decoder) :\n",
    "        super(Seq2seq, self).__init__() \n",
    "        # modules     \n",
    "        self.text_encoder = text_encoder\n",
    "        self.word_decoder = word_decoder\n",
    "        \n",
    "    \n",
    "    def nbParametres(self) :\n",
    "        count = 0\n",
    "        for p in self.parameters():\n",
    "            if p.requires_grad == True :\n",
    "                count += p.data.nelement()\n",
    "        return count\n",
    "\n",
    "    \n",
    "    def loadSubModule(self, text_encoder = None, word_decoder = None) :\n",
    "        if text_encoder is not None :\n",
    "            self.text_encoder = text_encoder\n",
    "        if word_decoder is not None :\n",
    "            self.word_decoder = word_decoder\n",
    "        return\n",
    "    \n",
    "    \n",
    "    def freezeSubModule(self, text_encoder = False, word_decoder = False) :\n",
    "        for param in self.text_encoder.parameters():\n",
    "            param.requires_grad = not text_encoder\n",
    "        for param in self.word_decoder.parameters():\n",
    "            param.requires_grad = not word_decoder\n",
    "        return\n",
    "        \n",
    "        \n",
    "    # ------------ 1st working mode : training mode ------------\n",
    "    def answerTrain(self, sentence, target = None, rand = 0):\n",
    "        \n",
    "        words_vectors, sentence_vector = self.text_encoder(sentence, rand)\n",
    "        target_answer = target if random.random() < self.word_decoder.teacher_forcing_ratio else None\n",
    "        answer, decoder_outputs = self.word_decoder(sentence_vector, target_answer)\n",
    "        \n",
    "        return answer, decoder_outputs  \n",
    "\n",
    "        \n",
    "    # ------------ 2nd working mode : test mode ------------\n",
    "    def forward(self, sentence):\n",
    "        \n",
    "        words_vectors, sentence_vector = self.text_encoder(sentence, rand = 0)\n",
    "        answer, decoder_outputs = self.word_decoder(sentence_vector)\n",
    "        \n",
    "        return answer, decoder_outputs  "
   ]
  },
  {
   "cell_type": "markdown",
   "metadata": {},
   "source": [
    "Instanciation de l'auto-encodeur simple :"
   ]
  },
  {
   "cell_type": "code",
   "execution_count": 32,
   "metadata": {},
   "outputs": [],
   "source": [
    "from libNLP.modules import RecurrentWordsEncoder, TextEncoder\n",
    "\n",
    "\n",
    "def Seq2seqCreator(lang,                     ###\n",
    "                   embedding_dim,              #\n",
    "                   hidden_dim,                 # --- Encoder options\n",
    "                   pre_entrainement,           #\n",
    "                   freeze,                   ###\n",
    "\n",
    "                   output_lang,              ###\n",
    "                   output_dim,                 #\n",
    "                   pre_entrainement_output,    # --- Decoder options\n",
    "                   freeze_output,              #\n",
    "                   teacher_forcing_ratio,      #\n",
    "                   dropout                   ###\n",
    "                  ):\n",
    "    '''Create an agent with specified dimensions and specificities\n",
    "    '''\n",
    "    lang_size = lang.n_words\n",
    "    word_encoder = RecurrentWordsEncoder(lang_size, embedding_dim, hidden_dim, pre_entrainement, freeze, dropout)\n",
    "    text_encoder = TextEncoder(lang, word_encoder)\n",
    "\n",
    "    word_decoder = WordsDecoder(word_encoder.output_dim, \n",
    "                                output_dim, \n",
    "                                output_lang, \n",
    "                                pre_entrainement_output, \n",
    "                                freeze_output,\n",
    "                                teacher_forcing_ratio,\n",
    "                                dropout)\n",
    "    \n",
    "    seq2seq = Seq2seq(text_encoder, word_decoder)\n",
    "\n",
    "    print(\"Agent's number of parameters : {} \".format(seq2seq.nbParametres()))\n",
    "    return seq2seq"
   ]
  },
  {
   "cell_type": "markdown",
   "metadata": {},
   "source": [
    "## 3.3 Convertisseur de _phrase_ en distribution"
   ]
  },
  {
   "cell_type": "code",
   "execution_count": 33,
   "metadata": {},
   "outputs": [],
   "source": [
    "class SentenceConverter(nn.Module):\n",
    "    '''Transforms a sentence into a distribution over words of a given document'''\n",
    "    def __init__(self, text_encoder, hierarchical_encoder, word_decoder) :\n",
    "        super(SentenceConverter, self).__init__() \n",
    "        # modules     \n",
    "        self.text_encoder = text_encoder\n",
    "        self.hierarchical_encoder = hierarchical_encoder\n",
    "        self.word_decoder = word_decoder\n",
    "    \n",
    "    \n",
    "    \n",
    "    def loadSubModule(self, text_encoder = None, hierarchical_encoder = None, word_decoder = None) :\n",
    "        if text_encoder is not None :\n",
    "            self.text_encoder = text_encoder\n",
    "        if hierarchical_encoder is not None :\n",
    "            self.hierarchical_encoder = hierarchical_encoder\n",
    "        if word_decoder is not None :\n",
    "            self.word_decoder = word_decoder\n",
    "        return\n",
    "    \n",
    "    \n",
    "    def freezeSubModule(self, text_encoder = False, hierarchical_encoder = False, word_decoder = False) :\n",
    "        for param in self.text_encoder.parameters():\n",
    "            param.requires_grad = not text_encoder\n",
    "        for param in self.hierarchical_encoder.parameters():\n",
    "            param.requires_grad = not hierarchical_encoder\n",
    "        for param in self.word_decoder.parameters():\n",
    "            param.requires_grad = not word_decoder\n",
    "        return\n",
    "    \n",
    "        \n",
    "    def nbParametres(self) :\n",
    "        count = 0\n",
    "        for p in self.parameters():\n",
    "            if p.requires_grad == True :\n",
    "                count += p.data.nelement()\n",
    "        return count\n",
    "        \n",
    "        \n",
    "    # ------------ 1st working mode : training mode ------------\n",
    "    def answerTrain(self, description, sentence, rand = 0):\n",
    "        \n",
    "        _ , query_as_list = self.text_encoder(sentence, rand)\n",
    "        query = query_as_list[0]\n",
    "        words_memory , _ = self.text_encoder(description, rand)\n",
    "        text_vector, attn1_weights_list, attn2_weights_list = self.hierarchical_encoder(words_memory, query)\n",
    "        answer, decoder_outputs = self.word_decoder(text_vector, sentence)\n",
    "        \n",
    "        return answer, decoder_outputs, attn1_weights_list, attn2_weights_list\n",
    "\n",
    "        \n",
    "    # ------------ 2nd working mode : test mode ------------\n",
    "    def forward(self, description, sentence):\n",
    "        \n",
    "        _ , query_as_list = self.text_encoder(sentence, rand = 0)\n",
    "        query = query_as_list[0]\n",
    "        words_memory , _ = self.text_encoder(description, rand = 0)\n",
    "        text_vector, attn1_weights_list, attn2_weights_list = self.hierarchical_encoder(words_memory, query)\n",
    "        answer, decoder_outputs = self.word_decoder(text_vector)\n",
    "        \n",
    "        return answer, decoder_outputs, attn1_weights_list, attn2_weights_list  "
   ]
  },
  {
   "cell_type": "markdown",
   "metadata": {},
   "source": [
    "Instanciation du convertisseur :"
   ]
  },
  {
   "cell_type": "code",
   "execution_count": 34,
   "metadata": {},
   "outputs": [],
   "source": [
    "from libNLP.modules import RecurrentWordsEncoder, TextEncoder, RecurrentHierarchicalEncoder\n",
    "\n",
    "\n",
    "def SentenceConverterCreator(lang,                     ###\n",
    "                             embedding_dim,              #\n",
    "                             hidden_dim,                 # --- Encoder options\n",
    "                             pre_entrainement,           #\n",
    "                             freeze,                   ###\n",
    "\n",
    "                             sentence_hidden_dim,      ###\n",
    "                             hops,                       # --- Hierarchical encoder options\n",
    "                             share,                      #\n",
    "                             dropout,                  ###\n",
    "\n",
    "                             output_lang,              ###\n",
    "                             output_dim,                 #\n",
    "                             pre_entrainement_output,    # --- Decoder options\n",
    "                             freeze_output,              #\n",
    "                             teacher_forcing_ratio     ###\n",
    "                            ):\n",
    "    '''Create an agent with specified dimensions and specificities\n",
    "    '''\n",
    "    lang_size = lang.n_words\n",
    "    word_encoder = RecurrentWordsEncoder(lang_size, \n",
    "                                         embedding_dim, \n",
    "                                         hidden_dim, \n",
    "                                         pre_entrainement, \n",
    "                                         freeze, \n",
    "                                         dropout)\n",
    "    \n",
    "    text_encoder = TextEncoder(lang, word_encoder)\n",
    "    word_hidden_dim = word_encoder.output_dim\n",
    "    n_heads = 1\n",
    "    hierarchical_encoder = RecurrentHierarchicalEncoder(word_hidden_dim,\n",
    "                                                        sentence_hidden_dim,\n",
    "                                                        base_query_dim = word_hidden_dim,\n",
    "                                                        n_heads = n_heads,\n",
    "                                                        hops = hops,\n",
    "                                                        share = share,\n",
    "                                                        dropout = dropout)\n",
    "    \n",
    "    text_dim = hierarchical_encoder.output_dim\n",
    "    word_decoder = WordsDecoder(text_dim, \n",
    "                                output_dim, \n",
    "                                output_lang, \n",
    "                                pre_entrainement_output, \n",
    "                                freeze_output,\n",
    "                                teacher_forcing_ratio,\n",
    "                                dropout)\n",
    "\n",
    "    converter = SentenceConverter(text_encoder, hierarchical_encoder, word_decoder)\n",
    "    \n",
    "    return converter"
   ]
  },
  {
   "cell_type": "markdown",
   "metadata": {},
   "source": [
    "Entrainement du convertisseur :"
   ]
  },
  {
   "cell_type": "code",
   "execution_count": 35,
   "metadata": {},
   "outputs": [],
   "source": [
    "class SentenceConverterTrainer(object):\n",
    "    def __init__(self, \n",
    "                 criterion = nn.NLLLoss(),  \n",
    "                 optimizer = optim.SGD,\n",
    "                 print_every=100):\n",
    "        \n",
    "        # relevant quantities\n",
    "        self.criterion = criterion\n",
    "        self.optimizer = optimizer\n",
    "        self.print_every = print_every\n",
    "        \n",
    "        \n",
    "    def asMinutes(self, s):\n",
    "        m = math.floor(s / 60)\n",
    "        s -= m * 60\n",
    "        return '%dm %ds' % (m, s)\n",
    "\n",
    "\n",
    "    def timeSince(self, since, percent):\n",
    "        now = time.time()\n",
    "        s = now - since\n",
    "        es = s / (percent)\n",
    "        rs = es - s\n",
    "        return '%s (- %s)' % (self.asMinutes(s), self.asMinutes(rs))\n",
    "        \n",
    "\n",
    "    def distance(self, agent_outputs, target_answer) :\n",
    "        \"\"\" Compute cumulated error between predicted output and ground answer.\"\"\"\n",
    "        loss = 0\n",
    "        loss_diff_mots = 0\n",
    "        agent_outputs_length = len(agent_outputs)\n",
    "        target_length = target_answer.size()[0]\n",
    "        Max = max(agent_outputs_length, target_length)\n",
    "        Min = min(agent_outputs_length, target_length)   \n",
    "        for i in range(Min):\n",
    "            agent_output = agent_outputs[i]\n",
    "            target_word = target_answer[i]  \n",
    "            loss = loss + self.criterion(agent_output, target_word)\n",
    "            topv, topi = agent_output.data.topk(1)\n",
    "            ni = topi[0][0]\n",
    "            if ni != target_word.data[0]:\n",
    "                loss_diff_mots += 1\n",
    "                \n",
    "        if agent_outputs_length != target_length :\n",
    "            loss_diff_mots += Max - Min\n",
    "        return loss, loss_diff_mots\n",
    "        \n",
    "        \n",
    "    def trainLoop(self, agent, description_batch, target_batch, optimizer, learning_rate, rand):\n",
    "        \"\"\"Performs a training loop, with forward pass and backward pass for gradient optimisation.\"\"\"\n",
    "        optimizer.zero_grad()\n",
    "        target_length = len(target_batch[0])\n",
    "        loss = 0\n",
    "        loss_diff = 0\n",
    "        for description, sentence in zip(description_batch, target_batch) :\n",
    "            target = agent.word_decoder.variableFromSentence(sentence[0], rand = rand)\n",
    "            agent_output, decoder_outputs, attn1_weights_list, attn2_weights_list = agent.answerTrain(description, \n",
    "                                                                                                      sentence,\n",
    "                                                                                                      rand)\n",
    "            loss2, loss_diff2 = self.distance(decoder_outputs, target)\n",
    "            loss = loss + loss2\n",
    "            loss_diff += loss_diff2\n",
    "        loss.backward()\n",
    "        optimizer.step()\n",
    "        return loss.data[0], loss_diff\n",
    "        \n",
    "        \n",
    "    def train(self, agent, \n",
    "              descriptions, \n",
    "              targets, \n",
    "              n_iters = 100, \n",
    "              mini_batch_size = 1,\n",
    "              learning_rate=0.01,\n",
    "              dic = None,\n",
    "              rand = 0\n",
    "             ):\n",
    "        \"\"\"Performs training over a given dataset and along a specified amount of loops.\"\"\"\n",
    "        start = time.time()\n",
    "        optimizer = self.optimizer([param for param in agent.parameters() if param.requires_grad == True], lr=learning_rate)\n",
    "        \n",
    "        print_loss_total = 0  \n",
    "        print_loss_diff_mots_total = 0\n",
    "        L = len(descriptions)\n",
    "        \n",
    "        for iter in range(1, n_iters + 1):\n",
    "            if dic is not None :\n",
    "                I = []\n",
    "                while I == [] :\n",
    "                    J = np.random.choice(range(len(dic)), mini_batch_size)\n",
    "                    for j in J :\n",
    "                        if dic[j] != [] :\n",
    "                            I.append(np.random.choice(dic[j]))\n",
    "                description_batch = descriptions[I]\n",
    "                target_batch = targets[I]\n",
    "            else :\n",
    "                I = np.random.choice(range(L), mini_batch_size)\n",
    "                description_batch = descriptions[I]\n",
    "                target_batch = targets[I]\n",
    "            \n",
    "            loss, loss_diff_mots = self.trainLoop(agent, description_batch, target_batch, optimizer, learning_rate, rand)\n",
    "        \n",
    "            # quantité d'erreurs sur la réponse i\n",
    "            print_loss_total += loss\n",
    "            print_loss_diff_mots_total += loss_diff_mots       \n",
    "            \n",
    "            if iter % (self.print_every / mini_batch_size) == 0:\n",
    "                print_loss_avg = print_loss_total * mini_batch_size / self.print_every\n",
    "                print_loss_diff_mots_avg = print_loss_diff_mots_total / self.print_every\n",
    "                print_loss_total = 0\n",
    "                print_loss_diff_mots_total = 0\n",
    "                print('%s (%d %d%%) %.4f %.2f' % (self.timeSince(start, iter / n_iters),\n",
    "                                             iter * mini_batch_size, iter / n_iters * 100, \n",
    "                                                  print_loss_avg, print_loss_diff_mots_avg))"
   ]
  },
  {
   "cell_type": "markdown",
   "metadata": {},
   "source": [
    "## 3.4 Convertisseur de _mot_ en distribution"
   ]
  },
  {
   "cell_type": "markdown",
   "metadata": {},
   "source": [
    "### 3.4.1 Base Converter sans contextualisation\n"
   ]
  },
  {
   "cell_type": "code",
   "execution_count": 528,
   "metadata": {},
   "outputs": [],
   "source": [
    "class NakedBaseConverter(nn.Module):\n",
    "    '''Transforms a sentence into a distribution over words of a given document'''\n",
    "    def __init__(self, lang, embedding_dim, pre_entrainement = None, freeze = False, softmax = False) :\n",
    "        super(NakedBaseConverter, self).__init__() \n",
    "        \n",
    "        self.lang = lang\n",
    "        self.lang_size = lang.n_words          # size of word vocabulary\n",
    "        self.embedding_dim = embedding_dim     # dimension of embedded words\n",
    "        self.softmax = F.softmax if softmax else None\n",
    "        self.embedding = nn.Embedding(self.lang_size, embedding_dim)\n",
    "        if pre_entrainement is not None :\n",
    "            self.embedding.load_state_dict({'weight': torch.Tensor(pre_entrainement)})\n",
    "        if freeze :\n",
    "            self.embedding.weight.requires_grad = False\n",
    "\n",
    "            \n",
    "    def indexesFromSentence(self, sentence, max_length = None, rand = 0):\n",
    "        '''Turn a given sentence into a list of indices according to a given language'''\n",
    "        indexes=[]\n",
    "        unknowns = 0\n",
    "        for word in sentence:\n",
    "            p = random.random()\n",
    "            if word not in self.lang.word2index.keys() :\n",
    "                pass\n",
    "                #indexes.append(UNK_token) #pass\n",
    "            elif p >= rand :\n",
    "                indexes.append(self.lang.word2index[word])\n",
    "            elif p < rand :\n",
    "                e = random.choice([1, 2, 3])\n",
    "                if e == 1 :  # doesn't put any word\n",
    "                    pass\n",
    "                elif e == 2 :# hide word with UNK_Token\n",
    "                    indexes.append(UNK_token)\n",
    "                else :       # put word followed with randomly selected other word\n",
    "                    indexes.append(self.lang.word2index[word])\n",
    "                    indexes.append(random.choice(list(range(self.lang.n_words))))\n",
    "\n",
    "        # remove exceeding words, exept first word and the two last words or symbols\n",
    "        if max_length is not None :\n",
    "            print(max_length)\n",
    "            while len(indexes) > max_length:\n",
    "                indexes.pop(random.randint(1,len(indexes)-2))\n",
    "        return indexes\n",
    "\n",
    "\n",
    "    def variableFromSentence(self, sentence, max_length = None, rand = 0):\n",
    "        '''Turn a sentence into a torch variable, containing a list of indices according\n",
    "           to a given language.\n",
    "        '''\n",
    "        indexes = self.indexesFromSentence(sentence, max_length, rand)                                 \n",
    "        result = Variable(torch.LongTensor(indexes).view(-1, 1)) if len(indexes) != 0 else None\n",
    "        return result\n",
    "\n",
    "\n",
    "    def variableFromDescription(self, description, max_length = None, rand = 0):\n",
    "        '''Turn a whole dialogue into a list of torch tensors, according to an input\n",
    "           and an output languages'''\n",
    "        sortie = []\n",
    "        for line in description :\n",
    "            variable = self.variableFromSentence(line, max_length, rand)\n",
    "            if variable is not None :\n",
    "                sortie.append(variable)\n",
    "        return sortie\n",
    "    \n",
    "    \n",
    "    def flatten(self, description) :\n",
    "        for i, line in enumerate(description) :\n",
    "            if i == 0:\n",
    "                flatten = line\n",
    "            else :\n",
    "                flatten = torch.cat((flatten, line), dim = 0)\n",
    "        return flatten\n",
    "\n",
    "\n",
    "    def lendes(self, description) :\n",
    "        length = 0\n",
    "        for line in description :\n",
    "            length += len(line)\n",
    "        return length\n",
    "            \n",
    "        \n",
    "    def convert(self, description, sentence):\n",
    "        \n",
    "        # acquisition\n",
    "        description = self.variableFromDescription(description)\n",
    "        description = self.flatten(description)\n",
    "        description = self.embedding(description)                      #dim = (description_length, 1, embedding_dim)\n",
    "        \n",
    "        # calcul de distribution par mot du résumé\n",
    "        if self.softmax is None :\n",
    "            description = F.normalize(description, p = 2, dim = 2)     # <---- normalize on last dimension\n",
    "        description = torch.transpose(description, 0, 1)               #dim = (1, description_length, embedding_dim)\n",
    "        description = torch.transpose(description, 1, 2)               #dim = (1, embedding_dim, description_length)\n",
    "        \n",
    "        query = self.embedding(self.variableFromSentence(sentence))    #dim = (sentence_length, 1, embedding_dim)\n",
    "        if self.softmax is None :\n",
    "            query = F.normalize(query, p = 2, dim = 2)                 # <---- normalize on last dimension\n",
    "        query = torch.transpose(query, 0, 1)                           #dim = (1, sentence_length, embedding_dim)\n",
    "        \n",
    "        weights = torch.bmm(query, description)                        # size (1, sentence_length, description_length)\n",
    "        if self.softmax is not None :\n",
    "            weights = self.softmax(weights, dim = 2)\n",
    "            \n",
    "        # calcul de distribution par phrase du résumé\n",
    "        weights, _ = torch.max(weights, dim = 1)                       # size (1, description_length)\n",
    "        #weights = torch.sqrt(weights)                                 # size (1, description_length)\n",
    "        # ou torch.sum(weights, dim = 1)\n",
    "        weights = weights/sum(weights.data[0]) # <--- probability distribution over words of the description\n",
    "        return weights\n",
    "    \n",
    "    \n",
    "    def computeSentenceAttention(self, description, sentence):\n",
    "        attn_weights = self.convert(description, sentence)\n",
    "        l = len(description)\n",
    "        sentence_attn = np.zeros((l))\n",
    "        dims = [line.size()[0] for line in self.variableFromDescription(description)]\n",
    "        count = 0\n",
    "        for i in range(l) :\n",
    "            el = torch.sum(attn_weights[0][count : count + dims[i]]) #torch.mean\n",
    "            sentence_attn[i] = el.data[0]\n",
    "            count += dims[i]\n",
    "        return attn_weights, sentence_attn\n",
    "            \n",
    "    \n",
    "    \n",
    "    def showConvertion(self, description, sentence, maxi = None):\n",
    "        attn_weights, sentence_attn = self.computeSentenceAttention(description, sentence)\n",
    "        if maxi is None :\n",
    "            maxi = max(attn_weights.data[0])\n",
    "        count = 0\n",
    "        l = len(description)\n",
    "        L = max([len(line) for line in description])\n",
    "        fig = plt.figure(figsize = [L+1, l]) #\n",
    "        for i, line in enumerate(description):\n",
    "            include = False\n",
    "            vals = np.zeros((1, L))\n",
    "            for j, word in enumerate(line) :\n",
    "                if word in self.lang.word2index.keys() :\n",
    "                    include = True\n",
    "                    vals[0, j] = attn_weights[0, count].data\n",
    "                    count += 1\n",
    "            #vals = attn_weights[0, count : count + b].unsqueeze(0).numpy()\n",
    "            ax = fig.add_subplot(l, 1, i+1)\n",
    "            cax = ax.matshow(vals, vmin=0, vmax=maxi, cmap='YlOrBr') #, extent = (0, l, 0, 0.3)) # 'bone_r'\n",
    "            #fig.colorbar(cax)\n",
    "            text = [' '] + line + [' ' for k in range(L-len(line))] if L>len(line) else [' '] + line\n",
    "            ax.set_xticklabels(text, ha='left')\n",
    "            if include :\n",
    "                sc = str(sentence_attn[i]*100)[:5]\n",
    "                ax.set_yticklabels(' ' + sc)\n",
    "            else :\n",
    "                ax.set_yticklabels(' ')\n",
    "            ax.tick_params(axis = 'x', which = u'both',length = 0, labelrotation = 30, labelright = True)\n",
    "            ax.tick_params(axis = 'y', which = u'both',length = 0, labelrotation = 0)\n",
    "            ax.grid(b = False, which=\"minor\", color=\"w\", linestyle='-', linewidth=1)\n",
    "            ax.xaxis.set_major_locator(ticker.MultipleLocator(1))\n",
    "            plt.subplots_adjust(wspace = 0.5, top = 1.2, bottom = 0)\n",
    "        plt.show()\n",
    "        return\n",
    "    \n",
    "    \n",
    "    def select(self, sentence_attn, liste_nwords, percentage = None):\n",
    "        if percentage is not None :\n",
    "            listo = list(sentence_attn)\n",
    "            lister = list(sentence_attn)\n",
    "            retenus = []\n",
    "            count = 0\n",
    "            while count <= percentage and listo != [] :\n",
    "                maxi = max(listo)\n",
    "                i = lister.index(maxi)\n",
    "                if count + liste_nwords[i] <= percentage :\n",
    "                    retenus.append(i)\n",
    "                listo.remove(maxi)\n",
    "                count += liste_nwords[i]\n",
    "            return retenus\n",
    "        else :\n",
    "            listo = list(sentence_attn)\n",
    "            lister = list(sentence_attn)\n",
    "            #print(tot)\n",
    "            retenus = []\n",
    "            count = 0\n",
    "            while count < 3/4 and listo != [] :\n",
    "                maxi = max(listo)\n",
    "                i = lister.index(maxi)\n",
    "                #if count + maxi <= 3*tot/4 :\n",
    "                retenus.append(i)\n",
    "                listo.remove(maxi)\n",
    "                count += maxi\n",
    "                #print(count)\n",
    "            return retenus\n",
    "    \n",
    "    \n",
    "    def showSelection(self, description, sentence, percentage = None):\n",
    "        attn_weights, sentence_attn = self.computeSentenceAttention(description, sentence)\n",
    "        nwords = [len(line) for line in description]\n",
    "        nwords = [el*100/sum(nwords) for el in nwords]\n",
    "        retenus = self.select(sentence_attn, nwords, percentage)\n",
    "        for i, line in enumerate(description) :\n",
    "            if i in retenus :\n",
    "                print(' '.join(line))\n",
    "            else :\n",
    "                print(colored(' '.join(line), 'blue'))\n",
    "        return"
   ]
  },
  {
   "cell_type": "markdown",
   "metadata": {},
   "source": [
    "### 3.4.2 Base Converter"
   ]
  },
  {
   "cell_type": "code",
   "execution_count": null,
   "metadata": {},
   "outputs": [],
   "source": []
  },
  {
   "cell_type": "markdown",
   "metadata": {},
   "source": [
    "### 3.4.3 N-Gram Converter"
   ]
  },
  {
   "cell_type": "code",
   "execution_count": null,
   "metadata": {},
   "outputs": [],
   "source": []
  },
  {
   "cell_type": "code",
   "execution_count": 37,
   "metadata": {},
   "outputs": [],
   "source": [
    "class WordConverter(nn.Module):\n",
    "    '''Transforms a given word into a distribution over words of a given document'''\n",
    "    def __init__(self, text_encoder, hierarchical_encoder, word_decoder) :\n",
    "        super(WordConverter, self).__init__() \n",
    "        # modules     \n",
    "        self.text_encoder = text_encoder\n",
    "        self.hierarchical_encoder = hierarchical_encoder\n",
    "        self.word_decoder = word_decoder\n",
    "    \n",
    "    \n",
    "    \n",
    "    def loadSubModule(self, text_encoder = None, hierarchical_encoder = None, word_decoder = None) :\n",
    "        if text_encoder is not None :\n",
    "            self.text_encoder = text_encoder\n",
    "        if hierarchical_encoder is not None :\n",
    "            self.hierarchical_encoder = hierarchical_encoder\n",
    "        if word_decoder is not None :\n",
    "            self.word_decoder = word_decoder\n",
    "        return\n",
    "    \n",
    "    \n",
    "    def freezeSubModule(self, text_encoder = False, hierarchical_encoder = False, word_decoder = False) :\n",
    "        for param in self.text_encoder.parameters():\n",
    "            param.requires_grad = not text_encoder\n",
    "        for param in self.hierarchical_encoder.parameters():\n",
    "            param.requires_grad = not hierarchical_encoder\n",
    "        for param in self.word_decoder.parameters():\n",
    "            param.requires_grad = not word_decoder\n",
    "        return\n",
    "    \n",
    "        \n",
    "    def nbParametres(self) :\n",
    "        count = 0\n",
    "        for p in self.parameters():\n",
    "            if p.requires_grad == True :\n",
    "                count += p.data.nelement()\n",
    "        return count\n",
    "        \n",
    "        \n",
    "    # ------------ 1st working mode : training mode ------------\n",
    "    def answerTrain(self, description, sentence, rand = 0):\n",
    "        \n",
    "        sentence_hiddens_as_list, _ = self.text_encoder(sentence, rand) \n",
    "        sentence_hiddens = sentence_hiddens_as_list[0] # dim ??? mettre en (len, 1, dim)\n",
    "        words_memory , _ = self.text_encoder(description, rand)\n",
    "        \n",
    "        text_vector, attn1_weights_list, attn2_weights_list = self.hierarchical_encoder(words_memory, sentence_hiddens)\n",
    "            \n",
    "        answer, decoder_outputs = self.word_decoder(text_vector, sentence)\n",
    "        \n",
    "        return answer, decoder_outputs, attn1_weights_list, attn2_weights_list\n",
    "\n",
    "        \n",
    "    # ------------ 2nd working mode : test mode ------------\n",
    "    def forward(self, description, sentence):\n",
    "        \n",
    "        _ , query_as_list = self.text_encoder(sentence, rand = 0)\n",
    "        query = query_as_list[0]\n",
    "        words_memory , _ = self.text_encoder(description, rand = 0)\n",
    "        text_vector, attn1_weights_list, attn2_weights_list = self.hierarchical_encoder(words_memory, query)\n",
    "        answer, decoder_outputs = self.word_decoder(text_vector)\n",
    "        \n",
    "        return answer, decoder_outputs, attn1_weights_list, attn2_weights_list  "
   ]
  },
  {
   "cell_type": "code",
   "execution_count": null,
   "metadata": {},
   "outputs": [],
   "source": []
  },
  {
   "cell_type": "code",
   "execution_count": null,
   "metadata": {},
   "outputs": [],
   "source": []
  },
  {
   "cell_type": "markdown",
   "metadata": {},
   "source": [
    "# 4 Fonctions de visualisation"
   ]
  },
  {
   "cell_type": "code",
   "execution_count": 38,
   "metadata": {},
   "outputs": [],
   "source": [
    "def showAttention(attn1_weights_list, attn2_weights_list, description, maxi):\n",
    "    #l = attn1_weights_list.size()[1]+2\n",
    "    L = len(attn1_weights_list)\n",
    "    fig = plt.figure()#figsize=(L, 10))\n",
    "    for i in range(L):\n",
    "        ax = fig.add_subplot(L, 1, i+1)\n",
    "        vals = torch.cat((torch.zeros(1) , attn1_weights_list[i] ), 0) #  \n",
    "        vals = torch.cat((torch.FloatTensor([attn2_weights_list[i]]) , vals), 0 )\n",
    "        vals = vals.view(1, -1)\n",
    "        \n",
    "        cax = ax.matshow(vals.numpy(), vmin=0, vmax=maxi, cmap='YlOrBr') #, extent = (0, l, 0, 0.3)) # 'bone_r'\n",
    "        #fig.colorbar(cax)\n",
    "        text = [' '] + [' '] + [' '] + description[i] # + ['<EOS>']\n",
    "        ax.set_xticklabels(text, ha='left')\n",
    "        ax.set_yticklabels(' ')\n",
    "        ax.tick_params(axis=u'both', which=u'both',length=0, labelrotation = 30, labelright  = True)\n",
    "        ax.grid(b = False, which=\"minor\", color=\"w\", linestyle='-', linewidth=1)\n",
    "        ax.xaxis.set_major_locator(ticker.MultipleLocator(1))\n",
    "    plt.subplots_adjust(hspace=1, wspace = 0, top = 2.5, bottom = 0)\n",
    "    plt.show()"
   ]
  },
  {
   "cell_type": "code",
   "execution_count": 39,
   "metadata": {},
   "outputs": [],
   "source": [
    "def ResponseEvaluation(model, description, sentence, maxi = 1) :\n",
    "    answer, decoder_outputs, attn1_weights_list, attn2_weights_list  = model(description, sentence)\n",
    "    reponse_generee =[model.word_decoder.lang.index2word[ind.item()] for ind in answer]\n",
    "    answer_text = ' '.join(reponse_generee)\n",
    "    print('Target  : ', cleanPrintSentence(sentence) , '\\n\\nPredict : ', answer_text) \n",
    "    if attn1_weights_list != [] :\n",
    "        hops = model.hierarchical_encoder.hops\n",
    "        dico = attn1_weights_list[0]\n",
    "        M = max(dico.keys())+1\n",
    "        L = max([V.size()[2] for V in dico.values()])\n",
    "        Table = torch.zeros((M, L))\n",
    "        for i in range(M):\n",
    "            for j in range(dico[i].size()[2]) :\n",
    "                for k in range(hops) :\n",
    "                    Table[i, j] += attn1_weights_list[k][i][0, 0, j] # sum(attn1_weights_list[k][i][l, 0, j] for l in valid)/moy\n",
    "\n",
    "        Liste = torch.zeros(M) # if attn2_weights_list[0].size()[1] == M+1 else torch.zeros(int((M+1)/2))\n",
    "        if attn2_weights_list != []:\n",
    "            for i in range(M):\n",
    "                if i < len(Liste) :\n",
    "                    for k in range(hops) :\n",
    "                        Liste[i] += attn2_weights_list[k][0, 0, i] # sum(attn2_weights_list[k][l, 0, i] for l in valid)/moy\n",
    "        showAttention(Table, Liste, description, maxi)"
   ]
  },
  {
   "cell_type": "code",
   "execution_count": 40,
   "metadata": {},
   "outputs": [],
   "source": [
    "def compteReussites(model, X, Y) :\n",
    "    ERREURS = 0\n",
    "    for description, target in zip(X, Y) :\n",
    "        t = int(target[0])\n",
    "        result, attn1_weights_list, attn2_weights_list  = model(description)\n",
    "        r = int(result)\n",
    "        if t != r :\n",
    "            ERREURS += 1\n",
    "    return 100*(1-ERREURS/len(X))"
   ]
  },
  {
   "cell_type": "code",
   "execution_count": 41,
   "metadata": {},
   "outputs": [],
   "source": [
    "def compteErreurs(model, X, Y, n_classes) :\n",
    "    ERREURS = [0 for i in range(n_classes)]\n",
    "    for description, target in zip(X, Y) :\n",
    "        t = int(target[0])\n",
    "        result, attn1_weights_list, attn2_weights_list  = model(description)\n",
    "        r = int(result)\n",
    "        if t != r :\n",
    "            ERREURS[t] += 1\n",
    "    return ERREURS"
   ]
  },
  {
   "cell_type": "code",
   "execution_count": 42,
   "metadata": {},
   "outputs": [],
   "source": [
    "def repartitionErreurs(model, X, Y, n_classes) :\n",
    "    ERREURS = {}\n",
    "    for j in range(n_classes) :\n",
    "        ERREURS[j] = []\n",
    "    for i in range(len(X)) :\n",
    "        description = X[i]\n",
    "        t = int(Y[i])\n",
    "        result, attn1_weights_list, attn2_weights_list  = model(description)\n",
    "        r = int(result)\n",
    "        if t != r :\n",
    "            ERREURS[t].append(i)\n",
    "    return ERREURS"
   ]
  },
  {
   "cell_type": "markdown",
   "metadata": {},
   "source": [
    "***\n",
    "# 5 Implémentation\n",
    "***"
   ]
  },
  {
   "cell_type": "code",
   "execution_count": 43,
   "metadata": {},
   "outputs": [],
   "source": [
    "trainer = SentenceConverterTrainer(criterion = nn.NLLLoss(),\n",
    "                                   optimizer = optim.SGD,\n",
    "                                   print_every=100)"
   ]
  },
  {
   "cell_type": "code",
   "execution_count": 44,
   "metadata": {},
   "outputs": [],
   "source": [
    "def initSentenceConverter(dv = 100, dh = 75, hops = 1, dropout = 0.1) :\n",
    "    converter = SentenceConverterCreator(lang = lang_ASRS,\n",
    "                                         embedding_dim = dv,\n",
    "                                         hidden_dim = dh,\n",
    "                                         pre_entrainement = None,\n",
    "                                         freeze = False,\n",
    "\n",
    "                                         sentence_hidden_dim = dh,\n",
    "                                         hops = hops,\n",
    "                                         share = True,\n",
    "                                         dropout = dropout,\n",
    "\n",
    "                                         output_lang = lang_ASRS,\n",
    "                                         output_dim = dv,\n",
    "                                         pre_entrainement_output = None,\n",
    "                                         freeze_output = False,\n",
    "                                         teacher_forcing_ratio = 0.5\n",
    "                                        )\n",
    "    print(\"Agent's number of parameters : {} \".format(converter.nbParametres()))\n",
    "    return converter"
   ]
  },
  {
   "cell_type": "markdown",
   "metadata": {},
   "source": [
    "## 5.1 Calibration des hyperparamètres par validation croisée"
   ]
  },
  {
   "cell_type": "markdown",
   "metadata": {},
   "source": [
    "**Calibration**"
   ]
  },
  {
   "cell_type": "markdown",
   "metadata": {},
   "source": [
    "**Visualisation**"
   ]
  },
  {
   "cell_type": "markdown",
   "metadata": {},
   "source": [
    "## 5.2 Evaluation\n",
    "\n",
    "- vecteurs de mots non pré-entrainés\n",
    "- pas de support des oov\n",
    "- pas de negative sampling\n",
    "- pas de batch normalization"
   ]
  },
  {
   "cell_type": "code",
   "execution_count": 188,
   "metadata": {},
   "outputs": [],
   "source": [
    "X_trn = np.concatenate((ASRS_dev[0]['trn'][0], ASRS_dev[0]['val'][0]))\n",
    "Y_trn = np.concatenate((ASRS_dev[0]['trn'][1], ASRS_dev[0]['val'][1]))"
   ]
  },
  {
   "cell_type": "code",
   "execution_count": 120,
   "metadata": {},
   "outputs": [
    {
     "name": "stdout",
     "output_type": "stream",
     "text": [
      "Agent's number of parameters : 10215885 \n"
     ]
    }
   ],
   "source": [
    "converter_ASRS = initSentenceConverter(dv = 150, dh = 100, hops = 1, dropout = 0.2)"
   ]
  },
  {
   "cell_type": "code",
   "execution_count": 111,
   "metadata": {
    "scrolled": true
   },
   "outputs": [
    {
     "name": "stdout",
     "output_type": "stream",
     "text": [
      "1m 20s (- 66m 0s) (100 2%) 75.0631 19.76\n",
      "2m 43s (- 65m 29s) (200 4%) 78.3053 18.96\n",
      "4m 1s (- 63m 1s) (300 6%) 78.8939 20.25\n",
      "5m 18s (- 61m 5s) (400 8%) 71.0266 18.60\n",
      "6m 42s (- 60m 20s) (500 10%) 70.9331 19.08\n",
      "8m 4s (- 59m 14s) (600 12%) 81.3356 20.23\n",
      "9m 31s (- 58m 31s) (700 14%) 78.8564 20.15\n",
      "10m 45s (- 56m 28s) (800 16%) 68.2082 19.60\n",
      "12m 9s (- 55m 22s) (900 18%) 74.1580 19.55\n",
      "13m 24s (- 53m 39s) (1000 20%) 67.7094 19.21\n",
      "14m 46s (- 52m 24s) (1100 22%) 84.8767 20.89\n",
      "16m 12s (- 51m 20s) (1200 24%) 76.3327 19.86\n",
      "17m 41s (- 50m 22s) (1300 26%) 73.9970 19.28\n",
      "19m 9s (- 49m 17s) (1400 28%) 76.0102 19.77\n",
      "20m 32s (- 47m 55s) (1500 30%) 73.7213 21.21\n",
      "21m 57s (- 46m 40s) (1600 32%) 79.9860 20.25\n",
      "23m 37s (- 45m 51s) (1700 34%) 80.4541 19.78\n",
      "25m 11s (- 44m 47s) (1800 36%) 78.4173 19.28\n",
      "26m 37s (- 43m 26s) (1900 38%) 74.9921 18.28\n",
      "28m 5s (- 42m 8s) (2000 40%) 73.9159 18.74\n",
      "29m 33s (- 40m 49s) (2100 42%) 72.0192 19.74\n",
      "31m 0s (- 39m 27s) (2200 44%) 74.3812 19.45\n",
      "32m 22s (- 38m 0s) (2300 46%) 75.4166 19.73\n",
      "33m 42s (- 36m 31s) (2400 48%) 71.2828 19.73\n",
      "35m 2s (- 35m 2s) (2500 50%) 71.2428 19.06\n",
      "36m 29s (- 33m 40s) (2600 52%) 73.8572 20.32\n",
      "37m 57s (- 32m 19s) (2700 54%) 71.8619 18.69\n",
      "39m 24s (- 30m 57s) (2800 56%) 70.9253 18.38\n",
      "40m 47s (- 29m 32s) (2900 57%) 73.7192 19.32\n",
      "42m 11s (- 28m 7s) (3000 60%) 73.3080 20.27\n",
      "43m 29s (- 26m 39s) (3100 62%) 71.1519 19.24\n",
      "44m 47s (- 25m 11s) (3200 64%) 66.3206 18.97\n",
      "46m 11s (- 23m 47s) (3300 66%) 79.7263 20.64\n",
      "47m 32s (- 22m 22s) (3400 68%) 76.4386 20.47\n",
      "48m 58s (- 20m 59s) (3500 70%) 73.3422 21.14\n",
      "50m 18s (- 19m 34s) (3600 72%) 70.5736 18.19\n",
      "51m 38s (- 18m 8s) (3700 74%) 74.7708 19.85\n",
      "53m 1s (- 16m 44s) (3800 76%) 72.0180 18.48\n",
      "54m 22s (- 15m 20s) (3900 78%) 75.6864 19.78\n",
      "55m 39s (- 13m 54s) (4000 80%) 72.9018 18.91\n",
      "57m 5s (- 12m 32s) (4100 82%) 75.8774 19.49\n",
      "58m 26s (- 11m 7s) (4200 84%) 71.4375 19.86\n",
      "59m 47s (- 9m 43s) (4300 86%) 74.8655 18.69\n",
      "61m 13s (- 8m 20s) (4400 88%) 74.3610 19.11\n",
      "62m 33s (- 6m 57s) (4500 90%) 78.1211 19.09\n",
      "63m 53s (- 5m 33s) (4600 92%) 68.1099 19.61\n",
      "65m 10s (- 4m 9s) (4700 94%) 68.0458 19.43\n",
      "66m 36s (- 2m 46s) (4800 96%) 79.1376 19.60\n",
      "68m 0s (- 1m 23s) (4900 98%) 69.6505 19.01\n",
      "69m 18s (- 0m 0s) (5000 100%) 75.7549 19.54\n"
     ]
    }
   ],
   "source": [
    "trainer.train(converter_ASRS, X_trn, Y_trn, n_iters = 5000, mini_batch_size = 1, learning_rate=0.01)"
   ]
  },
  {
   "cell_type": "code",
   "execution_count": 119,
   "metadata": {},
   "outputs": [],
   "source": [
    "torch.save(converter_ASRS.state_dict(), path_to_rep + '\\saves\\\\sentence_converter_ASRS.pth')"
   ]
  },
  {
   "cell_type": "markdown",
   "metadata": {},
   "source": [
    "## 5.3 Entrainement du modèle final"
   ]
  },
  {
   "cell_type": "markdown",
   "metadata": {},
   "source": [
    "## 5.4 Visualisation des performances du modèle"
   ]
  },
  {
   "cell_type": "code",
   "execution_count": 113,
   "metadata": {
    "scrolled": true
   },
   "outputs": [
    {
     "name": "stdout",
     "output_type": "stream",
     "text": [
      "Target  :  captain of a large passenger turbojet reported experiencing a failure of one irs system which inhibited their ability to enter etops airspace\n",
      "\n",
      " \n",
      "\n",
      "Predict :  a maintenance reported that the the the the to the the the EOS\n"
     ]
    },
    {
     "data": {
      "image/png": "[encoded data removed]",
      "text/plain": [
       "<Figure size 432x288 with 20 Axes>"
      ]
     },
     "metadata": {
      "needs_background": "light"
     },
     "output_type": "display_data"
    }
   ],
   "source": [
    "i = 265 #274\n",
    "description = X_ASRS_tst[i]\n",
    "sentence = Y_ASRS_tst[i]\n",
    "\n",
    "ResponseEvaluation(converter_ASRS, description, sentence)"
   ]
  },
  {
   "cell_type": "markdown",
   "metadata": {},
   "source": [
    "### Naked Base Converter"
   ]
  },
  {
   "cell_type": "code",
   "execution_count": 529,
   "metadata": {},
   "outputs": [],
   "source": [
    "NBConverter = NakedBaseConverter(lang_glove, \n",
    "                                 embedding_dim = 300, \n",
    "                                 pre_entrainement = ind2vec_glove, \n",
    "                                 freeze = True, \n",
    "                                 softmax = True)"
   ]
  },
  {
   "cell_type": "code",
   "execution_count": 336,
   "metadata": {},
   "outputs": [],
   "source": [
    "def cleanPrintSentence(sentence) :\n",
    "    return ' '.join(sentence)"
   ]
  },
  {
   "cell_type": "code",
   "execution_count": 326,
   "metadata": {},
   "outputs": [],
   "source": [
    "i = 33\n",
    "description = X_ASRS_tst[i]\n",
    "sentence = Y_ASRS_tst[i]"
   ]
  },
  {
   "cell_type": "code",
   "execution_count": 508,
   "metadata": {
    "scrolled": true
   },
   "outputs": [
    {
     "name": "stdout",
     "output_type": "stream",
     "text": [
      "Sentence  : \n",
      "\n",
      " c172 instructor experienced power loss rough running engine 600 feet agl departure student flying\n"
     ]
    },
    {
     "data": {
      "image/png": "[encoded data removed]",
      "text/plain": [
       "<Figure size 1800x792 with 11 Axes>"
      ]
     },
     "metadata": {
      "needs_background": "light"
     },
     "output_type": "display_data"
    }
   ],
   "source": [
    "print('Sentence  : \\n\\n',cleanPrintSentence(sentence))\n",
    "NBConverter.showConvertion(description, sentence, maxi = 1)"
   ]
  },
  {
   "cell_type": "code",
   "execution_count": 530,
   "metadata": {},
   "outputs": [
    {
     "name": "stdout",
     "output_type": "stream",
     "text": [
      "Sentence  : \n",
      "\n",
      " c172 instructor experienced power loss rough running engine 600 feet agl departure student flying\n",
      "\n",
      "\n",
      "after completing our run up and getting clearance for takeoff my student and i took off and getting vectored for some practice instrument approaches\n",
      "around 600 feet during our initial climb we had a sudden power loss roughly 600 rpm drop associated with severe engine roughness\n",
      "i immediately took control from my student and made a turn back\n",
      "\u001b[34mduring my turn back i informed the tower of the situation and told him our intention was to return for an immediate landing\u001b[0m\n",
      "\u001b[34mhe asked which runway we would like i replied a short approach to 35r\u001b[0m\n",
      "\u001b[34mabout midfield we started smelling smoke burning oil we immediately turned short final and landed\u001b[0m\n",
      "\u001b[34mtower asked if we needed any assistance and where we would be parking\u001b[0m\n",
      "\u001b[34mi told them no and parking at alpha ramp\u001b[0m\n",
      "\u001b[34mi never received a number to follow up with the tower\u001b[0m\n",
      "after parking the airplane we noticed severe oil loss and oil was covering the bottom side of the aircraft\n",
      "\u001b[34mthere was no injuries or any damage to anything besides the engine\u001b[0m\n"
     ]
    }
   ],
   "source": [
    "print('Sentence  : \\n\\n',cleanPrintSentence(sentence))\n",
    "print('\\n')\n",
    "NBConverter.showSelection(description, sentence) #, percentage = 40)"
   ]
  }
 ],
 "metadata": {
  "kernelspec": {
   "display_name": "Python 3",
   "language": "python",
   "name": "python3"
  },
  "language_info": {
   "codemirror_mode": {
    "name": "ipython",
    "version": 3
   },
   "file_extension": ".py",
   "mimetype": "text/x-python",
   "name": "python",
   "nbconvert_exporter": "python",
   "pygments_lexer": "ipython3",
   "version": "3.7.0"
  }
 },
 "nbformat": 4,
 "nbformat_minor": 2
}
