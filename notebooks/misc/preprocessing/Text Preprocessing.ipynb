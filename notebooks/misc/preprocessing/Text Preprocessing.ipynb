{
 "cells": [
  {
   "cell_type": "markdown",
   "metadata": {},
   "source": [
    "# Text Preprocessing\n",
    "\n",
    "I Prétraitement\n",
    "\n",
    "- Détection des ponctuations déterminant les fins de phrases, segmentation des phrases\n",
    "- Mise en minuscules\n",
    "- Détection des symboles pertinents, enlèvement des ponctuations et symboles superflus\n",
    "- Détection des espaces manquants\n",
    "- Correction orthographique des mots\n",
    "\n",
    "Un ensemble facultatif de traitements est le suivant :\n",
    "\n",
    "- Enlèvement de stopwords\n",
    "- Étiquetage des mots en pos\n",
    "- Racinisation des mots\n",
    "\n",
    "    \n",
    "    \n",
    "II Vectorisation"
   ]
  },
  {
   "cell_type": "code",
   "execution_count": 1,
   "metadata": {},
   "outputs": [],
   "source": [
    "# path to anaconda : C:\\ProgramData\\Anaconda3\n",
    "\n",
    "from __future__ import unicode_literals, print_function, division\n",
    "import os\n",
    "from io import open\n",
    "import unicodedata\n",
    "import string\n",
    "import time\n",
    "import math\n",
    "import re\n",
    "import json\n",
    "import random\n",
    "import itertools"
   ]
  },
  {
   "cell_type": "code",
   "execution_count": 2,
   "metadata": {},
   "outputs": [
    {
     "data": {
      "text/plain": [
       "'3.7.0 (default, Jun 28 2018, 08:04:48) [MSC v.1912 64 bit (AMD64)]'"
      ]
     },
     "execution_count": 2,
     "metadata": {},
     "output_type": "execute_result"
    }
   ],
   "source": [
    "import sys\n",
    "sys.version"
   ]
  },
  {
   "cell_type": "code",
   "execution_count": 3,
   "metadata": {},
   "outputs": [],
   "source": [
    "# for manipulating dataframes, arrays, containers...\n",
    "import numpy as np\n",
    "np.set_printoptions(threshold=np.nan)\n",
    "import pandas as pd\n",
    "import unidecode\n",
    "from unidecode import unidecode\n",
    "\n",
    "# equivalent of numpy for very large arrays (such as a database of pretrained word vectors)\n",
    "# optimized for SQL-like operations, not for math computations\n",
    "# see https://bcolz.readthedocs.io/en/latest/intro.html\n",
    "\n",
    "# installer avec la commande : conda install bcolz\n",
    "import bcolz\n",
    "\n",
    "import pickle"
   ]
  },
  {
   "cell_type": "code",
   "execution_count": 4,
   "metadata": {},
   "outputs": [],
   "source": [
    "# for viz\n",
    "import matplotlib.pyplot as plt\n",
    "import matplotlib.ticker as ticker"
   ]
  },
  {
   "cell_type": "code",
   "execution_count": 5,
   "metadata": {},
   "outputs": [],
   "source": [
    "# for machine learning\n",
    "from sklearn.preprocessing import StandardScaler\n",
    "from sklearn.decomposition import PCA\n",
    "from sklearn.cluster import KMeans, AgglomerativeClustering\n",
    "from sklearn.metrics import silhouette_score\n",
    "from sklearn.metrics.pairwise import euclidean_distances"
   ]
  },
  {
   "cell_type": "code",
   "execution_count": 6,
   "metadata": {},
   "outputs": [
    {
     "name": "stdout",
     "output_type": "stream",
     "text": [
      "0.4.1\n",
      "False\n"
     ]
    }
   ],
   "source": [
    "# for deep learning\n",
    "import torch\n",
    "import torch.nn as nn\n",
    "from torch.autograd import Variable\n",
    "from torch import optim\n",
    "import torch.nn.functional as F\n",
    "from torch.utils.data import DataLoader\n",
    "\n",
    "print(torch.__version__)\n",
    "\n",
    "use_cuda = False\n",
    "print(torch.cuda.is_available())\n",
    "%matplotlib inline\n",
    "\n",
    "import warnings\n",
    "warnings.filterwarnings(\"ignore\")"
   ]
  },
  {
   "cell_type": "code",
   "execution_count": 7,
   "metadata": {},
   "outputs": [],
   "source": [
    "# for NLP\n",
    "import gensim\n",
    "from gensim.models import KeyedVectors\n",
    "\n",
    "import nltk\n",
    "#nltk.download()\n",
    "from nltk.tokenize import sent_tokenize, word_tokenize\n",
    "from nltk.stem.porter import PorterStemmer\n",
    "\n",
    "from textblob import TextBlob"
   ]
  },
  {
   "cell_type": "code",
   "execution_count": 8,
   "metadata": {},
   "outputs": [],
   "source": [
    "import warnings\n",
    "warnings.filterwarnings('ignore')"
   ]
  },
  {
   "cell_type": "markdown",
   "metadata": {},
   "source": [
    "## Import du corpus\n",
    "\n",
    "Import des données, issues de https://asrs.arc.nasa.gov/search/database.html"
   ]
  },
  {
   "cell_type": "code",
   "execution_count": 9,
   "metadata": {},
   "outputs": [],
   "source": [
    "path_to_rep = 'C:\\\\Users\\jbaujogue\\Desktop\\Scripts'"
   ]
  },
  {
   "cell_type": "code",
   "execution_count": 10,
   "metadata": {},
   "outputs": [
    {
     "data": {
      "text/plain": [
       "(2400, 97)"
      ]
     },
     "execution_count": 10,
     "metadata": {},
     "output_type": "execute_result"
    }
   ],
   "source": [
    "data = pd.read_csv(path_to_rep + '\\data\\Tickets_ASRS\\ASRS_DBOnline_2018.csv', sep=',', header=1)\n",
    "#Dates = ['2014_1', '2014_2', '2015_1', '2015_2', '2016_1', '2016_2', '2017_1', '2017_2']\n",
    "#for date in Dates :\n",
    "#    data_bis = pd.read_csv(path_to_rep + '\\data\\Tickets_ASRS\\ASRS_DBOnline_' + date + '.csv', sep=',', header=1)\n",
    "#    data = pd.concat([data, data_bis], ignore_index = True) #data.append(data_bis)\n",
    "data.shape"
   ]
  },
  {
   "cell_type": "code",
   "execution_count": 11,
   "metadata": {
    "scrolled": true
   },
   "outputs": [
    {
     "data": {
      "text/html": [
       "<div>\n",
       "<style scoped>\n",
       "    .dataframe tbody tr th:only-of-type {\n",
       "        vertical-align: middle;\n",
       "    }\n",
       "\n",
       "    .dataframe tbody tr th {\n",
       "        vertical-align: top;\n",
       "    }\n",
       "\n",
       "    .dataframe thead th {\n",
       "        text-align: right;\n",
       "    }\n",
       "</style>\n",
       "<table border=\"1\" class=\"dataframe\">\n",
       "  <thead>\n",
       "    <tr style=\"text-align: right;\">\n",
       "      <th></th>\n",
       "      <th>ACN</th>\n",
       "      <th>Date</th>\n",
       "      <th>Local Time Of Day</th>\n",
       "      <th>Locale Reference</th>\n",
       "      <th>State Reference</th>\n",
       "      <th>Relative Position.Angle.Radial</th>\n",
       "      <th>Relative Position.Distance.Nautical Miles</th>\n",
       "      <th>Altitude.AGL.Single Value</th>\n",
       "      <th>Altitude.MSL.Single Value</th>\n",
       "      <th>Flight Conditions</th>\n",
       "      <th>...</th>\n",
       "      <th>When Detected</th>\n",
       "      <th>Result</th>\n",
       "      <th>Contributing Factors / Situations</th>\n",
       "      <th>Primary Problem</th>\n",
       "      <th>Narrative</th>\n",
       "      <th>Callback</th>\n",
       "      <th>Narrative.1</th>\n",
       "      <th>Callback.1</th>\n",
       "      <th>Synopsis</th>\n",
       "      <th>Unnamed: 96</th>\n",
       "    </tr>\n",
       "  </thead>\n",
       "  <tbody>\n",
       "    <tr>\n",
       "      <th>0</th>\n",
       "      <td>1507557</td>\n",
       "      <td>201801</td>\n",
       "      <td>1201-1800</td>\n",
       "      <td>C90.TRACON</td>\n",
       "      <td>IL</td>\n",
       "      <td>NaN</td>\n",
       "      <td>NaN</td>\n",
       "      <td>NaN</td>\n",
       "      <td>5000.0</td>\n",
       "      <td>NaN</td>\n",
       "      <td>...</td>\n",
       "      <td>In-flight</td>\n",
       "      <td>Flight Crew Requested ATC Assistance / Clarifi...</td>\n",
       "      <td>Chart Or Publication; Airport; Company Policy;...</td>\n",
       "      <td>Company Policy</td>\n",
       "      <td>Aircraft X was assigned a runway approximately...</td>\n",
       "      <td>NaN</td>\n",
       "      <td>NaN</td>\n",
       "      <td>NaN</td>\n",
       "      <td>MLI Approach Controller reported ATC denied th...</td>\n",
       "      <td>NaN</td>\n",
       "    </tr>\n",
       "    <tr>\n",
       "      <th>1</th>\n",
       "      <td>1508049</td>\n",
       "      <td>201801</td>\n",
       "      <td>1201-1800</td>\n",
       "      <td>ZZZ.Airport</td>\n",
       "      <td>US</td>\n",
       "      <td>NaN</td>\n",
       "      <td>NaN</td>\n",
       "      <td>NaN</td>\n",
       "      <td>20000.0</td>\n",
       "      <td>VMC</td>\n",
       "      <td>...</td>\n",
       "      <td>In-flight</td>\n",
       "      <td>Air Traffic Control Provided Assistance; Fligh...</td>\n",
       "      <td>Aircraft; Human Factors</td>\n",
       "      <td>Aircraft</td>\n",
       "      <td>Climbing out of approximately FL200; we observ...</td>\n",
       "      <td>NaN</td>\n",
       "      <td>NaN</td>\n",
       "      <td>NaN</td>\n",
       "      <td>B737 Captain reported a fuel pump malfunction ...</td>\n",
       "      <td>NaN</td>\n",
       "    </tr>\n",
       "    <tr>\n",
       "      <th>2</th>\n",
       "      <td>1508078</td>\n",
       "      <td>201801</td>\n",
       "      <td>1201-1800</td>\n",
       "      <td>ZZZ.Airport</td>\n",
       "      <td>US</td>\n",
       "      <td>NaN</td>\n",
       "      <td>NaN</td>\n",
       "      <td>NaN</td>\n",
       "      <td>25000.0</td>\n",
       "      <td>NaN</td>\n",
       "      <td>...</td>\n",
       "      <td>In-flight</td>\n",
       "      <td>Flight Crew Overcame Equipment Problem; Genera...</td>\n",
       "      <td>Aircraft</td>\n",
       "      <td>Aircraft</td>\n",
       "      <td>Dual partially jammed control columns. Not sur...</td>\n",
       "      <td>Reporter stated he checked back with Maintenan...</td>\n",
       "      <td>During our initial descent from FL360 to FL240...</td>\n",
       "      <td>NaN</td>\n",
       "      <td>EMB-175 flight crew reported partially jammed ...</td>\n",
       "      <td>NaN</td>\n",
       "    </tr>\n",
       "    <tr>\n",
       "      <th>3</th>\n",
       "      <td>1508434</td>\n",
       "      <td>201801</td>\n",
       "      <td>0601-1200</td>\n",
       "      <td>ZZZ.Airport</td>\n",
       "      <td>US</td>\n",
       "      <td>NaN</td>\n",
       "      <td>NaN</td>\n",
       "      <td>0.0</td>\n",
       "      <td>NaN</td>\n",
       "      <td>VMC</td>\n",
       "      <td>...</td>\n",
       "      <td>In-flight</td>\n",
       "      <td>General Maintenance Action</td>\n",
       "      <td>Aircraft</td>\n",
       "      <td>Aircraft</td>\n",
       "      <td>On landing; Flight Crew felt moderate to sever...</td>\n",
       "      <td>NaN</td>\n",
       "      <td>The incident began with a cleared Maintenance ...</td>\n",
       "      <td>NaN</td>\n",
       "      <td>B737 flight crew reported a blown main tire on...</td>\n",
       "      <td>NaN</td>\n",
       "    </tr>\n",
       "    <tr>\n",
       "      <th>4</th>\n",
       "      <td>1508441</td>\n",
       "      <td>201801</td>\n",
       "      <td>1801-2400</td>\n",
       "      <td>ZZZ.Airport</td>\n",
       "      <td>US</td>\n",
       "      <td>NaN</td>\n",
       "      <td>NaN</td>\n",
       "      <td>NaN</td>\n",
       "      <td>1800.0</td>\n",
       "      <td>VMC</td>\n",
       "      <td>...</td>\n",
       "      <td>In-flight</td>\n",
       "      <td>Flight Crew Landed in Emergency Condition; Fli...</td>\n",
       "      <td>Aircraft</td>\n",
       "      <td>Aircraft</td>\n",
       "      <td>This flight was a ferry flight to reposition t...</td>\n",
       "      <td>NaN</td>\n",
       "      <td>NaN</td>\n",
       "      <td>NaN</td>\n",
       "      <td>A319 Captain reported malfunctioning landing g...</td>\n",
       "      <td>NaN</td>\n",
       "    </tr>\n",
       "  </tbody>\n",
       "</table>\n",
       "<p>5 rows × 97 columns</p>\n",
       "</div>"
      ],
      "text/plain": [
       "       ACN    Date Local Time Of Day Locale Reference State Reference  \\\n",
       "0  1507557  201801         1201-1800       C90.TRACON              IL   \n",
       "1  1508049  201801         1201-1800      ZZZ.Airport              US   \n",
       "2  1508078  201801         1201-1800      ZZZ.Airport              US   \n",
       "3  1508434  201801         0601-1200      ZZZ.Airport              US   \n",
       "4  1508441  201801         1801-2400      ZZZ.Airport              US   \n",
       "\n",
       "   Relative Position.Angle.Radial  Relative Position.Distance.Nautical Miles  \\\n",
       "0                             NaN                                        NaN   \n",
       "1                             NaN                                        NaN   \n",
       "2                             NaN                                        NaN   \n",
       "3                             NaN                                        NaN   \n",
       "4                             NaN                                        NaN   \n",
       "\n",
       "   Altitude.AGL.Single Value  Altitude.MSL.Single Value Flight Conditions  \\\n",
       "0                        NaN                     5000.0               NaN   \n",
       "1                        NaN                    20000.0               VMC   \n",
       "2                        NaN                    25000.0               NaN   \n",
       "3                        0.0                        NaN               VMC   \n",
       "4                        NaN                     1800.0               VMC   \n",
       "\n",
       "      ...      When Detected  \\\n",
       "0     ...          In-flight   \n",
       "1     ...          In-flight   \n",
       "2     ...          In-flight   \n",
       "3     ...          In-flight   \n",
       "4     ...          In-flight   \n",
       "\n",
       "                                              Result  \\\n",
       "0  Flight Crew Requested ATC Assistance / Clarifi...   \n",
       "1  Air Traffic Control Provided Assistance; Fligh...   \n",
       "2  Flight Crew Overcame Equipment Problem; Genera...   \n",
       "3                         General Maintenance Action   \n",
       "4  Flight Crew Landed in Emergency Condition; Fli...   \n",
       "\n",
       "                   Contributing Factors / Situations Primary Problem  \\\n",
       "0  Chart Or Publication; Airport; Company Policy;...  Company Policy   \n",
       "1                            Aircraft; Human Factors        Aircraft   \n",
       "2                                           Aircraft        Aircraft   \n",
       "3                                           Aircraft        Aircraft   \n",
       "4                                           Aircraft        Aircraft   \n",
       "\n",
       "                                           Narrative  \\\n",
       "0  Aircraft X was assigned a runway approximately...   \n",
       "1  Climbing out of approximately FL200; we observ...   \n",
       "2  Dual partially jammed control columns. Not sur...   \n",
       "3  On landing; Flight Crew felt moderate to sever...   \n",
       "4  This flight was a ferry flight to reposition t...   \n",
       "\n",
       "                                            Callback  \\\n",
       "0                                                NaN   \n",
       "1                                                NaN   \n",
       "2  Reporter stated he checked back with Maintenan...   \n",
       "3                                                NaN   \n",
       "4                                                NaN   \n",
       "\n",
       "                                         Narrative.1 Callback.1  \\\n",
       "0                                                NaN        NaN   \n",
       "1                                                NaN        NaN   \n",
       "2  During our initial descent from FL360 to FL240...        NaN   \n",
       "3  The incident began with a cleared Maintenance ...        NaN   \n",
       "4                                                NaN        NaN   \n",
       "\n",
       "                                            Synopsis  Unnamed: 96  \n",
       "0  MLI Approach Controller reported ATC denied th...          NaN  \n",
       "1  B737 Captain reported a fuel pump malfunction ...          NaN  \n",
       "2  EMB-175 flight crew reported partially jammed ...          NaN  \n",
       "3  B737 flight crew reported a blown main tire on...          NaN  \n",
       "4  A319 Captain reported malfunctioning landing g...          NaN  \n",
       "\n",
       "[5 rows x 97 columns]"
      ]
     },
     "execution_count": 11,
     "metadata": {},
     "output_type": "execute_result"
    }
   ],
   "source": [
    "data.head()"
   ]
  },
  {
   "cell_type": "markdown",
   "metadata": {},
   "source": [
    "Sélection des attributs intéressants "
   ]
  },
  {
   "cell_type": "code",
   "execution_count": 12,
   "metadata": {},
   "outputs": [],
   "source": [
    "Important_Head = [0, 91, 95]\n",
    "df = data.ix[ :50, Important_Head].copy()\n",
    "df.columns = ['ACN', 'Description', 'Résumé']"
   ]
  },
  {
   "cell_type": "code",
   "execution_count": 13,
   "metadata": {},
   "outputs": [],
   "source": [
    "df.to_csv(path_to_rep + '\\data\\Tickets_ASRS\\descriptions_resumes_preprocessing_0.csv', sep=',', header=True, index = False)\n",
    "# df = pd.read_csv(path_to_rep + '\\data\\Tickets_ASRS\\descriptions_resumes_preprocessing_0.csv', sep=',', header=1)"
   ]
  },
  {
   "cell_type": "code",
   "execution_count": 62,
   "metadata": {},
   "outputs": [
    {
     "name": "stdout",
     "output_type": "stream",
     "text": [
      "Description : I was completing my second instructional flight of the day. This was a cross country flight meant to prepare my student for his upcoming check ride. We departed and proceeded to CHD; our first airport of landing. We called tower and received the following instruction: 'join left base runway 4L; report 4 miles.' We maneuvered for the base and at the appropriate distance made the requisite report. As we approached the base to final turn; my student was focused on accomplishing a procedural task. Not wanting to overshoot the centerline for fear of having to maneuver back to the runway; I told my student to stop his procedure and turn. I was also noting the TCAS showing traffic 12 o'clock and closing fast. As we turned the TCAS sounded its alert; by that point I already saw the traffic.My first thought was: 'this guy must be violating CHD's class delta.' I had not picked anything up over the frequency that he was there. Nonetheless the traffic was flying parallel to me 0.2 nautical miles away at my altitude. It looked like there were two people inside; hard at work flying their plane. I called CHD tower and reported that I; 'had traffic just off my right wing in-sight.' Tower responded; 'roger; he is making right traffic runway 4R.'I estimate that the centerlines of the two runways at CHD are approximately 1;000 ft apart. I assume the other aircraft had a true airspeed of 100 knots and that I had a true airspeed of 105 knots. This is a best case estimate as it is very easy to be going much faster. With some basic math I calculate a closure rate; head of; of 342 ft per second. Assuming then that both pilots became momentarily distracted and flew past their centerline I calculate that they would have approximately 2.9 seconds to realize their mistake.When I reported the traffic to the tower I couldn't help but to feel he was annoyed that I had even brought it up. I later had to explain the situation to my student pilot. I told him that I disagreed with the way the controller managed the situation. I told my student that this was a great lesson. I made him promise me that if he ever saw a potentially dangerous situation as a pilot; but wasn't sure if it was worth his time to warn somebody of it; that he would absolutely do the right thing. Even if he wasn't sure. After all it would have been tragic to have spent so much money on radars; control towers and radios with the idea of safety in mind; only to have a controller decide not to use those tools to help keep me safe. I want my tax money back. \n",
      " \n",
      "Résumé : Bonanza 33 flight instructor reported taking evasive action after ATC failed to notify them of traffic for a parallel runway.\n"
     ]
    }
   ],
   "source": [
    "def printExample(df, index) :\n",
    "    ex_des = df.ix[index, 1]\n",
    "    ex_res = df.ix[index, 2]\n",
    "    print('Description :',ex_des, '\\n \\nRésumé :',ex_res)\n",
    "    \n",
    "printExample(df, 45)"
   ]
  },
  {
   "cell_type": "markdown",
   "metadata": {},
   "source": [
    "## Segmentation et normalisation de texte\n",
    "\n",
    "- segmentation de texte\n",
    "- normalisation (mise en minuscules, enlèvement des symboles et ponctuations)\n",
    "- enlèvement des stopwords"
   ]
  },
  {
   "cell_type": "code",
   "execution_count": 15,
   "metadata": {},
   "outputs": [],
   "source": [
    "# --------------------------- Normalisation -------------------------------\n",
    "def unicodeToAscii(s):\n",
    "    \"\"\"Turn a Unicode string to plain ASCII, thanks to http://stackoverflow.com/a/518232/2809427\"\"\"\n",
    "    return ''.join(\n",
    "        c for c in unicodedata.normalize('NFD', s)\n",
    "        if unicodedata.category(c) != 'Mn'\n",
    "    )\n",
    "\n",
    "\n",
    "def normalizeString(s):\n",
    "    '''Remove rare symbols from a string'''\n",
    "    s = unicodeToAscii(s.lower().strip())\n",
    "    s = re.sub(r\"[^a-zA-Z0-9]+\", r\" \", s)  # 'r' before a string is for 'raw' # ?&\\%\\_\\- removed # set('''.,:;()*#&-_%!?/\\'\")''')\n",
    "    return s\n",
    "\n",
    "\n",
    "\n",
    "# -------------------- segmentation de texte -------------------------------------\n",
    "def segmentText(text, stopwords = []) :\n",
    "    '''Segments a string into a list of sentences, each consisting of a list of words as strings'''\n",
    "    new_text = text.split('.')\n",
    "    new_text = [normalizeString(line) for line in new_text]\n",
    "    new_text = [[word for word in line.split() if word not in stopwords] for line in new_text]\n",
    "    new_text = [line for line in new_text if line!= []]\n",
    "    return new_text\n",
    "\n",
    "    \n",
    "def segmentTextNltk(text, stopwords = []) :\n",
    "    '''Segments a string into a list of sentences, each consisting of a list of words as strings'''\n",
    "    #text = clean_sentence_punct(text.lower())\n",
    "    text = text.lower()\n",
    "    new_text = sent_tokenize(text) \n",
    "    new_text = [word_tokenize(line) for line in new_text]\n",
    "    new_text = [[word for word in line if word not in stopwords] for line in new_text]\n",
    "    new_text = [line for line in new_text if line!= []]\n",
    "    return new_text\n",
    "    \n",
    "\n",
    "# stopwords = nltk.corpus.stopwords.words('english')\n",
    "\n",
    "\n",
    "def formatText1(df) :\n",
    "    dfe = df.copy()\n",
    "    for i in range(len(dfe)) :\n",
    "        text = dfe.ix[i, 1]\n",
    "        new_text = segmentText(text)\n",
    "        dfe.set_value(i, 'Description', new_text)\n",
    "        text = dfe.ix[i, 2]\n",
    "        dfe.set_value(i, 'Résumé', normalizeString(text))\n",
    "    return dfe\n",
    "\n",
    "\n",
    "def cleanPrint(df, index) :\n",
    "    text = df.ix[index, 1]\n",
    "    chaine = ''\n",
    "    for line in text :\n",
    "        chaine += ' '.join(line) + '\\n\\n'\n",
    "    print(chaine)"
   ]
  },
  {
   "cell_type": "code",
   "execution_count": 16,
   "metadata": {},
   "outputs": [],
   "source": [
    "df1 = formatText1(df)\n",
    "#df1.to_csv(path_to_rep + '\\data\\Tickets_ASRS\\descriptions_resumes_preprocessing_1.csv', sep=',', header=True, index = False)\n",
    "#df1 = pd.read_csv(path_to_rep + '\\data\\Tickets_ASRS\\descriptions_resumes_preprocessing_1.csv', sep=',', header=1)"
   ]
  },
  {
   "cell_type": "code",
   "execution_count": 63,
   "metadata": {
    "scrolled": true
   },
   "outputs": [
    {
     "name": "stdout",
     "output_type": "stream",
     "text": [
      "Description : [['i', 'was', 'completing', 'my', 'second', 'instructional', 'flight', 'of', 'the', 'day'], ['this', 'was', 'a', 'cross', 'country', 'flight', 'meant', 'to', 'prepare', 'my', 'student', 'for', 'his', 'upcoming', 'check', 'ride'], ['we', 'departed', 'and', 'proceeded', 'to', 'chd', 'our', 'first', 'airport', 'of', 'landing'], ['we', 'called', 'tower', 'and', 'received', 'the', 'following', 'instruction', 'join', 'left', 'base', 'runway', '4l', 'report', '4', 'miles'], ['we', 'maneuvered', 'for', 'the', 'base', 'and', 'at', 'the', 'appropriate', 'distance', 'made', 'the', 'requisite', 'report'], ['as', 'we', 'approached', 'the', 'base', 'to', 'final', 'turn', 'my', 'student', 'was', 'focused', 'on', 'accomplishing', 'a', 'procedural', 'task'], ['not', 'wanting', 'to', 'overshoot', 'the', 'centerline', 'for', 'fear', 'of', 'having', 'to', 'maneuver', 'back', 'to', 'the', 'runway', 'i', 'told', 'my', 'student', 'to', 'stop', 'his', 'procedure', 'and', 'turn'], ['i', 'was', 'also', 'noting', 'the', 'tcas', 'showing', 'traffic', '12', 'o', 'clock', 'and', 'closing', 'fast'], ['as', 'we', 'turned', 'the', 'tcas', 'sounded', 'its', 'alert', 'by', 'that', 'point', 'i', 'already', 'saw', 'the', 'traffic'], ['my', 'first', 'thought', 'was', 'this', 'guy', 'must', 'be', 'violating', 'chd', 's', 'class', 'delta'], ['i', 'had', 'not', 'picked', 'anything', 'up', 'over', 'the', 'frequency', 'that', 'he', 'was', 'there'], ['nonetheless', 'the', 'traffic', 'was', 'flying', 'parallel', 'to', 'me', '0'], ['2', 'nautical', 'miles', 'away', 'at', 'my', 'altitude'], ['it', 'looked', 'like', 'there', 'were', 'two', 'people', 'inside', 'hard', 'at', 'work', 'flying', 'their', 'plane'], ['i', 'called', 'chd', 'tower', 'and', 'reported', 'that', 'i', 'had', 'traffic', 'just', 'off', 'my', 'right', 'wing', 'in', 'sight'], ['tower', 'responded', 'roger', 'he', 'is', 'making', 'right', 'traffic', 'runway', '4r'], ['i', 'estimate', 'that', 'the', 'centerlines', 'of', 'the', 'two', 'runways', 'at', 'chd', 'are', 'approximately', '1', '000', 'ft', 'apart'], ['i', 'assume', 'the', 'other', 'aircraft', 'had', 'a', 'true', 'airspeed', 'of', '100', 'knots', 'and', 'that', 'i', 'had', 'a', 'true', 'airspeed', 'of', '105', 'knots'], ['this', 'is', 'a', 'best', 'case', 'estimate', 'as', 'it', 'is', 'very', 'easy', 'to', 'be', 'going', 'much', 'faster'], ['with', 'some', 'basic', 'math', 'i', 'calculate', 'a', 'closure', 'rate', 'head', 'of', 'of', '342', 'ft', 'per', 'second'], ['assuming', 'then', 'that', 'both', 'pilots', 'became', 'momentarily', 'distracted', 'and', 'flew', 'past', 'their', 'centerline', 'i', 'calculate', 'that', 'they', 'would', 'have', 'approximately', '2'], ['9', 'seconds', 'to', 'realize', 'their', 'mistake'], ['when', 'i', 'reported', 'the', 'traffic', 'to', 'the', 'tower', 'i', 'couldn', 't', 'help', 'but', 'to', 'feel', 'he', 'was', 'annoyed', 'that', 'i', 'had', 'even', 'brought', 'it', 'up'], ['i', 'later', 'had', 'to', 'explain', 'the', 'situation', 'to', 'my', 'student', 'pilot'], ['i', 'told', 'him', 'that', 'i', 'disagreed', 'with', 'the', 'way', 'the', 'controller', 'managed', 'the', 'situation'], ['i', 'told', 'my', 'student', 'that', 'this', 'was', 'a', 'great', 'lesson'], ['i', 'made', 'him', 'promise', 'me', 'that', 'if', 'he', 'ever', 'saw', 'a', 'potentially', 'dangerous', 'situation', 'as', 'a', 'pilot', 'but', 'wasn', 't', 'sure', 'if', 'it', 'was', 'worth', 'his', 'time', 'to', 'warn', 'somebody', 'of', 'it', 'that', 'he', 'would', 'absolutely', 'do', 'the', 'right', 'thing'], ['even', 'if', 'he', 'wasn', 't', 'sure'], ['after', 'all', 'it', 'would', 'have', 'been', 'tragic', 'to', 'have', 'spent', 'so', 'much', 'money', 'on', 'radars', 'control', 'towers', 'and', 'radios', 'with', 'the', 'idea', 'of', 'safety', 'in', 'mind', 'only', 'to', 'have', 'a', 'controller', 'decide', 'not', 'to', 'use', 'those', 'tools', 'to', 'help', 'keep', 'me', 'safe'], ['i', 'want', 'my', 'tax', 'money', 'back']] \n",
      " \n",
      "Résumé : bonanza 33 flight instructor reported taking evasive action after atc failed to notify them of traffic for a parallel runway \n"
     ]
    }
   ],
   "source": [
    "printExample(df1, 45)"
   ]
  },
  {
   "cell_type": "code",
   "execution_count": 64,
   "metadata": {
    "scrolled": true
   },
   "outputs": [
    {
     "name": "stdout",
     "output_type": "stream",
     "text": [
      "i was completing my second instructional flight of the day\n",
      "\n",
      "this was a cross country flight meant to prepare my student for his upcoming check ride\n",
      "\n",
      "we departed and proceeded to chd our first airport of landing\n",
      "\n",
      "we called tower and received the following instruction join left base runway 4l report 4 miles\n",
      "\n",
      "we maneuvered for the base and at the appropriate distance made the requisite report\n",
      "\n",
      "as we approached the base to final turn my student was focused on accomplishing a procedural task\n",
      "\n",
      "not wanting to overshoot the centerline for fear of having to maneuver back to the runway i told my student to stop his procedure and turn\n",
      "\n",
      "i was also noting the tcas showing traffic 12 o clock and closing fast\n",
      "\n",
      "as we turned the tcas sounded its alert by that point i already saw the traffic\n",
      "\n",
      "my first thought was this guy must be violating chd s class delta\n",
      "\n",
      "i had not picked anything up over the frequency that he was there\n",
      "\n",
      "nonetheless the traffic was flying parallel to me 0\n",
      "\n",
      "2 nautical miles away at my altitude\n",
      "\n",
      "it looked like there were two people inside hard at work flying their plane\n",
      "\n",
      "i called chd tower and reported that i had traffic just off my right wing in sight\n",
      "\n",
      "tower responded roger he is making right traffic runway 4r\n",
      "\n",
      "i estimate that the centerlines of the two runways at chd are approximately 1 000 ft apart\n",
      "\n",
      "i assume the other aircraft had a true airspeed of 100 knots and that i had a true airspeed of 105 knots\n",
      "\n",
      "this is a best case estimate as it is very easy to be going much faster\n",
      "\n",
      "with some basic math i calculate a closure rate head of of 342 ft per second\n",
      "\n",
      "assuming then that both pilots became momentarily distracted and flew past their centerline i calculate that they would have approximately 2\n",
      "\n",
      "9 seconds to realize their mistake\n",
      "\n",
      "when i reported the traffic to the tower i couldn t help but to feel he was annoyed that i had even brought it up\n",
      "\n",
      "i later had to explain the situation to my student pilot\n",
      "\n",
      "i told him that i disagreed with the way the controller managed the situation\n",
      "\n",
      "i told my student that this was a great lesson\n",
      "\n",
      "i made him promise me that if he ever saw a potentially dangerous situation as a pilot but wasn t sure if it was worth his time to warn somebody of it that he would absolutely do the right thing\n",
      "\n",
      "even if he wasn t sure\n",
      "\n",
      "after all it would have been tragic to have spent so much money on radars control towers and radios with the idea of safety in mind only to have a controller decide not to use those tools to help keep me safe\n",
      "\n",
      "i want my tax money back\n",
      "\n",
      "\n"
     ]
    }
   ],
   "source": [
    "cleanPrint(df1, 45)"
   ]
  },
  {
   "cell_type": "markdown",
   "metadata": {},
   "source": [
    "## Correction de mots"
   ]
  },
  {
   "cell_type": "code",
   "execution_count": 22,
   "metadata": {},
   "outputs": [
    {
     "data": {
      "text/plain": [
       "[('mentioned', 1.0)]"
      ]
     },
     "execution_count": 22,
     "metadata": {},
     "output_type": "execute_result"
    }
   ],
   "source": [
    "from textblob import Word\n",
    "w = Word('mentionned')\n",
    "w.spellcheck()"
   ]
  },
  {
   "cell_type": "code",
   "execution_count": 23,
   "metadata": {},
   "outputs": [],
   "source": [
    "#https://rustyonrampage.github.io/text-mining/2017/11/28/spelling-correction-with-python-and-nltk.html\n",
    "#https://textblob.readthedocs.io/en/dev/quickstart.html#spelling-correction\n",
    "\n",
    "def reduce_lengthening(text):\n",
    "    pattern = re.compile(r\"(.)\\1{2,}\")\n",
    "    return pattern.sub(r\"\\1\\1\", text)\n",
    "\n",
    "\n",
    "# we should introduce a list of technical words as exeptions, in the spirit of stopwords\n",
    "\n",
    "\n",
    "def correctText(text) :\n",
    "    texte = text.copy()\n",
    "    for i, line in enumerate(texte):\n",
    "        for j, word in enumerate(line) :\n",
    "            texte[i][j] = str(TextBlob(reduce_lengthening(word)).correct())\n",
    "    return texte\n",
    "    \n",
    "\n",
    "def formatText2(df) :\n",
    "    dfe = df.copy()\n",
    "    for i in range(len(dfe)) :\n",
    "        text = dfe.ix[i, 1]\n",
    "        new_text = correctText(text)\n",
    "        dfe.set_value(i, 'Description', new_text)\n",
    "    return dfe"
   ]
  },
  {
   "cell_type": "code",
   "execution_count": 24,
   "metadata": {},
   "outputs": [],
   "source": [
    "df2 = formatText2(df1) # change le df !!\n",
    "df1 = formatText1(df)"
   ]
  },
  {
   "cell_type": "code",
   "execution_count": 65,
   "metadata": {},
   "outputs": [
    {
     "name": "stdout",
     "output_type": "stream",
     "text": [
      "Description : [['i', 'was', 'completing', 'my', 'second', 'instructions', 'flight', 'of', 'the', 'day'], ['this', 'was', 'a', 'cross', 'country', 'flight', 'meant', 'to', 'prepare', 'my', 'student', 'for', 'his', 'coming', 'check', 'ride'], ['we', 'departed', 'and', 'proceeded', 'to', 'cod', 'our', 'first', 'airport', 'of', 'landing'], ['we', 'called', 'tower', 'and', 'received', 'the', 'following', 'instruction', 'join', 'left', 'base', 'runaway', 'll', 'report', '4', 'miles'], ['we', 'maneuvered', 'for', 'the', 'base', 'and', 'at', 'the', 'appropriate', 'distance', 'made', 'the', 'requisite', 'report'], ['as', 'we', 'approached', 'the', 'base', 'to', 'final', 'turn', 'my', 'student', 'was', 'focused', 'on', 'accomplishing', 'a', 'procedure', 'task'], ['not', 'wanting', 'to', 'overshoes', 'the', 'centerline', 'for', 'fear', 'of', 'having', 'to', 'maneuver', 'back', 'to', 'the', 'runaway', 'i', 'told', 'my', 'student', 'to', 'stop', 'his', 'procedure', 'and', 'turn'], ['i', 'was', 'also', 'noting', 'the', 'twas', 'showing', 'traffic', '12', 'o', 'clock', 'and', 'closing', 'fast'], ['as', 'we', 'turned', 'the', 'twas', 'sounded', 'its', 'alert', 'by', 'that', 'point', 'i', 'already', 'saw', 'the', 'traffic'], ['my', 'first', 'thought', 'was', 'this', 'guy', 'must', 'be', 'violating', 'cod', 's', 'class', 'felt'], ['i', 'had', 'not', 'picked', 'anything', 'up', 'over', 'the', 'frequency', 'that', 'he', 'was', 'there'], ['nonetheless', 'the', 'traffic', 'was', 'flying', 'parallel', 'to', 'me', '0'], ['2', 'nautical', 'miles', 'away', 'at', 'my', 'attitude'], ['it', 'looked', 'like', 'there', 'were', 'two', 'people', 'inside', 'hard', 'at', 'work', 'flying', 'their', 'plane'], ['i', 'called', 'cod', 'tower', 'and', 'reported', 'that', 'i', 'had', 'traffic', 'just', 'off', 'my', 'right', 'wing', 'in', 'sight'], ['tower', 'responded', 'roger', 'he', 'is', 'making', 'right', 'traffic', 'runaway', 'or'], ['i', 'estimate', 'that', 'the', 'interlines', 'of', 'the', 'two', 'sundays', 'at', 'cod', 'are', 'approximately', '1', '00', 'ft', 'apart'], ['i', 'assume', 'the', 'other', 'aircraft', 'had', 'a', 'true', 'airspeed', 'of', '100', 'knots', 'and', 'that', 'i', 'had', 'a', 'true', 'airspeed', 'of', '105', 'knots'], ['this', 'is', 'a', 'best', 'case', 'estimate', 'as', 'it', 'is', 'very', 'easy', 'to', 'be', 'going', 'much', 'faster'], ['with', 'some', 'basic', 'path', 'i', 'calculate', 'a', 'closure', 'rate', 'head', 'of', 'of', '342', 'ft', 'per', 'second'], ['assuming', 'then', 'that', 'both', 'pilots', 'became', 'momentarily', 'distracted', 'and', 'flew', 'past', 'their', 'centerline', 'i', 'calculate', 'that', 'they', 'would', 'have', 'approximately', '2'], ['9', 'seconds', 'to', 'realize', 'their', 'mistake'], ['when', 'i', 'reported', 'the', 'traffic', 'to', 'the', 'tower', 'i', 'couldn', 't', 'help', 'but', 'to', 'feel', 'he', 'was', 'annoyed', 'that', 'i', 'had', 'even', 'brought', 'it', 'up'], ['i', 'later', 'had', 'to', 'explain', 'the', 'situation', 'to', 'my', 'student', 'pilot'], ['i', 'told', 'him', 'that', 'i', 'disagreed', 'with', 'the', 'way', 'the', 'controller', 'managed', 'the', 'situation'], ['i', 'told', 'my', 'student', 'that', 'this', 'was', 'a', 'great', 'lesson'], ['i', 'made', 'him', 'promise', 'me', 'that', 'if', 'he', 'ever', 'saw', 'a', 'potentially', 'dangerous', 'situation', 'as', 'a', 'pilot', 'but', 'wasn', 't', 'sure', 'if', 'it', 'was', 'worth', 'his', 'time', 'to', 'warn', 'somebody', 'of', 'it', 'that', 'he', 'would', 'absolutely', 'do', 'the', 'right', 'thing'], ['even', 'if', 'he', 'wasn', 't', 'sure'], ['after', 'all', 'it', 'would', 'have', 'been', 'tragic', 'to', 'have', 'spent', 'so', 'much', 'money', 'on', 'adams', 'control', 'towers', 'and', 'radius', 'with', 'the', 'idea', 'of', 'safety', 'in', 'mind', 'only', 'to', 'have', 'a', 'controller', 'decide', 'not', 'to', 'use', 'those', 'tools', 'to', 'help', 'keep', 'me', 'safe'], ['i', 'want', 'my', 'tax', 'money', 'back']] \n",
      " \n",
      "Résumé : bonanza 33 flight instructor reported taking evasive action after atc failed to notify them of traffic for a parallel runway \n"
     ]
    }
   ],
   "source": [
    "printExample(df2, 45)"
   ]
  },
  {
   "cell_type": "code",
   "execution_count": 66,
   "metadata": {
    "scrolled": true
   },
   "outputs": [
    {
     "name": "stdout",
     "output_type": "stream",
     "text": [
      "i was completing my second instructions flight of the day\n",
      "\n",
      "this was a cross country flight meant to prepare my student for his coming check ride\n",
      "\n",
      "we departed and proceeded to cod our first airport of landing\n",
      "\n",
      "we called tower and received the following instruction join left base runaway ll report 4 miles\n",
      "\n",
      "we maneuvered for the base and at the appropriate distance made the requisite report\n",
      "\n",
      "as we approached the base to final turn my student was focused on accomplishing a procedure task\n",
      "\n",
      "not wanting to overshoes the centerline for fear of having to maneuver back to the runaway i told my student to stop his procedure and turn\n",
      "\n",
      "i was also noting the twas showing traffic 12 o clock and closing fast\n",
      "\n",
      "as we turned the twas sounded its alert by that point i already saw the traffic\n",
      "\n",
      "my first thought was this guy must be violating cod s class felt\n",
      "\n",
      "i had not picked anything up over the frequency that he was there\n",
      "\n",
      "nonetheless the traffic was flying parallel to me 0\n",
      "\n",
      "2 nautical miles away at my attitude\n",
      "\n",
      "it looked like there were two people inside hard at work flying their plane\n",
      "\n",
      "i called cod tower and reported that i had traffic just off my right wing in sight\n",
      "\n",
      "tower responded roger he is making right traffic runaway or\n",
      "\n",
      "i estimate that the interlines of the two sundays at cod are approximately 1 00 ft apart\n",
      "\n",
      "i assume the other aircraft had a true airspeed of 100 knots and that i had a true airspeed of 105 knots\n",
      "\n",
      "this is a best case estimate as it is very easy to be going much faster\n",
      "\n",
      "with some basic path i calculate a closure rate head of of 342 ft per second\n",
      "\n",
      "assuming then that both pilots became momentarily distracted and flew past their centerline i calculate that they would have approximately 2\n",
      "\n",
      "9 seconds to realize their mistake\n",
      "\n",
      "when i reported the traffic to the tower i couldn t help but to feel he was annoyed that i had even brought it up\n",
      "\n",
      "i later had to explain the situation to my student pilot\n",
      "\n",
      "i told him that i disagreed with the way the controller managed the situation\n",
      "\n",
      "i told my student that this was a great lesson\n",
      "\n",
      "i made him promise me that if he ever saw a potentially dangerous situation as a pilot but wasn t sure if it was worth his time to warn somebody of it that he would absolutely do the right thing\n",
      "\n",
      "even if he wasn t sure\n",
      "\n",
      "after all it would have been tragic to have spent so much money on adams control towers and radius with the idea of safety in mind only to have a controller decide not to use those tools to help keep me safe\n",
      "\n",
      "i want my tax money back\n",
      "\n",
      "\n"
     ]
    }
   ],
   "source": [
    "cleanPrint(df2, 45)"
   ]
  },
  {
   "cell_type": "markdown",
   "metadata": {},
   "source": [
    "## I.3 Racinisation de mots"
   ]
  },
  {
   "cell_type": "code",
   "execution_count": 27,
   "metadata": {},
   "outputs": [],
   "source": [
    "def stemming(text):\n",
    "    texte = text.copy()\n",
    "    for i, line in enumerate(texte):\n",
    "        for j, word in enumerate(line) :\n",
    "            texte[i][j] = PorterStemmer().stem(word)\n",
    "    return texte\n",
    "\n",
    "\n",
    "def formatText3(df) :\n",
    "    dfe = df.copy()\n",
    "    for i in range(len(dfe)) :\n",
    "        text = dfe.ix[i, 1]\n",
    "        new_text = stemming(text)\n",
    "        dfe.set_value(i, 'Description', new_text)\n",
    "    return dfe"
   ]
  },
  {
   "cell_type": "code",
   "execution_count": 28,
   "metadata": {},
   "outputs": [],
   "source": [
    "df3 = formatText3(df2) # Change le df!!!!!\n",
    "df2 = formatText2(df1)\n",
    "df1 = formatText1(df)"
   ]
  },
  {
   "cell_type": "code",
   "execution_count": 67,
   "metadata": {
    "scrolled": true
   },
   "outputs": [
    {
     "name": "stdout",
     "output_type": "stream",
     "text": [
      "i wa complet my second instruct flight of the day\n",
      "\n",
      "thi wa a cross countri flight meant to prepar my student for hi come check ride\n",
      "\n",
      "we depart and proceed to cod our first airport of land\n",
      "\n",
      "we call tower and receiv the follow instruct join left base runaway ll report 4 mile\n",
      "\n",
      "we maneuv for the base and at the appropri distanc made the requisit report\n",
      "\n",
      "as we approach the base to final turn my student wa focus on accomplish a procedur task\n",
      "\n",
      "not want to oversho the centerlin for fear of have to maneuv back to the runaway i told my student to stop hi procedur and turn\n",
      "\n",
      "i wa also note the twa show traffic 12 o clock and close fast\n",
      "\n",
      "as we turn the twa sound it alert by that point i alreadi saw the traffic\n",
      "\n",
      "my first thought wa thi guy must be violat cod s class felt\n",
      "\n",
      "i had not pick anyth up over the frequenc that he wa there\n",
      "\n",
      "nonetheless the traffic wa fli parallel to me 0\n",
      "\n",
      "2 nautic mile away at my attitud\n",
      "\n",
      "it look like there were two peopl insid hard at work fli their plane\n",
      "\n",
      "i call cod tower and report that i had traffic just off my right wing in sight\n",
      "\n",
      "tower respond roger he is make right traffic runaway or\n",
      "\n",
      "i estim that the interlin of the two sunday at cod are approxim 1 00 ft apart\n",
      "\n",
      "i assum the other aircraft had a true airspe of 100 knot and that i had a true airspe of 105 knot\n",
      "\n",
      "thi is a best case estim as it is veri easi to be go much faster\n",
      "\n",
      "with some basic path i calcul a closur rate head of of 342 ft per second\n",
      "\n",
      "assum then that both pilot becam momentarili distract and flew past their centerlin i calcul that they would have approxim 2\n",
      "\n",
      "9 second to realiz their mistak\n",
      "\n",
      "when i report the traffic to the tower i couldn t help but to feel he wa annoy that i had even brought it up\n",
      "\n",
      "i later had to explain the situat to my student pilot\n",
      "\n",
      "i told him that i disagre with the way the control manag the situat\n",
      "\n",
      "i told my student that thi wa a great lesson\n",
      "\n",
      "i made him promis me that if he ever saw a potenti danger situat as a pilot but wasn t sure if it wa worth hi time to warn somebodi of it that he would absolut do the right thing\n",
      "\n",
      "even if he wasn t sure\n",
      "\n",
      "after all it would have been tragic to have spent so much money on adam control tower and radiu with the idea of safeti in mind onli to have a control decid not to use those tool to help keep me safe\n",
      "\n",
      "i want my tax money back\n",
      "\n",
      "\n"
     ]
    }
   ],
   "source": [
    "cleanPrint(df3, 45)"
   ]
  },
  {
   "cell_type": "markdown",
   "metadata": {},
   "source": [
    "## I.4 POS tagging de mots"
   ]
  },
  {
   "cell_type": "code",
   "execution_count": 30,
   "metadata": {},
   "outputs": [],
   "source": [
    "def tagging(text):\n",
    "    texte = text.copy()\n",
    "    for i, line in enumerate(texte):\n",
    "        texte[i] = nltk.pos_tag(line)\n",
    "    return texte\n",
    "\n",
    "\n",
    "def formatText4(df) :\n",
    "    dfe = df.copy()\n",
    "    for i in range(len(dfe)) :\n",
    "        text = dfe.ix[i, 1]\n",
    "        new_text = tagging(text)\n",
    "        dfe.set_value(i, 'Description', new_text)\n",
    "    return dfe"
   ]
  },
  {
   "cell_type": "code",
   "execution_count": 31,
   "metadata": {},
   "outputs": [],
   "source": [
    "df4 = formatText4(df2)"
   ]
  },
  {
   "cell_type": "code",
   "execution_count": 32,
   "metadata": {
    "scrolled": true
   },
   "outputs": [
    {
     "name": "stdout",
     "output_type": "stream",
     "text": [
      "Description : [[('i', 'VB'), ('a', 'DT'), ('private', 'JJ'), ('pilot', 'NN'), ('was', 'VBD'), ('getting', 'VBG'), ('dual', 'JJ'), ('instruction', 'NN'), ('in', 'IN'), ('the', 'DT'), ('practice', 'NN'), ('area', 'NN'), ('west', 'NN'), ('of', 'IN'), ('semi', 'NN')], [('we', 'PRP'), ('had', 'VBD'), ('just', 'RB'), ('finished', 'VBN'), ('slow', 'JJ'), ('flight', 'NN'), ('including', 'VBG'), ('turns', 'NNS'), ('of', 'IN'), ('90', 'CD'), ('degrees', 'NNS'), ('albeit', 'IN'), ('with', 'IN'), ('a', 'DT'), ('nose', 'JJ'), ('high', 'JJ'), ('attitude', 'NN')], [('i', 'NN'), ('was', 'VBD'), ('recovering', 'VBG'), ('the', 'DT'), ('plane', 'NN'), ('to', 'TO'), ('straight', 'VB'), ('and', 'CC'), ('level', 'VB'), ('flight', 'NN'), ('in', 'IN'), ('a', 'DT'), ('cruise', 'NN'), ('configuration', 'NN'), ('for', 'IN'), ('the', 'DT'), ('next', 'JJ'), ('maneuver', 'NN')], [('when', 'WRB'), ('i', 'NN'), ('looked', 'VBD'), ('left', 'VBN'), ('to', 'TO'), ('begin', 'VB'), ('a', 'DT'), ('clearing', 'NN'), ('turn', 'NN'), ('i', 'NN'), ('saw', 'VBD'), ('that', 'IN'), ('we', 'PRP'), ('were', 'VBD'), ('overtaking', 'VBG'), ('what', 'WP'), ('appeared', 'VBD'), ('to', 'TO'), ('be', 'VB'), ('a', 'DT'), ('c172', 'NN'), ('at', 'IN'), ('our', 'PRP$'), ('10', 'CD'), ('o', 'NN'), ('clock', 'NN'), ('and', 'CC'), ('about', 'IN'), ('500', 'CD'), ('ft', 'NNS'), ('above', 'IN'), ('us', 'PRP')], [('it', 'PRP'), ('was', 'VBD'), ('close', 'RB'), ('enough', 'JJ'), ('to', 'TO'), ('surprise', 'VB'), ('me', 'PRP'), ('but', 'CC'), ('not', 'RB'), ('close', 'RB'), ('enough', 'JJ'), ('to', 'TO'), ('see', 'VB'), ('the', 'DT'), ('n', 'JJ'), ('number', 'NN')], [('within', 'IN'), ('seconds', 'NNS'), ('we', 'PRP'), ('established', 'VBD'), ('radio', 'NN'), ('contact', 'NN'), ('on', 'IN'), ('the', 'DT'), ('can', 'MD'), ('for', 'IN'), ('dew', 'NN'), ('as', 'IN'), ('is', 'VBZ'), ('customary', 'JJ'), ('for', 'IN'), ('flights', 'NNS'), ('in', 'IN'), ('the', 'DT'), ('practice', 'NN'), ('area', 'NN')], [('we', 'PRP'), ('deconflicted', 'VBD'), ('our', 'PRP$'), ('intentions', 'NNS'), ('and', 'CC'), ('continued', 'VBD'), ('flying', 'VBG')], [('i', 'JJ'), ('believe', 'VBP'), ('we', 'PRP'), ('got', 'VBD'), ('into', 'IN'), ('this', 'DT'), ('situation', 'NN'), ('because', 'IN'), ('i', 'JJ'), ('fixed', 'VBN'), ('on', 'IN'), ('the', 'DT'), ('manifold', 'JJ'), ('pressure', 'NN'), ('and', 'CC'), ('rum', 'NN'), ('gauge', 'NN')], [('my', 'PRP$'), ('outside', 'JJ'), ('scan', 'NN'), ('was', 'VBD'), ('just', 'RB'), ('a', 'DT'), ('quick', 'JJ'), ('glance', 'NN'), ('at', 'IN'), ('the', 'DT'), ('horizon', 'NN'), ('and', 'CC'), ('did', 'VBD'), ('not', 'RB'), ('include', 'VB'), ('time', 'NN'), ('for', 'IN'), ('a', 'DT'), ('traffic', 'NN'), ('scan', 'NN')], [('i', 'NN'), ('had', 'VBD'), ('portable', 'JJ'), ('as', 'IN'), ('b', 'NN'), ('receiver', 'NN'), ('operating', 'NN'), ('but', 'CC'), ('was', 'VBD'), ('paying', 'VBG'), ('attention', 'NN'), ('to', 'TO'), ('the', 'DT'), ('display', 'NN')], [('also', 'RB'), ('segmenting', 'VBG'), ('the', 'DT'), ('flying', 'VBG'), ('into', 'IN'), ('individual', 'JJ'), ('maneuvers', 'NNS'), ('that', 'IN'), ('each', 'DT'), ('started', 'VBD'), ('with', 'IN'), ('clearing', 'NN'), ('turns', 'NNS'), ('took', 'VBD'), ('away', 'RP'), ('focus', 'NN'), ('on', 'IN'), ('looking', 'VBG'), ('for', 'IN'), ('traffic', 'NN'), ('at', 'IN'), ('other', 'JJ'), ('times', 'NNS'), ('in', 'IN'), ('the', 'DT'), ('flight', 'NN')]] \n",
      " \n",
      "Résumé : ga pilot reported an airborne conflict during a training flight near dmw \n"
     ]
    }
   ],
   "source": [
    "printExample(df4, 8)"
   ]
  },
  {
   "cell_type": "code",
   "execution_count": 71,
   "metadata": {},
   "outputs": [
    {
     "name": "stdout",
     "output_type": "stream",
     "text": [
      "$: dollar\n",
      "    $ -$ --$ A$ C$ HK$ M$ NZ$ S$ U.S.$ US$\n",
      "'': closing quotation mark\n",
      "    ' ''\n",
      "(: opening parenthesis\n",
      "    ( [ {\n",
      "): closing parenthesis\n",
      "    ) ] }\n",
      ",: comma\n",
      "    ,\n",
      "--: dash\n",
      "    --\n",
      ".: sentence terminator\n",
      "    . ! ?\n",
      ":: colon or ellipsis\n",
      "    : ; ...\n",
      "CC: conjunction, coordinating\n",
      "    & 'n and both but either et for less minus neither nor or plus so\n",
      "    therefore times v. versus vs. whether yet\n",
      "CD: numeral, cardinal\n",
      "    mid-1890 nine-thirty forty-two one-tenth ten million 0.5 one forty-\n",
      "    seven 1987 twenty '79 zero two 78-degrees eighty-four IX '60s .025\n",
      "    fifteen 271,124 dozen quintillion DM2,000 ...\n",
      "DT: determiner\n",
      "    all an another any both del each either every half la many much nary\n",
      "    neither no some such that the them these this those\n",
      "EX: existential there\n",
      "    there\n",
      "FW: foreign word\n",
      "    gemeinschaft hund ich jeux habeas Haementeria Herr K'ang-si vous\n",
      "    lutihaw alai je jour objets salutaris fille quibusdam pas trop Monte\n",
      "    terram fiche oui corporis ...\n",
      "IN: preposition or conjunction, subordinating\n",
      "    astride among uppon whether out inside pro despite on by throughout\n",
      "    below within for towards near behind atop around if like until below\n",
      "    next into if beside ...\n",
      "JJ: adjective or numeral, ordinal\n",
      "    third ill-mannered pre-war regrettable oiled calamitous first separable\n",
      "    ectoplasmic battery-powered participatory fourth still-to-be-named\n",
      "    multilingual multi-disciplinary ...\n",
      "JJR: adjective, comparative\n",
      "    bleaker braver breezier briefer brighter brisker broader bumper busier\n",
      "    calmer cheaper choosier cleaner clearer closer colder commoner costlier\n",
      "    cozier creamier crunchier cuter ...\n",
      "JJS: adjective, superlative\n",
      "    calmest cheapest choicest classiest cleanest clearest closest commonest\n",
      "    corniest costliest crassest creepiest crudest cutest darkest deadliest\n",
      "    dearest deepest densest dinkiest ...\n",
      "LS: list item marker\n",
      "    A A. B B. C C. D E F First G H I J K One SP-44001 SP-44002 SP-44005\n",
      "    SP-44007 Second Third Three Two * a b c d first five four one six three\n",
      "    two\n",
      "MD: modal auxiliary\n",
      "    can cannot could couldn't dare may might must need ought shall should\n",
      "    shouldn't will would\n",
      "NN: noun, common, singular or mass\n",
      "    common-carrier cabbage knuckle-duster Casino afghan shed thermostat\n",
      "    investment slide humour falloff slick wind hyena override subhumanity\n",
      "    machinist ...\n",
      "NNP: noun, proper, singular\n",
      "    Motown Venneboerger Czestochwa Ranzer Conchita Trumplane Christos\n",
      "    Oceanside Escobar Kreisler Sawyer Cougar Yvette Ervin ODI Darryl CTCA\n",
      "    Shannon A.K.C. Meltex Liverpool ...\n",
      "NNPS: noun, proper, plural\n",
      "    Americans Americas Amharas Amityvilles Amusements Anarcho-Syndicalists\n",
      "    Andalusians Andes Andruses Angels Animals Anthony Antilles Antiques\n",
      "    Apache Apaches Apocrypha ...\n",
      "NNS: noun, common, plural\n",
      "    undergraduates scotches bric-a-brac products bodyguards facets coasts\n",
      "    divestitures storehouses designs clubs fragrances averages\n",
      "    subjectivists apprehensions muses factory-jobs ...\n",
      "PDT: pre-determiner\n",
      "    all both half many quite such sure this\n",
      "POS: genitive marker\n",
      "    ' 's\n",
      "PRP: pronoun, personal\n",
      "    hers herself him himself hisself it itself me myself one oneself ours\n",
      "    ourselves ownself self she thee theirs them themselves they thou thy us\n",
      "PRP$: pronoun, possessive\n",
      "    her his mine my our ours their thy your\n",
      "RB: adverb\n",
      "    occasionally unabatingly maddeningly adventurously professedly\n",
      "    stirringly prominently technologically magisterially predominately\n",
      "    swiftly fiscally pitilessly ...\n",
      "RBR: adverb, comparative\n",
      "    further gloomier grander graver greater grimmer harder harsher\n",
      "    healthier heavier higher however larger later leaner lengthier less-\n",
      "    perfectly lesser lonelier longer louder lower more ...\n",
      "RBS: adverb, superlative\n",
      "    best biggest bluntest earliest farthest first furthest hardest\n",
      "    heartiest highest largest least less most nearest second tightest worst\n",
      "RP: particle\n",
      "    aboard about across along apart around aside at away back before behind\n",
      "    by crop down ever fast for forth from go high i.e. in into just later\n",
      "    low more off on open out over per pie raising start teeth that through\n",
      "    under unto up up-pp upon whole with you\n",
      "SYM: symbol\n",
      "    % & ' '' ''. ) ). * + ,. < = > @ A[fj] U.S U.S.S.R * ** ***\n",
      "TO: \"to\" as preposition or infinitive marker\n",
      "    to\n",
      "UH: interjection\n",
      "    Goodbye Goody Gosh Wow Jeepers Jee-sus Hubba Hey Kee-reist Oops amen\n",
      "    huh howdy uh dammit whammo shucks heck anyways whodunnit honey golly\n",
      "    man baby diddle hush sonuvabitch ...\n",
      "VB: verb, base form\n",
      "    ask assemble assess assign assume atone attention avoid bake balkanize\n",
      "    bank begin behold believe bend benefit bevel beware bless boil bomb\n",
      "    boost brace break bring broil brush build ...\n",
      "VBD: verb, past tense\n",
      "    dipped pleaded swiped regummed soaked tidied convened halted registered\n",
      "    cushioned exacted snubbed strode aimed adopted belied figgered\n",
      "    speculated wore appreciated contemplated ...\n",
      "VBG: verb, present participle or gerund\n",
      "    telegraphing stirring focusing angering judging stalling lactating\n",
      "    hankerin' alleging veering capping approaching traveling besieging\n",
      "    encrypting interrupting erasing wincing ...\n",
      "VBN: verb, past participle\n",
      "    multihulled dilapidated aerosolized chaired languished panelized used\n",
      "    experimented flourished imitated reunifed factored condensed sheared\n",
      "    unsettled primed dubbed desired ...\n",
      "VBP: verb, present tense, not 3rd person singular\n",
      "    predominate wrap resort sue twist spill cure lengthen brush terminate\n",
      "    appear tend stray glisten obtain comprise detest tease attract\n",
      "    emphasize mold postpone sever return wag ...\n",
      "VBZ: verb, present tense, 3rd person singular\n",
      "    bases reconstructs marks mixes displeases seals carps weaves snatches\n",
      "    slumps stretches authorizes smolders pictures emerges stockpiles\n",
      "    seduces fizzes uses bolsters slaps speaks pleads ...\n",
      "WDT: WH-determiner\n",
      "    that what whatever which whichever\n",
      "WP: WH-pronoun\n",
      "    that what whatever whatsoever which who whom whosoever\n",
      "WP$: WH-pronoun, possessive\n",
      "    whose\n",
      "WRB: Wh-adverb\n",
      "    how however whence whenever where whereby whereever wherein whereof why\n",
      "``: opening quotation mark\n",
      "    ` ``\n"
     ]
    }
   ],
   "source": [
    "nltk.help.upenn_tagset()"
   ]
  },
  {
   "cell_type": "markdown",
   "metadata": {},
   "source": [
    "## II.1 Création de langage\n",
    "\n"
   ]
  },
  {
   "cell_type": "code",
   "execution_count": 36,
   "metadata": {},
   "outputs": [],
   "source": [
    "SOS_token = 0\n",
    "EOS_token = 1\n",
    "UNK_token = 2\n",
    "\n",
    "class Lang:\n",
    "    def __init__(self, name):\n",
    "        self.name = name\n",
    "        self.word2index = {}\n",
    "        self.word2count = {}\n",
    "        self.index2word = {}\n",
    "        self.n_words = 0\n",
    "\n",
    "        \n",
    "    def addWord(self, word):\n",
    "        '''Add a word to the language'''\n",
    "        if word not in self.word2index:\n",
    "            self.word2index[word] = self.n_words\n",
    "            self.word2count[word] = 1\n",
    "            self.index2word[self.n_words] = word\n",
    "            self.n_words += 1\n",
    "        else:\n",
    "            self.word2count[word] += 1\n",
    "            \n",
    "            \n",
    "    def addSentence(self, sentence):\n",
    "        '''Add to the language all words of a sentence'''\n",
    "        if type(sentence) == str :\n",
    "            for word in sentence.split():\n",
    "                self.addWord(word)\n",
    "        elif type(sentence) == list :\n",
    "            for word in sentence:\n",
    "                self.addWord(word)            \n",
    "            \n",
    "            \n",
    "    def addDescriptions(self, descriptions):\n",
    "        '''Add to the language all words contained into : either all user utterances \n",
    "          (if i = 0) or all bot utterances (if i = 1), of a list of dialogues'''\n",
    "        for description in descriptions :\n",
    "            \n",
    "            # si la description est une seule ligne\n",
    "            if type(description) == str :\n",
    "                    try :\n",
    "                        self.addSentence(description)\n",
    "                    except IndexError:\n",
    "                        print(\"Problem with {}\".format(description))\n",
    "                        \n",
    "            # si la description est une liste de lignes\n",
    "            elif type(description) == list :\n",
    "                for line in description:\n",
    "                    try :\n",
    "                        self.addSentence(line)\n",
    "                    except IndexError:\n",
    "                        print(\"Problem with {}\".format(line))\n",
    "                              \n",
    "            # sinon\n",
    "            else :\n",
    "                print(\"Problem with {}\".format(description))"
   ]
  },
  {
   "cell_type": "code",
   "execution_count": 34,
   "metadata": {},
   "outputs": [],
   "source": [
    "def generateLanguages(df):\n",
    "    descriptions = df.ix[:, 1].values\n",
    "    resumes = df.ix[:, 2].values\n",
    "    lang = Lang('descriptions')\n",
    "    lang.addDescriptions(descriptions)\n",
    "    lang.addDescriptions(resumes)\n",
    "    print(\"Mots comptés : \", lang.n_words)\n",
    "    return lang"
   ]
  },
  {
   "cell_type": "code",
   "execution_count": 37,
   "metadata": {},
   "outputs": [
    {
     "name": "stdout",
     "output_type": "stream",
     "text": [
      "Mots comptés :  2439\n",
      "Mots comptés :  2347\n",
      "Mots comptés :  1994\n"
     ]
    }
   ],
   "source": [
    "lang1 = generateLanguages(df1)\n",
    "lang2 = generateLanguages(df2) # with corrections\n",
    "lang3 = generateLanguages(df3) # with corrections + stemming"
   ]
  },
  {
   "cell_type": "markdown",
   "metadata": {},
   "source": [
    "### Comparaison avec des langages word2vec/GloVe"
   ]
  },
  {
   "cell_type": "code",
   "execution_count": 38,
   "metadata": {},
   "outputs": [],
   "source": [
    "# tiré de http://mccormickml.com/2016/04/12/googles-pretrained-word2vec-model-in-python/\n",
    "# pour entrainer un word2vec avec gensim : https://github.com/kavgan/nlp-text-mining-working-examples/blob/master/word2vec/Word2Vec.ipynb\n",
    "\n",
    "full_language = gensim.models.KeyedVectors.load_word2vec_format(path_to_rep + '\\data\\word_vectors\\GoogleNews-vectors-negative300.bin', binary=True)\n",
    "vocab_word2vec = list(full_language.vocab.keys())"
   ]
  },
  {
   "cell_type": "code",
   "execution_count": 39,
   "metadata": {},
   "outputs": [],
   "source": [
    "#taken from https://medium.com/@martinpella/how-to-use-pre-trained-word-embeddings-in-pytorch-71ca59249f76\n",
    "def vocabGlove(name) :\n",
    "    words = []\n",
    "    path = path_to_rep + '/data/word_vectors/GloVe/' + name \n",
    "    with open(path + '.txt', 'rb') as f:\n",
    "        for l in f:\n",
    "            line = l.decode().split()\n",
    "            word = line[0]\n",
    "            words.append(word)\n",
    "    return words\n",
    "\n",
    "vocab_glove = vocabGlove('glove_840B_300d') # ('glove.6B.50d')"
   ]
  },
  {
   "cell_type": "code",
   "execution_count": 40,
   "metadata": {},
   "outputs": [
    {
     "data": {
      "text/plain": [
       "2196017"
      ]
     },
     "execution_count": 40,
     "metadata": {},
     "output_type": "execute_result"
    }
   ],
   "source": [
    "len(vocab_glove)"
   ]
  },
  {
   "cell_type": "code",
   "execution_count": 41,
   "metadata": {},
   "outputs": [],
   "source": [
    "def intersection(lst1, lst2): \n",
    "    return list(set(lst1) & set(lst2))\n",
    "\n",
    "\n",
    "def printComparaison(nom, vocab_lang, intersect, reste) :\n",
    "    print('proportion de mots du langage appartenants à {}  {:.2f} % \\nproportion de mots du langage ny appartenant pas       {:.2f} %'.format(nom, len(intersect)*100/len(vocab_lang),len(reste)*100/len(vocab_lang) ) )\n",
    "\n",
    "\n",
    "def comparaison(lang) :\n",
    "    vocab_lang = list(lang.word2index.keys())\n",
    "    intersect_word2vec = intersection(vocab_word2vec, vocab_lang)\n",
    "    reste_word2vec = np.setdiff1d(vocab_lang, intersect_word2vec)\n",
    "    intersect_glove = intersection(vocab_glove, vocab_lang)\n",
    "    reste_glove = np.setdiff1d(vocab_lang, intersect_glove)\n",
    "    printComparaison('word2vec', vocab_lang, intersect_word2vec, reste_word2vec)\n",
    "    printComparaison('glove   ', vocab_lang, intersect_glove, reste_glove)\n",
    "    return intersect_word2vec, reste_word2vec, intersect_glove, reste_glove"
   ]
  },
  {
   "cell_type": "code",
   "execution_count": 42,
   "metadata": {},
   "outputs": [
    {
     "name": "stdout",
     "output_type": "stream",
     "text": [
      "proportion de mots du langage appartenants à word2vec  91.80 % \n",
      "proportion de mots du langage ny appartenant pas       8.20 %\n",
      "proportion de mots du langage appartenants à glove     97.83 % \n",
      "proportion de mots du langage ny appartenant pas       2.17 %\n"
     ]
    }
   ],
   "source": [
    "intersect1_word2vec, reste1_word2vec, intersect1_glove, reste1_glove = comparaison(lang1)"
   ]
  },
  {
   "cell_type": "code",
   "execution_count": 43,
   "metadata": {},
   "outputs": [
    {
     "name": "stdout",
     "output_type": "stream",
     "text": [
      "proportion de mots du langage appartenants à word2vec  93.57 % \n",
      "proportion de mots du langage ny appartenant pas       6.43 %\n",
      "proportion de mots du langage appartenants à glove     98.55 % \n",
      "proportion de mots du langage ny appartenant pas       1.45 %\n"
     ]
    }
   ],
   "source": [
    "intersect2_word2vec, reste2_word2vec, intersect2_glove, reste2_glove = comparaison(lang2)"
   ]
  },
  {
   "cell_type": "code",
   "execution_count": 44,
   "metadata": {},
   "outputs": [
    {
     "name": "stdout",
     "output_type": "stream",
     "text": [
      "proportion de mots du langage appartenants à word2vec  76.48 % \n",
      "proportion de mots du langage ny appartenant pas       23.52 %\n",
      "proportion de mots du langage appartenants à glove     92.23 % \n",
      "proportion de mots du langage ny appartenant pas       7.77 %\n"
     ]
    }
   ],
   "source": [
    "intersect3_word2vec, reste3_word2vec, intersect3_glove, reste3_glove = comparaison(lang3)"
   ]
  },
  {
   "cell_type": "code",
   "execution_count": 45,
   "metadata": {},
   "outputs": [
    {
     "name": "stdout",
     "output_type": "stream",
     "text": [
      "34\n"
     ]
    },
    {
     "data": {
      "text/plain": [
       "array(['172rg', '300er', 'autothrottles', 'b747', 'b767', 'b777', 'c172',\n",
       "       'ce560xl', 'deconflicted', 'doobi2', 'egpws', 'eicas', 'fl090',\n",
       "       'fl165', 'fl200', 'fl200s', 'fl220', 'fl230', 'fl270', 'fl360',\n",
       "       'fl370', 'fl390', 'fl400', 'fliteview', 'gpws', 'interlines',\n",
       "       'jetblast', 'nmac', 'qrh', 'rnav', 'roylott', 'tracon', 'zeekk2',\n",
       "       'zny'], dtype='<U15')"
      ]
     },
     "execution_count": 45,
     "metadata": {},
     "output_type": "execute_result"
    }
   ],
   "source": [
    "print(len(reste2_glove))\n",
    "reste2_glove"
   ]
  },
  {
   "cell_type": "markdown",
   "metadata": {},
   "source": [
    "**Inférence des espaces manquants**"
   ]
  },
  {
   "cell_type": "code",
   "execution_count": 46,
   "metadata": {},
   "outputs": [
    {
     "data": {
      "text/plain": [
       "'unknown within'"
      ]
     },
     "execution_count": 46,
     "metadata": {},
     "output_type": "execute_result"
    }
   ],
   "source": [
    "def checkWhetherBroken(vocab, clean_vocab) :\n",
    "    exit = {}\n",
    "    for word in vocab :\n",
    "        exit[word] = True if word in clean_vocab else False\n",
    "    return exit\n",
    "\n",
    "def checkMissingSpaces(word, clean_vocab) :\n",
    "    for word2 in clean_vocab :\n",
    "        if word.startswith(word2) :\n",
    "            rest = word.replace(word2, '')\n",
    "            if rest in clean_vocab :\n",
    "                return word2 + ' ' + rest\n",
    "    return word\n",
    "\n",
    "checkMissingSpaces('unknownwithin', lang2.word2index.keys())"
   ]
  },
  {
   "cell_type": "markdown",
   "metadata": {},
   "source": [
    "**Corrélation entre mots vectorisés avec word2vec**"
   ]
  },
  {
   "cell_type": "code",
   "execution_count": 59,
   "metadata": {},
   "outputs": [
    {
     "data": {
      "text/plain": [
       "0.7856169944530547"
      ]
     },
     "execution_count": 59,
     "metadata": {},
     "output_type": "execute_result"
    }
   ],
   "source": [
    "full_language.similarity('finished', 'finishing')"
   ]
  },
  {
   "cell_type": "code",
   "execution_count": 61,
   "metadata": {},
   "outputs": [
    {
     "data": {
      "text/plain": [
       "0.7360518639176368"
      ]
     },
     "execution_count": 61,
     "metadata": {},
     "output_type": "execute_result"
    }
   ],
   "source": [
    "full_language.similarity('plane', 'aircraft')"
   ]
  },
  {
   "cell_type": "markdown",
   "metadata": {},
   "source": [
    "**Détection des valeurs numériques complexes**"
   ]
  },
  {
   "cell_type": "code",
   "execution_count": 74,
   "metadata": {},
   "outputs": [
    {
     "data": {
      "text/plain": [
       "[('12;000ft', 'CD')]"
      ]
     },
     "execution_count": 74,
     "metadata": {},
     "output_type": "execute_result"
    }
   ],
   "source": [
    "nltk.pos_tag(['12;000ft']) # CD : Numerical value"
   ]
  }
 ],
 "metadata": {
  "kernelspec": {
   "display_name": "Python 3",
   "language": "python",
   "name": "python3"
  },
  "language_info": {
   "codemirror_mode": {
    "name": "ipython",
    "version": 3
   },
   "file_extension": ".py",
   "mimetype": "text/x-python",
   "name": "python",
   "nbconvert_exporter": "python",
   "pygments_lexer": "ipython3",
   "version": "3.7.0"
  }
 },
 "nbformat": 4,
 "nbformat_minor": 2
}
